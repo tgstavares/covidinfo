{
 "cells": [
  {
   "cell_type": "code",
   "execution_count": 3,
   "metadata": {},
   "outputs": [],
   "source": [
    "# Load Libraries\n",
    "\n",
    "import pandas as pd\n",
    "import plotly.graph_objects as go\n",
    "import numpy as np \n",
    "import scipy                       # Statistical inference\n",
    "\n",
    "import wget\n",
    "import zipfile\n",
    "import os\n",
    "\n",
    "from datetime import date"
   ]
  },
  {
   "cell_type": "code",
   "execution_count": 7,
   "metadata": {
    "scrolled": true
   },
   "outputs": [
    {
     "name": "stdout",
     "output_type": "stream",
     "text": [
      "working on: 2020-04-12 4 12\n"
     ]
    },
    {
     "name": "stderr",
     "output_type": "stream",
     "text": [
      "/Users/tgst/opt/anaconda3/lib/python3.7/site-packages/pandas/core/indexing.py:190: SettingWithCopyWarning: \n",
      "A value is trying to be set on a copy of a slice from a DataFrame\n",
      "\n",
      "See the caveats in the documentation: http://pandas.pydata.org/pandas-docs/stable/indexing.html#indexing-view-versus-copy\n",
      "  self._setitem_with_indexer(indexer, value)\n"
     ]
    },
    {
     "name": "stdout",
     "output_type": "stream",
     "text": [
      "working on: 2020-04-13 4 13\n",
      "working on: 2020-04-14 4 14\n",
      "working on: 2020-04-15 4 15\n",
      "working on: 2020-04-16 4 16\n",
      "working on: 2020-04-17 4 17\n",
      "working on: 2020-04-18 4 18\n"
     ]
    },
    {
     "name": "stderr",
     "output_type": "stream",
     "text": [
      "/Users/tgst/opt/anaconda3/lib/python3.7/site-packages/IPython/core/interactiveshell.py:3063: DtypeWarning: Columns (33) have mixed types. Specify dtype option on import or set low_memory=False.\n",
      "  interactivity=interactivity, compiler=compiler, result=result)\n"
     ]
    },
    {
     "name": "stdout",
     "output_type": "stream",
     "text": [
      "working on: 2020-04-19 4 19\n",
      "working on: 2020-04-20 4 20\n",
      "working on: 2020-04-21 4 21\n",
      "working on: 2020-04-22 4 22\n",
      "working on: 2020-04-23 4 23\n",
      "working on: 2020-04-24 4 24\n",
      "working on: 2020-04-25 4 25\n",
      "working on: 2020-04-26 4 26\n",
      "working on: 2020-04-27 4 27\n",
      "working on: 2020-04-28 4 28\n",
      "working on: 2020-04-29 4 29\n",
      "working on: 2020-04-30 4 30\n",
      "working on: 2020-05-01 5 1\n",
      "working on: 2020-05-02 5 2\n",
      "working on: 2020-05-03 5 3\n",
      "working on: 2020-05-04 5 4\n",
      "working on: 2020-05-05 5 5\n",
      "working on: 2020-05-06 5 6\n",
      "working on: 2020-05-07 5 7\n",
      "working on: 2020-05-08 5 8\n",
      "working on: 2020-05-09 5 9\n",
      "working on: 2020-05-10 5 10\n",
      "working on: 2020-05-11 5 11\n",
      "working on: 2020-05-12 5 12\n",
      "working on: 2020-05-13 5 13\n",
      "working on: 2020-05-14 5 14\n",
      "working on: 2020-05-15 5 15\n",
      "working on: 2020-05-16 5 16\n"
     ]
    },
    {
     "ename": "KeyboardInterrupt",
     "evalue": "",
     "output_type": "error",
     "traceback": [
      "\u001b[0;31m---------------------------------------------------------------------------\u001b[0m",
      "\u001b[0;31mKeyboardInterrupt\u001b[0m                         Traceback (most recent call last)",
      "\u001b[0;32m<ipython-input-7-d8fa1b5beaf7>\u001b[0m in \u001b[0;36m<module>\u001b[0;34m\u001b[0m\n\u001b[1;32m     32\u001b[0m     \u001b[0mfilenamezip\u001b[0m \u001b[0;34m=\u001b[0m \u001b[0;34m'datos_abiertos_covid19_'\u001b[0m\u001b[0;34m+\u001b[0m\u001b[0mday\u001b[0m\u001b[0;34m+\u001b[0m\u001b[0;34m'.'\u001b[0m\u001b[0;34m+\u001b[0m\u001b[0mmonth\u001b[0m\u001b[0;34m+\u001b[0m\u001b[0;34m'.2020.zip'\u001b[0m\u001b[0;34m\u001b[0m\u001b[0;34m\u001b[0m\u001b[0m\n\u001b[1;32m     33\u001b[0m     \u001b[0murl\u001b[0m \u001b[0;34m=\u001b[0m \u001b[0;34m'http://datosabiertos.salud.gob.mx/gobmx/salud/datos_abiertos/historicos/'\u001b[0m\u001b[0;34m+\u001b[0m\u001b[0mmonth\u001b[0m\u001b[0;34m+\u001b[0m\u001b[0;34m'/'\u001b[0m\u001b[0;34m+\u001b[0m\u001b[0mfilenamezip\u001b[0m\u001b[0;34m\u001b[0m\u001b[0;34m\u001b[0m\u001b[0m\n\u001b[0;32m---> 34\u001b[0;31m     \u001b[0mfilenamezip\u001b[0m \u001b[0;34m=\u001b[0m \u001b[0mwget\u001b[0m\u001b[0;34m.\u001b[0m\u001b[0mdownload\u001b[0m\u001b[0;34m(\u001b[0m\u001b[0murl\u001b[0m\u001b[0;34m)\u001b[0m\u001b[0;34m\u001b[0m\u001b[0;34m\u001b[0m\u001b[0m\n\u001b[0m\u001b[1;32m     35\u001b[0m     \u001b[0;32mwith\u001b[0m \u001b[0mzipfile\u001b[0m\u001b[0;34m.\u001b[0m\u001b[0mZipFile\u001b[0m\u001b[0;34m(\u001b[0m\u001b[0mfilenamezip\u001b[0m\u001b[0;34m,\u001b[0m \u001b[0;34m'r'\u001b[0m\u001b[0;34m)\u001b[0m \u001b[0;32mas\u001b[0m \u001b[0mzip_ref\u001b[0m\u001b[0;34m:\u001b[0m\u001b[0;34m\u001b[0m\u001b[0;34m\u001b[0m\u001b[0m\n\u001b[1;32m     36\u001b[0m         \u001b[0mzip_ref\u001b[0m\u001b[0;34m.\u001b[0m\u001b[0mextractall\u001b[0m\u001b[0;34m(\u001b[0m\u001b[0;34m)\u001b[0m\u001b[0;34m\u001b[0m\u001b[0;34m\u001b[0m\u001b[0m\n",
      "\u001b[0;32m~/opt/anaconda3/lib/python3.7/site-packages/wget.py\u001b[0m in \u001b[0;36mdownload\u001b[0;34m(url, out, bar)\u001b[0m\n\u001b[1;32m    524\u001b[0m     \u001b[0;32melse\u001b[0m\u001b[0;34m:\u001b[0m\u001b[0;34m\u001b[0m\u001b[0;34m\u001b[0m\u001b[0m\n\u001b[1;32m    525\u001b[0m         \u001b[0mbinurl\u001b[0m \u001b[0;34m=\u001b[0m \u001b[0murl\u001b[0m\u001b[0;34m\u001b[0m\u001b[0;34m\u001b[0m\u001b[0m\n\u001b[0;32m--> 526\u001b[0;31m     \u001b[0;34m(\u001b[0m\u001b[0mtmpfile\u001b[0m\u001b[0;34m,\u001b[0m \u001b[0mheaders\u001b[0m\u001b[0;34m)\u001b[0m \u001b[0;34m=\u001b[0m \u001b[0mulib\u001b[0m\u001b[0;34m.\u001b[0m\u001b[0murlretrieve\u001b[0m\u001b[0;34m(\u001b[0m\u001b[0mbinurl\u001b[0m\u001b[0;34m,\u001b[0m \u001b[0mtmpfile\u001b[0m\u001b[0;34m,\u001b[0m \u001b[0mcallback\u001b[0m\u001b[0;34m)\u001b[0m\u001b[0;34m\u001b[0m\u001b[0;34m\u001b[0m\u001b[0m\n\u001b[0m\u001b[1;32m    527\u001b[0m     \u001b[0mfilename\u001b[0m \u001b[0;34m=\u001b[0m \u001b[0mdetect_filename\u001b[0m\u001b[0;34m(\u001b[0m\u001b[0murl\u001b[0m\u001b[0;34m,\u001b[0m \u001b[0mout\u001b[0m\u001b[0;34m,\u001b[0m \u001b[0mheaders\u001b[0m\u001b[0;34m)\u001b[0m\u001b[0;34m\u001b[0m\u001b[0;34m\u001b[0m\u001b[0m\n\u001b[1;32m    528\u001b[0m     \u001b[0;32mif\u001b[0m \u001b[0moutdir\u001b[0m\u001b[0;34m:\u001b[0m\u001b[0;34m\u001b[0m\u001b[0;34m\u001b[0m\u001b[0m\n",
      "\u001b[0;32m~/opt/anaconda3/lib/python3.7/urllib/request.py\u001b[0m in \u001b[0;36murlretrieve\u001b[0;34m(url, filename, reporthook, data)\u001b[0m\n\u001b[1;32m    274\u001b[0m \u001b[0;34m\u001b[0m\u001b[0m\n\u001b[1;32m    275\u001b[0m             \u001b[0;32mwhile\u001b[0m \u001b[0;32mTrue\u001b[0m\u001b[0;34m:\u001b[0m\u001b[0;34m\u001b[0m\u001b[0;34m\u001b[0m\u001b[0m\n\u001b[0;32m--> 276\u001b[0;31m                 \u001b[0mblock\u001b[0m \u001b[0;34m=\u001b[0m \u001b[0mfp\u001b[0m\u001b[0;34m.\u001b[0m\u001b[0mread\u001b[0m\u001b[0;34m(\u001b[0m\u001b[0mbs\u001b[0m\u001b[0;34m)\u001b[0m\u001b[0;34m\u001b[0m\u001b[0;34m\u001b[0m\u001b[0m\n\u001b[0m\u001b[1;32m    277\u001b[0m                 \u001b[0;32mif\u001b[0m \u001b[0;32mnot\u001b[0m \u001b[0mblock\u001b[0m\u001b[0;34m:\u001b[0m\u001b[0;34m\u001b[0m\u001b[0;34m\u001b[0m\u001b[0m\n\u001b[1;32m    278\u001b[0m                     \u001b[0;32mbreak\u001b[0m\u001b[0;34m\u001b[0m\u001b[0;34m\u001b[0m\u001b[0m\n",
      "\u001b[0;32m~/opt/anaconda3/lib/python3.7/http/client.py\u001b[0m in \u001b[0;36mread\u001b[0;34m(self, amt)\u001b[0m\n\u001b[1;32m    455\u001b[0m             \u001b[0;31m# Amount is given, implement using readinto\u001b[0m\u001b[0;34m\u001b[0m\u001b[0;34m\u001b[0m\u001b[0;34m\u001b[0m\u001b[0m\n\u001b[1;32m    456\u001b[0m             \u001b[0mb\u001b[0m \u001b[0;34m=\u001b[0m \u001b[0mbytearray\u001b[0m\u001b[0;34m(\u001b[0m\u001b[0mamt\u001b[0m\u001b[0;34m)\u001b[0m\u001b[0;34m\u001b[0m\u001b[0;34m\u001b[0m\u001b[0m\n\u001b[0;32m--> 457\u001b[0;31m             \u001b[0mn\u001b[0m \u001b[0;34m=\u001b[0m \u001b[0mself\u001b[0m\u001b[0;34m.\u001b[0m\u001b[0mreadinto\u001b[0m\u001b[0;34m(\u001b[0m\u001b[0mb\u001b[0m\u001b[0;34m)\u001b[0m\u001b[0;34m\u001b[0m\u001b[0;34m\u001b[0m\u001b[0m\n\u001b[0m\u001b[1;32m    458\u001b[0m             \u001b[0;32mreturn\u001b[0m \u001b[0mmemoryview\u001b[0m\u001b[0;34m(\u001b[0m\u001b[0mb\u001b[0m\u001b[0;34m)\u001b[0m\u001b[0;34m[\u001b[0m\u001b[0;34m:\u001b[0m\u001b[0mn\u001b[0m\u001b[0;34m]\u001b[0m\u001b[0;34m.\u001b[0m\u001b[0mtobytes\u001b[0m\u001b[0;34m(\u001b[0m\u001b[0;34m)\u001b[0m\u001b[0;34m\u001b[0m\u001b[0;34m\u001b[0m\u001b[0m\n\u001b[1;32m    459\u001b[0m         \u001b[0;32melse\u001b[0m\u001b[0;34m:\u001b[0m\u001b[0;34m\u001b[0m\u001b[0;34m\u001b[0m\u001b[0m\n",
      "\u001b[0;32m~/opt/anaconda3/lib/python3.7/http/client.py\u001b[0m in \u001b[0;36mreadinto\u001b[0;34m(self, b)\u001b[0m\n\u001b[1;32m    499\u001b[0m         \u001b[0;31m# connection, and the user is reading more bytes than will be provided\u001b[0m\u001b[0;34m\u001b[0m\u001b[0;34m\u001b[0m\u001b[0;34m\u001b[0m\u001b[0m\n\u001b[1;32m    500\u001b[0m         \u001b[0;31m# (for example, reading in 1k chunks)\u001b[0m\u001b[0;34m\u001b[0m\u001b[0;34m\u001b[0m\u001b[0;34m\u001b[0m\u001b[0m\n\u001b[0;32m--> 501\u001b[0;31m         \u001b[0mn\u001b[0m \u001b[0;34m=\u001b[0m \u001b[0mself\u001b[0m\u001b[0;34m.\u001b[0m\u001b[0mfp\u001b[0m\u001b[0;34m.\u001b[0m\u001b[0mreadinto\u001b[0m\u001b[0;34m(\u001b[0m\u001b[0mb\u001b[0m\u001b[0;34m)\u001b[0m\u001b[0;34m\u001b[0m\u001b[0;34m\u001b[0m\u001b[0m\n\u001b[0m\u001b[1;32m    502\u001b[0m         \u001b[0;32mif\u001b[0m \u001b[0;32mnot\u001b[0m \u001b[0mn\u001b[0m \u001b[0;32mand\u001b[0m \u001b[0mb\u001b[0m\u001b[0;34m:\u001b[0m\u001b[0;34m\u001b[0m\u001b[0;34m\u001b[0m\u001b[0m\n\u001b[1;32m    503\u001b[0m             \u001b[0;31m# Ideally, we would raise IncompleteRead if the content-length\u001b[0m\u001b[0;34m\u001b[0m\u001b[0;34m\u001b[0m\u001b[0;34m\u001b[0m\u001b[0m\n",
      "\u001b[0;32m~/opt/anaconda3/lib/python3.7/socket.py\u001b[0m in \u001b[0;36mreadinto\u001b[0;34m(self, b)\u001b[0m\n\u001b[1;32m    587\u001b[0m         \u001b[0;32mwhile\u001b[0m \u001b[0;32mTrue\u001b[0m\u001b[0;34m:\u001b[0m\u001b[0;34m\u001b[0m\u001b[0;34m\u001b[0m\u001b[0m\n\u001b[1;32m    588\u001b[0m             \u001b[0;32mtry\u001b[0m\u001b[0;34m:\u001b[0m\u001b[0;34m\u001b[0m\u001b[0;34m\u001b[0m\u001b[0m\n\u001b[0;32m--> 589\u001b[0;31m                 \u001b[0;32mreturn\u001b[0m \u001b[0mself\u001b[0m\u001b[0;34m.\u001b[0m\u001b[0m_sock\u001b[0m\u001b[0;34m.\u001b[0m\u001b[0mrecv_into\u001b[0m\u001b[0;34m(\u001b[0m\u001b[0mb\u001b[0m\u001b[0;34m)\u001b[0m\u001b[0;34m\u001b[0m\u001b[0;34m\u001b[0m\u001b[0m\n\u001b[0m\u001b[1;32m    590\u001b[0m             \u001b[0;32mexcept\u001b[0m \u001b[0mtimeout\u001b[0m\u001b[0;34m:\u001b[0m\u001b[0;34m\u001b[0m\u001b[0;34m\u001b[0m\u001b[0m\n\u001b[1;32m    591\u001b[0m                 \u001b[0mself\u001b[0m\u001b[0;34m.\u001b[0m\u001b[0m_timeout_occurred\u001b[0m \u001b[0;34m=\u001b[0m \u001b[0;32mTrue\u001b[0m\u001b[0;34m\u001b[0m\u001b[0;34m\u001b[0m\u001b[0m\n",
      "\u001b[0;31mKeyboardInterrupt\u001b[0m: "
     ]
    }
   ],
   "source": [
    "# Download the entire raw data and build a new dataset with specific selections - as reported!!\n",
    "\n",
    "# Data address: https://www.gob.mx/salud/documentos/datos-abiertos-152127\n",
    "\n",
    "# Dates from when we have historical data\n",
    "start_date = date(2020, 4, 12)\n",
    "end_date = date(2020, 10, 5)\n",
    "dateseries = [date.fromordinal(i) for i in range(start_date.toordinal(), end_date.toordinal()+1)]\n",
    "\n",
    "# Empty dataset\n",
    "columns    = ['Cases_Mexico','Cases_Jalisco','Deaths_Mexico','Deaths_Jalisco']\n",
    "df         = pd.DataFrame(index=dateseries,columns=columns)\n",
    "df         = df.reset_index()\n",
    "df         = df.rename(columns={\"index\": \"date\"})\n",
    "df['date'] = pd.to_datetime(df['date'])\n",
    "\n",
    "# Loop work\n",
    "for i in dateseries:\n",
    "    print('working on:',i,i.month,i.day)\n",
    "    \n",
    "    # Extract month and day\n",
    "    if i.month<10:\n",
    "        month = str(0)+str(i.month)\n",
    "    else:\n",
    "        month = str(i.month)\n",
    "    if i.day<10:    \n",
    "        day   = str(0)+str(i.day)\n",
    "    else:   \n",
    "        day   = str(i.day)\n",
    "        \n",
    "    # Apply them to the url and file to be downloaded\n",
    "    filenamezip = 'datos_abiertos_covid19_'+day+'.'+month+'.2020.zip'\n",
    "    url = 'http://datosabiertos.salud.gob.mx/gobmx/salud/datos_abiertos/historicos/'+month+'/'+filenamezip\n",
    "    filenamezip = wget.download(url)\n",
    "    with zipfile.ZipFile(filenamezip, 'r') as zip_ref:\n",
    "        zip_ref.extractall()\n",
    "        \n",
    "    # This is the filename inside the zip file    \n",
    "    filename = '20'+month+day+'COVID19MEXICO.csv'\n",
    "    \n",
    "    # Read data in pandas\n",
    "    mx = pd.read_csv(filename,encoding='latin1')\n",
    "    \n",
    "    # Extract what you want\n",
    "    \n",
    "    # Cases for Mexico and Jalisco\n",
    "    x0c = mx[\n",
    "        (mx['FECHA_INGRESO'] != '9999-99-99') & \n",
    "        (mx['RESULTADO'] != 2) &\n",
    "        (mx['RESULTADO'] != 3)] \\\n",
    "            [['FECHA_INGRESO','RESULTADO']] .groupby('FECHA_INGRESO') .count() .cumsum() .fillna(0)\n",
    "    df['Cases_Mexico'].loc[df['date']==pd.to_datetime(i)] = x0c['RESULTADO'].iloc[-1]\n",
    "    \n",
    "    x0c = mx[\n",
    "        (mx['ENTIDAD_RES'] == 14) &\n",
    "        (mx['FECHA_INGRESO'] != '9999-99-99') & \n",
    "        (mx['RESULTADO'] != 2) &\n",
    "        (mx['RESULTADO'] != 3)] \\\n",
    "            [['FECHA_INGRESO','RESULTADO']] .groupby('FECHA_INGRESO') .count() .cumsum() .fillna(0)\n",
    "    df['Cases_Jalisco'].loc[df['date']==pd.to_datetime(i)] = x0c['RESULTADO'].iloc[-1]\n",
    "\n",
    "    x0d = mx[\n",
    "        (mx['FECHA_DEF'] != '9999-99-99') & \n",
    "        (mx['RESULTADO'] != 2) &\n",
    "        (mx['RESULTADO'] != 3)] \\\n",
    "            [['FECHA_DEF','RESULTADO']] .groupby('FECHA_DEF') .count() .cumsum() .fillna(0)\n",
    "    df['Deaths_Mexico'].loc[df['date']==pd.to_datetime(i)] = x0d['RESULTADO'].iloc[-1]\n",
    "    \n",
    "    x0d = mx[\n",
    "        (mx['ENTIDAD_RES'] == 14) &\n",
    "        (mx['FECHA_DEF'] != '9999-99-99') & \n",
    "        (mx['RESULTADO'] != 2) &\n",
    "        (mx['RESULTADO'] != 3)] \\\n",
    "            [['FECHA_DEF','RESULTADO']] .groupby('FECHA_DEF') .count() .cumsum() .fillna(0)\n",
    "    df['Deaths_Jalisco'].loc[df['date']==pd.to_datetime(i)] = x0d['RESULTADO'].iloc[-1]\n",
    "    \n",
    "#     # Merge in a row\n",
    "#     row = pd.merge(mc,jc,on='date',how='left')\n",
    "#     row = pd.merge(row,md,on='date',how='left')\n",
    "#     row = pd.merge(row,jd,on='date',how='left')\n",
    "    \n",
    "    # Append to dataset\n",
    "    \n",
    "    \n",
    "    \n",
    "    os.remove(filenamezip)\n",
    "    os.remove(filename)\n",
    "        "
   ]
  },
  {
   "cell_type": "code",
   "execution_count": 396,
   "metadata": {
    "scrolled": true
   },
   "outputs": [
    {
     "data": {
      "text/html": [
       "<div>\n",
       "<style scoped>\n",
       "    .dataframe tbody tr th:only-of-type {\n",
       "        vertical-align: middle;\n",
       "    }\n",
       "\n",
       "    .dataframe tbody tr th {\n",
       "        vertical-align: top;\n",
       "    }\n",
       "\n",
       "    .dataframe thead th {\n",
       "        text-align: right;\n",
       "    }\n",
       "</style>\n",
       "<table border=\"1\" class=\"dataframe\">\n",
       "  <thead>\n",
       "    <tr style=\"text-align: right;\">\n",
       "      <th></th>\n",
       "      <th>date</th>\n",
       "      <th>Cases_Mexico</th>\n",
       "      <th>Cases_Jalisco</th>\n",
       "      <th>Deaths_Mexico</th>\n",
       "      <th>Deaths_Jalisco</th>\n",
       "    </tr>\n",
       "  </thead>\n",
       "  <tbody>\n",
       "    <tr>\n",
       "      <th>0</th>\n",
       "      <td>2020-04-12</td>\n",
       "      <td>4661</td>\n",
       "      <td>158</td>\n",
       "      <td>296</td>\n",
       "      <td>11</td>\n",
       "    </tr>\n",
       "    <tr>\n",
       "      <th>1</th>\n",
       "      <td>2020-04-13</td>\n",
       "      <td>5014</td>\n",
       "      <td>161</td>\n",
       "      <td>332</td>\n",
       "      <td>11</td>\n",
       "    </tr>\n",
       "    <tr>\n",
       "      <th>2</th>\n",
       "      <td>2020-04-14</td>\n",
       "      <td>5399</td>\n",
       "      <td>166</td>\n",
       "      <td>406</td>\n",
       "      <td>11</td>\n",
       "    </tr>\n",
       "    <tr>\n",
       "      <th>3</th>\n",
       "      <td>2020-04-15</td>\n",
       "      <td>5847</td>\n",
       "      <td>178</td>\n",
       "      <td>449</td>\n",
       "      <td>11</td>\n",
       "    </tr>\n",
       "    <tr>\n",
       "      <th>4</th>\n",
       "      <td>2020-04-16</td>\n",
       "      <td>6297</td>\n",
       "      <td>180</td>\n",
       "      <td>486</td>\n",
       "      <td>11</td>\n",
       "    </tr>\n",
       "    <tr>\n",
       "      <th>5</th>\n",
       "      <td>2020-04-17</td>\n",
       "      <td>6875</td>\n",
       "      <td>189</td>\n",
       "      <td>546</td>\n",
       "      <td>13</td>\n",
       "    </tr>\n",
       "    <tr>\n",
       "      <th>6</th>\n",
       "      <td>2020-04-18</td>\n",
       "      <td>7497</td>\n",
       "      <td>195</td>\n",
       "      <td>650</td>\n",
       "      <td>13</td>\n",
       "    </tr>\n",
       "    <tr>\n",
       "      <th>7</th>\n",
       "      <td>2020-04-19</td>\n",
       "      <td>8261</td>\n",
       "      <td>197</td>\n",
       "      <td>686</td>\n",
       "      <td>13</td>\n",
       "    </tr>\n",
       "    <tr>\n",
       "      <th>8</th>\n",
       "      <td>2020-04-20</td>\n",
       "      <td>8772</td>\n",
       "      <td>215</td>\n",
       "      <td>712</td>\n",
       "      <td>14</td>\n",
       "    </tr>\n",
       "    <tr>\n",
       "      <th>9</th>\n",
       "      <td>2020-04-21</td>\n",
       "      <td>9501</td>\n",
       "      <td>225</td>\n",
       "      <td>857</td>\n",
       "      <td>15</td>\n",
       "    </tr>\n",
       "    <tr>\n",
       "      <th>10</th>\n",
       "      <td>2020-04-22</td>\n",
       "      <td>10544</td>\n",
       "      <td>235</td>\n",
       "      <td>970</td>\n",
       "      <td>15</td>\n",
       "    </tr>\n",
       "    <tr>\n",
       "      <th>11</th>\n",
       "      <td>2020-04-23</td>\n",
       "      <td>11633</td>\n",
       "      <td>254</td>\n",
       "      <td>1069</td>\n",
       "      <td>19</td>\n",
       "    </tr>\n",
       "    <tr>\n",
       "      <th>12</th>\n",
       "      <td>2020-04-24</td>\n",
       "      <td>12872</td>\n",
       "      <td>263</td>\n",
       "      <td>1221</td>\n",
       "      <td>20</td>\n",
       "    </tr>\n",
       "    <tr>\n",
       "      <th>13</th>\n",
       "      <td>2020-04-25</td>\n",
       "      <td>13842</td>\n",
       "      <td>271</td>\n",
       "      <td>1305</td>\n",
       "      <td>23</td>\n",
       "    </tr>\n",
       "    <tr>\n",
       "      <th>14</th>\n",
       "      <td>2020-04-26</td>\n",
       "      <td>14677</td>\n",
       "      <td>282</td>\n",
       "      <td>1351</td>\n",
       "      <td>25</td>\n",
       "    </tr>\n",
       "    <tr>\n",
       "      <th>15</th>\n",
       "      <td>2020-04-27</td>\n",
       "      <td>15529</td>\n",
       "      <td>303</td>\n",
       "      <td>1434</td>\n",
       "      <td>25</td>\n",
       "    </tr>\n",
       "    <tr>\n",
       "      <th>16</th>\n",
       "      <td>2020-04-28</td>\n",
       "      <td>16752</td>\n",
       "      <td>316</td>\n",
       "      <td>1569</td>\n",
       "      <td>25</td>\n",
       "    </tr>\n",
       "    <tr>\n",
       "      <th>17</th>\n",
       "      <td>2020-04-29</td>\n",
       "      <td>17799</td>\n",
       "      <td>326</td>\n",
       "      <td>1732</td>\n",
       "      <td>25</td>\n",
       "    </tr>\n",
       "    <tr>\n",
       "      <th>18</th>\n",
       "      <td>2020-04-30</td>\n",
       "      <td>19224</td>\n",
       "      <td>347</td>\n",
       "      <td>1859</td>\n",
       "      <td>28</td>\n",
       "    </tr>\n",
       "    <tr>\n",
       "      <th>19</th>\n",
       "      <td>2020-05-01</td>\n",
       "      <td>20739</td>\n",
       "      <td>375</td>\n",
       "      <td>1972</td>\n",
       "      <td>30</td>\n",
       "    </tr>\n",
       "    <tr>\n",
       "      <th>20</th>\n",
       "      <td>2020-05-02</td>\n",
       "      <td>22088</td>\n",
       "      <td>387</td>\n",
       "      <td>2061</td>\n",
       "      <td>32</td>\n",
       "    </tr>\n",
       "    <tr>\n",
       "      <th>21</th>\n",
       "      <td>2020-05-03</td>\n",
       "      <td>23471</td>\n",
       "      <td>417</td>\n",
       "      <td>2154</td>\n",
       "      <td>33</td>\n",
       "    </tr>\n",
       "    <tr>\n",
       "      <th>22</th>\n",
       "      <td>2020-05-04</td>\n",
       "      <td>24905</td>\n",
       "      <td>447</td>\n",
       "      <td>2270</td>\n",
       "      <td>34</td>\n",
       "    </tr>\n",
       "    <tr>\n",
       "      <th>23</th>\n",
       "      <td>2020-05-05</td>\n",
       "      <td>26025</td>\n",
       "      <td>469</td>\n",
       "      <td>2507</td>\n",
       "      <td>36</td>\n",
       "    </tr>\n",
       "    <tr>\n",
       "      <th>24</th>\n",
       "      <td>2020-05-06</td>\n",
       "      <td>27634</td>\n",
       "      <td>492</td>\n",
       "      <td>2704</td>\n",
       "      <td>38</td>\n",
       "    </tr>\n",
       "    <tr>\n",
       "      <th>25</th>\n",
       "      <td>2020-05-07</td>\n",
       "      <td>29616</td>\n",
       "      <td>508</td>\n",
       "      <td>2961</td>\n",
       "      <td>43</td>\n",
       "    </tr>\n",
       "    <tr>\n",
       "      <th>26</th>\n",
       "      <td>2020-05-08</td>\n",
       "      <td>31522</td>\n",
       "      <td>554</td>\n",
       "      <td>3160</td>\n",
       "      <td>47</td>\n",
       "    </tr>\n",
       "    <tr>\n",
       "      <th>27</th>\n",
       "      <td>2020-05-09</td>\n",
       "      <td>33460</td>\n",
       "      <td>592</td>\n",
       "      <td>3353</td>\n",
       "      <td>50</td>\n",
       "    </tr>\n",
       "    <tr>\n",
       "      <th>28</th>\n",
       "      <td>2020-05-10</td>\n",
       "      <td>35022</td>\n",
       "      <td>593</td>\n",
       "      <td>3465</td>\n",
       "      <td>54</td>\n",
       "    </tr>\n",
       "    <tr>\n",
       "      <th>29</th>\n",
       "      <td>2020-05-11</td>\n",
       "      <td>36327</td>\n",
       "      <td>636</td>\n",
       "      <td>3573</td>\n",
       "      <td>57</td>\n",
       "    </tr>\n",
       "    <tr>\n",
       "      <th>...</th>\n",
       "      <td>...</td>\n",
       "      <td>...</td>\n",
       "      <td>...</td>\n",
       "      <td>...</td>\n",
       "      <td>...</td>\n",
       "    </tr>\n",
       "    <tr>\n",
       "      <th>147</th>\n",
       "      <td>2020-09-06</td>\n",
       "      <td>634023</td>\n",
       "      <td>21805</td>\n",
       "      <td>67558</td>\n",
       "      <td>2617</td>\n",
       "    </tr>\n",
       "    <tr>\n",
       "      <th>148</th>\n",
       "      <td>2020-09-07</td>\n",
       "      <td>637509</td>\n",
       "      <td>21906</td>\n",
       "      <td>67781</td>\n",
       "      <td>2639</td>\n",
       "    </tr>\n",
       "    <tr>\n",
       "      <th>149</th>\n",
       "      <td>2020-09-08</td>\n",
       "      <td>642860</td>\n",
       "      <td>22121</td>\n",
       "      <td>68484</td>\n",
       "      <td>2676</td>\n",
       "    </tr>\n",
       "    <tr>\n",
       "      <th>150</th>\n",
       "      <td>2020-09-09</td>\n",
       "      <td>647507</td>\n",
       "      <td>22369</td>\n",
       "      <td>69095</td>\n",
       "      <td>2711</td>\n",
       "    </tr>\n",
       "    <tr>\n",
       "      <th>151</th>\n",
       "      <td>2020-09-10</td>\n",
       "      <td>652364</td>\n",
       "      <td>22589</td>\n",
       "      <td>69649</td>\n",
       "      <td>2748</td>\n",
       "    </tr>\n",
       "    <tr>\n",
       "      <th>152</th>\n",
       "      <td>2020-09-11</td>\n",
       "      <td>658299</td>\n",
       "      <td>22843</td>\n",
       "      <td>70183</td>\n",
       "      <td>2777</td>\n",
       "    </tr>\n",
       "    <tr>\n",
       "      <th>153</th>\n",
       "      <td>2020-09-12</td>\n",
       "      <td>663973</td>\n",
       "      <td>22997</td>\n",
       "      <td>70604</td>\n",
       "      <td>2794</td>\n",
       "    </tr>\n",
       "    <tr>\n",
       "      <th>154</th>\n",
       "      <td>2020-09-13</td>\n",
       "      <td>668381</td>\n",
       "      <td>23221</td>\n",
       "      <td>70821</td>\n",
       "      <td>2806</td>\n",
       "    </tr>\n",
       "    <tr>\n",
       "      <th>155</th>\n",
       "      <td>2020-09-14</td>\n",
       "      <td>671716</td>\n",
       "      <td>23346</td>\n",
       "      <td>71049</td>\n",
       "      <td>2828</td>\n",
       "    </tr>\n",
       "    <tr>\n",
       "      <th>156</th>\n",
       "      <td>2020-09-15</td>\n",
       "      <td>676487</td>\n",
       "      <td>23565</td>\n",
       "      <td>71678</td>\n",
       "      <td>2849</td>\n",
       "    </tr>\n",
       "    <tr>\n",
       "      <th>157</th>\n",
       "      <td>2020-09-16</td>\n",
       "      <td>680931</td>\n",
       "      <td>23743</td>\n",
       "      <td>71978</td>\n",
       "      <td>2868</td>\n",
       "    </tr>\n",
       "    <tr>\n",
       "      <th>158</th>\n",
       "      <td>2020-09-17</td>\n",
       "      <td>684113</td>\n",
       "      <td>23919</td>\n",
       "      <td>72179</td>\n",
       "      <td>2898</td>\n",
       "    </tr>\n",
       "    <tr>\n",
       "      <th>159</th>\n",
       "      <td>2020-09-18</td>\n",
       "      <td>688954</td>\n",
       "      <td>24139</td>\n",
       "      <td>72803</td>\n",
       "      <td>2939</td>\n",
       "    </tr>\n",
       "    <tr>\n",
       "      <th>160</th>\n",
       "      <td>2020-09-19</td>\n",
       "      <td>694121</td>\n",
       "      <td>24400</td>\n",
       "      <td>73258</td>\n",
       "      <td>2967</td>\n",
       "    </tr>\n",
       "    <tr>\n",
       "      <th>161</th>\n",
       "      <td>2020-09-20</td>\n",
       "      <td>697663</td>\n",
       "      <td>24643</td>\n",
       "      <td>73493</td>\n",
       "      <td>3021</td>\n",
       "    </tr>\n",
       "    <tr>\n",
       "      <th>162</th>\n",
       "      <td>2020-09-21</td>\n",
       "      <td>700580</td>\n",
       "      <td>24752</td>\n",
       "      <td>73697</td>\n",
       "      <td>3048</td>\n",
       "    </tr>\n",
       "    <tr>\n",
       "      <th>163</th>\n",
       "      <td>2020-09-22</td>\n",
       "      <td>705263</td>\n",
       "      <td>24953</td>\n",
       "      <td>74348</td>\n",
       "      <td>3081</td>\n",
       "    </tr>\n",
       "    <tr>\n",
       "      <th>164</th>\n",
       "      <td>2020-09-23</td>\n",
       "      <td>710049</td>\n",
       "      <td>25183</td>\n",
       "      <td>74949</td>\n",
       "      <td>3124</td>\n",
       "    </tr>\n",
       "    <tr>\n",
       "      <th>165</th>\n",
       "      <td>2020-09-24</td>\n",
       "      <td>715457</td>\n",
       "      <td>25485</td>\n",
       "      <td>75439</td>\n",
       "      <td>3158</td>\n",
       "    </tr>\n",
       "    <tr>\n",
       "      <th>166</th>\n",
       "      <td>2020-09-25</td>\n",
       "      <td>720858</td>\n",
       "      <td>25730</td>\n",
       "      <td>75844</td>\n",
       "      <td>3176</td>\n",
       "    </tr>\n",
       "    <tr>\n",
       "      <th>167</th>\n",
       "      <td>2020-09-26</td>\n",
       "      <td>726431</td>\n",
       "      <td>26090</td>\n",
       "      <td>76243</td>\n",
       "      <td>3193</td>\n",
       "    </tr>\n",
       "    <tr>\n",
       "      <th>168</th>\n",
       "      <td>2020-09-27</td>\n",
       "      <td>730317</td>\n",
       "      <td>26315</td>\n",
       "      <td>76430</td>\n",
       "      <td>3209</td>\n",
       "    </tr>\n",
       "    <tr>\n",
       "      <th>169</th>\n",
       "      <td>2020-09-28</td>\n",
       "      <td>733717</td>\n",
       "      <td>26503</td>\n",
       "      <td>76603</td>\n",
       "      <td>3229</td>\n",
       "    </tr>\n",
       "    <tr>\n",
       "      <th>170</th>\n",
       "      <td>2020-09-29</td>\n",
       "      <td>738163</td>\n",
       "      <td>26741</td>\n",
       "      <td>77163</td>\n",
       "      <td>3252</td>\n",
       "    </tr>\n",
       "    <tr>\n",
       "      <th>171</th>\n",
       "      <td>2020-09-30</td>\n",
       "      <td>743216</td>\n",
       "      <td>26963</td>\n",
       "      <td>77646</td>\n",
       "      <td>3292</td>\n",
       "    </tr>\n",
       "    <tr>\n",
       "      <th>172</th>\n",
       "      <td>2020-10-01</td>\n",
       "      <td>748315</td>\n",
       "      <td>27218</td>\n",
       "      <td>78078</td>\n",
       "      <td>3315</td>\n",
       "    </tr>\n",
       "    <tr>\n",
       "      <th>173</th>\n",
       "      <td>2020-10-02</td>\n",
       "      <td>753090</td>\n",
       "      <td>27478</td>\n",
       "      <td>78492</td>\n",
       "      <td>3331</td>\n",
       "    </tr>\n",
       "    <tr>\n",
       "      <th>174</th>\n",
       "      <td>2020-10-03</td>\n",
       "      <td>757953</td>\n",
       "      <td>27705</td>\n",
       "      <td>78880</td>\n",
       "      <td>3372</td>\n",
       "    </tr>\n",
       "    <tr>\n",
       "      <th>175</th>\n",
       "      <td>2020-10-04</td>\n",
       "      <td>761665</td>\n",
       "      <td>27922</td>\n",
       "      <td>79088</td>\n",
       "      <td>3379</td>\n",
       "    </tr>\n",
       "    <tr>\n",
       "      <th>176</th>\n",
       "      <td>2020-10-05</td>\n",
       "      <td>765082</td>\n",
       "      <td>28128</td>\n",
       "      <td>79268</td>\n",
       "      <td>3396</td>\n",
       "    </tr>\n",
       "  </tbody>\n",
       "</table>\n",
       "<p>177 rows × 5 columns</p>\n",
       "</div>"
      ],
      "text/plain": [
       "          date Cases_Mexico Cases_Jalisco Deaths_Mexico Deaths_Jalisco\n",
       "0   2020-04-12         4661           158           296             11\n",
       "1   2020-04-13         5014           161           332             11\n",
       "2   2020-04-14         5399           166           406             11\n",
       "3   2020-04-15         5847           178           449             11\n",
       "4   2020-04-16         6297           180           486             11\n",
       "5   2020-04-17         6875           189           546             13\n",
       "6   2020-04-18         7497           195           650             13\n",
       "7   2020-04-19         8261           197           686             13\n",
       "8   2020-04-20         8772           215           712             14\n",
       "9   2020-04-21         9501           225           857             15\n",
       "10  2020-04-22        10544           235           970             15\n",
       "11  2020-04-23        11633           254          1069             19\n",
       "12  2020-04-24        12872           263          1221             20\n",
       "13  2020-04-25        13842           271          1305             23\n",
       "14  2020-04-26        14677           282          1351             25\n",
       "15  2020-04-27        15529           303          1434             25\n",
       "16  2020-04-28        16752           316          1569             25\n",
       "17  2020-04-29        17799           326          1732             25\n",
       "18  2020-04-30        19224           347          1859             28\n",
       "19  2020-05-01        20739           375          1972             30\n",
       "20  2020-05-02        22088           387          2061             32\n",
       "21  2020-05-03        23471           417          2154             33\n",
       "22  2020-05-04        24905           447          2270             34\n",
       "23  2020-05-05        26025           469          2507             36\n",
       "24  2020-05-06        27634           492          2704             38\n",
       "25  2020-05-07        29616           508          2961             43\n",
       "26  2020-05-08        31522           554          3160             47\n",
       "27  2020-05-09        33460           592          3353             50\n",
       "28  2020-05-10        35022           593          3465             54\n",
       "29  2020-05-11        36327           636          3573             57\n",
       "..         ...          ...           ...           ...            ...\n",
       "147 2020-09-06       634023         21805         67558           2617\n",
       "148 2020-09-07       637509         21906         67781           2639\n",
       "149 2020-09-08       642860         22121         68484           2676\n",
       "150 2020-09-09       647507         22369         69095           2711\n",
       "151 2020-09-10       652364         22589         69649           2748\n",
       "152 2020-09-11       658299         22843         70183           2777\n",
       "153 2020-09-12       663973         22997         70604           2794\n",
       "154 2020-09-13       668381         23221         70821           2806\n",
       "155 2020-09-14       671716         23346         71049           2828\n",
       "156 2020-09-15       676487         23565         71678           2849\n",
       "157 2020-09-16       680931         23743         71978           2868\n",
       "158 2020-09-17       684113         23919         72179           2898\n",
       "159 2020-09-18       688954         24139         72803           2939\n",
       "160 2020-09-19       694121         24400         73258           2967\n",
       "161 2020-09-20       697663         24643         73493           3021\n",
       "162 2020-09-21       700580         24752         73697           3048\n",
       "163 2020-09-22       705263         24953         74348           3081\n",
       "164 2020-09-23       710049         25183         74949           3124\n",
       "165 2020-09-24       715457         25485         75439           3158\n",
       "166 2020-09-25       720858         25730         75844           3176\n",
       "167 2020-09-26       726431         26090         76243           3193\n",
       "168 2020-09-27       730317         26315         76430           3209\n",
       "169 2020-09-28       733717         26503         76603           3229\n",
       "170 2020-09-29       738163         26741         77163           3252\n",
       "171 2020-09-30       743216         26963         77646           3292\n",
       "172 2020-10-01       748315         27218         78078           3315\n",
       "173 2020-10-02       753090         27478         78492           3331\n",
       "174 2020-10-03       757953         27705         78880           3372\n",
       "175 2020-10-04       761665         27922         79088           3379\n",
       "176 2020-10-05       765082         28128         79268           3396\n",
       "\n",
       "[177 rows x 5 columns]"
      ]
     },
     "execution_count": 396,
     "metadata": {},
     "output_type": "execute_result"
    }
   ],
   "source": [
    "#df = df[df['date'] <= '2020-10-05']\n",
    "df"
   ]
  },
  {
   "cell_type": "code",
   "execution_count": 200,
   "metadata": {},
   "outputs": [],
   "source": [
    "# Extract standard dataset with variables as occurred \n",
    "\n",
    "i = dateseries[-1]\n",
    "\n",
    "# Extract month and day\n",
    "if i.month<10:\n",
    "    month = str(0)+str(i.month)\n",
    "else:\n",
    "    month = str(i.month)\n",
    "if i.day<10:    \n",
    "    day   = str(0)+str(i.day)\n",
    "else:   \n",
    "    day   = str(i.day)\n",
    "\n",
    "# Apply them to the url and file to be downloaded\n",
    "filenamezip = 'datos_abiertos_covid19_'+day+'.'+month+'.2020.zip'\n",
    "url = 'http://datosabiertos.salud.gob.mx/gobmx/salud/datos_abiertos/historicos/'+month+'/'+filenamezip\n",
    "filenamezip = wget.download(url)\n",
    "with zipfile.ZipFile(filenamezip, 'r') as zip_ref:\n",
    "    zip_ref.extractall()\n",
    "\n",
    "# This is the filename inside the zip file    \n",
    "filename = '20'+month+day+'COVID19MEXICO.csv'\n",
    "    \n",
    "# Read data in pandas\n",
    "mx = pd.read_csv(filename,encoding='latin1')\n",
    "\n",
    "x0c = mx[\n",
    "    (mx['FECHA_INGRESO'] != '9999-99-99') & \n",
    "    (mx['RESULTADO'] != 2) &\n",
    "    (mx['RESULTADO'] != 3)] \\\n",
    "    [['FECHA_INGRESO','RESULTADO']] .groupby('FECHA_INGRESO') .count() .cumsum() .fillna(0)\n",
    "x0c = x0c.reset_index()\n",
    "x0c = x0c.rename({'FECHA_INGRESO': 'date'}, axis='columns')\n",
    "\n",
    "x0d = mx[\n",
    "    (mx['FECHA_DEF'] != '9999-99-99') & \n",
    "    (mx['RESULTADO'] != 2) &\n",
    "    (mx['RESULTADO'] != 3)] \\\n",
    "    [['FECHA_DEF','RESULTADO']] .groupby('FECHA_DEF') .count() .cumsum() .fillna(0)\n",
    "x0d = x0d.reset_index()\n",
    "x0d = x0d.rename({'FECHA_DEF': 'date'}, axis='columns')\n",
    "\n",
    "x1c = mx[\n",
    "    (mx['ENTIDAD_RES'] == 14) &\n",
    "    (mx['FECHA_INGRESO'] != '9999-99-99') & \n",
    "    (mx['RESULTADO'] != 2) &\n",
    "    (mx['RESULTADO'] != 3)] \\\n",
    "    [['FECHA_INGRESO','RESULTADO']] .groupby('FECHA_INGRESO') .count() .cumsum() .fillna(0)\n",
    "x1c = x1c.reset_index()\n",
    "x1c = x1c.rename({'FECHA_INGRESO': 'date'}, axis='columns')\n",
    "\n",
    "x1d = mx[\n",
    "    (mx['ENTIDAD_RES'] == 14) &\n",
    "    (mx['FECHA_DEF'] != '9999-99-99') & \n",
    "    (mx['RESULTADO'] != 2) &\n",
    "    (mx['RESULTADO'] != 3)] \\\n",
    "    [['FECHA_DEF','RESULTADO']] .groupby('FECHA_DEF') .count() .cumsum() .fillna(0)\n",
    "x1d = x1d.reset_index()\n",
    "x1d = x1d.rename({'FECHA_DEF': 'date'}, axis='columns')\n",
    "\n",
    "df2 = pd.merge(x0c,x1c,on='date',how='left')\n",
    "df2 = df2.rename(columns={\"RESULTADO_x\": \"Cases_Mexico\", \"RESULTADO_y\": \"Cases_Jalisco\"})\n",
    "df2 = pd.merge(df2,x0d,on='date',how='left')\n",
    "df2 = pd.merge(df2,x1d,on='date',how='left')\n",
    "df2 = df2.rename(columns={\"RESULTADO_x\": \"Deaths_Mexico\", \"RESULTADO_y\": \"Deaths_Jalisco\"})\n",
    "\n",
    "os.remove(filenamezip)\n",
    "os.remove(filename)    "
   ]
  },
  {
   "cell_type": "code",
   "execution_count": 201,
   "metadata": {
    "scrolled": true
   },
   "outputs": [
    {
     "data": {
      "text/html": [
       "<div>\n",
       "<style scoped>\n",
       "    .dataframe tbody tr th:only-of-type {\n",
       "        vertical-align: middle;\n",
       "    }\n",
       "\n",
       "    .dataframe tbody tr th {\n",
       "        vertical-align: top;\n",
       "    }\n",
       "\n",
       "    .dataframe thead th {\n",
       "        text-align: right;\n",
       "    }\n",
       "</style>\n",
       "<table border=\"1\" class=\"dataframe\">\n",
       "  <thead>\n",
       "    <tr style=\"text-align: right;\">\n",
       "      <th></th>\n",
       "      <th>date</th>\n",
       "      <th>Cases_Mexico</th>\n",
       "      <th>Cases_Jalisco</th>\n",
       "      <th>Deaths_Mexico</th>\n",
       "      <th>Deaths_Jalisco</th>\n",
       "    </tr>\n",
       "  </thead>\n",
       "  <tbody>\n",
       "    <tr>\n",
       "      <th>0</th>\n",
       "      <td>2020-01-13</td>\n",
       "      <td>1</td>\n",
       "      <td>NaN</td>\n",
       "      <td>NaN</td>\n",
       "      <td>NaN</td>\n",
       "    </tr>\n",
       "    <tr>\n",
       "      <th>1</th>\n",
       "      <td>2020-01-29</td>\n",
       "      <td>2</td>\n",
       "      <td>NaN</td>\n",
       "      <td>NaN</td>\n",
       "      <td>NaN</td>\n",
       "    </tr>\n",
       "    <tr>\n",
       "      <th>2</th>\n",
       "      <td>2020-02-24</td>\n",
       "      <td>3</td>\n",
       "      <td>NaN</td>\n",
       "      <td>NaN</td>\n",
       "      <td>NaN</td>\n",
       "    </tr>\n",
       "    <tr>\n",
       "      <th>3</th>\n",
       "      <td>2020-02-27</td>\n",
       "      <td>7</td>\n",
       "      <td>NaN</td>\n",
       "      <td>NaN</td>\n",
       "      <td>NaN</td>\n",
       "    </tr>\n",
       "    <tr>\n",
       "      <th>4</th>\n",
       "      <td>2020-02-28</td>\n",
       "      <td>9</td>\n",
       "      <td>NaN</td>\n",
       "      <td>NaN</td>\n",
       "      <td>NaN</td>\n",
       "    </tr>\n",
       "    <tr>\n",
       "      <th>5</th>\n",
       "      <td>2020-02-29</td>\n",
       "      <td>10</td>\n",
       "      <td>NaN</td>\n",
       "      <td>NaN</td>\n",
       "      <td>NaN</td>\n",
       "    </tr>\n",
       "    <tr>\n",
       "      <th>6</th>\n",
       "      <td>2020-03-02</td>\n",
       "      <td>11</td>\n",
       "      <td>NaN</td>\n",
       "      <td>NaN</td>\n",
       "      <td>NaN</td>\n",
       "    </tr>\n",
       "    <tr>\n",
       "      <th>7</th>\n",
       "      <td>2020-03-04</td>\n",
       "      <td>14</td>\n",
       "      <td>NaN</td>\n",
       "      <td>NaN</td>\n",
       "      <td>NaN</td>\n",
       "    </tr>\n",
       "    <tr>\n",
       "      <th>8</th>\n",
       "      <td>2020-03-05</td>\n",
       "      <td>15</td>\n",
       "      <td>NaN</td>\n",
       "      <td>NaN</td>\n",
       "      <td>NaN</td>\n",
       "    </tr>\n",
       "    <tr>\n",
       "      <th>9</th>\n",
       "      <td>2020-03-07</td>\n",
       "      <td>16</td>\n",
       "      <td>NaN</td>\n",
       "      <td>NaN</td>\n",
       "      <td>NaN</td>\n",
       "    </tr>\n",
       "    <tr>\n",
       "      <th>10</th>\n",
       "      <td>2020-03-08</td>\n",
       "      <td>20</td>\n",
       "      <td>NaN</td>\n",
       "      <td>NaN</td>\n",
       "      <td>NaN</td>\n",
       "    </tr>\n",
       "    <tr>\n",
       "      <th>11</th>\n",
       "      <td>2020-03-09</td>\n",
       "      <td>22</td>\n",
       "      <td>NaN</td>\n",
       "      <td>NaN</td>\n",
       "      <td>NaN</td>\n",
       "    </tr>\n",
       "    <tr>\n",
       "      <th>12</th>\n",
       "      <td>2020-03-10</td>\n",
       "      <td>31</td>\n",
       "      <td>NaN</td>\n",
       "      <td>NaN</td>\n",
       "      <td>NaN</td>\n",
       "    </tr>\n",
       "    <tr>\n",
       "      <th>13</th>\n",
       "      <td>2020-03-11</td>\n",
       "      <td>58</td>\n",
       "      <td>1.0</td>\n",
       "      <td>NaN</td>\n",
       "      <td>NaN</td>\n",
       "    </tr>\n",
       "    <tr>\n",
       "      <th>14</th>\n",
       "      <td>2020-03-12</td>\n",
       "      <td>86</td>\n",
       "      <td>4.0</td>\n",
       "      <td>NaN</td>\n",
       "      <td>NaN</td>\n",
       "    </tr>\n",
       "    <tr>\n",
       "      <th>15</th>\n",
       "      <td>2020-03-13</td>\n",
       "      <td>146</td>\n",
       "      <td>7.0</td>\n",
       "      <td>NaN</td>\n",
       "      <td>NaN</td>\n",
       "    </tr>\n",
       "    <tr>\n",
       "      <th>16</th>\n",
       "      <td>2020-03-14</td>\n",
       "      <td>196</td>\n",
       "      <td>12.0</td>\n",
       "      <td>NaN</td>\n",
       "      <td>NaN</td>\n",
       "    </tr>\n",
       "    <tr>\n",
       "      <th>17</th>\n",
       "      <td>2020-03-15</td>\n",
       "      <td>232</td>\n",
       "      <td>14.0</td>\n",
       "      <td>NaN</td>\n",
       "      <td>NaN</td>\n",
       "    </tr>\n",
       "    <tr>\n",
       "      <th>18</th>\n",
       "      <td>2020-03-16</td>\n",
       "      <td>300</td>\n",
       "      <td>26.0</td>\n",
       "      <td>NaN</td>\n",
       "      <td>NaN</td>\n",
       "    </tr>\n",
       "    <tr>\n",
       "      <th>19</th>\n",
       "      <td>2020-03-17</td>\n",
       "      <td>395</td>\n",
       "      <td>32.0</td>\n",
       "      <td>NaN</td>\n",
       "      <td>NaN</td>\n",
       "    </tr>\n",
       "    <tr>\n",
       "      <th>20</th>\n",
       "      <td>2020-03-18</td>\n",
       "      <td>497</td>\n",
       "      <td>49.0</td>\n",
       "      <td>2.0</td>\n",
       "      <td>NaN</td>\n",
       "    </tr>\n",
       "    <tr>\n",
       "      <th>21</th>\n",
       "      <td>2020-03-19</td>\n",
       "      <td>608</td>\n",
       "      <td>60.0</td>\n",
       "      <td>NaN</td>\n",
       "      <td>NaN</td>\n",
       "    </tr>\n",
       "    <tr>\n",
       "      <th>22</th>\n",
       "      <td>2020-03-20</td>\n",
       "      <td>708</td>\n",
       "      <td>65.0</td>\n",
       "      <td>3.0</td>\n",
       "      <td>1.0</td>\n",
       "    </tr>\n",
       "    <tr>\n",
       "      <th>23</th>\n",
       "      <td>2020-03-21</td>\n",
       "      <td>774</td>\n",
       "      <td>66.0</td>\n",
       "      <td>NaN</td>\n",
       "      <td>NaN</td>\n",
       "    </tr>\n",
       "    <tr>\n",
       "      <th>24</th>\n",
       "      <td>2020-03-22</td>\n",
       "      <td>822</td>\n",
       "      <td>69.0</td>\n",
       "      <td>4.0</td>\n",
       "      <td>NaN</td>\n",
       "    </tr>\n",
       "    <tr>\n",
       "      <th>25</th>\n",
       "      <td>2020-03-23</td>\n",
       "      <td>952</td>\n",
       "      <td>77.0</td>\n",
       "      <td>5.0</td>\n",
       "      <td>NaN</td>\n",
       "    </tr>\n",
       "    <tr>\n",
       "      <th>26</th>\n",
       "      <td>2020-03-24</td>\n",
       "      <td>1118</td>\n",
       "      <td>84.0</td>\n",
       "      <td>7.0</td>\n",
       "      <td>NaN</td>\n",
       "    </tr>\n",
       "    <tr>\n",
       "      <th>27</th>\n",
       "      <td>2020-03-25</td>\n",
       "      <td>1259</td>\n",
       "      <td>91.0</td>\n",
       "      <td>9.0</td>\n",
       "      <td>NaN</td>\n",
       "    </tr>\n",
       "    <tr>\n",
       "      <th>28</th>\n",
       "      <td>2020-03-26</td>\n",
       "      <td>1432</td>\n",
       "      <td>97.0</td>\n",
       "      <td>17.0</td>\n",
       "      <td>3.0</td>\n",
       "    </tr>\n",
       "    <tr>\n",
       "      <th>29</th>\n",
       "      <td>2020-03-27</td>\n",
       "      <td>1645</td>\n",
       "      <td>104.0</td>\n",
       "      <td>24.0</td>\n",
       "      <td>NaN</td>\n",
       "    </tr>\n",
       "    <tr>\n",
       "      <th>...</th>\n",
       "      <td>...</td>\n",
       "      <td>...</td>\n",
       "      <td>...</td>\n",
       "      <td>...</td>\n",
       "      <td>...</td>\n",
       "    </tr>\n",
       "    <tr>\n",
       "      <th>192</th>\n",
       "      <td>2020-09-06</td>\n",
       "      <td>657471</td>\n",
       "      <td>22268.0</td>\n",
       "      <td>71238.0</td>\n",
       "      <td>2774.0</td>\n",
       "    </tr>\n",
       "    <tr>\n",
       "      <th>193</th>\n",
       "      <td>2020-09-07</td>\n",
       "      <td>663329</td>\n",
       "      <td>22584.0</td>\n",
       "      <td>71631.0</td>\n",
       "      <td>2797.0</td>\n",
       "    </tr>\n",
       "    <tr>\n",
       "      <th>194</th>\n",
       "      <td>2020-09-08</td>\n",
       "      <td>669420</td>\n",
       "      <td>22870.0</td>\n",
       "      <td>71986.0</td>\n",
       "      <td>2834.0</td>\n",
       "    </tr>\n",
       "    <tr>\n",
       "      <th>195</th>\n",
       "      <td>2020-09-09</td>\n",
       "      <td>675082</td>\n",
       "      <td>23136.0</td>\n",
       "      <td>72376.0</td>\n",
       "      <td>2860.0</td>\n",
       "    </tr>\n",
       "    <tr>\n",
       "      <th>196</th>\n",
       "      <td>2020-09-10</td>\n",
       "      <td>680303</td>\n",
       "      <td>23369.0</td>\n",
       "      <td>72707.0</td>\n",
       "      <td>2882.0</td>\n",
       "    </tr>\n",
       "    <tr>\n",
       "      <th>197</th>\n",
       "      <td>2020-09-11</td>\n",
       "      <td>685372</td>\n",
       "      <td>23584.0</td>\n",
       "      <td>73045.0</td>\n",
       "      <td>2906.0</td>\n",
       "    </tr>\n",
       "    <tr>\n",
       "      <th>198</th>\n",
       "      <td>2020-09-12</td>\n",
       "      <td>687895</td>\n",
       "      <td>23671.0</td>\n",
       "      <td>73404.0</td>\n",
       "      <td>2926.0</td>\n",
       "    </tr>\n",
       "    <tr>\n",
       "      <th>199</th>\n",
       "      <td>2020-09-13</td>\n",
       "      <td>689592</td>\n",
       "      <td>23774.0</td>\n",
       "      <td>73726.0</td>\n",
       "      <td>2958.0</td>\n",
       "    </tr>\n",
       "    <tr>\n",
       "      <th>200</th>\n",
       "      <td>2020-09-14</td>\n",
       "      <td>695297</td>\n",
       "      <td>24106.0</td>\n",
       "      <td>74073.0</td>\n",
       "      <td>2989.0</td>\n",
       "    </tr>\n",
       "    <tr>\n",
       "      <th>201</th>\n",
       "      <td>2020-09-15</td>\n",
       "      <td>699154</td>\n",
       "      <td>24285.0</td>\n",
       "      <td>74413.0</td>\n",
       "      <td>3009.0</td>\n",
       "    </tr>\n",
       "    <tr>\n",
       "      <th>202</th>\n",
       "      <td>2020-09-16</td>\n",
       "      <td>701122</td>\n",
       "      <td>24384.0</td>\n",
       "      <td>74741.0</td>\n",
       "      <td>3038.0</td>\n",
       "    </tr>\n",
       "    <tr>\n",
       "      <th>203</th>\n",
       "      <td>2020-09-17</td>\n",
       "      <td>706805</td>\n",
       "      <td>24695.0</td>\n",
       "      <td>75054.0</td>\n",
       "      <td>3072.0</td>\n",
       "    </tr>\n",
       "    <tr>\n",
       "      <th>204</th>\n",
       "      <td>2020-09-18</td>\n",
       "      <td>712130</td>\n",
       "      <td>24944.0</td>\n",
       "      <td>75336.0</td>\n",
       "      <td>3097.0</td>\n",
       "    </tr>\n",
       "    <tr>\n",
       "      <th>205</th>\n",
       "      <td>2020-09-19</td>\n",
       "      <td>714663</td>\n",
       "      <td>25050.0</td>\n",
       "      <td>75651.0</td>\n",
       "      <td>3130.0</td>\n",
       "    </tr>\n",
       "    <tr>\n",
       "      <th>206</th>\n",
       "      <td>2020-09-20</td>\n",
       "      <td>716227</td>\n",
       "      <td>25139.0</td>\n",
       "      <td>75973.0</td>\n",
       "      <td>3154.0</td>\n",
       "    </tr>\n",
       "    <tr>\n",
       "      <th>207</th>\n",
       "      <td>2020-09-21</td>\n",
       "      <td>721977</td>\n",
       "      <td>25480.0</td>\n",
       "      <td>76298.0</td>\n",
       "      <td>3174.0</td>\n",
       "    </tr>\n",
       "    <tr>\n",
       "      <th>208</th>\n",
       "      <td>2020-09-22</td>\n",
       "      <td>727600</td>\n",
       "      <td>25810.0</td>\n",
       "      <td>76621.0</td>\n",
       "      <td>3193.0</td>\n",
       "    </tr>\n",
       "    <tr>\n",
       "      <th>209</th>\n",
       "      <td>2020-09-23</td>\n",
       "      <td>732769</td>\n",
       "      <td>26097.0</td>\n",
       "      <td>76932.0</td>\n",
       "      <td>3214.0</td>\n",
       "    </tr>\n",
       "    <tr>\n",
       "      <th>210</th>\n",
       "      <td>2020-09-24</td>\n",
       "      <td>737603</td>\n",
       "      <td>26383.0</td>\n",
       "      <td>77225.0</td>\n",
       "      <td>3228.0</td>\n",
       "    </tr>\n",
       "    <tr>\n",
       "      <th>211</th>\n",
       "      <td>2020-09-25</td>\n",
       "      <td>742289</td>\n",
       "      <td>26668.0</td>\n",
       "      <td>77495.0</td>\n",
       "      <td>3249.0</td>\n",
       "    </tr>\n",
       "    <tr>\n",
       "      <th>212</th>\n",
       "      <td>2020-09-26</td>\n",
       "      <td>744588</td>\n",
       "      <td>26749.0</td>\n",
       "      <td>77771.0</td>\n",
       "      <td>3275.0</td>\n",
       "    </tr>\n",
       "    <tr>\n",
       "      <th>213</th>\n",
       "      <td>2020-09-27</td>\n",
       "      <td>746063</td>\n",
       "      <td>26823.0</td>\n",
       "      <td>78038.0</td>\n",
       "      <td>3291.0</td>\n",
       "    </tr>\n",
       "    <tr>\n",
       "      <th>214</th>\n",
       "      <td>2020-09-28</td>\n",
       "      <td>751294</td>\n",
       "      <td>27107.0</td>\n",
       "      <td>78299.0</td>\n",
       "      <td>3312.0</td>\n",
       "    </tr>\n",
       "    <tr>\n",
       "      <th>215</th>\n",
       "      <td>2020-09-29</td>\n",
       "      <td>756079</td>\n",
       "      <td>27440.0</td>\n",
       "      <td>78553.0</td>\n",
       "      <td>3334.0</td>\n",
       "    </tr>\n",
       "    <tr>\n",
       "      <th>216</th>\n",
       "      <td>2020-09-30</td>\n",
       "      <td>759902</td>\n",
       "      <td>27710.0</td>\n",
       "      <td>78778.0</td>\n",
       "      <td>3345.0</td>\n",
       "    </tr>\n",
       "    <tr>\n",
       "      <th>217</th>\n",
       "      <td>2020-10-01</td>\n",
       "      <td>762724</td>\n",
       "      <td>27898.0</td>\n",
       "      <td>78979.0</td>\n",
       "      <td>3364.0</td>\n",
       "    </tr>\n",
       "    <tr>\n",
       "      <th>218</th>\n",
       "      <td>2020-10-02</td>\n",
       "      <td>764539</td>\n",
       "      <td>28051.0</td>\n",
       "      <td>79108.0</td>\n",
       "      <td>3380.0</td>\n",
       "    </tr>\n",
       "    <tr>\n",
       "      <th>219</th>\n",
       "      <td>2020-10-03</td>\n",
       "      <td>764996</td>\n",
       "      <td>28103.0</td>\n",
       "      <td>79212.0</td>\n",
       "      <td>3394.0</td>\n",
       "    </tr>\n",
       "    <tr>\n",
       "      <th>220</th>\n",
       "      <td>2020-10-04</td>\n",
       "      <td>765075</td>\n",
       "      <td>28127.0</td>\n",
       "      <td>79266.0</td>\n",
       "      <td>3396.0</td>\n",
       "    </tr>\n",
       "    <tr>\n",
       "      <th>221</th>\n",
       "      <td>2020-10-05</td>\n",
       "      <td>765082</td>\n",
       "      <td>28128.0</td>\n",
       "      <td>79268.0</td>\n",
       "      <td>NaN</td>\n",
       "    </tr>\n",
       "  </tbody>\n",
       "</table>\n",
       "<p>222 rows × 5 columns</p>\n",
       "</div>"
      ],
      "text/plain": [
       "           date  Cases_Mexico  Cases_Jalisco  Deaths_Mexico  Deaths_Jalisco\n",
       "0    2020-01-13             1            NaN            NaN             NaN\n",
       "1    2020-01-29             2            NaN            NaN             NaN\n",
       "2    2020-02-24             3            NaN            NaN             NaN\n",
       "3    2020-02-27             7            NaN            NaN             NaN\n",
       "4    2020-02-28             9            NaN            NaN             NaN\n",
       "5    2020-02-29            10            NaN            NaN             NaN\n",
       "6    2020-03-02            11            NaN            NaN             NaN\n",
       "7    2020-03-04            14            NaN            NaN             NaN\n",
       "8    2020-03-05            15            NaN            NaN             NaN\n",
       "9    2020-03-07            16            NaN            NaN             NaN\n",
       "10   2020-03-08            20            NaN            NaN             NaN\n",
       "11   2020-03-09            22            NaN            NaN             NaN\n",
       "12   2020-03-10            31            NaN            NaN             NaN\n",
       "13   2020-03-11            58            1.0            NaN             NaN\n",
       "14   2020-03-12            86            4.0            NaN             NaN\n",
       "15   2020-03-13           146            7.0            NaN             NaN\n",
       "16   2020-03-14           196           12.0            NaN             NaN\n",
       "17   2020-03-15           232           14.0            NaN             NaN\n",
       "18   2020-03-16           300           26.0            NaN             NaN\n",
       "19   2020-03-17           395           32.0            NaN             NaN\n",
       "20   2020-03-18           497           49.0            2.0             NaN\n",
       "21   2020-03-19           608           60.0            NaN             NaN\n",
       "22   2020-03-20           708           65.0            3.0             1.0\n",
       "23   2020-03-21           774           66.0            NaN             NaN\n",
       "24   2020-03-22           822           69.0            4.0             NaN\n",
       "25   2020-03-23           952           77.0            5.0             NaN\n",
       "26   2020-03-24          1118           84.0            7.0             NaN\n",
       "27   2020-03-25          1259           91.0            9.0             NaN\n",
       "28   2020-03-26          1432           97.0           17.0             3.0\n",
       "29   2020-03-27          1645          104.0           24.0             NaN\n",
       "..          ...           ...            ...            ...             ...\n",
       "192  2020-09-06        657471        22268.0        71238.0          2774.0\n",
       "193  2020-09-07        663329        22584.0        71631.0          2797.0\n",
       "194  2020-09-08        669420        22870.0        71986.0          2834.0\n",
       "195  2020-09-09        675082        23136.0        72376.0          2860.0\n",
       "196  2020-09-10        680303        23369.0        72707.0          2882.0\n",
       "197  2020-09-11        685372        23584.0        73045.0          2906.0\n",
       "198  2020-09-12        687895        23671.0        73404.0          2926.0\n",
       "199  2020-09-13        689592        23774.0        73726.0          2958.0\n",
       "200  2020-09-14        695297        24106.0        74073.0          2989.0\n",
       "201  2020-09-15        699154        24285.0        74413.0          3009.0\n",
       "202  2020-09-16        701122        24384.0        74741.0          3038.0\n",
       "203  2020-09-17        706805        24695.0        75054.0          3072.0\n",
       "204  2020-09-18        712130        24944.0        75336.0          3097.0\n",
       "205  2020-09-19        714663        25050.0        75651.0          3130.0\n",
       "206  2020-09-20        716227        25139.0        75973.0          3154.0\n",
       "207  2020-09-21        721977        25480.0        76298.0          3174.0\n",
       "208  2020-09-22        727600        25810.0        76621.0          3193.0\n",
       "209  2020-09-23        732769        26097.0        76932.0          3214.0\n",
       "210  2020-09-24        737603        26383.0        77225.0          3228.0\n",
       "211  2020-09-25        742289        26668.0        77495.0          3249.0\n",
       "212  2020-09-26        744588        26749.0        77771.0          3275.0\n",
       "213  2020-09-27        746063        26823.0        78038.0          3291.0\n",
       "214  2020-09-28        751294        27107.0        78299.0          3312.0\n",
       "215  2020-09-29        756079        27440.0        78553.0          3334.0\n",
       "216  2020-09-30        759902        27710.0        78778.0          3345.0\n",
       "217  2020-10-01        762724        27898.0        78979.0          3364.0\n",
       "218  2020-10-02        764539        28051.0        79108.0          3380.0\n",
       "219  2020-10-03        764996        28103.0        79212.0          3394.0\n",
       "220  2020-10-04        765075        28127.0        79266.0          3396.0\n",
       "221  2020-10-05        765082        28128.0        79268.0             NaN\n",
       "\n",
       "[222 rows x 5 columns]"
      ]
     },
     "execution_count": 201,
     "metadata": {},
     "output_type": "execute_result"
    }
   ],
   "source": [
    "df2"
   ]
  },
  {
   "cell_type": "code",
   "execution_count": 397,
   "metadata": {},
   "outputs": [
    {
     "data": {
      "application/vnd.plotly.v1+json": {
       "config": {
        "plotlyServerURL": "https://plot.ly"
       },
       "data": [
        {
         "line": {
          "width": 2
         },
         "marker": {
          "size": 6
         },
         "mode": "lines+markers",
         "name": "Cases_Mexico - as reported",
         "opacity": 0.6,
         "type": "scatter",
         "x": [
          "2020-04-12T00:00:00",
          "2020-04-13T00:00:00",
          "2020-04-14T00:00:00",
          "2020-04-15T00:00:00",
          "2020-04-16T00:00:00",
          "2020-04-17T00:00:00",
          "2020-04-18T00:00:00",
          "2020-04-19T00:00:00",
          "2020-04-20T00:00:00",
          "2020-04-21T00:00:00",
          "2020-04-22T00:00:00",
          "2020-04-23T00:00:00",
          "2020-04-24T00:00:00",
          "2020-04-25T00:00:00",
          "2020-04-26T00:00:00",
          "2020-04-27T00:00:00",
          "2020-04-28T00:00:00",
          "2020-04-29T00:00:00",
          "2020-04-30T00:00:00",
          "2020-05-01T00:00:00",
          "2020-05-02T00:00:00",
          "2020-05-03T00:00:00",
          "2020-05-04T00:00:00",
          "2020-05-05T00:00:00",
          "2020-05-06T00:00:00",
          "2020-05-07T00:00:00",
          "2020-05-08T00:00:00",
          "2020-05-09T00:00:00",
          "2020-05-10T00:00:00",
          "2020-05-11T00:00:00",
          "2020-05-12T00:00:00",
          "2020-05-13T00:00:00",
          "2020-05-14T00:00:00",
          "2020-05-15T00:00:00",
          "2020-05-16T00:00:00",
          "2020-05-17T00:00:00",
          "2020-05-18T00:00:00",
          "2020-05-19T00:00:00",
          "2020-05-20T00:00:00",
          "2020-05-21T00:00:00",
          "2020-05-22T00:00:00",
          "2020-05-23T00:00:00",
          "2020-05-24T00:00:00",
          "2020-05-25T00:00:00",
          "2020-05-26T00:00:00",
          "2020-05-27T00:00:00",
          "2020-05-28T00:00:00",
          "2020-05-29T00:00:00",
          "2020-05-30T00:00:00",
          "2020-05-31T00:00:00",
          "2020-06-01T00:00:00",
          "2020-06-02T00:00:00",
          "2020-06-03T00:00:00",
          "2020-06-04T00:00:00",
          "2020-06-05T00:00:00",
          "2020-06-06T00:00:00",
          "2020-06-07T00:00:00",
          "2020-06-08T00:00:00",
          "2020-06-09T00:00:00",
          "2020-06-10T00:00:00",
          "2020-06-11T00:00:00",
          "2020-06-12T00:00:00",
          "2020-06-13T00:00:00",
          "2020-06-14T00:00:00",
          "2020-06-15T00:00:00",
          "2020-06-16T00:00:00",
          "2020-06-17T00:00:00",
          "2020-06-18T00:00:00",
          "2020-06-19T00:00:00",
          "2020-06-20T00:00:00",
          "2020-06-21T00:00:00",
          "2020-06-22T00:00:00",
          "2020-06-23T00:00:00",
          "2020-06-24T00:00:00",
          "2020-06-25T00:00:00",
          "2020-06-26T00:00:00",
          "2020-06-27T00:00:00",
          "2020-06-28T00:00:00",
          "2020-06-29T00:00:00",
          "2020-06-30T00:00:00",
          "2020-07-01T00:00:00",
          "2020-07-02T00:00:00",
          "2020-07-03T00:00:00",
          "2020-07-04T00:00:00",
          "2020-07-05T00:00:00",
          "2020-07-06T00:00:00",
          "2020-07-07T00:00:00",
          "2020-07-08T00:00:00",
          "2020-07-09T00:00:00",
          "2020-07-10T00:00:00",
          "2020-07-11T00:00:00",
          "2020-07-12T00:00:00",
          "2020-07-13T00:00:00",
          "2020-07-14T00:00:00",
          "2020-07-15T00:00:00",
          "2020-07-16T00:00:00",
          "2020-07-17T00:00:00",
          "2020-07-18T00:00:00",
          "2020-07-19T00:00:00",
          "2020-07-20T00:00:00",
          "2020-07-21T00:00:00",
          "2020-07-22T00:00:00",
          "2020-07-23T00:00:00",
          "2020-07-24T00:00:00",
          "2020-07-25T00:00:00",
          "2020-07-26T00:00:00",
          "2020-07-27T00:00:00",
          "2020-07-28T00:00:00",
          "2020-07-29T00:00:00",
          "2020-07-30T00:00:00",
          "2020-07-31T00:00:00",
          "2020-08-01T00:00:00",
          "2020-08-02T00:00:00",
          "2020-08-03T00:00:00",
          "2020-08-04T00:00:00",
          "2020-08-05T00:00:00",
          "2020-08-06T00:00:00",
          "2020-08-07T00:00:00",
          "2020-08-08T00:00:00",
          "2020-08-09T00:00:00",
          "2020-08-10T00:00:00",
          "2020-08-11T00:00:00",
          "2020-08-12T00:00:00",
          "2020-08-13T00:00:00",
          "2020-08-14T00:00:00",
          "2020-08-15T00:00:00",
          "2020-08-16T00:00:00",
          "2020-08-17T00:00:00",
          "2020-08-18T00:00:00",
          "2020-08-19T00:00:00",
          "2020-08-20T00:00:00",
          "2020-08-21T00:00:00",
          "2020-08-22T00:00:00",
          "2020-08-23T00:00:00",
          "2020-08-24T00:00:00",
          "2020-08-25T00:00:00",
          "2020-08-26T00:00:00",
          "2020-08-27T00:00:00",
          "2020-08-28T00:00:00",
          "2020-08-29T00:00:00",
          "2020-08-30T00:00:00",
          "2020-08-31T00:00:00",
          "2020-09-01T00:00:00",
          "2020-09-02T00:00:00",
          "2020-09-03T00:00:00",
          "2020-09-04T00:00:00",
          "2020-09-05T00:00:00",
          "2020-09-06T00:00:00",
          "2020-09-07T00:00:00",
          "2020-09-08T00:00:00",
          "2020-09-09T00:00:00",
          "2020-09-10T00:00:00",
          "2020-09-11T00:00:00",
          "2020-09-12T00:00:00",
          "2020-09-13T00:00:00",
          "2020-09-14T00:00:00",
          "2020-09-15T00:00:00",
          "2020-09-16T00:00:00",
          "2020-09-17T00:00:00",
          "2020-09-18T00:00:00",
          "2020-09-19T00:00:00",
          "2020-09-20T00:00:00",
          "2020-09-21T00:00:00",
          "2020-09-22T00:00:00",
          "2020-09-23T00:00:00",
          "2020-09-24T00:00:00",
          "2020-09-25T00:00:00",
          "2020-09-26T00:00:00",
          "2020-09-27T00:00:00",
          "2020-09-28T00:00:00",
          "2020-09-29T00:00:00",
          "2020-09-30T00:00:00",
          "2020-10-01T00:00:00",
          "2020-10-02T00:00:00",
          "2020-10-03T00:00:00",
          "2020-10-04T00:00:00",
          "2020-10-05T00:00:00"
         ],
         "y": [
          4661,
          5014,
          5399,
          5847,
          6297,
          6875,
          7497,
          8261,
          8772,
          9501,
          10544,
          11633,
          12872,
          13842,
          14677,
          15529,
          16752,
          17799,
          19224,
          20739,
          22088,
          23471,
          24905,
          26025,
          27634,
          29616,
          31522,
          33460,
          35022,
          36327,
          38324,
          40186,
          42595,
          45032,
          47144,
          49219,
          51633,
          54346,
          56594,
          59567,
          62527,
          65856,
          68620,
          71105,
          74560,
          78023,
          81400,
          84627,
          87512,
          90664,
          93435,
          97326,
          101238,
          105680,
          110026,
          113619,
          117103,
          120102,
          124301,
          129184,
          133974,
          139196,
          142690,
          146837,
          150264,
          154863,
          159793,
          165455,
          170485,
          175202,
          180545,
          185122,
          191410,
          196847,
          202951,
          208392,
          212802,
          216852,
          220657,
          226089,
          231770,
          238511,
          245251,
          252165,
          256848,
          261750,
          268008,
          275003,
          282283,
          289174,
          295268,
          299750,
          304435,
          311486,
          317635,
          324041,
          331298,
          338913,
          344224,
          349396,
          356255,
          362274,
          370712,
          378285,
          385036,
          390516,
          395489,
          402697,
          408449,
          416179,
          424637,
          434193,
          439046,
          443813,
          449961,
          456100,
          462690,
          469407,
          475902,
          480278,
          485836,
          492522,
          498380,
          505751,
          511369,
          517714,
          522162,
          525733,
          531239,
          537031,
          543806,
          549734,
          556216,
          560164,
          563705,
          568621,
          573888,
          579914,
          585738,
          591712,
          595841,
          599560,
          606036,
          610957,
          616894,
          623090,
          629409,
          634023,
          637509,
          642860,
          647507,
          652364,
          658299,
          663973,
          668381,
          671716,
          676487,
          680931,
          684113,
          688954,
          694121,
          697663,
          700580,
          705263,
          710049,
          715457,
          720858,
          726431,
          730317,
          733717,
          738163,
          743216,
          748315,
          753090,
          757953,
          761665,
          765082
         ]
        },
        {
         "line": {
          "width": 2
         },
         "marker": {
          "size": 6
         },
         "mode": "lines+markers",
         "name": "Cases_Mexico - as occurred",
         "opacity": 0.6,
         "type": "scatter",
         "x": [
          "2020-01-13",
          "2020-01-29",
          "2020-02-24",
          "2020-02-27",
          "2020-02-28",
          "2020-02-29",
          "2020-03-02",
          "2020-03-04",
          "2020-03-05",
          "2020-03-07",
          "2020-03-08",
          "2020-03-09",
          "2020-03-10",
          "2020-03-11",
          "2020-03-12",
          "2020-03-13",
          "2020-03-14",
          "2020-03-15",
          "2020-03-16",
          "2020-03-17",
          "2020-03-18",
          "2020-03-19",
          "2020-03-20",
          "2020-03-21",
          "2020-03-22",
          "2020-03-23",
          "2020-03-24",
          "2020-03-25",
          "2020-03-26",
          "2020-03-27",
          "2020-03-28",
          "2020-03-29",
          "2020-03-30",
          "2020-03-31",
          "2020-04-01",
          "2020-04-02",
          "2020-04-03",
          "2020-04-04",
          "2020-04-05",
          "2020-04-06",
          "2020-04-07",
          "2020-04-08",
          "2020-04-09",
          "2020-04-10",
          "2020-04-11",
          "2020-04-12",
          "2020-04-13",
          "2020-04-14",
          "2020-04-15",
          "2020-04-16",
          "2020-04-17",
          "2020-04-18",
          "2020-04-19",
          "2020-04-20",
          "2020-04-21",
          "2020-04-22",
          "2020-04-23",
          "2020-04-24",
          "2020-04-25",
          "2020-04-26",
          "2020-04-27",
          "2020-04-28",
          "2020-04-29",
          "2020-04-30",
          "2020-05-01",
          "2020-05-02",
          "2020-05-03",
          "2020-05-04",
          "2020-05-05",
          "2020-05-06",
          "2020-05-07",
          "2020-05-08",
          "2020-05-09",
          "2020-05-10",
          "2020-05-11",
          "2020-05-12",
          "2020-05-13",
          "2020-05-14",
          "2020-05-15",
          "2020-05-16",
          "2020-05-17",
          "2020-05-18",
          "2020-05-19",
          "2020-05-20",
          "2020-05-21",
          "2020-05-22",
          "2020-05-23",
          "2020-05-24",
          "2020-05-25",
          "2020-05-26",
          "2020-05-27",
          "2020-05-28",
          "2020-05-29",
          "2020-05-30",
          "2020-05-31",
          "2020-06-01",
          "2020-06-02",
          "2020-06-03",
          "2020-06-04",
          "2020-06-05",
          "2020-06-06",
          "2020-06-07",
          "2020-06-08",
          "2020-06-09",
          "2020-06-10",
          "2020-06-11",
          "2020-06-12",
          "2020-06-13",
          "2020-06-14",
          "2020-06-15",
          "2020-06-16",
          "2020-06-17",
          "2020-06-18",
          "2020-06-19",
          "2020-06-20",
          "2020-06-21",
          "2020-06-22",
          "2020-06-23",
          "2020-06-24",
          "2020-06-25",
          "2020-06-26",
          "2020-06-27",
          "2020-06-28",
          "2020-06-29",
          "2020-06-30",
          "2020-07-01",
          "2020-07-02",
          "2020-07-03",
          "2020-07-04",
          "2020-07-05",
          "2020-07-06",
          "2020-07-07",
          "2020-07-08",
          "2020-07-09",
          "2020-07-10",
          "2020-07-11",
          "2020-07-12",
          "2020-07-13",
          "2020-07-14",
          "2020-07-15",
          "2020-07-16",
          "2020-07-17",
          "2020-07-18",
          "2020-07-19",
          "2020-07-20",
          "2020-07-21",
          "2020-07-22",
          "2020-07-23",
          "2020-07-24",
          "2020-07-25",
          "2020-07-26",
          "2020-07-27",
          "2020-07-28",
          "2020-07-29",
          "2020-07-30",
          "2020-07-31",
          "2020-08-01",
          "2020-08-02",
          "2020-08-03",
          "2020-08-04",
          "2020-08-05",
          "2020-08-06",
          "2020-08-07",
          "2020-08-08",
          "2020-08-09",
          "2020-08-10",
          "2020-08-11",
          "2020-08-12",
          "2020-08-13",
          "2020-08-14",
          "2020-08-15",
          "2020-08-16",
          "2020-08-17",
          "2020-08-18",
          "2020-08-19",
          "2020-08-20",
          "2020-08-21",
          "2020-08-22",
          "2020-08-23",
          "2020-08-24",
          "2020-08-25",
          "2020-08-26",
          "2020-08-27",
          "2020-08-28",
          "2020-08-29",
          "2020-08-30",
          "2020-08-31",
          "2020-09-01",
          "2020-09-02",
          "2020-09-03",
          "2020-09-04",
          "2020-09-05",
          "2020-09-06",
          "2020-09-07",
          "2020-09-08",
          "2020-09-09",
          "2020-09-10",
          "2020-09-11",
          "2020-09-12",
          "2020-09-13",
          "2020-09-14",
          "2020-09-15",
          "2020-09-16",
          "2020-09-17",
          "2020-09-18",
          "2020-09-19",
          "2020-09-20",
          "2020-09-21",
          "2020-09-22",
          "2020-09-23",
          "2020-09-24",
          "2020-09-25",
          "2020-09-26",
          "2020-09-27",
          "2020-09-28",
          "2020-09-29",
          "2020-09-30",
          "2020-10-01",
          "2020-10-02",
          "2020-10-03",
          "2020-10-04",
          "2020-10-05"
         ],
         "y": [
          1,
          2,
          3,
          7,
          9,
          10,
          11,
          14,
          15,
          16,
          20,
          22,
          31,
          58,
          86,
          146,
          196,
          232,
          300,
          395,
          497,
          608,
          708,
          774,
          822,
          952,
          1118,
          1259,
          1432,
          1645,
          1806,
          1949,
          2268,
          2548,
          2879,
          3191,
          3532,
          3753,
          3982,
          4534,
          4999,
          5523,
          5940,
          6442,
          6861,
          7293,
          8161,
          9015,
          9909,
          10821,
          11874,
          12617,
          13303,
          14697,
          16056,
          17331,
          18698,
          20257,
          21248,
          22213,
          23977,
          25726,
          27453,
          29187,
          30534,
          31870,
          33091,
          35555,
          37605,
          39839,
          42173,
          44524,
          46016,
          47397,
          50289,
          53133,
          56199,
          59215,
          62642,
          64764,
          66368,
          70330,
          73845,
          77702,
          81640,
          85570,
          87802,
          89647,
          94209,
          98500,
          102926,
          107101,
          111397,
          114076,
          116115,
          121319,
          125994,
          130888,
          135715,
          140681,
          143616,
          145912,
          151983,
          157659,
          163305,
          168629,
          174178,
          177192,
          179730,
          186212,
          192550,
          198597,
          204586,
          210614,
          214111,
          216511,
          223292,
          229827,
          236061,
          242237,
          248643,
          252226,
          255088,
          262456,
          269511,
          276943,
          283816,
          290690,
          294230,
          297105,
          304720,
          312356,
          319583,
          326520,
          333475,
          337153,
          340182,
          348431,
          356355,
          364658,
          372441,
          379909,
          384028,
          387166,
          395815,
          404095,
          412004,
          419690,
          427262,
          431097,
          433880,
          441849,
          449471,
          456685,
          463759,
          470015,
          473520,
          475856,
          482920,
          489823,
          496434,
          502706,
          508837,
          512190,
          514408,
          521124,
          527618,
          533663,
          539674,
          545393,
          548405,
          550576,
          557012,
          563263,
          569198,
          574743,
          580599,
          583426,
          585613,
          592185,
          598355,
          604861,
          610894,
          616845,
          619717,
          621762,
          628227,
          634846,
          641394,
          647325,
          652979,
          655579,
          657471,
          663329,
          669420,
          675082,
          680303,
          685372,
          687895,
          689592,
          695297,
          699154,
          701122,
          706805,
          712130,
          714663,
          716227,
          721977,
          727600,
          732769,
          737603,
          742289,
          744588,
          746063,
          751294,
          756079,
          759902,
          762724,
          764539,
          764996,
          765075,
          765082
         ]
        }
       ],
       "layout": {
        "legend": {
         "bgcolor": "rgba(0,0,0,0)",
         "font": {
          "family": "sans-serif",
          "size": 14
         },
         "traceorder": "normal",
         "x": 0.05,
         "y": 0.95
        },
        "showlegend": true,
        "template": {
         "data": {
          "bar": [
           {
            "error_x": {
             "color": "#2a3f5f"
            },
            "error_y": {
             "color": "#2a3f5f"
            },
            "marker": {
             "line": {
              "color": "#E5ECF6",
              "width": 0.5
             }
            },
            "type": "bar"
           }
          ],
          "barpolar": [
           {
            "marker": {
             "line": {
              "color": "#E5ECF6",
              "width": 0.5
             }
            },
            "type": "barpolar"
           }
          ],
          "carpet": [
           {
            "aaxis": {
             "endlinecolor": "#2a3f5f",
             "gridcolor": "white",
             "linecolor": "white",
             "minorgridcolor": "white",
             "startlinecolor": "#2a3f5f"
            },
            "baxis": {
             "endlinecolor": "#2a3f5f",
             "gridcolor": "white",
             "linecolor": "white",
             "minorgridcolor": "white",
             "startlinecolor": "#2a3f5f"
            },
            "type": "carpet"
           }
          ],
          "choropleth": [
           {
            "colorbar": {
             "outlinewidth": 0,
             "ticks": ""
            },
            "type": "choropleth"
           }
          ],
          "contour": [
           {
            "colorbar": {
             "outlinewidth": 0,
             "ticks": ""
            },
            "colorscale": [
             [
              0,
              "#0d0887"
             ],
             [
              0.1111111111111111,
              "#46039f"
             ],
             [
              0.2222222222222222,
              "#7201a8"
             ],
             [
              0.3333333333333333,
              "#9c179e"
             ],
             [
              0.4444444444444444,
              "#bd3786"
             ],
             [
              0.5555555555555556,
              "#d8576b"
             ],
             [
              0.6666666666666666,
              "#ed7953"
             ],
             [
              0.7777777777777778,
              "#fb9f3a"
             ],
             [
              0.8888888888888888,
              "#fdca26"
             ],
             [
              1,
              "#f0f921"
             ]
            ],
            "type": "contour"
           }
          ],
          "contourcarpet": [
           {
            "colorbar": {
             "outlinewidth": 0,
             "ticks": ""
            },
            "type": "contourcarpet"
           }
          ],
          "heatmap": [
           {
            "colorbar": {
             "outlinewidth": 0,
             "ticks": ""
            },
            "colorscale": [
             [
              0,
              "#0d0887"
             ],
             [
              0.1111111111111111,
              "#46039f"
             ],
             [
              0.2222222222222222,
              "#7201a8"
             ],
             [
              0.3333333333333333,
              "#9c179e"
             ],
             [
              0.4444444444444444,
              "#bd3786"
             ],
             [
              0.5555555555555556,
              "#d8576b"
             ],
             [
              0.6666666666666666,
              "#ed7953"
             ],
             [
              0.7777777777777778,
              "#fb9f3a"
             ],
             [
              0.8888888888888888,
              "#fdca26"
             ],
             [
              1,
              "#f0f921"
             ]
            ],
            "type": "heatmap"
           }
          ],
          "heatmapgl": [
           {
            "colorbar": {
             "outlinewidth": 0,
             "ticks": ""
            },
            "colorscale": [
             [
              0,
              "#0d0887"
             ],
             [
              0.1111111111111111,
              "#46039f"
             ],
             [
              0.2222222222222222,
              "#7201a8"
             ],
             [
              0.3333333333333333,
              "#9c179e"
             ],
             [
              0.4444444444444444,
              "#bd3786"
             ],
             [
              0.5555555555555556,
              "#d8576b"
             ],
             [
              0.6666666666666666,
              "#ed7953"
             ],
             [
              0.7777777777777778,
              "#fb9f3a"
             ],
             [
              0.8888888888888888,
              "#fdca26"
             ],
             [
              1,
              "#f0f921"
             ]
            ],
            "type": "heatmapgl"
           }
          ],
          "histogram": [
           {
            "marker": {
             "colorbar": {
              "outlinewidth": 0,
              "ticks": ""
             }
            },
            "type": "histogram"
           }
          ],
          "histogram2d": [
           {
            "colorbar": {
             "outlinewidth": 0,
             "ticks": ""
            },
            "colorscale": [
             [
              0,
              "#0d0887"
             ],
             [
              0.1111111111111111,
              "#46039f"
             ],
             [
              0.2222222222222222,
              "#7201a8"
             ],
             [
              0.3333333333333333,
              "#9c179e"
             ],
             [
              0.4444444444444444,
              "#bd3786"
             ],
             [
              0.5555555555555556,
              "#d8576b"
             ],
             [
              0.6666666666666666,
              "#ed7953"
             ],
             [
              0.7777777777777778,
              "#fb9f3a"
             ],
             [
              0.8888888888888888,
              "#fdca26"
             ],
             [
              1,
              "#f0f921"
             ]
            ],
            "type": "histogram2d"
           }
          ],
          "histogram2dcontour": [
           {
            "colorbar": {
             "outlinewidth": 0,
             "ticks": ""
            },
            "colorscale": [
             [
              0,
              "#0d0887"
             ],
             [
              0.1111111111111111,
              "#46039f"
             ],
             [
              0.2222222222222222,
              "#7201a8"
             ],
             [
              0.3333333333333333,
              "#9c179e"
             ],
             [
              0.4444444444444444,
              "#bd3786"
             ],
             [
              0.5555555555555556,
              "#d8576b"
             ],
             [
              0.6666666666666666,
              "#ed7953"
             ],
             [
              0.7777777777777778,
              "#fb9f3a"
             ],
             [
              0.8888888888888888,
              "#fdca26"
             ],
             [
              1,
              "#f0f921"
             ]
            ],
            "type": "histogram2dcontour"
           }
          ],
          "mesh3d": [
           {
            "colorbar": {
             "outlinewidth": 0,
             "ticks": ""
            },
            "type": "mesh3d"
           }
          ],
          "parcoords": [
           {
            "line": {
             "colorbar": {
              "outlinewidth": 0,
              "ticks": ""
             }
            },
            "type": "parcoords"
           }
          ],
          "pie": [
           {
            "automargin": true,
            "type": "pie"
           }
          ],
          "scatter": [
           {
            "marker": {
             "colorbar": {
              "outlinewidth": 0,
              "ticks": ""
             }
            },
            "type": "scatter"
           }
          ],
          "scatter3d": [
           {
            "line": {
             "colorbar": {
              "outlinewidth": 0,
              "ticks": ""
             }
            },
            "marker": {
             "colorbar": {
              "outlinewidth": 0,
              "ticks": ""
             }
            },
            "type": "scatter3d"
           }
          ],
          "scattercarpet": [
           {
            "marker": {
             "colorbar": {
              "outlinewidth": 0,
              "ticks": ""
             }
            },
            "type": "scattercarpet"
           }
          ],
          "scattergeo": [
           {
            "marker": {
             "colorbar": {
              "outlinewidth": 0,
              "ticks": ""
             }
            },
            "type": "scattergeo"
           }
          ],
          "scattergl": [
           {
            "marker": {
             "colorbar": {
              "outlinewidth": 0,
              "ticks": ""
             }
            },
            "type": "scattergl"
           }
          ],
          "scattermapbox": [
           {
            "marker": {
             "colorbar": {
              "outlinewidth": 0,
              "ticks": ""
             }
            },
            "type": "scattermapbox"
           }
          ],
          "scatterpolar": [
           {
            "marker": {
             "colorbar": {
              "outlinewidth": 0,
              "ticks": ""
             }
            },
            "type": "scatterpolar"
           }
          ],
          "scatterpolargl": [
           {
            "marker": {
             "colorbar": {
              "outlinewidth": 0,
              "ticks": ""
             }
            },
            "type": "scatterpolargl"
           }
          ],
          "scatterternary": [
           {
            "marker": {
             "colorbar": {
              "outlinewidth": 0,
              "ticks": ""
             }
            },
            "type": "scatterternary"
           }
          ],
          "surface": [
           {
            "colorbar": {
             "outlinewidth": 0,
             "ticks": ""
            },
            "colorscale": [
             [
              0,
              "#0d0887"
             ],
             [
              0.1111111111111111,
              "#46039f"
             ],
             [
              0.2222222222222222,
              "#7201a8"
             ],
             [
              0.3333333333333333,
              "#9c179e"
             ],
             [
              0.4444444444444444,
              "#bd3786"
             ],
             [
              0.5555555555555556,
              "#d8576b"
             ],
             [
              0.6666666666666666,
              "#ed7953"
             ],
             [
              0.7777777777777778,
              "#fb9f3a"
             ],
             [
              0.8888888888888888,
              "#fdca26"
             ],
             [
              1,
              "#f0f921"
             ]
            ],
            "type": "surface"
           }
          ],
          "table": [
           {
            "cells": {
             "fill": {
              "color": "#EBF0F8"
             },
             "line": {
              "color": "white"
             }
            },
            "header": {
             "fill": {
              "color": "#C8D4E3"
             },
             "line": {
              "color": "white"
             }
            },
            "type": "table"
           }
          ]
         },
         "layout": {
          "annotationdefaults": {
           "arrowcolor": "#2a3f5f",
           "arrowhead": 0,
           "arrowwidth": 1
          },
          "coloraxis": {
           "colorbar": {
            "outlinewidth": 0,
            "ticks": ""
           }
          },
          "colorscale": {
           "diverging": [
            [
             0,
             "#8e0152"
            ],
            [
             0.1,
             "#c51b7d"
            ],
            [
             0.2,
             "#de77ae"
            ],
            [
             0.3,
             "#f1b6da"
            ],
            [
             0.4,
             "#fde0ef"
            ],
            [
             0.5,
             "#f7f7f7"
            ],
            [
             0.6,
             "#e6f5d0"
            ],
            [
             0.7,
             "#b8e186"
            ],
            [
             0.8,
             "#7fbc41"
            ],
            [
             0.9,
             "#4d9221"
            ],
            [
             1,
             "#276419"
            ]
           ],
           "sequential": [
            [
             0,
             "#0d0887"
            ],
            [
             0.1111111111111111,
             "#46039f"
            ],
            [
             0.2222222222222222,
             "#7201a8"
            ],
            [
             0.3333333333333333,
             "#9c179e"
            ],
            [
             0.4444444444444444,
             "#bd3786"
            ],
            [
             0.5555555555555556,
             "#d8576b"
            ],
            [
             0.6666666666666666,
             "#ed7953"
            ],
            [
             0.7777777777777778,
             "#fb9f3a"
            ],
            [
             0.8888888888888888,
             "#fdca26"
            ],
            [
             1,
             "#f0f921"
            ]
           ],
           "sequentialminus": [
            [
             0,
             "#0d0887"
            ],
            [
             0.1111111111111111,
             "#46039f"
            ],
            [
             0.2222222222222222,
             "#7201a8"
            ],
            [
             0.3333333333333333,
             "#9c179e"
            ],
            [
             0.4444444444444444,
             "#bd3786"
            ],
            [
             0.5555555555555556,
             "#d8576b"
            ],
            [
             0.6666666666666666,
             "#ed7953"
            ],
            [
             0.7777777777777778,
             "#fb9f3a"
            ],
            [
             0.8888888888888888,
             "#fdca26"
            ],
            [
             1,
             "#f0f921"
            ]
           ]
          },
          "colorway": [
           "#636efa",
           "#EF553B",
           "#00cc96",
           "#ab63fa",
           "#FFA15A",
           "#19d3f3",
           "#FF6692",
           "#B6E880",
           "#FF97FF",
           "#FECB52"
          ],
          "font": {
           "color": "#2a3f5f"
          },
          "geo": {
           "bgcolor": "white",
           "lakecolor": "white",
           "landcolor": "#E5ECF6",
           "showlakes": true,
           "showland": true,
           "subunitcolor": "white"
          },
          "hoverlabel": {
           "align": "left"
          },
          "hovermode": "closest",
          "mapbox": {
           "style": "light"
          },
          "paper_bgcolor": "white",
          "plot_bgcolor": "#E5ECF6",
          "polar": {
           "angularaxis": {
            "gridcolor": "white",
            "linecolor": "white",
            "ticks": ""
           },
           "bgcolor": "#E5ECF6",
           "radialaxis": {
            "gridcolor": "white",
            "linecolor": "white",
            "ticks": ""
           }
          },
          "scene": {
           "xaxis": {
            "backgroundcolor": "#E5ECF6",
            "gridcolor": "white",
            "gridwidth": 2,
            "linecolor": "white",
            "showbackground": true,
            "ticks": "",
            "zerolinecolor": "white"
           },
           "yaxis": {
            "backgroundcolor": "#E5ECF6",
            "gridcolor": "white",
            "gridwidth": 2,
            "linecolor": "white",
            "showbackground": true,
            "ticks": "",
            "zerolinecolor": "white"
           },
           "zaxis": {
            "backgroundcolor": "#E5ECF6",
            "gridcolor": "white",
            "gridwidth": 2,
            "linecolor": "white",
            "showbackground": true,
            "ticks": "",
            "zerolinecolor": "white"
           }
          },
          "shapedefaults": {
           "line": {
            "color": "#2a3f5f"
           }
          },
          "ternary": {
           "aaxis": {
            "gridcolor": "white",
            "linecolor": "white",
            "ticks": ""
           },
           "baxis": {
            "gridcolor": "white",
            "linecolor": "white",
            "ticks": ""
           },
           "bgcolor": "#E5ECF6",
           "caxis": {
            "gridcolor": "white",
            "linecolor": "white",
            "ticks": ""
           }
          },
          "title": {
           "x": 0.05
          },
          "xaxis": {
           "automargin": true,
           "gridcolor": "white",
           "linecolor": "white",
           "ticks": "",
           "title": {
            "standoff": 15
           },
           "zerolinecolor": "white",
           "zerolinewidth": 2
          },
          "yaxis": {
           "automargin": true,
           "gridcolor": "white",
           "linecolor": "white",
           "ticks": "",
           "title": {
            "standoff": 15
           },
           "zerolinecolor": "white",
           "zerolinewidth": 2
          }
         }
        },
        "title": {
         "text": "Data - Cases in Mexico",
         "x": 0.5
        },
        "yaxis": {
         "type": "linear"
        }
       }
      },
      "text/html": [
       "<div>\n",
       "        \n",
       "        \n",
       "            <div id=\"15a43e19-552c-4e10-8d24-271ea0bfedca\" class=\"plotly-graph-div\" style=\"height:525px; width:100%;\"></div>\n",
       "            <script type=\"text/javascript\">\n",
       "                require([\"plotly\"], function(Plotly) {\n",
       "                    window.PLOTLYENV=window.PLOTLYENV || {};\n",
       "                    \n",
       "                if (document.getElementById(\"15a43e19-552c-4e10-8d24-271ea0bfedca\")) {\n",
       "                    Plotly.newPlot(\n",
       "                        '15a43e19-552c-4e10-8d24-271ea0bfedca',\n",
       "                        [{\"line\": {\"width\": 2}, \"marker\": {\"size\": 6}, \"mode\": \"lines+markers\", \"name\": \"Cases_Mexico - as reported\", \"opacity\": 0.6, \"type\": \"scatter\", \"x\": [\"2020-04-12T00:00:00\", \"2020-04-13T00:00:00\", \"2020-04-14T00:00:00\", \"2020-04-15T00:00:00\", \"2020-04-16T00:00:00\", \"2020-04-17T00:00:00\", \"2020-04-18T00:00:00\", \"2020-04-19T00:00:00\", \"2020-04-20T00:00:00\", \"2020-04-21T00:00:00\", \"2020-04-22T00:00:00\", \"2020-04-23T00:00:00\", \"2020-04-24T00:00:00\", \"2020-04-25T00:00:00\", \"2020-04-26T00:00:00\", \"2020-04-27T00:00:00\", \"2020-04-28T00:00:00\", \"2020-04-29T00:00:00\", \"2020-04-30T00:00:00\", \"2020-05-01T00:00:00\", \"2020-05-02T00:00:00\", \"2020-05-03T00:00:00\", \"2020-05-04T00:00:00\", \"2020-05-05T00:00:00\", \"2020-05-06T00:00:00\", \"2020-05-07T00:00:00\", \"2020-05-08T00:00:00\", \"2020-05-09T00:00:00\", \"2020-05-10T00:00:00\", \"2020-05-11T00:00:00\", \"2020-05-12T00:00:00\", \"2020-05-13T00:00:00\", \"2020-05-14T00:00:00\", \"2020-05-15T00:00:00\", \"2020-05-16T00:00:00\", \"2020-05-17T00:00:00\", \"2020-05-18T00:00:00\", \"2020-05-19T00:00:00\", \"2020-05-20T00:00:00\", \"2020-05-21T00:00:00\", \"2020-05-22T00:00:00\", \"2020-05-23T00:00:00\", \"2020-05-24T00:00:00\", \"2020-05-25T00:00:00\", \"2020-05-26T00:00:00\", \"2020-05-27T00:00:00\", \"2020-05-28T00:00:00\", \"2020-05-29T00:00:00\", \"2020-05-30T00:00:00\", \"2020-05-31T00:00:00\", \"2020-06-01T00:00:00\", \"2020-06-02T00:00:00\", \"2020-06-03T00:00:00\", \"2020-06-04T00:00:00\", \"2020-06-05T00:00:00\", \"2020-06-06T00:00:00\", \"2020-06-07T00:00:00\", \"2020-06-08T00:00:00\", \"2020-06-09T00:00:00\", \"2020-06-10T00:00:00\", \"2020-06-11T00:00:00\", \"2020-06-12T00:00:00\", \"2020-06-13T00:00:00\", \"2020-06-14T00:00:00\", \"2020-06-15T00:00:00\", \"2020-06-16T00:00:00\", \"2020-06-17T00:00:00\", \"2020-06-18T00:00:00\", \"2020-06-19T00:00:00\", \"2020-06-20T00:00:00\", \"2020-06-21T00:00:00\", \"2020-06-22T00:00:00\", \"2020-06-23T00:00:00\", \"2020-06-24T00:00:00\", \"2020-06-25T00:00:00\", \"2020-06-26T00:00:00\", \"2020-06-27T00:00:00\", \"2020-06-28T00:00:00\", \"2020-06-29T00:00:00\", \"2020-06-30T00:00:00\", \"2020-07-01T00:00:00\", \"2020-07-02T00:00:00\", \"2020-07-03T00:00:00\", \"2020-07-04T00:00:00\", \"2020-07-05T00:00:00\", \"2020-07-06T00:00:00\", \"2020-07-07T00:00:00\", \"2020-07-08T00:00:00\", \"2020-07-09T00:00:00\", \"2020-07-10T00:00:00\", \"2020-07-11T00:00:00\", \"2020-07-12T00:00:00\", \"2020-07-13T00:00:00\", \"2020-07-14T00:00:00\", \"2020-07-15T00:00:00\", \"2020-07-16T00:00:00\", \"2020-07-17T00:00:00\", \"2020-07-18T00:00:00\", \"2020-07-19T00:00:00\", \"2020-07-20T00:00:00\", \"2020-07-21T00:00:00\", \"2020-07-22T00:00:00\", \"2020-07-23T00:00:00\", \"2020-07-24T00:00:00\", \"2020-07-25T00:00:00\", \"2020-07-26T00:00:00\", \"2020-07-27T00:00:00\", \"2020-07-28T00:00:00\", \"2020-07-29T00:00:00\", \"2020-07-30T00:00:00\", \"2020-07-31T00:00:00\", \"2020-08-01T00:00:00\", \"2020-08-02T00:00:00\", \"2020-08-03T00:00:00\", \"2020-08-04T00:00:00\", \"2020-08-05T00:00:00\", \"2020-08-06T00:00:00\", \"2020-08-07T00:00:00\", \"2020-08-08T00:00:00\", \"2020-08-09T00:00:00\", \"2020-08-10T00:00:00\", \"2020-08-11T00:00:00\", \"2020-08-12T00:00:00\", \"2020-08-13T00:00:00\", \"2020-08-14T00:00:00\", \"2020-08-15T00:00:00\", \"2020-08-16T00:00:00\", \"2020-08-17T00:00:00\", \"2020-08-18T00:00:00\", \"2020-08-19T00:00:00\", \"2020-08-20T00:00:00\", \"2020-08-21T00:00:00\", \"2020-08-22T00:00:00\", \"2020-08-23T00:00:00\", \"2020-08-24T00:00:00\", \"2020-08-25T00:00:00\", \"2020-08-26T00:00:00\", \"2020-08-27T00:00:00\", \"2020-08-28T00:00:00\", \"2020-08-29T00:00:00\", \"2020-08-30T00:00:00\", \"2020-08-31T00:00:00\", \"2020-09-01T00:00:00\", \"2020-09-02T00:00:00\", \"2020-09-03T00:00:00\", \"2020-09-04T00:00:00\", \"2020-09-05T00:00:00\", \"2020-09-06T00:00:00\", \"2020-09-07T00:00:00\", \"2020-09-08T00:00:00\", \"2020-09-09T00:00:00\", \"2020-09-10T00:00:00\", \"2020-09-11T00:00:00\", \"2020-09-12T00:00:00\", \"2020-09-13T00:00:00\", \"2020-09-14T00:00:00\", \"2020-09-15T00:00:00\", \"2020-09-16T00:00:00\", \"2020-09-17T00:00:00\", \"2020-09-18T00:00:00\", \"2020-09-19T00:00:00\", \"2020-09-20T00:00:00\", \"2020-09-21T00:00:00\", \"2020-09-22T00:00:00\", \"2020-09-23T00:00:00\", \"2020-09-24T00:00:00\", \"2020-09-25T00:00:00\", \"2020-09-26T00:00:00\", \"2020-09-27T00:00:00\", \"2020-09-28T00:00:00\", \"2020-09-29T00:00:00\", \"2020-09-30T00:00:00\", \"2020-10-01T00:00:00\", \"2020-10-02T00:00:00\", \"2020-10-03T00:00:00\", \"2020-10-04T00:00:00\", \"2020-10-05T00:00:00\"], \"y\": [4661, 5014, 5399, 5847, 6297, 6875, 7497, 8261, 8772, 9501, 10544, 11633, 12872, 13842, 14677, 15529, 16752, 17799, 19224, 20739, 22088, 23471, 24905, 26025, 27634, 29616, 31522, 33460, 35022, 36327, 38324, 40186, 42595, 45032, 47144, 49219, 51633, 54346, 56594, 59567, 62527, 65856, 68620, 71105, 74560, 78023, 81400, 84627, 87512, 90664, 93435, 97326, 101238, 105680, 110026, 113619, 117103, 120102, 124301, 129184, 133974, 139196, 142690, 146837, 150264, 154863, 159793, 165455, 170485, 175202, 180545, 185122, 191410, 196847, 202951, 208392, 212802, 216852, 220657, 226089, 231770, 238511, 245251, 252165, 256848, 261750, 268008, 275003, 282283, 289174, 295268, 299750, 304435, 311486, 317635, 324041, 331298, 338913, 344224, 349396, 356255, 362274, 370712, 378285, 385036, 390516, 395489, 402697, 408449, 416179, 424637, 434193, 439046, 443813, 449961, 456100, 462690, 469407, 475902, 480278, 485836, 492522, 498380, 505751, 511369, 517714, 522162, 525733, 531239, 537031, 543806, 549734, 556216, 560164, 563705, 568621, 573888, 579914, 585738, 591712, 595841, 599560, 606036, 610957, 616894, 623090, 629409, 634023, 637509, 642860, 647507, 652364, 658299, 663973, 668381, 671716, 676487, 680931, 684113, 688954, 694121, 697663, 700580, 705263, 710049, 715457, 720858, 726431, 730317, 733717, 738163, 743216, 748315, 753090, 757953, 761665, 765082]}, {\"line\": {\"width\": 2}, \"marker\": {\"size\": 6}, \"mode\": \"lines+markers\", \"name\": \"Cases_Mexico - as occurred\", \"opacity\": 0.6, \"type\": \"scatter\", \"x\": [\"2020-01-13\", \"2020-01-29\", \"2020-02-24\", \"2020-02-27\", \"2020-02-28\", \"2020-02-29\", \"2020-03-02\", \"2020-03-04\", \"2020-03-05\", \"2020-03-07\", \"2020-03-08\", \"2020-03-09\", \"2020-03-10\", \"2020-03-11\", \"2020-03-12\", \"2020-03-13\", \"2020-03-14\", \"2020-03-15\", \"2020-03-16\", \"2020-03-17\", \"2020-03-18\", \"2020-03-19\", \"2020-03-20\", \"2020-03-21\", \"2020-03-22\", \"2020-03-23\", \"2020-03-24\", \"2020-03-25\", \"2020-03-26\", \"2020-03-27\", \"2020-03-28\", \"2020-03-29\", \"2020-03-30\", \"2020-03-31\", \"2020-04-01\", \"2020-04-02\", \"2020-04-03\", \"2020-04-04\", \"2020-04-05\", \"2020-04-06\", \"2020-04-07\", \"2020-04-08\", \"2020-04-09\", \"2020-04-10\", \"2020-04-11\", \"2020-04-12\", \"2020-04-13\", \"2020-04-14\", \"2020-04-15\", \"2020-04-16\", \"2020-04-17\", \"2020-04-18\", \"2020-04-19\", \"2020-04-20\", \"2020-04-21\", \"2020-04-22\", \"2020-04-23\", \"2020-04-24\", \"2020-04-25\", \"2020-04-26\", \"2020-04-27\", \"2020-04-28\", \"2020-04-29\", \"2020-04-30\", \"2020-05-01\", \"2020-05-02\", \"2020-05-03\", \"2020-05-04\", \"2020-05-05\", \"2020-05-06\", \"2020-05-07\", \"2020-05-08\", \"2020-05-09\", \"2020-05-10\", \"2020-05-11\", \"2020-05-12\", \"2020-05-13\", \"2020-05-14\", \"2020-05-15\", \"2020-05-16\", \"2020-05-17\", \"2020-05-18\", \"2020-05-19\", \"2020-05-20\", \"2020-05-21\", \"2020-05-22\", \"2020-05-23\", \"2020-05-24\", \"2020-05-25\", \"2020-05-26\", \"2020-05-27\", \"2020-05-28\", \"2020-05-29\", \"2020-05-30\", \"2020-05-31\", \"2020-06-01\", \"2020-06-02\", \"2020-06-03\", \"2020-06-04\", \"2020-06-05\", \"2020-06-06\", \"2020-06-07\", \"2020-06-08\", \"2020-06-09\", \"2020-06-10\", \"2020-06-11\", \"2020-06-12\", \"2020-06-13\", \"2020-06-14\", \"2020-06-15\", \"2020-06-16\", \"2020-06-17\", \"2020-06-18\", \"2020-06-19\", \"2020-06-20\", \"2020-06-21\", \"2020-06-22\", \"2020-06-23\", \"2020-06-24\", \"2020-06-25\", \"2020-06-26\", \"2020-06-27\", \"2020-06-28\", \"2020-06-29\", \"2020-06-30\", \"2020-07-01\", \"2020-07-02\", \"2020-07-03\", \"2020-07-04\", \"2020-07-05\", \"2020-07-06\", \"2020-07-07\", \"2020-07-08\", \"2020-07-09\", \"2020-07-10\", \"2020-07-11\", \"2020-07-12\", \"2020-07-13\", \"2020-07-14\", \"2020-07-15\", \"2020-07-16\", \"2020-07-17\", \"2020-07-18\", \"2020-07-19\", \"2020-07-20\", \"2020-07-21\", \"2020-07-22\", \"2020-07-23\", \"2020-07-24\", \"2020-07-25\", \"2020-07-26\", \"2020-07-27\", \"2020-07-28\", \"2020-07-29\", \"2020-07-30\", \"2020-07-31\", \"2020-08-01\", \"2020-08-02\", \"2020-08-03\", \"2020-08-04\", \"2020-08-05\", \"2020-08-06\", \"2020-08-07\", \"2020-08-08\", \"2020-08-09\", \"2020-08-10\", \"2020-08-11\", \"2020-08-12\", \"2020-08-13\", \"2020-08-14\", \"2020-08-15\", \"2020-08-16\", \"2020-08-17\", \"2020-08-18\", \"2020-08-19\", \"2020-08-20\", \"2020-08-21\", \"2020-08-22\", \"2020-08-23\", \"2020-08-24\", \"2020-08-25\", \"2020-08-26\", \"2020-08-27\", \"2020-08-28\", \"2020-08-29\", \"2020-08-30\", \"2020-08-31\", \"2020-09-01\", \"2020-09-02\", \"2020-09-03\", \"2020-09-04\", \"2020-09-05\", \"2020-09-06\", \"2020-09-07\", \"2020-09-08\", \"2020-09-09\", \"2020-09-10\", \"2020-09-11\", \"2020-09-12\", \"2020-09-13\", \"2020-09-14\", \"2020-09-15\", \"2020-09-16\", \"2020-09-17\", \"2020-09-18\", \"2020-09-19\", \"2020-09-20\", \"2020-09-21\", \"2020-09-22\", \"2020-09-23\", \"2020-09-24\", \"2020-09-25\", \"2020-09-26\", \"2020-09-27\", \"2020-09-28\", \"2020-09-29\", \"2020-09-30\", \"2020-10-01\", \"2020-10-02\", \"2020-10-03\", \"2020-10-04\", \"2020-10-05\"], \"y\": [1, 2, 3, 7, 9, 10, 11, 14, 15, 16, 20, 22, 31, 58, 86, 146, 196, 232, 300, 395, 497, 608, 708, 774, 822, 952, 1118, 1259, 1432, 1645, 1806, 1949, 2268, 2548, 2879, 3191, 3532, 3753, 3982, 4534, 4999, 5523, 5940, 6442, 6861, 7293, 8161, 9015, 9909, 10821, 11874, 12617, 13303, 14697, 16056, 17331, 18698, 20257, 21248, 22213, 23977, 25726, 27453, 29187, 30534, 31870, 33091, 35555, 37605, 39839, 42173, 44524, 46016, 47397, 50289, 53133, 56199, 59215, 62642, 64764, 66368, 70330, 73845, 77702, 81640, 85570, 87802, 89647, 94209, 98500, 102926, 107101, 111397, 114076, 116115, 121319, 125994, 130888, 135715, 140681, 143616, 145912, 151983, 157659, 163305, 168629, 174178, 177192, 179730, 186212, 192550, 198597, 204586, 210614, 214111, 216511, 223292, 229827, 236061, 242237, 248643, 252226, 255088, 262456, 269511, 276943, 283816, 290690, 294230, 297105, 304720, 312356, 319583, 326520, 333475, 337153, 340182, 348431, 356355, 364658, 372441, 379909, 384028, 387166, 395815, 404095, 412004, 419690, 427262, 431097, 433880, 441849, 449471, 456685, 463759, 470015, 473520, 475856, 482920, 489823, 496434, 502706, 508837, 512190, 514408, 521124, 527618, 533663, 539674, 545393, 548405, 550576, 557012, 563263, 569198, 574743, 580599, 583426, 585613, 592185, 598355, 604861, 610894, 616845, 619717, 621762, 628227, 634846, 641394, 647325, 652979, 655579, 657471, 663329, 669420, 675082, 680303, 685372, 687895, 689592, 695297, 699154, 701122, 706805, 712130, 714663, 716227, 721977, 727600, 732769, 737603, 742289, 744588, 746063, 751294, 756079, 759902, 762724, 764539, 764996, 765075, 765082]}],\n",
       "                        {\"legend\": {\"bgcolor\": \"rgba(0,0,0,0)\", \"font\": {\"family\": \"sans-serif\", \"size\": 14}, \"traceorder\": \"normal\", \"x\": 0.05, \"y\": 0.95}, \"showlegend\": true, \"template\": {\"data\": {\"bar\": [{\"error_x\": {\"color\": \"#2a3f5f\"}, \"error_y\": {\"color\": \"#2a3f5f\"}, \"marker\": {\"line\": {\"color\": \"#E5ECF6\", \"width\": 0.5}}, \"type\": \"bar\"}], \"barpolar\": [{\"marker\": {\"line\": {\"color\": \"#E5ECF6\", \"width\": 0.5}}, \"type\": \"barpolar\"}], \"carpet\": [{\"aaxis\": {\"endlinecolor\": \"#2a3f5f\", \"gridcolor\": \"white\", \"linecolor\": \"white\", \"minorgridcolor\": \"white\", \"startlinecolor\": \"#2a3f5f\"}, \"baxis\": {\"endlinecolor\": \"#2a3f5f\", \"gridcolor\": \"white\", \"linecolor\": \"white\", \"minorgridcolor\": \"white\", \"startlinecolor\": \"#2a3f5f\"}, \"type\": \"carpet\"}], \"choropleth\": [{\"colorbar\": {\"outlinewidth\": 0, \"ticks\": \"\"}, \"type\": \"choropleth\"}], \"contour\": [{\"colorbar\": {\"outlinewidth\": 0, \"ticks\": \"\"}, \"colorscale\": [[0.0, \"#0d0887\"], [0.1111111111111111, \"#46039f\"], [0.2222222222222222, \"#7201a8\"], [0.3333333333333333, \"#9c179e\"], [0.4444444444444444, \"#bd3786\"], [0.5555555555555556, \"#d8576b\"], [0.6666666666666666, \"#ed7953\"], [0.7777777777777778, \"#fb9f3a\"], [0.8888888888888888, \"#fdca26\"], [1.0, \"#f0f921\"]], \"type\": \"contour\"}], \"contourcarpet\": [{\"colorbar\": {\"outlinewidth\": 0, \"ticks\": \"\"}, \"type\": \"contourcarpet\"}], \"heatmap\": [{\"colorbar\": {\"outlinewidth\": 0, \"ticks\": \"\"}, \"colorscale\": [[0.0, \"#0d0887\"], [0.1111111111111111, \"#46039f\"], [0.2222222222222222, \"#7201a8\"], [0.3333333333333333, \"#9c179e\"], [0.4444444444444444, \"#bd3786\"], [0.5555555555555556, \"#d8576b\"], [0.6666666666666666, \"#ed7953\"], [0.7777777777777778, \"#fb9f3a\"], [0.8888888888888888, \"#fdca26\"], [1.0, \"#f0f921\"]], \"type\": \"heatmap\"}], \"heatmapgl\": [{\"colorbar\": {\"outlinewidth\": 0, \"ticks\": \"\"}, \"colorscale\": [[0.0, \"#0d0887\"], [0.1111111111111111, \"#46039f\"], [0.2222222222222222, \"#7201a8\"], [0.3333333333333333, \"#9c179e\"], [0.4444444444444444, \"#bd3786\"], [0.5555555555555556, \"#d8576b\"], [0.6666666666666666, \"#ed7953\"], [0.7777777777777778, \"#fb9f3a\"], [0.8888888888888888, \"#fdca26\"], [1.0, \"#f0f921\"]], \"type\": \"heatmapgl\"}], \"histogram\": [{\"marker\": {\"colorbar\": {\"outlinewidth\": 0, \"ticks\": \"\"}}, \"type\": \"histogram\"}], \"histogram2d\": [{\"colorbar\": {\"outlinewidth\": 0, \"ticks\": \"\"}, \"colorscale\": [[0.0, \"#0d0887\"], [0.1111111111111111, \"#46039f\"], [0.2222222222222222, \"#7201a8\"], [0.3333333333333333, \"#9c179e\"], [0.4444444444444444, \"#bd3786\"], [0.5555555555555556, \"#d8576b\"], [0.6666666666666666, \"#ed7953\"], [0.7777777777777778, \"#fb9f3a\"], [0.8888888888888888, \"#fdca26\"], [1.0, \"#f0f921\"]], \"type\": \"histogram2d\"}], \"histogram2dcontour\": [{\"colorbar\": {\"outlinewidth\": 0, \"ticks\": \"\"}, \"colorscale\": [[0.0, \"#0d0887\"], [0.1111111111111111, \"#46039f\"], [0.2222222222222222, \"#7201a8\"], [0.3333333333333333, \"#9c179e\"], [0.4444444444444444, \"#bd3786\"], [0.5555555555555556, \"#d8576b\"], [0.6666666666666666, \"#ed7953\"], [0.7777777777777778, \"#fb9f3a\"], [0.8888888888888888, \"#fdca26\"], [1.0, \"#f0f921\"]], \"type\": \"histogram2dcontour\"}], \"mesh3d\": [{\"colorbar\": {\"outlinewidth\": 0, \"ticks\": \"\"}, \"type\": \"mesh3d\"}], \"parcoords\": [{\"line\": {\"colorbar\": {\"outlinewidth\": 0, \"ticks\": \"\"}}, \"type\": \"parcoords\"}], \"pie\": [{\"automargin\": true, \"type\": \"pie\"}], \"scatter\": [{\"marker\": {\"colorbar\": {\"outlinewidth\": 0, \"ticks\": \"\"}}, \"type\": \"scatter\"}], \"scatter3d\": [{\"line\": {\"colorbar\": {\"outlinewidth\": 0, \"ticks\": \"\"}}, \"marker\": {\"colorbar\": {\"outlinewidth\": 0, \"ticks\": \"\"}}, \"type\": \"scatter3d\"}], \"scattercarpet\": [{\"marker\": {\"colorbar\": {\"outlinewidth\": 0, \"ticks\": \"\"}}, \"type\": \"scattercarpet\"}], \"scattergeo\": [{\"marker\": {\"colorbar\": {\"outlinewidth\": 0, \"ticks\": \"\"}}, \"type\": \"scattergeo\"}], \"scattergl\": [{\"marker\": {\"colorbar\": {\"outlinewidth\": 0, \"ticks\": \"\"}}, \"type\": \"scattergl\"}], \"scattermapbox\": [{\"marker\": {\"colorbar\": {\"outlinewidth\": 0, \"ticks\": \"\"}}, \"type\": \"scattermapbox\"}], \"scatterpolar\": [{\"marker\": {\"colorbar\": {\"outlinewidth\": 0, \"ticks\": \"\"}}, \"type\": \"scatterpolar\"}], \"scatterpolargl\": [{\"marker\": {\"colorbar\": {\"outlinewidth\": 0, \"ticks\": \"\"}}, \"type\": \"scatterpolargl\"}], \"scatterternary\": [{\"marker\": {\"colorbar\": {\"outlinewidth\": 0, \"ticks\": \"\"}}, \"type\": \"scatterternary\"}], \"surface\": [{\"colorbar\": {\"outlinewidth\": 0, \"ticks\": \"\"}, \"colorscale\": [[0.0, \"#0d0887\"], [0.1111111111111111, \"#46039f\"], [0.2222222222222222, \"#7201a8\"], [0.3333333333333333, \"#9c179e\"], [0.4444444444444444, \"#bd3786\"], [0.5555555555555556, \"#d8576b\"], [0.6666666666666666, \"#ed7953\"], [0.7777777777777778, \"#fb9f3a\"], [0.8888888888888888, \"#fdca26\"], [1.0, \"#f0f921\"]], \"type\": \"surface\"}], \"table\": [{\"cells\": {\"fill\": {\"color\": \"#EBF0F8\"}, \"line\": {\"color\": \"white\"}}, \"header\": {\"fill\": {\"color\": \"#C8D4E3\"}, \"line\": {\"color\": \"white\"}}, \"type\": \"table\"}]}, \"layout\": {\"annotationdefaults\": {\"arrowcolor\": \"#2a3f5f\", \"arrowhead\": 0, \"arrowwidth\": 1}, \"coloraxis\": {\"colorbar\": {\"outlinewidth\": 0, \"ticks\": \"\"}}, \"colorscale\": {\"diverging\": [[0, \"#8e0152\"], [0.1, \"#c51b7d\"], [0.2, \"#de77ae\"], [0.3, \"#f1b6da\"], [0.4, \"#fde0ef\"], [0.5, \"#f7f7f7\"], [0.6, \"#e6f5d0\"], [0.7, \"#b8e186\"], [0.8, \"#7fbc41\"], [0.9, \"#4d9221\"], [1, \"#276419\"]], \"sequential\": [[0.0, \"#0d0887\"], [0.1111111111111111, \"#46039f\"], [0.2222222222222222, \"#7201a8\"], [0.3333333333333333, \"#9c179e\"], [0.4444444444444444, \"#bd3786\"], [0.5555555555555556, \"#d8576b\"], [0.6666666666666666, \"#ed7953\"], [0.7777777777777778, \"#fb9f3a\"], [0.8888888888888888, \"#fdca26\"], [1.0, \"#f0f921\"]], \"sequentialminus\": [[0.0, \"#0d0887\"], [0.1111111111111111, \"#46039f\"], [0.2222222222222222, \"#7201a8\"], [0.3333333333333333, \"#9c179e\"], [0.4444444444444444, \"#bd3786\"], [0.5555555555555556, \"#d8576b\"], [0.6666666666666666, \"#ed7953\"], [0.7777777777777778, \"#fb9f3a\"], [0.8888888888888888, \"#fdca26\"], [1.0, \"#f0f921\"]]}, \"colorway\": [\"#636efa\", \"#EF553B\", \"#00cc96\", \"#ab63fa\", \"#FFA15A\", \"#19d3f3\", \"#FF6692\", \"#B6E880\", \"#FF97FF\", \"#FECB52\"], \"font\": {\"color\": \"#2a3f5f\"}, \"geo\": {\"bgcolor\": \"white\", \"lakecolor\": \"white\", \"landcolor\": \"#E5ECF6\", \"showlakes\": true, \"showland\": true, \"subunitcolor\": \"white\"}, \"hoverlabel\": {\"align\": \"left\"}, \"hovermode\": \"closest\", \"mapbox\": {\"style\": \"light\"}, \"paper_bgcolor\": \"white\", \"plot_bgcolor\": \"#E5ECF6\", \"polar\": {\"angularaxis\": {\"gridcolor\": \"white\", \"linecolor\": \"white\", \"ticks\": \"\"}, \"bgcolor\": \"#E5ECF6\", \"radialaxis\": {\"gridcolor\": \"white\", \"linecolor\": \"white\", \"ticks\": \"\"}}, \"scene\": {\"xaxis\": {\"backgroundcolor\": \"#E5ECF6\", \"gridcolor\": \"white\", \"gridwidth\": 2, \"linecolor\": \"white\", \"showbackground\": true, \"ticks\": \"\", \"zerolinecolor\": \"white\"}, \"yaxis\": {\"backgroundcolor\": \"#E5ECF6\", \"gridcolor\": \"white\", \"gridwidth\": 2, \"linecolor\": \"white\", \"showbackground\": true, \"ticks\": \"\", \"zerolinecolor\": \"white\"}, \"zaxis\": {\"backgroundcolor\": \"#E5ECF6\", \"gridcolor\": \"white\", \"gridwidth\": 2, \"linecolor\": \"white\", \"showbackground\": true, \"ticks\": \"\", \"zerolinecolor\": \"white\"}}, \"shapedefaults\": {\"line\": {\"color\": \"#2a3f5f\"}}, \"ternary\": {\"aaxis\": {\"gridcolor\": \"white\", \"linecolor\": \"white\", \"ticks\": \"\"}, \"baxis\": {\"gridcolor\": \"white\", \"linecolor\": \"white\", \"ticks\": \"\"}, \"bgcolor\": \"#E5ECF6\", \"caxis\": {\"gridcolor\": \"white\", \"linecolor\": \"white\", \"ticks\": \"\"}}, \"title\": {\"x\": 0.05}, \"xaxis\": {\"automargin\": true, \"gridcolor\": \"white\", \"linecolor\": \"white\", \"ticks\": \"\", \"title\": {\"standoff\": 15}, \"zerolinecolor\": \"white\", \"zerolinewidth\": 2}, \"yaxis\": {\"automargin\": true, \"gridcolor\": \"white\", \"linecolor\": \"white\", \"ticks\": \"\", \"title\": {\"standoff\": 15}, \"zerolinecolor\": \"white\", \"zerolinewidth\": 2}}}, \"title\": {\"text\": \"Data - Cases in Mexico\", \"x\": 0.5}, \"yaxis\": {\"type\": \"linear\"}},\n",
       "                        {\"responsive\": true}\n",
       "                    ).then(function(){\n",
       "                            \n",
       "var gd = document.getElementById('15a43e19-552c-4e10-8d24-271ea0bfedca');\n",
       "var x = new MutationObserver(function (mutations, observer) {{\n",
       "        var display = window.getComputedStyle(gd).display;\n",
       "        if (!display || display === 'none') {{\n",
       "            console.log([gd, 'removed!']);\n",
       "            Plotly.purge(gd);\n",
       "            observer.disconnect();\n",
       "        }}\n",
       "}});\n",
       "\n",
       "// Listen for the removal of the full notebook cells\n",
       "var notebookContainer = gd.closest('#notebook-container');\n",
       "if (notebookContainer) {{\n",
       "    x.observe(notebookContainer, {childList: true});\n",
       "}}\n",
       "\n",
       "// Listen for the clearing of the current output cell\n",
       "var outputEl = gd.closest('.output');\n",
       "if (outputEl) {{\n",
       "    x.observe(outputEl, {childList: true});\n",
       "}}\n",
       "\n",
       "                        })\n",
       "                };\n",
       "                });\n",
       "            </script>\n",
       "        </div>"
      ]
     },
     "metadata": {},
     "output_type": "display_data"
    }
   ],
   "source": [
    "fig = go.Figure()\n",
    "\n",
    "fig.add_trace(go.Scatter(\n",
    "    x=df['date'],\n",
    "    y=df['Cases_Mexico'],\n",
    "    name='Cases_Mexico - as reported',\n",
    "    mode='lines+markers',line_width=2,marker_size=6,opacity=0.6))\n",
    "\n",
    "fig.add_trace(go.Scatter(\n",
    "    x=df2['date'],\n",
    "    y=df2['Cases_Mexico'],\n",
    "    name='Cases_Mexico - as occurred',\n",
    "    mode='lines+markers',line_width=2,marker_size=6,opacity=0.6))\n",
    "\n",
    "fig.update_layout(\n",
    "    title=\"Data - Cases in Mexico\",\n",
    "    title_x=0.5,showlegend=True,yaxis = {'type': 'linear'},\n",
    "    legend=dict(\n",
    "            x=0.05,y=0.95,\n",
    "            traceorder=\"normal\",font=dict(family=\"sans-serif\",size=14),bgcolor='rgba(0,0,0,0)'),)\n",
    "\n",
    "fig.show()"
   ]
  },
  {
   "cell_type": "code",
   "execution_count": 398,
   "metadata": {},
   "outputs": [],
   "source": [
    "mx1 = df[(df['date']>='2020-05-15') & (df['date']<='2020-07-01')].reset_index()\n",
    "mx2 = df2[(df2['date']>='2020-05-15') & (df2['date']<='2020-07-01')].reset_index()"
   ]
  },
  {
   "cell_type": "code",
   "execution_count": 399,
   "metadata": {},
   "outputs": [
    {
     "data": {
      "application/vnd.plotly.v1+json": {
       "config": {
        "plotlyServerURL": "https://plot.ly"
       },
       "data": [
        {
         "line": {
          "width": 2
         },
         "marker": {
          "size": 6
         },
         "mode": "lines+markers",
         "name": "Cases Mexico - as reported",
         "opacity": 0.6,
         "type": "scatter",
         "x": [
          "2020-05-15T00:00:00",
          "2020-05-16T00:00:00",
          "2020-05-17T00:00:00",
          "2020-05-18T00:00:00",
          "2020-05-19T00:00:00",
          "2020-05-20T00:00:00",
          "2020-05-21T00:00:00",
          "2020-05-22T00:00:00",
          "2020-05-23T00:00:00",
          "2020-05-24T00:00:00",
          "2020-05-25T00:00:00",
          "2020-05-26T00:00:00",
          "2020-05-27T00:00:00",
          "2020-05-28T00:00:00",
          "2020-05-29T00:00:00",
          "2020-05-30T00:00:00",
          "2020-05-31T00:00:00",
          "2020-06-01T00:00:00",
          "2020-06-02T00:00:00",
          "2020-06-03T00:00:00",
          "2020-06-04T00:00:00",
          "2020-06-05T00:00:00",
          "2020-06-06T00:00:00",
          "2020-06-07T00:00:00",
          "2020-06-08T00:00:00",
          "2020-06-09T00:00:00",
          "2020-06-10T00:00:00",
          "2020-06-11T00:00:00",
          "2020-06-12T00:00:00",
          "2020-06-13T00:00:00",
          "2020-06-14T00:00:00",
          "2020-06-15T00:00:00",
          "2020-06-16T00:00:00",
          "2020-06-17T00:00:00",
          "2020-06-18T00:00:00",
          "2020-06-19T00:00:00",
          "2020-06-20T00:00:00",
          "2020-06-21T00:00:00",
          "2020-06-22T00:00:00",
          "2020-06-23T00:00:00",
          "2020-06-24T00:00:00",
          "2020-06-25T00:00:00",
          "2020-06-26T00:00:00",
          "2020-06-27T00:00:00",
          "2020-06-28T00:00:00",
          "2020-06-29T00:00:00",
          "2020-06-30T00:00:00",
          "2020-07-01T00:00:00"
         ],
         "y": [
          45032,
          47144,
          49219,
          51633,
          54346,
          56594,
          59567,
          62527,
          65856,
          68620,
          71105,
          74560,
          78023,
          81400,
          84627,
          87512,
          90664,
          93435,
          97326,
          101238,
          105680,
          110026,
          113619,
          117103,
          120102,
          124301,
          129184,
          133974,
          139196,
          142690,
          146837,
          150264,
          154863,
          159793,
          165455,
          170485,
          175202,
          180545,
          185122,
          191410,
          196847,
          202951,
          208392,
          212802,
          216852,
          220657,
          226089,
          231770
         ]
        },
        {
         "line": {
          "width": 2
         },
         "marker": {
          "size": 6
         },
         "mode": "lines+markers",
         "name": "Cases_Mexico - as occurred",
         "opacity": 0.6,
         "type": "scatter",
         "x": [
          "2020-05-15",
          "2020-05-16",
          "2020-05-17",
          "2020-05-18",
          "2020-05-19",
          "2020-05-20",
          "2020-05-21",
          "2020-05-22",
          "2020-05-23",
          "2020-05-24",
          "2020-05-25",
          "2020-05-26",
          "2020-05-27",
          "2020-05-28",
          "2020-05-29",
          "2020-05-30",
          "2020-05-31",
          "2020-06-01",
          "2020-06-02",
          "2020-06-03",
          "2020-06-04",
          "2020-06-05",
          "2020-06-06",
          "2020-06-07",
          "2020-06-08",
          "2020-06-09",
          "2020-06-10",
          "2020-06-11",
          "2020-06-12",
          "2020-06-13",
          "2020-06-14",
          "2020-06-15",
          "2020-06-16",
          "2020-06-17",
          "2020-06-18",
          "2020-06-19",
          "2020-06-20",
          "2020-06-21",
          "2020-06-22",
          "2020-06-23",
          "2020-06-24",
          "2020-06-25",
          "2020-06-26",
          "2020-06-27",
          "2020-06-28",
          "2020-06-29",
          "2020-06-30",
          "2020-07-01"
         ],
         "y": [
          62642,
          64764,
          66368,
          70330,
          73845,
          77702,
          81640,
          85570,
          87802,
          89647,
          94209,
          98500,
          102926,
          107101,
          111397,
          114076,
          116115,
          121319,
          125994,
          130888,
          135715,
          140681,
          143616,
          145912,
          151983,
          157659,
          163305,
          168629,
          174178,
          177192,
          179730,
          186212,
          192550,
          198597,
          204586,
          210614,
          214111,
          216511,
          223292,
          229827,
          236061,
          242237,
          248643,
          252226,
          255088,
          262456,
          269511,
          276943
         ]
        }
       ],
       "layout": {
        "legend": {
         "bgcolor": "rgba(0,0,0,0)",
         "font": {
          "family": "sans-serif",
          "size": 14
         },
         "traceorder": "normal",
         "x": 0.05,
         "y": 0.95
        },
        "showlegend": true,
        "template": {
         "data": {
          "bar": [
           {
            "error_x": {
             "color": "#2a3f5f"
            },
            "error_y": {
             "color": "#2a3f5f"
            },
            "marker": {
             "line": {
              "color": "#E5ECF6",
              "width": 0.5
             }
            },
            "type": "bar"
           }
          ],
          "barpolar": [
           {
            "marker": {
             "line": {
              "color": "#E5ECF6",
              "width": 0.5
             }
            },
            "type": "barpolar"
           }
          ],
          "carpet": [
           {
            "aaxis": {
             "endlinecolor": "#2a3f5f",
             "gridcolor": "white",
             "linecolor": "white",
             "minorgridcolor": "white",
             "startlinecolor": "#2a3f5f"
            },
            "baxis": {
             "endlinecolor": "#2a3f5f",
             "gridcolor": "white",
             "linecolor": "white",
             "minorgridcolor": "white",
             "startlinecolor": "#2a3f5f"
            },
            "type": "carpet"
           }
          ],
          "choropleth": [
           {
            "colorbar": {
             "outlinewidth": 0,
             "ticks": ""
            },
            "type": "choropleth"
           }
          ],
          "contour": [
           {
            "colorbar": {
             "outlinewidth": 0,
             "ticks": ""
            },
            "colorscale": [
             [
              0,
              "#0d0887"
             ],
             [
              0.1111111111111111,
              "#46039f"
             ],
             [
              0.2222222222222222,
              "#7201a8"
             ],
             [
              0.3333333333333333,
              "#9c179e"
             ],
             [
              0.4444444444444444,
              "#bd3786"
             ],
             [
              0.5555555555555556,
              "#d8576b"
             ],
             [
              0.6666666666666666,
              "#ed7953"
             ],
             [
              0.7777777777777778,
              "#fb9f3a"
             ],
             [
              0.8888888888888888,
              "#fdca26"
             ],
             [
              1,
              "#f0f921"
             ]
            ],
            "type": "contour"
           }
          ],
          "contourcarpet": [
           {
            "colorbar": {
             "outlinewidth": 0,
             "ticks": ""
            },
            "type": "contourcarpet"
           }
          ],
          "heatmap": [
           {
            "colorbar": {
             "outlinewidth": 0,
             "ticks": ""
            },
            "colorscale": [
             [
              0,
              "#0d0887"
             ],
             [
              0.1111111111111111,
              "#46039f"
             ],
             [
              0.2222222222222222,
              "#7201a8"
             ],
             [
              0.3333333333333333,
              "#9c179e"
             ],
             [
              0.4444444444444444,
              "#bd3786"
             ],
             [
              0.5555555555555556,
              "#d8576b"
             ],
             [
              0.6666666666666666,
              "#ed7953"
             ],
             [
              0.7777777777777778,
              "#fb9f3a"
             ],
             [
              0.8888888888888888,
              "#fdca26"
             ],
             [
              1,
              "#f0f921"
             ]
            ],
            "type": "heatmap"
           }
          ],
          "heatmapgl": [
           {
            "colorbar": {
             "outlinewidth": 0,
             "ticks": ""
            },
            "colorscale": [
             [
              0,
              "#0d0887"
             ],
             [
              0.1111111111111111,
              "#46039f"
             ],
             [
              0.2222222222222222,
              "#7201a8"
             ],
             [
              0.3333333333333333,
              "#9c179e"
             ],
             [
              0.4444444444444444,
              "#bd3786"
             ],
             [
              0.5555555555555556,
              "#d8576b"
             ],
             [
              0.6666666666666666,
              "#ed7953"
             ],
             [
              0.7777777777777778,
              "#fb9f3a"
             ],
             [
              0.8888888888888888,
              "#fdca26"
             ],
             [
              1,
              "#f0f921"
             ]
            ],
            "type": "heatmapgl"
           }
          ],
          "histogram": [
           {
            "marker": {
             "colorbar": {
              "outlinewidth": 0,
              "ticks": ""
             }
            },
            "type": "histogram"
           }
          ],
          "histogram2d": [
           {
            "colorbar": {
             "outlinewidth": 0,
             "ticks": ""
            },
            "colorscale": [
             [
              0,
              "#0d0887"
             ],
             [
              0.1111111111111111,
              "#46039f"
             ],
             [
              0.2222222222222222,
              "#7201a8"
             ],
             [
              0.3333333333333333,
              "#9c179e"
             ],
             [
              0.4444444444444444,
              "#bd3786"
             ],
             [
              0.5555555555555556,
              "#d8576b"
             ],
             [
              0.6666666666666666,
              "#ed7953"
             ],
             [
              0.7777777777777778,
              "#fb9f3a"
             ],
             [
              0.8888888888888888,
              "#fdca26"
             ],
             [
              1,
              "#f0f921"
             ]
            ],
            "type": "histogram2d"
           }
          ],
          "histogram2dcontour": [
           {
            "colorbar": {
             "outlinewidth": 0,
             "ticks": ""
            },
            "colorscale": [
             [
              0,
              "#0d0887"
             ],
             [
              0.1111111111111111,
              "#46039f"
             ],
             [
              0.2222222222222222,
              "#7201a8"
             ],
             [
              0.3333333333333333,
              "#9c179e"
             ],
             [
              0.4444444444444444,
              "#bd3786"
             ],
             [
              0.5555555555555556,
              "#d8576b"
             ],
             [
              0.6666666666666666,
              "#ed7953"
             ],
             [
              0.7777777777777778,
              "#fb9f3a"
             ],
             [
              0.8888888888888888,
              "#fdca26"
             ],
             [
              1,
              "#f0f921"
             ]
            ],
            "type": "histogram2dcontour"
           }
          ],
          "mesh3d": [
           {
            "colorbar": {
             "outlinewidth": 0,
             "ticks": ""
            },
            "type": "mesh3d"
           }
          ],
          "parcoords": [
           {
            "line": {
             "colorbar": {
              "outlinewidth": 0,
              "ticks": ""
             }
            },
            "type": "parcoords"
           }
          ],
          "pie": [
           {
            "automargin": true,
            "type": "pie"
           }
          ],
          "scatter": [
           {
            "marker": {
             "colorbar": {
              "outlinewidth": 0,
              "ticks": ""
             }
            },
            "type": "scatter"
           }
          ],
          "scatter3d": [
           {
            "line": {
             "colorbar": {
              "outlinewidth": 0,
              "ticks": ""
             }
            },
            "marker": {
             "colorbar": {
              "outlinewidth": 0,
              "ticks": ""
             }
            },
            "type": "scatter3d"
           }
          ],
          "scattercarpet": [
           {
            "marker": {
             "colorbar": {
              "outlinewidth": 0,
              "ticks": ""
             }
            },
            "type": "scattercarpet"
           }
          ],
          "scattergeo": [
           {
            "marker": {
             "colorbar": {
              "outlinewidth": 0,
              "ticks": ""
             }
            },
            "type": "scattergeo"
           }
          ],
          "scattergl": [
           {
            "marker": {
             "colorbar": {
              "outlinewidth": 0,
              "ticks": ""
             }
            },
            "type": "scattergl"
           }
          ],
          "scattermapbox": [
           {
            "marker": {
             "colorbar": {
              "outlinewidth": 0,
              "ticks": ""
             }
            },
            "type": "scattermapbox"
           }
          ],
          "scatterpolar": [
           {
            "marker": {
             "colorbar": {
              "outlinewidth": 0,
              "ticks": ""
             }
            },
            "type": "scatterpolar"
           }
          ],
          "scatterpolargl": [
           {
            "marker": {
             "colorbar": {
              "outlinewidth": 0,
              "ticks": ""
             }
            },
            "type": "scatterpolargl"
           }
          ],
          "scatterternary": [
           {
            "marker": {
             "colorbar": {
              "outlinewidth": 0,
              "ticks": ""
             }
            },
            "type": "scatterternary"
           }
          ],
          "surface": [
           {
            "colorbar": {
             "outlinewidth": 0,
             "ticks": ""
            },
            "colorscale": [
             [
              0,
              "#0d0887"
             ],
             [
              0.1111111111111111,
              "#46039f"
             ],
             [
              0.2222222222222222,
              "#7201a8"
             ],
             [
              0.3333333333333333,
              "#9c179e"
             ],
             [
              0.4444444444444444,
              "#bd3786"
             ],
             [
              0.5555555555555556,
              "#d8576b"
             ],
             [
              0.6666666666666666,
              "#ed7953"
             ],
             [
              0.7777777777777778,
              "#fb9f3a"
             ],
             [
              0.8888888888888888,
              "#fdca26"
             ],
             [
              1,
              "#f0f921"
             ]
            ],
            "type": "surface"
           }
          ],
          "table": [
           {
            "cells": {
             "fill": {
              "color": "#EBF0F8"
             },
             "line": {
              "color": "white"
             }
            },
            "header": {
             "fill": {
              "color": "#C8D4E3"
             },
             "line": {
              "color": "white"
             }
            },
            "type": "table"
           }
          ]
         },
         "layout": {
          "annotationdefaults": {
           "arrowcolor": "#2a3f5f",
           "arrowhead": 0,
           "arrowwidth": 1
          },
          "coloraxis": {
           "colorbar": {
            "outlinewidth": 0,
            "ticks": ""
           }
          },
          "colorscale": {
           "diverging": [
            [
             0,
             "#8e0152"
            ],
            [
             0.1,
             "#c51b7d"
            ],
            [
             0.2,
             "#de77ae"
            ],
            [
             0.3,
             "#f1b6da"
            ],
            [
             0.4,
             "#fde0ef"
            ],
            [
             0.5,
             "#f7f7f7"
            ],
            [
             0.6,
             "#e6f5d0"
            ],
            [
             0.7,
             "#b8e186"
            ],
            [
             0.8,
             "#7fbc41"
            ],
            [
             0.9,
             "#4d9221"
            ],
            [
             1,
             "#276419"
            ]
           ],
           "sequential": [
            [
             0,
             "#0d0887"
            ],
            [
             0.1111111111111111,
             "#46039f"
            ],
            [
             0.2222222222222222,
             "#7201a8"
            ],
            [
             0.3333333333333333,
             "#9c179e"
            ],
            [
             0.4444444444444444,
             "#bd3786"
            ],
            [
             0.5555555555555556,
             "#d8576b"
            ],
            [
             0.6666666666666666,
             "#ed7953"
            ],
            [
             0.7777777777777778,
             "#fb9f3a"
            ],
            [
             0.8888888888888888,
             "#fdca26"
            ],
            [
             1,
             "#f0f921"
            ]
           ],
           "sequentialminus": [
            [
             0,
             "#0d0887"
            ],
            [
             0.1111111111111111,
             "#46039f"
            ],
            [
             0.2222222222222222,
             "#7201a8"
            ],
            [
             0.3333333333333333,
             "#9c179e"
            ],
            [
             0.4444444444444444,
             "#bd3786"
            ],
            [
             0.5555555555555556,
             "#d8576b"
            ],
            [
             0.6666666666666666,
             "#ed7953"
            ],
            [
             0.7777777777777778,
             "#fb9f3a"
            ],
            [
             0.8888888888888888,
             "#fdca26"
            ],
            [
             1,
             "#f0f921"
            ]
           ]
          },
          "colorway": [
           "#636efa",
           "#EF553B",
           "#00cc96",
           "#ab63fa",
           "#FFA15A",
           "#19d3f3",
           "#FF6692",
           "#B6E880",
           "#FF97FF",
           "#FECB52"
          ],
          "font": {
           "color": "#2a3f5f"
          },
          "geo": {
           "bgcolor": "white",
           "lakecolor": "white",
           "landcolor": "#E5ECF6",
           "showlakes": true,
           "showland": true,
           "subunitcolor": "white"
          },
          "hoverlabel": {
           "align": "left"
          },
          "hovermode": "closest",
          "mapbox": {
           "style": "light"
          },
          "paper_bgcolor": "white",
          "plot_bgcolor": "#E5ECF6",
          "polar": {
           "angularaxis": {
            "gridcolor": "white",
            "linecolor": "white",
            "ticks": ""
           },
           "bgcolor": "#E5ECF6",
           "radialaxis": {
            "gridcolor": "white",
            "linecolor": "white",
            "ticks": ""
           }
          },
          "scene": {
           "xaxis": {
            "backgroundcolor": "#E5ECF6",
            "gridcolor": "white",
            "gridwidth": 2,
            "linecolor": "white",
            "showbackground": true,
            "ticks": "",
            "zerolinecolor": "white"
           },
           "yaxis": {
            "backgroundcolor": "#E5ECF6",
            "gridcolor": "white",
            "gridwidth": 2,
            "linecolor": "white",
            "showbackground": true,
            "ticks": "",
            "zerolinecolor": "white"
           },
           "zaxis": {
            "backgroundcolor": "#E5ECF6",
            "gridcolor": "white",
            "gridwidth": 2,
            "linecolor": "white",
            "showbackground": true,
            "ticks": "",
            "zerolinecolor": "white"
           }
          },
          "shapedefaults": {
           "line": {
            "color": "#2a3f5f"
           }
          },
          "ternary": {
           "aaxis": {
            "gridcolor": "white",
            "linecolor": "white",
            "ticks": ""
           },
           "baxis": {
            "gridcolor": "white",
            "linecolor": "white",
            "ticks": ""
           },
           "bgcolor": "#E5ECF6",
           "caxis": {
            "gridcolor": "white",
            "linecolor": "white",
            "ticks": ""
           }
          },
          "title": {
           "x": 0.05
          },
          "xaxis": {
           "automargin": true,
           "gridcolor": "white",
           "linecolor": "white",
           "ticks": "",
           "title": {
            "standoff": 15
           },
           "zerolinecolor": "white",
           "zerolinewidth": 2
          },
          "yaxis": {
           "automargin": true,
           "gridcolor": "white",
           "linecolor": "white",
           "ticks": "",
           "title": {
            "standoff": 15
           },
           "zerolinecolor": "white",
           "zerolinewidth": 2
          }
         }
        },
        "title": {
         "text": "Data - Cases in Mexico",
         "x": 0.5
        },
        "yaxis": {
         "type": "linear"
        }
       }
      },
      "text/html": [
       "<div>\n",
       "        \n",
       "        \n",
       "            <div id=\"b0005c5e-8537-4e27-a3dd-677ef7ea58ef\" class=\"plotly-graph-div\" style=\"height:525px; width:100%;\"></div>\n",
       "            <script type=\"text/javascript\">\n",
       "                require([\"plotly\"], function(Plotly) {\n",
       "                    window.PLOTLYENV=window.PLOTLYENV || {};\n",
       "                    \n",
       "                if (document.getElementById(\"b0005c5e-8537-4e27-a3dd-677ef7ea58ef\")) {\n",
       "                    Plotly.newPlot(\n",
       "                        'b0005c5e-8537-4e27-a3dd-677ef7ea58ef',\n",
       "                        [{\"line\": {\"width\": 2}, \"marker\": {\"size\": 6}, \"mode\": \"lines+markers\", \"name\": \"Cases Mexico - as reported\", \"opacity\": 0.6, \"type\": \"scatter\", \"x\": [\"2020-05-15T00:00:00\", \"2020-05-16T00:00:00\", \"2020-05-17T00:00:00\", \"2020-05-18T00:00:00\", \"2020-05-19T00:00:00\", \"2020-05-20T00:00:00\", \"2020-05-21T00:00:00\", \"2020-05-22T00:00:00\", \"2020-05-23T00:00:00\", \"2020-05-24T00:00:00\", \"2020-05-25T00:00:00\", \"2020-05-26T00:00:00\", \"2020-05-27T00:00:00\", \"2020-05-28T00:00:00\", \"2020-05-29T00:00:00\", \"2020-05-30T00:00:00\", \"2020-05-31T00:00:00\", \"2020-06-01T00:00:00\", \"2020-06-02T00:00:00\", \"2020-06-03T00:00:00\", \"2020-06-04T00:00:00\", \"2020-06-05T00:00:00\", \"2020-06-06T00:00:00\", \"2020-06-07T00:00:00\", \"2020-06-08T00:00:00\", \"2020-06-09T00:00:00\", \"2020-06-10T00:00:00\", \"2020-06-11T00:00:00\", \"2020-06-12T00:00:00\", \"2020-06-13T00:00:00\", \"2020-06-14T00:00:00\", \"2020-06-15T00:00:00\", \"2020-06-16T00:00:00\", \"2020-06-17T00:00:00\", \"2020-06-18T00:00:00\", \"2020-06-19T00:00:00\", \"2020-06-20T00:00:00\", \"2020-06-21T00:00:00\", \"2020-06-22T00:00:00\", \"2020-06-23T00:00:00\", \"2020-06-24T00:00:00\", \"2020-06-25T00:00:00\", \"2020-06-26T00:00:00\", \"2020-06-27T00:00:00\", \"2020-06-28T00:00:00\", \"2020-06-29T00:00:00\", \"2020-06-30T00:00:00\", \"2020-07-01T00:00:00\"], \"y\": [45032, 47144, 49219, 51633, 54346, 56594, 59567, 62527, 65856, 68620, 71105, 74560, 78023, 81400, 84627, 87512, 90664, 93435, 97326, 101238, 105680, 110026, 113619, 117103, 120102, 124301, 129184, 133974, 139196, 142690, 146837, 150264, 154863, 159793, 165455, 170485, 175202, 180545, 185122, 191410, 196847, 202951, 208392, 212802, 216852, 220657, 226089, 231770]}, {\"line\": {\"width\": 2}, \"marker\": {\"size\": 6}, \"mode\": \"lines+markers\", \"name\": \"Cases_Mexico - as occurred\", \"opacity\": 0.6, \"type\": \"scatter\", \"x\": [\"2020-05-15\", \"2020-05-16\", \"2020-05-17\", \"2020-05-18\", \"2020-05-19\", \"2020-05-20\", \"2020-05-21\", \"2020-05-22\", \"2020-05-23\", \"2020-05-24\", \"2020-05-25\", \"2020-05-26\", \"2020-05-27\", \"2020-05-28\", \"2020-05-29\", \"2020-05-30\", \"2020-05-31\", \"2020-06-01\", \"2020-06-02\", \"2020-06-03\", \"2020-06-04\", \"2020-06-05\", \"2020-06-06\", \"2020-06-07\", \"2020-06-08\", \"2020-06-09\", \"2020-06-10\", \"2020-06-11\", \"2020-06-12\", \"2020-06-13\", \"2020-06-14\", \"2020-06-15\", \"2020-06-16\", \"2020-06-17\", \"2020-06-18\", \"2020-06-19\", \"2020-06-20\", \"2020-06-21\", \"2020-06-22\", \"2020-06-23\", \"2020-06-24\", \"2020-06-25\", \"2020-06-26\", \"2020-06-27\", \"2020-06-28\", \"2020-06-29\", \"2020-06-30\", \"2020-07-01\"], \"y\": [62642, 64764, 66368, 70330, 73845, 77702, 81640, 85570, 87802, 89647, 94209, 98500, 102926, 107101, 111397, 114076, 116115, 121319, 125994, 130888, 135715, 140681, 143616, 145912, 151983, 157659, 163305, 168629, 174178, 177192, 179730, 186212, 192550, 198597, 204586, 210614, 214111, 216511, 223292, 229827, 236061, 242237, 248643, 252226, 255088, 262456, 269511, 276943]}],\n",
       "                        {\"legend\": {\"bgcolor\": \"rgba(0,0,0,0)\", \"font\": {\"family\": \"sans-serif\", \"size\": 14}, \"traceorder\": \"normal\", \"x\": 0.05, \"y\": 0.95}, \"showlegend\": true, \"template\": {\"data\": {\"bar\": [{\"error_x\": {\"color\": \"#2a3f5f\"}, \"error_y\": {\"color\": \"#2a3f5f\"}, \"marker\": {\"line\": {\"color\": \"#E5ECF6\", \"width\": 0.5}}, \"type\": \"bar\"}], \"barpolar\": [{\"marker\": {\"line\": {\"color\": \"#E5ECF6\", \"width\": 0.5}}, \"type\": \"barpolar\"}], \"carpet\": [{\"aaxis\": {\"endlinecolor\": \"#2a3f5f\", \"gridcolor\": \"white\", \"linecolor\": \"white\", \"minorgridcolor\": \"white\", \"startlinecolor\": \"#2a3f5f\"}, \"baxis\": {\"endlinecolor\": \"#2a3f5f\", \"gridcolor\": \"white\", \"linecolor\": \"white\", \"minorgridcolor\": \"white\", \"startlinecolor\": \"#2a3f5f\"}, \"type\": \"carpet\"}], \"choropleth\": [{\"colorbar\": {\"outlinewidth\": 0, \"ticks\": \"\"}, \"type\": \"choropleth\"}], \"contour\": [{\"colorbar\": {\"outlinewidth\": 0, \"ticks\": \"\"}, \"colorscale\": [[0.0, \"#0d0887\"], [0.1111111111111111, \"#46039f\"], [0.2222222222222222, \"#7201a8\"], [0.3333333333333333, \"#9c179e\"], [0.4444444444444444, \"#bd3786\"], [0.5555555555555556, \"#d8576b\"], [0.6666666666666666, \"#ed7953\"], [0.7777777777777778, \"#fb9f3a\"], [0.8888888888888888, \"#fdca26\"], [1.0, \"#f0f921\"]], \"type\": \"contour\"}], \"contourcarpet\": [{\"colorbar\": {\"outlinewidth\": 0, \"ticks\": \"\"}, \"type\": \"contourcarpet\"}], \"heatmap\": [{\"colorbar\": {\"outlinewidth\": 0, \"ticks\": \"\"}, \"colorscale\": [[0.0, \"#0d0887\"], [0.1111111111111111, \"#46039f\"], [0.2222222222222222, \"#7201a8\"], [0.3333333333333333, \"#9c179e\"], [0.4444444444444444, \"#bd3786\"], [0.5555555555555556, \"#d8576b\"], [0.6666666666666666, \"#ed7953\"], [0.7777777777777778, \"#fb9f3a\"], [0.8888888888888888, \"#fdca26\"], [1.0, \"#f0f921\"]], \"type\": \"heatmap\"}], \"heatmapgl\": [{\"colorbar\": {\"outlinewidth\": 0, \"ticks\": \"\"}, \"colorscale\": [[0.0, \"#0d0887\"], [0.1111111111111111, \"#46039f\"], [0.2222222222222222, \"#7201a8\"], [0.3333333333333333, \"#9c179e\"], [0.4444444444444444, \"#bd3786\"], [0.5555555555555556, \"#d8576b\"], [0.6666666666666666, \"#ed7953\"], [0.7777777777777778, \"#fb9f3a\"], [0.8888888888888888, \"#fdca26\"], [1.0, \"#f0f921\"]], \"type\": \"heatmapgl\"}], \"histogram\": [{\"marker\": {\"colorbar\": {\"outlinewidth\": 0, \"ticks\": \"\"}}, \"type\": \"histogram\"}], \"histogram2d\": [{\"colorbar\": {\"outlinewidth\": 0, \"ticks\": \"\"}, \"colorscale\": [[0.0, \"#0d0887\"], [0.1111111111111111, \"#46039f\"], [0.2222222222222222, \"#7201a8\"], [0.3333333333333333, \"#9c179e\"], [0.4444444444444444, \"#bd3786\"], [0.5555555555555556, \"#d8576b\"], [0.6666666666666666, \"#ed7953\"], [0.7777777777777778, \"#fb9f3a\"], [0.8888888888888888, \"#fdca26\"], [1.0, \"#f0f921\"]], \"type\": \"histogram2d\"}], \"histogram2dcontour\": [{\"colorbar\": {\"outlinewidth\": 0, \"ticks\": \"\"}, \"colorscale\": [[0.0, \"#0d0887\"], [0.1111111111111111, \"#46039f\"], [0.2222222222222222, \"#7201a8\"], [0.3333333333333333, \"#9c179e\"], [0.4444444444444444, \"#bd3786\"], [0.5555555555555556, \"#d8576b\"], [0.6666666666666666, \"#ed7953\"], [0.7777777777777778, \"#fb9f3a\"], [0.8888888888888888, \"#fdca26\"], [1.0, \"#f0f921\"]], \"type\": \"histogram2dcontour\"}], \"mesh3d\": [{\"colorbar\": {\"outlinewidth\": 0, \"ticks\": \"\"}, \"type\": \"mesh3d\"}], \"parcoords\": [{\"line\": {\"colorbar\": {\"outlinewidth\": 0, \"ticks\": \"\"}}, \"type\": \"parcoords\"}], \"pie\": [{\"automargin\": true, \"type\": \"pie\"}], \"scatter\": [{\"marker\": {\"colorbar\": {\"outlinewidth\": 0, \"ticks\": \"\"}}, \"type\": \"scatter\"}], \"scatter3d\": [{\"line\": {\"colorbar\": {\"outlinewidth\": 0, \"ticks\": \"\"}}, \"marker\": {\"colorbar\": {\"outlinewidth\": 0, \"ticks\": \"\"}}, \"type\": \"scatter3d\"}], \"scattercarpet\": [{\"marker\": {\"colorbar\": {\"outlinewidth\": 0, \"ticks\": \"\"}}, \"type\": \"scattercarpet\"}], \"scattergeo\": [{\"marker\": {\"colorbar\": {\"outlinewidth\": 0, \"ticks\": \"\"}}, \"type\": \"scattergeo\"}], \"scattergl\": [{\"marker\": {\"colorbar\": {\"outlinewidth\": 0, \"ticks\": \"\"}}, \"type\": \"scattergl\"}], \"scattermapbox\": [{\"marker\": {\"colorbar\": {\"outlinewidth\": 0, \"ticks\": \"\"}}, \"type\": \"scattermapbox\"}], \"scatterpolar\": [{\"marker\": {\"colorbar\": {\"outlinewidth\": 0, \"ticks\": \"\"}}, \"type\": \"scatterpolar\"}], \"scatterpolargl\": [{\"marker\": {\"colorbar\": {\"outlinewidth\": 0, \"ticks\": \"\"}}, \"type\": \"scatterpolargl\"}], \"scatterternary\": [{\"marker\": {\"colorbar\": {\"outlinewidth\": 0, \"ticks\": \"\"}}, \"type\": \"scatterternary\"}], \"surface\": [{\"colorbar\": {\"outlinewidth\": 0, \"ticks\": \"\"}, \"colorscale\": [[0.0, \"#0d0887\"], [0.1111111111111111, \"#46039f\"], [0.2222222222222222, \"#7201a8\"], [0.3333333333333333, \"#9c179e\"], [0.4444444444444444, \"#bd3786\"], [0.5555555555555556, \"#d8576b\"], [0.6666666666666666, \"#ed7953\"], [0.7777777777777778, \"#fb9f3a\"], [0.8888888888888888, \"#fdca26\"], [1.0, \"#f0f921\"]], \"type\": \"surface\"}], \"table\": [{\"cells\": {\"fill\": {\"color\": \"#EBF0F8\"}, \"line\": {\"color\": \"white\"}}, \"header\": {\"fill\": {\"color\": \"#C8D4E3\"}, \"line\": {\"color\": \"white\"}}, \"type\": \"table\"}]}, \"layout\": {\"annotationdefaults\": {\"arrowcolor\": \"#2a3f5f\", \"arrowhead\": 0, \"arrowwidth\": 1}, \"coloraxis\": {\"colorbar\": {\"outlinewidth\": 0, \"ticks\": \"\"}}, \"colorscale\": {\"diverging\": [[0, \"#8e0152\"], [0.1, \"#c51b7d\"], [0.2, \"#de77ae\"], [0.3, \"#f1b6da\"], [0.4, \"#fde0ef\"], [0.5, \"#f7f7f7\"], [0.6, \"#e6f5d0\"], [0.7, \"#b8e186\"], [0.8, \"#7fbc41\"], [0.9, \"#4d9221\"], [1, \"#276419\"]], \"sequential\": [[0.0, \"#0d0887\"], [0.1111111111111111, \"#46039f\"], [0.2222222222222222, \"#7201a8\"], [0.3333333333333333, \"#9c179e\"], [0.4444444444444444, \"#bd3786\"], [0.5555555555555556, \"#d8576b\"], [0.6666666666666666, \"#ed7953\"], [0.7777777777777778, \"#fb9f3a\"], [0.8888888888888888, \"#fdca26\"], [1.0, \"#f0f921\"]], \"sequentialminus\": [[0.0, \"#0d0887\"], [0.1111111111111111, \"#46039f\"], [0.2222222222222222, \"#7201a8\"], [0.3333333333333333, \"#9c179e\"], [0.4444444444444444, \"#bd3786\"], [0.5555555555555556, \"#d8576b\"], [0.6666666666666666, \"#ed7953\"], [0.7777777777777778, \"#fb9f3a\"], [0.8888888888888888, \"#fdca26\"], [1.0, \"#f0f921\"]]}, \"colorway\": [\"#636efa\", \"#EF553B\", \"#00cc96\", \"#ab63fa\", \"#FFA15A\", \"#19d3f3\", \"#FF6692\", \"#B6E880\", \"#FF97FF\", \"#FECB52\"], \"font\": {\"color\": \"#2a3f5f\"}, \"geo\": {\"bgcolor\": \"white\", \"lakecolor\": \"white\", \"landcolor\": \"#E5ECF6\", \"showlakes\": true, \"showland\": true, \"subunitcolor\": \"white\"}, \"hoverlabel\": {\"align\": \"left\"}, \"hovermode\": \"closest\", \"mapbox\": {\"style\": \"light\"}, \"paper_bgcolor\": \"white\", \"plot_bgcolor\": \"#E5ECF6\", \"polar\": {\"angularaxis\": {\"gridcolor\": \"white\", \"linecolor\": \"white\", \"ticks\": \"\"}, \"bgcolor\": \"#E5ECF6\", \"radialaxis\": {\"gridcolor\": \"white\", \"linecolor\": \"white\", \"ticks\": \"\"}}, \"scene\": {\"xaxis\": {\"backgroundcolor\": \"#E5ECF6\", \"gridcolor\": \"white\", \"gridwidth\": 2, \"linecolor\": \"white\", \"showbackground\": true, \"ticks\": \"\", \"zerolinecolor\": \"white\"}, \"yaxis\": {\"backgroundcolor\": \"#E5ECF6\", \"gridcolor\": \"white\", \"gridwidth\": 2, \"linecolor\": \"white\", \"showbackground\": true, \"ticks\": \"\", \"zerolinecolor\": \"white\"}, \"zaxis\": {\"backgroundcolor\": \"#E5ECF6\", \"gridcolor\": \"white\", \"gridwidth\": 2, \"linecolor\": \"white\", \"showbackground\": true, \"ticks\": \"\", \"zerolinecolor\": \"white\"}}, \"shapedefaults\": {\"line\": {\"color\": \"#2a3f5f\"}}, \"ternary\": {\"aaxis\": {\"gridcolor\": \"white\", \"linecolor\": \"white\", \"ticks\": \"\"}, \"baxis\": {\"gridcolor\": \"white\", \"linecolor\": \"white\", \"ticks\": \"\"}, \"bgcolor\": \"#E5ECF6\", \"caxis\": {\"gridcolor\": \"white\", \"linecolor\": \"white\", \"ticks\": \"\"}}, \"title\": {\"x\": 0.05}, \"xaxis\": {\"automargin\": true, \"gridcolor\": \"white\", \"linecolor\": \"white\", \"ticks\": \"\", \"title\": {\"standoff\": 15}, \"zerolinecolor\": \"white\", \"zerolinewidth\": 2}, \"yaxis\": {\"automargin\": true, \"gridcolor\": \"white\", \"linecolor\": \"white\", \"ticks\": \"\", \"title\": {\"standoff\": 15}, \"zerolinecolor\": \"white\", \"zerolinewidth\": 2}}}, \"title\": {\"text\": \"Data - Cases in Mexico\", \"x\": 0.5}, \"yaxis\": {\"type\": \"linear\"}},\n",
       "                        {\"responsive\": true}\n",
       "                    ).then(function(){\n",
       "                            \n",
       "var gd = document.getElementById('b0005c5e-8537-4e27-a3dd-677ef7ea58ef');\n",
       "var x = new MutationObserver(function (mutations, observer) {{\n",
       "        var display = window.getComputedStyle(gd).display;\n",
       "        if (!display || display === 'none') {{\n",
       "            console.log([gd, 'removed!']);\n",
       "            Plotly.purge(gd);\n",
       "            observer.disconnect();\n",
       "        }}\n",
       "}});\n",
       "\n",
       "// Listen for the removal of the full notebook cells\n",
       "var notebookContainer = gd.closest('#notebook-container');\n",
       "if (notebookContainer) {{\n",
       "    x.observe(notebookContainer, {childList: true});\n",
       "}}\n",
       "\n",
       "// Listen for the clearing of the current output cell\n",
       "var outputEl = gd.closest('.output');\n",
       "if (outputEl) {{\n",
       "    x.observe(outputEl, {childList: true});\n",
       "}}\n",
       "\n",
       "                        })\n",
       "                };\n",
       "                });\n",
       "            </script>\n",
       "        </div>"
      ]
     },
     "metadata": {},
     "output_type": "display_data"
    }
   ],
   "source": [
    "fig = go.Figure()\n",
    "\n",
    "fig.add_trace(go.Scatter(\n",
    "    x=mx1['date'],\n",
    "    y=mx1['Cases_Mexico'],\n",
    "    name='Cases Mexico - as reported',\n",
    "    mode='lines+markers',line_width=2,marker_size=6,opacity=0.6))\n",
    "\n",
    "fig.add_trace(go.Scatter(\n",
    "    x=mx2['date'],\n",
    "    y=mx2['Cases_Mexico'],\n",
    "    name='Cases_Mexico - as occurred',\n",
    "    mode='lines+markers',line_width=2,marker_size=6,opacity=0.6))\n",
    "\n",
    "fig.update_layout(\n",
    "    title=\"Data - Cases in Mexico\",\n",
    "    title_x=0.5,showlegend=True,yaxis = {'type': 'linear'},\n",
    "    legend=dict(\n",
    "            x=0.05,y=0.95,\n",
    "            traceorder=\"normal\",font=dict(family=\"sans-serif\",size=14),bgcolor='rgba(0,0,0,0)'),)\n",
    "\n",
    "fig.show()"
   ]
  },
  {
   "cell_type": "code",
   "execution_count": 278,
   "metadata": {},
   "outputs": [
    {
     "data": {
      "application/vnd.plotly.v1+json": {
       "config": {
        "plotlyServerURL": "https://plot.ly"
       },
       "data": [
        {
         "line": {
          "width": 2
         },
         "marker": {
          "size": 6
         },
         "mode": "lines+markers",
         "name": "Cases Jalisco - as reported",
         "opacity": 0.6,
         "type": "scatter",
         "x": [
          "2020-05-15T00:00:00",
          "2020-05-16T00:00:00",
          "2020-05-17T00:00:00",
          "2020-05-18T00:00:00",
          "2020-05-19T00:00:00",
          "2020-05-20T00:00:00",
          "2020-05-21T00:00:00",
          "2020-05-22T00:00:00",
          "2020-05-23T00:00:00",
          "2020-05-24T00:00:00",
          "2020-05-25T00:00:00",
          "2020-05-26T00:00:00",
          "2020-05-27T00:00:00",
          "2020-05-28T00:00:00",
          "2020-05-29T00:00:00",
          "2020-05-30T00:00:00",
          "2020-05-31T00:00:00",
          "2020-06-01T00:00:00",
          "2020-06-02T00:00:00",
          "2020-06-03T00:00:00",
          "2020-06-04T00:00:00",
          "2020-06-05T00:00:00",
          "2020-06-06T00:00:00",
          "2020-06-07T00:00:00",
          "2020-06-08T00:00:00",
          "2020-06-09T00:00:00",
          "2020-06-10T00:00:00",
          "2020-06-11T00:00:00",
          "2020-06-12T00:00:00",
          "2020-06-13T00:00:00",
          "2020-06-14T00:00:00",
          "2020-06-15T00:00:00",
          "2020-06-16T00:00:00",
          "2020-06-17T00:00:00",
          "2020-06-18T00:00:00",
          "2020-06-19T00:00:00",
          "2020-06-20T00:00:00",
          "2020-06-21T00:00:00",
          "2020-06-22T00:00:00",
          "2020-06-23T00:00:00",
          "2020-06-24T00:00:00",
          "2020-06-25T00:00:00",
          "2020-06-26T00:00:00",
          "2020-06-27T00:00:00",
          "2020-06-28T00:00:00",
          "2020-06-29T00:00:00",
          "2020-06-30T00:00:00",
          "2020-07-01T00:00:00"
         ],
         "y": [
          767,
          796,
          845,
          884,
          919,
          967,
          1028,
          1095,
          1132,
          1180,
          1238,
          1295,
          1355,
          1432,
          1524,
          1660,
          1760,
          1802,
          2025,
          2136,
          2289,
          2447,
          2653,
          2820,
          2988,
          3218,
          3309,
          3511,
          3704,
          3880,
          4044,
          4139,
          4289,
          4495,
          4656,
          4791,
          4922,
          5090,
          5217,
          5528,
          5715,
          5875,
          6054,
          6190,
          6386,
          6497,
          6684,
          6873
         ]
        },
        {
         "line": {
          "width": 2
         },
         "marker": {
          "size": 6
         },
         "mode": "lines+markers",
         "name": "Cases Jalisco - as occurred",
         "opacity": 0.6,
         "type": "scatter",
         "x": [
          "2020-05-15",
          "2020-05-16",
          "2020-05-17",
          "2020-05-18",
          "2020-05-19",
          "2020-05-20",
          "2020-05-21",
          "2020-05-22",
          "2020-05-23",
          "2020-05-24",
          "2020-05-25",
          "2020-05-26",
          "2020-05-27",
          "2020-05-28",
          "2020-05-29",
          "2020-05-30",
          "2020-05-31",
          "2020-06-01",
          "2020-06-02",
          "2020-06-03",
          "2020-06-04",
          "2020-06-05",
          "2020-06-06",
          "2020-06-07",
          "2020-06-08",
          "2020-06-09",
          "2020-06-10",
          "2020-06-11",
          "2020-06-12",
          "2020-06-13",
          "2020-06-14",
          "2020-06-15",
          "2020-06-16",
          "2020-06-17",
          "2020-06-18",
          "2020-06-19",
          "2020-06-20",
          "2020-06-21",
          "2020-06-22",
          "2020-06-23",
          "2020-06-24",
          "2020-06-25",
          "2020-06-26",
          "2020-06-27",
          "2020-06-28",
          "2020-06-29",
          "2020-06-30",
          "2020-07-01"
         ],
         "y": [
          960,
          979,
          1010,
          1068,
          1143,
          1207,
          1271,
          1346,
          1389,
          1427,
          1522,
          1652,
          1794,
          1920,
          2089,
          2217,
          2303,
          2533,
          2728,
          2940,
          3120,
          3343,
          3445,
          3517,
          3780,
          4032,
          4280,
          4511,
          4696,
          4815,
          4903,
          5132,
          5351,
          5566,
          5804,
          6002,
          6141,
          6237,
          6464,
          6702,
          6907,
          7088,
          7311,
          7451,
          7560,
          7752,
          7985,
          8190
         ]
        }
       ],
       "layout": {
        "legend": {
         "bgcolor": "rgba(0,0,0,0)",
         "font": {
          "family": "sans-serif",
          "size": 14
         },
         "traceorder": "normal",
         "x": 0.05,
         "y": 0.95
        },
        "showlegend": true,
        "template": {
         "data": {
          "bar": [
           {
            "error_x": {
             "color": "#2a3f5f"
            },
            "error_y": {
             "color": "#2a3f5f"
            },
            "marker": {
             "line": {
              "color": "#E5ECF6",
              "width": 0.5
             }
            },
            "type": "bar"
           }
          ],
          "barpolar": [
           {
            "marker": {
             "line": {
              "color": "#E5ECF6",
              "width": 0.5
             }
            },
            "type": "barpolar"
           }
          ],
          "carpet": [
           {
            "aaxis": {
             "endlinecolor": "#2a3f5f",
             "gridcolor": "white",
             "linecolor": "white",
             "minorgridcolor": "white",
             "startlinecolor": "#2a3f5f"
            },
            "baxis": {
             "endlinecolor": "#2a3f5f",
             "gridcolor": "white",
             "linecolor": "white",
             "minorgridcolor": "white",
             "startlinecolor": "#2a3f5f"
            },
            "type": "carpet"
           }
          ],
          "choropleth": [
           {
            "colorbar": {
             "outlinewidth": 0,
             "ticks": ""
            },
            "type": "choropleth"
           }
          ],
          "contour": [
           {
            "colorbar": {
             "outlinewidth": 0,
             "ticks": ""
            },
            "colorscale": [
             [
              0,
              "#0d0887"
             ],
             [
              0.1111111111111111,
              "#46039f"
             ],
             [
              0.2222222222222222,
              "#7201a8"
             ],
             [
              0.3333333333333333,
              "#9c179e"
             ],
             [
              0.4444444444444444,
              "#bd3786"
             ],
             [
              0.5555555555555556,
              "#d8576b"
             ],
             [
              0.6666666666666666,
              "#ed7953"
             ],
             [
              0.7777777777777778,
              "#fb9f3a"
             ],
             [
              0.8888888888888888,
              "#fdca26"
             ],
             [
              1,
              "#f0f921"
             ]
            ],
            "type": "contour"
           }
          ],
          "contourcarpet": [
           {
            "colorbar": {
             "outlinewidth": 0,
             "ticks": ""
            },
            "type": "contourcarpet"
           }
          ],
          "heatmap": [
           {
            "colorbar": {
             "outlinewidth": 0,
             "ticks": ""
            },
            "colorscale": [
             [
              0,
              "#0d0887"
             ],
             [
              0.1111111111111111,
              "#46039f"
             ],
             [
              0.2222222222222222,
              "#7201a8"
             ],
             [
              0.3333333333333333,
              "#9c179e"
             ],
             [
              0.4444444444444444,
              "#bd3786"
             ],
             [
              0.5555555555555556,
              "#d8576b"
             ],
             [
              0.6666666666666666,
              "#ed7953"
             ],
             [
              0.7777777777777778,
              "#fb9f3a"
             ],
             [
              0.8888888888888888,
              "#fdca26"
             ],
             [
              1,
              "#f0f921"
             ]
            ],
            "type": "heatmap"
           }
          ],
          "heatmapgl": [
           {
            "colorbar": {
             "outlinewidth": 0,
             "ticks": ""
            },
            "colorscale": [
             [
              0,
              "#0d0887"
             ],
             [
              0.1111111111111111,
              "#46039f"
             ],
             [
              0.2222222222222222,
              "#7201a8"
             ],
             [
              0.3333333333333333,
              "#9c179e"
             ],
             [
              0.4444444444444444,
              "#bd3786"
             ],
             [
              0.5555555555555556,
              "#d8576b"
             ],
             [
              0.6666666666666666,
              "#ed7953"
             ],
             [
              0.7777777777777778,
              "#fb9f3a"
             ],
             [
              0.8888888888888888,
              "#fdca26"
             ],
             [
              1,
              "#f0f921"
             ]
            ],
            "type": "heatmapgl"
           }
          ],
          "histogram": [
           {
            "marker": {
             "colorbar": {
              "outlinewidth": 0,
              "ticks": ""
             }
            },
            "type": "histogram"
           }
          ],
          "histogram2d": [
           {
            "colorbar": {
             "outlinewidth": 0,
             "ticks": ""
            },
            "colorscale": [
             [
              0,
              "#0d0887"
             ],
             [
              0.1111111111111111,
              "#46039f"
             ],
             [
              0.2222222222222222,
              "#7201a8"
             ],
             [
              0.3333333333333333,
              "#9c179e"
             ],
             [
              0.4444444444444444,
              "#bd3786"
             ],
             [
              0.5555555555555556,
              "#d8576b"
             ],
             [
              0.6666666666666666,
              "#ed7953"
             ],
             [
              0.7777777777777778,
              "#fb9f3a"
             ],
             [
              0.8888888888888888,
              "#fdca26"
             ],
             [
              1,
              "#f0f921"
             ]
            ],
            "type": "histogram2d"
           }
          ],
          "histogram2dcontour": [
           {
            "colorbar": {
             "outlinewidth": 0,
             "ticks": ""
            },
            "colorscale": [
             [
              0,
              "#0d0887"
             ],
             [
              0.1111111111111111,
              "#46039f"
             ],
             [
              0.2222222222222222,
              "#7201a8"
             ],
             [
              0.3333333333333333,
              "#9c179e"
             ],
             [
              0.4444444444444444,
              "#bd3786"
             ],
             [
              0.5555555555555556,
              "#d8576b"
             ],
             [
              0.6666666666666666,
              "#ed7953"
             ],
             [
              0.7777777777777778,
              "#fb9f3a"
             ],
             [
              0.8888888888888888,
              "#fdca26"
             ],
             [
              1,
              "#f0f921"
             ]
            ],
            "type": "histogram2dcontour"
           }
          ],
          "mesh3d": [
           {
            "colorbar": {
             "outlinewidth": 0,
             "ticks": ""
            },
            "type": "mesh3d"
           }
          ],
          "parcoords": [
           {
            "line": {
             "colorbar": {
              "outlinewidth": 0,
              "ticks": ""
             }
            },
            "type": "parcoords"
           }
          ],
          "pie": [
           {
            "automargin": true,
            "type": "pie"
           }
          ],
          "scatter": [
           {
            "marker": {
             "colorbar": {
              "outlinewidth": 0,
              "ticks": ""
             }
            },
            "type": "scatter"
           }
          ],
          "scatter3d": [
           {
            "line": {
             "colorbar": {
              "outlinewidth": 0,
              "ticks": ""
             }
            },
            "marker": {
             "colorbar": {
              "outlinewidth": 0,
              "ticks": ""
             }
            },
            "type": "scatter3d"
           }
          ],
          "scattercarpet": [
           {
            "marker": {
             "colorbar": {
              "outlinewidth": 0,
              "ticks": ""
             }
            },
            "type": "scattercarpet"
           }
          ],
          "scattergeo": [
           {
            "marker": {
             "colorbar": {
              "outlinewidth": 0,
              "ticks": ""
             }
            },
            "type": "scattergeo"
           }
          ],
          "scattergl": [
           {
            "marker": {
             "colorbar": {
              "outlinewidth": 0,
              "ticks": ""
             }
            },
            "type": "scattergl"
           }
          ],
          "scattermapbox": [
           {
            "marker": {
             "colorbar": {
              "outlinewidth": 0,
              "ticks": ""
             }
            },
            "type": "scattermapbox"
           }
          ],
          "scatterpolar": [
           {
            "marker": {
             "colorbar": {
              "outlinewidth": 0,
              "ticks": ""
             }
            },
            "type": "scatterpolar"
           }
          ],
          "scatterpolargl": [
           {
            "marker": {
             "colorbar": {
              "outlinewidth": 0,
              "ticks": ""
             }
            },
            "type": "scatterpolargl"
           }
          ],
          "scatterternary": [
           {
            "marker": {
             "colorbar": {
              "outlinewidth": 0,
              "ticks": ""
             }
            },
            "type": "scatterternary"
           }
          ],
          "surface": [
           {
            "colorbar": {
             "outlinewidth": 0,
             "ticks": ""
            },
            "colorscale": [
             [
              0,
              "#0d0887"
             ],
             [
              0.1111111111111111,
              "#46039f"
             ],
             [
              0.2222222222222222,
              "#7201a8"
             ],
             [
              0.3333333333333333,
              "#9c179e"
             ],
             [
              0.4444444444444444,
              "#bd3786"
             ],
             [
              0.5555555555555556,
              "#d8576b"
             ],
             [
              0.6666666666666666,
              "#ed7953"
             ],
             [
              0.7777777777777778,
              "#fb9f3a"
             ],
             [
              0.8888888888888888,
              "#fdca26"
             ],
             [
              1,
              "#f0f921"
             ]
            ],
            "type": "surface"
           }
          ],
          "table": [
           {
            "cells": {
             "fill": {
              "color": "#EBF0F8"
             },
             "line": {
              "color": "white"
             }
            },
            "header": {
             "fill": {
              "color": "#C8D4E3"
             },
             "line": {
              "color": "white"
             }
            },
            "type": "table"
           }
          ]
         },
         "layout": {
          "annotationdefaults": {
           "arrowcolor": "#2a3f5f",
           "arrowhead": 0,
           "arrowwidth": 1
          },
          "coloraxis": {
           "colorbar": {
            "outlinewidth": 0,
            "ticks": ""
           }
          },
          "colorscale": {
           "diverging": [
            [
             0,
             "#8e0152"
            ],
            [
             0.1,
             "#c51b7d"
            ],
            [
             0.2,
             "#de77ae"
            ],
            [
             0.3,
             "#f1b6da"
            ],
            [
             0.4,
             "#fde0ef"
            ],
            [
             0.5,
             "#f7f7f7"
            ],
            [
             0.6,
             "#e6f5d0"
            ],
            [
             0.7,
             "#b8e186"
            ],
            [
             0.8,
             "#7fbc41"
            ],
            [
             0.9,
             "#4d9221"
            ],
            [
             1,
             "#276419"
            ]
           ],
           "sequential": [
            [
             0,
             "#0d0887"
            ],
            [
             0.1111111111111111,
             "#46039f"
            ],
            [
             0.2222222222222222,
             "#7201a8"
            ],
            [
             0.3333333333333333,
             "#9c179e"
            ],
            [
             0.4444444444444444,
             "#bd3786"
            ],
            [
             0.5555555555555556,
             "#d8576b"
            ],
            [
             0.6666666666666666,
             "#ed7953"
            ],
            [
             0.7777777777777778,
             "#fb9f3a"
            ],
            [
             0.8888888888888888,
             "#fdca26"
            ],
            [
             1,
             "#f0f921"
            ]
           ],
           "sequentialminus": [
            [
             0,
             "#0d0887"
            ],
            [
             0.1111111111111111,
             "#46039f"
            ],
            [
             0.2222222222222222,
             "#7201a8"
            ],
            [
             0.3333333333333333,
             "#9c179e"
            ],
            [
             0.4444444444444444,
             "#bd3786"
            ],
            [
             0.5555555555555556,
             "#d8576b"
            ],
            [
             0.6666666666666666,
             "#ed7953"
            ],
            [
             0.7777777777777778,
             "#fb9f3a"
            ],
            [
             0.8888888888888888,
             "#fdca26"
            ],
            [
             1,
             "#f0f921"
            ]
           ]
          },
          "colorway": [
           "#636efa",
           "#EF553B",
           "#00cc96",
           "#ab63fa",
           "#FFA15A",
           "#19d3f3",
           "#FF6692",
           "#B6E880",
           "#FF97FF",
           "#FECB52"
          ],
          "font": {
           "color": "#2a3f5f"
          },
          "geo": {
           "bgcolor": "white",
           "lakecolor": "white",
           "landcolor": "#E5ECF6",
           "showlakes": true,
           "showland": true,
           "subunitcolor": "white"
          },
          "hoverlabel": {
           "align": "left"
          },
          "hovermode": "closest",
          "mapbox": {
           "style": "light"
          },
          "paper_bgcolor": "white",
          "plot_bgcolor": "#E5ECF6",
          "polar": {
           "angularaxis": {
            "gridcolor": "white",
            "linecolor": "white",
            "ticks": ""
           },
           "bgcolor": "#E5ECF6",
           "radialaxis": {
            "gridcolor": "white",
            "linecolor": "white",
            "ticks": ""
           }
          },
          "scene": {
           "xaxis": {
            "backgroundcolor": "#E5ECF6",
            "gridcolor": "white",
            "gridwidth": 2,
            "linecolor": "white",
            "showbackground": true,
            "ticks": "",
            "zerolinecolor": "white"
           },
           "yaxis": {
            "backgroundcolor": "#E5ECF6",
            "gridcolor": "white",
            "gridwidth": 2,
            "linecolor": "white",
            "showbackground": true,
            "ticks": "",
            "zerolinecolor": "white"
           },
           "zaxis": {
            "backgroundcolor": "#E5ECF6",
            "gridcolor": "white",
            "gridwidth": 2,
            "linecolor": "white",
            "showbackground": true,
            "ticks": "",
            "zerolinecolor": "white"
           }
          },
          "shapedefaults": {
           "line": {
            "color": "#2a3f5f"
           }
          },
          "ternary": {
           "aaxis": {
            "gridcolor": "white",
            "linecolor": "white",
            "ticks": ""
           },
           "baxis": {
            "gridcolor": "white",
            "linecolor": "white",
            "ticks": ""
           },
           "bgcolor": "#E5ECF6",
           "caxis": {
            "gridcolor": "white",
            "linecolor": "white",
            "ticks": ""
           }
          },
          "title": {
           "x": 0.05
          },
          "xaxis": {
           "automargin": true,
           "gridcolor": "white",
           "linecolor": "white",
           "ticks": "",
           "title": {
            "standoff": 15
           },
           "zerolinecolor": "white",
           "zerolinewidth": 2
          },
          "yaxis": {
           "automargin": true,
           "gridcolor": "white",
           "linecolor": "white",
           "ticks": "",
           "title": {
            "standoff": 15
           },
           "zerolinecolor": "white",
           "zerolinewidth": 2
          }
         }
        },
        "title": {
         "text": "Data - Cases in Jalisco",
         "x": 0.5
        },
        "yaxis": {
         "type": "linear"
        }
       }
      },
      "text/html": [
       "<div>\n",
       "        \n",
       "        \n",
       "            <div id=\"6a3f54c2-5add-4d91-ac31-edfa4be13f9e\" class=\"plotly-graph-div\" style=\"height:525px; width:100%;\"></div>\n",
       "            <script type=\"text/javascript\">\n",
       "                require([\"plotly\"], function(Plotly) {\n",
       "                    window.PLOTLYENV=window.PLOTLYENV || {};\n",
       "                    \n",
       "                if (document.getElementById(\"6a3f54c2-5add-4d91-ac31-edfa4be13f9e\")) {\n",
       "                    Plotly.newPlot(\n",
       "                        '6a3f54c2-5add-4d91-ac31-edfa4be13f9e',\n",
       "                        [{\"line\": {\"width\": 2}, \"marker\": {\"size\": 6}, \"mode\": \"lines+markers\", \"name\": \"Cases Jalisco - as reported\", \"opacity\": 0.6, \"type\": \"scatter\", \"x\": [\"2020-05-15T00:00:00\", \"2020-05-16T00:00:00\", \"2020-05-17T00:00:00\", \"2020-05-18T00:00:00\", \"2020-05-19T00:00:00\", \"2020-05-20T00:00:00\", \"2020-05-21T00:00:00\", \"2020-05-22T00:00:00\", \"2020-05-23T00:00:00\", \"2020-05-24T00:00:00\", \"2020-05-25T00:00:00\", \"2020-05-26T00:00:00\", \"2020-05-27T00:00:00\", \"2020-05-28T00:00:00\", \"2020-05-29T00:00:00\", \"2020-05-30T00:00:00\", \"2020-05-31T00:00:00\", \"2020-06-01T00:00:00\", \"2020-06-02T00:00:00\", \"2020-06-03T00:00:00\", \"2020-06-04T00:00:00\", \"2020-06-05T00:00:00\", \"2020-06-06T00:00:00\", \"2020-06-07T00:00:00\", \"2020-06-08T00:00:00\", \"2020-06-09T00:00:00\", \"2020-06-10T00:00:00\", \"2020-06-11T00:00:00\", \"2020-06-12T00:00:00\", \"2020-06-13T00:00:00\", \"2020-06-14T00:00:00\", \"2020-06-15T00:00:00\", \"2020-06-16T00:00:00\", \"2020-06-17T00:00:00\", \"2020-06-18T00:00:00\", \"2020-06-19T00:00:00\", \"2020-06-20T00:00:00\", \"2020-06-21T00:00:00\", \"2020-06-22T00:00:00\", \"2020-06-23T00:00:00\", \"2020-06-24T00:00:00\", \"2020-06-25T00:00:00\", \"2020-06-26T00:00:00\", \"2020-06-27T00:00:00\", \"2020-06-28T00:00:00\", \"2020-06-29T00:00:00\", \"2020-06-30T00:00:00\", \"2020-07-01T00:00:00\"], \"y\": [767, 796, 845, 884, 919, 967, 1028, 1095, 1132, 1180, 1238, 1295, 1355, 1432, 1524, 1660, 1760, 1802, 2025, 2136, 2289, 2447, 2653, 2820, 2988, 3218, 3309, 3511, 3704, 3880, 4044, 4139, 4289, 4495, 4656, 4791, 4922, 5090, 5217, 5528, 5715, 5875, 6054, 6190, 6386, 6497, 6684, 6873]}, {\"line\": {\"width\": 2}, \"marker\": {\"size\": 6}, \"mode\": \"lines+markers\", \"name\": \"Cases Jalisco - as occurred\", \"opacity\": 0.6, \"type\": \"scatter\", \"x\": [\"2020-05-15\", \"2020-05-16\", \"2020-05-17\", \"2020-05-18\", \"2020-05-19\", \"2020-05-20\", \"2020-05-21\", \"2020-05-22\", \"2020-05-23\", \"2020-05-24\", \"2020-05-25\", \"2020-05-26\", \"2020-05-27\", \"2020-05-28\", \"2020-05-29\", \"2020-05-30\", \"2020-05-31\", \"2020-06-01\", \"2020-06-02\", \"2020-06-03\", \"2020-06-04\", \"2020-06-05\", \"2020-06-06\", \"2020-06-07\", \"2020-06-08\", \"2020-06-09\", \"2020-06-10\", \"2020-06-11\", \"2020-06-12\", \"2020-06-13\", \"2020-06-14\", \"2020-06-15\", \"2020-06-16\", \"2020-06-17\", \"2020-06-18\", \"2020-06-19\", \"2020-06-20\", \"2020-06-21\", \"2020-06-22\", \"2020-06-23\", \"2020-06-24\", \"2020-06-25\", \"2020-06-26\", \"2020-06-27\", \"2020-06-28\", \"2020-06-29\", \"2020-06-30\", \"2020-07-01\"], \"y\": [960.0, 979.0, 1010.0, 1068.0, 1143.0, 1207.0, 1271.0, 1346.0, 1389.0, 1427.0, 1522.0, 1652.0, 1794.0, 1920.0, 2089.0, 2217.0, 2303.0, 2533.0, 2728.0, 2940.0, 3120.0, 3343.0, 3445.0, 3517.0, 3780.0, 4032.0, 4280.0, 4511.0, 4696.0, 4815.0, 4903.0, 5132.0, 5351.0, 5566.0, 5804.0, 6002.0, 6141.0, 6237.0, 6464.0, 6702.0, 6907.0, 7088.0, 7311.0, 7451.0, 7560.0, 7752.0, 7985.0, 8190.0]}],\n",
       "                        {\"legend\": {\"bgcolor\": \"rgba(0,0,0,0)\", \"font\": {\"family\": \"sans-serif\", \"size\": 14}, \"traceorder\": \"normal\", \"x\": 0.05, \"y\": 0.95}, \"showlegend\": true, \"template\": {\"data\": {\"bar\": [{\"error_x\": {\"color\": \"#2a3f5f\"}, \"error_y\": {\"color\": \"#2a3f5f\"}, \"marker\": {\"line\": {\"color\": \"#E5ECF6\", \"width\": 0.5}}, \"type\": \"bar\"}], \"barpolar\": [{\"marker\": {\"line\": {\"color\": \"#E5ECF6\", \"width\": 0.5}}, \"type\": \"barpolar\"}], \"carpet\": [{\"aaxis\": {\"endlinecolor\": \"#2a3f5f\", \"gridcolor\": \"white\", \"linecolor\": \"white\", \"minorgridcolor\": \"white\", \"startlinecolor\": \"#2a3f5f\"}, \"baxis\": {\"endlinecolor\": \"#2a3f5f\", \"gridcolor\": \"white\", \"linecolor\": \"white\", \"minorgridcolor\": \"white\", \"startlinecolor\": \"#2a3f5f\"}, \"type\": \"carpet\"}], \"choropleth\": [{\"colorbar\": {\"outlinewidth\": 0, \"ticks\": \"\"}, \"type\": \"choropleth\"}], \"contour\": [{\"colorbar\": {\"outlinewidth\": 0, \"ticks\": \"\"}, \"colorscale\": [[0.0, \"#0d0887\"], [0.1111111111111111, \"#46039f\"], [0.2222222222222222, \"#7201a8\"], [0.3333333333333333, \"#9c179e\"], [0.4444444444444444, \"#bd3786\"], [0.5555555555555556, \"#d8576b\"], [0.6666666666666666, \"#ed7953\"], [0.7777777777777778, \"#fb9f3a\"], [0.8888888888888888, \"#fdca26\"], [1.0, \"#f0f921\"]], \"type\": \"contour\"}], \"contourcarpet\": [{\"colorbar\": {\"outlinewidth\": 0, \"ticks\": \"\"}, \"type\": \"contourcarpet\"}], \"heatmap\": [{\"colorbar\": {\"outlinewidth\": 0, \"ticks\": \"\"}, \"colorscale\": [[0.0, \"#0d0887\"], [0.1111111111111111, \"#46039f\"], [0.2222222222222222, \"#7201a8\"], [0.3333333333333333, \"#9c179e\"], [0.4444444444444444, \"#bd3786\"], [0.5555555555555556, \"#d8576b\"], [0.6666666666666666, \"#ed7953\"], [0.7777777777777778, \"#fb9f3a\"], [0.8888888888888888, \"#fdca26\"], [1.0, \"#f0f921\"]], \"type\": \"heatmap\"}], \"heatmapgl\": [{\"colorbar\": {\"outlinewidth\": 0, \"ticks\": \"\"}, \"colorscale\": [[0.0, \"#0d0887\"], [0.1111111111111111, \"#46039f\"], [0.2222222222222222, \"#7201a8\"], [0.3333333333333333, \"#9c179e\"], [0.4444444444444444, \"#bd3786\"], [0.5555555555555556, \"#d8576b\"], [0.6666666666666666, \"#ed7953\"], [0.7777777777777778, \"#fb9f3a\"], [0.8888888888888888, \"#fdca26\"], [1.0, \"#f0f921\"]], \"type\": \"heatmapgl\"}], \"histogram\": [{\"marker\": {\"colorbar\": {\"outlinewidth\": 0, \"ticks\": \"\"}}, \"type\": \"histogram\"}], \"histogram2d\": [{\"colorbar\": {\"outlinewidth\": 0, \"ticks\": \"\"}, \"colorscale\": [[0.0, \"#0d0887\"], [0.1111111111111111, \"#46039f\"], [0.2222222222222222, \"#7201a8\"], [0.3333333333333333, \"#9c179e\"], [0.4444444444444444, \"#bd3786\"], [0.5555555555555556, \"#d8576b\"], [0.6666666666666666, \"#ed7953\"], [0.7777777777777778, \"#fb9f3a\"], [0.8888888888888888, \"#fdca26\"], [1.0, \"#f0f921\"]], \"type\": \"histogram2d\"}], \"histogram2dcontour\": [{\"colorbar\": {\"outlinewidth\": 0, \"ticks\": \"\"}, \"colorscale\": [[0.0, \"#0d0887\"], [0.1111111111111111, \"#46039f\"], [0.2222222222222222, \"#7201a8\"], [0.3333333333333333, \"#9c179e\"], [0.4444444444444444, \"#bd3786\"], [0.5555555555555556, \"#d8576b\"], [0.6666666666666666, \"#ed7953\"], [0.7777777777777778, \"#fb9f3a\"], [0.8888888888888888, \"#fdca26\"], [1.0, \"#f0f921\"]], \"type\": \"histogram2dcontour\"}], \"mesh3d\": [{\"colorbar\": {\"outlinewidth\": 0, \"ticks\": \"\"}, \"type\": \"mesh3d\"}], \"parcoords\": [{\"line\": {\"colorbar\": {\"outlinewidth\": 0, \"ticks\": \"\"}}, \"type\": \"parcoords\"}], \"pie\": [{\"automargin\": true, \"type\": \"pie\"}], \"scatter\": [{\"marker\": {\"colorbar\": {\"outlinewidth\": 0, \"ticks\": \"\"}}, \"type\": \"scatter\"}], \"scatter3d\": [{\"line\": {\"colorbar\": {\"outlinewidth\": 0, \"ticks\": \"\"}}, \"marker\": {\"colorbar\": {\"outlinewidth\": 0, \"ticks\": \"\"}}, \"type\": \"scatter3d\"}], \"scattercarpet\": [{\"marker\": {\"colorbar\": {\"outlinewidth\": 0, \"ticks\": \"\"}}, \"type\": \"scattercarpet\"}], \"scattergeo\": [{\"marker\": {\"colorbar\": {\"outlinewidth\": 0, \"ticks\": \"\"}}, \"type\": \"scattergeo\"}], \"scattergl\": [{\"marker\": {\"colorbar\": {\"outlinewidth\": 0, \"ticks\": \"\"}}, \"type\": \"scattergl\"}], \"scattermapbox\": [{\"marker\": {\"colorbar\": {\"outlinewidth\": 0, \"ticks\": \"\"}}, \"type\": \"scattermapbox\"}], \"scatterpolar\": [{\"marker\": {\"colorbar\": {\"outlinewidth\": 0, \"ticks\": \"\"}}, \"type\": \"scatterpolar\"}], \"scatterpolargl\": [{\"marker\": {\"colorbar\": {\"outlinewidth\": 0, \"ticks\": \"\"}}, \"type\": \"scatterpolargl\"}], \"scatterternary\": [{\"marker\": {\"colorbar\": {\"outlinewidth\": 0, \"ticks\": \"\"}}, \"type\": \"scatterternary\"}], \"surface\": [{\"colorbar\": {\"outlinewidth\": 0, \"ticks\": \"\"}, \"colorscale\": [[0.0, \"#0d0887\"], [0.1111111111111111, \"#46039f\"], [0.2222222222222222, \"#7201a8\"], [0.3333333333333333, \"#9c179e\"], [0.4444444444444444, \"#bd3786\"], [0.5555555555555556, \"#d8576b\"], [0.6666666666666666, \"#ed7953\"], [0.7777777777777778, \"#fb9f3a\"], [0.8888888888888888, \"#fdca26\"], [1.0, \"#f0f921\"]], \"type\": \"surface\"}], \"table\": [{\"cells\": {\"fill\": {\"color\": \"#EBF0F8\"}, \"line\": {\"color\": \"white\"}}, \"header\": {\"fill\": {\"color\": \"#C8D4E3\"}, \"line\": {\"color\": \"white\"}}, \"type\": \"table\"}]}, \"layout\": {\"annotationdefaults\": {\"arrowcolor\": \"#2a3f5f\", \"arrowhead\": 0, \"arrowwidth\": 1}, \"coloraxis\": {\"colorbar\": {\"outlinewidth\": 0, \"ticks\": \"\"}}, \"colorscale\": {\"diverging\": [[0, \"#8e0152\"], [0.1, \"#c51b7d\"], [0.2, \"#de77ae\"], [0.3, \"#f1b6da\"], [0.4, \"#fde0ef\"], [0.5, \"#f7f7f7\"], [0.6, \"#e6f5d0\"], [0.7, \"#b8e186\"], [0.8, \"#7fbc41\"], [0.9, \"#4d9221\"], [1, \"#276419\"]], \"sequential\": [[0.0, \"#0d0887\"], [0.1111111111111111, \"#46039f\"], [0.2222222222222222, \"#7201a8\"], [0.3333333333333333, \"#9c179e\"], [0.4444444444444444, \"#bd3786\"], [0.5555555555555556, \"#d8576b\"], [0.6666666666666666, \"#ed7953\"], [0.7777777777777778, \"#fb9f3a\"], [0.8888888888888888, \"#fdca26\"], [1.0, \"#f0f921\"]], \"sequentialminus\": [[0.0, \"#0d0887\"], [0.1111111111111111, \"#46039f\"], [0.2222222222222222, \"#7201a8\"], [0.3333333333333333, \"#9c179e\"], [0.4444444444444444, \"#bd3786\"], [0.5555555555555556, \"#d8576b\"], [0.6666666666666666, \"#ed7953\"], [0.7777777777777778, \"#fb9f3a\"], [0.8888888888888888, \"#fdca26\"], [1.0, \"#f0f921\"]]}, \"colorway\": [\"#636efa\", \"#EF553B\", \"#00cc96\", \"#ab63fa\", \"#FFA15A\", \"#19d3f3\", \"#FF6692\", \"#B6E880\", \"#FF97FF\", \"#FECB52\"], \"font\": {\"color\": \"#2a3f5f\"}, \"geo\": {\"bgcolor\": \"white\", \"lakecolor\": \"white\", \"landcolor\": \"#E5ECF6\", \"showlakes\": true, \"showland\": true, \"subunitcolor\": \"white\"}, \"hoverlabel\": {\"align\": \"left\"}, \"hovermode\": \"closest\", \"mapbox\": {\"style\": \"light\"}, \"paper_bgcolor\": \"white\", \"plot_bgcolor\": \"#E5ECF6\", \"polar\": {\"angularaxis\": {\"gridcolor\": \"white\", \"linecolor\": \"white\", \"ticks\": \"\"}, \"bgcolor\": \"#E5ECF6\", \"radialaxis\": {\"gridcolor\": \"white\", \"linecolor\": \"white\", \"ticks\": \"\"}}, \"scene\": {\"xaxis\": {\"backgroundcolor\": \"#E5ECF6\", \"gridcolor\": \"white\", \"gridwidth\": 2, \"linecolor\": \"white\", \"showbackground\": true, \"ticks\": \"\", \"zerolinecolor\": \"white\"}, \"yaxis\": {\"backgroundcolor\": \"#E5ECF6\", \"gridcolor\": \"white\", \"gridwidth\": 2, \"linecolor\": \"white\", \"showbackground\": true, \"ticks\": \"\", \"zerolinecolor\": \"white\"}, \"zaxis\": {\"backgroundcolor\": \"#E5ECF6\", \"gridcolor\": \"white\", \"gridwidth\": 2, \"linecolor\": \"white\", \"showbackground\": true, \"ticks\": \"\", \"zerolinecolor\": \"white\"}}, \"shapedefaults\": {\"line\": {\"color\": \"#2a3f5f\"}}, \"ternary\": {\"aaxis\": {\"gridcolor\": \"white\", \"linecolor\": \"white\", \"ticks\": \"\"}, \"baxis\": {\"gridcolor\": \"white\", \"linecolor\": \"white\", \"ticks\": \"\"}, \"bgcolor\": \"#E5ECF6\", \"caxis\": {\"gridcolor\": \"white\", \"linecolor\": \"white\", \"ticks\": \"\"}}, \"title\": {\"x\": 0.05}, \"xaxis\": {\"automargin\": true, \"gridcolor\": \"white\", \"linecolor\": \"white\", \"ticks\": \"\", \"title\": {\"standoff\": 15}, \"zerolinecolor\": \"white\", \"zerolinewidth\": 2}, \"yaxis\": {\"automargin\": true, \"gridcolor\": \"white\", \"linecolor\": \"white\", \"ticks\": \"\", \"title\": {\"standoff\": 15}, \"zerolinecolor\": \"white\", \"zerolinewidth\": 2}}}, \"title\": {\"text\": \"Data - Cases in Jalisco\", \"x\": 0.5}, \"yaxis\": {\"type\": \"linear\"}},\n",
       "                        {\"responsive\": true}\n",
       "                    ).then(function(){\n",
       "                            \n",
       "var gd = document.getElementById('6a3f54c2-5add-4d91-ac31-edfa4be13f9e');\n",
       "var x = new MutationObserver(function (mutations, observer) {{\n",
       "        var display = window.getComputedStyle(gd).display;\n",
       "        if (!display || display === 'none') {{\n",
       "            console.log([gd, 'removed!']);\n",
       "            Plotly.purge(gd);\n",
       "            observer.disconnect();\n",
       "        }}\n",
       "}});\n",
       "\n",
       "// Listen for the removal of the full notebook cells\n",
       "var notebookContainer = gd.closest('#notebook-container');\n",
       "if (notebookContainer) {{\n",
       "    x.observe(notebookContainer, {childList: true});\n",
       "}}\n",
       "\n",
       "// Listen for the clearing of the current output cell\n",
       "var outputEl = gd.closest('.output');\n",
       "if (outputEl) {{\n",
       "    x.observe(outputEl, {childList: true});\n",
       "}}\n",
       "\n",
       "                        })\n",
       "                };\n",
       "                });\n",
       "            </script>\n",
       "        </div>"
      ]
     },
     "metadata": {},
     "output_type": "display_data"
    }
   ],
   "source": [
    "fig = go.Figure()\n",
    "\n",
    "fig.add_trace(go.Scatter(\n",
    "    x=mx1['date'],\n",
    "    y=mx1['Cases_Jalisco'],\n",
    "    name='Cases Jalisco - as reported',\n",
    "    mode='lines+markers',line_width=2,marker_size=6,opacity=0.6))\n",
    "\n",
    "fig.add_trace(go.Scatter(\n",
    "    x=mx2['date'],\n",
    "    y=mx2['Cases_Jalisco'],\n",
    "    name='Cases Jalisco - as occurred',\n",
    "    mode='lines+markers',line_width=2,marker_size=6,opacity=0.6))\n",
    "\n",
    "fig.update_layout(\n",
    "    title=\"Data - Cases in Jalisco\",\n",
    "    title_x=0.5,showlegend=True,yaxis = {'type': 'linear'},\n",
    "    legend=dict(\n",
    "            x=0.05,y=0.95,\n",
    "            traceorder=\"normal\",font=dict(family=\"sans-serif\",size=14),bgcolor='rgba(0,0,0,0)'),)\n",
    "\n",
    "fig.show()"
   ]
  },
  {
   "cell_type": "code",
   "execution_count": 279,
   "metadata": {},
   "outputs": [
    {
     "data": {
      "application/vnd.plotly.v1+json": {
       "config": {
        "plotlyServerURL": "https://plot.ly"
       },
       "data": [
        {
         "line": {
          "width": 2
         },
         "marker": {
          "size": 6
         },
         "mode": "lines+markers",
         "name": "Deaths Mexico - as reported",
         "opacity": 0.6,
         "type": "scatter",
         "x": [
          "2020-05-15T00:00:00",
          "2020-05-16T00:00:00",
          "2020-05-17T00:00:00",
          "2020-05-18T00:00:00",
          "2020-05-19T00:00:00",
          "2020-05-20T00:00:00",
          "2020-05-21T00:00:00",
          "2020-05-22T00:00:00",
          "2020-05-23T00:00:00",
          "2020-05-24T00:00:00",
          "2020-05-25T00:00:00",
          "2020-05-26T00:00:00",
          "2020-05-27T00:00:00",
          "2020-05-28T00:00:00",
          "2020-05-29T00:00:00",
          "2020-05-30T00:00:00",
          "2020-05-31T00:00:00",
          "2020-06-01T00:00:00",
          "2020-06-02T00:00:00",
          "2020-06-03T00:00:00",
          "2020-06-04T00:00:00",
          "2020-06-05T00:00:00",
          "2020-06-06T00:00:00",
          "2020-06-07T00:00:00",
          "2020-06-08T00:00:00",
          "2020-06-09T00:00:00",
          "2020-06-10T00:00:00",
          "2020-06-11T00:00:00",
          "2020-06-12T00:00:00",
          "2020-06-13T00:00:00",
          "2020-06-14T00:00:00",
          "2020-06-15T00:00:00",
          "2020-06-16T00:00:00",
          "2020-06-17T00:00:00",
          "2020-06-18T00:00:00",
          "2020-06-19T00:00:00",
          "2020-06-20T00:00:00",
          "2020-06-21T00:00:00",
          "2020-06-22T00:00:00",
          "2020-06-23T00:00:00",
          "2020-06-24T00:00:00",
          "2020-06-25T00:00:00",
          "2020-06-26T00:00:00",
          "2020-06-27T00:00:00",
          "2020-06-28T00:00:00",
          "2020-06-29T00:00:00",
          "2020-06-30T00:00:00",
          "2020-07-01T00:00:00"
         ],
         "y": [
          4767,
          5045,
          5177,
          5332,
          5666,
          6090,
          6510,
          6989,
          7179,
          7394,
          7633,
          8134,
          8597,
          9044,
          9415,
          9779,
          9930,
          10167,
          10637,
          11728,
          12545,
          13170,
          13511,
          13699,
          14053,
          14649,
          15357,
          15944,
          16448,
          16872,
          17141,
          17580,
          18310,
          19080,
          19747,
          20394,
          20781,
          21825,
          22584,
          23377,
          24324,
          25060,
          25779,
          26381,
          26648,
          27121,
          27769,
          28510
         ]
        },
        {
         "line": {
          "width": 2
         },
         "marker": {
          "size": 6
         },
         "mode": "lines+markers",
         "name": "Deaths_Mexico - as occurred",
         "opacity": 0.6,
         "type": "scatter",
         "x": [
          "2020-05-15",
          "2020-05-16",
          "2020-05-17",
          "2020-05-18",
          "2020-05-19",
          "2020-05-20",
          "2020-05-21",
          "2020-05-22",
          "2020-05-23",
          "2020-05-24",
          "2020-05-25",
          "2020-05-26",
          "2020-05-27",
          "2020-05-28",
          "2020-05-29",
          "2020-05-30",
          "2020-05-31",
          "2020-06-01",
          "2020-06-02",
          "2020-06-03",
          "2020-06-04",
          "2020-06-05",
          "2020-06-06",
          "2020-06-07",
          "2020-06-08",
          "2020-06-09",
          "2020-06-10",
          "2020-06-11",
          "2020-06-12",
          "2020-06-13",
          "2020-06-14",
          "2020-06-15",
          "2020-06-16",
          "2020-06-17",
          "2020-06-18",
          "2020-06-19",
          "2020-06-20",
          "2020-06-21",
          "2020-06-22",
          "2020-06-23",
          "2020-06-24",
          "2020-06-25",
          "2020-06-26",
          "2020-06-27",
          "2020-06-28",
          "2020-06-29",
          "2020-06-30",
          "2020-07-01"
         ],
         "y": [
          8593,
          8992,
          9449,
          9905,
          10368,
          10832,
          11287,
          11731,
          12174,
          12651,
          13146,
          13640,
          14108,
          14605,
          15058,
          15559,
          16077,
          16643,
          17153,
          17704,
          18249,
          18767,
          19324,
          19908,
          20525,
          21107,
          21713,
          22275,
          22901,
          23484,
          24094,
          24701,
          25376,
          26030,
          26617,
          27191,
          27693,
          28278,
          28866,
          29438,
          30000,
          30542,
          31142,
          31737,
          32324,
          32975,
          33595,
          34191
         ]
        }
       ],
       "layout": {
        "legend": {
         "bgcolor": "rgba(0,0,0,0)",
         "font": {
          "family": "sans-serif",
          "size": 14
         },
         "traceorder": "normal",
         "x": 0.05,
         "y": 0.95
        },
        "showlegend": true,
        "template": {
         "data": {
          "bar": [
           {
            "error_x": {
             "color": "#2a3f5f"
            },
            "error_y": {
             "color": "#2a3f5f"
            },
            "marker": {
             "line": {
              "color": "#E5ECF6",
              "width": 0.5
             }
            },
            "type": "bar"
           }
          ],
          "barpolar": [
           {
            "marker": {
             "line": {
              "color": "#E5ECF6",
              "width": 0.5
             }
            },
            "type": "barpolar"
           }
          ],
          "carpet": [
           {
            "aaxis": {
             "endlinecolor": "#2a3f5f",
             "gridcolor": "white",
             "linecolor": "white",
             "minorgridcolor": "white",
             "startlinecolor": "#2a3f5f"
            },
            "baxis": {
             "endlinecolor": "#2a3f5f",
             "gridcolor": "white",
             "linecolor": "white",
             "minorgridcolor": "white",
             "startlinecolor": "#2a3f5f"
            },
            "type": "carpet"
           }
          ],
          "choropleth": [
           {
            "colorbar": {
             "outlinewidth": 0,
             "ticks": ""
            },
            "type": "choropleth"
           }
          ],
          "contour": [
           {
            "colorbar": {
             "outlinewidth": 0,
             "ticks": ""
            },
            "colorscale": [
             [
              0,
              "#0d0887"
             ],
             [
              0.1111111111111111,
              "#46039f"
             ],
             [
              0.2222222222222222,
              "#7201a8"
             ],
             [
              0.3333333333333333,
              "#9c179e"
             ],
             [
              0.4444444444444444,
              "#bd3786"
             ],
             [
              0.5555555555555556,
              "#d8576b"
             ],
             [
              0.6666666666666666,
              "#ed7953"
             ],
             [
              0.7777777777777778,
              "#fb9f3a"
             ],
             [
              0.8888888888888888,
              "#fdca26"
             ],
             [
              1,
              "#f0f921"
             ]
            ],
            "type": "contour"
           }
          ],
          "contourcarpet": [
           {
            "colorbar": {
             "outlinewidth": 0,
             "ticks": ""
            },
            "type": "contourcarpet"
           }
          ],
          "heatmap": [
           {
            "colorbar": {
             "outlinewidth": 0,
             "ticks": ""
            },
            "colorscale": [
             [
              0,
              "#0d0887"
             ],
             [
              0.1111111111111111,
              "#46039f"
             ],
             [
              0.2222222222222222,
              "#7201a8"
             ],
             [
              0.3333333333333333,
              "#9c179e"
             ],
             [
              0.4444444444444444,
              "#bd3786"
             ],
             [
              0.5555555555555556,
              "#d8576b"
             ],
             [
              0.6666666666666666,
              "#ed7953"
             ],
             [
              0.7777777777777778,
              "#fb9f3a"
             ],
             [
              0.8888888888888888,
              "#fdca26"
             ],
             [
              1,
              "#f0f921"
             ]
            ],
            "type": "heatmap"
           }
          ],
          "heatmapgl": [
           {
            "colorbar": {
             "outlinewidth": 0,
             "ticks": ""
            },
            "colorscale": [
             [
              0,
              "#0d0887"
             ],
             [
              0.1111111111111111,
              "#46039f"
             ],
             [
              0.2222222222222222,
              "#7201a8"
             ],
             [
              0.3333333333333333,
              "#9c179e"
             ],
             [
              0.4444444444444444,
              "#bd3786"
             ],
             [
              0.5555555555555556,
              "#d8576b"
             ],
             [
              0.6666666666666666,
              "#ed7953"
             ],
             [
              0.7777777777777778,
              "#fb9f3a"
             ],
             [
              0.8888888888888888,
              "#fdca26"
             ],
             [
              1,
              "#f0f921"
             ]
            ],
            "type": "heatmapgl"
           }
          ],
          "histogram": [
           {
            "marker": {
             "colorbar": {
              "outlinewidth": 0,
              "ticks": ""
             }
            },
            "type": "histogram"
           }
          ],
          "histogram2d": [
           {
            "colorbar": {
             "outlinewidth": 0,
             "ticks": ""
            },
            "colorscale": [
             [
              0,
              "#0d0887"
             ],
             [
              0.1111111111111111,
              "#46039f"
             ],
             [
              0.2222222222222222,
              "#7201a8"
             ],
             [
              0.3333333333333333,
              "#9c179e"
             ],
             [
              0.4444444444444444,
              "#bd3786"
             ],
             [
              0.5555555555555556,
              "#d8576b"
             ],
             [
              0.6666666666666666,
              "#ed7953"
             ],
             [
              0.7777777777777778,
              "#fb9f3a"
             ],
             [
              0.8888888888888888,
              "#fdca26"
             ],
             [
              1,
              "#f0f921"
             ]
            ],
            "type": "histogram2d"
           }
          ],
          "histogram2dcontour": [
           {
            "colorbar": {
             "outlinewidth": 0,
             "ticks": ""
            },
            "colorscale": [
             [
              0,
              "#0d0887"
             ],
             [
              0.1111111111111111,
              "#46039f"
             ],
             [
              0.2222222222222222,
              "#7201a8"
             ],
             [
              0.3333333333333333,
              "#9c179e"
             ],
             [
              0.4444444444444444,
              "#bd3786"
             ],
             [
              0.5555555555555556,
              "#d8576b"
             ],
             [
              0.6666666666666666,
              "#ed7953"
             ],
             [
              0.7777777777777778,
              "#fb9f3a"
             ],
             [
              0.8888888888888888,
              "#fdca26"
             ],
             [
              1,
              "#f0f921"
             ]
            ],
            "type": "histogram2dcontour"
           }
          ],
          "mesh3d": [
           {
            "colorbar": {
             "outlinewidth": 0,
             "ticks": ""
            },
            "type": "mesh3d"
           }
          ],
          "parcoords": [
           {
            "line": {
             "colorbar": {
              "outlinewidth": 0,
              "ticks": ""
             }
            },
            "type": "parcoords"
           }
          ],
          "pie": [
           {
            "automargin": true,
            "type": "pie"
           }
          ],
          "scatter": [
           {
            "marker": {
             "colorbar": {
              "outlinewidth": 0,
              "ticks": ""
             }
            },
            "type": "scatter"
           }
          ],
          "scatter3d": [
           {
            "line": {
             "colorbar": {
              "outlinewidth": 0,
              "ticks": ""
             }
            },
            "marker": {
             "colorbar": {
              "outlinewidth": 0,
              "ticks": ""
             }
            },
            "type": "scatter3d"
           }
          ],
          "scattercarpet": [
           {
            "marker": {
             "colorbar": {
              "outlinewidth": 0,
              "ticks": ""
             }
            },
            "type": "scattercarpet"
           }
          ],
          "scattergeo": [
           {
            "marker": {
             "colorbar": {
              "outlinewidth": 0,
              "ticks": ""
             }
            },
            "type": "scattergeo"
           }
          ],
          "scattergl": [
           {
            "marker": {
             "colorbar": {
              "outlinewidth": 0,
              "ticks": ""
             }
            },
            "type": "scattergl"
           }
          ],
          "scattermapbox": [
           {
            "marker": {
             "colorbar": {
              "outlinewidth": 0,
              "ticks": ""
             }
            },
            "type": "scattermapbox"
           }
          ],
          "scatterpolar": [
           {
            "marker": {
             "colorbar": {
              "outlinewidth": 0,
              "ticks": ""
             }
            },
            "type": "scatterpolar"
           }
          ],
          "scatterpolargl": [
           {
            "marker": {
             "colorbar": {
              "outlinewidth": 0,
              "ticks": ""
             }
            },
            "type": "scatterpolargl"
           }
          ],
          "scatterternary": [
           {
            "marker": {
             "colorbar": {
              "outlinewidth": 0,
              "ticks": ""
             }
            },
            "type": "scatterternary"
           }
          ],
          "surface": [
           {
            "colorbar": {
             "outlinewidth": 0,
             "ticks": ""
            },
            "colorscale": [
             [
              0,
              "#0d0887"
             ],
             [
              0.1111111111111111,
              "#46039f"
             ],
             [
              0.2222222222222222,
              "#7201a8"
             ],
             [
              0.3333333333333333,
              "#9c179e"
             ],
             [
              0.4444444444444444,
              "#bd3786"
             ],
             [
              0.5555555555555556,
              "#d8576b"
             ],
             [
              0.6666666666666666,
              "#ed7953"
             ],
             [
              0.7777777777777778,
              "#fb9f3a"
             ],
             [
              0.8888888888888888,
              "#fdca26"
             ],
             [
              1,
              "#f0f921"
             ]
            ],
            "type": "surface"
           }
          ],
          "table": [
           {
            "cells": {
             "fill": {
              "color": "#EBF0F8"
             },
             "line": {
              "color": "white"
             }
            },
            "header": {
             "fill": {
              "color": "#C8D4E3"
             },
             "line": {
              "color": "white"
             }
            },
            "type": "table"
           }
          ]
         },
         "layout": {
          "annotationdefaults": {
           "arrowcolor": "#2a3f5f",
           "arrowhead": 0,
           "arrowwidth": 1
          },
          "coloraxis": {
           "colorbar": {
            "outlinewidth": 0,
            "ticks": ""
           }
          },
          "colorscale": {
           "diverging": [
            [
             0,
             "#8e0152"
            ],
            [
             0.1,
             "#c51b7d"
            ],
            [
             0.2,
             "#de77ae"
            ],
            [
             0.3,
             "#f1b6da"
            ],
            [
             0.4,
             "#fde0ef"
            ],
            [
             0.5,
             "#f7f7f7"
            ],
            [
             0.6,
             "#e6f5d0"
            ],
            [
             0.7,
             "#b8e186"
            ],
            [
             0.8,
             "#7fbc41"
            ],
            [
             0.9,
             "#4d9221"
            ],
            [
             1,
             "#276419"
            ]
           ],
           "sequential": [
            [
             0,
             "#0d0887"
            ],
            [
             0.1111111111111111,
             "#46039f"
            ],
            [
             0.2222222222222222,
             "#7201a8"
            ],
            [
             0.3333333333333333,
             "#9c179e"
            ],
            [
             0.4444444444444444,
             "#bd3786"
            ],
            [
             0.5555555555555556,
             "#d8576b"
            ],
            [
             0.6666666666666666,
             "#ed7953"
            ],
            [
             0.7777777777777778,
             "#fb9f3a"
            ],
            [
             0.8888888888888888,
             "#fdca26"
            ],
            [
             1,
             "#f0f921"
            ]
           ],
           "sequentialminus": [
            [
             0,
             "#0d0887"
            ],
            [
             0.1111111111111111,
             "#46039f"
            ],
            [
             0.2222222222222222,
             "#7201a8"
            ],
            [
             0.3333333333333333,
             "#9c179e"
            ],
            [
             0.4444444444444444,
             "#bd3786"
            ],
            [
             0.5555555555555556,
             "#d8576b"
            ],
            [
             0.6666666666666666,
             "#ed7953"
            ],
            [
             0.7777777777777778,
             "#fb9f3a"
            ],
            [
             0.8888888888888888,
             "#fdca26"
            ],
            [
             1,
             "#f0f921"
            ]
           ]
          },
          "colorway": [
           "#636efa",
           "#EF553B",
           "#00cc96",
           "#ab63fa",
           "#FFA15A",
           "#19d3f3",
           "#FF6692",
           "#B6E880",
           "#FF97FF",
           "#FECB52"
          ],
          "font": {
           "color": "#2a3f5f"
          },
          "geo": {
           "bgcolor": "white",
           "lakecolor": "white",
           "landcolor": "#E5ECF6",
           "showlakes": true,
           "showland": true,
           "subunitcolor": "white"
          },
          "hoverlabel": {
           "align": "left"
          },
          "hovermode": "closest",
          "mapbox": {
           "style": "light"
          },
          "paper_bgcolor": "white",
          "plot_bgcolor": "#E5ECF6",
          "polar": {
           "angularaxis": {
            "gridcolor": "white",
            "linecolor": "white",
            "ticks": ""
           },
           "bgcolor": "#E5ECF6",
           "radialaxis": {
            "gridcolor": "white",
            "linecolor": "white",
            "ticks": ""
           }
          },
          "scene": {
           "xaxis": {
            "backgroundcolor": "#E5ECF6",
            "gridcolor": "white",
            "gridwidth": 2,
            "linecolor": "white",
            "showbackground": true,
            "ticks": "",
            "zerolinecolor": "white"
           },
           "yaxis": {
            "backgroundcolor": "#E5ECF6",
            "gridcolor": "white",
            "gridwidth": 2,
            "linecolor": "white",
            "showbackground": true,
            "ticks": "",
            "zerolinecolor": "white"
           },
           "zaxis": {
            "backgroundcolor": "#E5ECF6",
            "gridcolor": "white",
            "gridwidth": 2,
            "linecolor": "white",
            "showbackground": true,
            "ticks": "",
            "zerolinecolor": "white"
           }
          },
          "shapedefaults": {
           "line": {
            "color": "#2a3f5f"
           }
          },
          "ternary": {
           "aaxis": {
            "gridcolor": "white",
            "linecolor": "white",
            "ticks": ""
           },
           "baxis": {
            "gridcolor": "white",
            "linecolor": "white",
            "ticks": ""
           },
           "bgcolor": "#E5ECF6",
           "caxis": {
            "gridcolor": "white",
            "linecolor": "white",
            "ticks": ""
           }
          },
          "title": {
           "x": 0.05
          },
          "xaxis": {
           "automargin": true,
           "gridcolor": "white",
           "linecolor": "white",
           "ticks": "",
           "title": {
            "standoff": 15
           },
           "zerolinecolor": "white",
           "zerolinewidth": 2
          },
          "yaxis": {
           "automargin": true,
           "gridcolor": "white",
           "linecolor": "white",
           "ticks": "",
           "title": {
            "standoff": 15
           },
           "zerolinecolor": "white",
           "zerolinewidth": 2
          }
         }
        },
        "title": {
         "text": "Data - Deaths in Mexico",
         "x": 0.5
        },
        "yaxis": {
         "type": "linear"
        }
       }
      },
      "text/html": [
       "<div>\n",
       "        \n",
       "        \n",
       "            <div id=\"eca96983-c478-4d17-843a-fa9a691a9629\" class=\"plotly-graph-div\" style=\"height:525px; width:100%;\"></div>\n",
       "            <script type=\"text/javascript\">\n",
       "                require([\"plotly\"], function(Plotly) {\n",
       "                    window.PLOTLYENV=window.PLOTLYENV || {};\n",
       "                    \n",
       "                if (document.getElementById(\"eca96983-c478-4d17-843a-fa9a691a9629\")) {\n",
       "                    Plotly.newPlot(\n",
       "                        'eca96983-c478-4d17-843a-fa9a691a9629',\n",
       "                        [{\"line\": {\"width\": 2}, \"marker\": {\"size\": 6}, \"mode\": \"lines+markers\", \"name\": \"Deaths Mexico - as reported\", \"opacity\": 0.6, \"type\": \"scatter\", \"x\": [\"2020-05-15T00:00:00\", \"2020-05-16T00:00:00\", \"2020-05-17T00:00:00\", \"2020-05-18T00:00:00\", \"2020-05-19T00:00:00\", \"2020-05-20T00:00:00\", \"2020-05-21T00:00:00\", \"2020-05-22T00:00:00\", \"2020-05-23T00:00:00\", \"2020-05-24T00:00:00\", \"2020-05-25T00:00:00\", \"2020-05-26T00:00:00\", \"2020-05-27T00:00:00\", \"2020-05-28T00:00:00\", \"2020-05-29T00:00:00\", \"2020-05-30T00:00:00\", \"2020-05-31T00:00:00\", \"2020-06-01T00:00:00\", \"2020-06-02T00:00:00\", \"2020-06-03T00:00:00\", \"2020-06-04T00:00:00\", \"2020-06-05T00:00:00\", \"2020-06-06T00:00:00\", \"2020-06-07T00:00:00\", \"2020-06-08T00:00:00\", \"2020-06-09T00:00:00\", \"2020-06-10T00:00:00\", \"2020-06-11T00:00:00\", \"2020-06-12T00:00:00\", \"2020-06-13T00:00:00\", \"2020-06-14T00:00:00\", \"2020-06-15T00:00:00\", \"2020-06-16T00:00:00\", \"2020-06-17T00:00:00\", \"2020-06-18T00:00:00\", \"2020-06-19T00:00:00\", \"2020-06-20T00:00:00\", \"2020-06-21T00:00:00\", \"2020-06-22T00:00:00\", \"2020-06-23T00:00:00\", \"2020-06-24T00:00:00\", \"2020-06-25T00:00:00\", \"2020-06-26T00:00:00\", \"2020-06-27T00:00:00\", \"2020-06-28T00:00:00\", \"2020-06-29T00:00:00\", \"2020-06-30T00:00:00\", \"2020-07-01T00:00:00\"], \"y\": [4767, 5045, 5177, 5332, 5666, 6090, 6510, 6989, 7179, 7394, 7633, 8134, 8597, 9044, 9415, 9779, 9930, 10167, 10637, 11728, 12545, 13170, 13511, 13699, 14053, 14649, 15357, 15944, 16448, 16872, 17141, 17580, 18310, 19080, 19747, 20394, 20781, 21825, 22584, 23377, 24324, 25060, 25779, 26381, 26648, 27121, 27769, 28510]}, {\"line\": {\"width\": 2}, \"marker\": {\"size\": 6}, \"mode\": \"lines+markers\", \"name\": \"Deaths_Mexico - as occurred\", \"opacity\": 0.6, \"type\": \"scatter\", \"x\": [\"2020-05-15\", \"2020-05-16\", \"2020-05-17\", \"2020-05-18\", \"2020-05-19\", \"2020-05-20\", \"2020-05-21\", \"2020-05-22\", \"2020-05-23\", \"2020-05-24\", \"2020-05-25\", \"2020-05-26\", \"2020-05-27\", \"2020-05-28\", \"2020-05-29\", \"2020-05-30\", \"2020-05-31\", \"2020-06-01\", \"2020-06-02\", \"2020-06-03\", \"2020-06-04\", \"2020-06-05\", \"2020-06-06\", \"2020-06-07\", \"2020-06-08\", \"2020-06-09\", \"2020-06-10\", \"2020-06-11\", \"2020-06-12\", \"2020-06-13\", \"2020-06-14\", \"2020-06-15\", \"2020-06-16\", \"2020-06-17\", \"2020-06-18\", \"2020-06-19\", \"2020-06-20\", \"2020-06-21\", \"2020-06-22\", \"2020-06-23\", \"2020-06-24\", \"2020-06-25\", \"2020-06-26\", \"2020-06-27\", \"2020-06-28\", \"2020-06-29\", \"2020-06-30\", \"2020-07-01\"], \"y\": [8593.0, 8992.0, 9449.0, 9905.0, 10368.0, 10832.0, 11287.0, 11731.0, 12174.0, 12651.0, 13146.0, 13640.0, 14108.0, 14605.0, 15058.0, 15559.0, 16077.0, 16643.0, 17153.0, 17704.0, 18249.0, 18767.0, 19324.0, 19908.0, 20525.0, 21107.0, 21713.0, 22275.0, 22901.0, 23484.0, 24094.0, 24701.0, 25376.0, 26030.0, 26617.0, 27191.0, 27693.0, 28278.0, 28866.0, 29438.0, 30000.0, 30542.0, 31142.0, 31737.0, 32324.0, 32975.0, 33595.0, 34191.0]}],\n",
       "                        {\"legend\": {\"bgcolor\": \"rgba(0,0,0,0)\", \"font\": {\"family\": \"sans-serif\", \"size\": 14}, \"traceorder\": \"normal\", \"x\": 0.05, \"y\": 0.95}, \"showlegend\": true, \"template\": {\"data\": {\"bar\": [{\"error_x\": {\"color\": \"#2a3f5f\"}, \"error_y\": {\"color\": \"#2a3f5f\"}, \"marker\": {\"line\": {\"color\": \"#E5ECF6\", \"width\": 0.5}}, \"type\": \"bar\"}], \"barpolar\": [{\"marker\": {\"line\": {\"color\": \"#E5ECF6\", \"width\": 0.5}}, \"type\": \"barpolar\"}], \"carpet\": [{\"aaxis\": {\"endlinecolor\": \"#2a3f5f\", \"gridcolor\": \"white\", \"linecolor\": \"white\", \"minorgridcolor\": \"white\", \"startlinecolor\": \"#2a3f5f\"}, \"baxis\": {\"endlinecolor\": \"#2a3f5f\", \"gridcolor\": \"white\", \"linecolor\": \"white\", \"minorgridcolor\": \"white\", \"startlinecolor\": \"#2a3f5f\"}, \"type\": \"carpet\"}], \"choropleth\": [{\"colorbar\": {\"outlinewidth\": 0, \"ticks\": \"\"}, \"type\": \"choropleth\"}], \"contour\": [{\"colorbar\": {\"outlinewidth\": 0, \"ticks\": \"\"}, \"colorscale\": [[0.0, \"#0d0887\"], [0.1111111111111111, \"#46039f\"], [0.2222222222222222, \"#7201a8\"], [0.3333333333333333, \"#9c179e\"], [0.4444444444444444, \"#bd3786\"], [0.5555555555555556, \"#d8576b\"], [0.6666666666666666, \"#ed7953\"], [0.7777777777777778, \"#fb9f3a\"], [0.8888888888888888, \"#fdca26\"], [1.0, \"#f0f921\"]], \"type\": \"contour\"}], \"contourcarpet\": [{\"colorbar\": {\"outlinewidth\": 0, \"ticks\": \"\"}, \"type\": \"contourcarpet\"}], \"heatmap\": [{\"colorbar\": {\"outlinewidth\": 0, \"ticks\": \"\"}, \"colorscale\": [[0.0, \"#0d0887\"], [0.1111111111111111, \"#46039f\"], [0.2222222222222222, \"#7201a8\"], [0.3333333333333333, \"#9c179e\"], [0.4444444444444444, \"#bd3786\"], [0.5555555555555556, \"#d8576b\"], [0.6666666666666666, \"#ed7953\"], [0.7777777777777778, \"#fb9f3a\"], [0.8888888888888888, \"#fdca26\"], [1.0, \"#f0f921\"]], \"type\": \"heatmap\"}], \"heatmapgl\": [{\"colorbar\": {\"outlinewidth\": 0, \"ticks\": \"\"}, \"colorscale\": [[0.0, \"#0d0887\"], [0.1111111111111111, \"#46039f\"], [0.2222222222222222, \"#7201a8\"], [0.3333333333333333, \"#9c179e\"], [0.4444444444444444, \"#bd3786\"], [0.5555555555555556, \"#d8576b\"], [0.6666666666666666, \"#ed7953\"], [0.7777777777777778, \"#fb9f3a\"], [0.8888888888888888, \"#fdca26\"], [1.0, \"#f0f921\"]], \"type\": \"heatmapgl\"}], \"histogram\": [{\"marker\": {\"colorbar\": {\"outlinewidth\": 0, \"ticks\": \"\"}}, \"type\": \"histogram\"}], \"histogram2d\": [{\"colorbar\": {\"outlinewidth\": 0, \"ticks\": \"\"}, \"colorscale\": [[0.0, \"#0d0887\"], [0.1111111111111111, \"#46039f\"], [0.2222222222222222, \"#7201a8\"], [0.3333333333333333, \"#9c179e\"], [0.4444444444444444, \"#bd3786\"], [0.5555555555555556, \"#d8576b\"], [0.6666666666666666, \"#ed7953\"], [0.7777777777777778, \"#fb9f3a\"], [0.8888888888888888, \"#fdca26\"], [1.0, \"#f0f921\"]], \"type\": \"histogram2d\"}], \"histogram2dcontour\": [{\"colorbar\": {\"outlinewidth\": 0, \"ticks\": \"\"}, \"colorscale\": [[0.0, \"#0d0887\"], [0.1111111111111111, \"#46039f\"], [0.2222222222222222, \"#7201a8\"], [0.3333333333333333, \"#9c179e\"], [0.4444444444444444, \"#bd3786\"], [0.5555555555555556, \"#d8576b\"], [0.6666666666666666, \"#ed7953\"], [0.7777777777777778, \"#fb9f3a\"], [0.8888888888888888, \"#fdca26\"], [1.0, \"#f0f921\"]], \"type\": \"histogram2dcontour\"}], \"mesh3d\": [{\"colorbar\": {\"outlinewidth\": 0, \"ticks\": \"\"}, \"type\": \"mesh3d\"}], \"parcoords\": [{\"line\": {\"colorbar\": {\"outlinewidth\": 0, \"ticks\": \"\"}}, \"type\": \"parcoords\"}], \"pie\": [{\"automargin\": true, \"type\": \"pie\"}], \"scatter\": [{\"marker\": {\"colorbar\": {\"outlinewidth\": 0, \"ticks\": \"\"}}, \"type\": \"scatter\"}], \"scatter3d\": [{\"line\": {\"colorbar\": {\"outlinewidth\": 0, \"ticks\": \"\"}}, \"marker\": {\"colorbar\": {\"outlinewidth\": 0, \"ticks\": \"\"}}, \"type\": \"scatter3d\"}], \"scattercarpet\": [{\"marker\": {\"colorbar\": {\"outlinewidth\": 0, \"ticks\": \"\"}}, \"type\": \"scattercarpet\"}], \"scattergeo\": [{\"marker\": {\"colorbar\": {\"outlinewidth\": 0, \"ticks\": \"\"}}, \"type\": \"scattergeo\"}], \"scattergl\": [{\"marker\": {\"colorbar\": {\"outlinewidth\": 0, \"ticks\": \"\"}}, \"type\": \"scattergl\"}], \"scattermapbox\": [{\"marker\": {\"colorbar\": {\"outlinewidth\": 0, \"ticks\": \"\"}}, \"type\": \"scattermapbox\"}], \"scatterpolar\": [{\"marker\": {\"colorbar\": {\"outlinewidth\": 0, \"ticks\": \"\"}}, \"type\": \"scatterpolar\"}], \"scatterpolargl\": [{\"marker\": {\"colorbar\": {\"outlinewidth\": 0, \"ticks\": \"\"}}, \"type\": \"scatterpolargl\"}], \"scatterternary\": [{\"marker\": {\"colorbar\": {\"outlinewidth\": 0, \"ticks\": \"\"}}, \"type\": \"scatterternary\"}], \"surface\": [{\"colorbar\": {\"outlinewidth\": 0, \"ticks\": \"\"}, \"colorscale\": [[0.0, \"#0d0887\"], [0.1111111111111111, \"#46039f\"], [0.2222222222222222, \"#7201a8\"], [0.3333333333333333, \"#9c179e\"], [0.4444444444444444, \"#bd3786\"], [0.5555555555555556, \"#d8576b\"], [0.6666666666666666, \"#ed7953\"], [0.7777777777777778, \"#fb9f3a\"], [0.8888888888888888, \"#fdca26\"], [1.0, \"#f0f921\"]], \"type\": \"surface\"}], \"table\": [{\"cells\": {\"fill\": {\"color\": \"#EBF0F8\"}, \"line\": {\"color\": \"white\"}}, \"header\": {\"fill\": {\"color\": \"#C8D4E3\"}, \"line\": {\"color\": \"white\"}}, \"type\": \"table\"}]}, \"layout\": {\"annotationdefaults\": {\"arrowcolor\": \"#2a3f5f\", \"arrowhead\": 0, \"arrowwidth\": 1}, \"coloraxis\": {\"colorbar\": {\"outlinewidth\": 0, \"ticks\": \"\"}}, \"colorscale\": {\"diverging\": [[0, \"#8e0152\"], [0.1, \"#c51b7d\"], [0.2, \"#de77ae\"], [0.3, \"#f1b6da\"], [0.4, \"#fde0ef\"], [0.5, \"#f7f7f7\"], [0.6, \"#e6f5d0\"], [0.7, \"#b8e186\"], [0.8, \"#7fbc41\"], [0.9, \"#4d9221\"], [1, \"#276419\"]], \"sequential\": [[0.0, \"#0d0887\"], [0.1111111111111111, \"#46039f\"], [0.2222222222222222, \"#7201a8\"], [0.3333333333333333, \"#9c179e\"], [0.4444444444444444, \"#bd3786\"], [0.5555555555555556, \"#d8576b\"], [0.6666666666666666, \"#ed7953\"], [0.7777777777777778, \"#fb9f3a\"], [0.8888888888888888, \"#fdca26\"], [1.0, \"#f0f921\"]], \"sequentialminus\": [[0.0, \"#0d0887\"], [0.1111111111111111, \"#46039f\"], [0.2222222222222222, \"#7201a8\"], [0.3333333333333333, \"#9c179e\"], [0.4444444444444444, \"#bd3786\"], [0.5555555555555556, \"#d8576b\"], [0.6666666666666666, \"#ed7953\"], [0.7777777777777778, \"#fb9f3a\"], [0.8888888888888888, \"#fdca26\"], [1.0, \"#f0f921\"]]}, \"colorway\": [\"#636efa\", \"#EF553B\", \"#00cc96\", \"#ab63fa\", \"#FFA15A\", \"#19d3f3\", \"#FF6692\", \"#B6E880\", \"#FF97FF\", \"#FECB52\"], \"font\": {\"color\": \"#2a3f5f\"}, \"geo\": {\"bgcolor\": \"white\", \"lakecolor\": \"white\", \"landcolor\": \"#E5ECF6\", \"showlakes\": true, \"showland\": true, \"subunitcolor\": \"white\"}, \"hoverlabel\": {\"align\": \"left\"}, \"hovermode\": \"closest\", \"mapbox\": {\"style\": \"light\"}, \"paper_bgcolor\": \"white\", \"plot_bgcolor\": \"#E5ECF6\", \"polar\": {\"angularaxis\": {\"gridcolor\": \"white\", \"linecolor\": \"white\", \"ticks\": \"\"}, \"bgcolor\": \"#E5ECF6\", \"radialaxis\": {\"gridcolor\": \"white\", \"linecolor\": \"white\", \"ticks\": \"\"}}, \"scene\": {\"xaxis\": {\"backgroundcolor\": \"#E5ECF6\", \"gridcolor\": \"white\", \"gridwidth\": 2, \"linecolor\": \"white\", \"showbackground\": true, \"ticks\": \"\", \"zerolinecolor\": \"white\"}, \"yaxis\": {\"backgroundcolor\": \"#E5ECF6\", \"gridcolor\": \"white\", \"gridwidth\": 2, \"linecolor\": \"white\", \"showbackground\": true, \"ticks\": \"\", \"zerolinecolor\": \"white\"}, \"zaxis\": {\"backgroundcolor\": \"#E5ECF6\", \"gridcolor\": \"white\", \"gridwidth\": 2, \"linecolor\": \"white\", \"showbackground\": true, \"ticks\": \"\", \"zerolinecolor\": \"white\"}}, \"shapedefaults\": {\"line\": {\"color\": \"#2a3f5f\"}}, \"ternary\": {\"aaxis\": {\"gridcolor\": \"white\", \"linecolor\": \"white\", \"ticks\": \"\"}, \"baxis\": {\"gridcolor\": \"white\", \"linecolor\": \"white\", \"ticks\": \"\"}, \"bgcolor\": \"#E5ECF6\", \"caxis\": {\"gridcolor\": \"white\", \"linecolor\": \"white\", \"ticks\": \"\"}}, \"title\": {\"x\": 0.05}, \"xaxis\": {\"automargin\": true, \"gridcolor\": \"white\", \"linecolor\": \"white\", \"ticks\": \"\", \"title\": {\"standoff\": 15}, \"zerolinecolor\": \"white\", \"zerolinewidth\": 2}, \"yaxis\": {\"automargin\": true, \"gridcolor\": \"white\", \"linecolor\": \"white\", \"ticks\": \"\", \"title\": {\"standoff\": 15}, \"zerolinecolor\": \"white\", \"zerolinewidth\": 2}}}, \"title\": {\"text\": \"Data - Deaths in Mexico\", \"x\": 0.5}, \"yaxis\": {\"type\": \"linear\"}},\n",
       "                        {\"responsive\": true}\n",
       "                    ).then(function(){\n",
       "                            \n",
       "var gd = document.getElementById('eca96983-c478-4d17-843a-fa9a691a9629');\n",
       "var x = new MutationObserver(function (mutations, observer) {{\n",
       "        var display = window.getComputedStyle(gd).display;\n",
       "        if (!display || display === 'none') {{\n",
       "            console.log([gd, 'removed!']);\n",
       "            Plotly.purge(gd);\n",
       "            observer.disconnect();\n",
       "        }}\n",
       "}});\n",
       "\n",
       "// Listen for the removal of the full notebook cells\n",
       "var notebookContainer = gd.closest('#notebook-container');\n",
       "if (notebookContainer) {{\n",
       "    x.observe(notebookContainer, {childList: true});\n",
       "}}\n",
       "\n",
       "// Listen for the clearing of the current output cell\n",
       "var outputEl = gd.closest('.output');\n",
       "if (outputEl) {{\n",
       "    x.observe(outputEl, {childList: true});\n",
       "}}\n",
       "\n",
       "                        })\n",
       "                };\n",
       "                });\n",
       "            </script>\n",
       "        </div>"
      ]
     },
     "metadata": {},
     "output_type": "display_data"
    }
   ],
   "source": [
    "fig = go.Figure()\n",
    "\n",
    "fig.add_trace(go.Scatter(\n",
    "    x=mx1['date'],\n",
    "    y=mx1['Deaths_Mexico'],\n",
    "    name='Deaths Mexico - as reported',\n",
    "    mode='lines+markers',line_width=2,marker_size=6,opacity=0.6))\n",
    "\n",
    "fig.add_trace(go.Scatter(\n",
    "    x=mx2['date'],\n",
    "    y=mx2['Deaths_Mexico'],\n",
    "    name='Deaths_Mexico - as occurred',\n",
    "    mode='lines+markers',line_width=2,marker_size=6,opacity=0.6))\n",
    "\n",
    "fig.update_layout(\n",
    "    title=\"Data - Deaths in Mexico\",\n",
    "    title_x=0.5,showlegend=True,yaxis = {'type': 'linear'},\n",
    "    legend=dict(\n",
    "            x=0.05,y=0.95,\n",
    "            traceorder=\"normal\",font=dict(family=\"sans-serif\",size=14),bgcolor='rgba(0,0,0,0)'),)\n",
    "\n",
    "fig.show()"
   ]
  },
  {
   "cell_type": "code",
   "execution_count": 280,
   "metadata": {},
   "outputs": [
    {
     "data": {
      "application/vnd.plotly.v1+json": {
       "config": {
        "plotlyServerURL": "https://plot.ly"
       },
       "data": [
        {
         "line": {
          "width": 2
         },
         "marker": {
          "size": 6
         },
         "mode": "lines+markers",
         "name": "Deaths Jalisco - as reported",
         "opacity": 0.6,
         "type": "scatter",
         "x": [
          "2020-05-15T00:00:00",
          "2020-05-16T00:00:00",
          "2020-05-17T00:00:00",
          "2020-05-18T00:00:00",
          "2020-05-19T00:00:00",
          "2020-05-20T00:00:00",
          "2020-05-21T00:00:00",
          "2020-05-22T00:00:00",
          "2020-05-23T00:00:00",
          "2020-05-24T00:00:00",
          "2020-05-25T00:00:00",
          "2020-05-26T00:00:00",
          "2020-05-27T00:00:00",
          "2020-05-28T00:00:00",
          "2020-05-29T00:00:00",
          "2020-05-30T00:00:00",
          "2020-05-31T00:00:00",
          "2020-06-01T00:00:00",
          "2020-06-02T00:00:00",
          "2020-06-03T00:00:00",
          "2020-06-04T00:00:00",
          "2020-06-05T00:00:00",
          "2020-06-06T00:00:00",
          "2020-06-07T00:00:00",
          "2020-06-08T00:00:00",
          "2020-06-09T00:00:00",
          "2020-06-10T00:00:00",
          "2020-06-11T00:00:00",
          "2020-06-12T00:00:00",
          "2020-06-13T00:00:00",
          "2020-06-14T00:00:00",
          "2020-06-15T00:00:00",
          "2020-06-16T00:00:00",
          "2020-06-17T00:00:00",
          "2020-06-18T00:00:00",
          "2020-06-19T00:00:00",
          "2020-06-20T00:00:00",
          "2020-06-21T00:00:00",
          "2020-06-22T00:00:00",
          "2020-06-23T00:00:00",
          "2020-06-24T00:00:00",
          "2020-06-25T00:00:00",
          "2020-06-26T00:00:00",
          "2020-06-27T00:00:00",
          "2020-06-28T00:00:00",
          "2020-06-29T00:00:00",
          "2020-06-30T00:00:00",
          "2020-07-01T00:00:00"
         ],
         "y": [
          70,
          77,
          82,
          85,
          91,
          96,
          97,
          102,
          102,
          107,
          115,
          123,
          126,
          130,
          133,
          136,
          140,
          148,
          161,
          177,
          186,
          207,
          223,
          233,
          249,
          263,
          275,
          301,
          309,
          317,
          325,
          339,
          357,
          398,
          420,
          428,
          438,
          457,
          468,
          488,
          523,
          556,
          595,
          613,
          628,
          656,
          685,
          722
         ]
        },
        {
         "line": {
          "width": 2
         },
         "marker": {
          "size": 6
         },
         "mode": "lines+markers",
         "name": "Deaths_Jalisco - as occurred",
         "opacity": 0.6,
         "type": "scatter",
         "x": [
          "2020-05-15",
          "2020-05-16",
          "2020-05-17",
          "2020-05-18",
          "2020-05-19",
          "2020-05-20",
          "2020-05-21",
          "2020-05-22",
          "2020-05-23",
          "2020-05-24",
          "2020-05-25",
          "2020-05-26",
          "2020-05-27",
          "2020-05-28",
          "2020-05-29",
          "2020-05-30",
          "2020-05-31",
          "2020-06-01",
          "2020-06-02",
          "2020-06-03",
          "2020-06-04",
          "2020-06-05",
          "2020-06-06",
          "2020-06-07",
          "2020-06-08",
          "2020-06-09",
          "2020-06-10",
          "2020-06-11",
          "2020-06-12",
          "2020-06-13",
          "2020-06-14",
          "2020-06-15",
          "2020-06-16",
          "2020-06-17",
          "2020-06-18",
          "2020-06-19",
          "2020-06-20",
          "2020-06-21",
          "2020-06-22",
          "2020-06-23",
          "2020-06-24",
          "2020-06-25",
          "2020-06-26",
          "2020-06-27",
          "2020-06-28",
          "2020-06-29",
          "2020-06-30",
          "2020-07-01"
         ],
         "y": [
          81,
          90,
          95,
          98,
          99,
          105,
          114,
          116,
          120,
          123,
          131,
          136,
          140,
          143,
          148,
          162,
          172,
          192,
          203,
          221,
          244,
          261,
          278,
          299,
          313,
          339,
          353,
          377,
          405,
          419,
          446,
          464,
          488,
          518,
          535,
          559,
          585,
          611,
          632,
          659,
          686,
          715,
          734,
          757,
          784,
          818,
          838,
          870
         ]
        }
       ],
       "layout": {
        "legend": {
         "bgcolor": "rgba(0,0,0,0)",
         "font": {
          "family": "sans-serif",
          "size": 14
         },
         "traceorder": "normal",
         "x": 0.05,
         "y": 0.95
        },
        "showlegend": true,
        "template": {
         "data": {
          "bar": [
           {
            "error_x": {
             "color": "#2a3f5f"
            },
            "error_y": {
             "color": "#2a3f5f"
            },
            "marker": {
             "line": {
              "color": "#E5ECF6",
              "width": 0.5
             }
            },
            "type": "bar"
           }
          ],
          "barpolar": [
           {
            "marker": {
             "line": {
              "color": "#E5ECF6",
              "width": 0.5
             }
            },
            "type": "barpolar"
           }
          ],
          "carpet": [
           {
            "aaxis": {
             "endlinecolor": "#2a3f5f",
             "gridcolor": "white",
             "linecolor": "white",
             "minorgridcolor": "white",
             "startlinecolor": "#2a3f5f"
            },
            "baxis": {
             "endlinecolor": "#2a3f5f",
             "gridcolor": "white",
             "linecolor": "white",
             "minorgridcolor": "white",
             "startlinecolor": "#2a3f5f"
            },
            "type": "carpet"
           }
          ],
          "choropleth": [
           {
            "colorbar": {
             "outlinewidth": 0,
             "ticks": ""
            },
            "type": "choropleth"
           }
          ],
          "contour": [
           {
            "colorbar": {
             "outlinewidth": 0,
             "ticks": ""
            },
            "colorscale": [
             [
              0,
              "#0d0887"
             ],
             [
              0.1111111111111111,
              "#46039f"
             ],
             [
              0.2222222222222222,
              "#7201a8"
             ],
             [
              0.3333333333333333,
              "#9c179e"
             ],
             [
              0.4444444444444444,
              "#bd3786"
             ],
             [
              0.5555555555555556,
              "#d8576b"
             ],
             [
              0.6666666666666666,
              "#ed7953"
             ],
             [
              0.7777777777777778,
              "#fb9f3a"
             ],
             [
              0.8888888888888888,
              "#fdca26"
             ],
             [
              1,
              "#f0f921"
             ]
            ],
            "type": "contour"
           }
          ],
          "contourcarpet": [
           {
            "colorbar": {
             "outlinewidth": 0,
             "ticks": ""
            },
            "type": "contourcarpet"
           }
          ],
          "heatmap": [
           {
            "colorbar": {
             "outlinewidth": 0,
             "ticks": ""
            },
            "colorscale": [
             [
              0,
              "#0d0887"
             ],
             [
              0.1111111111111111,
              "#46039f"
             ],
             [
              0.2222222222222222,
              "#7201a8"
             ],
             [
              0.3333333333333333,
              "#9c179e"
             ],
             [
              0.4444444444444444,
              "#bd3786"
             ],
             [
              0.5555555555555556,
              "#d8576b"
             ],
             [
              0.6666666666666666,
              "#ed7953"
             ],
             [
              0.7777777777777778,
              "#fb9f3a"
             ],
             [
              0.8888888888888888,
              "#fdca26"
             ],
             [
              1,
              "#f0f921"
             ]
            ],
            "type": "heatmap"
           }
          ],
          "heatmapgl": [
           {
            "colorbar": {
             "outlinewidth": 0,
             "ticks": ""
            },
            "colorscale": [
             [
              0,
              "#0d0887"
             ],
             [
              0.1111111111111111,
              "#46039f"
             ],
             [
              0.2222222222222222,
              "#7201a8"
             ],
             [
              0.3333333333333333,
              "#9c179e"
             ],
             [
              0.4444444444444444,
              "#bd3786"
             ],
             [
              0.5555555555555556,
              "#d8576b"
             ],
             [
              0.6666666666666666,
              "#ed7953"
             ],
             [
              0.7777777777777778,
              "#fb9f3a"
             ],
             [
              0.8888888888888888,
              "#fdca26"
             ],
             [
              1,
              "#f0f921"
             ]
            ],
            "type": "heatmapgl"
           }
          ],
          "histogram": [
           {
            "marker": {
             "colorbar": {
              "outlinewidth": 0,
              "ticks": ""
             }
            },
            "type": "histogram"
           }
          ],
          "histogram2d": [
           {
            "colorbar": {
             "outlinewidth": 0,
             "ticks": ""
            },
            "colorscale": [
             [
              0,
              "#0d0887"
             ],
             [
              0.1111111111111111,
              "#46039f"
             ],
             [
              0.2222222222222222,
              "#7201a8"
             ],
             [
              0.3333333333333333,
              "#9c179e"
             ],
             [
              0.4444444444444444,
              "#bd3786"
             ],
             [
              0.5555555555555556,
              "#d8576b"
             ],
             [
              0.6666666666666666,
              "#ed7953"
             ],
             [
              0.7777777777777778,
              "#fb9f3a"
             ],
             [
              0.8888888888888888,
              "#fdca26"
             ],
             [
              1,
              "#f0f921"
             ]
            ],
            "type": "histogram2d"
           }
          ],
          "histogram2dcontour": [
           {
            "colorbar": {
             "outlinewidth": 0,
             "ticks": ""
            },
            "colorscale": [
             [
              0,
              "#0d0887"
             ],
             [
              0.1111111111111111,
              "#46039f"
             ],
             [
              0.2222222222222222,
              "#7201a8"
             ],
             [
              0.3333333333333333,
              "#9c179e"
             ],
             [
              0.4444444444444444,
              "#bd3786"
             ],
             [
              0.5555555555555556,
              "#d8576b"
             ],
             [
              0.6666666666666666,
              "#ed7953"
             ],
             [
              0.7777777777777778,
              "#fb9f3a"
             ],
             [
              0.8888888888888888,
              "#fdca26"
             ],
             [
              1,
              "#f0f921"
             ]
            ],
            "type": "histogram2dcontour"
           }
          ],
          "mesh3d": [
           {
            "colorbar": {
             "outlinewidth": 0,
             "ticks": ""
            },
            "type": "mesh3d"
           }
          ],
          "parcoords": [
           {
            "line": {
             "colorbar": {
              "outlinewidth": 0,
              "ticks": ""
             }
            },
            "type": "parcoords"
           }
          ],
          "pie": [
           {
            "automargin": true,
            "type": "pie"
           }
          ],
          "scatter": [
           {
            "marker": {
             "colorbar": {
              "outlinewidth": 0,
              "ticks": ""
             }
            },
            "type": "scatter"
           }
          ],
          "scatter3d": [
           {
            "line": {
             "colorbar": {
              "outlinewidth": 0,
              "ticks": ""
             }
            },
            "marker": {
             "colorbar": {
              "outlinewidth": 0,
              "ticks": ""
             }
            },
            "type": "scatter3d"
           }
          ],
          "scattercarpet": [
           {
            "marker": {
             "colorbar": {
              "outlinewidth": 0,
              "ticks": ""
             }
            },
            "type": "scattercarpet"
           }
          ],
          "scattergeo": [
           {
            "marker": {
             "colorbar": {
              "outlinewidth": 0,
              "ticks": ""
             }
            },
            "type": "scattergeo"
           }
          ],
          "scattergl": [
           {
            "marker": {
             "colorbar": {
              "outlinewidth": 0,
              "ticks": ""
             }
            },
            "type": "scattergl"
           }
          ],
          "scattermapbox": [
           {
            "marker": {
             "colorbar": {
              "outlinewidth": 0,
              "ticks": ""
             }
            },
            "type": "scattermapbox"
           }
          ],
          "scatterpolar": [
           {
            "marker": {
             "colorbar": {
              "outlinewidth": 0,
              "ticks": ""
             }
            },
            "type": "scatterpolar"
           }
          ],
          "scatterpolargl": [
           {
            "marker": {
             "colorbar": {
              "outlinewidth": 0,
              "ticks": ""
             }
            },
            "type": "scatterpolargl"
           }
          ],
          "scatterternary": [
           {
            "marker": {
             "colorbar": {
              "outlinewidth": 0,
              "ticks": ""
             }
            },
            "type": "scatterternary"
           }
          ],
          "surface": [
           {
            "colorbar": {
             "outlinewidth": 0,
             "ticks": ""
            },
            "colorscale": [
             [
              0,
              "#0d0887"
             ],
             [
              0.1111111111111111,
              "#46039f"
             ],
             [
              0.2222222222222222,
              "#7201a8"
             ],
             [
              0.3333333333333333,
              "#9c179e"
             ],
             [
              0.4444444444444444,
              "#bd3786"
             ],
             [
              0.5555555555555556,
              "#d8576b"
             ],
             [
              0.6666666666666666,
              "#ed7953"
             ],
             [
              0.7777777777777778,
              "#fb9f3a"
             ],
             [
              0.8888888888888888,
              "#fdca26"
             ],
             [
              1,
              "#f0f921"
             ]
            ],
            "type": "surface"
           }
          ],
          "table": [
           {
            "cells": {
             "fill": {
              "color": "#EBF0F8"
             },
             "line": {
              "color": "white"
             }
            },
            "header": {
             "fill": {
              "color": "#C8D4E3"
             },
             "line": {
              "color": "white"
             }
            },
            "type": "table"
           }
          ]
         },
         "layout": {
          "annotationdefaults": {
           "arrowcolor": "#2a3f5f",
           "arrowhead": 0,
           "arrowwidth": 1
          },
          "coloraxis": {
           "colorbar": {
            "outlinewidth": 0,
            "ticks": ""
           }
          },
          "colorscale": {
           "diverging": [
            [
             0,
             "#8e0152"
            ],
            [
             0.1,
             "#c51b7d"
            ],
            [
             0.2,
             "#de77ae"
            ],
            [
             0.3,
             "#f1b6da"
            ],
            [
             0.4,
             "#fde0ef"
            ],
            [
             0.5,
             "#f7f7f7"
            ],
            [
             0.6,
             "#e6f5d0"
            ],
            [
             0.7,
             "#b8e186"
            ],
            [
             0.8,
             "#7fbc41"
            ],
            [
             0.9,
             "#4d9221"
            ],
            [
             1,
             "#276419"
            ]
           ],
           "sequential": [
            [
             0,
             "#0d0887"
            ],
            [
             0.1111111111111111,
             "#46039f"
            ],
            [
             0.2222222222222222,
             "#7201a8"
            ],
            [
             0.3333333333333333,
             "#9c179e"
            ],
            [
             0.4444444444444444,
             "#bd3786"
            ],
            [
             0.5555555555555556,
             "#d8576b"
            ],
            [
             0.6666666666666666,
             "#ed7953"
            ],
            [
             0.7777777777777778,
             "#fb9f3a"
            ],
            [
             0.8888888888888888,
             "#fdca26"
            ],
            [
             1,
             "#f0f921"
            ]
           ],
           "sequentialminus": [
            [
             0,
             "#0d0887"
            ],
            [
             0.1111111111111111,
             "#46039f"
            ],
            [
             0.2222222222222222,
             "#7201a8"
            ],
            [
             0.3333333333333333,
             "#9c179e"
            ],
            [
             0.4444444444444444,
             "#bd3786"
            ],
            [
             0.5555555555555556,
             "#d8576b"
            ],
            [
             0.6666666666666666,
             "#ed7953"
            ],
            [
             0.7777777777777778,
             "#fb9f3a"
            ],
            [
             0.8888888888888888,
             "#fdca26"
            ],
            [
             1,
             "#f0f921"
            ]
           ]
          },
          "colorway": [
           "#636efa",
           "#EF553B",
           "#00cc96",
           "#ab63fa",
           "#FFA15A",
           "#19d3f3",
           "#FF6692",
           "#B6E880",
           "#FF97FF",
           "#FECB52"
          ],
          "font": {
           "color": "#2a3f5f"
          },
          "geo": {
           "bgcolor": "white",
           "lakecolor": "white",
           "landcolor": "#E5ECF6",
           "showlakes": true,
           "showland": true,
           "subunitcolor": "white"
          },
          "hoverlabel": {
           "align": "left"
          },
          "hovermode": "closest",
          "mapbox": {
           "style": "light"
          },
          "paper_bgcolor": "white",
          "plot_bgcolor": "#E5ECF6",
          "polar": {
           "angularaxis": {
            "gridcolor": "white",
            "linecolor": "white",
            "ticks": ""
           },
           "bgcolor": "#E5ECF6",
           "radialaxis": {
            "gridcolor": "white",
            "linecolor": "white",
            "ticks": ""
           }
          },
          "scene": {
           "xaxis": {
            "backgroundcolor": "#E5ECF6",
            "gridcolor": "white",
            "gridwidth": 2,
            "linecolor": "white",
            "showbackground": true,
            "ticks": "",
            "zerolinecolor": "white"
           },
           "yaxis": {
            "backgroundcolor": "#E5ECF6",
            "gridcolor": "white",
            "gridwidth": 2,
            "linecolor": "white",
            "showbackground": true,
            "ticks": "",
            "zerolinecolor": "white"
           },
           "zaxis": {
            "backgroundcolor": "#E5ECF6",
            "gridcolor": "white",
            "gridwidth": 2,
            "linecolor": "white",
            "showbackground": true,
            "ticks": "",
            "zerolinecolor": "white"
           }
          },
          "shapedefaults": {
           "line": {
            "color": "#2a3f5f"
           }
          },
          "ternary": {
           "aaxis": {
            "gridcolor": "white",
            "linecolor": "white",
            "ticks": ""
           },
           "baxis": {
            "gridcolor": "white",
            "linecolor": "white",
            "ticks": ""
           },
           "bgcolor": "#E5ECF6",
           "caxis": {
            "gridcolor": "white",
            "linecolor": "white",
            "ticks": ""
           }
          },
          "title": {
           "x": 0.05
          },
          "xaxis": {
           "automargin": true,
           "gridcolor": "white",
           "linecolor": "white",
           "ticks": "",
           "title": {
            "standoff": 15
           },
           "zerolinecolor": "white",
           "zerolinewidth": 2
          },
          "yaxis": {
           "automargin": true,
           "gridcolor": "white",
           "linecolor": "white",
           "ticks": "",
           "title": {
            "standoff": 15
           },
           "zerolinecolor": "white",
           "zerolinewidth": 2
          }
         }
        },
        "title": {
         "text": "Data - Deaths in Jalisco",
         "x": 0.5
        },
        "yaxis": {
         "type": "linear"
        }
       }
      },
      "text/html": [
       "<div>\n",
       "        \n",
       "        \n",
       "            <div id=\"ccceb8d7-19db-41c9-b056-db4ddce3f7cf\" class=\"plotly-graph-div\" style=\"height:525px; width:100%;\"></div>\n",
       "            <script type=\"text/javascript\">\n",
       "                require([\"plotly\"], function(Plotly) {\n",
       "                    window.PLOTLYENV=window.PLOTLYENV || {};\n",
       "                    \n",
       "                if (document.getElementById(\"ccceb8d7-19db-41c9-b056-db4ddce3f7cf\")) {\n",
       "                    Plotly.newPlot(\n",
       "                        'ccceb8d7-19db-41c9-b056-db4ddce3f7cf',\n",
       "                        [{\"line\": {\"width\": 2}, \"marker\": {\"size\": 6}, \"mode\": \"lines+markers\", \"name\": \"Deaths Jalisco - as reported\", \"opacity\": 0.6, \"type\": \"scatter\", \"x\": [\"2020-05-15T00:00:00\", \"2020-05-16T00:00:00\", \"2020-05-17T00:00:00\", \"2020-05-18T00:00:00\", \"2020-05-19T00:00:00\", \"2020-05-20T00:00:00\", \"2020-05-21T00:00:00\", \"2020-05-22T00:00:00\", \"2020-05-23T00:00:00\", \"2020-05-24T00:00:00\", \"2020-05-25T00:00:00\", \"2020-05-26T00:00:00\", \"2020-05-27T00:00:00\", \"2020-05-28T00:00:00\", \"2020-05-29T00:00:00\", \"2020-05-30T00:00:00\", \"2020-05-31T00:00:00\", \"2020-06-01T00:00:00\", \"2020-06-02T00:00:00\", \"2020-06-03T00:00:00\", \"2020-06-04T00:00:00\", \"2020-06-05T00:00:00\", \"2020-06-06T00:00:00\", \"2020-06-07T00:00:00\", \"2020-06-08T00:00:00\", \"2020-06-09T00:00:00\", \"2020-06-10T00:00:00\", \"2020-06-11T00:00:00\", \"2020-06-12T00:00:00\", \"2020-06-13T00:00:00\", \"2020-06-14T00:00:00\", \"2020-06-15T00:00:00\", \"2020-06-16T00:00:00\", \"2020-06-17T00:00:00\", \"2020-06-18T00:00:00\", \"2020-06-19T00:00:00\", \"2020-06-20T00:00:00\", \"2020-06-21T00:00:00\", \"2020-06-22T00:00:00\", \"2020-06-23T00:00:00\", \"2020-06-24T00:00:00\", \"2020-06-25T00:00:00\", \"2020-06-26T00:00:00\", \"2020-06-27T00:00:00\", \"2020-06-28T00:00:00\", \"2020-06-29T00:00:00\", \"2020-06-30T00:00:00\", \"2020-07-01T00:00:00\"], \"y\": [70, 77, 82, 85, 91, 96, 97, 102, 102, 107, 115, 123, 126, 130, 133, 136, 140, 148, 161, 177, 186, 207, 223, 233, 249, 263, 275, 301, 309, 317, 325, 339, 357, 398, 420, 428, 438, 457, 468, 488, 523, 556, 595, 613, 628, 656, 685, 722]}, {\"line\": {\"width\": 2}, \"marker\": {\"size\": 6}, \"mode\": \"lines+markers\", \"name\": \"Deaths_Jalisco - as occurred\", \"opacity\": 0.6, \"type\": \"scatter\", \"x\": [\"2020-05-15\", \"2020-05-16\", \"2020-05-17\", \"2020-05-18\", \"2020-05-19\", \"2020-05-20\", \"2020-05-21\", \"2020-05-22\", \"2020-05-23\", \"2020-05-24\", \"2020-05-25\", \"2020-05-26\", \"2020-05-27\", \"2020-05-28\", \"2020-05-29\", \"2020-05-30\", \"2020-05-31\", \"2020-06-01\", \"2020-06-02\", \"2020-06-03\", \"2020-06-04\", \"2020-06-05\", \"2020-06-06\", \"2020-06-07\", \"2020-06-08\", \"2020-06-09\", \"2020-06-10\", \"2020-06-11\", \"2020-06-12\", \"2020-06-13\", \"2020-06-14\", \"2020-06-15\", \"2020-06-16\", \"2020-06-17\", \"2020-06-18\", \"2020-06-19\", \"2020-06-20\", \"2020-06-21\", \"2020-06-22\", \"2020-06-23\", \"2020-06-24\", \"2020-06-25\", \"2020-06-26\", \"2020-06-27\", \"2020-06-28\", \"2020-06-29\", \"2020-06-30\", \"2020-07-01\"], \"y\": [81.0, 90.0, 95.0, 98.0, 99.0, 105.0, 114.0, 116.0, 120.0, 123.0, 131.0, 136.0, 140.0, 143.0, 148.0, 162.0, 172.0, 192.0, 203.0, 221.0, 244.0, 261.0, 278.0, 299.0, 313.0, 339.0, 353.0, 377.0, 405.0, 419.0, 446.0, 464.0, 488.0, 518.0, 535.0, 559.0, 585.0, 611.0, 632.0, 659.0, 686.0, 715.0, 734.0, 757.0, 784.0, 818.0, 838.0, 870.0]}],\n",
       "                        {\"legend\": {\"bgcolor\": \"rgba(0,0,0,0)\", \"font\": {\"family\": \"sans-serif\", \"size\": 14}, \"traceorder\": \"normal\", \"x\": 0.05, \"y\": 0.95}, \"showlegend\": true, \"template\": {\"data\": {\"bar\": [{\"error_x\": {\"color\": \"#2a3f5f\"}, \"error_y\": {\"color\": \"#2a3f5f\"}, \"marker\": {\"line\": {\"color\": \"#E5ECF6\", \"width\": 0.5}}, \"type\": \"bar\"}], \"barpolar\": [{\"marker\": {\"line\": {\"color\": \"#E5ECF6\", \"width\": 0.5}}, \"type\": \"barpolar\"}], \"carpet\": [{\"aaxis\": {\"endlinecolor\": \"#2a3f5f\", \"gridcolor\": \"white\", \"linecolor\": \"white\", \"minorgridcolor\": \"white\", \"startlinecolor\": \"#2a3f5f\"}, \"baxis\": {\"endlinecolor\": \"#2a3f5f\", \"gridcolor\": \"white\", \"linecolor\": \"white\", \"minorgridcolor\": \"white\", \"startlinecolor\": \"#2a3f5f\"}, \"type\": \"carpet\"}], \"choropleth\": [{\"colorbar\": {\"outlinewidth\": 0, \"ticks\": \"\"}, \"type\": \"choropleth\"}], \"contour\": [{\"colorbar\": {\"outlinewidth\": 0, \"ticks\": \"\"}, \"colorscale\": [[0.0, \"#0d0887\"], [0.1111111111111111, \"#46039f\"], [0.2222222222222222, \"#7201a8\"], [0.3333333333333333, \"#9c179e\"], [0.4444444444444444, \"#bd3786\"], [0.5555555555555556, \"#d8576b\"], [0.6666666666666666, \"#ed7953\"], [0.7777777777777778, \"#fb9f3a\"], [0.8888888888888888, \"#fdca26\"], [1.0, \"#f0f921\"]], \"type\": \"contour\"}], \"contourcarpet\": [{\"colorbar\": {\"outlinewidth\": 0, \"ticks\": \"\"}, \"type\": \"contourcarpet\"}], \"heatmap\": [{\"colorbar\": {\"outlinewidth\": 0, \"ticks\": \"\"}, \"colorscale\": [[0.0, \"#0d0887\"], [0.1111111111111111, \"#46039f\"], [0.2222222222222222, \"#7201a8\"], [0.3333333333333333, \"#9c179e\"], [0.4444444444444444, \"#bd3786\"], [0.5555555555555556, \"#d8576b\"], [0.6666666666666666, \"#ed7953\"], [0.7777777777777778, \"#fb9f3a\"], [0.8888888888888888, \"#fdca26\"], [1.0, \"#f0f921\"]], \"type\": \"heatmap\"}], \"heatmapgl\": [{\"colorbar\": {\"outlinewidth\": 0, \"ticks\": \"\"}, \"colorscale\": [[0.0, \"#0d0887\"], [0.1111111111111111, \"#46039f\"], [0.2222222222222222, \"#7201a8\"], [0.3333333333333333, \"#9c179e\"], [0.4444444444444444, \"#bd3786\"], [0.5555555555555556, \"#d8576b\"], [0.6666666666666666, \"#ed7953\"], [0.7777777777777778, \"#fb9f3a\"], [0.8888888888888888, \"#fdca26\"], [1.0, \"#f0f921\"]], \"type\": \"heatmapgl\"}], \"histogram\": [{\"marker\": {\"colorbar\": {\"outlinewidth\": 0, \"ticks\": \"\"}}, \"type\": \"histogram\"}], \"histogram2d\": [{\"colorbar\": {\"outlinewidth\": 0, \"ticks\": \"\"}, \"colorscale\": [[0.0, \"#0d0887\"], [0.1111111111111111, \"#46039f\"], [0.2222222222222222, \"#7201a8\"], [0.3333333333333333, \"#9c179e\"], [0.4444444444444444, \"#bd3786\"], [0.5555555555555556, \"#d8576b\"], [0.6666666666666666, \"#ed7953\"], [0.7777777777777778, \"#fb9f3a\"], [0.8888888888888888, \"#fdca26\"], [1.0, \"#f0f921\"]], \"type\": \"histogram2d\"}], \"histogram2dcontour\": [{\"colorbar\": {\"outlinewidth\": 0, \"ticks\": \"\"}, \"colorscale\": [[0.0, \"#0d0887\"], [0.1111111111111111, \"#46039f\"], [0.2222222222222222, \"#7201a8\"], [0.3333333333333333, \"#9c179e\"], [0.4444444444444444, \"#bd3786\"], [0.5555555555555556, \"#d8576b\"], [0.6666666666666666, \"#ed7953\"], [0.7777777777777778, \"#fb9f3a\"], [0.8888888888888888, \"#fdca26\"], [1.0, \"#f0f921\"]], \"type\": \"histogram2dcontour\"}], \"mesh3d\": [{\"colorbar\": {\"outlinewidth\": 0, \"ticks\": \"\"}, \"type\": \"mesh3d\"}], \"parcoords\": [{\"line\": {\"colorbar\": {\"outlinewidth\": 0, \"ticks\": \"\"}}, \"type\": \"parcoords\"}], \"pie\": [{\"automargin\": true, \"type\": \"pie\"}], \"scatter\": [{\"marker\": {\"colorbar\": {\"outlinewidth\": 0, \"ticks\": \"\"}}, \"type\": \"scatter\"}], \"scatter3d\": [{\"line\": {\"colorbar\": {\"outlinewidth\": 0, \"ticks\": \"\"}}, \"marker\": {\"colorbar\": {\"outlinewidth\": 0, \"ticks\": \"\"}}, \"type\": \"scatter3d\"}], \"scattercarpet\": [{\"marker\": {\"colorbar\": {\"outlinewidth\": 0, \"ticks\": \"\"}}, \"type\": \"scattercarpet\"}], \"scattergeo\": [{\"marker\": {\"colorbar\": {\"outlinewidth\": 0, \"ticks\": \"\"}}, \"type\": \"scattergeo\"}], \"scattergl\": [{\"marker\": {\"colorbar\": {\"outlinewidth\": 0, \"ticks\": \"\"}}, \"type\": \"scattergl\"}], \"scattermapbox\": [{\"marker\": {\"colorbar\": {\"outlinewidth\": 0, \"ticks\": \"\"}}, \"type\": \"scattermapbox\"}], \"scatterpolar\": [{\"marker\": {\"colorbar\": {\"outlinewidth\": 0, \"ticks\": \"\"}}, \"type\": \"scatterpolar\"}], \"scatterpolargl\": [{\"marker\": {\"colorbar\": {\"outlinewidth\": 0, \"ticks\": \"\"}}, \"type\": \"scatterpolargl\"}], \"scatterternary\": [{\"marker\": {\"colorbar\": {\"outlinewidth\": 0, \"ticks\": \"\"}}, \"type\": \"scatterternary\"}], \"surface\": [{\"colorbar\": {\"outlinewidth\": 0, \"ticks\": \"\"}, \"colorscale\": [[0.0, \"#0d0887\"], [0.1111111111111111, \"#46039f\"], [0.2222222222222222, \"#7201a8\"], [0.3333333333333333, \"#9c179e\"], [0.4444444444444444, \"#bd3786\"], [0.5555555555555556, \"#d8576b\"], [0.6666666666666666, \"#ed7953\"], [0.7777777777777778, \"#fb9f3a\"], [0.8888888888888888, \"#fdca26\"], [1.0, \"#f0f921\"]], \"type\": \"surface\"}], \"table\": [{\"cells\": {\"fill\": {\"color\": \"#EBF0F8\"}, \"line\": {\"color\": \"white\"}}, \"header\": {\"fill\": {\"color\": \"#C8D4E3\"}, \"line\": {\"color\": \"white\"}}, \"type\": \"table\"}]}, \"layout\": {\"annotationdefaults\": {\"arrowcolor\": \"#2a3f5f\", \"arrowhead\": 0, \"arrowwidth\": 1}, \"coloraxis\": {\"colorbar\": {\"outlinewidth\": 0, \"ticks\": \"\"}}, \"colorscale\": {\"diverging\": [[0, \"#8e0152\"], [0.1, \"#c51b7d\"], [0.2, \"#de77ae\"], [0.3, \"#f1b6da\"], [0.4, \"#fde0ef\"], [0.5, \"#f7f7f7\"], [0.6, \"#e6f5d0\"], [0.7, \"#b8e186\"], [0.8, \"#7fbc41\"], [0.9, \"#4d9221\"], [1, \"#276419\"]], \"sequential\": [[0.0, \"#0d0887\"], [0.1111111111111111, \"#46039f\"], [0.2222222222222222, \"#7201a8\"], [0.3333333333333333, \"#9c179e\"], [0.4444444444444444, \"#bd3786\"], [0.5555555555555556, \"#d8576b\"], [0.6666666666666666, \"#ed7953\"], [0.7777777777777778, \"#fb9f3a\"], [0.8888888888888888, \"#fdca26\"], [1.0, \"#f0f921\"]], \"sequentialminus\": [[0.0, \"#0d0887\"], [0.1111111111111111, \"#46039f\"], [0.2222222222222222, \"#7201a8\"], [0.3333333333333333, \"#9c179e\"], [0.4444444444444444, \"#bd3786\"], [0.5555555555555556, \"#d8576b\"], [0.6666666666666666, \"#ed7953\"], [0.7777777777777778, \"#fb9f3a\"], [0.8888888888888888, \"#fdca26\"], [1.0, \"#f0f921\"]]}, \"colorway\": [\"#636efa\", \"#EF553B\", \"#00cc96\", \"#ab63fa\", \"#FFA15A\", \"#19d3f3\", \"#FF6692\", \"#B6E880\", \"#FF97FF\", \"#FECB52\"], \"font\": {\"color\": \"#2a3f5f\"}, \"geo\": {\"bgcolor\": \"white\", \"lakecolor\": \"white\", \"landcolor\": \"#E5ECF6\", \"showlakes\": true, \"showland\": true, \"subunitcolor\": \"white\"}, \"hoverlabel\": {\"align\": \"left\"}, \"hovermode\": \"closest\", \"mapbox\": {\"style\": \"light\"}, \"paper_bgcolor\": \"white\", \"plot_bgcolor\": \"#E5ECF6\", \"polar\": {\"angularaxis\": {\"gridcolor\": \"white\", \"linecolor\": \"white\", \"ticks\": \"\"}, \"bgcolor\": \"#E5ECF6\", \"radialaxis\": {\"gridcolor\": \"white\", \"linecolor\": \"white\", \"ticks\": \"\"}}, \"scene\": {\"xaxis\": {\"backgroundcolor\": \"#E5ECF6\", \"gridcolor\": \"white\", \"gridwidth\": 2, \"linecolor\": \"white\", \"showbackground\": true, \"ticks\": \"\", \"zerolinecolor\": \"white\"}, \"yaxis\": {\"backgroundcolor\": \"#E5ECF6\", \"gridcolor\": \"white\", \"gridwidth\": 2, \"linecolor\": \"white\", \"showbackground\": true, \"ticks\": \"\", \"zerolinecolor\": \"white\"}, \"zaxis\": {\"backgroundcolor\": \"#E5ECF6\", \"gridcolor\": \"white\", \"gridwidth\": 2, \"linecolor\": \"white\", \"showbackground\": true, \"ticks\": \"\", \"zerolinecolor\": \"white\"}}, \"shapedefaults\": {\"line\": {\"color\": \"#2a3f5f\"}}, \"ternary\": {\"aaxis\": {\"gridcolor\": \"white\", \"linecolor\": \"white\", \"ticks\": \"\"}, \"baxis\": {\"gridcolor\": \"white\", \"linecolor\": \"white\", \"ticks\": \"\"}, \"bgcolor\": \"#E5ECF6\", \"caxis\": {\"gridcolor\": \"white\", \"linecolor\": \"white\", \"ticks\": \"\"}}, \"title\": {\"x\": 0.05}, \"xaxis\": {\"automargin\": true, \"gridcolor\": \"white\", \"linecolor\": \"white\", \"ticks\": \"\", \"title\": {\"standoff\": 15}, \"zerolinecolor\": \"white\", \"zerolinewidth\": 2}, \"yaxis\": {\"automargin\": true, \"gridcolor\": \"white\", \"linecolor\": \"white\", \"ticks\": \"\", \"title\": {\"standoff\": 15}, \"zerolinecolor\": \"white\", \"zerolinewidth\": 2}}}, \"title\": {\"text\": \"Data - Deaths in Jalisco\", \"x\": 0.5}, \"yaxis\": {\"type\": \"linear\"}},\n",
       "                        {\"responsive\": true}\n",
       "                    ).then(function(){\n",
       "                            \n",
       "var gd = document.getElementById('ccceb8d7-19db-41c9-b056-db4ddce3f7cf');\n",
       "var x = new MutationObserver(function (mutations, observer) {{\n",
       "        var display = window.getComputedStyle(gd).display;\n",
       "        if (!display || display === 'none') {{\n",
       "            console.log([gd, 'removed!']);\n",
       "            Plotly.purge(gd);\n",
       "            observer.disconnect();\n",
       "        }}\n",
       "}});\n",
       "\n",
       "// Listen for the removal of the full notebook cells\n",
       "var notebookContainer = gd.closest('#notebook-container');\n",
       "if (notebookContainer) {{\n",
       "    x.observe(notebookContainer, {childList: true});\n",
       "}}\n",
       "\n",
       "// Listen for the clearing of the current output cell\n",
       "var outputEl = gd.closest('.output');\n",
       "if (outputEl) {{\n",
       "    x.observe(outputEl, {childList: true});\n",
       "}}\n",
       "\n",
       "                        })\n",
       "                };\n",
       "                });\n",
       "            </script>\n",
       "        </div>"
      ]
     },
     "metadata": {},
     "output_type": "display_data"
    }
   ],
   "source": [
    "fig = go.Figure()\n",
    "\n",
    "fig.add_trace(go.Scatter(\n",
    "    x=mx1['date'],\n",
    "    y=mx1['Deaths_Jalisco'],\n",
    "    name='Deaths Jalisco - as reported',\n",
    "    mode='lines+markers',line_width=2,marker_size=6,opacity=0.6))\n",
    "\n",
    "fig.add_trace(go.Scatter(\n",
    "    x=mx2['date'],\n",
    "    y=mx2['Deaths_Jalisco'],\n",
    "    name='Deaths_Jalisco - as occurred',\n",
    "    mode='lines+markers',line_width=2,marker_size=6,opacity=0.6))\n",
    "\n",
    "fig.update_layout(\n",
    "    title=\"Data - Deaths in Jalisco\",\n",
    "    title_x=0.5,showlegend=True,yaxis = {'type': 'linear'},\n",
    "    legend=dict(\n",
    "            x=0.05,y=0.95,\n",
    "            traceorder=\"normal\",font=dict(family=\"sans-serif\",size=14),bgcolor='rgba(0,0,0,0)'),)\n",
    "\n",
    "fig.show()"
   ]
  },
  {
   "cell_type": "code",
   "execution_count": 400,
   "metadata": {},
   "outputs": [
    {
     "data": {
      "application/vnd.plotly.v1+json": {
       "config": {
        "plotlyServerURL": "https://plot.ly"
       },
       "data": [
        {
         "line": {
          "width": 2
         },
         "marker": {
          "size": 6
         },
         "mode": "lines+markers",
         "name": "Deaths Jalisco (Model #5)",
         "opacity": 1,
         "type": "scatter",
         "x": [
          "2020-05-15T00:00:00",
          "2020-05-16T00:00:00",
          "2020-05-17T00:00:00",
          "2020-05-18T00:00:00",
          "2020-05-19T00:00:00",
          "2020-05-20T00:00:00",
          "2020-05-21T00:00:00",
          "2020-05-22T00:00:00",
          "2020-05-23T00:00:00",
          "2020-05-24T00:00:00",
          "2020-05-25T00:00:00",
          "2020-05-26T00:00:00",
          "2020-05-27T00:00:00",
          "2020-05-28T00:00:00",
          "2020-05-29T00:00:00",
          "2020-05-30T00:00:00",
          "2020-05-31T00:00:00",
          "2020-06-01T00:00:00",
          "2020-06-02T00:00:00",
          "2020-06-03T00:00:00",
          "2020-06-04T00:00:00",
          "2020-06-05T00:00:00",
          "2020-06-06T00:00:00",
          "2020-06-07T00:00:00",
          "2020-06-08T00:00:00",
          "2020-06-09T00:00:00",
          "2020-06-10T00:00:00",
          "2020-06-11T00:00:00",
          "2020-06-12T00:00:00",
          "2020-06-13T00:00:00",
          "2020-06-14T00:00:00",
          "2020-06-15T00:00:00",
          "2020-06-16T00:00:00",
          "2020-06-17T00:00:00",
          "2020-06-18T00:00:00",
          "2020-06-19T00:00:00",
          "2020-06-20T00:00:00",
          "2020-06-21T00:00:00",
          "2020-06-22T00:00:00",
          "2020-06-23T00:00:00",
          "2020-06-24T00:00:00",
          "2020-06-25T00:00:00",
          "2020-06-26T00:00:00",
          "2020-06-27T00:00:00",
          "2020-06-28T00:00:00",
          "2020-06-29T00:00:00",
          "2020-06-30T00:00:00",
          "2020-07-01T00:00:00",
          "2020-07-02T00:00:00",
          "2020-07-03T00:00:00",
          "2020-07-04T00:00:00",
          "2020-07-05T00:00:00",
          "2020-07-06T00:00:00",
          "2020-07-07T00:00:00",
          "2020-07-08T00:00:00",
          "2020-07-09T00:00:00",
          "2020-07-10T00:00:00",
          "2020-07-11T00:00:00",
          "2020-07-12T00:00:00",
          "2020-07-13T00:00:00",
          "2020-07-14T00:00:00",
          "2020-07-15T00:00:00",
          "2020-07-16T00:00:00",
          "2020-07-17T00:00:00",
          "2020-07-18T00:00:00",
          "2020-07-19T00:00:00",
          "2020-07-20T00:00:00",
          "2020-07-21T00:00:00",
          "2020-07-22T00:00:00",
          "2020-07-23T00:00:00",
          "2020-07-24T00:00:00",
          "2020-07-25T00:00:00",
          "2020-07-26T00:00:00",
          "2020-07-27T00:00:00",
          "2020-07-28T00:00:00",
          "2020-07-29T00:00:00",
          "2020-07-30T00:00:00",
          "2020-07-31T00:00:00",
          "2020-08-01T00:00:00",
          "2020-08-02T00:00:00",
          "2020-08-03T00:00:00",
          "2020-08-04T00:00:00",
          "2020-08-05T00:00:00",
          "2020-08-06T00:00:00",
          "2020-08-07T00:00:00",
          "2020-08-08T00:00:00",
          "2020-08-09T00:00:00",
          "2020-08-10T00:00:00",
          "2020-08-11T00:00:00",
          "2020-08-12T00:00:00",
          "2020-08-13T00:00:00",
          "2020-08-14T00:00:00",
          "2020-08-15T00:00:00",
          "2020-08-16T00:00:00",
          "2020-08-17T00:00:00",
          "2020-08-18T00:00:00",
          "2020-08-19T00:00:00",
          "2020-08-20T00:00:00",
          "2020-08-21T00:00:00",
          "2020-08-22T00:00:00",
          "2020-08-23T00:00:00",
          "2020-08-24T00:00:00",
          "2020-08-25T00:00:00",
          "2020-08-26T00:00:00",
          "2020-08-27T00:00:00",
          "2020-08-28T00:00:00",
          "2020-08-29T00:00:00",
          "2020-08-30T00:00:00",
          "2020-08-31T00:00:00",
          "2020-09-01T00:00:00",
          "2020-09-02T00:00:00",
          "2020-09-03T00:00:00",
          "2020-09-04T00:00:00",
          "2020-09-05T00:00:00",
          "2020-09-06T00:00:00",
          "2020-09-07T00:00:00",
          "2020-09-08T00:00:00",
          "2020-09-09T00:00:00",
          "2020-09-10T00:00:00",
          "2020-09-11T00:00:00",
          "2020-09-12T00:00:00",
          "2020-09-13T00:00:00",
          "2020-09-14T00:00:00",
          "2020-09-15T00:00:00",
          "2020-09-16T00:00:00",
          "2020-09-17T00:00:00",
          "2020-09-18T00:00:00",
          "2020-09-19T00:00:00",
          "2020-09-20T00:00:00",
          "2020-09-21T00:00:00",
          "2020-09-22T00:00:00",
          "2020-09-23T00:00:00",
          "2020-09-24T00:00:00",
          "2020-09-25T00:00:00",
          "2020-09-26T00:00:00",
          "2020-09-27T00:00:00",
          "2020-09-28T00:00:00",
          "2020-09-29T00:00:00",
          "2020-09-30T00:00:00",
          "2020-10-01T00:00:00",
          "2020-10-02T00:00:00",
          "2020-10-03T00:00:00",
          "2020-10-04T00:00:00",
          "2020-10-05T00:00:00",
          "2020-10-06T00:00:00",
          "2020-10-07T00:00:00",
          "2020-10-08T00:00:00",
          "2020-10-09T00:00:00",
          "2020-10-10T00:00:00",
          "2020-10-11T00:00:00",
          "2020-10-12T00:00:00",
          "2020-10-13T00:00:00",
          "2020-10-14T00:00:00",
          "2020-10-15T00:00:00",
          "2020-10-16T00:00:00",
          "2020-10-17T00:00:00",
          "2020-10-18T00:00:00",
          "2020-10-19T00:00:00",
          "2020-10-20T00:00:00",
          "2020-10-21T00:00:00",
          "2020-10-22T00:00:00",
          "2020-10-23T00:00:00",
          "2020-10-24T00:00:00",
          "2020-10-25T00:00:00",
          "2020-10-26T00:00:00",
          "2020-10-27T00:00:00",
          "2020-10-28T00:00:00",
          "2020-10-29T00:00:00",
          "2020-10-30T00:00:00",
          "2020-10-31T00:00:00",
          "2020-11-01T00:00:00",
          "2020-11-02T00:00:00",
          "2020-11-03T00:00:00",
          "2020-11-04T00:00:00",
          "2020-11-05T00:00:00",
          "2020-11-06T00:00:00",
          "2020-11-07T00:00:00",
          "2020-11-08T00:00:00",
          "2020-11-09T00:00:00",
          "2020-11-10T00:00:00",
          "2020-11-11T00:00:00",
          "2020-11-12T00:00:00",
          "2020-11-13T00:00:00",
          "2020-11-14T00:00:00",
          "2020-11-15T00:00:00",
          "2020-11-16T00:00:00",
          "2020-11-17T00:00:00",
          "2020-11-18T00:00:00",
          "2020-11-19T00:00:00",
          "2020-11-20T00:00:00",
          "2020-11-21T00:00:00",
          "2020-11-22T00:00:00",
          "2020-11-23T00:00:00",
          "2020-11-24T00:00:00",
          "2020-11-25T00:00:00",
          "2020-11-26T00:00:00",
          "2020-11-27T00:00:00",
          "2020-11-28T00:00:00",
          "2020-11-29T00:00:00",
          "2020-11-30T00:00:00",
          "2020-12-01T00:00:00",
          "2020-12-02T00:00:00",
          "2020-12-03T00:00:00",
          "2020-12-04T00:00:00",
          "2020-12-05T00:00:00",
          "2020-12-06T00:00:00",
          "2020-12-07T00:00:00",
          "2020-12-08T00:00:00",
          "2020-12-09T00:00:00",
          "2020-12-10T00:00:00",
          "2020-12-11T00:00:00",
          "2020-12-12T00:00:00",
          "2020-12-13T00:00:00",
          "2020-12-14T00:00:00",
          "2020-12-15T00:00:00",
          "2020-12-16T00:00:00",
          "2020-12-17T00:00:00",
          "2020-12-18T00:00:00",
          "2020-12-19T00:00:00",
          "2020-12-20T00:00:00",
          "2020-12-21T00:00:00",
          "2020-12-22T00:00:00",
          "2020-12-23T00:00:00",
          "2020-12-24T00:00:00",
          "2020-12-25T00:00:00",
          "2020-12-26T00:00:00",
          "2020-12-27T00:00:00",
          "2020-12-28T00:00:00",
          "2020-12-29T00:00:00",
          "2020-12-30T00:00:00",
          "2020-12-31T00:00:00",
          "2021-01-01T00:00:00",
          "2021-01-02T00:00:00",
          "2021-01-03T00:00:00",
          "2021-01-04T00:00:00",
          "2021-01-05T00:00:00",
          "2021-01-06T00:00:00",
          "2021-01-07T00:00:00",
          "2021-01-08T00:00:00",
          "2021-01-09T00:00:00",
          "2021-01-10T00:00:00",
          "2021-01-11T00:00:00",
          "2021-01-12T00:00:00",
          "2021-01-13T00:00:00",
          "2021-01-14T00:00:00",
          "2021-01-15T00:00:00",
          "2021-01-16T00:00:00",
          "2021-01-17T00:00:00",
          "2021-01-18T00:00:00",
          "2021-01-19T00:00:00"
         ],
         "y": [
          81,
          81,
          81.96,
          83.81267162790697,
          86.49765691883698,
          89.96085054627936,
          94.15375338069231,
          99.03289027914133,
          104.55928571994758,
          110.69799153552786,
          117.41766157179528,
          124.69016862005415,
          132.49025943302598,
          140.79524405567346,
          149.58471607851533,
          158.8403007603479,
          168.545428272492,
          178.68512959127114,
          189.24585281246195,
          200.21529788369875,
          211.5822679507441,
          223.33653569338873,
          235.46872318853042,
          247.9701939835106,
          260.83295619369017,
          274.04957555598753,
          287.6130974760032,
          301.516977201604,
          315.7550173415044,
          330.3213120244274,
          345.2101970637161,
          360.4162055545824,
          375.9340283872193,
          391.75847920940373,
          407.8844634175422,
          424.30695079587565,
          441.0209514602239,
          458.02149479562354,
          475.303611106877,
          492.8623157277111,
          510.69259535824983,
          528.7893964221055,
          547.147615253832,
          565.7620899449817,
          584.6275936927598,
          603.7388295094611,
          623.0904261636538,
          642.6769352355973,
          662.4928291797675,
          682.5325002967336,
          702.7902605250918,
          723.2603419717971,
          743.9368981061466,
          764.8140055489113,
          785.8856663937727,
          807.1458110033511,
          828.5883012267639,
          850.2069339898803,
          871.9954452132918,
          893.9475140165139,
          916.0567671701435,
          938.3167837606117,
          960.7211000348551,
          983.263214394683,
          1005.9365925128744,
          1028.734672545121,
          1051.6508704138491,
          1074.6785851417328,
          1097.8112042143491,
          1121.0421089529639,
          1144.3646798798538,
          1167.7723020599003,
          1191.2583704034341,
          1214.8162949164707,
          1238.4395058855698,
          1262.1214589855813,
          1285.855640299506,
          1309.635571240613,
          1333.4548133678222,
          1357.3069730861735,
          1381.185706224983,
          1405.08472248702,
          1428.9977897627332,
          1452.9187383042236,
          1476.8414647542857,
          1500.7599360264414,
          1524.6681930324598,
          1548.5603542543972,
          1572.4306191587098,
          1596.2732714504762,
          1620.0826821662392,
          1643.8533126044113,
          1667.5797170926107,
          1691.2565455916942,
          1714.8785461366213,
          1738.4405671146471,
          1761.9375593816721,
          1785.3645782178914,
          1808.7167851241857,
          1831.9894494609712,
          1855.1779499314857,
          1878.2777759117325,
          1901.2845286295235,
          1924.1939221952794,
          1947.0017844874278,
          1969.704057895425,
          1992.2967999235798,
          2014.776183659013,
          2037.138498107211,
          2059.380148398753,
          2081.497655870895,
          2103.4876580277855,
          2125.3469083831696,
          2147.0722761894945,
          2168.6607460574023,
          2190.109417469622,
          2211.4155041933163,
          2232.5763335949628,
          2253.5893458618525,
          2274.4520931343063,
          2295.1622385526944,
          2315.717555223335,
          2336.1159251073286,
          2356.3553378363554,
          2376.43388945942,
          2396.349781124503,
          2416.1013176990127,
          2435.6869063328854,
          2455.105054968122,
          2474.354370798488,
          2493.433558683026,
          2512.341419516969,
          2531.076848563557,
          2549.6388337501844,
          2568.026453932221,
          2586.2388771277674,
          2604.2753587265124,
          2622.135239675774,
          2639.8179446467134,
          2657.322980183621,
          2674.64993283907,
          2691.7984672976536,
          2708.768324490912,
          2725.5593197059684,
          2742.171340690291,
          2758.6043457549117,
          2774.858361878323,
          2790.933482813192,
          2806.829867197927,
          2822.547736675049,
          2838.087374018211,
          2853.449121269636,
          2868.633377889641,
          2883.640598919825,
          2898.47129316143,
          2913.126021370264,
          2927.6053944695323,
          2941.9100717818037,
          2956.0407592812853,
          2969.9982078674816,
          2983.7832116612544,
          2997.3966063242087,
          3010.8392674022703,
          3024.112108694244,
          3037.216080646077,
          3050.15216877148,
          3062.9213920995,
          3075.524801649581,
          3087.9634789345764,
          3100.2385344921304,
          3112.35110644479,
          3124.30235908915,
          3136.0934815142896,
          3147.7256862497043,
          3159.200207942894,
          3170.518302066726,
          3181.68124365664,
          3192.6903260777344,
          3203.5468598217217,
          3214.252171333715,
          3224.807601868768,
          3235.214506378056,
          3245.474252424559,
          3255.588219128079,
          3265.557796139388,
          3275.3843826432894,
          3285.069386390344,
          3294.614222756985,
          3304.0203138337406,
          3313.2890875412463,
          3322.4219767737195,
          3331.4204185695517,
          3340.2858533086596,
          3349.019723936216,
          3357.6234752123755,
          3366.0985529875948,
          3374.4464035031388,
          3382.668472716351,
          3390.7662056502636,
          3398.7410457671094,
          3406.594434365298,
          3414.3278099994072,
          3421.9426079227355,
          3429.440259551971,
          3436.822191953507,
          3444.089827350953,
          3451.2445826533753,
          3458.2878690038106,
          3465.221091347582,
          3472.045648019965,
          3478.762930352739,
          3485.3743222991648,
          3491.8812000769335,
          3498.284931828632,
          3504.5868772992762,
          3510.7883875304597,
          3516.890804570681,
          3522.8954612014063,
          3528.8036806784307,
          3534.616776488116,
          3540.336052118073,
          3545.96280084187,
          3551.4983055173593,
          3556.943838398208,
          3562.3006609582326,
          3567.570023728147,
          3572.7531661443263,
          3577.851316409211,
          3582.865691362972,
          3587.7974963660686,
          3592.6479251923365,
          3597.4181599322515,
          3602.1093709060165,
          3606.722716586137,
          3611.259343529142,
          3615.7203863161335,
          3620.1069675018325,
          3624.4201975718165,
          3628.6611749076405,
          3632.83098575954,
          3636.930704226425,
          3640.961392242881,
          3644.9240995728983,
          3648.8198638100544,
          3652.6497103838924,
          3656.4146525722304,
          3660.115691519154,
          3663.753816258449,
          3667.330003742233,
          3670.8452188745555
         ]
        },
        {
         "line": {
          "width": 2
         },
         "marker": {
          "size": 6
         },
         "mode": "lines+markers",
         "name": "Deaths Jalisco (Data as occurred)",
         "opacity": 1,
         "type": "scatter",
         "x": [
          "2020-05-15",
          "2020-05-16",
          "2020-05-17",
          "2020-05-18",
          "2020-05-19",
          "2020-05-20",
          "2020-05-21",
          "2020-05-22",
          "2020-05-23",
          "2020-05-24",
          "2020-05-25",
          "2020-05-26",
          "2020-05-27",
          "2020-05-28",
          "2020-05-29",
          "2020-05-30",
          "2020-05-31",
          "2020-06-01",
          "2020-06-02",
          "2020-06-03",
          "2020-06-04",
          "2020-06-05",
          "2020-06-06",
          "2020-06-07",
          "2020-06-08",
          "2020-06-09",
          "2020-06-10",
          "2020-06-11",
          "2020-06-12",
          "2020-06-13",
          "2020-06-14",
          "2020-06-15",
          "2020-06-16",
          "2020-06-17",
          "2020-06-18",
          "2020-06-19",
          "2020-06-20",
          "2020-06-21",
          "2020-06-22",
          "2020-06-23",
          "2020-06-24",
          "2020-06-25",
          "2020-06-26",
          "2020-06-27",
          "2020-06-28",
          "2020-06-29",
          "2020-06-30",
          "2020-07-01"
         ],
         "y": [
          81,
          90,
          95,
          98,
          99,
          105,
          114,
          116,
          120,
          123,
          131,
          136,
          140,
          143,
          148,
          162,
          172,
          192,
          203,
          221,
          244,
          261,
          278,
          299,
          313,
          339,
          353,
          377,
          405,
          419,
          446,
          464,
          488,
          518,
          535,
          559,
          585,
          611,
          632,
          659,
          686,
          715,
          734,
          757,
          784,
          818,
          838,
          870
         ]
        }
       ],
       "layout": {
        "legend": {
         "bgcolor": "rgba(0,0,0,0)",
         "font": {
          "family": "sans-serif",
          "size": 14
         },
         "traceorder": "normal",
         "x": 0.1,
         "y": 0.95
        },
        "showlegend": true,
        "template": {
         "data": {
          "bar": [
           {
            "error_x": {
             "color": "#2a3f5f"
            },
            "error_y": {
             "color": "#2a3f5f"
            },
            "marker": {
             "line": {
              "color": "#E5ECF6",
              "width": 0.5
             }
            },
            "type": "bar"
           }
          ],
          "barpolar": [
           {
            "marker": {
             "line": {
              "color": "#E5ECF6",
              "width": 0.5
             }
            },
            "type": "barpolar"
           }
          ],
          "carpet": [
           {
            "aaxis": {
             "endlinecolor": "#2a3f5f",
             "gridcolor": "white",
             "linecolor": "white",
             "minorgridcolor": "white",
             "startlinecolor": "#2a3f5f"
            },
            "baxis": {
             "endlinecolor": "#2a3f5f",
             "gridcolor": "white",
             "linecolor": "white",
             "minorgridcolor": "white",
             "startlinecolor": "#2a3f5f"
            },
            "type": "carpet"
           }
          ],
          "choropleth": [
           {
            "colorbar": {
             "outlinewidth": 0,
             "ticks": ""
            },
            "type": "choropleth"
           }
          ],
          "contour": [
           {
            "colorbar": {
             "outlinewidth": 0,
             "ticks": ""
            },
            "colorscale": [
             [
              0,
              "#0d0887"
             ],
             [
              0.1111111111111111,
              "#46039f"
             ],
             [
              0.2222222222222222,
              "#7201a8"
             ],
             [
              0.3333333333333333,
              "#9c179e"
             ],
             [
              0.4444444444444444,
              "#bd3786"
             ],
             [
              0.5555555555555556,
              "#d8576b"
             ],
             [
              0.6666666666666666,
              "#ed7953"
             ],
             [
              0.7777777777777778,
              "#fb9f3a"
             ],
             [
              0.8888888888888888,
              "#fdca26"
             ],
             [
              1,
              "#f0f921"
             ]
            ],
            "type": "contour"
           }
          ],
          "contourcarpet": [
           {
            "colorbar": {
             "outlinewidth": 0,
             "ticks": ""
            },
            "type": "contourcarpet"
           }
          ],
          "heatmap": [
           {
            "colorbar": {
             "outlinewidth": 0,
             "ticks": ""
            },
            "colorscale": [
             [
              0,
              "#0d0887"
             ],
             [
              0.1111111111111111,
              "#46039f"
             ],
             [
              0.2222222222222222,
              "#7201a8"
             ],
             [
              0.3333333333333333,
              "#9c179e"
             ],
             [
              0.4444444444444444,
              "#bd3786"
             ],
             [
              0.5555555555555556,
              "#d8576b"
             ],
             [
              0.6666666666666666,
              "#ed7953"
             ],
             [
              0.7777777777777778,
              "#fb9f3a"
             ],
             [
              0.8888888888888888,
              "#fdca26"
             ],
             [
              1,
              "#f0f921"
             ]
            ],
            "type": "heatmap"
           }
          ],
          "heatmapgl": [
           {
            "colorbar": {
             "outlinewidth": 0,
             "ticks": ""
            },
            "colorscale": [
             [
              0,
              "#0d0887"
             ],
             [
              0.1111111111111111,
              "#46039f"
             ],
             [
              0.2222222222222222,
              "#7201a8"
             ],
             [
              0.3333333333333333,
              "#9c179e"
             ],
             [
              0.4444444444444444,
              "#bd3786"
             ],
             [
              0.5555555555555556,
              "#d8576b"
             ],
             [
              0.6666666666666666,
              "#ed7953"
             ],
             [
              0.7777777777777778,
              "#fb9f3a"
             ],
             [
              0.8888888888888888,
              "#fdca26"
             ],
             [
              1,
              "#f0f921"
             ]
            ],
            "type": "heatmapgl"
           }
          ],
          "histogram": [
           {
            "marker": {
             "colorbar": {
              "outlinewidth": 0,
              "ticks": ""
             }
            },
            "type": "histogram"
           }
          ],
          "histogram2d": [
           {
            "colorbar": {
             "outlinewidth": 0,
             "ticks": ""
            },
            "colorscale": [
             [
              0,
              "#0d0887"
             ],
             [
              0.1111111111111111,
              "#46039f"
             ],
             [
              0.2222222222222222,
              "#7201a8"
             ],
             [
              0.3333333333333333,
              "#9c179e"
             ],
             [
              0.4444444444444444,
              "#bd3786"
             ],
             [
              0.5555555555555556,
              "#d8576b"
             ],
             [
              0.6666666666666666,
              "#ed7953"
             ],
             [
              0.7777777777777778,
              "#fb9f3a"
             ],
             [
              0.8888888888888888,
              "#fdca26"
             ],
             [
              1,
              "#f0f921"
             ]
            ],
            "type": "histogram2d"
           }
          ],
          "histogram2dcontour": [
           {
            "colorbar": {
             "outlinewidth": 0,
             "ticks": ""
            },
            "colorscale": [
             [
              0,
              "#0d0887"
             ],
             [
              0.1111111111111111,
              "#46039f"
             ],
             [
              0.2222222222222222,
              "#7201a8"
             ],
             [
              0.3333333333333333,
              "#9c179e"
             ],
             [
              0.4444444444444444,
              "#bd3786"
             ],
             [
              0.5555555555555556,
              "#d8576b"
             ],
             [
              0.6666666666666666,
              "#ed7953"
             ],
             [
              0.7777777777777778,
              "#fb9f3a"
             ],
             [
              0.8888888888888888,
              "#fdca26"
             ],
             [
              1,
              "#f0f921"
             ]
            ],
            "type": "histogram2dcontour"
           }
          ],
          "mesh3d": [
           {
            "colorbar": {
             "outlinewidth": 0,
             "ticks": ""
            },
            "type": "mesh3d"
           }
          ],
          "parcoords": [
           {
            "line": {
             "colorbar": {
              "outlinewidth": 0,
              "ticks": ""
             }
            },
            "type": "parcoords"
           }
          ],
          "pie": [
           {
            "automargin": true,
            "type": "pie"
           }
          ],
          "scatter": [
           {
            "marker": {
             "colorbar": {
              "outlinewidth": 0,
              "ticks": ""
             }
            },
            "type": "scatter"
           }
          ],
          "scatter3d": [
           {
            "line": {
             "colorbar": {
              "outlinewidth": 0,
              "ticks": ""
             }
            },
            "marker": {
             "colorbar": {
              "outlinewidth": 0,
              "ticks": ""
             }
            },
            "type": "scatter3d"
           }
          ],
          "scattercarpet": [
           {
            "marker": {
             "colorbar": {
              "outlinewidth": 0,
              "ticks": ""
             }
            },
            "type": "scattercarpet"
           }
          ],
          "scattergeo": [
           {
            "marker": {
             "colorbar": {
              "outlinewidth": 0,
              "ticks": ""
             }
            },
            "type": "scattergeo"
           }
          ],
          "scattergl": [
           {
            "marker": {
             "colorbar": {
              "outlinewidth": 0,
              "ticks": ""
             }
            },
            "type": "scattergl"
           }
          ],
          "scattermapbox": [
           {
            "marker": {
             "colorbar": {
              "outlinewidth": 0,
              "ticks": ""
             }
            },
            "type": "scattermapbox"
           }
          ],
          "scatterpolar": [
           {
            "marker": {
             "colorbar": {
              "outlinewidth": 0,
              "ticks": ""
             }
            },
            "type": "scatterpolar"
           }
          ],
          "scatterpolargl": [
           {
            "marker": {
             "colorbar": {
              "outlinewidth": 0,
              "ticks": ""
             }
            },
            "type": "scatterpolargl"
           }
          ],
          "scatterternary": [
           {
            "marker": {
             "colorbar": {
              "outlinewidth": 0,
              "ticks": ""
             }
            },
            "type": "scatterternary"
           }
          ],
          "surface": [
           {
            "colorbar": {
             "outlinewidth": 0,
             "ticks": ""
            },
            "colorscale": [
             [
              0,
              "#0d0887"
             ],
             [
              0.1111111111111111,
              "#46039f"
             ],
             [
              0.2222222222222222,
              "#7201a8"
             ],
             [
              0.3333333333333333,
              "#9c179e"
             ],
             [
              0.4444444444444444,
              "#bd3786"
             ],
             [
              0.5555555555555556,
              "#d8576b"
             ],
             [
              0.6666666666666666,
              "#ed7953"
             ],
             [
              0.7777777777777778,
              "#fb9f3a"
             ],
             [
              0.8888888888888888,
              "#fdca26"
             ],
             [
              1,
              "#f0f921"
             ]
            ],
            "type": "surface"
           }
          ],
          "table": [
           {
            "cells": {
             "fill": {
              "color": "#EBF0F8"
             },
             "line": {
              "color": "white"
             }
            },
            "header": {
             "fill": {
              "color": "#C8D4E3"
             },
             "line": {
              "color": "white"
             }
            },
            "type": "table"
           }
          ]
         },
         "layout": {
          "annotationdefaults": {
           "arrowcolor": "#2a3f5f",
           "arrowhead": 0,
           "arrowwidth": 1
          },
          "coloraxis": {
           "colorbar": {
            "outlinewidth": 0,
            "ticks": ""
           }
          },
          "colorscale": {
           "diverging": [
            [
             0,
             "#8e0152"
            ],
            [
             0.1,
             "#c51b7d"
            ],
            [
             0.2,
             "#de77ae"
            ],
            [
             0.3,
             "#f1b6da"
            ],
            [
             0.4,
             "#fde0ef"
            ],
            [
             0.5,
             "#f7f7f7"
            ],
            [
             0.6,
             "#e6f5d0"
            ],
            [
             0.7,
             "#b8e186"
            ],
            [
             0.8,
             "#7fbc41"
            ],
            [
             0.9,
             "#4d9221"
            ],
            [
             1,
             "#276419"
            ]
           ],
           "sequential": [
            [
             0,
             "#0d0887"
            ],
            [
             0.1111111111111111,
             "#46039f"
            ],
            [
             0.2222222222222222,
             "#7201a8"
            ],
            [
             0.3333333333333333,
             "#9c179e"
            ],
            [
             0.4444444444444444,
             "#bd3786"
            ],
            [
             0.5555555555555556,
             "#d8576b"
            ],
            [
             0.6666666666666666,
             "#ed7953"
            ],
            [
             0.7777777777777778,
             "#fb9f3a"
            ],
            [
             0.8888888888888888,
             "#fdca26"
            ],
            [
             1,
             "#f0f921"
            ]
           ],
           "sequentialminus": [
            [
             0,
             "#0d0887"
            ],
            [
             0.1111111111111111,
             "#46039f"
            ],
            [
             0.2222222222222222,
             "#7201a8"
            ],
            [
             0.3333333333333333,
             "#9c179e"
            ],
            [
             0.4444444444444444,
             "#bd3786"
            ],
            [
             0.5555555555555556,
             "#d8576b"
            ],
            [
             0.6666666666666666,
             "#ed7953"
            ],
            [
             0.7777777777777778,
             "#fb9f3a"
            ],
            [
             0.8888888888888888,
             "#fdca26"
            ],
            [
             1,
             "#f0f921"
            ]
           ]
          },
          "colorway": [
           "#636efa",
           "#EF553B",
           "#00cc96",
           "#ab63fa",
           "#FFA15A",
           "#19d3f3",
           "#FF6692",
           "#B6E880",
           "#FF97FF",
           "#FECB52"
          ],
          "font": {
           "color": "#2a3f5f"
          },
          "geo": {
           "bgcolor": "white",
           "lakecolor": "white",
           "landcolor": "#E5ECF6",
           "showlakes": true,
           "showland": true,
           "subunitcolor": "white"
          },
          "hoverlabel": {
           "align": "left"
          },
          "hovermode": "closest",
          "mapbox": {
           "style": "light"
          },
          "paper_bgcolor": "white",
          "plot_bgcolor": "#E5ECF6",
          "polar": {
           "angularaxis": {
            "gridcolor": "white",
            "linecolor": "white",
            "ticks": ""
           },
           "bgcolor": "#E5ECF6",
           "radialaxis": {
            "gridcolor": "white",
            "linecolor": "white",
            "ticks": ""
           }
          },
          "scene": {
           "xaxis": {
            "backgroundcolor": "#E5ECF6",
            "gridcolor": "white",
            "gridwidth": 2,
            "linecolor": "white",
            "showbackground": true,
            "ticks": "",
            "zerolinecolor": "white"
           },
           "yaxis": {
            "backgroundcolor": "#E5ECF6",
            "gridcolor": "white",
            "gridwidth": 2,
            "linecolor": "white",
            "showbackground": true,
            "ticks": "",
            "zerolinecolor": "white"
           },
           "zaxis": {
            "backgroundcolor": "#E5ECF6",
            "gridcolor": "white",
            "gridwidth": 2,
            "linecolor": "white",
            "showbackground": true,
            "ticks": "",
            "zerolinecolor": "white"
           }
          },
          "shapedefaults": {
           "line": {
            "color": "#2a3f5f"
           }
          },
          "ternary": {
           "aaxis": {
            "gridcolor": "white",
            "linecolor": "white",
            "ticks": ""
           },
           "baxis": {
            "gridcolor": "white",
            "linecolor": "white",
            "ticks": ""
           },
           "bgcolor": "#E5ECF6",
           "caxis": {
            "gridcolor": "white",
            "linecolor": "white",
            "ticks": ""
           }
          },
          "title": {
           "x": 0.05
          },
          "xaxis": {
           "automargin": true,
           "gridcolor": "white",
           "linecolor": "white",
           "ticks": "",
           "title": {
            "standoff": 15
           },
           "zerolinecolor": "white",
           "zerolinewidth": 2
          },
          "yaxis": {
           "automargin": true,
           "gridcolor": "white",
           "linecolor": "white",
           "ticks": "",
           "title": {
            "standoff": 15
           },
           "zerolinecolor": "white",
           "zerolinewidth": 2
          }
         }
        },
        "title": {
         "text": "Model/Data Jalisco - deaths",
         "x": 0.5
        },
        "yaxis": {
         "type": "linear"
        }
       }
      },
      "text/html": [
       "<div>\n",
       "        \n",
       "        \n",
       "            <div id=\"633f99f5-dfc2-433b-bcdb-763b1efdfb85\" class=\"plotly-graph-div\" style=\"height:525px; width:100%;\"></div>\n",
       "            <script type=\"text/javascript\">\n",
       "                require([\"plotly\"], function(Plotly) {\n",
       "                    window.PLOTLYENV=window.PLOTLYENV || {};\n",
       "                    \n",
       "                if (document.getElementById(\"633f99f5-dfc2-433b-bcdb-763b1efdfb85\")) {\n",
       "                    Plotly.newPlot(\n",
       "                        '633f99f5-dfc2-433b-bcdb-763b1efdfb85',\n",
       "                        [{\"line\": {\"width\": 2}, \"marker\": {\"size\": 6}, \"mode\": \"lines+markers\", \"name\": \"Deaths Jalisco (Model #5)\", \"opacity\": 1, \"type\": \"scatter\", \"x\": [\"2020-05-15T00:00:00\", \"2020-05-16T00:00:00\", \"2020-05-17T00:00:00\", \"2020-05-18T00:00:00\", \"2020-05-19T00:00:00\", \"2020-05-20T00:00:00\", \"2020-05-21T00:00:00\", \"2020-05-22T00:00:00\", \"2020-05-23T00:00:00\", \"2020-05-24T00:00:00\", \"2020-05-25T00:00:00\", \"2020-05-26T00:00:00\", \"2020-05-27T00:00:00\", \"2020-05-28T00:00:00\", \"2020-05-29T00:00:00\", \"2020-05-30T00:00:00\", \"2020-05-31T00:00:00\", \"2020-06-01T00:00:00\", \"2020-06-02T00:00:00\", \"2020-06-03T00:00:00\", \"2020-06-04T00:00:00\", \"2020-06-05T00:00:00\", \"2020-06-06T00:00:00\", \"2020-06-07T00:00:00\", \"2020-06-08T00:00:00\", \"2020-06-09T00:00:00\", \"2020-06-10T00:00:00\", \"2020-06-11T00:00:00\", \"2020-06-12T00:00:00\", \"2020-06-13T00:00:00\", \"2020-06-14T00:00:00\", \"2020-06-15T00:00:00\", \"2020-06-16T00:00:00\", \"2020-06-17T00:00:00\", \"2020-06-18T00:00:00\", \"2020-06-19T00:00:00\", \"2020-06-20T00:00:00\", \"2020-06-21T00:00:00\", \"2020-06-22T00:00:00\", \"2020-06-23T00:00:00\", \"2020-06-24T00:00:00\", \"2020-06-25T00:00:00\", \"2020-06-26T00:00:00\", \"2020-06-27T00:00:00\", \"2020-06-28T00:00:00\", \"2020-06-29T00:00:00\", \"2020-06-30T00:00:00\", \"2020-07-01T00:00:00\", \"2020-07-02T00:00:00\", \"2020-07-03T00:00:00\", \"2020-07-04T00:00:00\", \"2020-07-05T00:00:00\", \"2020-07-06T00:00:00\", \"2020-07-07T00:00:00\", \"2020-07-08T00:00:00\", \"2020-07-09T00:00:00\", \"2020-07-10T00:00:00\", \"2020-07-11T00:00:00\", \"2020-07-12T00:00:00\", \"2020-07-13T00:00:00\", \"2020-07-14T00:00:00\", \"2020-07-15T00:00:00\", \"2020-07-16T00:00:00\", \"2020-07-17T00:00:00\", \"2020-07-18T00:00:00\", \"2020-07-19T00:00:00\", \"2020-07-20T00:00:00\", \"2020-07-21T00:00:00\", \"2020-07-22T00:00:00\", \"2020-07-23T00:00:00\", \"2020-07-24T00:00:00\", \"2020-07-25T00:00:00\", \"2020-07-26T00:00:00\", \"2020-07-27T00:00:00\", \"2020-07-28T00:00:00\", \"2020-07-29T00:00:00\", \"2020-07-30T00:00:00\", \"2020-07-31T00:00:00\", \"2020-08-01T00:00:00\", \"2020-08-02T00:00:00\", \"2020-08-03T00:00:00\", \"2020-08-04T00:00:00\", \"2020-08-05T00:00:00\", \"2020-08-06T00:00:00\", \"2020-08-07T00:00:00\", \"2020-08-08T00:00:00\", \"2020-08-09T00:00:00\", \"2020-08-10T00:00:00\", \"2020-08-11T00:00:00\", \"2020-08-12T00:00:00\", \"2020-08-13T00:00:00\", \"2020-08-14T00:00:00\", \"2020-08-15T00:00:00\", \"2020-08-16T00:00:00\", \"2020-08-17T00:00:00\", \"2020-08-18T00:00:00\", \"2020-08-19T00:00:00\", \"2020-08-20T00:00:00\", \"2020-08-21T00:00:00\", \"2020-08-22T00:00:00\", \"2020-08-23T00:00:00\", \"2020-08-24T00:00:00\", \"2020-08-25T00:00:00\", \"2020-08-26T00:00:00\", \"2020-08-27T00:00:00\", \"2020-08-28T00:00:00\", \"2020-08-29T00:00:00\", \"2020-08-30T00:00:00\", \"2020-08-31T00:00:00\", \"2020-09-01T00:00:00\", \"2020-09-02T00:00:00\", \"2020-09-03T00:00:00\", \"2020-09-04T00:00:00\", \"2020-09-05T00:00:00\", \"2020-09-06T00:00:00\", \"2020-09-07T00:00:00\", \"2020-09-08T00:00:00\", \"2020-09-09T00:00:00\", \"2020-09-10T00:00:00\", \"2020-09-11T00:00:00\", \"2020-09-12T00:00:00\", \"2020-09-13T00:00:00\", \"2020-09-14T00:00:00\", \"2020-09-15T00:00:00\", \"2020-09-16T00:00:00\", \"2020-09-17T00:00:00\", \"2020-09-18T00:00:00\", \"2020-09-19T00:00:00\", \"2020-09-20T00:00:00\", \"2020-09-21T00:00:00\", \"2020-09-22T00:00:00\", \"2020-09-23T00:00:00\", \"2020-09-24T00:00:00\", \"2020-09-25T00:00:00\", \"2020-09-26T00:00:00\", \"2020-09-27T00:00:00\", \"2020-09-28T00:00:00\", \"2020-09-29T00:00:00\", \"2020-09-30T00:00:00\", \"2020-10-01T00:00:00\", \"2020-10-02T00:00:00\", \"2020-10-03T00:00:00\", \"2020-10-04T00:00:00\", \"2020-10-05T00:00:00\", \"2020-10-06T00:00:00\", \"2020-10-07T00:00:00\", \"2020-10-08T00:00:00\", \"2020-10-09T00:00:00\", \"2020-10-10T00:00:00\", \"2020-10-11T00:00:00\", \"2020-10-12T00:00:00\", \"2020-10-13T00:00:00\", \"2020-10-14T00:00:00\", \"2020-10-15T00:00:00\", \"2020-10-16T00:00:00\", \"2020-10-17T00:00:00\", \"2020-10-18T00:00:00\", \"2020-10-19T00:00:00\", \"2020-10-20T00:00:00\", \"2020-10-21T00:00:00\", \"2020-10-22T00:00:00\", \"2020-10-23T00:00:00\", \"2020-10-24T00:00:00\", \"2020-10-25T00:00:00\", \"2020-10-26T00:00:00\", \"2020-10-27T00:00:00\", \"2020-10-28T00:00:00\", \"2020-10-29T00:00:00\", \"2020-10-30T00:00:00\", \"2020-10-31T00:00:00\", \"2020-11-01T00:00:00\", \"2020-11-02T00:00:00\", \"2020-11-03T00:00:00\", \"2020-11-04T00:00:00\", \"2020-11-05T00:00:00\", \"2020-11-06T00:00:00\", \"2020-11-07T00:00:00\", \"2020-11-08T00:00:00\", \"2020-11-09T00:00:00\", \"2020-11-10T00:00:00\", \"2020-11-11T00:00:00\", \"2020-11-12T00:00:00\", \"2020-11-13T00:00:00\", \"2020-11-14T00:00:00\", \"2020-11-15T00:00:00\", \"2020-11-16T00:00:00\", \"2020-11-17T00:00:00\", \"2020-11-18T00:00:00\", \"2020-11-19T00:00:00\", \"2020-11-20T00:00:00\", \"2020-11-21T00:00:00\", \"2020-11-22T00:00:00\", \"2020-11-23T00:00:00\", \"2020-11-24T00:00:00\", \"2020-11-25T00:00:00\", \"2020-11-26T00:00:00\", \"2020-11-27T00:00:00\", \"2020-11-28T00:00:00\", \"2020-11-29T00:00:00\", \"2020-11-30T00:00:00\", \"2020-12-01T00:00:00\", \"2020-12-02T00:00:00\", \"2020-12-03T00:00:00\", \"2020-12-04T00:00:00\", \"2020-12-05T00:00:00\", \"2020-12-06T00:00:00\", \"2020-12-07T00:00:00\", \"2020-12-08T00:00:00\", \"2020-12-09T00:00:00\", \"2020-12-10T00:00:00\", \"2020-12-11T00:00:00\", \"2020-12-12T00:00:00\", \"2020-12-13T00:00:00\", \"2020-12-14T00:00:00\", \"2020-12-15T00:00:00\", \"2020-12-16T00:00:00\", \"2020-12-17T00:00:00\", \"2020-12-18T00:00:00\", \"2020-12-19T00:00:00\", \"2020-12-20T00:00:00\", \"2020-12-21T00:00:00\", \"2020-12-22T00:00:00\", \"2020-12-23T00:00:00\", \"2020-12-24T00:00:00\", \"2020-12-25T00:00:00\", \"2020-12-26T00:00:00\", \"2020-12-27T00:00:00\", \"2020-12-28T00:00:00\", \"2020-12-29T00:00:00\", \"2020-12-30T00:00:00\", \"2020-12-31T00:00:00\", \"2021-01-01T00:00:00\", \"2021-01-02T00:00:00\", \"2021-01-03T00:00:00\", \"2021-01-04T00:00:00\", \"2021-01-05T00:00:00\", \"2021-01-06T00:00:00\", \"2021-01-07T00:00:00\", \"2021-01-08T00:00:00\", \"2021-01-09T00:00:00\", \"2021-01-10T00:00:00\", \"2021-01-11T00:00:00\", \"2021-01-12T00:00:00\", \"2021-01-13T00:00:00\", \"2021-01-14T00:00:00\", \"2021-01-15T00:00:00\", \"2021-01-16T00:00:00\", \"2021-01-17T00:00:00\", \"2021-01-18T00:00:00\", \"2021-01-19T00:00:00\"], \"y\": [81.0, 81.0, 81.96, 83.81267162790697, 86.49765691883698, 89.96085054627936, 94.15375338069231, 99.03289027914133, 104.55928571994758, 110.69799153552786, 117.41766157179528, 124.69016862005415, 132.49025943302598, 140.79524405567346, 149.58471607851533, 158.8403007603479, 168.545428272492, 178.68512959127114, 189.24585281246195, 200.21529788369875, 211.5822679507441, 223.33653569338873, 235.46872318853042, 247.9701939835106, 260.83295619369017, 274.04957555598753, 287.6130974760032, 301.516977201604, 315.7550173415044, 330.3213120244274, 345.2101970637161, 360.4162055545824, 375.9340283872193, 391.75847920940373, 407.8844634175422, 424.30695079587565, 441.0209514602239, 458.02149479562354, 475.303611106877, 492.8623157277111, 510.69259535824983, 528.7893964221055, 547.147615253832, 565.7620899449817, 584.6275936927598, 603.7388295094611, 623.0904261636538, 642.6769352355973, 662.4928291797675, 682.5325002967336, 702.7902605250918, 723.2603419717971, 743.9368981061466, 764.8140055489113, 785.8856663937727, 807.1458110033511, 828.5883012267639, 850.2069339898803, 871.9954452132918, 893.9475140165139, 916.0567671701435, 938.3167837606117, 960.7211000348551, 983.263214394683, 1005.9365925128744, 1028.734672545121, 1051.6508704138491, 1074.6785851417328, 1097.8112042143491, 1121.0421089529639, 1144.3646798798538, 1167.7723020599003, 1191.2583704034341, 1214.8162949164707, 1238.4395058855698, 1262.1214589855813, 1285.855640299506, 1309.635571240613, 1333.4548133678222, 1357.3069730861735, 1381.185706224983, 1405.08472248702, 1428.9977897627332, 1452.9187383042236, 1476.8414647542857, 1500.7599360264414, 1524.6681930324598, 1548.5603542543972, 1572.4306191587098, 1596.2732714504762, 1620.0826821662392, 1643.8533126044113, 1667.5797170926107, 1691.2565455916942, 1714.8785461366213, 1738.4405671146471, 1761.9375593816721, 1785.3645782178914, 1808.7167851241857, 1831.9894494609712, 1855.1779499314857, 1878.2777759117325, 1901.2845286295235, 1924.1939221952794, 1947.0017844874278, 1969.704057895425, 1992.2967999235798, 2014.776183659013, 2037.138498107211, 2059.380148398753, 2081.497655870895, 2103.4876580277855, 2125.3469083831696, 2147.0722761894945, 2168.6607460574023, 2190.109417469622, 2211.4155041933163, 2232.5763335949628, 2253.5893458618525, 2274.4520931343063, 2295.1622385526944, 2315.717555223335, 2336.1159251073286, 2356.3553378363554, 2376.43388945942, 2396.349781124503, 2416.1013176990127, 2435.6869063328854, 2455.105054968122, 2474.354370798488, 2493.433558683026, 2512.341419516969, 2531.076848563557, 2549.6388337501844, 2568.026453932221, 2586.2388771277674, 2604.2753587265124, 2622.135239675774, 2639.8179446467134, 2657.322980183621, 2674.64993283907, 2691.7984672976536, 2708.768324490912, 2725.5593197059684, 2742.171340690291, 2758.6043457549117, 2774.858361878323, 2790.933482813192, 2806.829867197927, 2822.547736675049, 2838.087374018211, 2853.449121269636, 2868.633377889641, 2883.640598919825, 2898.47129316143, 2913.126021370264, 2927.6053944695323, 2941.9100717818037, 2956.0407592812853, 2969.9982078674816, 2983.7832116612544, 2997.3966063242087, 3010.8392674022703, 3024.112108694244, 3037.216080646077, 3050.15216877148, 3062.9213920995, 3075.524801649581, 3087.9634789345764, 3100.2385344921304, 3112.35110644479, 3124.30235908915, 3136.0934815142896, 3147.7256862497043, 3159.200207942894, 3170.518302066726, 3181.68124365664, 3192.6903260777344, 3203.5468598217217, 3214.252171333715, 3224.807601868768, 3235.214506378056, 3245.474252424559, 3255.588219128079, 3265.557796139388, 3275.3843826432894, 3285.069386390344, 3294.614222756985, 3304.0203138337406, 3313.2890875412463, 3322.4219767737195, 3331.4204185695517, 3340.2858533086596, 3349.019723936216, 3357.6234752123755, 3366.0985529875948, 3374.4464035031388, 3382.668472716351, 3390.7662056502636, 3398.7410457671094, 3406.594434365298, 3414.3278099994072, 3421.9426079227355, 3429.440259551971, 3436.822191953507, 3444.089827350953, 3451.2445826533753, 3458.2878690038106, 3465.221091347582, 3472.045648019965, 3478.762930352739, 3485.3743222991648, 3491.8812000769335, 3498.284931828632, 3504.5868772992762, 3510.7883875304597, 3516.890804570681, 3522.8954612014063, 3528.8036806784307, 3534.616776488116, 3540.336052118073, 3545.96280084187, 3551.4983055173593, 3556.943838398208, 3562.3006609582326, 3567.570023728147, 3572.7531661443263, 3577.851316409211, 3582.865691362972, 3587.7974963660686, 3592.6479251923365, 3597.4181599322515, 3602.1093709060165, 3606.722716586137, 3611.259343529142, 3615.7203863161335, 3620.1069675018325, 3624.4201975718165, 3628.6611749076405, 3632.83098575954, 3636.930704226425, 3640.961392242881, 3644.9240995728983, 3648.8198638100544, 3652.6497103838924, 3656.4146525722304, 3660.115691519154, 3663.753816258449, 3667.330003742233, 3670.8452188745555]}, {\"line\": {\"width\": 2}, \"marker\": {\"size\": 6}, \"mode\": \"lines+markers\", \"name\": \"Deaths Jalisco (Data as occurred)\", \"opacity\": 1, \"type\": \"scatter\", \"x\": [\"2020-05-15\", \"2020-05-16\", \"2020-05-17\", \"2020-05-18\", \"2020-05-19\", \"2020-05-20\", \"2020-05-21\", \"2020-05-22\", \"2020-05-23\", \"2020-05-24\", \"2020-05-25\", \"2020-05-26\", \"2020-05-27\", \"2020-05-28\", \"2020-05-29\", \"2020-05-30\", \"2020-05-31\", \"2020-06-01\", \"2020-06-02\", \"2020-06-03\", \"2020-06-04\", \"2020-06-05\", \"2020-06-06\", \"2020-06-07\", \"2020-06-08\", \"2020-06-09\", \"2020-06-10\", \"2020-06-11\", \"2020-06-12\", \"2020-06-13\", \"2020-06-14\", \"2020-06-15\", \"2020-06-16\", \"2020-06-17\", \"2020-06-18\", \"2020-06-19\", \"2020-06-20\", \"2020-06-21\", \"2020-06-22\", \"2020-06-23\", \"2020-06-24\", \"2020-06-25\", \"2020-06-26\", \"2020-06-27\", \"2020-06-28\", \"2020-06-29\", \"2020-06-30\", \"2020-07-01\"], \"y\": [81.0, 90.0, 95.0, 98.0, 99.0, 105.0, 114.0, 116.0, 120.0, 123.0, 131.0, 136.0, 140.0, 143.0, 148.0, 162.0, 172.0, 192.0, 203.0, 221.0, 244.0, 261.0, 278.0, 299.0, 313.0, 339.0, 353.0, 377.0, 405.0, 419.0, 446.0, 464.0, 488.0, 518.0, 535.0, 559.0, 585.0, 611.0, 632.0, 659.0, 686.0, 715.0, 734.0, 757.0, 784.0, 818.0, 838.0, 870.0]}],\n",
       "                        {\"legend\": {\"bgcolor\": \"rgba(0,0,0,0)\", \"font\": {\"family\": \"sans-serif\", \"size\": 14}, \"traceorder\": \"normal\", \"x\": 0.1, \"y\": 0.95}, \"showlegend\": true, \"template\": {\"data\": {\"bar\": [{\"error_x\": {\"color\": \"#2a3f5f\"}, \"error_y\": {\"color\": \"#2a3f5f\"}, \"marker\": {\"line\": {\"color\": \"#E5ECF6\", \"width\": 0.5}}, \"type\": \"bar\"}], \"barpolar\": [{\"marker\": {\"line\": {\"color\": \"#E5ECF6\", \"width\": 0.5}}, \"type\": \"barpolar\"}], \"carpet\": [{\"aaxis\": {\"endlinecolor\": \"#2a3f5f\", \"gridcolor\": \"white\", \"linecolor\": \"white\", \"minorgridcolor\": \"white\", \"startlinecolor\": \"#2a3f5f\"}, \"baxis\": {\"endlinecolor\": \"#2a3f5f\", \"gridcolor\": \"white\", \"linecolor\": \"white\", \"minorgridcolor\": \"white\", \"startlinecolor\": \"#2a3f5f\"}, \"type\": \"carpet\"}], \"choropleth\": [{\"colorbar\": {\"outlinewidth\": 0, \"ticks\": \"\"}, \"type\": \"choropleth\"}], \"contour\": [{\"colorbar\": {\"outlinewidth\": 0, \"ticks\": \"\"}, \"colorscale\": [[0.0, \"#0d0887\"], [0.1111111111111111, \"#46039f\"], [0.2222222222222222, \"#7201a8\"], [0.3333333333333333, \"#9c179e\"], [0.4444444444444444, \"#bd3786\"], [0.5555555555555556, \"#d8576b\"], [0.6666666666666666, \"#ed7953\"], [0.7777777777777778, \"#fb9f3a\"], [0.8888888888888888, \"#fdca26\"], [1.0, \"#f0f921\"]], \"type\": \"contour\"}], \"contourcarpet\": [{\"colorbar\": {\"outlinewidth\": 0, \"ticks\": \"\"}, \"type\": \"contourcarpet\"}], \"heatmap\": [{\"colorbar\": {\"outlinewidth\": 0, \"ticks\": \"\"}, \"colorscale\": [[0.0, \"#0d0887\"], [0.1111111111111111, \"#46039f\"], [0.2222222222222222, \"#7201a8\"], [0.3333333333333333, \"#9c179e\"], [0.4444444444444444, \"#bd3786\"], [0.5555555555555556, \"#d8576b\"], [0.6666666666666666, \"#ed7953\"], [0.7777777777777778, \"#fb9f3a\"], [0.8888888888888888, \"#fdca26\"], [1.0, \"#f0f921\"]], \"type\": \"heatmap\"}], \"heatmapgl\": [{\"colorbar\": {\"outlinewidth\": 0, \"ticks\": \"\"}, \"colorscale\": [[0.0, \"#0d0887\"], [0.1111111111111111, \"#46039f\"], [0.2222222222222222, \"#7201a8\"], [0.3333333333333333, \"#9c179e\"], [0.4444444444444444, \"#bd3786\"], [0.5555555555555556, \"#d8576b\"], [0.6666666666666666, \"#ed7953\"], [0.7777777777777778, \"#fb9f3a\"], [0.8888888888888888, \"#fdca26\"], [1.0, \"#f0f921\"]], \"type\": \"heatmapgl\"}], \"histogram\": [{\"marker\": {\"colorbar\": {\"outlinewidth\": 0, \"ticks\": \"\"}}, \"type\": \"histogram\"}], \"histogram2d\": [{\"colorbar\": {\"outlinewidth\": 0, \"ticks\": \"\"}, \"colorscale\": [[0.0, \"#0d0887\"], [0.1111111111111111, \"#46039f\"], [0.2222222222222222, \"#7201a8\"], [0.3333333333333333, \"#9c179e\"], [0.4444444444444444, \"#bd3786\"], [0.5555555555555556, \"#d8576b\"], [0.6666666666666666, \"#ed7953\"], [0.7777777777777778, \"#fb9f3a\"], [0.8888888888888888, \"#fdca26\"], [1.0, \"#f0f921\"]], \"type\": \"histogram2d\"}], \"histogram2dcontour\": [{\"colorbar\": {\"outlinewidth\": 0, \"ticks\": \"\"}, \"colorscale\": [[0.0, \"#0d0887\"], [0.1111111111111111, \"#46039f\"], [0.2222222222222222, \"#7201a8\"], [0.3333333333333333, \"#9c179e\"], [0.4444444444444444, \"#bd3786\"], [0.5555555555555556, \"#d8576b\"], [0.6666666666666666, \"#ed7953\"], [0.7777777777777778, \"#fb9f3a\"], [0.8888888888888888, \"#fdca26\"], [1.0, \"#f0f921\"]], \"type\": \"histogram2dcontour\"}], \"mesh3d\": [{\"colorbar\": {\"outlinewidth\": 0, \"ticks\": \"\"}, \"type\": \"mesh3d\"}], \"parcoords\": [{\"line\": {\"colorbar\": {\"outlinewidth\": 0, \"ticks\": \"\"}}, \"type\": \"parcoords\"}], \"pie\": [{\"automargin\": true, \"type\": \"pie\"}], \"scatter\": [{\"marker\": {\"colorbar\": {\"outlinewidth\": 0, \"ticks\": \"\"}}, \"type\": \"scatter\"}], \"scatter3d\": [{\"line\": {\"colorbar\": {\"outlinewidth\": 0, \"ticks\": \"\"}}, \"marker\": {\"colorbar\": {\"outlinewidth\": 0, \"ticks\": \"\"}}, \"type\": \"scatter3d\"}], \"scattercarpet\": [{\"marker\": {\"colorbar\": {\"outlinewidth\": 0, \"ticks\": \"\"}}, \"type\": \"scattercarpet\"}], \"scattergeo\": [{\"marker\": {\"colorbar\": {\"outlinewidth\": 0, \"ticks\": \"\"}}, \"type\": \"scattergeo\"}], \"scattergl\": [{\"marker\": {\"colorbar\": {\"outlinewidth\": 0, \"ticks\": \"\"}}, \"type\": \"scattergl\"}], \"scattermapbox\": [{\"marker\": {\"colorbar\": {\"outlinewidth\": 0, \"ticks\": \"\"}}, \"type\": \"scattermapbox\"}], \"scatterpolar\": [{\"marker\": {\"colorbar\": {\"outlinewidth\": 0, \"ticks\": \"\"}}, \"type\": \"scatterpolar\"}], \"scatterpolargl\": [{\"marker\": {\"colorbar\": {\"outlinewidth\": 0, \"ticks\": \"\"}}, \"type\": \"scatterpolargl\"}], \"scatterternary\": [{\"marker\": {\"colorbar\": {\"outlinewidth\": 0, \"ticks\": \"\"}}, \"type\": \"scatterternary\"}], \"surface\": [{\"colorbar\": {\"outlinewidth\": 0, \"ticks\": \"\"}, \"colorscale\": [[0.0, \"#0d0887\"], [0.1111111111111111, \"#46039f\"], [0.2222222222222222, \"#7201a8\"], [0.3333333333333333, \"#9c179e\"], [0.4444444444444444, \"#bd3786\"], [0.5555555555555556, \"#d8576b\"], [0.6666666666666666, \"#ed7953\"], [0.7777777777777778, \"#fb9f3a\"], [0.8888888888888888, \"#fdca26\"], [1.0, \"#f0f921\"]], \"type\": \"surface\"}], \"table\": [{\"cells\": {\"fill\": {\"color\": \"#EBF0F8\"}, \"line\": {\"color\": \"white\"}}, \"header\": {\"fill\": {\"color\": \"#C8D4E3\"}, \"line\": {\"color\": \"white\"}}, \"type\": \"table\"}]}, \"layout\": {\"annotationdefaults\": {\"arrowcolor\": \"#2a3f5f\", \"arrowhead\": 0, \"arrowwidth\": 1}, \"coloraxis\": {\"colorbar\": {\"outlinewidth\": 0, \"ticks\": \"\"}}, \"colorscale\": {\"diverging\": [[0, \"#8e0152\"], [0.1, \"#c51b7d\"], [0.2, \"#de77ae\"], [0.3, \"#f1b6da\"], [0.4, \"#fde0ef\"], [0.5, \"#f7f7f7\"], [0.6, \"#e6f5d0\"], [0.7, \"#b8e186\"], [0.8, \"#7fbc41\"], [0.9, \"#4d9221\"], [1, \"#276419\"]], \"sequential\": [[0.0, \"#0d0887\"], [0.1111111111111111, \"#46039f\"], [0.2222222222222222, \"#7201a8\"], [0.3333333333333333, \"#9c179e\"], [0.4444444444444444, \"#bd3786\"], [0.5555555555555556, \"#d8576b\"], [0.6666666666666666, \"#ed7953\"], [0.7777777777777778, \"#fb9f3a\"], [0.8888888888888888, \"#fdca26\"], [1.0, \"#f0f921\"]], \"sequentialminus\": [[0.0, \"#0d0887\"], [0.1111111111111111, \"#46039f\"], [0.2222222222222222, \"#7201a8\"], [0.3333333333333333, \"#9c179e\"], [0.4444444444444444, \"#bd3786\"], [0.5555555555555556, \"#d8576b\"], [0.6666666666666666, \"#ed7953\"], [0.7777777777777778, \"#fb9f3a\"], [0.8888888888888888, \"#fdca26\"], [1.0, \"#f0f921\"]]}, \"colorway\": [\"#636efa\", \"#EF553B\", \"#00cc96\", \"#ab63fa\", \"#FFA15A\", \"#19d3f3\", \"#FF6692\", \"#B6E880\", \"#FF97FF\", \"#FECB52\"], \"font\": {\"color\": \"#2a3f5f\"}, \"geo\": {\"bgcolor\": \"white\", \"lakecolor\": \"white\", \"landcolor\": \"#E5ECF6\", \"showlakes\": true, \"showland\": true, \"subunitcolor\": \"white\"}, \"hoverlabel\": {\"align\": \"left\"}, \"hovermode\": \"closest\", \"mapbox\": {\"style\": \"light\"}, \"paper_bgcolor\": \"white\", \"plot_bgcolor\": \"#E5ECF6\", \"polar\": {\"angularaxis\": {\"gridcolor\": \"white\", \"linecolor\": \"white\", \"ticks\": \"\"}, \"bgcolor\": \"#E5ECF6\", \"radialaxis\": {\"gridcolor\": \"white\", \"linecolor\": \"white\", \"ticks\": \"\"}}, \"scene\": {\"xaxis\": {\"backgroundcolor\": \"#E5ECF6\", \"gridcolor\": \"white\", \"gridwidth\": 2, \"linecolor\": \"white\", \"showbackground\": true, \"ticks\": \"\", \"zerolinecolor\": \"white\"}, \"yaxis\": {\"backgroundcolor\": \"#E5ECF6\", \"gridcolor\": \"white\", \"gridwidth\": 2, \"linecolor\": \"white\", \"showbackground\": true, \"ticks\": \"\", \"zerolinecolor\": \"white\"}, \"zaxis\": {\"backgroundcolor\": \"#E5ECF6\", \"gridcolor\": \"white\", \"gridwidth\": 2, \"linecolor\": \"white\", \"showbackground\": true, \"ticks\": \"\", \"zerolinecolor\": \"white\"}}, \"shapedefaults\": {\"line\": {\"color\": \"#2a3f5f\"}}, \"ternary\": {\"aaxis\": {\"gridcolor\": \"white\", \"linecolor\": \"white\", \"ticks\": \"\"}, \"baxis\": {\"gridcolor\": \"white\", \"linecolor\": \"white\", \"ticks\": \"\"}, \"bgcolor\": \"#E5ECF6\", \"caxis\": {\"gridcolor\": \"white\", \"linecolor\": \"white\", \"ticks\": \"\"}}, \"title\": {\"x\": 0.05}, \"xaxis\": {\"automargin\": true, \"gridcolor\": \"white\", \"linecolor\": \"white\", \"ticks\": \"\", \"title\": {\"standoff\": 15}, \"zerolinecolor\": \"white\", \"zerolinewidth\": 2}, \"yaxis\": {\"automargin\": true, \"gridcolor\": \"white\", \"linecolor\": \"white\", \"ticks\": \"\", \"title\": {\"standoff\": 15}, \"zerolinecolor\": \"white\", \"zerolinewidth\": 2}}}, \"title\": {\"text\": \"Model/Data Jalisco - deaths\", \"x\": 0.5}, \"yaxis\": {\"type\": \"linear\"}},\n",
       "                        {\"responsive\": true}\n",
       "                    ).then(function(){\n",
       "                            \n",
       "var gd = document.getElementById('633f99f5-dfc2-433b-bcdb-763b1efdfb85');\n",
       "var x = new MutationObserver(function (mutations, observer) {{\n",
       "        var display = window.getComputedStyle(gd).display;\n",
       "        if (!display || display === 'none') {{\n",
       "            console.log([gd, 'removed!']);\n",
       "            Plotly.purge(gd);\n",
       "            observer.disconnect();\n",
       "        }}\n",
       "}});\n",
       "\n",
       "// Listen for the removal of the full notebook cells\n",
       "var notebookContainer = gd.closest('#notebook-container');\n",
       "if (notebookContainer) {{\n",
       "    x.observe(notebookContainer, {childList: true});\n",
       "}}\n",
       "\n",
       "// Listen for the clearing of the current output cell\n",
       "var outputEl = gd.closest('.output');\n",
       "if (outputEl) {{\n",
       "    x.observe(outputEl, {childList: true});\n",
       "}}\n",
       "\n",
       "                        })\n",
       "                };\n",
       "                });\n",
       "            </script>\n",
       "        </div>"
      ]
     },
     "metadata": {},
     "output_type": "display_data"
    }
   ],
   "source": [
    "# Example 5 - variable contact rate hospitalizations with capacity constraints\n",
    "\n",
    "Ri= 1.15      # initial reproduction rate\n",
    "Rf= 0.95      # final reproduction rate as if 0 infected: S/P=1\n",
    "λ = 0.015     # behavioral param\n",
    "sc= 5        # scale parameter\n",
    "\n",
    "I0= 960*sc\n",
    "D0= 81\n",
    "\n",
    "\n",
    "γ = 0.200     # n days while infectious; 1/n\n",
    "θ = 0.100     # n days for a case to resolve; 1/n\n",
    "δ = 0.01      # death rate\n",
    "βi= Ri*γ      # initial contact rate\n",
    "βf= Rf*γ      # final contact rate as if 0 infected: S/P=1\n",
    "\n",
    "α0 = 0.00     # severe symptoms\n",
    "α1 = 0.03     # severe symptoms: days to recuperate\n",
    "μ  = 0.10     # hospital constraint\n",
    "δ1 = 10*δ     # death rate in severe symptoms if not treated\n",
    "\n",
    "# Functions\n",
    "def Sp(S,I,P,β):\n",
    "    return S - β*S*I/P\n",
    "def Ip(S,I,N,β):\n",
    "    return I + β*S*I/P - γ*I\n",
    "def Rp(R,I):\n",
    "    return R + γ*(1-α0)*I - θ*R\n",
    "\n",
    "def Hp(H,entries):\n",
    "    return H + entries - α1*H  # γ*α0*I\n",
    "def Up(U,entries):\n",
    "    return U + entries - θ*U\n",
    "\n",
    "def Cp(C,R,H,U):\n",
    "    return C + (1-δ)*θ*R + α1*H + (1-δ1)*θ*U\n",
    "def Dp(D,R,U):\n",
    "    return D + δ*θ*R + δ1*θ*U\n",
    "def Pp(P,R):\n",
    "    return P - δ*θ*R\n",
    "\n",
    "def Beta(t):\n",
    "    return βi*np.exp(-λ*t) + βf*(1-np.exp(-λ*t))\n",
    "\n",
    "def Rt(S,P,β):\n",
    "    return (β*S/P)/γ\n",
    "\n",
    "# Inital values\n",
    "P = 8256000\n",
    "I = I0\n",
    "S = P-I\n",
    "R = 0\n",
    "H = 0\n",
    "U = 0\n",
    "C = 0\n",
    "D = D0\n",
    "β = βi\n",
    "Rc = Ri\n",
    "\n",
    "# Simulation\n",
    "t = 300\n",
    "x = np.empty([t,13])\n",
    "\n",
    "for i in range(0,t):    \n",
    "    β  = Beta(i)    \n",
    "    S1 = Sp(S,I,P,β)\n",
    "    I1 = Ip(S,I,P,β)\n",
    "    R1 = Rp(R,I)    \n",
    "    C1 = Cp(C,R,H,U)\n",
    "    D1 = Dp(D,R,U)\n",
    "    P1 = Pp(P,R)\n",
    "    Rc = Rt(S,P,β)\n",
    "\n",
    "    entries = γ*α0*I\n",
    "    H1 = Hp(H,entries)    \n",
    "    if H1 > μ*P:\n",
    "        entriesH = μ*P - H*(1-α1)\n",
    "        entriesU = entries - entriesH\n",
    "    else:\n",
    "        entriesH = entries\n",
    "        entriesU = 0\n",
    "        \n",
    "    H1 = Hp(H,entriesH)\n",
    "    U1 = Up(U,entriesU)\n",
    "\n",
    "    \n",
    "    x[i,:] = [i,-(S1-S),S,I,R,H,U,C,D,P,P-S1,Rc,β]\n",
    "    \n",
    "    S = S1\n",
    "    I = I1\n",
    "    R = R1\n",
    "    H = H1\n",
    "    U = U1\n",
    "    C = C1\n",
    "    D = D1\n",
    "    P = P1\n",
    "    \n",
    "df5 = pd.DataFrame(data=x)\n",
    "df5.columns = ['time','NewInf','Susc','Inf','Resol','Hospital','Untreated','Recup','Deaths','Pop','Cases','Rt','βt']\n",
    "\n",
    "df5['date'] = mx2.date\n",
    "df5.loc[len(mx2)-1:len(df5),'date'] = pd.date_range(start=mx2.date.iloc[-1],periods=(len(df5)-len(mx2)+1))\n",
    "df5['date'] = pd.to_datetime(df5['date'])\n",
    "\n",
    "tbound = 250\n",
    "fig = go.Figure()\n",
    "\n",
    "fig.add_trace(go.Scatter(\n",
    "    x=df5[df5.time<tbound]['date'],\n",
    "    y=df5[df5.time<tbound]['Deaths'],\n",
    "    name='Deaths Jalisco (Model #5)',\n",
    "    mode='lines+markers',line_width=2,marker_size=6,opacity=1))\n",
    "\n",
    "fig.add_trace(go.Scatter(\n",
    "    x=mx2['date'],\n",
    "    y=mx2['Deaths_Jalisco'],\n",
    "    name='Deaths Jalisco (Data as occurred)',\n",
    "    mode='lines+markers',line_width=2,marker_size=6,opacity=1))\n",
    "\n",
    "fig.update_layout(\n",
    "    title=\"Model/Data Jalisco - deaths\",\n",
    "    title_x=0.5,showlegend=True,yaxis = {'type': 'linear'},\n",
    "    legend=dict(\n",
    "            x=0.10,y=0.95,\n",
    "            traceorder=\"normal\",font=dict(family=\"sans-serif\",size=14),bgcolor='rgba(0,0,0,0)'),)\n",
    "\n",
    "fig.show()\n"
   ]
  },
  {
   "cell_type": "code",
   "execution_count": 401,
   "metadata": {},
   "outputs": [
    {
     "data": {
      "text/html": [
       "<div>\n",
       "<style scoped>\n",
       "    .dataframe tbody tr th:only-of-type {\n",
       "        vertical-align: middle;\n",
       "    }\n",
       "\n",
       "    .dataframe tbody tr th {\n",
       "        vertical-align: top;\n",
       "    }\n",
       "\n",
       "    .dataframe thead th {\n",
       "        text-align: right;\n",
       "    }\n",
       "</style>\n",
       "<table border=\"1\" class=\"dataframe\">\n",
       "  <thead>\n",
       "    <tr style=\"text-align: right;\">\n",
       "      <th></th>\n",
       "      <th>index</th>\n",
       "      <th>date</th>\n",
       "      <th>Cases_Mexico</th>\n",
       "      <th>Cases_Jalisco</th>\n",
       "      <th>Deaths_Mexico</th>\n",
       "      <th>Deaths_Jalisco</th>\n",
       "    </tr>\n",
       "  </thead>\n",
       "  <tbody>\n",
       "    <tr>\n",
       "      <th>0</th>\n",
       "      <td>78</td>\n",
       "      <td>2020-05-15</td>\n",
       "      <td>62642</td>\n",
       "      <td>960.0</td>\n",
       "      <td>8593.0</td>\n",
       "      <td>81.0</td>\n",
       "    </tr>\n",
       "    <tr>\n",
       "      <th>1</th>\n",
       "      <td>79</td>\n",
       "      <td>2020-05-16</td>\n",
       "      <td>64764</td>\n",
       "      <td>979.0</td>\n",
       "      <td>8992.0</td>\n",
       "      <td>90.0</td>\n",
       "    </tr>\n",
       "    <tr>\n",
       "      <th>2</th>\n",
       "      <td>80</td>\n",
       "      <td>2020-05-17</td>\n",
       "      <td>66368</td>\n",
       "      <td>1010.0</td>\n",
       "      <td>9449.0</td>\n",
       "      <td>95.0</td>\n",
       "    </tr>\n",
       "    <tr>\n",
       "      <th>3</th>\n",
       "      <td>81</td>\n",
       "      <td>2020-05-18</td>\n",
       "      <td>70330</td>\n",
       "      <td>1068.0</td>\n",
       "      <td>9905.0</td>\n",
       "      <td>98.0</td>\n",
       "    </tr>\n",
       "    <tr>\n",
       "      <th>4</th>\n",
       "      <td>82</td>\n",
       "      <td>2020-05-19</td>\n",
       "      <td>73845</td>\n",
       "      <td>1143.0</td>\n",
       "      <td>10368.0</td>\n",
       "      <td>99.0</td>\n",
       "    </tr>\n",
       "    <tr>\n",
       "      <th>5</th>\n",
       "      <td>83</td>\n",
       "      <td>2020-05-20</td>\n",
       "      <td>77702</td>\n",
       "      <td>1207.0</td>\n",
       "      <td>10832.0</td>\n",
       "      <td>105.0</td>\n",
       "    </tr>\n",
       "    <tr>\n",
       "      <th>6</th>\n",
       "      <td>84</td>\n",
       "      <td>2020-05-21</td>\n",
       "      <td>81640</td>\n",
       "      <td>1271.0</td>\n",
       "      <td>11287.0</td>\n",
       "      <td>114.0</td>\n",
       "    </tr>\n",
       "    <tr>\n",
       "      <th>7</th>\n",
       "      <td>85</td>\n",
       "      <td>2020-05-22</td>\n",
       "      <td>85570</td>\n",
       "      <td>1346.0</td>\n",
       "      <td>11731.0</td>\n",
       "      <td>116.0</td>\n",
       "    </tr>\n",
       "    <tr>\n",
       "      <th>8</th>\n",
       "      <td>86</td>\n",
       "      <td>2020-05-23</td>\n",
       "      <td>87802</td>\n",
       "      <td>1389.0</td>\n",
       "      <td>12174.0</td>\n",
       "      <td>120.0</td>\n",
       "    </tr>\n",
       "    <tr>\n",
       "      <th>9</th>\n",
       "      <td>87</td>\n",
       "      <td>2020-05-24</td>\n",
       "      <td>89647</td>\n",
       "      <td>1427.0</td>\n",
       "      <td>12651.0</td>\n",
       "      <td>123.0</td>\n",
       "    </tr>\n",
       "    <tr>\n",
       "      <th>10</th>\n",
       "      <td>88</td>\n",
       "      <td>2020-05-25</td>\n",
       "      <td>94209</td>\n",
       "      <td>1522.0</td>\n",
       "      <td>13146.0</td>\n",
       "      <td>131.0</td>\n",
       "    </tr>\n",
       "    <tr>\n",
       "      <th>11</th>\n",
       "      <td>89</td>\n",
       "      <td>2020-05-26</td>\n",
       "      <td>98500</td>\n",
       "      <td>1652.0</td>\n",
       "      <td>13640.0</td>\n",
       "      <td>136.0</td>\n",
       "    </tr>\n",
       "    <tr>\n",
       "      <th>12</th>\n",
       "      <td>90</td>\n",
       "      <td>2020-05-27</td>\n",
       "      <td>102926</td>\n",
       "      <td>1794.0</td>\n",
       "      <td>14108.0</td>\n",
       "      <td>140.0</td>\n",
       "    </tr>\n",
       "    <tr>\n",
       "      <th>13</th>\n",
       "      <td>91</td>\n",
       "      <td>2020-05-28</td>\n",
       "      <td>107101</td>\n",
       "      <td>1920.0</td>\n",
       "      <td>14605.0</td>\n",
       "      <td>143.0</td>\n",
       "    </tr>\n",
       "    <tr>\n",
       "      <th>14</th>\n",
       "      <td>92</td>\n",
       "      <td>2020-05-29</td>\n",
       "      <td>111397</td>\n",
       "      <td>2089.0</td>\n",
       "      <td>15058.0</td>\n",
       "      <td>148.0</td>\n",
       "    </tr>\n",
       "    <tr>\n",
       "      <th>15</th>\n",
       "      <td>93</td>\n",
       "      <td>2020-05-30</td>\n",
       "      <td>114076</td>\n",
       "      <td>2217.0</td>\n",
       "      <td>15559.0</td>\n",
       "      <td>162.0</td>\n",
       "    </tr>\n",
       "    <tr>\n",
       "      <th>16</th>\n",
       "      <td>94</td>\n",
       "      <td>2020-05-31</td>\n",
       "      <td>116115</td>\n",
       "      <td>2303.0</td>\n",
       "      <td>16077.0</td>\n",
       "      <td>172.0</td>\n",
       "    </tr>\n",
       "    <tr>\n",
       "      <th>17</th>\n",
       "      <td>95</td>\n",
       "      <td>2020-06-01</td>\n",
       "      <td>121319</td>\n",
       "      <td>2533.0</td>\n",
       "      <td>16643.0</td>\n",
       "      <td>192.0</td>\n",
       "    </tr>\n",
       "    <tr>\n",
       "      <th>18</th>\n",
       "      <td>96</td>\n",
       "      <td>2020-06-02</td>\n",
       "      <td>125994</td>\n",
       "      <td>2728.0</td>\n",
       "      <td>17153.0</td>\n",
       "      <td>203.0</td>\n",
       "    </tr>\n",
       "    <tr>\n",
       "      <th>19</th>\n",
       "      <td>97</td>\n",
       "      <td>2020-06-03</td>\n",
       "      <td>130888</td>\n",
       "      <td>2940.0</td>\n",
       "      <td>17704.0</td>\n",
       "      <td>221.0</td>\n",
       "    </tr>\n",
       "    <tr>\n",
       "      <th>20</th>\n",
       "      <td>98</td>\n",
       "      <td>2020-06-04</td>\n",
       "      <td>135715</td>\n",
       "      <td>3120.0</td>\n",
       "      <td>18249.0</td>\n",
       "      <td>244.0</td>\n",
       "    </tr>\n",
       "    <tr>\n",
       "      <th>21</th>\n",
       "      <td>99</td>\n",
       "      <td>2020-06-05</td>\n",
       "      <td>140681</td>\n",
       "      <td>3343.0</td>\n",
       "      <td>18767.0</td>\n",
       "      <td>261.0</td>\n",
       "    </tr>\n",
       "    <tr>\n",
       "      <th>22</th>\n",
       "      <td>100</td>\n",
       "      <td>2020-06-06</td>\n",
       "      <td>143616</td>\n",
       "      <td>3445.0</td>\n",
       "      <td>19324.0</td>\n",
       "      <td>278.0</td>\n",
       "    </tr>\n",
       "    <tr>\n",
       "      <th>23</th>\n",
       "      <td>101</td>\n",
       "      <td>2020-06-07</td>\n",
       "      <td>145912</td>\n",
       "      <td>3517.0</td>\n",
       "      <td>19908.0</td>\n",
       "      <td>299.0</td>\n",
       "    </tr>\n",
       "    <tr>\n",
       "      <th>24</th>\n",
       "      <td>102</td>\n",
       "      <td>2020-06-08</td>\n",
       "      <td>151983</td>\n",
       "      <td>3780.0</td>\n",
       "      <td>20525.0</td>\n",
       "      <td>313.0</td>\n",
       "    </tr>\n",
       "    <tr>\n",
       "      <th>25</th>\n",
       "      <td>103</td>\n",
       "      <td>2020-06-09</td>\n",
       "      <td>157659</td>\n",
       "      <td>4032.0</td>\n",
       "      <td>21107.0</td>\n",
       "      <td>339.0</td>\n",
       "    </tr>\n",
       "    <tr>\n",
       "      <th>26</th>\n",
       "      <td>104</td>\n",
       "      <td>2020-06-10</td>\n",
       "      <td>163305</td>\n",
       "      <td>4280.0</td>\n",
       "      <td>21713.0</td>\n",
       "      <td>353.0</td>\n",
       "    </tr>\n",
       "    <tr>\n",
       "      <th>27</th>\n",
       "      <td>105</td>\n",
       "      <td>2020-06-11</td>\n",
       "      <td>168629</td>\n",
       "      <td>4511.0</td>\n",
       "      <td>22275.0</td>\n",
       "      <td>377.0</td>\n",
       "    </tr>\n",
       "    <tr>\n",
       "      <th>28</th>\n",
       "      <td>106</td>\n",
       "      <td>2020-06-12</td>\n",
       "      <td>174178</td>\n",
       "      <td>4696.0</td>\n",
       "      <td>22901.0</td>\n",
       "      <td>405.0</td>\n",
       "    </tr>\n",
       "    <tr>\n",
       "      <th>29</th>\n",
       "      <td>107</td>\n",
       "      <td>2020-06-13</td>\n",
       "      <td>177192</td>\n",
       "      <td>4815.0</td>\n",
       "      <td>23484.0</td>\n",
       "      <td>419.0</td>\n",
       "    </tr>\n",
       "    <tr>\n",
       "      <th>30</th>\n",
       "      <td>108</td>\n",
       "      <td>2020-06-14</td>\n",
       "      <td>179730</td>\n",
       "      <td>4903.0</td>\n",
       "      <td>24094.0</td>\n",
       "      <td>446.0</td>\n",
       "    </tr>\n",
       "    <tr>\n",
       "      <th>31</th>\n",
       "      <td>109</td>\n",
       "      <td>2020-06-15</td>\n",
       "      <td>186212</td>\n",
       "      <td>5132.0</td>\n",
       "      <td>24701.0</td>\n",
       "      <td>464.0</td>\n",
       "    </tr>\n",
       "    <tr>\n",
       "      <th>32</th>\n",
       "      <td>110</td>\n",
       "      <td>2020-06-16</td>\n",
       "      <td>192550</td>\n",
       "      <td>5351.0</td>\n",
       "      <td>25376.0</td>\n",
       "      <td>488.0</td>\n",
       "    </tr>\n",
       "    <tr>\n",
       "      <th>33</th>\n",
       "      <td>111</td>\n",
       "      <td>2020-06-17</td>\n",
       "      <td>198597</td>\n",
       "      <td>5566.0</td>\n",
       "      <td>26030.0</td>\n",
       "      <td>518.0</td>\n",
       "    </tr>\n",
       "    <tr>\n",
       "      <th>34</th>\n",
       "      <td>112</td>\n",
       "      <td>2020-06-18</td>\n",
       "      <td>204586</td>\n",
       "      <td>5804.0</td>\n",
       "      <td>26617.0</td>\n",
       "      <td>535.0</td>\n",
       "    </tr>\n",
       "    <tr>\n",
       "      <th>35</th>\n",
       "      <td>113</td>\n",
       "      <td>2020-06-19</td>\n",
       "      <td>210614</td>\n",
       "      <td>6002.0</td>\n",
       "      <td>27191.0</td>\n",
       "      <td>559.0</td>\n",
       "    </tr>\n",
       "    <tr>\n",
       "      <th>36</th>\n",
       "      <td>114</td>\n",
       "      <td>2020-06-20</td>\n",
       "      <td>214111</td>\n",
       "      <td>6141.0</td>\n",
       "      <td>27693.0</td>\n",
       "      <td>585.0</td>\n",
       "    </tr>\n",
       "    <tr>\n",
       "      <th>37</th>\n",
       "      <td>115</td>\n",
       "      <td>2020-06-21</td>\n",
       "      <td>216511</td>\n",
       "      <td>6237.0</td>\n",
       "      <td>28278.0</td>\n",
       "      <td>611.0</td>\n",
       "    </tr>\n",
       "    <tr>\n",
       "      <th>38</th>\n",
       "      <td>116</td>\n",
       "      <td>2020-06-22</td>\n",
       "      <td>223292</td>\n",
       "      <td>6464.0</td>\n",
       "      <td>28866.0</td>\n",
       "      <td>632.0</td>\n",
       "    </tr>\n",
       "    <tr>\n",
       "      <th>39</th>\n",
       "      <td>117</td>\n",
       "      <td>2020-06-23</td>\n",
       "      <td>229827</td>\n",
       "      <td>6702.0</td>\n",
       "      <td>29438.0</td>\n",
       "      <td>659.0</td>\n",
       "    </tr>\n",
       "    <tr>\n",
       "      <th>40</th>\n",
       "      <td>118</td>\n",
       "      <td>2020-06-24</td>\n",
       "      <td>236061</td>\n",
       "      <td>6907.0</td>\n",
       "      <td>30000.0</td>\n",
       "      <td>686.0</td>\n",
       "    </tr>\n",
       "    <tr>\n",
       "      <th>41</th>\n",
       "      <td>119</td>\n",
       "      <td>2020-06-25</td>\n",
       "      <td>242237</td>\n",
       "      <td>7088.0</td>\n",
       "      <td>30542.0</td>\n",
       "      <td>715.0</td>\n",
       "    </tr>\n",
       "    <tr>\n",
       "      <th>42</th>\n",
       "      <td>120</td>\n",
       "      <td>2020-06-26</td>\n",
       "      <td>248643</td>\n",
       "      <td>7311.0</td>\n",
       "      <td>31142.0</td>\n",
       "      <td>734.0</td>\n",
       "    </tr>\n",
       "    <tr>\n",
       "      <th>43</th>\n",
       "      <td>121</td>\n",
       "      <td>2020-06-27</td>\n",
       "      <td>252226</td>\n",
       "      <td>7451.0</td>\n",
       "      <td>31737.0</td>\n",
       "      <td>757.0</td>\n",
       "    </tr>\n",
       "    <tr>\n",
       "      <th>44</th>\n",
       "      <td>122</td>\n",
       "      <td>2020-06-28</td>\n",
       "      <td>255088</td>\n",
       "      <td>7560.0</td>\n",
       "      <td>32324.0</td>\n",
       "      <td>784.0</td>\n",
       "    </tr>\n",
       "    <tr>\n",
       "      <th>45</th>\n",
       "      <td>123</td>\n",
       "      <td>2020-06-29</td>\n",
       "      <td>262456</td>\n",
       "      <td>7752.0</td>\n",
       "      <td>32975.0</td>\n",
       "      <td>818.0</td>\n",
       "    </tr>\n",
       "    <tr>\n",
       "      <th>46</th>\n",
       "      <td>124</td>\n",
       "      <td>2020-06-30</td>\n",
       "      <td>269511</td>\n",
       "      <td>7985.0</td>\n",
       "      <td>33595.0</td>\n",
       "      <td>838.0</td>\n",
       "    </tr>\n",
       "    <tr>\n",
       "      <th>47</th>\n",
       "      <td>125</td>\n",
       "      <td>2020-07-01</td>\n",
       "      <td>276943</td>\n",
       "      <td>8190.0</td>\n",
       "      <td>34191.0</td>\n",
       "      <td>870.0</td>\n",
       "    </tr>\n",
       "  </tbody>\n",
       "</table>\n",
       "</div>"
      ],
      "text/plain": [
       "    index        date  Cases_Mexico  Cases_Jalisco  Deaths_Mexico  \\\n",
       "0      78  2020-05-15         62642          960.0         8593.0   \n",
       "1      79  2020-05-16         64764          979.0         8992.0   \n",
       "2      80  2020-05-17         66368         1010.0         9449.0   \n",
       "3      81  2020-05-18         70330         1068.0         9905.0   \n",
       "4      82  2020-05-19         73845         1143.0        10368.0   \n",
       "5      83  2020-05-20         77702         1207.0        10832.0   \n",
       "6      84  2020-05-21         81640         1271.0        11287.0   \n",
       "7      85  2020-05-22         85570         1346.0        11731.0   \n",
       "8      86  2020-05-23         87802         1389.0        12174.0   \n",
       "9      87  2020-05-24         89647         1427.0        12651.0   \n",
       "10     88  2020-05-25         94209         1522.0        13146.0   \n",
       "11     89  2020-05-26         98500         1652.0        13640.0   \n",
       "12     90  2020-05-27        102926         1794.0        14108.0   \n",
       "13     91  2020-05-28        107101         1920.0        14605.0   \n",
       "14     92  2020-05-29        111397         2089.0        15058.0   \n",
       "15     93  2020-05-30        114076         2217.0        15559.0   \n",
       "16     94  2020-05-31        116115         2303.0        16077.0   \n",
       "17     95  2020-06-01        121319         2533.0        16643.0   \n",
       "18     96  2020-06-02        125994         2728.0        17153.0   \n",
       "19     97  2020-06-03        130888         2940.0        17704.0   \n",
       "20     98  2020-06-04        135715         3120.0        18249.0   \n",
       "21     99  2020-06-05        140681         3343.0        18767.0   \n",
       "22    100  2020-06-06        143616         3445.0        19324.0   \n",
       "23    101  2020-06-07        145912         3517.0        19908.0   \n",
       "24    102  2020-06-08        151983         3780.0        20525.0   \n",
       "25    103  2020-06-09        157659         4032.0        21107.0   \n",
       "26    104  2020-06-10        163305         4280.0        21713.0   \n",
       "27    105  2020-06-11        168629         4511.0        22275.0   \n",
       "28    106  2020-06-12        174178         4696.0        22901.0   \n",
       "29    107  2020-06-13        177192         4815.0        23484.0   \n",
       "30    108  2020-06-14        179730         4903.0        24094.0   \n",
       "31    109  2020-06-15        186212         5132.0        24701.0   \n",
       "32    110  2020-06-16        192550         5351.0        25376.0   \n",
       "33    111  2020-06-17        198597         5566.0        26030.0   \n",
       "34    112  2020-06-18        204586         5804.0        26617.0   \n",
       "35    113  2020-06-19        210614         6002.0        27191.0   \n",
       "36    114  2020-06-20        214111         6141.0        27693.0   \n",
       "37    115  2020-06-21        216511         6237.0        28278.0   \n",
       "38    116  2020-06-22        223292         6464.0        28866.0   \n",
       "39    117  2020-06-23        229827         6702.0        29438.0   \n",
       "40    118  2020-06-24        236061         6907.0        30000.0   \n",
       "41    119  2020-06-25        242237         7088.0        30542.0   \n",
       "42    120  2020-06-26        248643         7311.0        31142.0   \n",
       "43    121  2020-06-27        252226         7451.0        31737.0   \n",
       "44    122  2020-06-28        255088         7560.0        32324.0   \n",
       "45    123  2020-06-29        262456         7752.0        32975.0   \n",
       "46    124  2020-06-30        269511         7985.0        33595.0   \n",
       "47    125  2020-07-01        276943         8190.0        34191.0   \n",
       "\n",
       "    Deaths_Jalisco  \n",
       "0             81.0  \n",
       "1             90.0  \n",
       "2             95.0  \n",
       "3             98.0  \n",
       "4             99.0  \n",
       "5            105.0  \n",
       "6            114.0  \n",
       "7            116.0  \n",
       "8            120.0  \n",
       "9            123.0  \n",
       "10           131.0  \n",
       "11           136.0  \n",
       "12           140.0  \n",
       "13           143.0  \n",
       "14           148.0  \n",
       "15           162.0  \n",
       "16           172.0  \n",
       "17           192.0  \n",
       "18           203.0  \n",
       "19           221.0  \n",
       "20           244.0  \n",
       "21           261.0  \n",
       "22           278.0  \n",
       "23           299.0  \n",
       "24           313.0  \n",
       "25           339.0  \n",
       "26           353.0  \n",
       "27           377.0  \n",
       "28           405.0  \n",
       "29           419.0  \n",
       "30           446.0  \n",
       "31           464.0  \n",
       "32           488.0  \n",
       "33           518.0  \n",
       "34           535.0  \n",
       "35           559.0  \n",
       "36           585.0  \n",
       "37           611.0  \n",
       "38           632.0  \n",
       "39           659.0  \n",
       "40           686.0  \n",
       "41           715.0  \n",
       "42           734.0  \n",
       "43           757.0  \n",
       "44           784.0  \n",
       "45           818.0  \n",
       "46           838.0  \n",
       "47           870.0  "
      ]
     },
     "execution_count": 401,
     "metadata": {},
     "output_type": "execute_result"
    }
   ],
   "source": [
    "mx2"
   ]
  },
  {
   "cell_type": "code",
   "execution_count": 282,
   "metadata": {},
   "outputs": [],
   "source": [
    "# Estimation/Data fit example - deaths as occurred\n",
    "\n",
    "grid_ri = np.linspace(1.30 , 1.05 , num=8)\n",
    "grid_rf = np.linspace(0.90 , 1.05 , num=8)\n",
    "grid_lp = np.linspace(0.005, 0.025, num=8)\n",
    "grid_sc = np.linspace(3    , 15  , num=8)\n",
    "\n",
    "dist    = 100000000000\n",
    "\n",
    "for iri in range(0,len(grid_ri)):\n",
    "    for irf in range(0,len(grid_rf)):\n",
    "        for ilp in range(0,len(grid_lp)):\n",
    "            for isc in range(0,len(grid_sc)):\n",
    "                Ri= grid_ri[iri]      # initial reproduction rate\n",
    "                Rf= grid_rf[irf]      # final reproduction rate as if 0 infected: S/P=1\n",
    "                λ = grid_lp[ilp]      # behavioral param\n",
    "                sc= grid_sc[isc]      # scale parameter\n",
    "                \n",
    "                %run -i 'BSIR_baseline.py'\n",
    "                \n",
    "                #distc = sum(np.power((np.log(df5[(df5['date']>='2020-04-01') & (df5['date']<='2020-08-31')]['Deaths']) - \\\n",
    "                #                     np.log(mx[ (mx[ 'date']>='2020-04-01') & (mx[ 'date']<='2020-08-31')]['Deaths'])),2))\n",
    "                distc = sum(np.power(((df5[(df5['date']>='2020-06-01') & (df5['date']<='2020-07-01')]['Deaths']) - \\\n",
    "                                     (mx2[ (mx2[ 'date']>='2020-06-01') & (mx2[ 'date']<='2020-07-01')]['Deaths_Jalisco'])),2))\n",
    "                if distc < dist:\n",
    "                    dist = distc\n",
    "                    irimax = iri\n",
    "                    irfmax = irf\n",
    "                    ilpmax = ilp\n",
    "                    iscmax = isc\n",
    "                \n",
    "                \n",
    "    \n",
    "    \n",
    "\n"
   ]
  },
  {
   "cell_type": "code",
   "execution_count": 283,
   "metadata": {},
   "outputs": [
    {
     "name": "stdout",
     "output_type": "stream",
     "text": [
      "2562.8677840177684 3 4 7 2\n",
      "2562.8677840177684 1.1928571428571428 0.9857142857142858 0.025 6.428571428571429\n"
     ]
    }
   ],
   "source": [
    "print(dist,irimax,irfmax,ilpmax,iscmax)\n",
    "print(dist,grid_ri[irimax],grid_rf[irfmax],grid_lp[ilpmax],grid_sc[iscmax])"
   ]
  },
  {
   "cell_type": "code",
   "execution_count": 284,
   "metadata": {},
   "outputs": [],
   "source": [
    "Ri= grid_ri[irimax]      # initial reproduction rate\n",
    "Rf= grid_rf[irfmax]      # final reproduction rate as if 0 infected: S/P=1\n",
    "λ = grid_lp[ilpmax]      # behavioral param\n",
    "sc= grid_sc[iscmax]      # scale parameter\n",
    "%run -i 'BSIR_baseline.py'"
   ]
  },
  {
   "cell_type": "code",
   "execution_count": 285,
   "metadata": {},
   "outputs": [
    {
     "data": {
      "application/vnd.plotly.v1+json": {
       "config": {
        "plotlyServerURL": "https://plot.ly"
       },
       "data": [
        {
         "line": {
          "width": 2
         },
         "marker": {
          "size": 6
         },
         "mode": "lines+markers",
         "name": "Deaths Jalisco (Model #5)",
         "opacity": 1,
         "type": "scatter",
         "x": [
          "2020-05-15T00:00:00",
          "2020-05-16T00:00:00",
          "2020-05-17T00:00:00",
          "2020-05-18T00:00:00",
          "2020-05-19T00:00:00",
          "2020-05-20T00:00:00",
          "2020-05-21T00:00:00",
          "2020-05-22T00:00:00",
          "2020-05-23T00:00:00",
          "2020-05-24T00:00:00",
          "2020-05-25T00:00:00",
          "2020-05-26T00:00:00",
          "2020-05-27T00:00:00",
          "2020-05-28T00:00:00",
          "2020-05-29T00:00:00",
          "2020-05-30T00:00:00",
          "2020-05-31T00:00:00",
          "2020-06-01T00:00:00",
          "2020-06-02T00:00:00",
          "2020-06-03T00:00:00",
          "2020-06-04T00:00:00",
          "2020-06-05T00:00:00",
          "2020-06-06T00:00:00",
          "2020-06-07T00:00:00",
          "2020-06-08T00:00:00",
          "2020-06-09T00:00:00",
          "2020-06-10T00:00:00",
          "2020-06-11T00:00:00",
          "2020-06-12T00:00:00",
          "2020-06-13T00:00:00",
          "2020-06-14T00:00:00",
          "2020-06-15T00:00:00",
          "2020-06-16T00:00:00",
          "2020-06-17T00:00:00",
          "2020-06-18T00:00:00",
          "2020-06-19T00:00:00",
          "2020-06-20T00:00:00",
          "2020-06-21T00:00:00",
          "2020-06-22T00:00:00",
          "2020-06-23T00:00:00",
          "2020-06-24T00:00:00",
          "2020-06-25T00:00:00",
          "2020-06-26T00:00:00",
          "2020-06-27T00:00:00",
          "2020-06-28T00:00:00",
          "2020-06-29T00:00:00",
          "2020-06-30T00:00:00",
          "2020-07-01T00:00:00",
          "2020-07-02T00:00:00",
          "2020-07-03T00:00:00",
          "2020-07-04T00:00:00",
          "2020-07-05T00:00:00",
          "2020-07-06T00:00:00",
          "2020-07-07T00:00:00",
          "2020-07-08T00:00:00",
          "2020-07-09T00:00:00",
          "2020-07-10T00:00:00",
          "2020-07-11T00:00:00",
          "2020-07-12T00:00:00",
          "2020-07-13T00:00:00",
          "2020-07-14T00:00:00",
          "2020-07-15T00:00:00",
          "2020-07-16T00:00:00",
          "2020-07-17T00:00:00",
          "2020-07-18T00:00:00",
          "2020-07-19T00:00:00",
          "2020-07-20T00:00:00",
          "2020-07-21T00:00:00",
          "2020-07-22T00:00:00",
          "2020-07-23T00:00:00",
          "2020-07-24T00:00:00",
          "2020-07-25T00:00:00",
          "2020-07-26T00:00:00",
          "2020-07-27T00:00:00",
          "2020-07-28T00:00:00",
          "2020-07-29T00:00:00",
          "2020-07-30T00:00:00",
          "2020-07-31T00:00:00",
          "2020-08-01T00:00:00",
          "2020-08-02T00:00:00",
          "2020-08-03T00:00:00",
          "2020-08-04T00:00:00",
          "2020-08-05T00:00:00",
          "2020-08-06T00:00:00",
          "2020-08-07T00:00:00",
          "2020-08-08T00:00:00",
          "2020-08-09T00:00:00",
          "2020-08-10T00:00:00",
          "2020-08-11T00:00:00",
          "2020-08-12T00:00:00",
          "2020-08-13T00:00:00",
          "2020-08-14T00:00:00",
          "2020-08-15T00:00:00",
          "2020-08-16T00:00:00",
          "2020-08-17T00:00:00",
          "2020-08-18T00:00:00",
          "2020-08-19T00:00:00",
          "2020-08-20T00:00:00",
          "2020-08-21T00:00:00",
          "2020-08-22T00:00:00",
          "2020-08-23T00:00:00",
          "2020-08-24T00:00:00",
          "2020-08-25T00:00:00",
          "2020-08-26T00:00:00",
          "2020-08-27T00:00:00",
          "2020-08-28T00:00:00",
          "2020-08-29T00:00:00",
          "2020-08-30T00:00:00",
          "2020-08-31T00:00:00",
          "2020-09-01T00:00:00",
          "2020-09-02T00:00:00",
          "2020-09-03T00:00:00",
          "2020-09-04T00:00:00",
          "2020-09-05T00:00:00",
          "2020-09-06T00:00:00",
          "2020-09-07T00:00:00",
          "2020-09-08T00:00:00",
          "2020-09-09T00:00:00",
          "2020-09-10T00:00:00",
          "2020-09-11T00:00:00",
          "2020-09-12T00:00:00",
          "2020-09-13T00:00:00",
          "2020-09-14T00:00:00",
          "2020-09-15T00:00:00",
          "2020-09-16T00:00:00",
          "2020-09-17T00:00:00",
          "2020-09-18T00:00:00",
          "2020-09-19T00:00:00",
          "2020-09-20T00:00:00",
          "2020-09-21T00:00:00",
          "2020-09-22T00:00:00",
          "2020-09-23T00:00:00",
          "2020-09-24T00:00:00",
          "2020-09-25T00:00:00",
          "2020-09-26T00:00:00",
          "2020-09-27T00:00:00",
          "2020-09-28T00:00:00",
          "2020-09-29T00:00:00",
          "2020-09-30T00:00:00",
          "2020-10-01T00:00:00",
          "2020-10-02T00:00:00",
          "2020-10-03T00:00:00",
          "2020-10-04T00:00:00",
          "2020-10-05T00:00:00",
          "2020-10-06T00:00:00",
          "2020-10-07T00:00:00",
          "2020-10-08T00:00:00",
          "2020-10-09T00:00:00",
          "2020-10-10T00:00:00",
          "2020-10-11T00:00:00",
          "2020-10-12T00:00:00",
          "2020-10-13T00:00:00",
          "2020-10-14T00:00:00",
          "2020-10-15T00:00:00",
          "2020-10-16T00:00:00",
          "2020-10-17T00:00:00",
          "2020-10-18T00:00:00",
          "2020-10-19T00:00:00",
          "2020-10-20T00:00:00",
          "2020-10-21T00:00:00",
          "2020-10-22T00:00:00",
          "2020-10-23T00:00:00",
          "2020-10-24T00:00:00",
          "2020-10-25T00:00:00",
          "2020-10-26T00:00:00",
          "2020-10-27T00:00:00",
          "2020-10-28T00:00:00",
          "2020-10-29T00:00:00",
          "2020-10-30T00:00:00",
          "2020-10-31T00:00:00",
          "2020-11-01T00:00:00",
          "2020-11-02T00:00:00",
          "2020-11-03T00:00:00",
          "2020-11-04T00:00:00",
          "2020-11-05T00:00:00",
          "2020-11-06T00:00:00",
          "2020-11-07T00:00:00",
          "2020-11-08T00:00:00",
          "2020-11-09T00:00:00",
          "2020-11-10T00:00:00",
          "2020-11-11T00:00:00",
          "2020-11-12T00:00:00",
          "2020-11-13T00:00:00",
          "2020-11-14T00:00:00",
          "2020-11-15T00:00:00",
          "2020-11-16T00:00:00",
          "2020-11-17T00:00:00",
          "2020-11-18T00:00:00",
          "2020-11-19T00:00:00",
          "2020-11-20T00:00:00",
          "2020-11-21T00:00:00",
          "2020-11-22T00:00:00",
          "2020-11-23T00:00:00",
          "2020-11-24T00:00:00",
          "2020-11-25T00:00:00",
          "2020-11-26T00:00:00",
          "2020-11-27T00:00:00",
          "2020-11-28T00:00:00",
          "2020-11-29T00:00:00",
          "2020-11-30T00:00:00",
          "2020-12-01T00:00:00",
          "2020-12-02T00:00:00",
          "2020-12-03T00:00:00",
          "2020-12-04T00:00:00",
          "2020-12-05T00:00:00",
          "2020-12-06T00:00:00",
          "2020-12-07T00:00:00",
          "2020-12-08T00:00:00",
          "2020-12-09T00:00:00",
          "2020-12-10T00:00:00",
          "2020-12-11T00:00:00",
          "2020-12-12T00:00:00",
          "2020-12-13T00:00:00",
          "2020-12-14T00:00:00",
          "2020-12-15T00:00:00",
          "2020-12-16T00:00:00",
          "2020-12-17T00:00:00",
          "2020-12-18T00:00:00",
          "2020-12-19T00:00:00",
          "2020-12-20T00:00:00",
          "2020-12-21T00:00:00",
          "2020-12-22T00:00:00",
          "2020-12-23T00:00:00",
          "2020-12-24T00:00:00",
          "2020-12-25T00:00:00",
          "2020-12-26T00:00:00",
          "2020-12-27T00:00:00",
          "2020-12-28T00:00:00",
          "2020-12-29T00:00:00",
          "2020-12-30T00:00:00",
          "2020-12-31T00:00:00",
          "2021-01-01T00:00:00",
          "2021-01-02T00:00:00",
          "2021-01-03T00:00:00",
          "2021-01-04T00:00:00",
          "2021-01-05T00:00:00",
          "2021-01-06T00:00:00",
          "2021-01-07T00:00:00",
          "2021-01-08T00:00:00",
          "2021-01-09T00:00:00",
          "2021-01-10T00:00:00",
          "2021-01-11T00:00:00",
          "2021-01-12T00:00:00",
          "2021-01-13T00:00:00",
          "2021-01-14T00:00:00",
          "2021-01-15T00:00:00",
          "2021-01-16T00:00:00",
          "2021-01-17T00:00:00",
          "2021-01-18T00:00:00",
          "2021-01-19T00:00:00"
         ],
         "y": [
          81,
          81,
          82.23428571428572,
          84.62681661943184,
          88.1096113510162,
          92.62188958767877,
          98.10929909562218,
          104.52321957063195,
          111.82013574824228,
          119.96107300229838,
          128.911089326313,
          138.63881819828197,
          149.1160573748496,
          160.31739915105445,
          172.21989806287627,
          184.8027724064269,
          198.04713630436683,
          211.93575937101247,
          226.45285131625855,
          241.58386908813316,
          257.3153443874657,
          273.6347295984174,
          290.53026036786986,
          307.99083323702496,
          326.00589688195,
          344.5653556579337,
          363.6594842669439,
          383.27885247958983,
          403.4142589440405,
          424.0566732054545,
          445.19718514164947,
          466.82696109487966,
          488.9372060465172,
          511.51913124186996,
          534.5639267269789,
          558.0627383086003,
          582.0066484932278,
          606.386661001419,
          631.1936884902792,
          656.4185431501144,
          682.0519298713283,
          708.0844417049179,
          734.5065573646913,
          761.308640541839,
          788.4809408229593,
          816.0135960212614,
          843.8966357476398,
          872.1199860637713,
          900.6734750734968,
          929.5468393216245,
          958.7297308810596,
          988.2117250199224,
          1017.9823283501623,
          1048.0309873681929,
          1078.34709730633,
          1108.9200112214,
          1139.7390492538302,
          1170.793507996922,
          1202.0726699218742,
          1233.5658128095126,
          1265.262219144644,
          1297.1511854335108,
          1329.2220314090287,
          1361.464109092344,
          1393.866811682818,
          1426.4195822518152,
          1459.1119222186917,
          1491.9333995901604,
          1524.873656946766,
          1557.9224191625583,
          1591.0695008462162,
          1624.3048134938672,
          1657.6183723456782,
          1691.0003029399688,
          1724.440847360145,
          1757.930370171155,
          1791.4593640434691,
          1825.018455063757,
          1858.5984077325154,
          1892.1901296498793,
          1925.7846758917356,
          1959.3732530790649,
          1992.947223144163,
          2026.498106798049,
          2060.0175867039507,
          2093.4975103622814,
          2126.929892712988,
          2160.3069184615547,
          2193.620944135307,
          2226.8644998769737,
          2260.0302909827174,
          2293.1111991920898,
          2326.1002837375327,
          2358.990782161207,
          2391.7761109070525,
          2424.4498656960595,
          2457.0058216927982,
          2489.437933471283,
          2521.740334788262,
          2553.907338171997,
          2585.933434334583,
          2617.813291415791,
          2649.541754066348,
          2681.113842378501,
          2712.524750671589,
          2743.769846140255,
          2774.8446673727994,
          2805.744922747041,
          2836.466488710919,
          2867.0054079549077,
          2897.35788748317,
          2927.520296590203,
          2957.489164749566,
          2987.2611794211057,
          3016.833183782922,
          3046.202174394125,
          3075.3652987942705,
          3104.319853045158,
          3133.063279220507,
          3161.593162848825,
          3189.9072303146186,
          3218.0033462228807,
          3245.8795107316355,
          3273.533856857116,
          3300.964647755978,
          3328.1702739887696,
          3355.1492507686994,
          3381.9002151995705,
          3408.421923506572,
          3434.7132482634534,
          3460.773175619433,
          3486.600802529039,
          3512.1953339879074,
          3537.556080277415,
          3562.6824542208633,
          3587.5739684537907,
          3612.2302327108264,
          3636.6509511313793,
          3660.835919586298,
          3684.7850230275153,
          3708.498232862553,
          3731.9756043556426,
          3755.217274057095,
          3778.223457262423,
          3800.9944455026252,
          3823.530604066913,
          3845.832369559063,
          3867.900247488479,
          3889.7348098969387,
          3911.336693021914,
          3932.7065949972625,
          3953.8452735919977,
          3974.7535439877606,
          3995.4322765955426,
          4015.882394912125,
          4036.104873416635,
          4056.1007355075403,
          4075.871051480349,
          4095.4169365462085,
          4114.7395488915445,
          4133.840087778815,
          4152.719791688419,
          4171.379936501724,
          4189.821833725151,
          4208.046828755193,
          4226.056299184215,
          4243.851653146833,
          4261.434327706632,
          4278.805787282957,
          4295.967522117472,
          4312.921046780145,
          4329.667898714301,
          4346.209636820354,
          4362.54784007779,
          4378.684106204988,
          4394.6200503563905,
          4410.357303856574,
          4425.8975129707,
          4441.242337710861,
          4456.393450677774,
          4471.352535937299,
          4486.121287931228,
          4500.701410421787,
          4515.094615469284,
          4529.302622442328,
          4543.32715706004,
          4557.16995046566,
          4570.832738330977,
          4584.31725999097,
          4597.62525760808,
          4610.7584753654955,
          4623.71865868888,
          4636.50755349592,
          4649.126905473103,
          4661.578459379145,
          4673.86395837445,
          4685.985143376028,
          4697.943752437282,
          4709.741520152075,
          4721.380177082509,
          4732.861449209829,
          4744.187057407894,
          4755.3587169386565,
          4766.378136969075,
          4777.247020108932,
          4787.967061968997,
          4798.539950739009,
          4808.967366784947,
          4819.250982265058,
          4829.392460764144,
          4839.393456945588,
          4849.255616220627,
          4858.980574434387,
          4868.5699575681765,
          4878.025381457602,
          4887.348451525999,
          4896.540762532755,
          4905.603898336056,
          4914.539431669624,
          4923.348923933017,
          4932.033924995067,
          4940.595973010031,
          4949.036594246079,
          4957.357302925686,
          4965.559601077565,
          4973.644978399756,
          4981.614912133491,
          4989.470866947485,
          4997.214294832289,
          5004.846635004363,
          5012.369313819531,
          5019.783744695487,
          5027.09132804303,
          5034.293451205716,
          5041.391488407616,
          5048.386800708889,
          5055.280735968874,
          5062.074628816419,
          5068.76980062717,
          5075.367559507554,
          5081.869200285191,
          5088.276004505488,
          5094.589240434157,
          5100.810163065421,
          5106.940014135684,
          5112.980022142418,
          5118.931402368065,
          5124.795356908726,
          5130.573074707434,
          5136.265731591816
         ]
        },
        {
         "line": {
          "width": 2
         },
         "marker": {
          "size": 6
         },
         "mode": "lines+markers",
         "name": "Deaths Jalisco (Data as occurred)",
         "opacity": 1,
         "type": "scatter",
         "x": [
          "2020-05-15",
          "2020-05-16",
          "2020-05-17",
          "2020-05-18",
          "2020-05-19",
          "2020-05-20",
          "2020-05-21",
          "2020-05-22",
          "2020-05-23",
          "2020-05-24",
          "2020-05-25",
          "2020-05-26",
          "2020-05-27",
          "2020-05-28",
          "2020-05-29",
          "2020-05-30",
          "2020-05-31",
          "2020-06-01",
          "2020-06-02",
          "2020-06-03",
          "2020-06-04",
          "2020-06-05",
          "2020-06-06",
          "2020-06-07",
          "2020-06-08",
          "2020-06-09",
          "2020-06-10",
          "2020-06-11",
          "2020-06-12",
          "2020-06-13",
          "2020-06-14",
          "2020-06-15",
          "2020-06-16",
          "2020-06-17",
          "2020-06-18",
          "2020-06-19",
          "2020-06-20",
          "2020-06-21",
          "2020-06-22",
          "2020-06-23",
          "2020-06-24",
          "2020-06-25",
          "2020-06-26",
          "2020-06-27",
          "2020-06-28",
          "2020-06-29",
          "2020-06-30",
          "2020-07-01"
         ],
         "y": [
          81,
          90,
          95,
          98,
          99,
          105,
          114,
          116,
          120,
          123,
          131,
          136,
          140,
          143,
          148,
          162,
          172,
          192,
          203,
          221,
          244,
          261,
          278,
          299,
          313,
          339,
          353,
          377,
          405,
          419,
          446,
          464,
          488,
          518,
          535,
          559,
          585,
          611,
          632,
          659,
          686,
          715,
          734,
          757,
          784,
          818,
          838,
          870
         ]
        }
       ],
       "layout": {
        "legend": {
         "bgcolor": "rgba(0,0,0,0)",
         "font": {
          "family": "sans-serif",
          "size": 14
         },
         "traceorder": "normal",
         "x": 0.1,
         "y": 0.95
        },
        "showlegend": true,
        "template": {
         "data": {
          "bar": [
           {
            "error_x": {
             "color": "#2a3f5f"
            },
            "error_y": {
             "color": "#2a3f5f"
            },
            "marker": {
             "line": {
              "color": "#E5ECF6",
              "width": 0.5
             }
            },
            "type": "bar"
           }
          ],
          "barpolar": [
           {
            "marker": {
             "line": {
              "color": "#E5ECF6",
              "width": 0.5
             }
            },
            "type": "barpolar"
           }
          ],
          "carpet": [
           {
            "aaxis": {
             "endlinecolor": "#2a3f5f",
             "gridcolor": "white",
             "linecolor": "white",
             "minorgridcolor": "white",
             "startlinecolor": "#2a3f5f"
            },
            "baxis": {
             "endlinecolor": "#2a3f5f",
             "gridcolor": "white",
             "linecolor": "white",
             "minorgridcolor": "white",
             "startlinecolor": "#2a3f5f"
            },
            "type": "carpet"
           }
          ],
          "choropleth": [
           {
            "colorbar": {
             "outlinewidth": 0,
             "ticks": ""
            },
            "type": "choropleth"
           }
          ],
          "contour": [
           {
            "colorbar": {
             "outlinewidth": 0,
             "ticks": ""
            },
            "colorscale": [
             [
              0,
              "#0d0887"
             ],
             [
              0.1111111111111111,
              "#46039f"
             ],
             [
              0.2222222222222222,
              "#7201a8"
             ],
             [
              0.3333333333333333,
              "#9c179e"
             ],
             [
              0.4444444444444444,
              "#bd3786"
             ],
             [
              0.5555555555555556,
              "#d8576b"
             ],
             [
              0.6666666666666666,
              "#ed7953"
             ],
             [
              0.7777777777777778,
              "#fb9f3a"
             ],
             [
              0.8888888888888888,
              "#fdca26"
             ],
             [
              1,
              "#f0f921"
             ]
            ],
            "type": "contour"
           }
          ],
          "contourcarpet": [
           {
            "colorbar": {
             "outlinewidth": 0,
             "ticks": ""
            },
            "type": "contourcarpet"
           }
          ],
          "heatmap": [
           {
            "colorbar": {
             "outlinewidth": 0,
             "ticks": ""
            },
            "colorscale": [
             [
              0,
              "#0d0887"
             ],
             [
              0.1111111111111111,
              "#46039f"
             ],
             [
              0.2222222222222222,
              "#7201a8"
             ],
             [
              0.3333333333333333,
              "#9c179e"
             ],
             [
              0.4444444444444444,
              "#bd3786"
             ],
             [
              0.5555555555555556,
              "#d8576b"
             ],
             [
              0.6666666666666666,
              "#ed7953"
             ],
             [
              0.7777777777777778,
              "#fb9f3a"
             ],
             [
              0.8888888888888888,
              "#fdca26"
             ],
             [
              1,
              "#f0f921"
             ]
            ],
            "type": "heatmap"
           }
          ],
          "heatmapgl": [
           {
            "colorbar": {
             "outlinewidth": 0,
             "ticks": ""
            },
            "colorscale": [
             [
              0,
              "#0d0887"
             ],
             [
              0.1111111111111111,
              "#46039f"
             ],
             [
              0.2222222222222222,
              "#7201a8"
             ],
             [
              0.3333333333333333,
              "#9c179e"
             ],
             [
              0.4444444444444444,
              "#bd3786"
             ],
             [
              0.5555555555555556,
              "#d8576b"
             ],
             [
              0.6666666666666666,
              "#ed7953"
             ],
             [
              0.7777777777777778,
              "#fb9f3a"
             ],
             [
              0.8888888888888888,
              "#fdca26"
             ],
             [
              1,
              "#f0f921"
             ]
            ],
            "type": "heatmapgl"
           }
          ],
          "histogram": [
           {
            "marker": {
             "colorbar": {
              "outlinewidth": 0,
              "ticks": ""
             }
            },
            "type": "histogram"
           }
          ],
          "histogram2d": [
           {
            "colorbar": {
             "outlinewidth": 0,
             "ticks": ""
            },
            "colorscale": [
             [
              0,
              "#0d0887"
             ],
             [
              0.1111111111111111,
              "#46039f"
             ],
             [
              0.2222222222222222,
              "#7201a8"
             ],
             [
              0.3333333333333333,
              "#9c179e"
             ],
             [
              0.4444444444444444,
              "#bd3786"
             ],
             [
              0.5555555555555556,
              "#d8576b"
             ],
             [
              0.6666666666666666,
              "#ed7953"
             ],
             [
              0.7777777777777778,
              "#fb9f3a"
             ],
             [
              0.8888888888888888,
              "#fdca26"
             ],
             [
              1,
              "#f0f921"
             ]
            ],
            "type": "histogram2d"
           }
          ],
          "histogram2dcontour": [
           {
            "colorbar": {
             "outlinewidth": 0,
             "ticks": ""
            },
            "colorscale": [
             [
              0,
              "#0d0887"
             ],
             [
              0.1111111111111111,
              "#46039f"
             ],
             [
              0.2222222222222222,
              "#7201a8"
             ],
             [
              0.3333333333333333,
              "#9c179e"
             ],
             [
              0.4444444444444444,
              "#bd3786"
             ],
             [
              0.5555555555555556,
              "#d8576b"
             ],
             [
              0.6666666666666666,
              "#ed7953"
             ],
             [
              0.7777777777777778,
              "#fb9f3a"
             ],
             [
              0.8888888888888888,
              "#fdca26"
             ],
             [
              1,
              "#f0f921"
             ]
            ],
            "type": "histogram2dcontour"
           }
          ],
          "mesh3d": [
           {
            "colorbar": {
             "outlinewidth": 0,
             "ticks": ""
            },
            "type": "mesh3d"
           }
          ],
          "parcoords": [
           {
            "line": {
             "colorbar": {
              "outlinewidth": 0,
              "ticks": ""
             }
            },
            "type": "parcoords"
           }
          ],
          "pie": [
           {
            "automargin": true,
            "type": "pie"
           }
          ],
          "scatter": [
           {
            "marker": {
             "colorbar": {
              "outlinewidth": 0,
              "ticks": ""
             }
            },
            "type": "scatter"
           }
          ],
          "scatter3d": [
           {
            "line": {
             "colorbar": {
              "outlinewidth": 0,
              "ticks": ""
             }
            },
            "marker": {
             "colorbar": {
              "outlinewidth": 0,
              "ticks": ""
             }
            },
            "type": "scatter3d"
           }
          ],
          "scattercarpet": [
           {
            "marker": {
             "colorbar": {
              "outlinewidth": 0,
              "ticks": ""
             }
            },
            "type": "scattercarpet"
           }
          ],
          "scattergeo": [
           {
            "marker": {
             "colorbar": {
              "outlinewidth": 0,
              "ticks": ""
             }
            },
            "type": "scattergeo"
           }
          ],
          "scattergl": [
           {
            "marker": {
             "colorbar": {
              "outlinewidth": 0,
              "ticks": ""
             }
            },
            "type": "scattergl"
           }
          ],
          "scattermapbox": [
           {
            "marker": {
             "colorbar": {
              "outlinewidth": 0,
              "ticks": ""
             }
            },
            "type": "scattermapbox"
           }
          ],
          "scatterpolar": [
           {
            "marker": {
             "colorbar": {
              "outlinewidth": 0,
              "ticks": ""
             }
            },
            "type": "scatterpolar"
           }
          ],
          "scatterpolargl": [
           {
            "marker": {
             "colorbar": {
              "outlinewidth": 0,
              "ticks": ""
             }
            },
            "type": "scatterpolargl"
           }
          ],
          "scatterternary": [
           {
            "marker": {
             "colorbar": {
              "outlinewidth": 0,
              "ticks": ""
             }
            },
            "type": "scatterternary"
           }
          ],
          "surface": [
           {
            "colorbar": {
             "outlinewidth": 0,
             "ticks": ""
            },
            "colorscale": [
             [
              0,
              "#0d0887"
             ],
             [
              0.1111111111111111,
              "#46039f"
             ],
             [
              0.2222222222222222,
              "#7201a8"
             ],
             [
              0.3333333333333333,
              "#9c179e"
             ],
             [
              0.4444444444444444,
              "#bd3786"
             ],
             [
              0.5555555555555556,
              "#d8576b"
             ],
             [
              0.6666666666666666,
              "#ed7953"
             ],
             [
              0.7777777777777778,
              "#fb9f3a"
             ],
             [
              0.8888888888888888,
              "#fdca26"
             ],
             [
              1,
              "#f0f921"
             ]
            ],
            "type": "surface"
           }
          ],
          "table": [
           {
            "cells": {
             "fill": {
              "color": "#EBF0F8"
             },
             "line": {
              "color": "white"
             }
            },
            "header": {
             "fill": {
              "color": "#C8D4E3"
             },
             "line": {
              "color": "white"
             }
            },
            "type": "table"
           }
          ]
         },
         "layout": {
          "annotationdefaults": {
           "arrowcolor": "#2a3f5f",
           "arrowhead": 0,
           "arrowwidth": 1
          },
          "coloraxis": {
           "colorbar": {
            "outlinewidth": 0,
            "ticks": ""
           }
          },
          "colorscale": {
           "diverging": [
            [
             0,
             "#8e0152"
            ],
            [
             0.1,
             "#c51b7d"
            ],
            [
             0.2,
             "#de77ae"
            ],
            [
             0.3,
             "#f1b6da"
            ],
            [
             0.4,
             "#fde0ef"
            ],
            [
             0.5,
             "#f7f7f7"
            ],
            [
             0.6,
             "#e6f5d0"
            ],
            [
             0.7,
             "#b8e186"
            ],
            [
             0.8,
             "#7fbc41"
            ],
            [
             0.9,
             "#4d9221"
            ],
            [
             1,
             "#276419"
            ]
           ],
           "sequential": [
            [
             0,
             "#0d0887"
            ],
            [
             0.1111111111111111,
             "#46039f"
            ],
            [
             0.2222222222222222,
             "#7201a8"
            ],
            [
             0.3333333333333333,
             "#9c179e"
            ],
            [
             0.4444444444444444,
             "#bd3786"
            ],
            [
             0.5555555555555556,
             "#d8576b"
            ],
            [
             0.6666666666666666,
             "#ed7953"
            ],
            [
             0.7777777777777778,
             "#fb9f3a"
            ],
            [
             0.8888888888888888,
             "#fdca26"
            ],
            [
             1,
             "#f0f921"
            ]
           ],
           "sequentialminus": [
            [
             0,
             "#0d0887"
            ],
            [
             0.1111111111111111,
             "#46039f"
            ],
            [
             0.2222222222222222,
             "#7201a8"
            ],
            [
             0.3333333333333333,
             "#9c179e"
            ],
            [
             0.4444444444444444,
             "#bd3786"
            ],
            [
             0.5555555555555556,
             "#d8576b"
            ],
            [
             0.6666666666666666,
             "#ed7953"
            ],
            [
             0.7777777777777778,
             "#fb9f3a"
            ],
            [
             0.8888888888888888,
             "#fdca26"
            ],
            [
             1,
             "#f0f921"
            ]
           ]
          },
          "colorway": [
           "#636efa",
           "#EF553B",
           "#00cc96",
           "#ab63fa",
           "#FFA15A",
           "#19d3f3",
           "#FF6692",
           "#B6E880",
           "#FF97FF",
           "#FECB52"
          ],
          "font": {
           "color": "#2a3f5f"
          },
          "geo": {
           "bgcolor": "white",
           "lakecolor": "white",
           "landcolor": "#E5ECF6",
           "showlakes": true,
           "showland": true,
           "subunitcolor": "white"
          },
          "hoverlabel": {
           "align": "left"
          },
          "hovermode": "closest",
          "mapbox": {
           "style": "light"
          },
          "paper_bgcolor": "white",
          "plot_bgcolor": "#E5ECF6",
          "polar": {
           "angularaxis": {
            "gridcolor": "white",
            "linecolor": "white",
            "ticks": ""
           },
           "bgcolor": "#E5ECF6",
           "radialaxis": {
            "gridcolor": "white",
            "linecolor": "white",
            "ticks": ""
           }
          },
          "scene": {
           "xaxis": {
            "backgroundcolor": "#E5ECF6",
            "gridcolor": "white",
            "gridwidth": 2,
            "linecolor": "white",
            "showbackground": true,
            "ticks": "",
            "zerolinecolor": "white"
           },
           "yaxis": {
            "backgroundcolor": "#E5ECF6",
            "gridcolor": "white",
            "gridwidth": 2,
            "linecolor": "white",
            "showbackground": true,
            "ticks": "",
            "zerolinecolor": "white"
           },
           "zaxis": {
            "backgroundcolor": "#E5ECF6",
            "gridcolor": "white",
            "gridwidth": 2,
            "linecolor": "white",
            "showbackground": true,
            "ticks": "",
            "zerolinecolor": "white"
           }
          },
          "shapedefaults": {
           "line": {
            "color": "#2a3f5f"
           }
          },
          "ternary": {
           "aaxis": {
            "gridcolor": "white",
            "linecolor": "white",
            "ticks": ""
           },
           "baxis": {
            "gridcolor": "white",
            "linecolor": "white",
            "ticks": ""
           },
           "bgcolor": "#E5ECF6",
           "caxis": {
            "gridcolor": "white",
            "linecolor": "white",
            "ticks": ""
           }
          },
          "title": {
           "x": 0.05
          },
          "xaxis": {
           "automargin": true,
           "gridcolor": "white",
           "linecolor": "white",
           "ticks": "",
           "title": {
            "standoff": 15
           },
           "zerolinecolor": "white",
           "zerolinewidth": 2
          },
          "yaxis": {
           "automargin": true,
           "gridcolor": "white",
           "linecolor": "white",
           "ticks": "",
           "title": {
            "standoff": 15
           },
           "zerolinecolor": "white",
           "zerolinewidth": 2
          }
         }
        },
        "title": {
         "text": "Model/Data Jalisco - deaths",
         "x": 0.5
        },
        "yaxis": {
         "type": "linear"
        }
       }
      },
      "text/html": [
       "<div>\n",
       "        \n",
       "        \n",
       "            <div id=\"e547f462-e876-4aca-90d4-b2a4b98e3883\" class=\"plotly-graph-div\" style=\"height:525px; width:100%;\"></div>\n",
       "            <script type=\"text/javascript\">\n",
       "                require([\"plotly\"], function(Plotly) {\n",
       "                    window.PLOTLYENV=window.PLOTLYENV || {};\n",
       "                    \n",
       "                if (document.getElementById(\"e547f462-e876-4aca-90d4-b2a4b98e3883\")) {\n",
       "                    Plotly.newPlot(\n",
       "                        'e547f462-e876-4aca-90d4-b2a4b98e3883',\n",
       "                        [{\"line\": {\"width\": 2}, \"marker\": {\"size\": 6}, \"mode\": \"lines+markers\", \"name\": \"Deaths Jalisco (Model #5)\", \"opacity\": 1, \"type\": \"scatter\", \"x\": [\"2020-05-15T00:00:00\", \"2020-05-16T00:00:00\", \"2020-05-17T00:00:00\", \"2020-05-18T00:00:00\", \"2020-05-19T00:00:00\", \"2020-05-20T00:00:00\", \"2020-05-21T00:00:00\", \"2020-05-22T00:00:00\", \"2020-05-23T00:00:00\", \"2020-05-24T00:00:00\", \"2020-05-25T00:00:00\", \"2020-05-26T00:00:00\", \"2020-05-27T00:00:00\", \"2020-05-28T00:00:00\", \"2020-05-29T00:00:00\", \"2020-05-30T00:00:00\", \"2020-05-31T00:00:00\", \"2020-06-01T00:00:00\", \"2020-06-02T00:00:00\", \"2020-06-03T00:00:00\", \"2020-06-04T00:00:00\", \"2020-06-05T00:00:00\", \"2020-06-06T00:00:00\", \"2020-06-07T00:00:00\", \"2020-06-08T00:00:00\", \"2020-06-09T00:00:00\", \"2020-06-10T00:00:00\", \"2020-06-11T00:00:00\", \"2020-06-12T00:00:00\", \"2020-06-13T00:00:00\", \"2020-06-14T00:00:00\", \"2020-06-15T00:00:00\", \"2020-06-16T00:00:00\", \"2020-06-17T00:00:00\", \"2020-06-18T00:00:00\", \"2020-06-19T00:00:00\", \"2020-06-20T00:00:00\", \"2020-06-21T00:00:00\", \"2020-06-22T00:00:00\", \"2020-06-23T00:00:00\", \"2020-06-24T00:00:00\", \"2020-06-25T00:00:00\", \"2020-06-26T00:00:00\", \"2020-06-27T00:00:00\", \"2020-06-28T00:00:00\", \"2020-06-29T00:00:00\", \"2020-06-30T00:00:00\", \"2020-07-01T00:00:00\", \"2020-07-02T00:00:00\", \"2020-07-03T00:00:00\", \"2020-07-04T00:00:00\", \"2020-07-05T00:00:00\", \"2020-07-06T00:00:00\", \"2020-07-07T00:00:00\", \"2020-07-08T00:00:00\", \"2020-07-09T00:00:00\", \"2020-07-10T00:00:00\", \"2020-07-11T00:00:00\", \"2020-07-12T00:00:00\", \"2020-07-13T00:00:00\", \"2020-07-14T00:00:00\", \"2020-07-15T00:00:00\", \"2020-07-16T00:00:00\", \"2020-07-17T00:00:00\", \"2020-07-18T00:00:00\", \"2020-07-19T00:00:00\", \"2020-07-20T00:00:00\", \"2020-07-21T00:00:00\", \"2020-07-22T00:00:00\", \"2020-07-23T00:00:00\", \"2020-07-24T00:00:00\", \"2020-07-25T00:00:00\", \"2020-07-26T00:00:00\", \"2020-07-27T00:00:00\", \"2020-07-28T00:00:00\", \"2020-07-29T00:00:00\", \"2020-07-30T00:00:00\", \"2020-07-31T00:00:00\", \"2020-08-01T00:00:00\", \"2020-08-02T00:00:00\", \"2020-08-03T00:00:00\", \"2020-08-04T00:00:00\", \"2020-08-05T00:00:00\", \"2020-08-06T00:00:00\", \"2020-08-07T00:00:00\", \"2020-08-08T00:00:00\", \"2020-08-09T00:00:00\", \"2020-08-10T00:00:00\", \"2020-08-11T00:00:00\", \"2020-08-12T00:00:00\", \"2020-08-13T00:00:00\", \"2020-08-14T00:00:00\", \"2020-08-15T00:00:00\", \"2020-08-16T00:00:00\", \"2020-08-17T00:00:00\", \"2020-08-18T00:00:00\", \"2020-08-19T00:00:00\", \"2020-08-20T00:00:00\", \"2020-08-21T00:00:00\", \"2020-08-22T00:00:00\", \"2020-08-23T00:00:00\", \"2020-08-24T00:00:00\", \"2020-08-25T00:00:00\", \"2020-08-26T00:00:00\", \"2020-08-27T00:00:00\", \"2020-08-28T00:00:00\", \"2020-08-29T00:00:00\", \"2020-08-30T00:00:00\", \"2020-08-31T00:00:00\", \"2020-09-01T00:00:00\", \"2020-09-02T00:00:00\", \"2020-09-03T00:00:00\", \"2020-09-04T00:00:00\", \"2020-09-05T00:00:00\", \"2020-09-06T00:00:00\", \"2020-09-07T00:00:00\", \"2020-09-08T00:00:00\", \"2020-09-09T00:00:00\", \"2020-09-10T00:00:00\", \"2020-09-11T00:00:00\", \"2020-09-12T00:00:00\", \"2020-09-13T00:00:00\", \"2020-09-14T00:00:00\", \"2020-09-15T00:00:00\", \"2020-09-16T00:00:00\", \"2020-09-17T00:00:00\", \"2020-09-18T00:00:00\", \"2020-09-19T00:00:00\", \"2020-09-20T00:00:00\", \"2020-09-21T00:00:00\", \"2020-09-22T00:00:00\", \"2020-09-23T00:00:00\", \"2020-09-24T00:00:00\", \"2020-09-25T00:00:00\", \"2020-09-26T00:00:00\", \"2020-09-27T00:00:00\", \"2020-09-28T00:00:00\", \"2020-09-29T00:00:00\", \"2020-09-30T00:00:00\", \"2020-10-01T00:00:00\", \"2020-10-02T00:00:00\", \"2020-10-03T00:00:00\", \"2020-10-04T00:00:00\", \"2020-10-05T00:00:00\", \"2020-10-06T00:00:00\", \"2020-10-07T00:00:00\", \"2020-10-08T00:00:00\", \"2020-10-09T00:00:00\", \"2020-10-10T00:00:00\", \"2020-10-11T00:00:00\", \"2020-10-12T00:00:00\", \"2020-10-13T00:00:00\", \"2020-10-14T00:00:00\", \"2020-10-15T00:00:00\", \"2020-10-16T00:00:00\", \"2020-10-17T00:00:00\", \"2020-10-18T00:00:00\", \"2020-10-19T00:00:00\", \"2020-10-20T00:00:00\", \"2020-10-21T00:00:00\", \"2020-10-22T00:00:00\", \"2020-10-23T00:00:00\", \"2020-10-24T00:00:00\", \"2020-10-25T00:00:00\", \"2020-10-26T00:00:00\", \"2020-10-27T00:00:00\", \"2020-10-28T00:00:00\", \"2020-10-29T00:00:00\", \"2020-10-30T00:00:00\", \"2020-10-31T00:00:00\", \"2020-11-01T00:00:00\", \"2020-11-02T00:00:00\", \"2020-11-03T00:00:00\", \"2020-11-04T00:00:00\", \"2020-11-05T00:00:00\", \"2020-11-06T00:00:00\", \"2020-11-07T00:00:00\", \"2020-11-08T00:00:00\", \"2020-11-09T00:00:00\", \"2020-11-10T00:00:00\", \"2020-11-11T00:00:00\", \"2020-11-12T00:00:00\", \"2020-11-13T00:00:00\", \"2020-11-14T00:00:00\", \"2020-11-15T00:00:00\", \"2020-11-16T00:00:00\", \"2020-11-17T00:00:00\", \"2020-11-18T00:00:00\", \"2020-11-19T00:00:00\", \"2020-11-20T00:00:00\", \"2020-11-21T00:00:00\", \"2020-11-22T00:00:00\", \"2020-11-23T00:00:00\", \"2020-11-24T00:00:00\", \"2020-11-25T00:00:00\", \"2020-11-26T00:00:00\", \"2020-11-27T00:00:00\", \"2020-11-28T00:00:00\", \"2020-11-29T00:00:00\", \"2020-11-30T00:00:00\", \"2020-12-01T00:00:00\", \"2020-12-02T00:00:00\", \"2020-12-03T00:00:00\", \"2020-12-04T00:00:00\", \"2020-12-05T00:00:00\", \"2020-12-06T00:00:00\", \"2020-12-07T00:00:00\", \"2020-12-08T00:00:00\", \"2020-12-09T00:00:00\", \"2020-12-10T00:00:00\", \"2020-12-11T00:00:00\", \"2020-12-12T00:00:00\", \"2020-12-13T00:00:00\", \"2020-12-14T00:00:00\", \"2020-12-15T00:00:00\", \"2020-12-16T00:00:00\", \"2020-12-17T00:00:00\", \"2020-12-18T00:00:00\", \"2020-12-19T00:00:00\", \"2020-12-20T00:00:00\", \"2020-12-21T00:00:00\", \"2020-12-22T00:00:00\", \"2020-12-23T00:00:00\", \"2020-12-24T00:00:00\", \"2020-12-25T00:00:00\", \"2020-12-26T00:00:00\", \"2020-12-27T00:00:00\", \"2020-12-28T00:00:00\", \"2020-12-29T00:00:00\", \"2020-12-30T00:00:00\", \"2020-12-31T00:00:00\", \"2021-01-01T00:00:00\", \"2021-01-02T00:00:00\", \"2021-01-03T00:00:00\", \"2021-01-04T00:00:00\", \"2021-01-05T00:00:00\", \"2021-01-06T00:00:00\", \"2021-01-07T00:00:00\", \"2021-01-08T00:00:00\", \"2021-01-09T00:00:00\", \"2021-01-10T00:00:00\", \"2021-01-11T00:00:00\", \"2021-01-12T00:00:00\", \"2021-01-13T00:00:00\", \"2021-01-14T00:00:00\", \"2021-01-15T00:00:00\", \"2021-01-16T00:00:00\", \"2021-01-17T00:00:00\", \"2021-01-18T00:00:00\", \"2021-01-19T00:00:00\"], \"y\": [81.0, 81.0, 82.23428571428572, 84.62681661943184, 88.1096113510162, 92.62188958767877, 98.10929909562218, 104.52321957063195, 111.82013574824228, 119.96107300229838, 128.911089326313, 138.63881819828197, 149.1160573748496, 160.31739915105445, 172.21989806287627, 184.8027724064269, 198.04713630436683, 211.93575937101247, 226.45285131625855, 241.58386908813316, 257.3153443874657, 273.6347295984174, 290.53026036786986, 307.99083323702496, 326.00589688195, 344.5653556579337, 363.6594842669439, 383.27885247958983, 403.4142589440405, 424.0566732054545, 445.19718514164947, 466.82696109487966, 488.9372060465172, 511.51913124186996, 534.5639267269789, 558.0627383086003, 582.0066484932278, 606.386661001419, 631.1936884902792, 656.4185431501144, 682.0519298713283, 708.0844417049179, 734.5065573646913, 761.308640541839, 788.4809408229593, 816.0135960212614, 843.8966357476398, 872.1199860637713, 900.6734750734968, 929.5468393216245, 958.7297308810596, 988.2117250199224, 1017.9823283501623, 1048.0309873681929, 1078.34709730633, 1108.9200112214, 1139.7390492538302, 1170.793507996922, 1202.0726699218742, 1233.5658128095126, 1265.262219144644, 1297.1511854335108, 1329.2220314090287, 1361.464109092344, 1393.866811682818, 1426.4195822518152, 1459.1119222186917, 1491.9333995901604, 1524.873656946766, 1557.9224191625583, 1591.0695008462162, 1624.3048134938672, 1657.6183723456782, 1691.0003029399688, 1724.440847360145, 1757.930370171155, 1791.4593640434691, 1825.018455063757, 1858.5984077325154, 1892.1901296498793, 1925.7846758917356, 1959.3732530790649, 1992.947223144163, 2026.498106798049, 2060.0175867039507, 2093.4975103622814, 2126.929892712988, 2160.3069184615547, 2193.620944135307, 2226.8644998769737, 2260.0302909827174, 2293.1111991920898, 2326.1002837375327, 2358.990782161207, 2391.7761109070525, 2424.4498656960595, 2457.0058216927982, 2489.437933471283, 2521.740334788262, 2553.907338171997, 2585.933434334583, 2617.813291415791, 2649.541754066348, 2681.113842378501, 2712.524750671589, 2743.769846140255, 2774.8446673727994, 2805.744922747041, 2836.466488710919, 2867.0054079549077, 2897.35788748317, 2927.520296590203, 2957.489164749566, 2987.2611794211057, 3016.833183782922, 3046.202174394125, 3075.3652987942705, 3104.319853045158, 3133.063279220507, 3161.593162848825, 3189.9072303146186, 3218.0033462228807, 3245.8795107316355, 3273.533856857116, 3300.964647755978, 3328.1702739887696, 3355.1492507686994, 3381.9002151995705, 3408.421923506572, 3434.7132482634534, 3460.773175619433, 3486.600802529039, 3512.1953339879074, 3537.556080277415, 3562.6824542208633, 3587.5739684537907, 3612.2302327108264, 3636.6509511313793, 3660.835919586298, 3684.7850230275153, 3708.498232862553, 3731.9756043556426, 3755.217274057095, 3778.223457262423, 3800.9944455026252, 3823.530604066913, 3845.832369559063, 3867.900247488479, 3889.7348098969387, 3911.336693021914, 3932.7065949972625, 3953.8452735919977, 3974.7535439877606, 3995.4322765955426, 4015.882394912125, 4036.104873416635, 4056.1007355075403, 4075.871051480349, 4095.4169365462085, 4114.7395488915445, 4133.840087778815, 4152.719791688419, 4171.379936501724, 4189.821833725151, 4208.046828755193, 4226.056299184215, 4243.851653146833, 4261.434327706632, 4278.805787282957, 4295.967522117472, 4312.921046780145, 4329.667898714301, 4346.209636820354, 4362.54784007779, 4378.684106204988, 4394.6200503563905, 4410.357303856574, 4425.8975129707, 4441.242337710861, 4456.393450677774, 4471.352535937299, 4486.121287931228, 4500.701410421787, 4515.094615469284, 4529.302622442328, 4543.32715706004, 4557.16995046566, 4570.832738330977, 4584.31725999097, 4597.62525760808, 4610.7584753654955, 4623.71865868888, 4636.50755349592, 4649.126905473103, 4661.578459379145, 4673.86395837445, 4685.985143376028, 4697.943752437282, 4709.741520152075, 4721.380177082509, 4732.861449209829, 4744.187057407894, 4755.3587169386565, 4766.378136969075, 4777.247020108932, 4787.967061968997, 4798.539950739009, 4808.967366784947, 4819.250982265058, 4829.392460764144, 4839.393456945588, 4849.255616220627, 4858.980574434387, 4868.5699575681765, 4878.025381457602, 4887.348451525999, 4896.540762532755, 4905.603898336056, 4914.539431669624, 4923.348923933017, 4932.033924995067, 4940.595973010031, 4949.036594246079, 4957.357302925686, 4965.559601077565, 4973.644978399756, 4981.614912133491, 4989.470866947485, 4997.214294832289, 5004.846635004363, 5012.369313819531, 5019.783744695487, 5027.09132804303, 5034.293451205716, 5041.391488407616, 5048.386800708889, 5055.280735968874, 5062.074628816419, 5068.76980062717, 5075.367559507554, 5081.869200285191, 5088.276004505488, 5094.589240434157, 5100.810163065421, 5106.940014135684, 5112.980022142418, 5118.931402368065, 5124.795356908726, 5130.573074707434, 5136.265731591816]}, {\"line\": {\"width\": 2}, \"marker\": {\"size\": 6}, \"mode\": \"lines+markers\", \"name\": \"Deaths Jalisco (Data as occurred)\", \"opacity\": 1, \"type\": \"scatter\", \"x\": [\"2020-05-15\", \"2020-05-16\", \"2020-05-17\", \"2020-05-18\", \"2020-05-19\", \"2020-05-20\", \"2020-05-21\", \"2020-05-22\", \"2020-05-23\", \"2020-05-24\", \"2020-05-25\", \"2020-05-26\", \"2020-05-27\", \"2020-05-28\", \"2020-05-29\", \"2020-05-30\", \"2020-05-31\", \"2020-06-01\", \"2020-06-02\", \"2020-06-03\", \"2020-06-04\", \"2020-06-05\", \"2020-06-06\", \"2020-06-07\", \"2020-06-08\", \"2020-06-09\", \"2020-06-10\", \"2020-06-11\", \"2020-06-12\", \"2020-06-13\", \"2020-06-14\", \"2020-06-15\", \"2020-06-16\", \"2020-06-17\", \"2020-06-18\", \"2020-06-19\", \"2020-06-20\", \"2020-06-21\", \"2020-06-22\", \"2020-06-23\", \"2020-06-24\", \"2020-06-25\", \"2020-06-26\", \"2020-06-27\", \"2020-06-28\", \"2020-06-29\", \"2020-06-30\", \"2020-07-01\"], \"y\": [81.0, 90.0, 95.0, 98.0, 99.0, 105.0, 114.0, 116.0, 120.0, 123.0, 131.0, 136.0, 140.0, 143.0, 148.0, 162.0, 172.0, 192.0, 203.0, 221.0, 244.0, 261.0, 278.0, 299.0, 313.0, 339.0, 353.0, 377.0, 405.0, 419.0, 446.0, 464.0, 488.0, 518.0, 535.0, 559.0, 585.0, 611.0, 632.0, 659.0, 686.0, 715.0, 734.0, 757.0, 784.0, 818.0, 838.0, 870.0]}],\n",
       "                        {\"legend\": {\"bgcolor\": \"rgba(0,0,0,0)\", \"font\": {\"family\": \"sans-serif\", \"size\": 14}, \"traceorder\": \"normal\", \"x\": 0.1, \"y\": 0.95}, \"showlegend\": true, \"template\": {\"data\": {\"bar\": [{\"error_x\": {\"color\": \"#2a3f5f\"}, \"error_y\": {\"color\": \"#2a3f5f\"}, \"marker\": {\"line\": {\"color\": \"#E5ECF6\", \"width\": 0.5}}, \"type\": \"bar\"}], \"barpolar\": [{\"marker\": {\"line\": {\"color\": \"#E5ECF6\", \"width\": 0.5}}, \"type\": \"barpolar\"}], \"carpet\": [{\"aaxis\": {\"endlinecolor\": \"#2a3f5f\", \"gridcolor\": \"white\", \"linecolor\": \"white\", \"minorgridcolor\": \"white\", \"startlinecolor\": \"#2a3f5f\"}, \"baxis\": {\"endlinecolor\": \"#2a3f5f\", \"gridcolor\": \"white\", \"linecolor\": \"white\", \"minorgridcolor\": \"white\", \"startlinecolor\": \"#2a3f5f\"}, \"type\": \"carpet\"}], \"choropleth\": [{\"colorbar\": {\"outlinewidth\": 0, \"ticks\": \"\"}, \"type\": \"choropleth\"}], \"contour\": [{\"colorbar\": {\"outlinewidth\": 0, \"ticks\": \"\"}, \"colorscale\": [[0.0, \"#0d0887\"], [0.1111111111111111, \"#46039f\"], [0.2222222222222222, \"#7201a8\"], [0.3333333333333333, \"#9c179e\"], [0.4444444444444444, \"#bd3786\"], [0.5555555555555556, \"#d8576b\"], [0.6666666666666666, \"#ed7953\"], [0.7777777777777778, \"#fb9f3a\"], [0.8888888888888888, \"#fdca26\"], [1.0, \"#f0f921\"]], \"type\": \"contour\"}], \"contourcarpet\": [{\"colorbar\": {\"outlinewidth\": 0, \"ticks\": \"\"}, \"type\": \"contourcarpet\"}], \"heatmap\": [{\"colorbar\": {\"outlinewidth\": 0, \"ticks\": \"\"}, \"colorscale\": [[0.0, \"#0d0887\"], [0.1111111111111111, \"#46039f\"], [0.2222222222222222, \"#7201a8\"], [0.3333333333333333, \"#9c179e\"], [0.4444444444444444, \"#bd3786\"], [0.5555555555555556, \"#d8576b\"], [0.6666666666666666, \"#ed7953\"], [0.7777777777777778, \"#fb9f3a\"], [0.8888888888888888, \"#fdca26\"], [1.0, \"#f0f921\"]], \"type\": \"heatmap\"}], \"heatmapgl\": [{\"colorbar\": {\"outlinewidth\": 0, \"ticks\": \"\"}, \"colorscale\": [[0.0, \"#0d0887\"], [0.1111111111111111, \"#46039f\"], [0.2222222222222222, \"#7201a8\"], [0.3333333333333333, \"#9c179e\"], [0.4444444444444444, \"#bd3786\"], [0.5555555555555556, \"#d8576b\"], [0.6666666666666666, \"#ed7953\"], [0.7777777777777778, \"#fb9f3a\"], [0.8888888888888888, \"#fdca26\"], [1.0, \"#f0f921\"]], \"type\": \"heatmapgl\"}], \"histogram\": [{\"marker\": {\"colorbar\": {\"outlinewidth\": 0, \"ticks\": \"\"}}, \"type\": \"histogram\"}], \"histogram2d\": [{\"colorbar\": {\"outlinewidth\": 0, \"ticks\": \"\"}, \"colorscale\": [[0.0, \"#0d0887\"], [0.1111111111111111, \"#46039f\"], [0.2222222222222222, \"#7201a8\"], [0.3333333333333333, \"#9c179e\"], [0.4444444444444444, \"#bd3786\"], [0.5555555555555556, \"#d8576b\"], [0.6666666666666666, \"#ed7953\"], [0.7777777777777778, \"#fb9f3a\"], [0.8888888888888888, \"#fdca26\"], [1.0, \"#f0f921\"]], \"type\": \"histogram2d\"}], \"histogram2dcontour\": [{\"colorbar\": {\"outlinewidth\": 0, \"ticks\": \"\"}, \"colorscale\": [[0.0, \"#0d0887\"], [0.1111111111111111, \"#46039f\"], [0.2222222222222222, \"#7201a8\"], [0.3333333333333333, \"#9c179e\"], [0.4444444444444444, \"#bd3786\"], [0.5555555555555556, \"#d8576b\"], [0.6666666666666666, \"#ed7953\"], [0.7777777777777778, \"#fb9f3a\"], [0.8888888888888888, \"#fdca26\"], [1.0, \"#f0f921\"]], \"type\": \"histogram2dcontour\"}], \"mesh3d\": [{\"colorbar\": {\"outlinewidth\": 0, \"ticks\": \"\"}, \"type\": \"mesh3d\"}], \"parcoords\": [{\"line\": {\"colorbar\": {\"outlinewidth\": 0, \"ticks\": \"\"}}, \"type\": \"parcoords\"}], \"pie\": [{\"automargin\": true, \"type\": \"pie\"}], \"scatter\": [{\"marker\": {\"colorbar\": {\"outlinewidth\": 0, \"ticks\": \"\"}}, \"type\": \"scatter\"}], \"scatter3d\": [{\"line\": {\"colorbar\": {\"outlinewidth\": 0, \"ticks\": \"\"}}, \"marker\": {\"colorbar\": {\"outlinewidth\": 0, \"ticks\": \"\"}}, \"type\": \"scatter3d\"}], \"scattercarpet\": [{\"marker\": {\"colorbar\": {\"outlinewidth\": 0, \"ticks\": \"\"}}, \"type\": \"scattercarpet\"}], \"scattergeo\": [{\"marker\": {\"colorbar\": {\"outlinewidth\": 0, \"ticks\": \"\"}}, \"type\": \"scattergeo\"}], \"scattergl\": [{\"marker\": {\"colorbar\": {\"outlinewidth\": 0, \"ticks\": \"\"}}, \"type\": \"scattergl\"}], \"scattermapbox\": [{\"marker\": {\"colorbar\": {\"outlinewidth\": 0, \"ticks\": \"\"}}, \"type\": \"scattermapbox\"}], \"scatterpolar\": [{\"marker\": {\"colorbar\": {\"outlinewidth\": 0, \"ticks\": \"\"}}, \"type\": \"scatterpolar\"}], \"scatterpolargl\": [{\"marker\": {\"colorbar\": {\"outlinewidth\": 0, \"ticks\": \"\"}}, \"type\": \"scatterpolargl\"}], \"scatterternary\": [{\"marker\": {\"colorbar\": {\"outlinewidth\": 0, \"ticks\": \"\"}}, \"type\": \"scatterternary\"}], \"surface\": [{\"colorbar\": {\"outlinewidth\": 0, \"ticks\": \"\"}, \"colorscale\": [[0.0, \"#0d0887\"], [0.1111111111111111, \"#46039f\"], [0.2222222222222222, \"#7201a8\"], [0.3333333333333333, \"#9c179e\"], [0.4444444444444444, \"#bd3786\"], [0.5555555555555556, \"#d8576b\"], [0.6666666666666666, \"#ed7953\"], [0.7777777777777778, \"#fb9f3a\"], [0.8888888888888888, \"#fdca26\"], [1.0, \"#f0f921\"]], \"type\": \"surface\"}], \"table\": [{\"cells\": {\"fill\": {\"color\": \"#EBF0F8\"}, \"line\": {\"color\": \"white\"}}, \"header\": {\"fill\": {\"color\": \"#C8D4E3\"}, \"line\": {\"color\": \"white\"}}, \"type\": \"table\"}]}, \"layout\": {\"annotationdefaults\": {\"arrowcolor\": \"#2a3f5f\", \"arrowhead\": 0, \"arrowwidth\": 1}, \"coloraxis\": {\"colorbar\": {\"outlinewidth\": 0, \"ticks\": \"\"}}, \"colorscale\": {\"diverging\": [[0, \"#8e0152\"], [0.1, \"#c51b7d\"], [0.2, \"#de77ae\"], [0.3, \"#f1b6da\"], [0.4, \"#fde0ef\"], [0.5, \"#f7f7f7\"], [0.6, \"#e6f5d0\"], [0.7, \"#b8e186\"], [0.8, \"#7fbc41\"], [0.9, \"#4d9221\"], [1, \"#276419\"]], \"sequential\": [[0.0, \"#0d0887\"], [0.1111111111111111, \"#46039f\"], [0.2222222222222222, \"#7201a8\"], [0.3333333333333333, \"#9c179e\"], [0.4444444444444444, \"#bd3786\"], [0.5555555555555556, \"#d8576b\"], [0.6666666666666666, \"#ed7953\"], [0.7777777777777778, \"#fb9f3a\"], [0.8888888888888888, \"#fdca26\"], [1.0, \"#f0f921\"]], \"sequentialminus\": [[0.0, \"#0d0887\"], [0.1111111111111111, \"#46039f\"], [0.2222222222222222, \"#7201a8\"], [0.3333333333333333, \"#9c179e\"], [0.4444444444444444, \"#bd3786\"], [0.5555555555555556, \"#d8576b\"], [0.6666666666666666, \"#ed7953\"], [0.7777777777777778, \"#fb9f3a\"], [0.8888888888888888, \"#fdca26\"], [1.0, \"#f0f921\"]]}, \"colorway\": [\"#636efa\", \"#EF553B\", \"#00cc96\", \"#ab63fa\", \"#FFA15A\", \"#19d3f3\", \"#FF6692\", \"#B6E880\", \"#FF97FF\", \"#FECB52\"], \"font\": {\"color\": \"#2a3f5f\"}, \"geo\": {\"bgcolor\": \"white\", \"lakecolor\": \"white\", \"landcolor\": \"#E5ECF6\", \"showlakes\": true, \"showland\": true, \"subunitcolor\": \"white\"}, \"hoverlabel\": {\"align\": \"left\"}, \"hovermode\": \"closest\", \"mapbox\": {\"style\": \"light\"}, \"paper_bgcolor\": \"white\", \"plot_bgcolor\": \"#E5ECF6\", \"polar\": {\"angularaxis\": {\"gridcolor\": \"white\", \"linecolor\": \"white\", \"ticks\": \"\"}, \"bgcolor\": \"#E5ECF6\", \"radialaxis\": {\"gridcolor\": \"white\", \"linecolor\": \"white\", \"ticks\": \"\"}}, \"scene\": {\"xaxis\": {\"backgroundcolor\": \"#E5ECF6\", \"gridcolor\": \"white\", \"gridwidth\": 2, \"linecolor\": \"white\", \"showbackground\": true, \"ticks\": \"\", \"zerolinecolor\": \"white\"}, \"yaxis\": {\"backgroundcolor\": \"#E5ECF6\", \"gridcolor\": \"white\", \"gridwidth\": 2, \"linecolor\": \"white\", \"showbackground\": true, \"ticks\": \"\", \"zerolinecolor\": \"white\"}, \"zaxis\": {\"backgroundcolor\": \"#E5ECF6\", \"gridcolor\": \"white\", \"gridwidth\": 2, \"linecolor\": \"white\", \"showbackground\": true, \"ticks\": \"\", \"zerolinecolor\": \"white\"}}, \"shapedefaults\": {\"line\": {\"color\": \"#2a3f5f\"}}, \"ternary\": {\"aaxis\": {\"gridcolor\": \"white\", \"linecolor\": \"white\", \"ticks\": \"\"}, \"baxis\": {\"gridcolor\": \"white\", \"linecolor\": \"white\", \"ticks\": \"\"}, \"bgcolor\": \"#E5ECF6\", \"caxis\": {\"gridcolor\": \"white\", \"linecolor\": \"white\", \"ticks\": \"\"}}, \"title\": {\"x\": 0.05}, \"xaxis\": {\"automargin\": true, \"gridcolor\": \"white\", \"linecolor\": \"white\", \"ticks\": \"\", \"title\": {\"standoff\": 15}, \"zerolinecolor\": \"white\", \"zerolinewidth\": 2}, \"yaxis\": {\"automargin\": true, \"gridcolor\": \"white\", \"linecolor\": \"white\", \"ticks\": \"\", \"title\": {\"standoff\": 15}, \"zerolinecolor\": \"white\", \"zerolinewidth\": 2}}}, \"title\": {\"text\": \"Model/Data Jalisco - deaths\", \"x\": 0.5}, \"yaxis\": {\"type\": \"linear\"}},\n",
       "                        {\"responsive\": true}\n",
       "                    ).then(function(){\n",
       "                            \n",
       "var gd = document.getElementById('e547f462-e876-4aca-90d4-b2a4b98e3883');\n",
       "var x = new MutationObserver(function (mutations, observer) {{\n",
       "        var display = window.getComputedStyle(gd).display;\n",
       "        if (!display || display === 'none') {{\n",
       "            console.log([gd, 'removed!']);\n",
       "            Plotly.purge(gd);\n",
       "            observer.disconnect();\n",
       "        }}\n",
       "}});\n",
       "\n",
       "// Listen for the removal of the full notebook cells\n",
       "var notebookContainer = gd.closest('#notebook-container');\n",
       "if (notebookContainer) {{\n",
       "    x.observe(notebookContainer, {childList: true});\n",
       "}}\n",
       "\n",
       "// Listen for the clearing of the current output cell\n",
       "var outputEl = gd.closest('.output');\n",
       "if (outputEl) {{\n",
       "    x.observe(outputEl, {childList: true});\n",
       "}}\n",
       "\n",
       "                        })\n",
       "                };\n",
       "                });\n",
       "            </script>\n",
       "        </div>"
      ]
     },
     "metadata": {},
     "output_type": "display_data"
    }
   ],
   "source": [
    "tbound = 250\n",
    "fig = go.Figure()\n",
    "\n",
    "fig.add_trace(go.Scatter(\n",
    "    x=df5[df5.time<tbound]['date'],\n",
    "    y=df5[df5.time<tbound]['Deaths'],\n",
    "    name='Deaths Jalisco (Model #5)',\n",
    "    mode='lines+markers',line_width=2,marker_size=6,opacity=1))\n",
    "\n",
    "fig.add_trace(go.Scatter(\n",
    "    x=mx2['date'],\n",
    "    y=mx2['Deaths_Jalisco'],\n",
    "    name='Deaths Jalisco (Data as occurred)',\n",
    "    mode='lines+markers',line_width=2,marker_size=6,opacity=1))\n",
    "\n",
    "fig.update_layout(\n",
    "    title=\"Model/Data Jalisco - deaths\",\n",
    "    title_x=0.5,showlegend=True,yaxis = {'type': 'linear'},\n",
    "    legend=dict(\n",
    "            x=0.10,y=0.95,\n",
    "            traceorder=\"normal\",font=dict(family=\"sans-serif\",size=14),bgcolor='rgba(0,0,0,0)'),)\n",
    "\n",
    "fig.show()"
   ]
  },
  {
   "cell_type": "code",
   "execution_count": 286,
   "metadata": {},
   "outputs": [
    {
     "data": {
      "application/vnd.plotly.v1+json": {
       "config": {
        "plotlyServerURL": "https://plot.ly"
       },
       "data": [
        {
         "line": {
          "width": 2
         },
         "marker": {
          "size": 6
         },
         "mode": "lines+markers",
         "name": "Deaths Jalisco (Model #5)",
         "opacity": 1,
         "type": "scatter",
         "x": [
          "2020-05-15T00:00:00",
          "2020-05-16T00:00:00",
          "2020-05-17T00:00:00",
          "2020-05-18T00:00:00",
          "2020-05-19T00:00:00",
          "2020-05-20T00:00:00",
          "2020-05-21T00:00:00",
          "2020-05-22T00:00:00",
          "2020-05-23T00:00:00",
          "2020-05-24T00:00:00",
          "2020-05-25T00:00:00",
          "2020-05-26T00:00:00",
          "2020-05-27T00:00:00",
          "2020-05-28T00:00:00",
          "2020-05-29T00:00:00",
          "2020-05-30T00:00:00",
          "2020-05-31T00:00:00",
          "2020-06-01T00:00:00",
          "2020-06-02T00:00:00",
          "2020-06-03T00:00:00",
          "2020-06-04T00:00:00",
          "2020-06-05T00:00:00",
          "2020-06-06T00:00:00",
          "2020-06-07T00:00:00",
          "2020-06-08T00:00:00",
          "2020-06-09T00:00:00",
          "2020-06-10T00:00:00",
          "2020-06-11T00:00:00",
          "2020-06-12T00:00:00",
          "2020-06-13T00:00:00",
          "2020-06-14T00:00:00",
          "2020-06-15T00:00:00",
          "2020-06-16T00:00:00",
          "2020-06-17T00:00:00",
          "2020-06-18T00:00:00",
          "2020-06-19T00:00:00",
          "2020-06-20T00:00:00",
          "2020-06-21T00:00:00",
          "2020-06-22T00:00:00",
          "2020-06-23T00:00:00",
          "2020-06-24T00:00:00",
          "2020-06-25T00:00:00",
          "2020-06-26T00:00:00",
          "2020-06-27T00:00:00",
          "2020-06-28T00:00:00",
          "2020-06-29T00:00:00",
          "2020-06-30T00:00:00",
          "2020-07-01T00:00:00",
          "2020-07-02T00:00:00",
          "2020-07-03T00:00:00",
          "2020-07-04T00:00:00",
          "2020-07-05T00:00:00",
          "2020-07-06T00:00:00",
          "2020-07-07T00:00:00",
          "2020-07-08T00:00:00",
          "2020-07-09T00:00:00",
          "2020-07-10T00:00:00",
          "2020-07-11T00:00:00",
          "2020-07-12T00:00:00",
          "2020-07-13T00:00:00",
          "2020-07-14T00:00:00",
          "2020-07-15T00:00:00",
          "2020-07-16T00:00:00",
          "2020-07-17T00:00:00",
          "2020-07-18T00:00:00",
          "2020-07-19T00:00:00",
          "2020-07-20T00:00:00",
          "2020-07-21T00:00:00",
          "2020-07-22T00:00:00",
          "2020-07-23T00:00:00",
          "2020-07-24T00:00:00",
          "2020-07-25T00:00:00",
          "2020-07-26T00:00:00",
          "2020-07-27T00:00:00",
          "2020-07-28T00:00:00",
          "2020-07-29T00:00:00",
          "2020-07-30T00:00:00",
          "2020-07-31T00:00:00",
          "2020-08-01T00:00:00",
          "2020-08-02T00:00:00",
          "2020-08-03T00:00:00",
          "2020-08-04T00:00:00",
          "2020-08-05T00:00:00",
          "2020-08-06T00:00:00",
          "2020-08-07T00:00:00",
          "2020-08-08T00:00:00",
          "2020-08-09T00:00:00",
          "2020-08-10T00:00:00",
          "2020-08-11T00:00:00",
          "2020-08-12T00:00:00",
          "2020-08-13T00:00:00",
          "2020-08-14T00:00:00",
          "2020-08-15T00:00:00",
          "2020-08-16T00:00:00",
          "2020-08-17T00:00:00",
          "2020-08-18T00:00:00",
          "2020-08-19T00:00:00",
          "2020-08-20T00:00:00",
          "2020-08-21T00:00:00",
          "2020-08-22T00:00:00",
          "2020-08-23T00:00:00",
          "2020-08-24T00:00:00",
          "2020-08-25T00:00:00",
          "2020-08-26T00:00:00",
          "2020-08-27T00:00:00",
          "2020-08-28T00:00:00",
          "2020-08-29T00:00:00",
          "2020-08-30T00:00:00",
          "2020-08-31T00:00:00",
          "2020-09-01T00:00:00",
          "2020-09-02T00:00:00",
          "2020-09-03T00:00:00",
          "2020-09-04T00:00:00",
          "2020-09-05T00:00:00",
          "2020-09-06T00:00:00",
          "2020-09-07T00:00:00",
          "2020-09-08T00:00:00",
          "2020-09-09T00:00:00",
          "2020-09-10T00:00:00",
          "2020-09-11T00:00:00",
          "2020-09-12T00:00:00",
          "2020-09-13T00:00:00",
          "2020-09-14T00:00:00",
          "2020-09-15T00:00:00",
          "2020-09-16T00:00:00",
          "2020-09-17T00:00:00",
          "2020-09-18T00:00:00",
          "2020-09-19T00:00:00",
          "2020-09-20T00:00:00",
          "2020-09-21T00:00:00",
          "2020-09-22T00:00:00",
          "2020-09-23T00:00:00",
          "2020-09-24T00:00:00",
          "2020-09-25T00:00:00",
          "2020-09-26T00:00:00",
          "2020-09-27T00:00:00",
          "2020-09-28T00:00:00",
          "2020-09-29T00:00:00",
          "2020-09-30T00:00:00",
          "2020-10-01T00:00:00",
          "2020-10-02T00:00:00",
          "2020-10-03T00:00:00",
          "2020-10-04T00:00:00",
          "2020-10-05T00:00:00",
          "2020-10-06T00:00:00",
          "2020-10-07T00:00:00",
          "2020-10-08T00:00:00",
          "2020-10-09T00:00:00",
          "2020-10-10T00:00:00",
          "2020-10-11T00:00:00",
          "2020-10-12T00:00:00",
          "2020-10-13T00:00:00",
          "2020-10-14T00:00:00",
          "2020-10-15T00:00:00",
          "2020-10-16T00:00:00",
          "2020-10-17T00:00:00",
          "2020-10-18T00:00:00",
          "2020-10-19T00:00:00",
          "2020-10-20T00:00:00",
          "2020-10-21T00:00:00",
          "2020-10-22T00:00:00",
          "2020-10-23T00:00:00",
          "2020-10-24T00:00:00",
          "2020-10-25T00:00:00",
          "2020-10-26T00:00:00",
          "2020-10-27T00:00:00",
          "2020-10-28T00:00:00",
          "2020-10-29T00:00:00",
          "2020-10-30T00:00:00",
          "2020-10-31T00:00:00",
          "2020-11-01T00:00:00",
          "2020-11-02T00:00:00",
          "2020-11-03T00:00:00",
          "2020-11-04T00:00:00",
          "2020-11-05T00:00:00",
          "2020-11-06T00:00:00",
          "2020-11-07T00:00:00",
          "2020-11-08T00:00:00",
          "2020-11-09T00:00:00",
          "2020-11-10T00:00:00",
          "2020-11-11T00:00:00",
          "2020-11-12T00:00:00",
          "2020-11-13T00:00:00",
          "2020-11-14T00:00:00",
          "2020-11-15T00:00:00",
          "2020-11-16T00:00:00",
          "2020-11-17T00:00:00",
          "2020-11-18T00:00:00",
          "2020-11-19T00:00:00",
          "2020-11-20T00:00:00",
          "2020-11-21T00:00:00",
          "2020-11-22T00:00:00",
          "2020-11-23T00:00:00",
          "2020-11-24T00:00:00",
          "2020-11-25T00:00:00",
          "2020-11-26T00:00:00",
          "2020-11-27T00:00:00",
          "2020-11-28T00:00:00",
          "2020-11-29T00:00:00",
          "2020-11-30T00:00:00",
          "2020-12-01T00:00:00",
          "2020-12-02T00:00:00",
          "2020-12-03T00:00:00",
          "2020-12-04T00:00:00",
          "2020-12-05T00:00:00",
          "2020-12-06T00:00:00",
          "2020-12-07T00:00:00",
          "2020-12-08T00:00:00",
          "2020-12-09T00:00:00",
          "2020-12-10T00:00:00",
          "2020-12-11T00:00:00",
          "2020-12-12T00:00:00",
          "2020-12-13T00:00:00",
          "2020-12-14T00:00:00",
          "2020-12-15T00:00:00",
          "2020-12-16T00:00:00",
          "2020-12-17T00:00:00",
          "2020-12-18T00:00:00",
          "2020-12-19T00:00:00",
          "2020-12-20T00:00:00",
          "2020-12-21T00:00:00",
          "2020-12-22T00:00:00",
          "2020-12-23T00:00:00",
          "2020-12-24T00:00:00",
          "2020-12-25T00:00:00",
          "2020-12-26T00:00:00",
          "2020-12-27T00:00:00",
          "2020-12-28T00:00:00",
          "2020-12-29T00:00:00",
          "2020-12-30T00:00:00",
          "2020-12-31T00:00:00",
          "2021-01-01T00:00:00",
          "2021-01-02T00:00:00",
          "2021-01-03T00:00:00",
          "2021-01-04T00:00:00",
          "2021-01-05T00:00:00",
          "2021-01-06T00:00:00",
          "2021-01-07T00:00:00",
          "2021-01-08T00:00:00",
          "2021-01-09T00:00:00",
          "2021-01-10T00:00:00",
          "2021-01-11T00:00:00",
          "2021-01-12T00:00:00",
          "2021-01-13T00:00:00",
          "2021-01-14T00:00:00",
          "2021-01-15T00:00:00",
          "2021-01-16T00:00:00",
          "2021-01-17T00:00:00",
          "2021-01-18T00:00:00",
          "2021-01-19T00:00:00"
         ],
         "y": [
          70,
          70,
          70.767,
          72.24722805567465,
          74.39248525653178,
          77.15957240075426,
          80.50977366022414,
          84.40839156480233,
          88.8243282025149,
          93.72970804303644,
          99.09953825144325,
          104.91140277275424,
          111.14518683988665,
          117.78282889247522,
          124.80809719526509,
          132.20638871584904,
          139.96454806540157,
          148.0707045254837,
          156.51412538140434,
          165.28508396022679,
          174.374740931289,
          183.7750375708463,
          193.47859982175322,
          203.47865209542306,
          213.7689398679408,
          224.3436602163291,
          235.19739952563293,
          246.32507767364294,
          257.72189806857995,
          269.3833029766747,
          281.3049336319967,
          293.48259467073245,
          305.91222247694924,
          318.58985706720586,
          331.51161717764944,
          344.67367824986405,
          358.0722530410898,
          371.70357461083694,
          385.5638814596745,
          399.64940461734994,
          413.9563564966292,
          428.4809213465595,
          443.21924715443924,
          458.1674388598093,
          473.321552756414,
          488.67759196946184,
          504.23150290576984,
          519.9791725836202,
          535.9164267574934,
          552.0390287603619,
          568.342678993019,
          584.8230149960458,
          601.4756120455635,
          618.2959842189306,
          635.2795858810789,
          652.4218135462966,
          669.7180080739921,
          687.1634571603589,
          704.7533980909371,
          722.4830207218677,
          740.3474706601874,
          758.3418526158406,
          776.4612339002139,
          794.7006480479453,
          813.0550985405515,
          831.5195626120541,
          850.088995118299,
          868.7583324530563,
          887.5224964952747,
          906.3763985730573,
          925.3149434310274,
          944.3330331887868,
          963.4255712791166,
          982.5874663554705,
          1001.8136361591392,
          1021.0990113372483,
          1040.4385392034828,
          1059.8271874341192,
          1079.2599476925936,
          1098.7318391764463,
          1118.2379120810529,
          1137.7732509751008,
          1157.3329780832828,
          1176.9122564721608,
          1196.506293135618,
          1216.110341976753,
          1235.719706683477,
          1255.329743495476,
          1274.9358638605618,
          1294.5335369787945,
          1314.118292233086,
          1333.6857215053183,
          1353.2314813772978,
          1372.751295216163,
          1392.240955144118,
          1411.696323892623,
          1431.11333654141,
          1450.4880021429153,
          1469.816405232929,
          1489.0947072284614,
          1508.3191477140115,
          1527.4860456175895,
          1546.5918002780159,
          1565.6328924051572,
          1584.6058849349076,
          1603.5074237808424,
          1622.3342384845948,
          1641.0831427671103,
          1659.751034983027,
          1678.3348984805243,
          1696.8318018690552,
          1715.2388991974497,
          1733.5534300449374,
          1751.7727195276887,
          1769.894178223522,
          1787.9153020174597,
          1805.833671870847,
          1823.6469535167703,
          1841.3528970845296,
          1858.94933665593,
          1876.43418975616,
          1893.805456782027,
          1911.0612203703088,
          1928.1996447089741,
          1945.218974794003,
          1962.1175356345223,
          1978.893731408939,
          1995.5460445747365,
          2012.0730349345522,
          2028.47333866113,
          2044.7456672836931,
          2060.888806638249,
          2076.9016157842816,
          2092.7830258902486,
          2108.532039090249,
          2124.147727314166,
          2139.6292310935514,
          2154.975758345449,
          2170.1865831363007,
          2185.2610444280317,
          2200.198544808333,
          2214.9985492071146,
          2229.6605836010413,
          2244.1842337079893,
          2258.5691436732154,
          2272.8150147489605,
          2286.9216039691487,
          2300.888722820782,
          2314.716235913568,
          2328.4040596492637,
          2341.952160892137,
          2355.3605556419175,
          2368.6293077105233,
          2381.7585274038006,
          2394.748370209454,
          2407.599035492291,
          2420.3107651978385,
          2432.8838425653444,
          2445.318590851112,
          2457.6153720630687,
          2469.7745857074174,
          2481.7966675481593,
          2493.682088380241,
          2505.431352817014,
          2517.04499809266,
          2528.523592880179,
          2539.8677361255022,
          2551.0780558982356,
          2562.1552082595085,
          2573.099876147355,
          2583.912768280015,
          2594.5946180775068,
          2605.1461826017853,
          2615.56824151576,
          2625.8615960614175,
          2636.0270680572585,
          2646.065498915224,
          2655.97774867726,
          2665.764695071637,
          2675.427232589115,
          2684.9662715790137,
          2694.3827373652275,
          2703.6775693821987,
          2712.851720330833,
          2721.906155354329,
          2730.841851233868,
          2739.659795604087,
          2748.3609861882424,
          2756.946430052961,
          2765.417142882442,
          2773.774148271971,
          2782.0184770405926,
          2790.1511665627622,
          2798.1732601187996,
          2806.0858062639454,
          2813.889858215812,
          2821.586473260014,
          2829.176712173746,
          2836.6616386670794,
          2844.0423188417235,
          2851.3198206670113,
          2858.4952134728414,
          2865.569567459319,
          2872.543953222822,
          2879.419441298223,
          2886.1971017169813,
          2892.8780035808327,
          2899.463214650783,
          2905.953800951124,
          2912.350826388178,
          2918.655352383484,
          2924.868437521128,
          2930.9911372089286,
          2937.024503353183,
          2942.969584046677,
          2948.8274232696717,
          2954.599060603567,
          2960.2855309569572,
          2965.8878643037847,
          2971.407085433302,
          2976.8442137115608,
          2982.2002628541345,
          2987.4762407098015,
          2992.6731490549028,
          2997.7919833980964,
          3002.8337327952395,
          3007.799379674121,
          3012.6898996687814,
          3017.5062614631497,
          3022.2494266437416,
          3026.9203495611596,
          3031.519977200138,
          3036.0492490578854,
          3040.50909703048,
          3044.9004453070706,
          3049.2242102716505,
          3053.4813004121643,
          3057.6726162367236,
          3061.7990501966997,
          3065.8614866164776,
          3069.8608016296475,
          3073.7978631214273,
          3077.6735306771006,
          3081.4886555362714,
          3085.24408055273,
          3088.940640159738,
          3092.5791603405387,
          3096.1604586039043,
          3099.68534396454,
          3103.154616928162
         ]
        },
        {
         "line": {
          "width": 2
         },
         "marker": {
          "size": 6
         },
         "mode": "lines+markers",
         "name": "Deaths Jalisco (Data as reported)",
         "opacity": 1,
         "type": "scatter",
         "x": [
          "2020-05-15T00:00:00",
          "2020-05-16T00:00:00",
          "2020-05-17T00:00:00",
          "2020-05-18T00:00:00",
          "2020-05-19T00:00:00",
          "2020-05-20T00:00:00",
          "2020-05-21T00:00:00",
          "2020-05-22T00:00:00",
          "2020-05-23T00:00:00",
          "2020-05-24T00:00:00",
          "2020-05-25T00:00:00",
          "2020-05-26T00:00:00",
          "2020-05-27T00:00:00",
          "2020-05-28T00:00:00",
          "2020-05-29T00:00:00",
          "2020-05-30T00:00:00",
          "2020-05-31T00:00:00",
          "2020-06-01T00:00:00",
          "2020-06-02T00:00:00",
          "2020-06-03T00:00:00",
          "2020-06-04T00:00:00",
          "2020-06-05T00:00:00",
          "2020-06-06T00:00:00",
          "2020-06-07T00:00:00",
          "2020-06-08T00:00:00",
          "2020-06-09T00:00:00",
          "2020-06-10T00:00:00",
          "2020-06-11T00:00:00",
          "2020-06-12T00:00:00",
          "2020-06-13T00:00:00",
          "2020-06-14T00:00:00",
          "2020-06-15T00:00:00",
          "2020-06-16T00:00:00",
          "2020-06-17T00:00:00",
          "2020-06-18T00:00:00",
          "2020-06-19T00:00:00",
          "2020-06-20T00:00:00",
          "2020-06-21T00:00:00",
          "2020-06-22T00:00:00",
          "2020-06-23T00:00:00",
          "2020-06-24T00:00:00",
          "2020-06-25T00:00:00",
          "2020-06-26T00:00:00",
          "2020-06-27T00:00:00",
          "2020-06-28T00:00:00",
          "2020-06-29T00:00:00",
          "2020-06-30T00:00:00",
          "2020-07-01T00:00:00"
         ],
         "y": [
          70,
          77,
          82,
          85,
          91,
          96,
          97,
          102,
          102,
          107,
          115,
          123,
          126,
          130,
          133,
          136,
          140,
          148,
          161,
          177,
          186,
          207,
          223,
          233,
          249,
          263,
          275,
          301,
          309,
          317,
          325,
          339,
          357,
          398,
          420,
          428,
          438,
          457,
          468,
          488,
          523,
          556,
          595,
          613,
          628,
          656,
          685,
          722
         ]
        }
       ],
       "layout": {
        "legend": {
         "bgcolor": "rgba(0,0,0,0)",
         "font": {
          "family": "sans-serif",
          "size": 14
         },
         "traceorder": "normal",
         "x": 0.1,
         "y": 0.95
        },
        "showlegend": true,
        "template": {
         "data": {
          "bar": [
           {
            "error_x": {
             "color": "#2a3f5f"
            },
            "error_y": {
             "color": "#2a3f5f"
            },
            "marker": {
             "line": {
              "color": "#E5ECF6",
              "width": 0.5
             }
            },
            "type": "bar"
           }
          ],
          "barpolar": [
           {
            "marker": {
             "line": {
              "color": "#E5ECF6",
              "width": 0.5
             }
            },
            "type": "barpolar"
           }
          ],
          "carpet": [
           {
            "aaxis": {
             "endlinecolor": "#2a3f5f",
             "gridcolor": "white",
             "linecolor": "white",
             "minorgridcolor": "white",
             "startlinecolor": "#2a3f5f"
            },
            "baxis": {
             "endlinecolor": "#2a3f5f",
             "gridcolor": "white",
             "linecolor": "white",
             "minorgridcolor": "white",
             "startlinecolor": "#2a3f5f"
            },
            "type": "carpet"
           }
          ],
          "choropleth": [
           {
            "colorbar": {
             "outlinewidth": 0,
             "ticks": ""
            },
            "type": "choropleth"
           }
          ],
          "contour": [
           {
            "colorbar": {
             "outlinewidth": 0,
             "ticks": ""
            },
            "colorscale": [
             [
              0,
              "#0d0887"
             ],
             [
              0.1111111111111111,
              "#46039f"
             ],
             [
              0.2222222222222222,
              "#7201a8"
             ],
             [
              0.3333333333333333,
              "#9c179e"
             ],
             [
              0.4444444444444444,
              "#bd3786"
             ],
             [
              0.5555555555555556,
              "#d8576b"
             ],
             [
              0.6666666666666666,
              "#ed7953"
             ],
             [
              0.7777777777777778,
              "#fb9f3a"
             ],
             [
              0.8888888888888888,
              "#fdca26"
             ],
             [
              1,
              "#f0f921"
             ]
            ],
            "type": "contour"
           }
          ],
          "contourcarpet": [
           {
            "colorbar": {
             "outlinewidth": 0,
             "ticks": ""
            },
            "type": "contourcarpet"
           }
          ],
          "heatmap": [
           {
            "colorbar": {
             "outlinewidth": 0,
             "ticks": ""
            },
            "colorscale": [
             [
              0,
              "#0d0887"
             ],
             [
              0.1111111111111111,
              "#46039f"
             ],
             [
              0.2222222222222222,
              "#7201a8"
             ],
             [
              0.3333333333333333,
              "#9c179e"
             ],
             [
              0.4444444444444444,
              "#bd3786"
             ],
             [
              0.5555555555555556,
              "#d8576b"
             ],
             [
              0.6666666666666666,
              "#ed7953"
             ],
             [
              0.7777777777777778,
              "#fb9f3a"
             ],
             [
              0.8888888888888888,
              "#fdca26"
             ],
             [
              1,
              "#f0f921"
             ]
            ],
            "type": "heatmap"
           }
          ],
          "heatmapgl": [
           {
            "colorbar": {
             "outlinewidth": 0,
             "ticks": ""
            },
            "colorscale": [
             [
              0,
              "#0d0887"
             ],
             [
              0.1111111111111111,
              "#46039f"
             ],
             [
              0.2222222222222222,
              "#7201a8"
             ],
             [
              0.3333333333333333,
              "#9c179e"
             ],
             [
              0.4444444444444444,
              "#bd3786"
             ],
             [
              0.5555555555555556,
              "#d8576b"
             ],
             [
              0.6666666666666666,
              "#ed7953"
             ],
             [
              0.7777777777777778,
              "#fb9f3a"
             ],
             [
              0.8888888888888888,
              "#fdca26"
             ],
             [
              1,
              "#f0f921"
             ]
            ],
            "type": "heatmapgl"
           }
          ],
          "histogram": [
           {
            "marker": {
             "colorbar": {
              "outlinewidth": 0,
              "ticks": ""
             }
            },
            "type": "histogram"
           }
          ],
          "histogram2d": [
           {
            "colorbar": {
             "outlinewidth": 0,
             "ticks": ""
            },
            "colorscale": [
             [
              0,
              "#0d0887"
             ],
             [
              0.1111111111111111,
              "#46039f"
             ],
             [
              0.2222222222222222,
              "#7201a8"
             ],
             [
              0.3333333333333333,
              "#9c179e"
             ],
             [
              0.4444444444444444,
              "#bd3786"
             ],
             [
              0.5555555555555556,
              "#d8576b"
             ],
             [
              0.6666666666666666,
              "#ed7953"
             ],
             [
              0.7777777777777778,
              "#fb9f3a"
             ],
             [
              0.8888888888888888,
              "#fdca26"
             ],
             [
              1,
              "#f0f921"
             ]
            ],
            "type": "histogram2d"
           }
          ],
          "histogram2dcontour": [
           {
            "colorbar": {
             "outlinewidth": 0,
             "ticks": ""
            },
            "colorscale": [
             [
              0,
              "#0d0887"
             ],
             [
              0.1111111111111111,
              "#46039f"
             ],
             [
              0.2222222222222222,
              "#7201a8"
             ],
             [
              0.3333333333333333,
              "#9c179e"
             ],
             [
              0.4444444444444444,
              "#bd3786"
             ],
             [
              0.5555555555555556,
              "#d8576b"
             ],
             [
              0.6666666666666666,
              "#ed7953"
             ],
             [
              0.7777777777777778,
              "#fb9f3a"
             ],
             [
              0.8888888888888888,
              "#fdca26"
             ],
             [
              1,
              "#f0f921"
             ]
            ],
            "type": "histogram2dcontour"
           }
          ],
          "mesh3d": [
           {
            "colorbar": {
             "outlinewidth": 0,
             "ticks": ""
            },
            "type": "mesh3d"
           }
          ],
          "parcoords": [
           {
            "line": {
             "colorbar": {
              "outlinewidth": 0,
              "ticks": ""
             }
            },
            "type": "parcoords"
           }
          ],
          "pie": [
           {
            "automargin": true,
            "type": "pie"
           }
          ],
          "scatter": [
           {
            "marker": {
             "colorbar": {
              "outlinewidth": 0,
              "ticks": ""
             }
            },
            "type": "scatter"
           }
          ],
          "scatter3d": [
           {
            "line": {
             "colorbar": {
              "outlinewidth": 0,
              "ticks": ""
             }
            },
            "marker": {
             "colorbar": {
              "outlinewidth": 0,
              "ticks": ""
             }
            },
            "type": "scatter3d"
           }
          ],
          "scattercarpet": [
           {
            "marker": {
             "colorbar": {
              "outlinewidth": 0,
              "ticks": ""
             }
            },
            "type": "scattercarpet"
           }
          ],
          "scattergeo": [
           {
            "marker": {
             "colorbar": {
              "outlinewidth": 0,
              "ticks": ""
             }
            },
            "type": "scattergeo"
           }
          ],
          "scattergl": [
           {
            "marker": {
             "colorbar": {
              "outlinewidth": 0,
              "ticks": ""
             }
            },
            "type": "scattergl"
           }
          ],
          "scattermapbox": [
           {
            "marker": {
             "colorbar": {
              "outlinewidth": 0,
              "ticks": ""
             }
            },
            "type": "scattermapbox"
           }
          ],
          "scatterpolar": [
           {
            "marker": {
             "colorbar": {
              "outlinewidth": 0,
              "ticks": ""
             }
            },
            "type": "scatterpolar"
           }
          ],
          "scatterpolargl": [
           {
            "marker": {
             "colorbar": {
              "outlinewidth": 0,
              "ticks": ""
             }
            },
            "type": "scatterpolargl"
           }
          ],
          "scatterternary": [
           {
            "marker": {
             "colorbar": {
              "outlinewidth": 0,
              "ticks": ""
             }
            },
            "type": "scatterternary"
           }
          ],
          "surface": [
           {
            "colorbar": {
             "outlinewidth": 0,
             "ticks": ""
            },
            "colorscale": [
             [
              0,
              "#0d0887"
             ],
             [
              0.1111111111111111,
              "#46039f"
             ],
             [
              0.2222222222222222,
              "#7201a8"
             ],
             [
              0.3333333333333333,
              "#9c179e"
             ],
             [
              0.4444444444444444,
              "#bd3786"
             ],
             [
              0.5555555555555556,
              "#d8576b"
             ],
             [
              0.6666666666666666,
              "#ed7953"
             ],
             [
              0.7777777777777778,
              "#fb9f3a"
             ],
             [
              0.8888888888888888,
              "#fdca26"
             ],
             [
              1,
              "#f0f921"
             ]
            ],
            "type": "surface"
           }
          ],
          "table": [
           {
            "cells": {
             "fill": {
              "color": "#EBF0F8"
             },
             "line": {
              "color": "white"
             }
            },
            "header": {
             "fill": {
              "color": "#C8D4E3"
             },
             "line": {
              "color": "white"
             }
            },
            "type": "table"
           }
          ]
         },
         "layout": {
          "annotationdefaults": {
           "arrowcolor": "#2a3f5f",
           "arrowhead": 0,
           "arrowwidth": 1
          },
          "coloraxis": {
           "colorbar": {
            "outlinewidth": 0,
            "ticks": ""
           }
          },
          "colorscale": {
           "diverging": [
            [
             0,
             "#8e0152"
            ],
            [
             0.1,
             "#c51b7d"
            ],
            [
             0.2,
             "#de77ae"
            ],
            [
             0.3,
             "#f1b6da"
            ],
            [
             0.4,
             "#fde0ef"
            ],
            [
             0.5,
             "#f7f7f7"
            ],
            [
             0.6,
             "#e6f5d0"
            ],
            [
             0.7,
             "#b8e186"
            ],
            [
             0.8,
             "#7fbc41"
            ],
            [
             0.9,
             "#4d9221"
            ],
            [
             1,
             "#276419"
            ]
           ],
           "sequential": [
            [
             0,
             "#0d0887"
            ],
            [
             0.1111111111111111,
             "#46039f"
            ],
            [
             0.2222222222222222,
             "#7201a8"
            ],
            [
             0.3333333333333333,
             "#9c179e"
            ],
            [
             0.4444444444444444,
             "#bd3786"
            ],
            [
             0.5555555555555556,
             "#d8576b"
            ],
            [
             0.6666666666666666,
             "#ed7953"
            ],
            [
             0.7777777777777778,
             "#fb9f3a"
            ],
            [
             0.8888888888888888,
             "#fdca26"
            ],
            [
             1,
             "#f0f921"
            ]
           ],
           "sequentialminus": [
            [
             0,
             "#0d0887"
            ],
            [
             0.1111111111111111,
             "#46039f"
            ],
            [
             0.2222222222222222,
             "#7201a8"
            ],
            [
             0.3333333333333333,
             "#9c179e"
            ],
            [
             0.4444444444444444,
             "#bd3786"
            ],
            [
             0.5555555555555556,
             "#d8576b"
            ],
            [
             0.6666666666666666,
             "#ed7953"
            ],
            [
             0.7777777777777778,
             "#fb9f3a"
            ],
            [
             0.8888888888888888,
             "#fdca26"
            ],
            [
             1,
             "#f0f921"
            ]
           ]
          },
          "colorway": [
           "#636efa",
           "#EF553B",
           "#00cc96",
           "#ab63fa",
           "#FFA15A",
           "#19d3f3",
           "#FF6692",
           "#B6E880",
           "#FF97FF",
           "#FECB52"
          ],
          "font": {
           "color": "#2a3f5f"
          },
          "geo": {
           "bgcolor": "white",
           "lakecolor": "white",
           "landcolor": "#E5ECF6",
           "showlakes": true,
           "showland": true,
           "subunitcolor": "white"
          },
          "hoverlabel": {
           "align": "left"
          },
          "hovermode": "closest",
          "mapbox": {
           "style": "light"
          },
          "paper_bgcolor": "white",
          "plot_bgcolor": "#E5ECF6",
          "polar": {
           "angularaxis": {
            "gridcolor": "white",
            "linecolor": "white",
            "ticks": ""
           },
           "bgcolor": "#E5ECF6",
           "radialaxis": {
            "gridcolor": "white",
            "linecolor": "white",
            "ticks": ""
           }
          },
          "scene": {
           "xaxis": {
            "backgroundcolor": "#E5ECF6",
            "gridcolor": "white",
            "gridwidth": 2,
            "linecolor": "white",
            "showbackground": true,
            "ticks": "",
            "zerolinecolor": "white"
           },
           "yaxis": {
            "backgroundcolor": "#E5ECF6",
            "gridcolor": "white",
            "gridwidth": 2,
            "linecolor": "white",
            "showbackground": true,
            "ticks": "",
            "zerolinecolor": "white"
           },
           "zaxis": {
            "backgroundcolor": "#E5ECF6",
            "gridcolor": "white",
            "gridwidth": 2,
            "linecolor": "white",
            "showbackground": true,
            "ticks": "",
            "zerolinecolor": "white"
           }
          },
          "shapedefaults": {
           "line": {
            "color": "#2a3f5f"
           }
          },
          "ternary": {
           "aaxis": {
            "gridcolor": "white",
            "linecolor": "white",
            "ticks": ""
           },
           "baxis": {
            "gridcolor": "white",
            "linecolor": "white",
            "ticks": ""
           },
           "bgcolor": "#E5ECF6",
           "caxis": {
            "gridcolor": "white",
            "linecolor": "white",
            "ticks": ""
           }
          },
          "title": {
           "x": 0.05
          },
          "xaxis": {
           "automargin": true,
           "gridcolor": "white",
           "linecolor": "white",
           "ticks": "",
           "title": {
            "standoff": 15
           },
           "zerolinecolor": "white",
           "zerolinewidth": 2
          },
          "yaxis": {
           "automargin": true,
           "gridcolor": "white",
           "linecolor": "white",
           "ticks": "",
           "title": {
            "standoff": 15
           },
           "zerolinecolor": "white",
           "zerolinewidth": 2
          }
         }
        },
        "title": {
         "text": "Model/Data Jalisco - deaths",
         "x": 0.5
        },
        "yaxis": {
         "type": "linear"
        }
       }
      },
      "text/html": [
       "<div>\n",
       "        \n",
       "        \n",
       "            <div id=\"50dda5c2-c95e-442e-a58a-dbb6a4f0e457\" class=\"plotly-graph-div\" style=\"height:525px; width:100%;\"></div>\n",
       "            <script type=\"text/javascript\">\n",
       "                require([\"plotly\"], function(Plotly) {\n",
       "                    window.PLOTLYENV=window.PLOTLYENV || {};\n",
       "                    \n",
       "                if (document.getElementById(\"50dda5c2-c95e-442e-a58a-dbb6a4f0e457\")) {\n",
       "                    Plotly.newPlot(\n",
       "                        '50dda5c2-c95e-442e-a58a-dbb6a4f0e457',\n",
       "                        [{\"line\": {\"width\": 2}, \"marker\": {\"size\": 6}, \"mode\": \"lines+markers\", \"name\": \"Deaths Jalisco (Model #5)\", \"opacity\": 1, \"type\": \"scatter\", \"x\": [\"2020-05-15T00:00:00\", \"2020-05-16T00:00:00\", \"2020-05-17T00:00:00\", \"2020-05-18T00:00:00\", \"2020-05-19T00:00:00\", \"2020-05-20T00:00:00\", \"2020-05-21T00:00:00\", \"2020-05-22T00:00:00\", \"2020-05-23T00:00:00\", \"2020-05-24T00:00:00\", \"2020-05-25T00:00:00\", \"2020-05-26T00:00:00\", \"2020-05-27T00:00:00\", \"2020-05-28T00:00:00\", \"2020-05-29T00:00:00\", \"2020-05-30T00:00:00\", \"2020-05-31T00:00:00\", \"2020-06-01T00:00:00\", \"2020-06-02T00:00:00\", \"2020-06-03T00:00:00\", \"2020-06-04T00:00:00\", \"2020-06-05T00:00:00\", \"2020-06-06T00:00:00\", \"2020-06-07T00:00:00\", \"2020-06-08T00:00:00\", \"2020-06-09T00:00:00\", \"2020-06-10T00:00:00\", \"2020-06-11T00:00:00\", \"2020-06-12T00:00:00\", \"2020-06-13T00:00:00\", \"2020-06-14T00:00:00\", \"2020-06-15T00:00:00\", \"2020-06-16T00:00:00\", \"2020-06-17T00:00:00\", \"2020-06-18T00:00:00\", \"2020-06-19T00:00:00\", \"2020-06-20T00:00:00\", \"2020-06-21T00:00:00\", \"2020-06-22T00:00:00\", \"2020-06-23T00:00:00\", \"2020-06-24T00:00:00\", \"2020-06-25T00:00:00\", \"2020-06-26T00:00:00\", \"2020-06-27T00:00:00\", \"2020-06-28T00:00:00\", \"2020-06-29T00:00:00\", \"2020-06-30T00:00:00\", \"2020-07-01T00:00:00\", \"2020-07-02T00:00:00\", \"2020-07-03T00:00:00\", \"2020-07-04T00:00:00\", \"2020-07-05T00:00:00\", \"2020-07-06T00:00:00\", \"2020-07-07T00:00:00\", \"2020-07-08T00:00:00\", \"2020-07-09T00:00:00\", \"2020-07-10T00:00:00\", \"2020-07-11T00:00:00\", \"2020-07-12T00:00:00\", \"2020-07-13T00:00:00\", \"2020-07-14T00:00:00\", \"2020-07-15T00:00:00\", \"2020-07-16T00:00:00\", \"2020-07-17T00:00:00\", \"2020-07-18T00:00:00\", \"2020-07-19T00:00:00\", \"2020-07-20T00:00:00\", \"2020-07-21T00:00:00\", \"2020-07-22T00:00:00\", \"2020-07-23T00:00:00\", \"2020-07-24T00:00:00\", \"2020-07-25T00:00:00\", \"2020-07-26T00:00:00\", \"2020-07-27T00:00:00\", \"2020-07-28T00:00:00\", \"2020-07-29T00:00:00\", \"2020-07-30T00:00:00\", \"2020-07-31T00:00:00\", \"2020-08-01T00:00:00\", \"2020-08-02T00:00:00\", \"2020-08-03T00:00:00\", \"2020-08-04T00:00:00\", \"2020-08-05T00:00:00\", \"2020-08-06T00:00:00\", \"2020-08-07T00:00:00\", \"2020-08-08T00:00:00\", \"2020-08-09T00:00:00\", \"2020-08-10T00:00:00\", \"2020-08-11T00:00:00\", \"2020-08-12T00:00:00\", \"2020-08-13T00:00:00\", \"2020-08-14T00:00:00\", \"2020-08-15T00:00:00\", \"2020-08-16T00:00:00\", \"2020-08-17T00:00:00\", \"2020-08-18T00:00:00\", \"2020-08-19T00:00:00\", \"2020-08-20T00:00:00\", \"2020-08-21T00:00:00\", \"2020-08-22T00:00:00\", \"2020-08-23T00:00:00\", \"2020-08-24T00:00:00\", \"2020-08-25T00:00:00\", \"2020-08-26T00:00:00\", \"2020-08-27T00:00:00\", \"2020-08-28T00:00:00\", \"2020-08-29T00:00:00\", \"2020-08-30T00:00:00\", \"2020-08-31T00:00:00\", \"2020-09-01T00:00:00\", \"2020-09-02T00:00:00\", \"2020-09-03T00:00:00\", \"2020-09-04T00:00:00\", \"2020-09-05T00:00:00\", \"2020-09-06T00:00:00\", \"2020-09-07T00:00:00\", \"2020-09-08T00:00:00\", \"2020-09-09T00:00:00\", \"2020-09-10T00:00:00\", \"2020-09-11T00:00:00\", \"2020-09-12T00:00:00\", \"2020-09-13T00:00:00\", \"2020-09-14T00:00:00\", \"2020-09-15T00:00:00\", \"2020-09-16T00:00:00\", \"2020-09-17T00:00:00\", \"2020-09-18T00:00:00\", \"2020-09-19T00:00:00\", \"2020-09-20T00:00:00\", \"2020-09-21T00:00:00\", \"2020-09-22T00:00:00\", \"2020-09-23T00:00:00\", \"2020-09-24T00:00:00\", \"2020-09-25T00:00:00\", \"2020-09-26T00:00:00\", \"2020-09-27T00:00:00\", \"2020-09-28T00:00:00\", \"2020-09-29T00:00:00\", \"2020-09-30T00:00:00\", \"2020-10-01T00:00:00\", \"2020-10-02T00:00:00\", \"2020-10-03T00:00:00\", \"2020-10-04T00:00:00\", \"2020-10-05T00:00:00\", \"2020-10-06T00:00:00\", \"2020-10-07T00:00:00\", \"2020-10-08T00:00:00\", \"2020-10-09T00:00:00\", \"2020-10-10T00:00:00\", \"2020-10-11T00:00:00\", \"2020-10-12T00:00:00\", \"2020-10-13T00:00:00\", \"2020-10-14T00:00:00\", \"2020-10-15T00:00:00\", \"2020-10-16T00:00:00\", \"2020-10-17T00:00:00\", \"2020-10-18T00:00:00\", \"2020-10-19T00:00:00\", \"2020-10-20T00:00:00\", \"2020-10-21T00:00:00\", \"2020-10-22T00:00:00\", \"2020-10-23T00:00:00\", \"2020-10-24T00:00:00\", \"2020-10-25T00:00:00\", \"2020-10-26T00:00:00\", \"2020-10-27T00:00:00\", \"2020-10-28T00:00:00\", \"2020-10-29T00:00:00\", \"2020-10-30T00:00:00\", \"2020-10-31T00:00:00\", \"2020-11-01T00:00:00\", \"2020-11-02T00:00:00\", \"2020-11-03T00:00:00\", \"2020-11-04T00:00:00\", \"2020-11-05T00:00:00\", \"2020-11-06T00:00:00\", \"2020-11-07T00:00:00\", \"2020-11-08T00:00:00\", \"2020-11-09T00:00:00\", \"2020-11-10T00:00:00\", \"2020-11-11T00:00:00\", \"2020-11-12T00:00:00\", \"2020-11-13T00:00:00\", \"2020-11-14T00:00:00\", \"2020-11-15T00:00:00\", \"2020-11-16T00:00:00\", \"2020-11-17T00:00:00\", \"2020-11-18T00:00:00\", \"2020-11-19T00:00:00\", \"2020-11-20T00:00:00\", \"2020-11-21T00:00:00\", \"2020-11-22T00:00:00\", \"2020-11-23T00:00:00\", \"2020-11-24T00:00:00\", \"2020-11-25T00:00:00\", \"2020-11-26T00:00:00\", \"2020-11-27T00:00:00\", \"2020-11-28T00:00:00\", \"2020-11-29T00:00:00\", \"2020-11-30T00:00:00\", \"2020-12-01T00:00:00\", \"2020-12-02T00:00:00\", \"2020-12-03T00:00:00\", \"2020-12-04T00:00:00\", \"2020-12-05T00:00:00\", \"2020-12-06T00:00:00\", \"2020-12-07T00:00:00\", \"2020-12-08T00:00:00\", \"2020-12-09T00:00:00\", \"2020-12-10T00:00:00\", \"2020-12-11T00:00:00\", \"2020-12-12T00:00:00\", \"2020-12-13T00:00:00\", \"2020-12-14T00:00:00\", \"2020-12-15T00:00:00\", \"2020-12-16T00:00:00\", \"2020-12-17T00:00:00\", \"2020-12-18T00:00:00\", \"2020-12-19T00:00:00\", \"2020-12-20T00:00:00\", \"2020-12-21T00:00:00\", \"2020-12-22T00:00:00\", \"2020-12-23T00:00:00\", \"2020-12-24T00:00:00\", \"2020-12-25T00:00:00\", \"2020-12-26T00:00:00\", \"2020-12-27T00:00:00\", \"2020-12-28T00:00:00\", \"2020-12-29T00:00:00\", \"2020-12-30T00:00:00\", \"2020-12-31T00:00:00\", \"2021-01-01T00:00:00\", \"2021-01-02T00:00:00\", \"2021-01-03T00:00:00\", \"2021-01-04T00:00:00\", \"2021-01-05T00:00:00\", \"2021-01-06T00:00:00\", \"2021-01-07T00:00:00\", \"2021-01-08T00:00:00\", \"2021-01-09T00:00:00\", \"2021-01-10T00:00:00\", \"2021-01-11T00:00:00\", \"2021-01-12T00:00:00\", \"2021-01-13T00:00:00\", \"2021-01-14T00:00:00\", \"2021-01-15T00:00:00\", \"2021-01-16T00:00:00\", \"2021-01-17T00:00:00\", \"2021-01-18T00:00:00\", \"2021-01-19T00:00:00\"], \"y\": [70.0, 70.0, 70.767, 72.24722805567465, 74.39248525653178, 77.15957240075426, 80.50977366022414, 84.40839156480233, 88.8243282025149, 93.72970804303644, 99.09953825144325, 104.91140277275424, 111.14518683988665, 117.78282889247522, 124.80809719526509, 132.20638871584904, 139.96454806540157, 148.0707045254837, 156.51412538140434, 165.28508396022679, 174.374740931289, 183.7750375708463, 193.47859982175322, 203.47865209542306, 213.7689398679408, 224.3436602163291, 235.19739952563293, 246.32507767364294, 257.72189806857995, 269.3833029766747, 281.3049336319967, 293.48259467073245, 305.91222247694924, 318.58985706720586, 331.51161717764944, 344.67367824986405, 358.0722530410898, 371.70357461083694, 385.5638814596745, 399.64940461734994, 413.9563564966292, 428.4809213465595, 443.21924715443924, 458.1674388598093, 473.321552756414, 488.67759196946184, 504.23150290576984, 519.9791725836202, 535.9164267574934, 552.0390287603619, 568.342678993019, 584.8230149960458, 601.4756120455635, 618.2959842189306, 635.2795858810789, 652.4218135462966, 669.7180080739921, 687.1634571603589, 704.7533980909371, 722.4830207218677, 740.3474706601874, 758.3418526158406, 776.4612339002139, 794.7006480479453, 813.0550985405515, 831.5195626120541, 850.088995118299, 868.7583324530563, 887.5224964952747, 906.3763985730573, 925.3149434310274, 944.3330331887868, 963.4255712791166, 982.5874663554705, 1001.8136361591392, 1021.0990113372483, 1040.4385392034828, 1059.8271874341192, 1079.2599476925936, 1098.7318391764463, 1118.2379120810529, 1137.7732509751008, 1157.3329780832828, 1176.9122564721608, 1196.506293135618, 1216.110341976753, 1235.719706683477, 1255.329743495476, 1274.9358638605618, 1294.5335369787945, 1314.118292233086, 1333.6857215053183, 1353.2314813772978, 1372.751295216163, 1392.240955144118, 1411.696323892623, 1431.11333654141, 1450.4880021429153, 1469.816405232929, 1489.0947072284614, 1508.3191477140115, 1527.4860456175895, 1546.5918002780159, 1565.6328924051572, 1584.6058849349076, 1603.5074237808424, 1622.3342384845948, 1641.0831427671103, 1659.751034983027, 1678.3348984805243, 1696.8318018690552, 1715.2388991974497, 1733.5534300449374, 1751.7727195276887, 1769.894178223522, 1787.9153020174597, 1805.833671870847, 1823.6469535167703, 1841.3528970845296, 1858.94933665593, 1876.43418975616, 1893.805456782027, 1911.0612203703088, 1928.1996447089741, 1945.218974794003, 1962.1175356345223, 1978.893731408939, 1995.5460445747365, 2012.0730349345522, 2028.47333866113, 2044.7456672836931, 2060.888806638249, 2076.9016157842816, 2092.7830258902486, 2108.532039090249, 2124.147727314166, 2139.6292310935514, 2154.975758345449, 2170.1865831363007, 2185.2610444280317, 2200.198544808333, 2214.9985492071146, 2229.6605836010413, 2244.1842337079893, 2258.5691436732154, 2272.8150147489605, 2286.9216039691487, 2300.888722820782, 2314.716235913568, 2328.4040596492637, 2341.952160892137, 2355.3605556419175, 2368.6293077105233, 2381.7585274038006, 2394.748370209454, 2407.599035492291, 2420.3107651978385, 2432.8838425653444, 2445.318590851112, 2457.6153720630687, 2469.7745857074174, 2481.7966675481593, 2493.682088380241, 2505.431352817014, 2517.04499809266, 2528.523592880179, 2539.8677361255022, 2551.0780558982356, 2562.1552082595085, 2573.099876147355, 2583.912768280015, 2594.5946180775068, 2605.1461826017853, 2615.56824151576, 2625.8615960614175, 2636.0270680572585, 2646.065498915224, 2655.97774867726, 2665.764695071637, 2675.427232589115, 2684.9662715790137, 2694.3827373652275, 2703.6775693821987, 2712.851720330833, 2721.906155354329, 2730.841851233868, 2739.659795604087, 2748.3609861882424, 2756.946430052961, 2765.417142882442, 2773.774148271971, 2782.0184770405926, 2790.1511665627622, 2798.1732601187996, 2806.0858062639454, 2813.889858215812, 2821.586473260014, 2829.176712173746, 2836.6616386670794, 2844.0423188417235, 2851.3198206670113, 2858.4952134728414, 2865.569567459319, 2872.543953222822, 2879.419441298223, 2886.1971017169813, 2892.8780035808327, 2899.463214650783, 2905.953800951124, 2912.350826388178, 2918.655352383484, 2924.868437521128, 2930.9911372089286, 2937.024503353183, 2942.969584046677, 2948.8274232696717, 2954.599060603567, 2960.2855309569572, 2965.8878643037847, 2971.407085433302, 2976.8442137115608, 2982.2002628541345, 2987.4762407098015, 2992.6731490549028, 2997.7919833980964, 3002.8337327952395, 3007.799379674121, 3012.6898996687814, 3017.5062614631497, 3022.2494266437416, 3026.9203495611596, 3031.519977200138, 3036.0492490578854, 3040.50909703048, 3044.9004453070706, 3049.2242102716505, 3053.4813004121643, 3057.6726162367236, 3061.7990501966997, 3065.8614866164776, 3069.8608016296475, 3073.7978631214273, 3077.6735306771006, 3081.4886555362714, 3085.24408055273, 3088.940640159738, 3092.5791603405387, 3096.1604586039043, 3099.68534396454, 3103.154616928162]}, {\"line\": {\"width\": 2}, \"marker\": {\"size\": 6}, \"mode\": \"lines+markers\", \"name\": \"Deaths Jalisco (Data as reported)\", \"opacity\": 1, \"type\": \"scatter\", \"x\": [\"2020-05-15T00:00:00\", \"2020-05-16T00:00:00\", \"2020-05-17T00:00:00\", \"2020-05-18T00:00:00\", \"2020-05-19T00:00:00\", \"2020-05-20T00:00:00\", \"2020-05-21T00:00:00\", \"2020-05-22T00:00:00\", \"2020-05-23T00:00:00\", \"2020-05-24T00:00:00\", \"2020-05-25T00:00:00\", \"2020-05-26T00:00:00\", \"2020-05-27T00:00:00\", \"2020-05-28T00:00:00\", \"2020-05-29T00:00:00\", \"2020-05-30T00:00:00\", \"2020-05-31T00:00:00\", \"2020-06-01T00:00:00\", \"2020-06-02T00:00:00\", \"2020-06-03T00:00:00\", \"2020-06-04T00:00:00\", \"2020-06-05T00:00:00\", \"2020-06-06T00:00:00\", \"2020-06-07T00:00:00\", \"2020-06-08T00:00:00\", \"2020-06-09T00:00:00\", \"2020-06-10T00:00:00\", \"2020-06-11T00:00:00\", \"2020-06-12T00:00:00\", \"2020-06-13T00:00:00\", \"2020-06-14T00:00:00\", \"2020-06-15T00:00:00\", \"2020-06-16T00:00:00\", \"2020-06-17T00:00:00\", \"2020-06-18T00:00:00\", \"2020-06-19T00:00:00\", \"2020-06-20T00:00:00\", \"2020-06-21T00:00:00\", \"2020-06-22T00:00:00\", \"2020-06-23T00:00:00\", \"2020-06-24T00:00:00\", \"2020-06-25T00:00:00\", \"2020-06-26T00:00:00\", \"2020-06-27T00:00:00\", \"2020-06-28T00:00:00\", \"2020-06-29T00:00:00\", \"2020-06-30T00:00:00\", \"2020-07-01T00:00:00\"], \"y\": [70, 77, 82, 85, 91, 96, 97, 102, 102, 107, 115, 123, 126, 130, 133, 136, 140, 148, 161, 177, 186, 207, 223, 233, 249, 263, 275, 301, 309, 317, 325, 339, 357, 398, 420, 428, 438, 457, 468, 488, 523, 556, 595, 613, 628, 656, 685, 722]}],\n",
       "                        {\"legend\": {\"bgcolor\": \"rgba(0,0,0,0)\", \"font\": {\"family\": \"sans-serif\", \"size\": 14}, \"traceorder\": \"normal\", \"x\": 0.1, \"y\": 0.95}, \"showlegend\": true, \"template\": {\"data\": {\"bar\": [{\"error_x\": {\"color\": \"#2a3f5f\"}, \"error_y\": {\"color\": \"#2a3f5f\"}, \"marker\": {\"line\": {\"color\": \"#E5ECF6\", \"width\": 0.5}}, \"type\": \"bar\"}], \"barpolar\": [{\"marker\": {\"line\": {\"color\": \"#E5ECF6\", \"width\": 0.5}}, \"type\": \"barpolar\"}], \"carpet\": [{\"aaxis\": {\"endlinecolor\": \"#2a3f5f\", \"gridcolor\": \"white\", \"linecolor\": \"white\", \"minorgridcolor\": \"white\", \"startlinecolor\": \"#2a3f5f\"}, \"baxis\": {\"endlinecolor\": \"#2a3f5f\", \"gridcolor\": \"white\", \"linecolor\": \"white\", \"minorgridcolor\": \"white\", \"startlinecolor\": \"#2a3f5f\"}, \"type\": \"carpet\"}], \"choropleth\": [{\"colorbar\": {\"outlinewidth\": 0, \"ticks\": \"\"}, \"type\": \"choropleth\"}], \"contour\": [{\"colorbar\": {\"outlinewidth\": 0, \"ticks\": \"\"}, \"colorscale\": [[0.0, \"#0d0887\"], [0.1111111111111111, \"#46039f\"], [0.2222222222222222, \"#7201a8\"], [0.3333333333333333, \"#9c179e\"], [0.4444444444444444, \"#bd3786\"], [0.5555555555555556, \"#d8576b\"], [0.6666666666666666, \"#ed7953\"], [0.7777777777777778, \"#fb9f3a\"], [0.8888888888888888, \"#fdca26\"], [1.0, \"#f0f921\"]], \"type\": \"contour\"}], \"contourcarpet\": [{\"colorbar\": {\"outlinewidth\": 0, \"ticks\": \"\"}, \"type\": \"contourcarpet\"}], \"heatmap\": [{\"colorbar\": {\"outlinewidth\": 0, \"ticks\": \"\"}, \"colorscale\": [[0.0, \"#0d0887\"], [0.1111111111111111, \"#46039f\"], [0.2222222222222222, \"#7201a8\"], [0.3333333333333333, \"#9c179e\"], [0.4444444444444444, \"#bd3786\"], [0.5555555555555556, \"#d8576b\"], [0.6666666666666666, \"#ed7953\"], [0.7777777777777778, \"#fb9f3a\"], [0.8888888888888888, \"#fdca26\"], [1.0, \"#f0f921\"]], \"type\": \"heatmap\"}], \"heatmapgl\": [{\"colorbar\": {\"outlinewidth\": 0, \"ticks\": \"\"}, \"colorscale\": [[0.0, \"#0d0887\"], [0.1111111111111111, \"#46039f\"], [0.2222222222222222, \"#7201a8\"], [0.3333333333333333, \"#9c179e\"], [0.4444444444444444, \"#bd3786\"], [0.5555555555555556, \"#d8576b\"], [0.6666666666666666, \"#ed7953\"], [0.7777777777777778, \"#fb9f3a\"], [0.8888888888888888, \"#fdca26\"], [1.0, \"#f0f921\"]], \"type\": \"heatmapgl\"}], \"histogram\": [{\"marker\": {\"colorbar\": {\"outlinewidth\": 0, \"ticks\": \"\"}}, \"type\": \"histogram\"}], \"histogram2d\": [{\"colorbar\": {\"outlinewidth\": 0, \"ticks\": \"\"}, \"colorscale\": [[0.0, \"#0d0887\"], [0.1111111111111111, \"#46039f\"], [0.2222222222222222, \"#7201a8\"], [0.3333333333333333, \"#9c179e\"], [0.4444444444444444, \"#bd3786\"], [0.5555555555555556, \"#d8576b\"], [0.6666666666666666, \"#ed7953\"], [0.7777777777777778, \"#fb9f3a\"], [0.8888888888888888, \"#fdca26\"], [1.0, \"#f0f921\"]], \"type\": \"histogram2d\"}], \"histogram2dcontour\": [{\"colorbar\": {\"outlinewidth\": 0, \"ticks\": \"\"}, \"colorscale\": [[0.0, \"#0d0887\"], [0.1111111111111111, \"#46039f\"], [0.2222222222222222, \"#7201a8\"], [0.3333333333333333, \"#9c179e\"], [0.4444444444444444, \"#bd3786\"], [0.5555555555555556, \"#d8576b\"], [0.6666666666666666, \"#ed7953\"], [0.7777777777777778, \"#fb9f3a\"], [0.8888888888888888, \"#fdca26\"], [1.0, \"#f0f921\"]], \"type\": \"histogram2dcontour\"}], \"mesh3d\": [{\"colorbar\": {\"outlinewidth\": 0, \"ticks\": \"\"}, \"type\": \"mesh3d\"}], \"parcoords\": [{\"line\": {\"colorbar\": {\"outlinewidth\": 0, \"ticks\": \"\"}}, \"type\": \"parcoords\"}], \"pie\": [{\"automargin\": true, \"type\": \"pie\"}], \"scatter\": [{\"marker\": {\"colorbar\": {\"outlinewidth\": 0, \"ticks\": \"\"}}, \"type\": \"scatter\"}], \"scatter3d\": [{\"line\": {\"colorbar\": {\"outlinewidth\": 0, \"ticks\": \"\"}}, \"marker\": {\"colorbar\": {\"outlinewidth\": 0, \"ticks\": \"\"}}, \"type\": \"scatter3d\"}], \"scattercarpet\": [{\"marker\": {\"colorbar\": {\"outlinewidth\": 0, \"ticks\": \"\"}}, \"type\": \"scattercarpet\"}], \"scattergeo\": [{\"marker\": {\"colorbar\": {\"outlinewidth\": 0, \"ticks\": \"\"}}, \"type\": \"scattergeo\"}], \"scattergl\": [{\"marker\": {\"colorbar\": {\"outlinewidth\": 0, \"ticks\": \"\"}}, \"type\": \"scattergl\"}], \"scattermapbox\": [{\"marker\": {\"colorbar\": {\"outlinewidth\": 0, \"ticks\": \"\"}}, \"type\": \"scattermapbox\"}], \"scatterpolar\": [{\"marker\": {\"colorbar\": {\"outlinewidth\": 0, \"ticks\": \"\"}}, \"type\": \"scatterpolar\"}], \"scatterpolargl\": [{\"marker\": {\"colorbar\": {\"outlinewidth\": 0, \"ticks\": \"\"}}, \"type\": \"scatterpolargl\"}], \"scatterternary\": [{\"marker\": {\"colorbar\": {\"outlinewidth\": 0, \"ticks\": \"\"}}, \"type\": \"scatterternary\"}], \"surface\": [{\"colorbar\": {\"outlinewidth\": 0, \"ticks\": \"\"}, \"colorscale\": [[0.0, \"#0d0887\"], [0.1111111111111111, \"#46039f\"], [0.2222222222222222, \"#7201a8\"], [0.3333333333333333, \"#9c179e\"], [0.4444444444444444, \"#bd3786\"], [0.5555555555555556, \"#d8576b\"], [0.6666666666666666, \"#ed7953\"], [0.7777777777777778, \"#fb9f3a\"], [0.8888888888888888, \"#fdca26\"], [1.0, \"#f0f921\"]], \"type\": \"surface\"}], \"table\": [{\"cells\": {\"fill\": {\"color\": \"#EBF0F8\"}, \"line\": {\"color\": \"white\"}}, \"header\": {\"fill\": {\"color\": \"#C8D4E3\"}, \"line\": {\"color\": \"white\"}}, \"type\": \"table\"}]}, \"layout\": {\"annotationdefaults\": {\"arrowcolor\": \"#2a3f5f\", \"arrowhead\": 0, \"arrowwidth\": 1}, \"coloraxis\": {\"colorbar\": {\"outlinewidth\": 0, \"ticks\": \"\"}}, \"colorscale\": {\"diverging\": [[0, \"#8e0152\"], [0.1, \"#c51b7d\"], [0.2, \"#de77ae\"], [0.3, \"#f1b6da\"], [0.4, \"#fde0ef\"], [0.5, \"#f7f7f7\"], [0.6, \"#e6f5d0\"], [0.7, \"#b8e186\"], [0.8, \"#7fbc41\"], [0.9, \"#4d9221\"], [1, \"#276419\"]], \"sequential\": [[0.0, \"#0d0887\"], [0.1111111111111111, \"#46039f\"], [0.2222222222222222, \"#7201a8\"], [0.3333333333333333, \"#9c179e\"], [0.4444444444444444, \"#bd3786\"], [0.5555555555555556, \"#d8576b\"], [0.6666666666666666, \"#ed7953\"], [0.7777777777777778, \"#fb9f3a\"], [0.8888888888888888, \"#fdca26\"], [1.0, \"#f0f921\"]], \"sequentialminus\": [[0.0, \"#0d0887\"], [0.1111111111111111, \"#46039f\"], [0.2222222222222222, \"#7201a8\"], [0.3333333333333333, \"#9c179e\"], [0.4444444444444444, \"#bd3786\"], [0.5555555555555556, \"#d8576b\"], [0.6666666666666666, \"#ed7953\"], [0.7777777777777778, \"#fb9f3a\"], [0.8888888888888888, \"#fdca26\"], [1.0, \"#f0f921\"]]}, \"colorway\": [\"#636efa\", \"#EF553B\", \"#00cc96\", \"#ab63fa\", \"#FFA15A\", \"#19d3f3\", \"#FF6692\", \"#B6E880\", \"#FF97FF\", \"#FECB52\"], \"font\": {\"color\": \"#2a3f5f\"}, \"geo\": {\"bgcolor\": \"white\", \"lakecolor\": \"white\", \"landcolor\": \"#E5ECF6\", \"showlakes\": true, \"showland\": true, \"subunitcolor\": \"white\"}, \"hoverlabel\": {\"align\": \"left\"}, \"hovermode\": \"closest\", \"mapbox\": {\"style\": \"light\"}, \"paper_bgcolor\": \"white\", \"plot_bgcolor\": \"#E5ECF6\", \"polar\": {\"angularaxis\": {\"gridcolor\": \"white\", \"linecolor\": \"white\", \"ticks\": \"\"}, \"bgcolor\": \"#E5ECF6\", \"radialaxis\": {\"gridcolor\": \"white\", \"linecolor\": \"white\", \"ticks\": \"\"}}, \"scene\": {\"xaxis\": {\"backgroundcolor\": \"#E5ECF6\", \"gridcolor\": \"white\", \"gridwidth\": 2, \"linecolor\": \"white\", \"showbackground\": true, \"ticks\": \"\", \"zerolinecolor\": \"white\"}, \"yaxis\": {\"backgroundcolor\": \"#E5ECF6\", \"gridcolor\": \"white\", \"gridwidth\": 2, \"linecolor\": \"white\", \"showbackground\": true, \"ticks\": \"\", \"zerolinecolor\": \"white\"}, \"zaxis\": {\"backgroundcolor\": \"#E5ECF6\", \"gridcolor\": \"white\", \"gridwidth\": 2, \"linecolor\": \"white\", \"showbackground\": true, \"ticks\": \"\", \"zerolinecolor\": \"white\"}}, \"shapedefaults\": {\"line\": {\"color\": \"#2a3f5f\"}}, \"ternary\": {\"aaxis\": {\"gridcolor\": \"white\", \"linecolor\": \"white\", \"ticks\": \"\"}, \"baxis\": {\"gridcolor\": \"white\", \"linecolor\": \"white\", \"ticks\": \"\"}, \"bgcolor\": \"#E5ECF6\", \"caxis\": {\"gridcolor\": \"white\", \"linecolor\": \"white\", \"ticks\": \"\"}}, \"title\": {\"x\": 0.05}, \"xaxis\": {\"automargin\": true, \"gridcolor\": \"white\", \"linecolor\": \"white\", \"ticks\": \"\", \"title\": {\"standoff\": 15}, \"zerolinecolor\": \"white\", \"zerolinewidth\": 2}, \"yaxis\": {\"automargin\": true, \"gridcolor\": \"white\", \"linecolor\": \"white\", \"ticks\": \"\", \"title\": {\"standoff\": 15}, \"zerolinecolor\": \"white\", \"zerolinewidth\": 2}}}, \"title\": {\"text\": \"Model/Data Jalisco - deaths\", \"x\": 0.5}, \"yaxis\": {\"type\": \"linear\"}},\n",
       "                        {\"responsive\": true}\n",
       "                    ).then(function(){\n",
       "                            \n",
       "var gd = document.getElementById('50dda5c2-c95e-442e-a58a-dbb6a4f0e457');\n",
       "var x = new MutationObserver(function (mutations, observer) {{\n",
       "        var display = window.getComputedStyle(gd).display;\n",
       "        if (!display || display === 'none') {{\n",
       "            console.log([gd, 'removed!']);\n",
       "            Plotly.purge(gd);\n",
       "            observer.disconnect();\n",
       "        }}\n",
       "}});\n",
       "\n",
       "// Listen for the removal of the full notebook cells\n",
       "var notebookContainer = gd.closest('#notebook-container');\n",
       "if (notebookContainer) {{\n",
       "    x.observe(notebookContainer, {childList: true});\n",
       "}}\n",
       "\n",
       "// Listen for the clearing of the current output cell\n",
       "var outputEl = gd.closest('.output');\n",
       "if (outputEl) {{\n",
       "    x.observe(outputEl, {childList: true});\n",
       "}}\n",
       "\n",
       "                        })\n",
       "                };\n",
       "                });\n",
       "            </script>\n",
       "        </div>"
      ]
     },
     "metadata": {},
     "output_type": "display_data"
    }
   ],
   "source": [
    "# Example 5 - variable contact rate hospitalizations with capacity constraints\n",
    "\n",
    "Ri= 1.15      # initial reproduction rate\n",
    "Rf= 0.95      # final reproduction rate as if 0 infected: S/P=1\n",
    "λ = 0.015     # behavioral param\n",
    "sc= 5        # scale parameter\n",
    "\n",
    "I0= 767*sc\n",
    "D0= 70\n",
    "\n",
    "\n",
    "γ = 0.200     # n days while infectious; 1/n\n",
    "θ = 0.100     # n days for a case to resolve; 1/n\n",
    "δ = 0.01      # death rate\n",
    "βi= Ri*γ      # initial contact rate\n",
    "βf= Rf*γ      # final contact rate as if 0 infected: S/P=1\n",
    "\n",
    "α0 = 0.00     # severe symptoms\n",
    "α1 = 0.03     # severe symptoms: days to recuperate\n",
    "μ  = 0.10     # hospital constraint\n",
    "δ1 = 10*δ     # death rate in severe symptoms if not treated\n",
    "\n",
    "# Functions\n",
    "def Sp(S,I,P,β):\n",
    "    return S - β*S*I/P\n",
    "def Ip(S,I,N,β):\n",
    "    return I + β*S*I/P - γ*I\n",
    "def Rp(R,I):\n",
    "    return R + γ*(1-α0)*I - θ*R\n",
    "\n",
    "def Hp(H,entries):\n",
    "    return H + entries - α1*H  # γ*α0*I\n",
    "def Up(U,entries):\n",
    "    return U + entries - θ*U\n",
    "\n",
    "def Cp(C,R,H,U):\n",
    "    return C + (1-δ)*θ*R + α1*H + (1-δ1)*θ*U\n",
    "def Dp(D,R,U):\n",
    "    return D + δ*θ*R + δ1*θ*U\n",
    "def Pp(P,R):\n",
    "    return P - δ*θ*R\n",
    "\n",
    "def Beta(t):\n",
    "    return βi*np.exp(-λ*t) + βf*(1-np.exp(-λ*t))\n",
    "\n",
    "def Rt(S,P,β):\n",
    "    return (β*S/P)/γ\n",
    "\n",
    "# Inital values\n",
    "P = 8256000\n",
    "I = I0\n",
    "S = P-I\n",
    "R = 0\n",
    "H = 0\n",
    "U = 0\n",
    "C = 0\n",
    "D = D0\n",
    "β = βi\n",
    "Rc = Ri\n",
    "\n",
    "# Simulation\n",
    "t = 300\n",
    "x = np.empty([t,13])\n",
    "\n",
    "for i in range(0,t):    \n",
    "    β  = Beta(i)    \n",
    "    S1 = Sp(S,I,P,β)\n",
    "    I1 = Ip(S,I,P,β)\n",
    "    R1 = Rp(R,I)    \n",
    "    C1 = Cp(C,R,H,U)\n",
    "    D1 = Dp(D,R,U)\n",
    "    P1 = Pp(P,R)\n",
    "    Rc = Rt(S,P,β)\n",
    "\n",
    "    entries = γ*α0*I\n",
    "    H1 = Hp(H,entries)    \n",
    "    if H1 > μ*P:\n",
    "        entriesH = μ*P - H*(1-α1)\n",
    "        entriesU = entries - entriesH\n",
    "    else:\n",
    "        entriesH = entries\n",
    "        entriesU = 0\n",
    "        \n",
    "    H1 = Hp(H,entriesH)\n",
    "    U1 = Up(U,entriesU)\n",
    "\n",
    "    \n",
    "    x[i,:] = [i,-(S1-S),S,I,R,H,U,C,D,P,P-S1,Rc,β]\n",
    "    \n",
    "    S = S1\n",
    "    I = I1\n",
    "    R = R1\n",
    "    H = H1\n",
    "    U = U1\n",
    "    C = C1\n",
    "    D = D1\n",
    "    P = P1\n",
    "    \n",
    "df6 = pd.DataFrame(data=x)\n",
    "df6.columns = ['time','NewInf','Susc','Inf','Resol','Hospital','Untreated','Recup','Deaths','Pop','Cases','Rt','βt']\n",
    "\n",
    "df6['date'] = mx1.date\n",
    "df6.loc[len(mx1)-1:len(df5),'date'] = pd.date_range(start=mx1.date.iloc[-1],periods=(len(df6)-len(mx1)+1))\n",
    "df6['date'] = pd.to_datetime(df6['date'])\n",
    "\n",
    "tbound = 250\n",
    "fig = go.Figure()\n",
    "\n",
    "fig.add_trace(go.Scatter(\n",
    "    x=df6[df6.time<tbound]['date'],\n",
    "    y=df6[df6.time<tbound]['Deaths'],\n",
    "    name='Deaths Jalisco (Model #5)',\n",
    "    mode='lines+markers',line_width=2,marker_size=6,opacity=1))\n",
    "\n",
    "fig.add_trace(go.Scatter(\n",
    "    x=mx1['date'],\n",
    "    y=mx1['Deaths_Jalisco'],\n",
    "    name='Deaths Jalisco (Data as reported)',\n",
    "    mode='lines+markers',line_width=2,marker_size=6,opacity=1))\n",
    "\n",
    "fig.update_layout(\n",
    "    title=\"Model/Data Jalisco - deaths\",\n",
    "    title_x=0.5,showlegend=True,yaxis = {'type': 'linear'},\n",
    "    legend=dict(\n",
    "            x=0.10,y=0.95,\n",
    "            traceorder=\"normal\",font=dict(family=\"sans-serif\",size=14),bgcolor='rgba(0,0,0,0)'),)\n",
    "\n",
    "fig.show()\n",
    "\n"
   ]
  },
  {
   "cell_type": "code",
   "execution_count": 287,
   "metadata": {},
   "outputs": [],
   "source": [
    "# Estimation/Data fit example - deaths as reported\n",
    "\n",
    "grid_ri = np.linspace(1.30 , 1.05 , num=8)\n",
    "grid_rf = np.linspace(0.90 , 1.05 , num=8)\n",
    "grid_lp = np.linspace(0.005, 0.025, num=8)\n",
    "grid_sc = np.linspace(3    , 15  , num=8)\n",
    "\n",
    "dist    = 100000000000\n",
    "\n",
    "for iri in range(0,len(grid_ri)):\n",
    "    for irf in range(0,len(grid_rf)):\n",
    "        for ilp in range(0,len(grid_lp)):\n",
    "            for isc in range(0,len(grid_sc)):\n",
    "                Ri= grid_ri[iri]      # initial reproduction rate\n",
    "                Rf= grid_rf[irf]      # final reproduction rate as if 0 infected: S/P=1\n",
    "                λ = grid_lp[ilp]      # behavioral param\n",
    "                sc= grid_sc[isc]      # scale parameter\n",
    "                \n",
    "                %run -i 'BSIR_baseline2.py'\n",
    "                \n",
    "                #distc = sum(np.power((np.log(df5[(df5['date']>='2020-04-01') & (df5['date']<='2020-08-31')]['Deaths']) - \\\n",
    "                #                     np.log(mx[ (mx[ 'date']>='2020-04-01') & (mx[ 'date']<='2020-08-31')]['Deaths'])),2))\n",
    "                distc = sum(np.power(((df6[(df6['date']>='2020-06-01') & (df6['date']<='2020-07-01')]['Deaths']) - \\\n",
    "                                     (mx1[ (mx1[ 'date']>='2020-06-01') & (mx2[ 'date']<='2020-07-01')]['Deaths_Jalisco'])),2))\n",
    "                if distc < dist:\n",
    "                    dist = distc\n",
    "                    irimax = iri\n",
    "                    irfmax = irf\n",
    "                    ilpmax = ilp\n",
    "                    iscmax = isc\n",
    "                \n",
    "                "
   ]
  },
  {
   "cell_type": "code",
   "execution_count": 288,
   "metadata": {},
   "outputs": [
    {
     "name": "stdout",
     "output_type": "stream",
     "text": [
      "3567.316175806957 0 1 6 1\n",
      "3567.316175806957 1.3 0.9214285714285715 0.022142857142857145 4.714285714285714\n"
     ]
    }
   ],
   "source": [
    "print(dist,irimax,irfmax,ilpmax,iscmax)\n",
    "print(dist,grid_ri[irimax],grid_rf[irfmax],grid_lp[ilpmax],grid_sc[iscmax])"
   ]
  },
  {
   "cell_type": "code",
   "execution_count": 289,
   "metadata": {},
   "outputs": [],
   "source": [
    "Ri= grid_ri[irimax]      # initial reproduction rate\n",
    "Rf= grid_rf[irfmax]      # final reproduction rate as if 0 infected: S/P=1\n",
    "λ = grid_lp[ilpmax]      # behavioral param\n",
    "sc= grid_sc[iscmax]      # scale parameter\n",
    "%run -i 'BSIR_baseline2.py'"
   ]
  },
  {
   "cell_type": "code",
   "execution_count": 290,
   "metadata": {},
   "outputs": [
    {
     "data": {
      "application/vnd.plotly.v1+json": {
       "config": {
        "plotlyServerURL": "https://plot.ly"
       },
       "data": [
        {
         "line": {
          "width": 2
         },
         "marker": {
          "size": 6
         },
         "mode": "lines+markers",
         "name": "Deaths Jalisco (Model #5)",
         "opacity": 1,
         "type": "scatter",
         "x": [
          "2020-05-15T00:00:00",
          "2020-05-16T00:00:00",
          "2020-05-17T00:00:00",
          "2020-05-18T00:00:00",
          "2020-05-19T00:00:00",
          "2020-05-20T00:00:00",
          "2020-05-21T00:00:00",
          "2020-05-22T00:00:00",
          "2020-05-23T00:00:00",
          "2020-05-24T00:00:00",
          "2020-05-25T00:00:00",
          "2020-05-26T00:00:00",
          "2020-05-27T00:00:00",
          "2020-05-28T00:00:00",
          "2020-05-29T00:00:00",
          "2020-05-30T00:00:00",
          "2020-05-31T00:00:00",
          "2020-06-01T00:00:00",
          "2020-06-02T00:00:00",
          "2020-06-03T00:00:00",
          "2020-06-04T00:00:00",
          "2020-06-05T00:00:00",
          "2020-06-06T00:00:00",
          "2020-06-07T00:00:00",
          "2020-06-08T00:00:00",
          "2020-06-09T00:00:00",
          "2020-06-10T00:00:00",
          "2020-06-11T00:00:00",
          "2020-06-12T00:00:00",
          "2020-06-13T00:00:00",
          "2020-06-14T00:00:00",
          "2020-06-15T00:00:00",
          "2020-06-16T00:00:00",
          "2020-06-17T00:00:00",
          "2020-06-18T00:00:00",
          "2020-06-19T00:00:00",
          "2020-06-20T00:00:00",
          "2020-06-21T00:00:00",
          "2020-06-22T00:00:00",
          "2020-06-23T00:00:00",
          "2020-06-24T00:00:00",
          "2020-06-25T00:00:00",
          "2020-06-26T00:00:00",
          "2020-06-27T00:00:00",
          "2020-06-28T00:00:00",
          "2020-06-29T00:00:00",
          "2020-06-30T00:00:00",
          "2020-07-01T00:00:00",
          "2020-07-02T00:00:00",
          "2020-07-03T00:00:00",
          "2020-07-04T00:00:00",
          "2020-07-05T00:00:00",
          "2020-07-06T00:00:00",
          "2020-07-07T00:00:00",
          "2020-07-08T00:00:00",
          "2020-07-09T00:00:00",
          "2020-07-10T00:00:00",
          "2020-07-11T00:00:00",
          "2020-07-12T00:00:00",
          "2020-07-13T00:00:00",
          "2020-07-14T00:00:00",
          "2020-07-15T00:00:00",
          "2020-07-16T00:00:00",
          "2020-07-17T00:00:00",
          "2020-07-18T00:00:00",
          "2020-07-19T00:00:00",
          "2020-07-20T00:00:00",
          "2020-07-21T00:00:00",
          "2020-07-22T00:00:00",
          "2020-07-23T00:00:00",
          "2020-07-24T00:00:00",
          "2020-07-25T00:00:00",
          "2020-07-26T00:00:00",
          "2020-07-27T00:00:00",
          "2020-07-28T00:00:00",
          "2020-07-29T00:00:00",
          "2020-07-30T00:00:00",
          "2020-07-31T00:00:00",
          "2020-08-01T00:00:00",
          "2020-08-02T00:00:00",
          "2020-08-03T00:00:00",
          "2020-08-04T00:00:00",
          "2020-08-05T00:00:00",
          "2020-08-06T00:00:00",
          "2020-08-07T00:00:00",
          "2020-08-08T00:00:00",
          "2020-08-09T00:00:00",
          "2020-08-10T00:00:00",
          "2020-08-11T00:00:00",
          "2020-08-12T00:00:00",
          "2020-08-13T00:00:00",
          "2020-08-14T00:00:00",
          "2020-08-15T00:00:00",
          "2020-08-16T00:00:00",
          "2020-08-17T00:00:00",
          "2020-08-18T00:00:00",
          "2020-08-19T00:00:00",
          "2020-08-20T00:00:00",
          "2020-08-21T00:00:00",
          "2020-08-22T00:00:00",
          "2020-08-23T00:00:00",
          "2020-08-24T00:00:00",
          "2020-08-25T00:00:00",
          "2020-08-26T00:00:00",
          "2020-08-27T00:00:00",
          "2020-08-28T00:00:00",
          "2020-08-29T00:00:00",
          "2020-08-30T00:00:00",
          "2020-08-31T00:00:00",
          "2020-09-01T00:00:00",
          "2020-09-02T00:00:00",
          "2020-09-03T00:00:00",
          "2020-09-04T00:00:00",
          "2020-09-05T00:00:00",
          "2020-09-06T00:00:00",
          "2020-09-07T00:00:00",
          "2020-09-08T00:00:00",
          "2020-09-09T00:00:00",
          "2020-09-10T00:00:00",
          "2020-09-11T00:00:00",
          "2020-09-12T00:00:00",
          "2020-09-13T00:00:00",
          "2020-09-14T00:00:00",
          "2020-09-15T00:00:00",
          "2020-09-16T00:00:00",
          "2020-09-17T00:00:00",
          "2020-09-18T00:00:00",
          "2020-09-19T00:00:00",
          "2020-09-20T00:00:00",
          "2020-09-21T00:00:00",
          "2020-09-22T00:00:00",
          "2020-09-23T00:00:00",
          "2020-09-24T00:00:00",
          "2020-09-25T00:00:00",
          "2020-09-26T00:00:00",
          "2020-09-27T00:00:00",
          "2020-09-28T00:00:00",
          "2020-09-29T00:00:00",
          "2020-09-30T00:00:00",
          "2020-10-01T00:00:00",
          "2020-10-02T00:00:00",
          "2020-10-03T00:00:00",
          "2020-10-04T00:00:00",
          "2020-10-05T00:00:00",
          "2020-10-06T00:00:00",
          "2020-10-07T00:00:00",
          "2020-10-08T00:00:00",
          "2020-10-09T00:00:00",
          "2020-10-10T00:00:00",
          "2020-10-11T00:00:00",
          "2020-10-12T00:00:00",
          "2020-10-13T00:00:00",
          "2020-10-14T00:00:00",
          "2020-10-15T00:00:00",
          "2020-10-16T00:00:00",
          "2020-10-17T00:00:00",
          "2020-10-18T00:00:00",
          "2020-10-19T00:00:00",
          "2020-10-20T00:00:00",
          "2020-10-21T00:00:00",
          "2020-10-22T00:00:00",
          "2020-10-23T00:00:00",
          "2020-10-24T00:00:00",
          "2020-10-25T00:00:00",
          "2020-10-26T00:00:00",
          "2020-10-27T00:00:00",
          "2020-10-28T00:00:00",
          "2020-10-29T00:00:00",
          "2020-10-30T00:00:00",
          "2020-10-31T00:00:00",
          "2020-11-01T00:00:00",
          "2020-11-02T00:00:00",
          "2020-11-03T00:00:00",
          "2020-11-04T00:00:00",
          "2020-11-05T00:00:00",
          "2020-11-06T00:00:00",
          "2020-11-07T00:00:00",
          "2020-11-08T00:00:00",
          "2020-11-09T00:00:00",
          "2020-11-10T00:00:00",
          "2020-11-11T00:00:00",
          "2020-11-12T00:00:00",
          "2020-11-13T00:00:00",
          "2020-11-14T00:00:00",
          "2020-11-15T00:00:00",
          "2020-11-16T00:00:00",
          "2020-11-17T00:00:00",
          "2020-11-18T00:00:00",
          "2020-11-19T00:00:00",
          "2020-11-20T00:00:00",
          "2020-11-21T00:00:00",
          "2020-11-22T00:00:00",
          "2020-11-23T00:00:00",
          "2020-11-24T00:00:00",
          "2020-11-25T00:00:00",
          "2020-11-26T00:00:00",
          "2020-11-27T00:00:00",
          "2020-11-28T00:00:00",
          "2020-11-29T00:00:00",
          "2020-11-30T00:00:00",
          "2020-12-01T00:00:00",
          "2020-12-02T00:00:00",
          "2020-12-03T00:00:00",
          "2020-12-04T00:00:00",
          "2020-12-05T00:00:00",
          "2020-12-06T00:00:00",
          "2020-12-07T00:00:00",
          "2020-12-08T00:00:00",
          "2020-12-09T00:00:00",
          "2020-12-10T00:00:00",
          "2020-12-11T00:00:00",
          "2020-12-12T00:00:00",
          "2020-12-13T00:00:00",
          "2020-12-14T00:00:00",
          "2020-12-15T00:00:00",
          "2020-12-16T00:00:00",
          "2020-12-17T00:00:00",
          "2020-12-18T00:00:00",
          "2020-12-19T00:00:00",
          "2020-12-20T00:00:00",
          "2020-12-21T00:00:00",
          "2020-12-22T00:00:00",
          "2020-12-23T00:00:00",
          "2020-12-24T00:00:00",
          "2020-12-25T00:00:00",
          "2020-12-26T00:00:00",
          "2020-12-27T00:00:00",
          "2020-12-28T00:00:00",
          "2020-12-29T00:00:00",
          "2020-12-30T00:00:00",
          "2020-12-31T00:00:00",
          "2021-01-01T00:00:00",
          "2021-01-02T00:00:00",
          "2021-01-03T00:00:00",
          "2021-01-04T00:00:00",
          "2021-01-05T00:00:00",
          "2021-01-06T00:00:00",
          "2021-01-07T00:00:00",
          "2021-01-08T00:00:00",
          "2021-01-09T00:00:00",
          "2021-01-10T00:00:00",
          "2021-01-11T00:00:00",
          "2021-01-12T00:00:00",
          "2021-01-13T00:00:00",
          "2021-01-14T00:00:00",
          "2021-01-15T00:00:00",
          "2021-01-16T00:00:00",
          "2021-01-17T00:00:00",
          "2021-01-18T00:00:00",
          "2021-01-19T00:00:00"
         ],
         "y": [
          70,
          70,
          70.72317142857143,
          72.14050507997773,
          74.22719332864344,
          76.96216587293907,
          80.3276670432986,
          84.3088706766788,
          88.89352898447436,
          94.07165222203864,
          99.83521630918395,
          106.17789585630449,
          113.09482032356598,
          120.58235128410394,
          128.63787897923254,
          137.25963654689048,
          146.4465304762993,
          156.19798599422785,
          166.51380622329168,
          177.39404407213803,
          188.83888592278433,
          200.84854627325444,
          213.42317257531954,
          226.56275957881059,
          240.26707255672113,
          254.5355788401626,
          269.36738714007197,
          284.7611941742236,
          300.71523815430817,
          317.22725871928077,
          334.29446292845637,
          351.9134969514906,
          370.08042311291814,
          388.7907019667736,
          408.03917909238316,
          427.82007631604506,
          448.126987075325,
          468.95287565335605,
          490.2900800200975,
          512.1303180261878,
          534.4646967030084,
          557.2837244300231,
          580.5773257375043,
          604.3348585195301,
          628.5451334387227,
          653.1964353106913,
          678.276546262601,
          703.7727704667655,
          729.6719602567055,
          755.9605434397415,
          782.6245516269307,
          809.6496494080201,
          837.0211642060733,
          864.724116653539,
          892.7432513387544,
          921.0630677792045,
          949.6678514852757,
          978.5417049857231,
          1007.668578693608,
          1037.0323014990151,
          1066.6166109824198,
          1096.4051831501092,
          1126.3816616005493,
          1156.5296860380063,
          1186.832920057047,
          1217.275078128743,
          1247.8399517264622,
          1278.5114345360275,
          1309.2735467017333,
          1340.1104580662268,
          1371.006510368561,
          1401.9462383707876,
          1432.9143898892905,
          1463.8959447126258,
          1494.8761323929407,
          1525.840448903084,
          1556.7746721562746,
          1587.6648763896776,
          1618.4974454174308,
          1649.2590847625775,
          1679.9368326809888,
          1710.5180700937076,
          1740.990529447212,
          1771.342302523897,
          1801.561847227592,
          1831.6379933712085,
          1861.5599474956114,
          1891.3172967505795,
          1920.9000118702484,
          1950.2984492767234,
          1979.5033523466373,
          2008.5058518762944,
          2037.2974657817258,
          2065.8700980704607,
          2094.2160371221426,
          2122.3279533152568,
          2150.198896037241,
          2177.8222901150934,
          2205.1919317033207,
          2232.301983665662,
          2259.1469704865167,
          2285.7217727473812,
          2312.021621202917,
          2338.0420904904604,
          2363.7790925059508,
          2389.2288694783183,
          2414.387986773407,
          2439.2533254574832,
          2463.8220746493184,
          2488.0917236887485,
          2512.0600541484882,
          2535.7251317148493,
          2559.0852979618603,
          2582.1391620421323,
          2604.8855923166607,
          2627.3237079445926,
          2649.452870452854,
          2671.2726753043835,
          2692.7829434826126,
          2713.983713108719,
          2734.875231107104,
          2755.4579449334924,
          2775.7324943790104,
          2795.6997034626033,
          2815.360572423176,
          2834.7162698219004,
          2853.768124764214,
          2872.517619250167,
          2890.966380660922,
          2909.1161743884018,
          2926.968896614314,
          2944.5265672440214,
          2961.791323000043,
          2978.765410679281,
          2995.451180577441,
          3011.851080083507,
          3027.967647446563,
          3043.8035057167144,
          3059.361356861355,
          3074.643976057562,
          3089.654206160945,
          3104.394952350865,
          3118.869176951571,
          3133.079894428412,
          3147.0301665579905,
          3160.723097770787,
          3174.16183066453,
          3187.34954168632,
          3200.2894369812802,
          3212.9847484053084,
          3225.4387296993073,
          3237.6546528221015,
          3249.6358044391,
          3261.3854825636326,
          3272.9069933477685,
          3284.203648019331,
          3295.278759961731,
          3306.135641933177,
          3316.777603421761,
          3327.207948132871,
          3337.4299716053533,
          3347.4469589528194,
          3357.2621827264875,
          3366.878900895936,
          3376.3003549441637,
          3385.5297680733484,
          3394.5703435177397,
          3403.4252629601237,
          3412.0976850483526,
          3420.590744008456,
          3428.907548350905,
          3437.0511796666433,
          3445.0246915095563,
          3452.8311083621006,
          3460.4734246808803,
          3467.954604019018,
          3475.277578222232,
          3482.445246695598,
          3489.460475738043,
          3496.326097941691,
          3503.0449116532454,
          3509.619680494675,
          3516.053132940527,
          3522.347961949287,
          3528.5068246462515,
          3534.5323420554805,
          3540.427098878443,
          3546.1936433170636,
          3551.8344869389416,
          3557.352104582578,
          3562.748934300532,
          3568.0273773384906,
          3573.1897981483007,
          3578.2385244330885,
          3583.175847222654,
          3588.004020977396,
          3592.7252637190845,
          3597.341757186865,
          3601.855647016938,
          3606.2690429444183,
          3610.584019025942,
          3614.8026138816344,
          3618.926830955129,
          3622.9586387903596,
          3626.8999713239195,
          3630.7527281918224,
          3634.5187750495547,
          3638.1999439043584,
          3641.7980334587264,
          3645.3148094641447,
          3648.7520050841563,
          3652.111321265866,
          3655.3944271190458,
          3658.6029603020415,
          3661.7385274137246,
          3664.8027043907614,
          3667.797036909518,
          3670.7230407919456,
          3673.582202414836,
          3676.375979121853,
          3679.1057996377926,
          3681.7730644845487,
          3684.379146398285,
          3686.92539074735,
          3689.413115950496,
          3691.8436138949814,
          3694.2181503541747,
          3696.5379654042854,
          3698.8042738398854,
          3701.0182655878916,
          3703.1811061197154,
          3705.2939368612897,
          3707.3578756007155,
          3709.3740168932823,
          3711.3434324636332,
          3713.2671716048644,
          3715.146261574365,
          3716.981707986213,
          3718.7744951999666,
          3720.525586705692,
          3722.235925505094,
          3723.9064344886183,
          3725.53801680841,
          3727.131556247026,
          3728.687917581806,
          3730.2079469448167,
          3731.692472178299,
          3733.142303185545,
          3734.5582322771593,
          3735.9410345126416
         ]
        },
        {
         "line": {
          "width": 2
         },
         "marker": {
          "size": 6
         },
         "mode": "lines+markers",
         "name": "Deaths Jalisco (Data as reported)",
         "opacity": 1,
         "type": "scatter",
         "x": [
          "2020-05-15T00:00:00",
          "2020-05-16T00:00:00",
          "2020-05-17T00:00:00",
          "2020-05-18T00:00:00",
          "2020-05-19T00:00:00",
          "2020-05-20T00:00:00",
          "2020-05-21T00:00:00",
          "2020-05-22T00:00:00",
          "2020-05-23T00:00:00",
          "2020-05-24T00:00:00",
          "2020-05-25T00:00:00",
          "2020-05-26T00:00:00",
          "2020-05-27T00:00:00",
          "2020-05-28T00:00:00",
          "2020-05-29T00:00:00",
          "2020-05-30T00:00:00",
          "2020-05-31T00:00:00",
          "2020-06-01T00:00:00",
          "2020-06-02T00:00:00",
          "2020-06-03T00:00:00",
          "2020-06-04T00:00:00",
          "2020-06-05T00:00:00",
          "2020-06-06T00:00:00",
          "2020-06-07T00:00:00",
          "2020-06-08T00:00:00",
          "2020-06-09T00:00:00",
          "2020-06-10T00:00:00",
          "2020-06-11T00:00:00",
          "2020-06-12T00:00:00",
          "2020-06-13T00:00:00",
          "2020-06-14T00:00:00",
          "2020-06-15T00:00:00",
          "2020-06-16T00:00:00",
          "2020-06-17T00:00:00",
          "2020-06-18T00:00:00",
          "2020-06-19T00:00:00",
          "2020-06-20T00:00:00",
          "2020-06-21T00:00:00",
          "2020-06-22T00:00:00",
          "2020-06-23T00:00:00",
          "2020-06-24T00:00:00",
          "2020-06-25T00:00:00",
          "2020-06-26T00:00:00",
          "2020-06-27T00:00:00",
          "2020-06-28T00:00:00",
          "2020-06-29T00:00:00",
          "2020-06-30T00:00:00",
          "2020-07-01T00:00:00"
         ],
         "y": [
          70,
          77,
          82,
          85,
          91,
          96,
          97,
          102,
          102,
          107,
          115,
          123,
          126,
          130,
          133,
          136,
          140,
          148,
          161,
          177,
          186,
          207,
          223,
          233,
          249,
          263,
          275,
          301,
          309,
          317,
          325,
          339,
          357,
          398,
          420,
          428,
          438,
          457,
          468,
          488,
          523,
          556,
          595,
          613,
          628,
          656,
          685,
          722
         ]
        }
       ],
       "layout": {
        "legend": {
         "bgcolor": "rgba(0,0,0,0)",
         "font": {
          "family": "sans-serif",
          "size": 14
         },
         "traceorder": "normal",
         "x": 0.1,
         "y": 0.95
        },
        "showlegend": true,
        "template": {
         "data": {
          "bar": [
           {
            "error_x": {
             "color": "#2a3f5f"
            },
            "error_y": {
             "color": "#2a3f5f"
            },
            "marker": {
             "line": {
              "color": "#E5ECF6",
              "width": 0.5
             }
            },
            "type": "bar"
           }
          ],
          "barpolar": [
           {
            "marker": {
             "line": {
              "color": "#E5ECF6",
              "width": 0.5
             }
            },
            "type": "barpolar"
           }
          ],
          "carpet": [
           {
            "aaxis": {
             "endlinecolor": "#2a3f5f",
             "gridcolor": "white",
             "linecolor": "white",
             "minorgridcolor": "white",
             "startlinecolor": "#2a3f5f"
            },
            "baxis": {
             "endlinecolor": "#2a3f5f",
             "gridcolor": "white",
             "linecolor": "white",
             "minorgridcolor": "white",
             "startlinecolor": "#2a3f5f"
            },
            "type": "carpet"
           }
          ],
          "choropleth": [
           {
            "colorbar": {
             "outlinewidth": 0,
             "ticks": ""
            },
            "type": "choropleth"
           }
          ],
          "contour": [
           {
            "colorbar": {
             "outlinewidth": 0,
             "ticks": ""
            },
            "colorscale": [
             [
              0,
              "#0d0887"
             ],
             [
              0.1111111111111111,
              "#46039f"
             ],
             [
              0.2222222222222222,
              "#7201a8"
             ],
             [
              0.3333333333333333,
              "#9c179e"
             ],
             [
              0.4444444444444444,
              "#bd3786"
             ],
             [
              0.5555555555555556,
              "#d8576b"
             ],
             [
              0.6666666666666666,
              "#ed7953"
             ],
             [
              0.7777777777777778,
              "#fb9f3a"
             ],
             [
              0.8888888888888888,
              "#fdca26"
             ],
             [
              1,
              "#f0f921"
             ]
            ],
            "type": "contour"
           }
          ],
          "contourcarpet": [
           {
            "colorbar": {
             "outlinewidth": 0,
             "ticks": ""
            },
            "type": "contourcarpet"
           }
          ],
          "heatmap": [
           {
            "colorbar": {
             "outlinewidth": 0,
             "ticks": ""
            },
            "colorscale": [
             [
              0,
              "#0d0887"
             ],
             [
              0.1111111111111111,
              "#46039f"
             ],
             [
              0.2222222222222222,
              "#7201a8"
             ],
             [
              0.3333333333333333,
              "#9c179e"
             ],
             [
              0.4444444444444444,
              "#bd3786"
             ],
             [
              0.5555555555555556,
              "#d8576b"
             ],
             [
              0.6666666666666666,
              "#ed7953"
             ],
             [
              0.7777777777777778,
              "#fb9f3a"
             ],
             [
              0.8888888888888888,
              "#fdca26"
             ],
             [
              1,
              "#f0f921"
             ]
            ],
            "type": "heatmap"
           }
          ],
          "heatmapgl": [
           {
            "colorbar": {
             "outlinewidth": 0,
             "ticks": ""
            },
            "colorscale": [
             [
              0,
              "#0d0887"
             ],
             [
              0.1111111111111111,
              "#46039f"
             ],
             [
              0.2222222222222222,
              "#7201a8"
             ],
             [
              0.3333333333333333,
              "#9c179e"
             ],
             [
              0.4444444444444444,
              "#bd3786"
             ],
             [
              0.5555555555555556,
              "#d8576b"
             ],
             [
              0.6666666666666666,
              "#ed7953"
             ],
             [
              0.7777777777777778,
              "#fb9f3a"
             ],
             [
              0.8888888888888888,
              "#fdca26"
             ],
             [
              1,
              "#f0f921"
             ]
            ],
            "type": "heatmapgl"
           }
          ],
          "histogram": [
           {
            "marker": {
             "colorbar": {
              "outlinewidth": 0,
              "ticks": ""
             }
            },
            "type": "histogram"
           }
          ],
          "histogram2d": [
           {
            "colorbar": {
             "outlinewidth": 0,
             "ticks": ""
            },
            "colorscale": [
             [
              0,
              "#0d0887"
             ],
             [
              0.1111111111111111,
              "#46039f"
             ],
             [
              0.2222222222222222,
              "#7201a8"
             ],
             [
              0.3333333333333333,
              "#9c179e"
             ],
             [
              0.4444444444444444,
              "#bd3786"
             ],
             [
              0.5555555555555556,
              "#d8576b"
             ],
             [
              0.6666666666666666,
              "#ed7953"
             ],
             [
              0.7777777777777778,
              "#fb9f3a"
             ],
             [
              0.8888888888888888,
              "#fdca26"
             ],
             [
              1,
              "#f0f921"
             ]
            ],
            "type": "histogram2d"
           }
          ],
          "histogram2dcontour": [
           {
            "colorbar": {
             "outlinewidth": 0,
             "ticks": ""
            },
            "colorscale": [
             [
              0,
              "#0d0887"
             ],
             [
              0.1111111111111111,
              "#46039f"
             ],
             [
              0.2222222222222222,
              "#7201a8"
             ],
             [
              0.3333333333333333,
              "#9c179e"
             ],
             [
              0.4444444444444444,
              "#bd3786"
             ],
             [
              0.5555555555555556,
              "#d8576b"
             ],
             [
              0.6666666666666666,
              "#ed7953"
             ],
             [
              0.7777777777777778,
              "#fb9f3a"
             ],
             [
              0.8888888888888888,
              "#fdca26"
             ],
             [
              1,
              "#f0f921"
             ]
            ],
            "type": "histogram2dcontour"
           }
          ],
          "mesh3d": [
           {
            "colorbar": {
             "outlinewidth": 0,
             "ticks": ""
            },
            "type": "mesh3d"
           }
          ],
          "parcoords": [
           {
            "line": {
             "colorbar": {
              "outlinewidth": 0,
              "ticks": ""
             }
            },
            "type": "parcoords"
           }
          ],
          "pie": [
           {
            "automargin": true,
            "type": "pie"
           }
          ],
          "scatter": [
           {
            "marker": {
             "colorbar": {
              "outlinewidth": 0,
              "ticks": ""
             }
            },
            "type": "scatter"
           }
          ],
          "scatter3d": [
           {
            "line": {
             "colorbar": {
              "outlinewidth": 0,
              "ticks": ""
             }
            },
            "marker": {
             "colorbar": {
              "outlinewidth": 0,
              "ticks": ""
             }
            },
            "type": "scatter3d"
           }
          ],
          "scattercarpet": [
           {
            "marker": {
             "colorbar": {
              "outlinewidth": 0,
              "ticks": ""
             }
            },
            "type": "scattercarpet"
           }
          ],
          "scattergeo": [
           {
            "marker": {
             "colorbar": {
              "outlinewidth": 0,
              "ticks": ""
             }
            },
            "type": "scattergeo"
           }
          ],
          "scattergl": [
           {
            "marker": {
             "colorbar": {
              "outlinewidth": 0,
              "ticks": ""
             }
            },
            "type": "scattergl"
           }
          ],
          "scattermapbox": [
           {
            "marker": {
             "colorbar": {
              "outlinewidth": 0,
              "ticks": ""
             }
            },
            "type": "scattermapbox"
           }
          ],
          "scatterpolar": [
           {
            "marker": {
             "colorbar": {
              "outlinewidth": 0,
              "ticks": ""
             }
            },
            "type": "scatterpolar"
           }
          ],
          "scatterpolargl": [
           {
            "marker": {
             "colorbar": {
              "outlinewidth": 0,
              "ticks": ""
             }
            },
            "type": "scatterpolargl"
           }
          ],
          "scatterternary": [
           {
            "marker": {
             "colorbar": {
              "outlinewidth": 0,
              "ticks": ""
             }
            },
            "type": "scatterternary"
           }
          ],
          "surface": [
           {
            "colorbar": {
             "outlinewidth": 0,
             "ticks": ""
            },
            "colorscale": [
             [
              0,
              "#0d0887"
             ],
             [
              0.1111111111111111,
              "#46039f"
             ],
             [
              0.2222222222222222,
              "#7201a8"
             ],
             [
              0.3333333333333333,
              "#9c179e"
             ],
             [
              0.4444444444444444,
              "#bd3786"
             ],
             [
              0.5555555555555556,
              "#d8576b"
             ],
             [
              0.6666666666666666,
              "#ed7953"
             ],
             [
              0.7777777777777778,
              "#fb9f3a"
             ],
             [
              0.8888888888888888,
              "#fdca26"
             ],
             [
              1,
              "#f0f921"
             ]
            ],
            "type": "surface"
           }
          ],
          "table": [
           {
            "cells": {
             "fill": {
              "color": "#EBF0F8"
             },
             "line": {
              "color": "white"
             }
            },
            "header": {
             "fill": {
              "color": "#C8D4E3"
             },
             "line": {
              "color": "white"
             }
            },
            "type": "table"
           }
          ]
         },
         "layout": {
          "annotationdefaults": {
           "arrowcolor": "#2a3f5f",
           "arrowhead": 0,
           "arrowwidth": 1
          },
          "coloraxis": {
           "colorbar": {
            "outlinewidth": 0,
            "ticks": ""
           }
          },
          "colorscale": {
           "diverging": [
            [
             0,
             "#8e0152"
            ],
            [
             0.1,
             "#c51b7d"
            ],
            [
             0.2,
             "#de77ae"
            ],
            [
             0.3,
             "#f1b6da"
            ],
            [
             0.4,
             "#fde0ef"
            ],
            [
             0.5,
             "#f7f7f7"
            ],
            [
             0.6,
             "#e6f5d0"
            ],
            [
             0.7,
             "#b8e186"
            ],
            [
             0.8,
             "#7fbc41"
            ],
            [
             0.9,
             "#4d9221"
            ],
            [
             1,
             "#276419"
            ]
           ],
           "sequential": [
            [
             0,
             "#0d0887"
            ],
            [
             0.1111111111111111,
             "#46039f"
            ],
            [
             0.2222222222222222,
             "#7201a8"
            ],
            [
             0.3333333333333333,
             "#9c179e"
            ],
            [
             0.4444444444444444,
             "#bd3786"
            ],
            [
             0.5555555555555556,
             "#d8576b"
            ],
            [
             0.6666666666666666,
             "#ed7953"
            ],
            [
             0.7777777777777778,
             "#fb9f3a"
            ],
            [
             0.8888888888888888,
             "#fdca26"
            ],
            [
             1,
             "#f0f921"
            ]
           ],
           "sequentialminus": [
            [
             0,
             "#0d0887"
            ],
            [
             0.1111111111111111,
             "#46039f"
            ],
            [
             0.2222222222222222,
             "#7201a8"
            ],
            [
             0.3333333333333333,
             "#9c179e"
            ],
            [
             0.4444444444444444,
             "#bd3786"
            ],
            [
             0.5555555555555556,
             "#d8576b"
            ],
            [
             0.6666666666666666,
             "#ed7953"
            ],
            [
             0.7777777777777778,
             "#fb9f3a"
            ],
            [
             0.8888888888888888,
             "#fdca26"
            ],
            [
             1,
             "#f0f921"
            ]
           ]
          },
          "colorway": [
           "#636efa",
           "#EF553B",
           "#00cc96",
           "#ab63fa",
           "#FFA15A",
           "#19d3f3",
           "#FF6692",
           "#B6E880",
           "#FF97FF",
           "#FECB52"
          ],
          "font": {
           "color": "#2a3f5f"
          },
          "geo": {
           "bgcolor": "white",
           "lakecolor": "white",
           "landcolor": "#E5ECF6",
           "showlakes": true,
           "showland": true,
           "subunitcolor": "white"
          },
          "hoverlabel": {
           "align": "left"
          },
          "hovermode": "closest",
          "mapbox": {
           "style": "light"
          },
          "paper_bgcolor": "white",
          "plot_bgcolor": "#E5ECF6",
          "polar": {
           "angularaxis": {
            "gridcolor": "white",
            "linecolor": "white",
            "ticks": ""
           },
           "bgcolor": "#E5ECF6",
           "radialaxis": {
            "gridcolor": "white",
            "linecolor": "white",
            "ticks": ""
           }
          },
          "scene": {
           "xaxis": {
            "backgroundcolor": "#E5ECF6",
            "gridcolor": "white",
            "gridwidth": 2,
            "linecolor": "white",
            "showbackground": true,
            "ticks": "",
            "zerolinecolor": "white"
           },
           "yaxis": {
            "backgroundcolor": "#E5ECF6",
            "gridcolor": "white",
            "gridwidth": 2,
            "linecolor": "white",
            "showbackground": true,
            "ticks": "",
            "zerolinecolor": "white"
           },
           "zaxis": {
            "backgroundcolor": "#E5ECF6",
            "gridcolor": "white",
            "gridwidth": 2,
            "linecolor": "white",
            "showbackground": true,
            "ticks": "",
            "zerolinecolor": "white"
           }
          },
          "shapedefaults": {
           "line": {
            "color": "#2a3f5f"
           }
          },
          "ternary": {
           "aaxis": {
            "gridcolor": "white",
            "linecolor": "white",
            "ticks": ""
           },
           "baxis": {
            "gridcolor": "white",
            "linecolor": "white",
            "ticks": ""
           },
           "bgcolor": "#E5ECF6",
           "caxis": {
            "gridcolor": "white",
            "linecolor": "white",
            "ticks": ""
           }
          },
          "title": {
           "x": 0.05
          },
          "xaxis": {
           "automargin": true,
           "gridcolor": "white",
           "linecolor": "white",
           "ticks": "",
           "title": {
            "standoff": 15
           },
           "zerolinecolor": "white",
           "zerolinewidth": 2
          },
          "yaxis": {
           "automargin": true,
           "gridcolor": "white",
           "linecolor": "white",
           "ticks": "",
           "title": {
            "standoff": 15
           },
           "zerolinecolor": "white",
           "zerolinewidth": 2
          }
         }
        },
        "title": {
         "text": "Model/Data Jalisco - deaths",
         "x": 0.5
        },
        "yaxis": {
         "type": "linear"
        }
       }
      },
      "text/html": [
       "<div>\n",
       "        \n",
       "        \n",
       "            <div id=\"9c845164-09db-4928-b4b7-b3d0182533c7\" class=\"plotly-graph-div\" style=\"height:525px; width:100%;\"></div>\n",
       "            <script type=\"text/javascript\">\n",
       "                require([\"plotly\"], function(Plotly) {\n",
       "                    window.PLOTLYENV=window.PLOTLYENV || {};\n",
       "                    \n",
       "                if (document.getElementById(\"9c845164-09db-4928-b4b7-b3d0182533c7\")) {\n",
       "                    Plotly.newPlot(\n",
       "                        '9c845164-09db-4928-b4b7-b3d0182533c7',\n",
       "                        [{\"line\": {\"width\": 2}, \"marker\": {\"size\": 6}, \"mode\": \"lines+markers\", \"name\": \"Deaths Jalisco (Model #5)\", \"opacity\": 1, \"type\": \"scatter\", \"x\": [\"2020-05-15T00:00:00\", \"2020-05-16T00:00:00\", \"2020-05-17T00:00:00\", \"2020-05-18T00:00:00\", \"2020-05-19T00:00:00\", \"2020-05-20T00:00:00\", \"2020-05-21T00:00:00\", \"2020-05-22T00:00:00\", \"2020-05-23T00:00:00\", \"2020-05-24T00:00:00\", \"2020-05-25T00:00:00\", \"2020-05-26T00:00:00\", \"2020-05-27T00:00:00\", \"2020-05-28T00:00:00\", \"2020-05-29T00:00:00\", \"2020-05-30T00:00:00\", \"2020-05-31T00:00:00\", \"2020-06-01T00:00:00\", \"2020-06-02T00:00:00\", \"2020-06-03T00:00:00\", \"2020-06-04T00:00:00\", \"2020-06-05T00:00:00\", \"2020-06-06T00:00:00\", \"2020-06-07T00:00:00\", \"2020-06-08T00:00:00\", \"2020-06-09T00:00:00\", \"2020-06-10T00:00:00\", \"2020-06-11T00:00:00\", \"2020-06-12T00:00:00\", \"2020-06-13T00:00:00\", \"2020-06-14T00:00:00\", \"2020-06-15T00:00:00\", \"2020-06-16T00:00:00\", \"2020-06-17T00:00:00\", \"2020-06-18T00:00:00\", \"2020-06-19T00:00:00\", \"2020-06-20T00:00:00\", \"2020-06-21T00:00:00\", \"2020-06-22T00:00:00\", \"2020-06-23T00:00:00\", \"2020-06-24T00:00:00\", \"2020-06-25T00:00:00\", \"2020-06-26T00:00:00\", \"2020-06-27T00:00:00\", \"2020-06-28T00:00:00\", \"2020-06-29T00:00:00\", \"2020-06-30T00:00:00\", \"2020-07-01T00:00:00\", \"2020-07-02T00:00:00\", \"2020-07-03T00:00:00\", \"2020-07-04T00:00:00\", \"2020-07-05T00:00:00\", \"2020-07-06T00:00:00\", \"2020-07-07T00:00:00\", \"2020-07-08T00:00:00\", \"2020-07-09T00:00:00\", \"2020-07-10T00:00:00\", \"2020-07-11T00:00:00\", \"2020-07-12T00:00:00\", \"2020-07-13T00:00:00\", \"2020-07-14T00:00:00\", \"2020-07-15T00:00:00\", \"2020-07-16T00:00:00\", \"2020-07-17T00:00:00\", \"2020-07-18T00:00:00\", \"2020-07-19T00:00:00\", \"2020-07-20T00:00:00\", \"2020-07-21T00:00:00\", \"2020-07-22T00:00:00\", \"2020-07-23T00:00:00\", \"2020-07-24T00:00:00\", \"2020-07-25T00:00:00\", \"2020-07-26T00:00:00\", \"2020-07-27T00:00:00\", \"2020-07-28T00:00:00\", \"2020-07-29T00:00:00\", \"2020-07-30T00:00:00\", \"2020-07-31T00:00:00\", \"2020-08-01T00:00:00\", \"2020-08-02T00:00:00\", \"2020-08-03T00:00:00\", \"2020-08-04T00:00:00\", \"2020-08-05T00:00:00\", \"2020-08-06T00:00:00\", \"2020-08-07T00:00:00\", \"2020-08-08T00:00:00\", \"2020-08-09T00:00:00\", \"2020-08-10T00:00:00\", \"2020-08-11T00:00:00\", \"2020-08-12T00:00:00\", \"2020-08-13T00:00:00\", \"2020-08-14T00:00:00\", \"2020-08-15T00:00:00\", \"2020-08-16T00:00:00\", \"2020-08-17T00:00:00\", \"2020-08-18T00:00:00\", \"2020-08-19T00:00:00\", \"2020-08-20T00:00:00\", \"2020-08-21T00:00:00\", \"2020-08-22T00:00:00\", \"2020-08-23T00:00:00\", \"2020-08-24T00:00:00\", \"2020-08-25T00:00:00\", \"2020-08-26T00:00:00\", \"2020-08-27T00:00:00\", \"2020-08-28T00:00:00\", \"2020-08-29T00:00:00\", \"2020-08-30T00:00:00\", \"2020-08-31T00:00:00\", \"2020-09-01T00:00:00\", \"2020-09-02T00:00:00\", \"2020-09-03T00:00:00\", \"2020-09-04T00:00:00\", \"2020-09-05T00:00:00\", \"2020-09-06T00:00:00\", \"2020-09-07T00:00:00\", \"2020-09-08T00:00:00\", \"2020-09-09T00:00:00\", \"2020-09-10T00:00:00\", \"2020-09-11T00:00:00\", \"2020-09-12T00:00:00\", \"2020-09-13T00:00:00\", \"2020-09-14T00:00:00\", \"2020-09-15T00:00:00\", \"2020-09-16T00:00:00\", \"2020-09-17T00:00:00\", \"2020-09-18T00:00:00\", \"2020-09-19T00:00:00\", \"2020-09-20T00:00:00\", \"2020-09-21T00:00:00\", \"2020-09-22T00:00:00\", \"2020-09-23T00:00:00\", \"2020-09-24T00:00:00\", \"2020-09-25T00:00:00\", \"2020-09-26T00:00:00\", \"2020-09-27T00:00:00\", \"2020-09-28T00:00:00\", \"2020-09-29T00:00:00\", \"2020-09-30T00:00:00\", \"2020-10-01T00:00:00\", \"2020-10-02T00:00:00\", \"2020-10-03T00:00:00\", \"2020-10-04T00:00:00\", \"2020-10-05T00:00:00\", \"2020-10-06T00:00:00\", \"2020-10-07T00:00:00\", \"2020-10-08T00:00:00\", \"2020-10-09T00:00:00\", \"2020-10-10T00:00:00\", \"2020-10-11T00:00:00\", \"2020-10-12T00:00:00\", \"2020-10-13T00:00:00\", \"2020-10-14T00:00:00\", \"2020-10-15T00:00:00\", \"2020-10-16T00:00:00\", \"2020-10-17T00:00:00\", \"2020-10-18T00:00:00\", \"2020-10-19T00:00:00\", \"2020-10-20T00:00:00\", \"2020-10-21T00:00:00\", \"2020-10-22T00:00:00\", \"2020-10-23T00:00:00\", \"2020-10-24T00:00:00\", \"2020-10-25T00:00:00\", \"2020-10-26T00:00:00\", \"2020-10-27T00:00:00\", \"2020-10-28T00:00:00\", \"2020-10-29T00:00:00\", \"2020-10-30T00:00:00\", \"2020-10-31T00:00:00\", \"2020-11-01T00:00:00\", \"2020-11-02T00:00:00\", \"2020-11-03T00:00:00\", \"2020-11-04T00:00:00\", \"2020-11-05T00:00:00\", \"2020-11-06T00:00:00\", \"2020-11-07T00:00:00\", \"2020-11-08T00:00:00\", \"2020-11-09T00:00:00\", \"2020-11-10T00:00:00\", \"2020-11-11T00:00:00\", \"2020-11-12T00:00:00\", \"2020-11-13T00:00:00\", \"2020-11-14T00:00:00\", \"2020-11-15T00:00:00\", \"2020-11-16T00:00:00\", \"2020-11-17T00:00:00\", \"2020-11-18T00:00:00\", \"2020-11-19T00:00:00\", \"2020-11-20T00:00:00\", \"2020-11-21T00:00:00\", \"2020-11-22T00:00:00\", \"2020-11-23T00:00:00\", \"2020-11-24T00:00:00\", \"2020-11-25T00:00:00\", \"2020-11-26T00:00:00\", \"2020-11-27T00:00:00\", \"2020-11-28T00:00:00\", \"2020-11-29T00:00:00\", \"2020-11-30T00:00:00\", \"2020-12-01T00:00:00\", \"2020-12-02T00:00:00\", \"2020-12-03T00:00:00\", \"2020-12-04T00:00:00\", \"2020-12-05T00:00:00\", \"2020-12-06T00:00:00\", \"2020-12-07T00:00:00\", \"2020-12-08T00:00:00\", \"2020-12-09T00:00:00\", \"2020-12-10T00:00:00\", \"2020-12-11T00:00:00\", \"2020-12-12T00:00:00\", \"2020-12-13T00:00:00\", \"2020-12-14T00:00:00\", \"2020-12-15T00:00:00\", \"2020-12-16T00:00:00\", \"2020-12-17T00:00:00\", \"2020-12-18T00:00:00\", \"2020-12-19T00:00:00\", \"2020-12-20T00:00:00\", \"2020-12-21T00:00:00\", \"2020-12-22T00:00:00\", \"2020-12-23T00:00:00\", \"2020-12-24T00:00:00\", \"2020-12-25T00:00:00\", \"2020-12-26T00:00:00\", \"2020-12-27T00:00:00\", \"2020-12-28T00:00:00\", \"2020-12-29T00:00:00\", \"2020-12-30T00:00:00\", \"2020-12-31T00:00:00\", \"2021-01-01T00:00:00\", \"2021-01-02T00:00:00\", \"2021-01-03T00:00:00\", \"2021-01-04T00:00:00\", \"2021-01-05T00:00:00\", \"2021-01-06T00:00:00\", \"2021-01-07T00:00:00\", \"2021-01-08T00:00:00\", \"2021-01-09T00:00:00\", \"2021-01-10T00:00:00\", \"2021-01-11T00:00:00\", \"2021-01-12T00:00:00\", \"2021-01-13T00:00:00\", \"2021-01-14T00:00:00\", \"2021-01-15T00:00:00\", \"2021-01-16T00:00:00\", \"2021-01-17T00:00:00\", \"2021-01-18T00:00:00\", \"2021-01-19T00:00:00\"], \"y\": [70.0, 70.0, 70.72317142857143, 72.14050507997773, 74.22719332864344, 76.96216587293907, 80.3276670432986, 84.3088706766788, 88.89352898447436, 94.07165222203864, 99.83521630918395, 106.17789585630449, 113.09482032356598, 120.58235128410394, 128.63787897923254, 137.25963654689048, 146.4465304762993, 156.19798599422785, 166.51380622329168, 177.39404407213803, 188.83888592278433, 200.84854627325444, 213.42317257531954, 226.56275957881059, 240.26707255672113, 254.5355788401626, 269.36738714007197, 284.7611941742236, 300.71523815430817, 317.22725871928077, 334.29446292845637, 351.9134969514906, 370.08042311291814, 388.7907019667736, 408.03917909238316, 427.82007631604506, 448.126987075325, 468.95287565335605, 490.2900800200975, 512.1303180261878, 534.4646967030084, 557.2837244300231, 580.5773257375043, 604.3348585195301, 628.5451334387227, 653.1964353106913, 678.276546262601, 703.7727704667655, 729.6719602567055, 755.9605434397415, 782.6245516269307, 809.6496494080201, 837.0211642060733, 864.724116653539, 892.7432513387544, 921.0630677792045, 949.6678514852757, 978.5417049857231, 1007.668578693608, 1037.0323014990151, 1066.6166109824198, 1096.4051831501092, 1126.3816616005493, 1156.5296860380063, 1186.832920057047, 1217.275078128743, 1247.8399517264622, 1278.5114345360275, 1309.2735467017333, 1340.1104580662268, 1371.006510368561, 1401.9462383707876, 1432.9143898892905, 1463.8959447126258, 1494.8761323929407, 1525.840448903084, 1556.7746721562746, 1587.6648763896776, 1618.4974454174308, 1649.2590847625775, 1679.9368326809888, 1710.5180700937076, 1740.990529447212, 1771.342302523897, 1801.561847227592, 1831.6379933712085, 1861.5599474956114, 1891.3172967505795, 1920.9000118702484, 1950.2984492767234, 1979.5033523466373, 2008.5058518762944, 2037.2974657817258, 2065.8700980704607, 2094.2160371221426, 2122.3279533152568, 2150.198896037241, 2177.8222901150934, 2205.1919317033207, 2232.301983665662, 2259.1469704865167, 2285.7217727473812, 2312.021621202917, 2338.0420904904604, 2363.7790925059508, 2389.2288694783183, 2414.387986773407, 2439.2533254574832, 2463.8220746493184, 2488.0917236887485, 2512.0600541484882, 2535.7251317148493, 2559.0852979618603, 2582.1391620421323, 2604.8855923166607, 2627.3237079445926, 2649.452870452854, 2671.2726753043835, 2692.7829434826126, 2713.983713108719, 2734.875231107104, 2755.4579449334924, 2775.7324943790104, 2795.6997034626033, 2815.360572423176, 2834.7162698219004, 2853.768124764214, 2872.517619250167, 2890.966380660922, 2909.1161743884018, 2926.968896614314, 2944.5265672440214, 2961.791323000043, 2978.765410679281, 2995.451180577441, 3011.851080083507, 3027.967647446563, 3043.8035057167144, 3059.361356861355, 3074.643976057562, 3089.654206160945, 3104.394952350865, 3118.869176951571, 3133.079894428412, 3147.0301665579905, 3160.723097770787, 3174.16183066453, 3187.34954168632, 3200.2894369812802, 3212.9847484053084, 3225.4387296993073, 3237.6546528221015, 3249.6358044391, 3261.3854825636326, 3272.9069933477685, 3284.203648019331, 3295.278759961731, 3306.135641933177, 3316.777603421761, 3327.207948132871, 3337.4299716053533, 3347.4469589528194, 3357.2621827264875, 3366.878900895936, 3376.3003549441637, 3385.5297680733484, 3394.5703435177397, 3403.4252629601237, 3412.0976850483526, 3420.590744008456, 3428.907548350905, 3437.0511796666433, 3445.0246915095563, 3452.8311083621006, 3460.4734246808803, 3467.954604019018, 3475.277578222232, 3482.445246695598, 3489.460475738043, 3496.326097941691, 3503.0449116532454, 3509.619680494675, 3516.053132940527, 3522.347961949287, 3528.5068246462515, 3534.5323420554805, 3540.427098878443, 3546.1936433170636, 3551.8344869389416, 3557.352104582578, 3562.748934300532, 3568.0273773384906, 3573.1897981483007, 3578.2385244330885, 3583.175847222654, 3588.004020977396, 3592.7252637190845, 3597.341757186865, 3601.855647016938, 3606.2690429444183, 3610.584019025942, 3614.8026138816344, 3618.926830955129, 3622.9586387903596, 3626.8999713239195, 3630.7527281918224, 3634.5187750495547, 3638.1999439043584, 3641.7980334587264, 3645.3148094641447, 3648.7520050841563, 3652.111321265866, 3655.3944271190458, 3658.6029603020415, 3661.7385274137246, 3664.8027043907614, 3667.797036909518, 3670.7230407919456, 3673.582202414836, 3676.375979121853, 3679.1057996377926, 3681.7730644845487, 3684.379146398285, 3686.92539074735, 3689.413115950496, 3691.8436138949814, 3694.2181503541747, 3696.5379654042854, 3698.8042738398854, 3701.0182655878916, 3703.1811061197154, 3705.2939368612897, 3707.3578756007155, 3709.3740168932823, 3711.3434324636332, 3713.2671716048644, 3715.146261574365, 3716.981707986213, 3718.7744951999666, 3720.525586705692, 3722.235925505094, 3723.9064344886183, 3725.53801680841, 3727.131556247026, 3728.687917581806, 3730.2079469448167, 3731.692472178299, 3733.142303185545, 3734.5582322771593, 3735.9410345126416]}, {\"line\": {\"width\": 2}, \"marker\": {\"size\": 6}, \"mode\": \"lines+markers\", \"name\": \"Deaths Jalisco (Data as reported)\", \"opacity\": 1, \"type\": \"scatter\", \"x\": [\"2020-05-15T00:00:00\", \"2020-05-16T00:00:00\", \"2020-05-17T00:00:00\", \"2020-05-18T00:00:00\", \"2020-05-19T00:00:00\", \"2020-05-20T00:00:00\", \"2020-05-21T00:00:00\", \"2020-05-22T00:00:00\", \"2020-05-23T00:00:00\", \"2020-05-24T00:00:00\", \"2020-05-25T00:00:00\", \"2020-05-26T00:00:00\", \"2020-05-27T00:00:00\", \"2020-05-28T00:00:00\", \"2020-05-29T00:00:00\", \"2020-05-30T00:00:00\", \"2020-05-31T00:00:00\", \"2020-06-01T00:00:00\", \"2020-06-02T00:00:00\", \"2020-06-03T00:00:00\", \"2020-06-04T00:00:00\", \"2020-06-05T00:00:00\", \"2020-06-06T00:00:00\", \"2020-06-07T00:00:00\", \"2020-06-08T00:00:00\", \"2020-06-09T00:00:00\", \"2020-06-10T00:00:00\", \"2020-06-11T00:00:00\", \"2020-06-12T00:00:00\", \"2020-06-13T00:00:00\", \"2020-06-14T00:00:00\", \"2020-06-15T00:00:00\", \"2020-06-16T00:00:00\", \"2020-06-17T00:00:00\", \"2020-06-18T00:00:00\", \"2020-06-19T00:00:00\", \"2020-06-20T00:00:00\", \"2020-06-21T00:00:00\", \"2020-06-22T00:00:00\", \"2020-06-23T00:00:00\", \"2020-06-24T00:00:00\", \"2020-06-25T00:00:00\", \"2020-06-26T00:00:00\", \"2020-06-27T00:00:00\", \"2020-06-28T00:00:00\", \"2020-06-29T00:00:00\", \"2020-06-30T00:00:00\", \"2020-07-01T00:00:00\"], \"y\": [70, 77, 82, 85, 91, 96, 97, 102, 102, 107, 115, 123, 126, 130, 133, 136, 140, 148, 161, 177, 186, 207, 223, 233, 249, 263, 275, 301, 309, 317, 325, 339, 357, 398, 420, 428, 438, 457, 468, 488, 523, 556, 595, 613, 628, 656, 685, 722]}],\n",
       "                        {\"legend\": {\"bgcolor\": \"rgba(0,0,0,0)\", \"font\": {\"family\": \"sans-serif\", \"size\": 14}, \"traceorder\": \"normal\", \"x\": 0.1, \"y\": 0.95}, \"showlegend\": true, \"template\": {\"data\": {\"bar\": [{\"error_x\": {\"color\": \"#2a3f5f\"}, \"error_y\": {\"color\": \"#2a3f5f\"}, \"marker\": {\"line\": {\"color\": \"#E5ECF6\", \"width\": 0.5}}, \"type\": \"bar\"}], \"barpolar\": [{\"marker\": {\"line\": {\"color\": \"#E5ECF6\", \"width\": 0.5}}, \"type\": \"barpolar\"}], \"carpet\": [{\"aaxis\": {\"endlinecolor\": \"#2a3f5f\", \"gridcolor\": \"white\", \"linecolor\": \"white\", \"minorgridcolor\": \"white\", \"startlinecolor\": \"#2a3f5f\"}, \"baxis\": {\"endlinecolor\": \"#2a3f5f\", \"gridcolor\": \"white\", \"linecolor\": \"white\", \"minorgridcolor\": \"white\", \"startlinecolor\": \"#2a3f5f\"}, \"type\": \"carpet\"}], \"choropleth\": [{\"colorbar\": {\"outlinewidth\": 0, \"ticks\": \"\"}, \"type\": \"choropleth\"}], \"contour\": [{\"colorbar\": {\"outlinewidth\": 0, \"ticks\": \"\"}, \"colorscale\": [[0.0, \"#0d0887\"], [0.1111111111111111, \"#46039f\"], [0.2222222222222222, \"#7201a8\"], [0.3333333333333333, \"#9c179e\"], [0.4444444444444444, \"#bd3786\"], [0.5555555555555556, \"#d8576b\"], [0.6666666666666666, \"#ed7953\"], [0.7777777777777778, \"#fb9f3a\"], [0.8888888888888888, \"#fdca26\"], [1.0, \"#f0f921\"]], \"type\": \"contour\"}], \"contourcarpet\": [{\"colorbar\": {\"outlinewidth\": 0, \"ticks\": \"\"}, \"type\": \"contourcarpet\"}], \"heatmap\": [{\"colorbar\": {\"outlinewidth\": 0, \"ticks\": \"\"}, \"colorscale\": [[0.0, \"#0d0887\"], [0.1111111111111111, \"#46039f\"], [0.2222222222222222, \"#7201a8\"], [0.3333333333333333, \"#9c179e\"], [0.4444444444444444, \"#bd3786\"], [0.5555555555555556, \"#d8576b\"], [0.6666666666666666, \"#ed7953\"], [0.7777777777777778, \"#fb9f3a\"], [0.8888888888888888, \"#fdca26\"], [1.0, \"#f0f921\"]], \"type\": \"heatmap\"}], \"heatmapgl\": [{\"colorbar\": {\"outlinewidth\": 0, \"ticks\": \"\"}, \"colorscale\": [[0.0, \"#0d0887\"], [0.1111111111111111, \"#46039f\"], [0.2222222222222222, \"#7201a8\"], [0.3333333333333333, \"#9c179e\"], [0.4444444444444444, \"#bd3786\"], [0.5555555555555556, \"#d8576b\"], [0.6666666666666666, \"#ed7953\"], [0.7777777777777778, \"#fb9f3a\"], [0.8888888888888888, \"#fdca26\"], [1.0, \"#f0f921\"]], \"type\": \"heatmapgl\"}], \"histogram\": [{\"marker\": {\"colorbar\": {\"outlinewidth\": 0, \"ticks\": \"\"}}, \"type\": \"histogram\"}], \"histogram2d\": [{\"colorbar\": {\"outlinewidth\": 0, \"ticks\": \"\"}, \"colorscale\": [[0.0, \"#0d0887\"], [0.1111111111111111, \"#46039f\"], [0.2222222222222222, \"#7201a8\"], [0.3333333333333333, \"#9c179e\"], [0.4444444444444444, \"#bd3786\"], [0.5555555555555556, \"#d8576b\"], [0.6666666666666666, \"#ed7953\"], [0.7777777777777778, \"#fb9f3a\"], [0.8888888888888888, \"#fdca26\"], [1.0, \"#f0f921\"]], \"type\": \"histogram2d\"}], \"histogram2dcontour\": [{\"colorbar\": {\"outlinewidth\": 0, \"ticks\": \"\"}, \"colorscale\": [[0.0, \"#0d0887\"], [0.1111111111111111, \"#46039f\"], [0.2222222222222222, \"#7201a8\"], [0.3333333333333333, \"#9c179e\"], [0.4444444444444444, \"#bd3786\"], [0.5555555555555556, \"#d8576b\"], [0.6666666666666666, \"#ed7953\"], [0.7777777777777778, \"#fb9f3a\"], [0.8888888888888888, \"#fdca26\"], [1.0, \"#f0f921\"]], \"type\": \"histogram2dcontour\"}], \"mesh3d\": [{\"colorbar\": {\"outlinewidth\": 0, \"ticks\": \"\"}, \"type\": \"mesh3d\"}], \"parcoords\": [{\"line\": {\"colorbar\": {\"outlinewidth\": 0, \"ticks\": \"\"}}, \"type\": \"parcoords\"}], \"pie\": [{\"automargin\": true, \"type\": \"pie\"}], \"scatter\": [{\"marker\": {\"colorbar\": {\"outlinewidth\": 0, \"ticks\": \"\"}}, \"type\": \"scatter\"}], \"scatter3d\": [{\"line\": {\"colorbar\": {\"outlinewidth\": 0, \"ticks\": \"\"}}, \"marker\": {\"colorbar\": {\"outlinewidth\": 0, \"ticks\": \"\"}}, \"type\": \"scatter3d\"}], \"scattercarpet\": [{\"marker\": {\"colorbar\": {\"outlinewidth\": 0, \"ticks\": \"\"}}, \"type\": \"scattercarpet\"}], \"scattergeo\": [{\"marker\": {\"colorbar\": {\"outlinewidth\": 0, \"ticks\": \"\"}}, \"type\": \"scattergeo\"}], \"scattergl\": [{\"marker\": {\"colorbar\": {\"outlinewidth\": 0, \"ticks\": \"\"}}, \"type\": \"scattergl\"}], \"scattermapbox\": [{\"marker\": {\"colorbar\": {\"outlinewidth\": 0, \"ticks\": \"\"}}, \"type\": \"scattermapbox\"}], \"scatterpolar\": [{\"marker\": {\"colorbar\": {\"outlinewidth\": 0, \"ticks\": \"\"}}, \"type\": \"scatterpolar\"}], \"scatterpolargl\": [{\"marker\": {\"colorbar\": {\"outlinewidth\": 0, \"ticks\": \"\"}}, \"type\": \"scatterpolargl\"}], \"scatterternary\": [{\"marker\": {\"colorbar\": {\"outlinewidth\": 0, \"ticks\": \"\"}}, \"type\": \"scatterternary\"}], \"surface\": [{\"colorbar\": {\"outlinewidth\": 0, \"ticks\": \"\"}, \"colorscale\": [[0.0, \"#0d0887\"], [0.1111111111111111, \"#46039f\"], [0.2222222222222222, \"#7201a8\"], [0.3333333333333333, \"#9c179e\"], [0.4444444444444444, \"#bd3786\"], [0.5555555555555556, \"#d8576b\"], [0.6666666666666666, \"#ed7953\"], [0.7777777777777778, \"#fb9f3a\"], [0.8888888888888888, \"#fdca26\"], [1.0, \"#f0f921\"]], \"type\": \"surface\"}], \"table\": [{\"cells\": {\"fill\": {\"color\": \"#EBF0F8\"}, \"line\": {\"color\": \"white\"}}, \"header\": {\"fill\": {\"color\": \"#C8D4E3\"}, \"line\": {\"color\": \"white\"}}, \"type\": \"table\"}]}, \"layout\": {\"annotationdefaults\": {\"arrowcolor\": \"#2a3f5f\", \"arrowhead\": 0, \"arrowwidth\": 1}, \"coloraxis\": {\"colorbar\": {\"outlinewidth\": 0, \"ticks\": \"\"}}, \"colorscale\": {\"diverging\": [[0, \"#8e0152\"], [0.1, \"#c51b7d\"], [0.2, \"#de77ae\"], [0.3, \"#f1b6da\"], [0.4, \"#fde0ef\"], [0.5, \"#f7f7f7\"], [0.6, \"#e6f5d0\"], [0.7, \"#b8e186\"], [0.8, \"#7fbc41\"], [0.9, \"#4d9221\"], [1, \"#276419\"]], \"sequential\": [[0.0, \"#0d0887\"], [0.1111111111111111, \"#46039f\"], [0.2222222222222222, \"#7201a8\"], [0.3333333333333333, \"#9c179e\"], [0.4444444444444444, \"#bd3786\"], [0.5555555555555556, \"#d8576b\"], [0.6666666666666666, \"#ed7953\"], [0.7777777777777778, \"#fb9f3a\"], [0.8888888888888888, \"#fdca26\"], [1.0, \"#f0f921\"]], \"sequentialminus\": [[0.0, \"#0d0887\"], [0.1111111111111111, \"#46039f\"], [0.2222222222222222, \"#7201a8\"], [0.3333333333333333, \"#9c179e\"], [0.4444444444444444, \"#bd3786\"], [0.5555555555555556, \"#d8576b\"], [0.6666666666666666, \"#ed7953\"], [0.7777777777777778, \"#fb9f3a\"], [0.8888888888888888, \"#fdca26\"], [1.0, \"#f0f921\"]]}, \"colorway\": [\"#636efa\", \"#EF553B\", \"#00cc96\", \"#ab63fa\", \"#FFA15A\", \"#19d3f3\", \"#FF6692\", \"#B6E880\", \"#FF97FF\", \"#FECB52\"], \"font\": {\"color\": \"#2a3f5f\"}, \"geo\": {\"bgcolor\": \"white\", \"lakecolor\": \"white\", \"landcolor\": \"#E5ECF6\", \"showlakes\": true, \"showland\": true, \"subunitcolor\": \"white\"}, \"hoverlabel\": {\"align\": \"left\"}, \"hovermode\": \"closest\", \"mapbox\": {\"style\": \"light\"}, \"paper_bgcolor\": \"white\", \"plot_bgcolor\": \"#E5ECF6\", \"polar\": {\"angularaxis\": {\"gridcolor\": \"white\", \"linecolor\": \"white\", \"ticks\": \"\"}, \"bgcolor\": \"#E5ECF6\", \"radialaxis\": {\"gridcolor\": \"white\", \"linecolor\": \"white\", \"ticks\": \"\"}}, \"scene\": {\"xaxis\": {\"backgroundcolor\": \"#E5ECF6\", \"gridcolor\": \"white\", \"gridwidth\": 2, \"linecolor\": \"white\", \"showbackground\": true, \"ticks\": \"\", \"zerolinecolor\": \"white\"}, \"yaxis\": {\"backgroundcolor\": \"#E5ECF6\", \"gridcolor\": \"white\", \"gridwidth\": 2, \"linecolor\": \"white\", \"showbackground\": true, \"ticks\": \"\", \"zerolinecolor\": \"white\"}, \"zaxis\": {\"backgroundcolor\": \"#E5ECF6\", \"gridcolor\": \"white\", \"gridwidth\": 2, \"linecolor\": \"white\", \"showbackground\": true, \"ticks\": \"\", \"zerolinecolor\": \"white\"}}, \"shapedefaults\": {\"line\": {\"color\": \"#2a3f5f\"}}, \"ternary\": {\"aaxis\": {\"gridcolor\": \"white\", \"linecolor\": \"white\", \"ticks\": \"\"}, \"baxis\": {\"gridcolor\": \"white\", \"linecolor\": \"white\", \"ticks\": \"\"}, \"bgcolor\": \"#E5ECF6\", \"caxis\": {\"gridcolor\": \"white\", \"linecolor\": \"white\", \"ticks\": \"\"}}, \"title\": {\"x\": 0.05}, \"xaxis\": {\"automargin\": true, \"gridcolor\": \"white\", \"linecolor\": \"white\", \"ticks\": \"\", \"title\": {\"standoff\": 15}, \"zerolinecolor\": \"white\", \"zerolinewidth\": 2}, \"yaxis\": {\"automargin\": true, \"gridcolor\": \"white\", \"linecolor\": \"white\", \"ticks\": \"\", \"title\": {\"standoff\": 15}, \"zerolinecolor\": \"white\", \"zerolinewidth\": 2}}}, \"title\": {\"text\": \"Model/Data Jalisco - deaths\", \"x\": 0.5}, \"yaxis\": {\"type\": \"linear\"}},\n",
       "                        {\"responsive\": true}\n",
       "                    ).then(function(){\n",
       "                            \n",
       "var gd = document.getElementById('9c845164-09db-4928-b4b7-b3d0182533c7');\n",
       "var x = new MutationObserver(function (mutations, observer) {{\n",
       "        var display = window.getComputedStyle(gd).display;\n",
       "        if (!display || display === 'none') {{\n",
       "            console.log([gd, 'removed!']);\n",
       "            Plotly.purge(gd);\n",
       "            observer.disconnect();\n",
       "        }}\n",
       "}});\n",
       "\n",
       "// Listen for the removal of the full notebook cells\n",
       "var notebookContainer = gd.closest('#notebook-container');\n",
       "if (notebookContainer) {{\n",
       "    x.observe(notebookContainer, {childList: true});\n",
       "}}\n",
       "\n",
       "// Listen for the clearing of the current output cell\n",
       "var outputEl = gd.closest('.output');\n",
       "if (outputEl) {{\n",
       "    x.observe(outputEl, {childList: true});\n",
       "}}\n",
       "\n",
       "                        })\n",
       "                };\n",
       "                });\n",
       "            </script>\n",
       "        </div>"
      ]
     },
     "metadata": {},
     "output_type": "display_data"
    }
   ],
   "source": [
    "tbound = 250\n",
    "fig = go.Figure()\n",
    "\n",
    "fig.add_trace(go.Scatter(\n",
    "    x=df6[df6.time<tbound]['date'],\n",
    "    y=df6[df6.time<tbound]['Deaths'],\n",
    "    name='Deaths Jalisco (Model #5)',\n",
    "    mode='lines+markers',line_width=2,marker_size=6,opacity=1))\n",
    "\n",
    "fig.add_trace(go.Scatter(\n",
    "    x=mx1['date'],\n",
    "    y=mx1['Deaths_Jalisco'],\n",
    "    name='Deaths Jalisco (Data as reported)',\n",
    "    mode='lines+markers',line_width=2,marker_size=6,opacity=1))\n",
    "\n",
    "fig.update_layout(\n",
    "    title=\"Model/Data Jalisco - deaths\",\n",
    "    title_x=0.5,showlegend=True,yaxis = {'type': 'linear'},\n",
    "    legend=dict(\n",
    "            x=0.10,y=0.95,\n",
    "            traceorder=\"normal\",font=dict(family=\"sans-serif\",size=14),bgcolor='rgba(0,0,0,0)'),)\n",
    "\n",
    "fig.show()"
   ]
  },
  {
   "cell_type": "code",
   "execution_count": 291,
   "metadata": {},
   "outputs": [
    {
     "data": {
      "application/vnd.plotly.v1+json": {
       "config": {
        "plotlyServerURL": "https://plot.ly"
       },
       "data": [
        {
         "line": {
          "width": 2
         },
         "marker": {
          "size": 6
         },
         "mode": "lines+markers",
         "name": "Deaths Jalisco (Model #5) - as reported",
         "opacity": 1,
         "type": "scatter",
         "x": [
          "2020-05-15T00:00:00",
          "2020-05-16T00:00:00",
          "2020-05-17T00:00:00",
          "2020-05-18T00:00:00",
          "2020-05-19T00:00:00",
          "2020-05-20T00:00:00",
          "2020-05-21T00:00:00",
          "2020-05-22T00:00:00",
          "2020-05-23T00:00:00",
          "2020-05-24T00:00:00",
          "2020-05-25T00:00:00",
          "2020-05-26T00:00:00",
          "2020-05-27T00:00:00",
          "2020-05-28T00:00:00",
          "2020-05-29T00:00:00",
          "2020-05-30T00:00:00",
          "2020-05-31T00:00:00",
          "2020-06-01T00:00:00",
          "2020-06-02T00:00:00",
          "2020-06-03T00:00:00",
          "2020-06-04T00:00:00",
          "2020-06-05T00:00:00",
          "2020-06-06T00:00:00",
          "2020-06-07T00:00:00",
          "2020-06-08T00:00:00",
          "2020-06-09T00:00:00",
          "2020-06-10T00:00:00",
          "2020-06-11T00:00:00",
          "2020-06-12T00:00:00",
          "2020-06-13T00:00:00",
          "2020-06-14T00:00:00",
          "2020-06-15T00:00:00",
          "2020-06-16T00:00:00",
          "2020-06-17T00:00:00",
          "2020-06-18T00:00:00",
          "2020-06-19T00:00:00",
          "2020-06-20T00:00:00",
          "2020-06-21T00:00:00",
          "2020-06-22T00:00:00",
          "2020-06-23T00:00:00",
          "2020-06-24T00:00:00",
          "2020-06-25T00:00:00",
          "2020-06-26T00:00:00",
          "2020-06-27T00:00:00",
          "2020-06-28T00:00:00",
          "2020-06-29T00:00:00",
          "2020-06-30T00:00:00",
          "2020-07-01T00:00:00",
          "2020-07-02T00:00:00",
          "2020-07-03T00:00:00",
          "2020-07-04T00:00:00",
          "2020-07-05T00:00:00",
          "2020-07-06T00:00:00",
          "2020-07-07T00:00:00",
          "2020-07-08T00:00:00",
          "2020-07-09T00:00:00",
          "2020-07-10T00:00:00",
          "2020-07-11T00:00:00",
          "2020-07-12T00:00:00",
          "2020-07-13T00:00:00",
          "2020-07-14T00:00:00",
          "2020-07-15T00:00:00",
          "2020-07-16T00:00:00",
          "2020-07-17T00:00:00",
          "2020-07-18T00:00:00",
          "2020-07-19T00:00:00",
          "2020-07-20T00:00:00",
          "2020-07-21T00:00:00",
          "2020-07-22T00:00:00",
          "2020-07-23T00:00:00",
          "2020-07-24T00:00:00",
          "2020-07-25T00:00:00",
          "2020-07-26T00:00:00",
          "2020-07-27T00:00:00",
          "2020-07-28T00:00:00",
          "2020-07-29T00:00:00",
          "2020-07-30T00:00:00",
          "2020-07-31T00:00:00",
          "2020-08-01T00:00:00",
          "2020-08-02T00:00:00",
          "2020-08-03T00:00:00",
          "2020-08-04T00:00:00",
          "2020-08-05T00:00:00",
          "2020-08-06T00:00:00",
          "2020-08-07T00:00:00",
          "2020-08-08T00:00:00",
          "2020-08-09T00:00:00",
          "2020-08-10T00:00:00",
          "2020-08-11T00:00:00",
          "2020-08-12T00:00:00",
          "2020-08-13T00:00:00",
          "2020-08-14T00:00:00",
          "2020-08-15T00:00:00",
          "2020-08-16T00:00:00",
          "2020-08-17T00:00:00",
          "2020-08-18T00:00:00",
          "2020-08-19T00:00:00",
          "2020-08-20T00:00:00",
          "2020-08-21T00:00:00",
          "2020-08-22T00:00:00",
          "2020-08-23T00:00:00",
          "2020-08-24T00:00:00",
          "2020-08-25T00:00:00",
          "2020-08-26T00:00:00",
          "2020-08-27T00:00:00",
          "2020-08-28T00:00:00",
          "2020-08-29T00:00:00",
          "2020-08-30T00:00:00",
          "2020-08-31T00:00:00",
          "2020-09-01T00:00:00",
          "2020-09-02T00:00:00",
          "2020-09-03T00:00:00",
          "2020-09-04T00:00:00",
          "2020-09-05T00:00:00",
          "2020-09-06T00:00:00",
          "2020-09-07T00:00:00",
          "2020-09-08T00:00:00",
          "2020-09-09T00:00:00",
          "2020-09-10T00:00:00",
          "2020-09-11T00:00:00",
          "2020-09-12T00:00:00",
          "2020-09-13T00:00:00",
          "2020-09-14T00:00:00",
          "2020-09-15T00:00:00",
          "2020-09-16T00:00:00",
          "2020-09-17T00:00:00",
          "2020-09-18T00:00:00",
          "2020-09-19T00:00:00",
          "2020-09-20T00:00:00",
          "2020-09-21T00:00:00",
          "2020-09-22T00:00:00",
          "2020-09-23T00:00:00",
          "2020-09-24T00:00:00",
          "2020-09-25T00:00:00",
          "2020-09-26T00:00:00",
          "2020-09-27T00:00:00",
          "2020-09-28T00:00:00",
          "2020-09-29T00:00:00",
          "2020-09-30T00:00:00",
          "2020-10-01T00:00:00",
          "2020-10-02T00:00:00",
          "2020-10-03T00:00:00",
          "2020-10-04T00:00:00",
          "2020-10-05T00:00:00",
          "2020-10-06T00:00:00",
          "2020-10-07T00:00:00",
          "2020-10-08T00:00:00",
          "2020-10-09T00:00:00",
          "2020-10-10T00:00:00",
          "2020-10-11T00:00:00",
          "2020-10-12T00:00:00",
          "2020-10-13T00:00:00",
          "2020-10-14T00:00:00",
          "2020-10-15T00:00:00",
          "2020-10-16T00:00:00",
          "2020-10-17T00:00:00",
          "2020-10-18T00:00:00",
          "2020-10-19T00:00:00",
          "2020-10-20T00:00:00",
          "2020-10-21T00:00:00",
          "2020-10-22T00:00:00",
          "2020-10-23T00:00:00",
          "2020-10-24T00:00:00",
          "2020-10-25T00:00:00",
          "2020-10-26T00:00:00",
          "2020-10-27T00:00:00",
          "2020-10-28T00:00:00",
          "2020-10-29T00:00:00",
          "2020-10-30T00:00:00",
          "2020-10-31T00:00:00",
          "2020-11-01T00:00:00",
          "2020-11-02T00:00:00",
          "2020-11-03T00:00:00",
          "2020-11-04T00:00:00",
          "2020-11-05T00:00:00",
          "2020-11-06T00:00:00",
          "2020-11-07T00:00:00",
          "2020-11-08T00:00:00",
          "2020-11-09T00:00:00",
          "2020-11-10T00:00:00",
          "2020-11-11T00:00:00",
          "2020-11-12T00:00:00",
          "2020-11-13T00:00:00",
          "2020-11-14T00:00:00",
          "2020-11-15T00:00:00",
          "2020-11-16T00:00:00",
          "2020-11-17T00:00:00",
          "2020-11-18T00:00:00",
          "2020-11-19T00:00:00",
          "2020-11-20T00:00:00",
          "2020-11-21T00:00:00",
          "2020-11-22T00:00:00",
          "2020-11-23T00:00:00",
          "2020-11-24T00:00:00",
          "2020-11-25T00:00:00",
          "2020-11-26T00:00:00",
          "2020-11-27T00:00:00",
          "2020-11-28T00:00:00",
          "2020-11-29T00:00:00",
          "2020-11-30T00:00:00",
          "2020-12-01T00:00:00",
          "2020-12-02T00:00:00",
          "2020-12-03T00:00:00",
          "2020-12-04T00:00:00",
          "2020-12-05T00:00:00",
          "2020-12-06T00:00:00",
          "2020-12-07T00:00:00",
          "2020-12-08T00:00:00",
          "2020-12-09T00:00:00",
          "2020-12-10T00:00:00",
          "2020-12-11T00:00:00",
          "2020-12-12T00:00:00",
          "2020-12-13T00:00:00",
          "2020-12-14T00:00:00",
          "2020-12-15T00:00:00",
          "2020-12-16T00:00:00",
          "2020-12-17T00:00:00",
          "2020-12-18T00:00:00",
          "2020-12-19T00:00:00",
          "2020-12-20T00:00:00",
          "2020-12-21T00:00:00",
          "2020-12-22T00:00:00",
          "2020-12-23T00:00:00",
          "2020-12-24T00:00:00",
          "2020-12-25T00:00:00",
          "2020-12-26T00:00:00",
          "2020-12-27T00:00:00",
          "2020-12-28T00:00:00",
          "2020-12-29T00:00:00",
          "2020-12-30T00:00:00",
          "2020-12-31T00:00:00",
          "2021-01-01T00:00:00",
          "2021-01-02T00:00:00",
          "2021-01-03T00:00:00",
          "2021-01-04T00:00:00",
          "2021-01-05T00:00:00",
          "2021-01-06T00:00:00",
          "2021-01-07T00:00:00",
          "2021-01-08T00:00:00",
          "2021-01-09T00:00:00",
          "2021-01-10T00:00:00",
          "2021-01-11T00:00:00",
          "2021-01-12T00:00:00",
          "2021-01-13T00:00:00",
          "2021-01-14T00:00:00",
          "2021-01-15T00:00:00",
          "2021-01-16T00:00:00",
          "2021-01-17T00:00:00",
          "2021-01-18T00:00:00",
          "2021-01-19T00:00:00"
         ],
         "y": [
          70,
          70,
          70.72317142857143,
          72.14050507997773,
          74.22719332864344,
          76.96216587293907,
          80.3276670432986,
          84.3088706766788,
          88.89352898447436,
          94.07165222203864,
          99.83521630918395,
          106.17789585630449,
          113.09482032356598,
          120.58235128410394,
          128.63787897923254,
          137.25963654689048,
          146.4465304762993,
          156.19798599422785,
          166.51380622329168,
          177.39404407213803,
          188.83888592278433,
          200.84854627325444,
          213.42317257531954,
          226.56275957881059,
          240.26707255672113,
          254.5355788401626,
          269.36738714007197,
          284.7611941742236,
          300.71523815430817,
          317.22725871928077,
          334.29446292845637,
          351.9134969514906,
          370.08042311291814,
          388.7907019667736,
          408.03917909238316,
          427.82007631604506,
          448.126987075325,
          468.95287565335605,
          490.2900800200975,
          512.1303180261878,
          534.4646967030084,
          557.2837244300231,
          580.5773257375043,
          604.3348585195301,
          628.5451334387227,
          653.1964353106913,
          678.276546262601,
          703.7727704667655,
          729.6719602567055,
          755.9605434397415,
          782.6245516269307,
          809.6496494080201,
          837.0211642060733,
          864.724116653539,
          892.7432513387544,
          921.0630677792045,
          949.6678514852757,
          978.5417049857231,
          1007.668578693608,
          1037.0323014990151,
          1066.6166109824198,
          1096.4051831501092,
          1126.3816616005493,
          1156.5296860380063,
          1186.832920057047,
          1217.275078128743,
          1247.8399517264622,
          1278.5114345360275,
          1309.2735467017333,
          1340.1104580662268,
          1371.006510368561,
          1401.9462383707876,
          1432.9143898892905,
          1463.8959447126258,
          1494.8761323929407,
          1525.840448903084,
          1556.7746721562746,
          1587.6648763896776,
          1618.4974454174308,
          1649.2590847625775,
          1679.9368326809888,
          1710.5180700937076,
          1740.990529447212,
          1771.342302523897,
          1801.561847227592,
          1831.6379933712085,
          1861.5599474956114,
          1891.3172967505795,
          1920.9000118702484,
          1950.2984492767234,
          1979.5033523466373,
          2008.5058518762944,
          2037.2974657817258,
          2065.8700980704607,
          2094.2160371221426,
          2122.3279533152568,
          2150.198896037241,
          2177.8222901150934,
          2205.1919317033207,
          2232.301983665662,
          2259.1469704865167,
          2285.7217727473812,
          2312.021621202917,
          2338.0420904904604,
          2363.7790925059508,
          2389.2288694783183,
          2414.387986773407,
          2439.2533254574832,
          2463.8220746493184,
          2488.0917236887485,
          2512.0600541484882,
          2535.7251317148493,
          2559.0852979618603,
          2582.1391620421323,
          2604.8855923166607,
          2627.3237079445926,
          2649.452870452854,
          2671.2726753043835,
          2692.7829434826126,
          2713.983713108719,
          2734.875231107104,
          2755.4579449334924,
          2775.7324943790104,
          2795.6997034626033,
          2815.360572423176,
          2834.7162698219004,
          2853.768124764214,
          2872.517619250167,
          2890.966380660922,
          2909.1161743884018,
          2926.968896614314,
          2944.5265672440214,
          2961.791323000043,
          2978.765410679281,
          2995.451180577441,
          3011.851080083507,
          3027.967647446563,
          3043.8035057167144,
          3059.361356861355,
          3074.643976057562,
          3089.654206160945,
          3104.394952350865,
          3118.869176951571,
          3133.079894428412,
          3147.0301665579905,
          3160.723097770787,
          3174.16183066453,
          3187.34954168632,
          3200.2894369812802,
          3212.9847484053084,
          3225.4387296993073,
          3237.6546528221015,
          3249.6358044391,
          3261.3854825636326,
          3272.9069933477685,
          3284.203648019331,
          3295.278759961731,
          3306.135641933177,
          3316.777603421761,
          3327.207948132871,
          3337.4299716053533,
          3347.4469589528194,
          3357.2621827264875,
          3366.878900895936,
          3376.3003549441637,
          3385.5297680733484,
          3394.5703435177397,
          3403.4252629601237,
          3412.0976850483526,
          3420.590744008456,
          3428.907548350905,
          3437.0511796666433,
          3445.0246915095563,
          3452.8311083621006,
          3460.4734246808803,
          3467.954604019018,
          3475.277578222232,
          3482.445246695598,
          3489.460475738043,
          3496.326097941691,
          3503.0449116532454,
          3509.619680494675,
          3516.053132940527,
          3522.347961949287,
          3528.5068246462515,
          3534.5323420554805,
          3540.427098878443,
          3546.1936433170636,
          3551.8344869389416,
          3557.352104582578,
          3562.748934300532,
          3568.0273773384906,
          3573.1897981483007,
          3578.2385244330885,
          3583.175847222654,
          3588.004020977396,
          3592.7252637190845,
          3597.341757186865,
          3601.855647016938,
          3606.2690429444183,
          3610.584019025942,
          3614.8026138816344,
          3618.926830955129,
          3622.9586387903596,
          3626.8999713239195,
          3630.7527281918224,
          3634.5187750495547,
          3638.1999439043584,
          3641.7980334587264,
          3645.3148094641447,
          3648.7520050841563,
          3652.111321265866,
          3655.3944271190458,
          3658.6029603020415,
          3661.7385274137246,
          3664.8027043907614,
          3667.797036909518,
          3670.7230407919456,
          3673.582202414836,
          3676.375979121853,
          3679.1057996377926,
          3681.7730644845487,
          3684.379146398285,
          3686.92539074735,
          3689.413115950496,
          3691.8436138949814,
          3694.2181503541747,
          3696.5379654042854,
          3698.8042738398854,
          3701.0182655878916,
          3703.1811061197154,
          3705.2939368612897,
          3707.3578756007155,
          3709.3740168932823,
          3711.3434324636332,
          3713.2671716048644,
          3715.146261574365,
          3716.981707986213,
          3718.7744951999666,
          3720.525586705692,
          3722.235925505094,
          3723.9064344886183,
          3725.53801680841,
          3727.131556247026,
          3728.687917581806,
          3730.2079469448167,
          3731.692472178299,
          3733.142303185545,
          3734.5582322771593,
          3735.9410345126416
         ]
        },
        {
         "line": {
          "width": 2
         },
         "marker": {
          "size": 6
         },
         "mode": "lines+markers",
         "name": "Deaths Jalisco (Model #5) - as occurred",
         "opacity": 1,
         "type": "scatter",
         "x": [
          "2020-05-15T00:00:00",
          "2020-05-16T00:00:00",
          "2020-05-17T00:00:00",
          "2020-05-18T00:00:00",
          "2020-05-19T00:00:00",
          "2020-05-20T00:00:00",
          "2020-05-21T00:00:00",
          "2020-05-22T00:00:00",
          "2020-05-23T00:00:00",
          "2020-05-24T00:00:00",
          "2020-05-25T00:00:00",
          "2020-05-26T00:00:00",
          "2020-05-27T00:00:00",
          "2020-05-28T00:00:00",
          "2020-05-29T00:00:00",
          "2020-05-30T00:00:00",
          "2020-05-31T00:00:00",
          "2020-06-01T00:00:00",
          "2020-06-02T00:00:00",
          "2020-06-03T00:00:00",
          "2020-06-04T00:00:00",
          "2020-06-05T00:00:00",
          "2020-06-06T00:00:00",
          "2020-06-07T00:00:00",
          "2020-06-08T00:00:00",
          "2020-06-09T00:00:00",
          "2020-06-10T00:00:00",
          "2020-06-11T00:00:00",
          "2020-06-12T00:00:00",
          "2020-06-13T00:00:00",
          "2020-06-14T00:00:00",
          "2020-06-15T00:00:00",
          "2020-06-16T00:00:00",
          "2020-06-17T00:00:00",
          "2020-06-18T00:00:00",
          "2020-06-19T00:00:00",
          "2020-06-20T00:00:00",
          "2020-06-21T00:00:00",
          "2020-06-22T00:00:00",
          "2020-06-23T00:00:00",
          "2020-06-24T00:00:00",
          "2020-06-25T00:00:00",
          "2020-06-26T00:00:00",
          "2020-06-27T00:00:00",
          "2020-06-28T00:00:00",
          "2020-06-29T00:00:00",
          "2020-06-30T00:00:00",
          "2020-07-01T00:00:00",
          "2020-07-02T00:00:00",
          "2020-07-03T00:00:00",
          "2020-07-04T00:00:00",
          "2020-07-05T00:00:00",
          "2020-07-06T00:00:00",
          "2020-07-07T00:00:00",
          "2020-07-08T00:00:00",
          "2020-07-09T00:00:00",
          "2020-07-10T00:00:00",
          "2020-07-11T00:00:00",
          "2020-07-12T00:00:00",
          "2020-07-13T00:00:00",
          "2020-07-14T00:00:00",
          "2020-07-15T00:00:00",
          "2020-07-16T00:00:00",
          "2020-07-17T00:00:00",
          "2020-07-18T00:00:00",
          "2020-07-19T00:00:00",
          "2020-07-20T00:00:00",
          "2020-07-21T00:00:00",
          "2020-07-22T00:00:00",
          "2020-07-23T00:00:00",
          "2020-07-24T00:00:00",
          "2020-07-25T00:00:00",
          "2020-07-26T00:00:00",
          "2020-07-27T00:00:00",
          "2020-07-28T00:00:00",
          "2020-07-29T00:00:00",
          "2020-07-30T00:00:00",
          "2020-07-31T00:00:00",
          "2020-08-01T00:00:00",
          "2020-08-02T00:00:00",
          "2020-08-03T00:00:00",
          "2020-08-04T00:00:00",
          "2020-08-05T00:00:00",
          "2020-08-06T00:00:00",
          "2020-08-07T00:00:00",
          "2020-08-08T00:00:00",
          "2020-08-09T00:00:00",
          "2020-08-10T00:00:00",
          "2020-08-11T00:00:00",
          "2020-08-12T00:00:00",
          "2020-08-13T00:00:00",
          "2020-08-14T00:00:00",
          "2020-08-15T00:00:00",
          "2020-08-16T00:00:00",
          "2020-08-17T00:00:00",
          "2020-08-18T00:00:00",
          "2020-08-19T00:00:00",
          "2020-08-20T00:00:00",
          "2020-08-21T00:00:00",
          "2020-08-22T00:00:00",
          "2020-08-23T00:00:00",
          "2020-08-24T00:00:00",
          "2020-08-25T00:00:00",
          "2020-08-26T00:00:00",
          "2020-08-27T00:00:00",
          "2020-08-28T00:00:00",
          "2020-08-29T00:00:00",
          "2020-08-30T00:00:00",
          "2020-08-31T00:00:00",
          "2020-09-01T00:00:00",
          "2020-09-02T00:00:00",
          "2020-09-03T00:00:00",
          "2020-09-04T00:00:00",
          "2020-09-05T00:00:00",
          "2020-09-06T00:00:00",
          "2020-09-07T00:00:00",
          "2020-09-08T00:00:00",
          "2020-09-09T00:00:00",
          "2020-09-10T00:00:00",
          "2020-09-11T00:00:00",
          "2020-09-12T00:00:00",
          "2020-09-13T00:00:00",
          "2020-09-14T00:00:00",
          "2020-09-15T00:00:00",
          "2020-09-16T00:00:00",
          "2020-09-17T00:00:00",
          "2020-09-18T00:00:00",
          "2020-09-19T00:00:00",
          "2020-09-20T00:00:00",
          "2020-09-21T00:00:00",
          "2020-09-22T00:00:00",
          "2020-09-23T00:00:00",
          "2020-09-24T00:00:00",
          "2020-09-25T00:00:00",
          "2020-09-26T00:00:00",
          "2020-09-27T00:00:00",
          "2020-09-28T00:00:00",
          "2020-09-29T00:00:00",
          "2020-09-30T00:00:00",
          "2020-10-01T00:00:00",
          "2020-10-02T00:00:00",
          "2020-10-03T00:00:00",
          "2020-10-04T00:00:00",
          "2020-10-05T00:00:00",
          "2020-10-06T00:00:00",
          "2020-10-07T00:00:00",
          "2020-10-08T00:00:00",
          "2020-10-09T00:00:00",
          "2020-10-10T00:00:00",
          "2020-10-11T00:00:00",
          "2020-10-12T00:00:00",
          "2020-10-13T00:00:00",
          "2020-10-14T00:00:00",
          "2020-10-15T00:00:00",
          "2020-10-16T00:00:00",
          "2020-10-17T00:00:00",
          "2020-10-18T00:00:00",
          "2020-10-19T00:00:00",
          "2020-10-20T00:00:00",
          "2020-10-21T00:00:00",
          "2020-10-22T00:00:00",
          "2020-10-23T00:00:00",
          "2020-10-24T00:00:00",
          "2020-10-25T00:00:00",
          "2020-10-26T00:00:00",
          "2020-10-27T00:00:00",
          "2020-10-28T00:00:00",
          "2020-10-29T00:00:00",
          "2020-10-30T00:00:00",
          "2020-10-31T00:00:00",
          "2020-11-01T00:00:00",
          "2020-11-02T00:00:00",
          "2020-11-03T00:00:00",
          "2020-11-04T00:00:00",
          "2020-11-05T00:00:00",
          "2020-11-06T00:00:00",
          "2020-11-07T00:00:00",
          "2020-11-08T00:00:00",
          "2020-11-09T00:00:00",
          "2020-11-10T00:00:00",
          "2020-11-11T00:00:00",
          "2020-11-12T00:00:00",
          "2020-11-13T00:00:00",
          "2020-11-14T00:00:00",
          "2020-11-15T00:00:00",
          "2020-11-16T00:00:00",
          "2020-11-17T00:00:00",
          "2020-11-18T00:00:00",
          "2020-11-19T00:00:00",
          "2020-11-20T00:00:00",
          "2020-11-21T00:00:00",
          "2020-11-22T00:00:00",
          "2020-11-23T00:00:00",
          "2020-11-24T00:00:00",
          "2020-11-25T00:00:00",
          "2020-11-26T00:00:00",
          "2020-11-27T00:00:00",
          "2020-11-28T00:00:00",
          "2020-11-29T00:00:00",
          "2020-11-30T00:00:00",
          "2020-12-01T00:00:00",
          "2020-12-02T00:00:00",
          "2020-12-03T00:00:00",
          "2020-12-04T00:00:00",
          "2020-12-05T00:00:00",
          "2020-12-06T00:00:00",
          "2020-12-07T00:00:00",
          "2020-12-08T00:00:00",
          "2020-12-09T00:00:00",
          "2020-12-10T00:00:00",
          "2020-12-11T00:00:00",
          "2020-12-12T00:00:00",
          "2020-12-13T00:00:00",
          "2020-12-14T00:00:00",
          "2020-12-15T00:00:00",
          "2020-12-16T00:00:00",
          "2020-12-17T00:00:00",
          "2020-12-18T00:00:00",
          "2020-12-19T00:00:00",
          "2020-12-20T00:00:00",
          "2020-12-21T00:00:00",
          "2020-12-22T00:00:00",
          "2020-12-23T00:00:00",
          "2020-12-24T00:00:00",
          "2020-12-25T00:00:00",
          "2020-12-26T00:00:00",
          "2020-12-27T00:00:00",
          "2020-12-28T00:00:00",
          "2020-12-29T00:00:00",
          "2020-12-30T00:00:00",
          "2020-12-31T00:00:00",
          "2021-01-01T00:00:00",
          "2021-01-02T00:00:00",
          "2021-01-03T00:00:00",
          "2021-01-04T00:00:00",
          "2021-01-05T00:00:00",
          "2021-01-06T00:00:00",
          "2021-01-07T00:00:00",
          "2021-01-08T00:00:00",
          "2021-01-09T00:00:00",
          "2021-01-10T00:00:00",
          "2021-01-11T00:00:00",
          "2021-01-12T00:00:00",
          "2021-01-13T00:00:00",
          "2021-01-14T00:00:00",
          "2021-01-15T00:00:00",
          "2021-01-16T00:00:00",
          "2021-01-17T00:00:00",
          "2021-01-18T00:00:00",
          "2021-01-19T00:00:00"
         ],
         "y": [
          81,
          81,
          82.23428571428572,
          84.62681661943184,
          88.1096113510162,
          92.62188958767877,
          98.10929909562218,
          104.52321957063195,
          111.82013574824228,
          119.96107300229838,
          128.911089326313,
          138.63881819828197,
          149.1160573748496,
          160.31739915105445,
          172.21989806287627,
          184.8027724064269,
          198.04713630436683,
          211.93575937101247,
          226.45285131625855,
          241.58386908813316,
          257.3153443874657,
          273.6347295984174,
          290.53026036786986,
          307.99083323702496,
          326.00589688195,
          344.5653556579337,
          363.6594842669439,
          383.27885247958983,
          403.4142589440405,
          424.0566732054545,
          445.19718514164947,
          466.82696109487966,
          488.9372060465172,
          511.51913124186996,
          534.5639267269789,
          558.0627383086003,
          582.0066484932278,
          606.386661001419,
          631.1936884902792,
          656.4185431501144,
          682.0519298713283,
          708.0844417049179,
          734.5065573646913,
          761.308640541839,
          788.4809408229593,
          816.0135960212614,
          843.8966357476398,
          872.1199860637713,
          900.6734750734968,
          929.5468393216245,
          958.7297308810596,
          988.2117250199224,
          1017.9823283501623,
          1048.0309873681929,
          1078.34709730633,
          1108.9200112214,
          1139.7390492538302,
          1170.793507996922,
          1202.0726699218742,
          1233.5658128095126,
          1265.262219144644,
          1297.1511854335108,
          1329.2220314090287,
          1361.464109092344,
          1393.866811682818,
          1426.4195822518152,
          1459.1119222186917,
          1491.9333995901604,
          1524.873656946766,
          1557.9224191625583,
          1591.0695008462162,
          1624.3048134938672,
          1657.6183723456782,
          1691.0003029399688,
          1724.440847360145,
          1757.930370171155,
          1791.4593640434691,
          1825.018455063757,
          1858.5984077325154,
          1892.1901296498793,
          1925.7846758917356,
          1959.3732530790649,
          1992.947223144163,
          2026.498106798049,
          2060.0175867039507,
          2093.4975103622814,
          2126.929892712988,
          2160.3069184615547,
          2193.620944135307,
          2226.8644998769737,
          2260.0302909827174,
          2293.1111991920898,
          2326.1002837375327,
          2358.990782161207,
          2391.7761109070525,
          2424.4498656960595,
          2457.0058216927982,
          2489.437933471283,
          2521.740334788262,
          2553.907338171997,
          2585.933434334583,
          2617.813291415791,
          2649.541754066348,
          2681.113842378501,
          2712.524750671589,
          2743.769846140255,
          2774.8446673727994,
          2805.744922747041,
          2836.466488710919,
          2867.0054079549077,
          2897.35788748317,
          2927.520296590203,
          2957.489164749566,
          2987.2611794211057,
          3016.833183782922,
          3046.202174394125,
          3075.3652987942705,
          3104.319853045158,
          3133.063279220507,
          3161.593162848825,
          3189.9072303146186,
          3218.0033462228807,
          3245.8795107316355,
          3273.533856857116,
          3300.964647755978,
          3328.1702739887696,
          3355.1492507686994,
          3381.9002151995705,
          3408.421923506572,
          3434.7132482634534,
          3460.773175619433,
          3486.600802529039,
          3512.1953339879074,
          3537.556080277415,
          3562.6824542208633,
          3587.5739684537907,
          3612.2302327108264,
          3636.6509511313793,
          3660.835919586298,
          3684.7850230275153,
          3708.498232862553,
          3731.9756043556426,
          3755.217274057095,
          3778.223457262423,
          3800.9944455026252,
          3823.530604066913,
          3845.832369559063,
          3867.900247488479,
          3889.7348098969387,
          3911.336693021914,
          3932.7065949972625,
          3953.8452735919977,
          3974.7535439877606,
          3995.4322765955426,
          4015.882394912125,
          4036.104873416635,
          4056.1007355075403,
          4075.871051480349,
          4095.4169365462085,
          4114.7395488915445,
          4133.840087778815,
          4152.719791688419,
          4171.379936501724,
          4189.821833725151,
          4208.046828755193,
          4226.056299184215,
          4243.851653146833,
          4261.434327706632,
          4278.805787282957,
          4295.967522117472,
          4312.921046780145,
          4329.667898714301,
          4346.209636820354,
          4362.54784007779,
          4378.684106204988,
          4394.6200503563905,
          4410.357303856574,
          4425.8975129707,
          4441.242337710861,
          4456.393450677774,
          4471.352535937299,
          4486.121287931228,
          4500.701410421787,
          4515.094615469284,
          4529.302622442328,
          4543.32715706004,
          4557.16995046566,
          4570.832738330977,
          4584.31725999097,
          4597.62525760808,
          4610.7584753654955,
          4623.71865868888,
          4636.50755349592,
          4649.126905473103,
          4661.578459379145,
          4673.86395837445,
          4685.985143376028,
          4697.943752437282,
          4709.741520152075,
          4721.380177082509,
          4732.861449209829,
          4744.187057407894,
          4755.3587169386565,
          4766.378136969075,
          4777.247020108932,
          4787.967061968997,
          4798.539950739009,
          4808.967366784947,
          4819.250982265058,
          4829.392460764144,
          4839.393456945588,
          4849.255616220627,
          4858.980574434387,
          4868.5699575681765,
          4878.025381457602,
          4887.348451525999,
          4896.540762532755,
          4905.603898336056,
          4914.539431669624,
          4923.348923933017,
          4932.033924995067,
          4940.595973010031,
          4949.036594246079,
          4957.357302925686,
          4965.559601077565,
          4973.644978399756,
          4981.614912133491,
          4989.470866947485,
          4997.214294832289,
          5004.846635004363,
          5012.369313819531,
          5019.783744695487,
          5027.09132804303,
          5034.293451205716,
          5041.391488407616,
          5048.386800708889,
          5055.280735968874,
          5062.074628816419,
          5068.76980062717,
          5075.367559507554,
          5081.869200285191,
          5088.276004505488,
          5094.589240434157,
          5100.810163065421,
          5106.940014135684,
          5112.980022142418,
          5118.931402368065,
          5124.795356908726,
          5130.573074707434,
          5136.265731591816
         ]
        }
       ],
       "layout": {
        "legend": {
         "bgcolor": "rgba(0,0,0,0)",
         "font": {
          "family": "sans-serif",
          "size": 14
         },
         "traceorder": "normal",
         "x": 0.1,
         "y": 0.95
        },
        "showlegend": true,
        "template": {
         "data": {
          "bar": [
           {
            "error_x": {
             "color": "#2a3f5f"
            },
            "error_y": {
             "color": "#2a3f5f"
            },
            "marker": {
             "line": {
              "color": "#E5ECF6",
              "width": 0.5
             }
            },
            "type": "bar"
           }
          ],
          "barpolar": [
           {
            "marker": {
             "line": {
              "color": "#E5ECF6",
              "width": 0.5
             }
            },
            "type": "barpolar"
           }
          ],
          "carpet": [
           {
            "aaxis": {
             "endlinecolor": "#2a3f5f",
             "gridcolor": "white",
             "linecolor": "white",
             "minorgridcolor": "white",
             "startlinecolor": "#2a3f5f"
            },
            "baxis": {
             "endlinecolor": "#2a3f5f",
             "gridcolor": "white",
             "linecolor": "white",
             "minorgridcolor": "white",
             "startlinecolor": "#2a3f5f"
            },
            "type": "carpet"
           }
          ],
          "choropleth": [
           {
            "colorbar": {
             "outlinewidth": 0,
             "ticks": ""
            },
            "type": "choropleth"
           }
          ],
          "contour": [
           {
            "colorbar": {
             "outlinewidth": 0,
             "ticks": ""
            },
            "colorscale": [
             [
              0,
              "#0d0887"
             ],
             [
              0.1111111111111111,
              "#46039f"
             ],
             [
              0.2222222222222222,
              "#7201a8"
             ],
             [
              0.3333333333333333,
              "#9c179e"
             ],
             [
              0.4444444444444444,
              "#bd3786"
             ],
             [
              0.5555555555555556,
              "#d8576b"
             ],
             [
              0.6666666666666666,
              "#ed7953"
             ],
             [
              0.7777777777777778,
              "#fb9f3a"
             ],
             [
              0.8888888888888888,
              "#fdca26"
             ],
             [
              1,
              "#f0f921"
             ]
            ],
            "type": "contour"
           }
          ],
          "contourcarpet": [
           {
            "colorbar": {
             "outlinewidth": 0,
             "ticks": ""
            },
            "type": "contourcarpet"
           }
          ],
          "heatmap": [
           {
            "colorbar": {
             "outlinewidth": 0,
             "ticks": ""
            },
            "colorscale": [
             [
              0,
              "#0d0887"
             ],
             [
              0.1111111111111111,
              "#46039f"
             ],
             [
              0.2222222222222222,
              "#7201a8"
             ],
             [
              0.3333333333333333,
              "#9c179e"
             ],
             [
              0.4444444444444444,
              "#bd3786"
             ],
             [
              0.5555555555555556,
              "#d8576b"
             ],
             [
              0.6666666666666666,
              "#ed7953"
             ],
             [
              0.7777777777777778,
              "#fb9f3a"
             ],
             [
              0.8888888888888888,
              "#fdca26"
             ],
             [
              1,
              "#f0f921"
             ]
            ],
            "type": "heatmap"
           }
          ],
          "heatmapgl": [
           {
            "colorbar": {
             "outlinewidth": 0,
             "ticks": ""
            },
            "colorscale": [
             [
              0,
              "#0d0887"
             ],
             [
              0.1111111111111111,
              "#46039f"
             ],
             [
              0.2222222222222222,
              "#7201a8"
             ],
             [
              0.3333333333333333,
              "#9c179e"
             ],
             [
              0.4444444444444444,
              "#bd3786"
             ],
             [
              0.5555555555555556,
              "#d8576b"
             ],
             [
              0.6666666666666666,
              "#ed7953"
             ],
             [
              0.7777777777777778,
              "#fb9f3a"
             ],
             [
              0.8888888888888888,
              "#fdca26"
             ],
             [
              1,
              "#f0f921"
             ]
            ],
            "type": "heatmapgl"
           }
          ],
          "histogram": [
           {
            "marker": {
             "colorbar": {
              "outlinewidth": 0,
              "ticks": ""
             }
            },
            "type": "histogram"
           }
          ],
          "histogram2d": [
           {
            "colorbar": {
             "outlinewidth": 0,
             "ticks": ""
            },
            "colorscale": [
             [
              0,
              "#0d0887"
             ],
             [
              0.1111111111111111,
              "#46039f"
             ],
             [
              0.2222222222222222,
              "#7201a8"
             ],
             [
              0.3333333333333333,
              "#9c179e"
             ],
             [
              0.4444444444444444,
              "#bd3786"
             ],
             [
              0.5555555555555556,
              "#d8576b"
             ],
             [
              0.6666666666666666,
              "#ed7953"
             ],
             [
              0.7777777777777778,
              "#fb9f3a"
             ],
             [
              0.8888888888888888,
              "#fdca26"
             ],
             [
              1,
              "#f0f921"
             ]
            ],
            "type": "histogram2d"
           }
          ],
          "histogram2dcontour": [
           {
            "colorbar": {
             "outlinewidth": 0,
             "ticks": ""
            },
            "colorscale": [
             [
              0,
              "#0d0887"
             ],
             [
              0.1111111111111111,
              "#46039f"
             ],
             [
              0.2222222222222222,
              "#7201a8"
             ],
             [
              0.3333333333333333,
              "#9c179e"
             ],
             [
              0.4444444444444444,
              "#bd3786"
             ],
             [
              0.5555555555555556,
              "#d8576b"
             ],
             [
              0.6666666666666666,
              "#ed7953"
             ],
             [
              0.7777777777777778,
              "#fb9f3a"
             ],
             [
              0.8888888888888888,
              "#fdca26"
             ],
             [
              1,
              "#f0f921"
             ]
            ],
            "type": "histogram2dcontour"
           }
          ],
          "mesh3d": [
           {
            "colorbar": {
             "outlinewidth": 0,
             "ticks": ""
            },
            "type": "mesh3d"
           }
          ],
          "parcoords": [
           {
            "line": {
             "colorbar": {
              "outlinewidth": 0,
              "ticks": ""
             }
            },
            "type": "parcoords"
           }
          ],
          "pie": [
           {
            "automargin": true,
            "type": "pie"
           }
          ],
          "scatter": [
           {
            "marker": {
             "colorbar": {
              "outlinewidth": 0,
              "ticks": ""
             }
            },
            "type": "scatter"
           }
          ],
          "scatter3d": [
           {
            "line": {
             "colorbar": {
              "outlinewidth": 0,
              "ticks": ""
             }
            },
            "marker": {
             "colorbar": {
              "outlinewidth": 0,
              "ticks": ""
             }
            },
            "type": "scatter3d"
           }
          ],
          "scattercarpet": [
           {
            "marker": {
             "colorbar": {
              "outlinewidth": 0,
              "ticks": ""
             }
            },
            "type": "scattercarpet"
           }
          ],
          "scattergeo": [
           {
            "marker": {
             "colorbar": {
              "outlinewidth": 0,
              "ticks": ""
             }
            },
            "type": "scattergeo"
           }
          ],
          "scattergl": [
           {
            "marker": {
             "colorbar": {
              "outlinewidth": 0,
              "ticks": ""
             }
            },
            "type": "scattergl"
           }
          ],
          "scattermapbox": [
           {
            "marker": {
             "colorbar": {
              "outlinewidth": 0,
              "ticks": ""
             }
            },
            "type": "scattermapbox"
           }
          ],
          "scatterpolar": [
           {
            "marker": {
             "colorbar": {
              "outlinewidth": 0,
              "ticks": ""
             }
            },
            "type": "scatterpolar"
           }
          ],
          "scatterpolargl": [
           {
            "marker": {
             "colorbar": {
              "outlinewidth": 0,
              "ticks": ""
             }
            },
            "type": "scatterpolargl"
           }
          ],
          "scatterternary": [
           {
            "marker": {
             "colorbar": {
              "outlinewidth": 0,
              "ticks": ""
             }
            },
            "type": "scatterternary"
           }
          ],
          "surface": [
           {
            "colorbar": {
             "outlinewidth": 0,
             "ticks": ""
            },
            "colorscale": [
             [
              0,
              "#0d0887"
             ],
             [
              0.1111111111111111,
              "#46039f"
             ],
             [
              0.2222222222222222,
              "#7201a8"
             ],
             [
              0.3333333333333333,
              "#9c179e"
             ],
             [
              0.4444444444444444,
              "#bd3786"
             ],
             [
              0.5555555555555556,
              "#d8576b"
             ],
             [
              0.6666666666666666,
              "#ed7953"
             ],
             [
              0.7777777777777778,
              "#fb9f3a"
             ],
             [
              0.8888888888888888,
              "#fdca26"
             ],
             [
              1,
              "#f0f921"
             ]
            ],
            "type": "surface"
           }
          ],
          "table": [
           {
            "cells": {
             "fill": {
              "color": "#EBF0F8"
             },
             "line": {
              "color": "white"
             }
            },
            "header": {
             "fill": {
              "color": "#C8D4E3"
             },
             "line": {
              "color": "white"
             }
            },
            "type": "table"
           }
          ]
         },
         "layout": {
          "annotationdefaults": {
           "arrowcolor": "#2a3f5f",
           "arrowhead": 0,
           "arrowwidth": 1
          },
          "coloraxis": {
           "colorbar": {
            "outlinewidth": 0,
            "ticks": ""
           }
          },
          "colorscale": {
           "diverging": [
            [
             0,
             "#8e0152"
            ],
            [
             0.1,
             "#c51b7d"
            ],
            [
             0.2,
             "#de77ae"
            ],
            [
             0.3,
             "#f1b6da"
            ],
            [
             0.4,
             "#fde0ef"
            ],
            [
             0.5,
             "#f7f7f7"
            ],
            [
             0.6,
             "#e6f5d0"
            ],
            [
             0.7,
             "#b8e186"
            ],
            [
             0.8,
             "#7fbc41"
            ],
            [
             0.9,
             "#4d9221"
            ],
            [
             1,
             "#276419"
            ]
           ],
           "sequential": [
            [
             0,
             "#0d0887"
            ],
            [
             0.1111111111111111,
             "#46039f"
            ],
            [
             0.2222222222222222,
             "#7201a8"
            ],
            [
             0.3333333333333333,
             "#9c179e"
            ],
            [
             0.4444444444444444,
             "#bd3786"
            ],
            [
             0.5555555555555556,
             "#d8576b"
            ],
            [
             0.6666666666666666,
             "#ed7953"
            ],
            [
             0.7777777777777778,
             "#fb9f3a"
            ],
            [
             0.8888888888888888,
             "#fdca26"
            ],
            [
             1,
             "#f0f921"
            ]
           ],
           "sequentialminus": [
            [
             0,
             "#0d0887"
            ],
            [
             0.1111111111111111,
             "#46039f"
            ],
            [
             0.2222222222222222,
             "#7201a8"
            ],
            [
             0.3333333333333333,
             "#9c179e"
            ],
            [
             0.4444444444444444,
             "#bd3786"
            ],
            [
             0.5555555555555556,
             "#d8576b"
            ],
            [
             0.6666666666666666,
             "#ed7953"
            ],
            [
             0.7777777777777778,
             "#fb9f3a"
            ],
            [
             0.8888888888888888,
             "#fdca26"
            ],
            [
             1,
             "#f0f921"
            ]
           ]
          },
          "colorway": [
           "#636efa",
           "#EF553B",
           "#00cc96",
           "#ab63fa",
           "#FFA15A",
           "#19d3f3",
           "#FF6692",
           "#B6E880",
           "#FF97FF",
           "#FECB52"
          ],
          "font": {
           "color": "#2a3f5f"
          },
          "geo": {
           "bgcolor": "white",
           "lakecolor": "white",
           "landcolor": "#E5ECF6",
           "showlakes": true,
           "showland": true,
           "subunitcolor": "white"
          },
          "hoverlabel": {
           "align": "left"
          },
          "hovermode": "closest",
          "mapbox": {
           "style": "light"
          },
          "paper_bgcolor": "white",
          "plot_bgcolor": "#E5ECF6",
          "polar": {
           "angularaxis": {
            "gridcolor": "white",
            "linecolor": "white",
            "ticks": ""
           },
           "bgcolor": "#E5ECF6",
           "radialaxis": {
            "gridcolor": "white",
            "linecolor": "white",
            "ticks": ""
           }
          },
          "scene": {
           "xaxis": {
            "backgroundcolor": "#E5ECF6",
            "gridcolor": "white",
            "gridwidth": 2,
            "linecolor": "white",
            "showbackground": true,
            "ticks": "",
            "zerolinecolor": "white"
           },
           "yaxis": {
            "backgroundcolor": "#E5ECF6",
            "gridcolor": "white",
            "gridwidth": 2,
            "linecolor": "white",
            "showbackground": true,
            "ticks": "",
            "zerolinecolor": "white"
           },
           "zaxis": {
            "backgroundcolor": "#E5ECF6",
            "gridcolor": "white",
            "gridwidth": 2,
            "linecolor": "white",
            "showbackground": true,
            "ticks": "",
            "zerolinecolor": "white"
           }
          },
          "shapedefaults": {
           "line": {
            "color": "#2a3f5f"
           }
          },
          "ternary": {
           "aaxis": {
            "gridcolor": "white",
            "linecolor": "white",
            "ticks": ""
           },
           "baxis": {
            "gridcolor": "white",
            "linecolor": "white",
            "ticks": ""
           },
           "bgcolor": "#E5ECF6",
           "caxis": {
            "gridcolor": "white",
            "linecolor": "white",
            "ticks": ""
           }
          },
          "title": {
           "x": 0.05
          },
          "xaxis": {
           "automargin": true,
           "gridcolor": "white",
           "linecolor": "white",
           "ticks": "",
           "title": {
            "standoff": 15
           },
           "zerolinecolor": "white",
           "zerolinewidth": 2
          },
          "yaxis": {
           "automargin": true,
           "gridcolor": "white",
           "linecolor": "white",
           "ticks": "",
           "title": {
            "standoff": 15
           },
           "zerolinecolor": "white",
           "zerolinewidth": 2
          }
         }
        },
        "title": {
         "text": "Model/Data Jalisco - deaths",
         "x": 0.5
        },
        "yaxis": {
         "type": "linear"
        }
       }
      },
      "text/html": [
       "<div>\n",
       "        \n",
       "        \n",
       "            <div id=\"921f6070-79f2-46b1-9f73-789ac26c1ec4\" class=\"plotly-graph-div\" style=\"height:525px; width:100%;\"></div>\n",
       "            <script type=\"text/javascript\">\n",
       "                require([\"plotly\"], function(Plotly) {\n",
       "                    window.PLOTLYENV=window.PLOTLYENV || {};\n",
       "                    \n",
       "                if (document.getElementById(\"921f6070-79f2-46b1-9f73-789ac26c1ec4\")) {\n",
       "                    Plotly.newPlot(\n",
       "                        '921f6070-79f2-46b1-9f73-789ac26c1ec4',\n",
       "                        [{\"line\": {\"width\": 2}, \"marker\": {\"size\": 6}, \"mode\": \"lines+markers\", \"name\": \"Deaths Jalisco (Model #5) - as reported\", \"opacity\": 1, \"type\": \"scatter\", \"x\": [\"2020-05-15T00:00:00\", \"2020-05-16T00:00:00\", \"2020-05-17T00:00:00\", \"2020-05-18T00:00:00\", \"2020-05-19T00:00:00\", \"2020-05-20T00:00:00\", \"2020-05-21T00:00:00\", \"2020-05-22T00:00:00\", \"2020-05-23T00:00:00\", \"2020-05-24T00:00:00\", \"2020-05-25T00:00:00\", \"2020-05-26T00:00:00\", \"2020-05-27T00:00:00\", \"2020-05-28T00:00:00\", \"2020-05-29T00:00:00\", \"2020-05-30T00:00:00\", \"2020-05-31T00:00:00\", \"2020-06-01T00:00:00\", \"2020-06-02T00:00:00\", \"2020-06-03T00:00:00\", \"2020-06-04T00:00:00\", \"2020-06-05T00:00:00\", \"2020-06-06T00:00:00\", \"2020-06-07T00:00:00\", \"2020-06-08T00:00:00\", \"2020-06-09T00:00:00\", \"2020-06-10T00:00:00\", \"2020-06-11T00:00:00\", \"2020-06-12T00:00:00\", \"2020-06-13T00:00:00\", \"2020-06-14T00:00:00\", \"2020-06-15T00:00:00\", \"2020-06-16T00:00:00\", \"2020-06-17T00:00:00\", \"2020-06-18T00:00:00\", \"2020-06-19T00:00:00\", \"2020-06-20T00:00:00\", \"2020-06-21T00:00:00\", \"2020-06-22T00:00:00\", \"2020-06-23T00:00:00\", \"2020-06-24T00:00:00\", \"2020-06-25T00:00:00\", \"2020-06-26T00:00:00\", \"2020-06-27T00:00:00\", \"2020-06-28T00:00:00\", \"2020-06-29T00:00:00\", \"2020-06-30T00:00:00\", \"2020-07-01T00:00:00\", \"2020-07-02T00:00:00\", \"2020-07-03T00:00:00\", \"2020-07-04T00:00:00\", \"2020-07-05T00:00:00\", \"2020-07-06T00:00:00\", \"2020-07-07T00:00:00\", \"2020-07-08T00:00:00\", \"2020-07-09T00:00:00\", \"2020-07-10T00:00:00\", \"2020-07-11T00:00:00\", \"2020-07-12T00:00:00\", \"2020-07-13T00:00:00\", \"2020-07-14T00:00:00\", \"2020-07-15T00:00:00\", \"2020-07-16T00:00:00\", \"2020-07-17T00:00:00\", \"2020-07-18T00:00:00\", \"2020-07-19T00:00:00\", \"2020-07-20T00:00:00\", \"2020-07-21T00:00:00\", \"2020-07-22T00:00:00\", \"2020-07-23T00:00:00\", \"2020-07-24T00:00:00\", \"2020-07-25T00:00:00\", \"2020-07-26T00:00:00\", \"2020-07-27T00:00:00\", \"2020-07-28T00:00:00\", \"2020-07-29T00:00:00\", \"2020-07-30T00:00:00\", \"2020-07-31T00:00:00\", \"2020-08-01T00:00:00\", \"2020-08-02T00:00:00\", \"2020-08-03T00:00:00\", \"2020-08-04T00:00:00\", \"2020-08-05T00:00:00\", \"2020-08-06T00:00:00\", \"2020-08-07T00:00:00\", \"2020-08-08T00:00:00\", \"2020-08-09T00:00:00\", \"2020-08-10T00:00:00\", \"2020-08-11T00:00:00\", \"2020-08-12T00:00:00\", \"2020-08-13T00:00:00\", \"2020-08-14T00:00:00\", \"2020-08-15T00:00:00\", \"2020-08-16T00:00:00\", \"2020-08-17T00:00:00\", \"2020-08-18T00:00:00\", \"2020-08-19T00:00:00\", \"2020-08-20T00:00:00\", \"2020-08-21T00:00:00\", \"2020-08-22T00:00:00\", \"2020-08-23T00:00:00\", \"2020-08-24T00:00:00\", \"2020-08-25T00:00:00\", \"2020-08-26T00:00:00\", \"2020-08-27T00:00:00\", \"2020-08-28T00:00:00\", \"2020-08-29T00:00:00\", \"2020-08-30T00:00:00\", \"2020-08-31T00:00:00\", \"2020-09-01T00:00:00\", \"2020-09-02T00:00:00\", \"2020-09-03T00:00:00\", \"2020-09-04T00:00:00\", \"2020-09-05T00:00:00\", \"2020-09-06T00:00:00\", \"2020-09-07T00:00:00\", \"2020-09-08T00:00:00\", \"2020-09-09T00:00:00\", \"2020-09-10T00:00:00\", \"2020-09-11T00:00:00\", \"2020-09-12T00:00:00\", \"2020-09-13T00:00:00\", \"2020-09-14T00:00:00\", \"2020-09-15T00:00:00\", \"2020-09-16T00:00:00\", \"2020-09-17T00:00:00\", \"2020-09-18T00:00:00\", \"2020-09-19T00:00:00\", \"2020-09-20T00:00:00\", \"2020-09-21T00:00:00\", \"2020-09-22T00:00:00\", \"2020-09-23T00:00:00\", \"2020-09-24T00:00:00\", \"2020-09-25T00:00:00\", \"2020-09-26T00:00:00\", \"2020-09-27T00:00:00\", \"2020-09-28T00:00:00\", \"2020-09-29T00:00:00\", \"2020-09-30T00:00:00\", \"2020-10-01T00:00:00\", \"2020-10-02T00:00:00\", \"2020-10-03T00:00:00\", \"2020-10-04T00:00:00\", \"2020-10-05T00:00:00\", \"2020-10-06T00:00:00\", \"2020-10-07T00:00:00\", \"2020-10-08T00:00:00\", \"2020-10-09T00:00:00\", \"2020-10-10T00:00:00\", \"2020-10-11T00:00:00\", \"2020-10-12T00:00:00\", \"2020-10-13T00:00:00\", \"2020-10-14T00:00:00\", \"2020-10-15T00:00:00\", \"2020-10-16T00:00:00\", \"2020-10-17T00:00:00\", \"2020-10-18T00:00:00\", \"2020-10-19T00:00:00\", \"2020-10-20T00:00:00\", \"2020-10-21T00:00:00\", \"2020-10-22T00:00:00\", \"2020-10-23T00:00:00\", \"2020-10-24T00:00:00\", \"2020-10-25T00:00:00\", \"2020-10-26T00:00:00\", \"2020-10-27T00:00:00\", \"2020-10-28T00:00:00\", \"2020-10-29T00:00:00\", \"2020-10-30T00:00:00\", \"2020-10-31T00:00:00\", \"2020-11-01T00:00:00\", \"2020-11-02T00:00:00\", \"2020-11-03T00:00:00\", \"2020-11-04T00:00:00\", \"2020-11-05T00:00:00\", \"2020-11-06T00:00:00\", \"2020-11-07T00:00:00\", \"2020-11-08T00:00:00\", \"2020-11-09T00:00:00\", \"2020-11-10T00:00:00\", \"2020-11-11T00:00:00\", \"2020-11-12T00:00:00\", \"2020-11-13T00:00:00\", \"2020-11-14T00:00:00\", \"2020-11-15T00:00:00\", \"2020-11-16T00:00:00\", \"2020-11-17T00:00:00\", \"2020-11-18T00:00:00\", \"2020-11-19T00:00:00\", \"2020-11-20T00:00:00\", \"2020-11-21T00:00:00\", \"2020-11-22T00:00:00\", \"2020-11-23T00:00:00\", \"2020-11-24T00:00:00\", \"2020-11-25T00:00:00\", \"2020-11-26T00:00:00\", \"2020-11-27T00:00:00\", \"2020-11-28T00:00:00\", \"2020-11-29T00:00:00\", \"2020-11-30T00:00:00\", \"2020-12-01T00:00:00\", \"2020-12-02T00:00:00\", \"2020-12-03T00:00:00\", \"2020-12-04T00:00:00\", \"2020-12-05T00:00:00\", \"2020-12-06T00:00:00\", \"2020-12-07T00:00:00\", \"2020-12-08T00:00:00\", \"2020-12-09T00:00:00\", \"2020-12-10T00:00:00\", \"2020-12-11T00:00:00\", \"2020-12-12T00:00:00\", \"2020-12-13T00:00:00\", \"2020-12-14T00:00:00\", \"2020-12-15T00:00:00\", \"2020-12-16T00:00:00\", \"2020-12-17T00:00:00\", \"2020-12-18T00:00:00\", \"2020-12-19T00:00:00\", \"2020-12-20T00:00:00\", \"2020-12-21T00:00:00\", \"2020-12-22T00:00:00\", \"2020-12-23T00:00:00\", \"2020-12-24T00:00:00\", \"2020-12-25T00:00:00\", \"2020-12-26T00:00:00\", \"2020-12-27T00:00:00\", \"2020-12-28T00:00:00\", \"2020-12-29T00:00:00\", \"2020-12-30T00:00:00\", \"2020-12-31T00:00:00\", \"2021-01-01T00:00:00\", \"2021-01-02T00:00:00\", \"2021-01-03T00:00:00\", \"2021-01-04T00:00:00\", \"2021-01-05T00:00:00\", \"2021-01-06T00:00:00\", \"2021-01-07T00:00:00\", \"2021-01-08T00:00:00\", \"2021-01-09T00:00:00\", \"2021-01-10T00:00:00\", \"2021-01-11T00:00:00\", \"2021-01-12T00:00:00\", \"2021-01-13T00:00:00\", \"2021-01-14T00:00:00\", \"2021-01-15T00:00:00\", \"2021-01-16T00:00:00\", \"2021-01-17T00:00:00\", \"2021-01-18T00:00:00\", \"2021-01-19T00:00:00\"], \"y\": [70.0, 70.0, 70.72317142857143, 72.14050507997773, 74.22719332864344, 76.96216587293907, 80.3276670432986, 84.3088706766788, 88.89352898447436, 94.07165222203864, 99.83521630918395, 106.17789585630449, 113.09482032356598, 120.58235128410394, 128.63787897923254, 137.25963654689048, 146.4465304762993, 156.19798599422785, 166.51380622329168, 177.39404407213803, 188.83888592278433, 200.84854627325444, 213.42317257531954, 226.56275957881059, 240.26707255672113, 254.5355788401626, 269.36738714007197, 284.7611941742236, 300.71523815430817, 317.22725871928077, 334.29446292845637, 351.9134969514906, 370.08042311291814, 388.7907019667736, 408.03917909238316, 427.82007631604506, 448.126987075325, 468.95287565335605, 490.2900800200975, 512.1303180261878, 534.4646967030084, 557.2837244300231, 580.5773257375043, 604.3348585195301, 628.5451334387227, 653.1964353106913, 678.276546262601, 703.7727704667655, 729.6719602567055, 755.9605434397415, 782.6245516269307, 809.6496494080201, 837.0211642060733, 864.724116653539, 892.7432513387544, 921.0630677792045, 949.6678514852757, 978.5417049857231, 1007.668578693608, 1037.0323014990151, 1066.6166109824198, 1096.4051831501092, 1126.3816616005493, 1156.5296860380063, 1186.832920057047, 1217.275078128743, 1247.8399517264622, 1278.5114345360275, 1309.2735467017333, 1340.1104580662268, 1371.006510368561, 1401.9462383707876, 1432.9143898892905, 1463.8959447126258, 1494.8761323929407, 1525.840448903084, 1556.7746721562746, 1587.6648763896776, 1618.4974454174308, 1649.2590847625775, 1679.9368326809888, 1710.5180700937076, 1740.990529447212, 1771.342302523897, 1801.561847227592, 1831.6379933712085, 1861.5599474956114, 1891.3172967505795, 1920.9000118702484, 1950.2984492767234, 1979.5033523466373, 2008.5058518762944, 2037.2974657817258, 2065.8700980704607, 2094.2160371221426, 2122.3279533152568, 2150.198896037241, 2177.8222901150934, 2205.1919317033207, 2232.301983665662, 2259.1469704865167, 2285.7217727473812, 2312.021621202917, 2338.0420904904604, 2363.7790925059508, 2389.2288694783183, 2414.387986773407, 2439.2533254574832, 2463.8220746493184, 2488.0917236887485, 2512.0600541484882, 2535.7251317148493, 2559.0852979618603, 2582.1391620421323, 2604.8855923166607, 2627.3237079445926, 2649.452870452854, 2671.2726753043835, 2692.7829434826126, 2713.983713108719, 2734.875231107104, 2755.4579449334924, 2775.7324943790104, 2795.6997034626033, 2815.360572423176, 2834.7162698219004, 2853.768124764214, 2872.517619250167, 2890.966380660922, 2909.1161743884018, 2926.968896614314, 2944.5265672440214, 2961.791323000043, 2978.765410679281, 2995.451180577441, 3011.851080083507, 3027.967647446563, 3043.8035057167144, 3059.361356861355, 3074.643976057562, 3089.654206160945, 3104.394952350865, 3118.869176951571, 3133.079894428412, 3147.0301665579905, 3160.723097770787, 3174.16183066453, 3187.34954168632, 3200.2894369812802, 3212.9847484053084, 3225.4387296993073, 3237.6546528221015, 3249.6358044391, 3261.3854825636326, 3272.9069933477685, 3284.203648019331, 3295.278759961731, 3306.135641933177, 3316.777603421761, 3327.207948132871, 3337.4299716053533, 3347.4469589528194, 3357.2621827264875, 3366.878900895936, 3376.3003549441637, 3385.5297680733484, 3394.5703435177397, 3403.4252629601237, 3412.0976850483526, 3420.590744008456, 3428.907548350905, 3437.0511796666433, 3445.0246915095563, 3452.8311083621006, 3460.4734246808803, 3467.954604019018, 3475.277578222232, 3482.445246695598, 3489.460475738043, 3496.326097941691, 3503.0449116532454, 3509.619680494675, 3516.053132940527, 3522.347961949287, 3528.5068246462515, 3534.5323420554805, 3540.427098878443, 3546.1936433170636, 3551.8344869389416, 3557.352104582578, 3562.748934300532, 3568.0273773384906, 3573.1897981483007, 3578.2385244330885, 3583.175847222654, 3588.004020977396, 3592.7252637190845, 3597.341757186865, 3601.855647016938, 3606.2690429444183, 3610.584019025942, 3614.8026138816344, 3618.926830955129, 3622.9586387903596, 3626.8999713239195, 3630.7527281918224, 3634.5187750495547, 3638.1999439043584, 3641.7980334587264, 3645.3148094641447, 3648.7520050841563, 3652.111321265866, 3655.3944271190458, 3658.6029603020415, 3661.7385274137246, 3664.8027043907614, 3667.797036909518, 3670.7230407919456, 3673.582202414836, 3676.375979121853, 3679.1057996377926, 3681.7730644845487, 3684.379146398285, 3686.92539074735, 3689.413115950496, 3691.8436138949814, 3694.2181503541747, 3696.5379654042854, 3698.8042738398854, 3701.0182655878916, 3703.1811061197154, 3705.2939368612897, 3707.3578756007155, 3709.3740168932823, 3711.3434324636332, 3713.2671716048644, 3715.146261574365, 3716.981707986213, 3718.7744951999666, 3720.525586705692, 3722.235925505094, 3723.9064344886183, 3725.53801680841, 3727.131556247026, 3728.687917581806, 3730.2079469448167, 3731.692472178299, 3733.142303185545, 3734.5582322771593, 3735.9410345126416]}, {\"line\": {\"width\": 2}, \"marker\": {\"size\": 6}, \"mode\": \"lines+markers\", \"name\": \"Deaths Jalisco (Model #5) - as occurred\", \"opacity\": 1, \"type\": \"scatter\", \"x\": [\"2020-05-15T00:00:00\", \"2020-05-16T00:00:00\", \"2020-05-17T00:00:00\", \"2020-05-18T00:00:00\", \"2020-05-19T00:00:00\", \"2020-05-20T00:00:00\", \"2020-05-21T00:00:00\", \"2020-05-22T00:00:00\", \"2020-05-23T00:00:00\", \"2020-05-24T00:00:00\", \"2020-05-25T00:00:00\", \"2020-05-26T00:00:00\", \"2020-05-27T00:00:00\", \"2020-05-28T00:00:00\", \"2020-05-29T00:00:00\", \"2020-05-30T00:00:00\", \"2020-05-31T00:00:00\", \"2020-06-01T00:00:00\", \"2020-06-02T00:00:00\", \"2020-06-03T00:00:00\", \"2020-06-04T00:00:00\", \"2020-06-05T00:00:00\", \"2020-06-06T00:00:00\", \"2020-06-07T00:00:00\", \"2020-06-08T00:00:00\", \"2020-06-09T00:00:00\", \"2020-06-10T00:00:00\", \"2020-06-11T00:00:00\", \"2020-06-12T00:00:00\", \"2020-06-13T00:00:00\", \"2020-06-14T00:00:00\", \"2020-06-15T00:00:00\", \"2020-06-16T00:00:00\", \"2020-06-17T00:00:00\", \"2020-06-18T00:00:00\", \"2020-06-19T00:00:00\", \"2020-06-20T00:00:00\", \"2020-06-21T00:00:00\", \"2020-06-22T00:00:00\", \"2020-06-23T00:00:00\", \"2020-06-24T00:00:00\", \"2020-06-25T00:00:00\", \"2020-06-26T00:00:00\", \"2020-06-27T00:00:00\", \"2020-06-28T00:00:00\", \"2020-06-29T00:00:00\", \"2020-06-30T00:00:00\", \"2020-07-01T00:00:00\", \"2020-07-02T00:00:00\", \"2020-07-03T00:00:00\", \"2020-07-04T00:00:00\", \"2020-07-05T00:00:00\", \"2020-07-06T00:00:00\", \"2020-07-07T00:00:00\", \"2020-07-08T00:00:00\", \"2020-07-09T00:00:00\", \"2020-07-10T00:00:00\", \"2020-07-11T00:00:00\", \"2020-07-12T00:00:00\", \"2020-07-13T00:00:00\", \"2020-07-14T00:00:00\", \"2020-07-15T00:00:00\", \"2020-07-16T00:00:00\", \"2020-07-17T00:00:00\", \"2020-07-18T00:00:00\", \"2020-07-19T00:00:00\", \"2020-07-20T00:00:00\", \"2020-07-21T00:00:00\", \"2020-07-22T00:00:00\", \"2020-07-23T00:00:00\", \"2020-07-24T00:00:00\", \"2020-07-25T00:00:00\", \"2020-07-26T00:00:00\", \"2020-07-27T00:00:00\", \"2020-07-28T00:00:00\", \"2020-07-29T00:00:00\", \"2020-07-30T00:00:00\", \"2020-07-31T00:00:00\", \"2020-08-01T00:00:00\", \"2020-08-02T00:00:00\", \"2020-08-03T00:00:00\", \"2020-08-04T00:00:00\", \"2020-08-05T00:00:00\", \"2020-08-06T00:00:00\", \"2020-08-07T00:00:00\", \"2020-08-08T00:00:00\", \"2020-08-09T00:00:00\", \"2020-08-10T00:00:00\", \"2020-08-11T00:00:00\", \"2020-08-12T00:00:00\", \"2020-08-13T00:00:00\", \"2020-08-14T00:00:00\", \"2020-08-15T00:00:00\", \"2020-08-16T00:00:00\", \"2020-08-17T00:00:00\", \"2020-08-18T00:00:00\", \"2020-08-19T00:00:00\", \"2020-08-20T00:00:00\", \"2020-08-21T00:00:00\", \"2020-08-22T00:00:00\", \"2020-08-23T00:00:00\", \"2020-08-24T00:00:00\", \"2020-08-25T00:00:00\", \"2020-08-26T00:00:00\", \"2020-08-27T00:00:00\", \"2020-08-28T00:00:00\", \"2020-08-29T00:00:00\", \"2020-08-30T00:00:00\", \"2020-08-31T00:00:00\", \"2020-09-01T00:00:00\", \"2020-09-02T00:00:00\", \"2020-09-03T00:00:00\", \"2020-09-04T00:00:00\", \"2020-09-05T00:00:00\", \"2020-09-06T00:00:00\", \"2020-09-07T00:00:00\", \"2020-09-08T00:00:00\", \"2020-09-09T00:00:00\", \"2020-09-10T00:00:00\", \"2020-09-11T00:00:00\", \"2020-09-12T00:00:00\", \"2020-09-13T00:00:00\", \"2020-09-14T00:00:00\", \"2020-09-15T00:00:00\", \"2020-09-16T00:00:00\", \"2020-09-17T00:00:00\", \"2020-09-18T00:00:00\", \"2020-09-19T00:00:00\", \"2020-09-20T00:00:00\", \"2020-09-21T00:00:00\", \"2020-09-22T00:00:00\", \"2020-09-23T00:00:00\", \"2020-09-24T00:00:00\", \"2020-09-25T00:00:00\", \"2020-09-26T00:00:00\", \"2020-09-27T00:00:00\", \"2020-09-28T00:00:00\", \"2020-09-29T00:00:00\", \"2020-09-30T00:00:00\", \"2020-10-01T00:00:00\", \"2020-10-02T00:00:00\", \"2020-10-03T00:00:00\", \"2020-10-04T00:00:00\", \"2020-10-05T00:00:00\", \"2020-10-06T00:00:00\", \"2020-10-07T00:00:00\", \"2020-10-08T00:00:00\", \"2020-10-09T00:00:00\", \"2020-10-10T00:00:00\", \"2020-10-11T00:00:00\", \"2020-10-12T00:00:00\", \"2020-10-13T00:00:00\", \"2020-10-14T00:00:00\", \"2020-10-15T00:00:00\", \"2020-10-16T00:00:00\", \"2020-10-17T00:00:00\", \"2020-10-18T00:00:00\", \"2020-10-19T00:00:00\", \"2020-10-20T00:00:00\", \"2020-10-21T00:00:00\", \"2020-10-22T00:00:00\", \"2020-10-23T00:00:00\", \"2020-10-24T00:00:00\", \"2020-10-25T00:00:00\", \"2020-10-26T00:00:00\", \"2020-10-27T00:00:00\", \"2020-10-28T00:00:00\", \"2020-10-29T00:00:00\", \"2020-10-30T00:00:00\", \"2020-10-31T00:00:00\", \"2020-11-01T00:00:00\", \"2020-11-02T00:00:00\", \"2020-11-03T00:00:00\", \"2020-11-04T00:00:00\", \"2020-11-05T00:00:00\", \"2020-11-06T00:00:00\", \"2020-11-07T00:00:00\", \"2020-11-08T00:00:00\", \"2020-11-09T00:00:00\", \"2020-11-10T00:00:00\", \"2020-11-11T00:00:00\", \"2020-11-12T00:00:00\", \"2020-11-13T00:00:00\", \"2020-11-14T00:00:00\", \"2020-11-15T00:00:00\", \"2020-11-16T00:00:00\", \"2020-11-17T00:00:00\", \"2020-11-18T00:00:00\", \"2020-11-19T00:00:00\", \"2020-11-20T00:00:00\", \"2020-11-21T00:00:00\", \"2020-11-22T00:00:00\", \"2020-11-23T00:00:00\", \"2020-11-24T00:00:00\", \"2020-11-25T00:00:00\", \"2020-11-26T00:00:00\", \"2020-11-27T00:00:00\", \"2020-11-28T00:00:00\", \"2020-11-29T00:00:00\", \"2020-11-30T00:00:00\", \"2020-12-01T00:00:00\", \"2020-12-02T00:00:00\", \"2020-12-03T00:00:00\", \"2020-12-04T00:00:00\", \"2020-12-05T00:00:00\", \"2020-12-06T00:00:00\", \"2020-12-07T00:00:00\", \"2020-12-08T00:00:00\", \"2020-12-09T00:00:00\", \"2020-12-10T00:00:00\", \"2020-12-11T00:00:00\", \"2020-12-12T00:00:00\", \"2020-12-13T00:00:00\", \"2020-12-14T00:00:00\", \"2020-12-15T00:00:00\", \"2020-12-16T00:00:00\", \"2020-12-17T00:00:00\", \"2020-12-18T00:00:00\", \"2020-12-19T00:00:00\", \"2020-12-20T00:00:00\", \"2020-12-21T00:00:00\", \"2020-12-22T00:00:00\", \"2020-12-23T00:00:00\", \"2020-12-24T00:00:00\", \"2020-12-25T00:00:00\", \"2020-12-26T00:00:00\", \"2020-12-27T00:00:00\", \"2020-12-28T00:00:00\", \"2020-12-29T00:00:00\", \"2020-12-30T00:00:00\", \"2020-12-31T00:00:00\", \"2021-01-01T00:00:00\", \"2021-01-02T00:00:00\", \"2021-01-03T00:00:00\", \"2021-01-04T00:00:00\", \"2021-01-05T00:00:00\", \"2021-01-06T00:00:00\", \"2021-01-07T00:00:00\", \"2021-01-08T00:00:00\", \"2021-01-09T00:00:00\", \"2021-01-10T00:00:00\", \"2021-01-11T00:00:00\", \"2021-01-12T00:00:00\", \"2021-01-13T00:00:00\", \"2021-01-14T00:00:00\", \"2021-01-15T00:00:00\", \"2021-01-16T00:00:00\", \"2021-01-17T00:00:00\", \"2021-01-18T00:00:00\", \"2021-01-19T00:00:00\"], \"y\": [81.0, 81.0, 82.23428571428572, 84.62681661943184, 88.1096113510162, 92.62188958767877, 98.10929909562218, 104.52321957063195, 111.82013574824228, 119.96107300229838, 128.911089326313, 138.63881819828197, 149.1160573748496, 160.31739915105445, 172.21989806287627, 184.8027724064269, 198.04713630436683, 211.93575937101247, 226.45285131625855, 241.58386908813316, 257.3153443874657, 273.6347295984174, 290.53026036786986, 307.99083323702496, 326.00589688195, 344.5653556579337, 363.6594842669439, 383.27885247958983, 403.4142589440405, 424.0566732054545, 445.19718514164947, 466.82696109487966, 488.9372060465172, 511.51913124186996, 534.5639267269789, 558.0627383086003, 582.0066484932278, 606.386661001419, 631.1936884902792, 656.4185431501144, 682.0519298713283, 708.0844417049179, 734.5065573646913, 761.308640541839, 788.4809408229593, 816.0135960212614, 843.8966357476398, 872.1199860637713, 900.6734750734968, 929.5468393216245, 958.7297308810596, 988.2117250199224, 1017.9823283501623, 1048.0309873681929, 1078.34709730633, 1108.9200112214, 1139.7390492538302, 1170.793507996922, 1202.0726699218742, 1233.5658128095126, 1265.262219144644, 1297.1511854335108, 1329.2220314090287, 1361.464109092344, 1393.866811682818, 1426.4195822518152, 1459.1119222186917, 1491.9333995901604, 1524.873656946766, 1557.9224191625583, 1591.0695008462162, 1624.3048134938672, 1657.6183723456782, 1691.0003029399688, 1724.440847360145, 1757.930370171155, 1791.4593640434691, 1825.018455063757, 1858.5984077325154, 1892.1901296498793, 1925.7846758917356, 1959.3732530790649, 1992.947223144163, 2026.498106798049, 2060.0175867039507, 2093.4975103622814, 2126.929892712988, 2160.3069184615547, 2193.620944135307, 2226.8644998769737, 2260.0302909827174, 2293.1111991920898, 2326.1002837375327, 2358.990782161207, 2391.7761109070525, 2424.4498656960595, 2457.0058216927982, 2489.437933471283, 2521.740334788262, 2553.907338171997, 2585.933434334583, 2617.813291415791, 2649.541754066348, 2681.113842378501, 2712.524750671589, 2743.769846140255, 2774.8446673727994, 2805.744922747041, 2836.466488710919, 2867.0054079549077, 2897.35788748317, 2927.520296590203, 2957.489164749566, 2987.2611794211057, 3016.833183782922, 3046.202174394125, 3075.3652987942705, 3104.319853045158, 3133.063279220507, 3161.593162848825, 3189.9072303146186, 3218.0033462228807, 3245.8795107316355, 3273.533856857116, 3300.964647755978, 3328.1702739887696, 3355.1492507686994, 3381.9002151995705, 3408.421923506572, 3434.7132482634534, 3460.773175619433, 3486.600802529039, 3512.1953339879074, 3537.556080277415, 3562.6824542208633, 3587.5739684537907, 3612.2302327108264, 3636.6509511313793, 3660.835919586298, 3684.7850230275153, 3708.498232862553, 3731.9756043556426, 3755.217274057095, 3778.223457262423, 3800.9944455026252, 3823.530604066913, 3845.832369559063, 3867.900247488479, 3889.7348098969387, 3911.336693021914, 3932.7065949972625, 3953.8452735919977, 3974.7535439877606, 3995.4322765955426, 4015.882394912125, 4036.104873416635, 4056.1007355075403, 4075.871051480349, 4095.4169365462085, 4114.7395488915445, 4133.840087778815, 4152.719791688419, 4171.379936501724, 4189.821833725151, 4208.046828755193, 4226.056299184215, 4243.851653146833, 4261.434327706632, 4278.805787282957, 4295.967522117472, 4312.921046780145, 4329.667898714301, 4346.209636820354, 4362.54784007779, 4378.684106204988, 4394.6200503563905, 4410.357303856574, 4425.8975129707, 4441.242337710861, 4456.393450677774, 4471.352535937299, 4486.121287931228, 4500.701410421787, 4515.094615469284, 4529.302622442328, 4543.32715706004, 4557.16995046566, 4570.832738330977, 4584.31725999097, 4597.62525760808, 4610.7584753654955, 4623.71865868888, 4636.50755349592, 4649.126905473103, 4661.578459379145, 4673.86395837445, 4685.985143376028, 4697.943752437282, 4709.741520152075, 4721.380177082509, 4732.861449209829, 4744.187057407894, 4755.3587169386565, 4766.378136969075, 4777.247020108932, 4787.967061968997, 4798.539950739009, 4808.967366784947, 4819.250982265058, 4829.392460764144, 4839.393456945588, 4849.255616220627, 4858.980574434387, 4868.5699575681765, 4878.025381457602, 4887.348451525999, 4896.540762532755, 4905.603898336056, 4914.539431669624, 4923.348923933017, 4932.033924995067, 4940.595973010031, 4949.036594246079, 4957.357302925686, 4965.559601077565, 4973.644978399756, 4981.614912133491, 4989.470866947485, 4997.214294832289, 5004.846635004363, 5012.369313819531, 5019.783744695487, 5027.09132804303, 5034.293451205716, 5041.391488407616, 5048.386800708889, 5055.280735968874, 5062.074628816419, 5068.76980062717, 5075.367559507554, 5081.869200285191, 5088.276004505488, 5094.589240434157, 5100.810163065421, 5106.940014135684, 5112.980022142418, 5118.931402368065, 5124.795356908726, 5130.573074707434, 5136.265731591816]}],\n",
       "                        {\"legend\": {\"bgcolor\": \"rgba(0,0,0,0)\", \"font\": {\"family\": \"sans-serif\", \"size\": 14}, \"traceorder\": \"normal\", \"x\": 0.1, \"y\": 0.95}, \"showlegend\": true, \"template\": {\"data\": {\"bar\": [{\"error_x\": {\"color\": \"#2a3f5f\"}, \"error_y\": {\"color\": \"#2a3f5f\"}, \"marker\": {\"line\": {\"color\": \"#E5ECF6\", \"width\": 0.5}}, \"type\": \"bar\"}], \"barpolar\": [{\"marker\": {\"line\": {\"color\": \"#E5ECF6\", \"width\": 0.5}}, \"type\": \"barpolar\"}], \"carpet\": [{\"aaxis\": {\"endlinecolor\": \"#2a3f5f\", \"gridcolor\": \"white\", \"linecolor\": \"white\", \"minorgridcolor\": \"white\", \"startlinecolor\": \"#2a3f5f\"}, \"baxis\": {\"endlinecolor\": \"#2a3f5f\", \"gridcolor\": \"white\", \"linecolor\": \"white\", \"minorgridcolor\": \"white\", \"startlinecolor\": \"#2a3f5f\"}, \"type\": \"carpet\"}], \"choropleth\": [{\"colorbar\": {\"outlinewidth\": 0, \"ticks\": \"\"}, \"type\": \"choropleth\"}], \"contour\": [{\"colorbar\": {\"outlinewidth\": 0, \"ticks\": \"\"}, \"colorscale\": [[0.0, \"#0d0887\"], [0.1111111111111111, \"#46039f\"], [0.2222222222222222, \"#7201a8\"], [0.3333333333333333, \"#9c179e\"], [0.4444444444444444, \"#bd3786\"], [0.5555555555555556, \"#d8576b\"], [0.6666666666666666, \"#ed7953\"], [0.7777777777777778, \"#fb9f3a\"], [0.8888888888888888, \"#fdca26\"], [1.0, \"#f0f921\"]], \"type\": \"contour\"}], \"contourcarpet\": [{\"colorbar\": {\"outlinewidth\": 0, \"ticks\": \"\"}, \"type\": \"contourcarpet\"}], \"heatmap\": [{\"colorbar\": {\"outlinewidth\": 0, \"ticks\": \"\"}, \"colorscale\": [[0.0, \"#0d0887\"], [0.1111111111111111, \"#46039f\"], [0.2222222222222222, \"#7201a8\"], [0.3333333333333333, \"#9c179e\"], [0.4444444444444444, \"#bd3786\"], [0.5555555555555556, \"#d8576b\"], [0.6666666666666666, \"#ed7953\"], [0.7777777777777778, \"#fb9f3a\"], [0.8888888888888888, \"#fdca26\"], [1.0, \"#f0f921\"]], \"type\": \"heatmap\"}], \"heatmapgl\": [{\"colorbar\": {\"outlinewidth\": 0, \"ticks\": \"\"}, \"colorscale\": [[0.0, \"#0d0887\"], [0.1111111111111111, \"#46039f\"], [0.2222222222222222, \"#7201a8\"], [0.3333333333333333, \"#9c179e\"], [0.4444444444444444, \"#bd3786\"], [0.5555555555555556, \"#d8576b\"], [0.6666666666666666, \"#ed7953\"], [0.7777777777777778, \"#fb9f3a\"], [0.8888888888888888, \"#fdca26\"], [1.0, \"#f0f921\"]], \"type\": \"heatmapgl\"}], \"histogram\": [{\"marker\": {\"colorbar\": {\"outlinewidth\": 0, \"ticks\": \"\"}}, \"type\": \"histogram\"}], \"histogram2d\": [{\"colorbar\": {\"outlinewidth\": 0, \"ticks\": \"\"}, \"colorscale\": [[0.0, \"#0d0887\"], [0.1111111111111111, \"#46039f\"], [0.2222222222222222, \"#7201a8\"], [0.3333333333333333, \"#9c179e\"], [0.4444444444444444, \"#bd3786\"], [0.5555555555555556, \"#d8576b\"], [0.6666666666666666, \"#ed7953\"], [0.7777777777777778, \"#fb9f3a\"], [0.8888888888888888, \"#fdca26\"], [1.0, \"#f0f921\"]], \"type\": \"histogram2d\"}], \"histogram2dcontour\": [{\"colorbar\": {\"outlinewidth\": 0, \"ticks\": \"\"}, \"colorscale\": [[0.0, \"#0d0887\"], [0.1111111111111111, \"#46039f\"], [0.2222222222222222, \"#7201a8\"], [0.3333333333333333, \"#9c179e\"], [0.4444444444444444, \"#bd3786\"], [0.5555555555555556, \"#d8576b\"], [0.6666666666666666, \"#ed7953\"], [0.7777777777777778, \"#fb9f3a\"], [0.8888888888888888, \"#fdca26\"], [1.0, \"#f0f921\"]], \"type\": \"histogram2dcontour\"}], \"mesh3d\": [{\"colorbar\": {\"outlinewidth\": 0, \"ticks\": \"\"}, \"type\": \"mesh3d\"}], \"parcoords\": [{\"line\": {\"colorbar\": {\"outlinewidth\": 0, \"ticks\": \"\"}}, \"type\": \"parcoords\"}], \"pie\": [{\"automargin\": true, \"type\": \"pie\"}], \"scatter\": [{\"marker\": {\"colorbar\": {\"outlinewidth\": 0, \"ticks\": \"\"}}, \"type\": \"scatter\"}], \"scatter3d\": [{\"line\": {\"colorbar\": {\"outlinewidth\": 0, \"ticks\": \"\"}}, \"marker\": {\"colorbar\": {\"outlinewidth\": 0, \"ticks\": \"\"}}, \"type\": \"scatter3d\"}], \"scattercarpet\": [{\"marker\": {\"colorbar\": {\"outlinewidth\": 0, \"ticks\": \"\"}}, \"type\": \"scattercarpet\"}], \"scattergeo\": [{\"marker\": {\"colorbar\": {\"outlinewidth\": 0, \"ticks\": \"\"}}, \"type\": \"scattergeo\"}], \"scattergl\": [{\"marker\": {\"colorbar\": {\"outlinewidth\": 0, \"ticks\": \"\"}}, \"type\": \"scattergl\"}], \"scattermapbox\": [{\"marker\": {\"colorbar\": {\"outlinewidth\": 0, \"ticks\": \"\"}}, \"type\": \"scattermapbox\"}], \"scatterpolar\": [{\"marker\": {\"colorbar\": {\"outlinewidth\": 0, \"ticks\": \"\"}}, \"type\": \"scatterpolar\"}], \"scatterpolargl\": [{\"marker\": {\"colorbar\": {\"outlinewidth\": 0, \"ticks\": \"\"}}, \"type\": \"scatterpolargl\"}], \"scatterternary\": [{\"marker\": {\"colorbar\": {\"outlinewidth\": 0, \"ticks\": \"\"}}, \"type\": \"scatterternary\"}], \"surface\": [{\"colorbar\": {\"outlinewidth\": 0, \"ticks\": \"\"}, \"colorscale\": [[0.0, \"#0d0887\"], [0.1111111111111111, \"#46039f\"], [0.2222222222222222, \"#7201a8\"], [0.3333333333333333, \"#9c179e\"], [0.4444444444444444, \"#bd3786\"], [0.5555555555555556, \"#d8576b\"], [0.6666666666666666, \"#ed7953\"], [0.7777777777777778, \"#fb9f3a\"], [0.8888888888888888, \"#fdca26\"], [1.0, \"#f0f921\"]], \"type\": \"surface\"}], \"table\": [{\"cells\": {\"fill\": {\"color\": \"#EBF0F8\"}, \"line\": {\"color\": \"white\"}}, \"header\": {\"fill\": {\"color\": \"#C8D4E3\"}, \"line\": {\"color\": \"white\"}}, \"type\": \"table\"}]}, \"layout\": {\"annotationdefaults\": {\"arrowcolor\": \"#2a3f5f\", \"arrowhead\": 0, \"arrowwidth\": 1}, \"coloraxis\": {\"colorbar\": {\"outlinewidth\": 0, \"ticks\": \"\"}}, \"colorscale\": {\"diverging\": [[0, \"#8e0152\"], [0.1, \"#c51b7d\"], [0.2, \"#de77ae\"], [0.3, \"#f1b6da\"], [0.4, \"#fde0ef\"], [0.5, \"#f7f7f7\"], [0.6, \"#e6f5d0\"], [0.7, \"#b8e186\"], [0.8, \"#7fbc41\"], [0.9, \"#4d9221\"], [1, \"#276419\"]], \"sequential\": [[0.0, \"#0d0887\"], [0.1111111111111111, \"#46039f\"], [0.2222222222222222, \"#7201a8\"], [0.3333333333333333, \"#9c179e\"], [0.4444444444444444, \"#bd3786\"], [0.5555555555555556, \"#d8576b\"], [0.6666666666666666, \"#ed7953\"], [0.7777777777777778, \"#fb9f3a\"], [0.8888888888888888, \"#fdca26\"], [1.0, \"#f0f921\"]], \"sequentialminus\": [[0.0, \"#0d0887\"], [0.1111111111111111, \"#46039f\"], [0.2222222222222222, \"#7201a8\"], [0.3333333333333333, \"#9c179e\"], [0.4444444444444444, \"#bd3786\"], [0.5555555555555556, \"#d8576b\"], [0.6666666666666666, \"#ed7953\"], [0.7777777777777778, \"#fb9f3a\"], [0.8888888888888888, \"#fdca26\"], [1.0, \"#f0f921\"]]}, \"colorway\": [\"#636efa\", \"#EF553B\", \"#00cc96\", \"#ab63fa\", \"#FFA15A\", \"#19d3f3\", \"#FF6692\", \"#B6E880\", \"#FF97FF\", \"#FECB52\"], \"font\": {\"color\": \"#2a3f5f\"}, \"geo\": {\"bgcolor\": \"white\", \"lakecolor\": \"white\", \"landcolor\": \"#E5ECF6\", \"showlakes\": true, \"showland\": true, \"subunitcolor\": \"white\"}, \"hoverlabel\": {\"align\": \"left\"}, \"hovermode\": \"closest\", \"mapbox\": {\"style\": \"light\"}, \"paper_bgcolor\": \"white\", \"plot_bgcolor\": \"#E5ECF6\", \"polar\": {\"angularaxis\": {\"gridcolor\": \"white\", \"linecolor\": \"white\", \"ticks\": \"\"}, \"bgcolor\": \"#E5ECF6\", \"radialaxis\": {\"gridcolor\": \"white\", \"linecolor\": \"white\", \"ticks\": \"\"}}, \"scene\": {\"xaxis\": {\"backgroundcolor\": \"#E5ECF6\", \"gridcolor\": \"white\", \"gridwidth\": 2, \"linecolor\": \"white\", \"showbackground\": true, \"ticks\": \"\", \"zerolinecolor\": \"white\"}, \"yaxis\": {\"backgroundcolor\": \"#E5ECF6\", \"gridcolor\": \"white\", \"gridwidth\": 2, \"linecolor\": \"white\", \"showbackground\": true, \"ticks\": \"\", \"zerolinecolor\": \"white\"}, \"zaxis\": {\"backgroundcolor\": \"#E5ECF6\", \"gridcolor\": \"white\", \"gridwidth\": 2, \"linecolor\": \"white\", \"showbackground\": true, \"ticks\": \"\", \"zerolinecolor\": \"white\"}}, \"shapedefaults\": {\"line\": {\"color\": \"#2a3f5f\"}}, \"ternary\": {\"aaxis\": {\"gridcolor\": \"white\", \"linecolor\": \"white\", \"ticks\": \"\"}, \"baxis\": {\"gridcolor\": \"white\", \"linecolor\": \"white\", \"ticks\": \"\"}, \"bgcolor\": \"#E5ECF6\", \"caxis\": {\"gridcolor\": \"white\", \"linecolor\": \"white\", \"ticks\": \"\"}}, \"title\": {\"x\": 0.05}, \"xaxis\": {\"automargin\": true, \"gridcolor\": \"white\", \"linecolor\": \"white\", \"ticks\": \"\", \"title\": {\"standoff\": 15}, \"zerolinecolor\": \"white\", \"zerolinewidth\": 2}, \"yaxis\": {\"automargin\": true, \"gridcolor\": \"white\", \"linecolor\": \"white\", \"ticks\": \"\", \"title\": {\"standoff\": 15}, \"zerolinecolor\": \"white\", \"zerolinewidth\": 2}}}, \"title\": {\"text\": \"Model/Data Jalisco - deaths\", \"x\": 0.5}, \"yaxis\": {\"type\": \"linear\"}},\n",
       "                        {\"responsive\": true}\n",
       "                    ).then(function(){\n",
       "                            \n",
       "var gd = document.getElementById('921f6070-79f2-46b1-9f73-789ac26c1ec4');\n",
       "var x = new MutationObserver(function (mutations, observer) {{\n",
       "        var display = window.getComputedStyle(gd).display;\n",
       "        if (!display || display === 'none') {{\n",
       "            console.log([gd, 'removed!']);\n",
       "            Plotly.purge(gd);\n",
       "            observer.disconnect();\n",
       "        }}\n",
       "}});\n",
       "\n",
       "// Listen for the removal of the full notebook cells\n",
       "var notebookContainer = gd.closest('#notebook-container');\n",
       "if (notebookContainer) {{\n",
       "    x.observe(notebookContainer, {childList: true});\n",
       "}}\n",
       "\n",
       "// Listen for the clearing of the current output cell\n",
       "var outputEl = gd.closest('.output');\n",
       "if (outputEl) {{\n",
       "    x.observe(outputEl, {childList: true});\n",
       "}}\n",
       "\n",
       "                        })\n",
       "                };\n",
       "                });\n",
       "            </script>\n",
       "        </div>"
      ]
     },
     "metadata": {},
     "output_type": "display_data"
    }
   ],
   "source": [
    "tbound = 250\n",
    "fig = go.Figure()\n",
    "\n",
    "\n",
    "fig.add_trace(go.Scatter(\n",
    "    x=df6[df6.time<tbound]['date'],\n",
    "    y=df6[df6.time<tbound]['Deaths'],\n",
    "    name='Deaths Jalisco (Model #5) - as reported',\n",
    "    mode='lines+markers',line_width=2,marker_size=6,opacity=1))\n",
    "\n",
    "\n",
    "fig.add_trace(go.Scatter(\n",
    "    x=df5[df5.time<tbound]['date'],\n",
    "    y=df5[df5.time<tbound]['Deaths'],\n",
    "    name='Deaths Jalisco (Model #5) - as occurred',\n",
    "    mode='lines+markers',line_width=2,marker_size=6,opacity=1))\n",
    "\n",
    "fig.update_layout(\n",
    "    title=\"Model/Data Jalisco - deaths\",\n",
    "    title_x=0.5,showlegend=True,yaxis = {'type': 'linear'},\n",
    "    legend=dict(\n",
    "            x=0.10,y=0.95,\n",
    "            traceorder=\"normal\",font=dict(family=\"sans-serif\",size=14),bgcolor='rgba(0,0,0,0)'),)\n",
    "\n",
    "fig.show()"
   ]
  },
  {
   "cell_type": "code",
   "execution_count": 292,
   "metadata": {},
   "outputs": [
    {
     "data": {
      "application/vnd.plotly.v1+json": {
       "config": {
        "plotlyServerURL": "https://plot.ly"
       },
       "data": [
        {
         "line": {
          "width": 2
         },
         "marker": {
          "size": 6
         },
         "mode": "lines+markers",
         "name": "Deaths Jalisco (Model #5) - as reported",
         "opacity": 1,
         "type": "scatter",
         "x": [
          "2020-05-15T00:00:00",
          "2020-05-16T00:00:00",
          "2020-05-17T00:00:00",
          "2020-05-18T00:00:00",
          "2020-05-19T00:00:00",
          "2020-05-20T00:00:00",
          "2020-05-21T00:00:00",
          "2020-05-22T00:00:00",
          "2020-05-23T00:00:00",
          "2020-05-24T00:00:00",
          "2020-05-25T00:00:00",
          "2020-05-26T00:00:00",
          "2020-05-27T00:00:00",
          "2020-05-28T00:00:00",
          "2020-05-29T00:00:00",
          "2020-05-30T00:00:00",
          "2020-05-31T00:00:00",
          "2020-06-01T00:00:00",
          "2020-06-02T00:00:00",
          "2020-06-03T00:00:00",
          "2020-06-04T00:00:00",
          "2020-06-05T00:00:00",
          "2020-06-06T00:00:00",
          "2020-06-07T00:00:00",
          "2020-06-08T00:00:00",
          "2020-06-09T00:00:00",
          "2020-06-10T00:00:00",
          "2020-06-11T00:00:00",
          "2020-06-12T00:00:00",
          "2020-06-13T00:00:00",
          "2020-06-14T00:00:00",
          "2020-06-15T00:00:00",
          "2020-06-16T00:00:00",
          "2020-06-17T00:00:00",
          "2020-06-18T00:00:00",
          "2020-06-19T00:00:00",
          "2020-06-20T00:00:00",
          "2020-06-21T00:00:00",
          "2020-06-22T00:00:00",
          "2020-06-23T00:00:00",
          "2020-06-24T00:00:00",
          "2020-06-25T00:00:00",
          "2020-06-26T00:00:00",
          "2020-06-27T00:00:00",
          "2020-06-28T00:00:00",
          "2020-06-29T00:00:00",
          "2020-06-30T00:00:00",
          "2020-07-01T00:00:00",
          "2020-07-02T00:00:00",
          "2020-07-03T00:00:00",
          "2020-07-04T00:00:00",
          "2020-07-05T00:00:00",
          "2020-07-06T00:00:00",
          "2020-07-07T00:00:00",
          "2020-07-08T00:00:00",
          "2020-07-09T00:00:00",
          "2020-07-10T00:00:00",
          "2020-07-11T00:00:00",
          "2020-07-12T00:00:00",
          "2020-07-13T00:00:00",
          "2020-07-14T00:00:00",
          "2020-07-15T00:00:00",
          "2020-07-16T00:00:00",
          "2020-07-17T00:00:00",
          "2020-07-18T00:00:00",
          "2020-07-19T00:00:00",
          "2020-07-20T00:00:00",
          "2020-07-21T00:00:00",
          "2020-07-22T00:00:00",
          "2020-07-23T00:00:00",
          "2020-07-24T00:00:00",
          "2020-07-25T00:00:00",
          "2020-07-26T00:00:00",
          "2020-07-27T00:00:00",
          "2020-07-28T00:00:00",
          "2020-07-29T00:00:00",
          "2020-07-30T00:00:00",
          "2020-07-31T00:00:00",
          "2020-08-01T00:00:00",
          "2020-08-02T00:00:00",
          "2020-08-03T00:00:00",
          "2020-08-04T00:00:00",
          "2020-08-05T00:00:00",
          "2020-08-06T00:00:00",
          "2020-08-07T00:00:00",
          "2020-08-08T00:00:00",
          "2020-08-09T00:00:00",
          "2020-08-10T00:00:00",
          "2020-08-11T00:00:00",
          "2020-08-12T00:00:00",
          "2020-08-13T00:00:00",
          "2020-08-14T00:00:00",
          "2020-08-15T00:00:00",
          "2020-08-16T00:00:00",
          "2020-08-17T00:00:00",
          "2020-08-18T00:00:00",
          "2020-08-19T00:00:00",
          "2020-08-20T00:00:00",
          "2020-08-21T00:00:00",
          "2020-08-22T00:00:00",
          "2020-08-23T00:00:00",
          "2020-08-24T00:00:00",
          "2020-08-25T00:00:00",
          "2020-08-26T00:00:00",
          "2020-08-27T00:00:00",
          "2020-08-28T00:00:00",
          "2020-08-29T00:00:00",
          "2020-08-30T00:00:00",
          "2020-08-31T00:00:00",
          "2020-09-01T00:00:00",
          "2020-09-02T00:00:00",
          "2020-09-03T00:00:00",
          "2020-09-04T00:00:00",
          "2020-09-05T00:00:00",
          "2020-09-06T00:00:00",
          "2020-09-07T00:00:00",
          "2020-09-08T00:00:00",
          "2020-09-09T00:00:00",
          "2020-09-10T00:00:00",
          "2020-09-11T00:00:00",
          "2020-09-12T00:00:00",
          "2020-09-13T00:00:00",
          "2020-09-14T00:00:00",
          "2020-09-15T00:00:00",
          "2020-09-16T00:00:00",
          "2020-09-17T00:00:00",
          "2020-09-18T00:00:00",
          "2020-09-19T00:00:00",
          "2020-09-20T00:00:00",
          "2020-09-21T00:00:00",
          "2020-09-22T00:00:00",
          "2020-09-23T00:00:00",
          "2020-09-24T00:00:00",
          "2020-09-25T00:00:00",
          "2020-09-26T00:00:00",
          "2020-09-27T00:00:00",
          "2020-09-28T00:00:00",
          "2020-09-29T00:00:00",
          "2020-09-30T00:00:00",
          "2020-10-01T00:00:00",
          "2020-10-02T00:00:00",
          "2020-10-03T00:00:00",
          "2020-10-04T00:00:00",
          "2020-10-05T00:00:00",
          "2020-10-06T00:00:00",
          "2020-10-07T00:00:00",
          "2020-10-08T00:00:00",
          "2020-10-09T00:00:00",
          "2020-10-10T00:00:00",
          "2020-10-11T00:00:00",
          "2020-10-12T00:00:00",
          "2020-10-13T00:00:00",
          "2020-10-14T00:00:00",
          "2020-10-15T00:00:00",
          "2020-10-16T00:00:00",
          "2020-10-17T00:00:00",
          "2020-10-18T00:00:00",
          "2020-10-19T00:00:00",
          "2020-10-20T00:00:00",
          "2020-10-21T00:00:00",
          "2020-10-22T00:00:00",
          "2020-10-23T00:00:00",
          "2020-10-24T00:00:00",
          "2020-10-25T00:00:00",
          "2020-10-26T00:00:00",
          "2020-10-27T00:00:00",
          "2020-10-28T00:00:00",
          "2020-10-29T00:00:00",
          "2020-10-30T00:00:00",
          "2020-10-31T00:00:00",
          "2020-11-01T00:00:00",
          "2020-11-02T00:00:00",
          "2020-11-03T00:00:00",
          "2020-11-04T00:00:00",
          "2020-11-05T00:00:00",
          "2020-11-06T00:00:00",
          "2020-11-07T00:00:00",
          "2020-11-08T00:00:00",
          "2020-11-09T00:00:00",
          "2020-11-10T00:00:00",
          "2020-11-11T00:00:00",
          "2020-11-12T00:00:00",
          "2020-11-13T00:00:00",
          "2020-11-14T00:00:00",
          "2020-11-15T00:00:00",
          "2020-11-16T00:00:00",
          "2020-11-17T00:00:00",
          "2020-11-18T00:00:00",
          "2020-11-19T00:00:00",
          "2020-11-20T00:00:00",
          "2020-11-21T00:00:00",
          "2020-11-22T00:00:00",
          "2020-11-23T00:00:00",
          "2020-11-24T00:00:00",
          "2020-11-25T00:00:00",
          "2020-11-26T00:00:00",
          "2020-11-27T00:00:00",
          "2020-11-28T00:00:00",
          "2020-11-29T00:00:00",
          "2020-11-30T00:00:00",
          "2020-12-01T00:00:00",
          "2020-12-02T00:00:00",
          "2020-12-03T00:00:00",
          "2020-12-04T00:00:00",
          "2020-12-05T00:00:00",
          "2020-12-06T00:00:00",
          "2020-12-07T00:00:00",
          "2020-12-08T00:00:00",
          "2020-12-09T00:00:00",
          "2020-12-10T00:00:00",
          "2020-12-11T00:00:00",
          "2020-12-12T00:00:00",
          "2020-12-13T00:00:00",
          "2020-12-14T00:00:00",
          "2020-12-15T00:00:00",
          "2020-12-16T00:00:00",
          "2020-12-17T00:00:00",
          "2020-12-18T00:00:00",
          "2020-12-19T00:00:00",
          "2020-12-20T00:00:00",
          "2020-12-21T00:00:00",
          "2020-12-22T00:00:00",
          "2020-12-23T00:00:00",
          "2020-12-24T00:00:00",
          "2020-12-25T00:00:00",
          "2020-12-26T00:00:00",
          "2020-12-27T00:00:00",
          "2020-12-28T00:00:00",
          "2020-12-29T00:00:00",
          "2020-12-30T00:00:00",
          "2020-12-31T00:00:00",
          "2021-01-01T00:00:00",
          "2021-01-02T00:00:00",
          "2021-01-03T00:00:00",
          "2021-01-04T00:00:00",
          "2021-01-05T00:00:00",
          "2021-01-06T00:00:00",
          "2021-01-07T00:00:00",
          "2021-01-08T00:00:00",
          "2021-01-09T00:00:00",
          "2021-01-10T00:00:00",
          "2021-01-11T00:00:00",
          "2021-01-12T00:00:00",
          "2021-01-13T00:00:00",
          "2021-01-14T00:00:00",
          "2021-01-15T00:00:00",
          "2021-01-16T00:00:00",
          "2021-01-17T00:00:00",
          "2021-01-18T00:00:00",
          "2021-01-19T00:00:00"
         ],
         "y": [
          null,
          0,
          0.7231714285714332,
          1.4173336514062953,
          2.086688248665709,
          2.73497254429563,
          3.3655011703595363,
          3.98120363338019,
          4.584658307795564,
          5.178123237564279,
          5.763564087145312,
          6.3426795471205395,
          6.916924467261495,
          7.487530960537953,
          8.055527695128603,
          8.621757567657937,
          9.186893929408825,
          9.751455517928548,
          10.315820229063831,
          10.880237848846349,
          11.444841850646299,
          12.009660350470114,
          12.574626302065099,
          13.139587003491044,
          13.704312977910547,
          14.268506283441468,
          14.831808299909369,
          15.39380703415162,
          15.954043980084577,
          16.5120205649726,
          17.0672042091756,
          17.619034023034203,
          18.16692616142757,
          18.71027885385547,
          19.248477125609554,
          19.780897223661896,
          20.30691075927996,
          20.825888578031027,
          21.337204366741446,
          21.84023800609026,
          22.33437867682062,
          22.819027727014713,
          23.293601307481254,
          23.757532782025805,
          24.210274919192557,
          24.6513018719686,
          25.08011095190966,
          25.49622420416449,
          25.89918978994001,
          26.288583183036053,
          26.66400818718921,
          27.025097781089357,
          27.371514798053227,
          27.70295244746569,
          28.019134685215363,
          28.319816440450154,
          28.604783706071203,
          28.873853500447353,
          29.126873707884897,
          29.36372280540718,
          29.584309483404695,
          29.78857216768938,
          29.976478450440027,
          30.148024437457025,
          30.3032340190407,
          30.442158071695985,
          30.56487359771927,
          30.671482809565305,
          30.76211216570573,
          30.836911364493517,
          30.896052302334283,
          30.939728002226502,
          30.968151518502964,
          30.981554823335273,
          30.980187680314884,
          30.964316510143362,
          30.934223253190567,
          30.890204233402983,
          30.832569027753152,
          30.761639345146705,
          30.67774791841134,
          30.581237412718792,
          30.47245935350452,
          30.35177307668482,
          30.219544703694964,
          30.076146143616597,
          29.921954124402873,
          29.757349254968176,
          29.58271511966882,
          29.398437406475068,
          29.204903069913826,
          29.002499529657143,
          28.791613905431404,
          28.572632288734894,
          28.345939051681853,
          28.11191619311421,
          27.870942721984193,
          27.62339407785248,
          27.369641588227296,
          27.11005196234146,
          26.8449868208545,
          26.574802260864544,
          26.29984845553554,
          26.02046928754362,
          25.73700201549036,
          25.449776972367545,
          25.15911729508889,
          24.86533868407605,
          24.568749191835195,
          24.269649039430078,
          23.968330459739718,
          23.665077566361106,
          23.360166247010966,
          23.05386408027198,
          22.746430274528393,
          22.438115627931893,
          22.129162508261288,
          21.819804851529625,
          21.510268178229126,
          21.200769626106194,
          20.891517998385098,
          20.5827138263885,
          20.274549445518005,
          19.967209083592934,
          19.66086896057277,
          19.35569739872426,
          19.05185494231364,
          18.749494485953164,
          18.44876141075474,
          18.149793727479846,
          17.852722225912203,
          17.557670629707445,
          17.264755756021714,
          16.974087679237982,
          16.685769898159833,
          16.39989950606605,
          16.11656736305622,
          15.83585827015122,
          15.557851144640608,
          15.282619196207179,
          15.010230103382582,
          14.740746189920173,
          14.474224600705838,
          14.210717476841182,
          13.95027212957848,
          13.692931212796339,
          13.438732893743236,
          13.187711021790165,
          12.939895294960024,
          12.695311424028205,
          12.453981293998822,
          12.215923122794266,
          11.981151616998432,
          11.749678124532693,
          11.521510784135899,
          11.296654671562465,
          11.075111942399872,
          10.856881971446,
          10.641961488584002,
          10.430344711110138,
          10.222023472482306,
          10.016987347466056,
          9.815223773668095,
          9.616718169448632,
          9.421454048227588,
          9.22941312918465,
          9.04057544439138,
          8.854919442384016,
          8.672422088228814,
          8.493058960103554,
          8.316804342448904,
          8.143631315738276,
          7.9735118429130125,
          7.8064168525443165,
          7.642316318779649,
          7.481179338137736,
          7.322974203214017,
          7.1676684733661205,
          7.015229042444844,
          6.865622203647945,
          6.718813711554503,
          6.574768841429432,
          6.433452445852254,
          6.294829008759734,
          6.158862696964661,
          6.025517409228996,
          5.894756822962336,
          5.766544438620713,
          5.640843621878048,
          5.517617643636186,
          5.396829717954006,
          5.278443037958823,
          5.162420809810101,
          5.04872628478779,
          4.9373227895653145,
          4.828173754742238,
          4.721242741688457,
          4.616493467780401,
          4.5138898300729124,
          4.413395927480451,
          4.314976081523582,
          4.218594855692572,
          4.124217073494492,
          4.031807835230666,
          3.941332533559944,
          3.8527568679028263,
          3.7660468577323627,
          3.6811688548036727,
          3.5980895543680163,
          3.516776005418251,
          3.4371956200116074,
          3.3593161817098007,
          3.283105853179677,
          3.2085331829957795,
          3.135567111683031,
          3.064176977036823,
          2.994332518756437,
          2.9260038824277217,
          2.859161622890497,
          2.7937767070170594,
          2.7298205159395366,
          2.6672648467560975,
          2.606081913736034,
          2.5462443490650912,
          2.4877252031460557,
          2.4304979444855235,
          2.374536459193223,
          2.3198150501107193,
          2.266308435599967,
          2.213991748006265,
          2.1628405318238038,
          2.112830741574271,
          2.0639387394257938,
          2.016141292566772,
          1.969415570350975,
          1.9237391412311808,
          1.8790899695004555,
          1.835446411848352,
          1.7927872137533996,
          1.751091505725526,
          1.7103387994020522,
          1.670508983524087,
          1.6315823197915051,
          1.5935394386160624,
          1.556361334779922,
          1.5200293630109627,
          1.4845252334821453,
          1.4498310072463028,
          1.415929091614089,
          1.3828022354823588
         ]
        },
        {
         "line": {
          "width": 2
         },
         "marker": {
          "size": 6
         },
         "mode": "lines+markers",
         "name": "Deaths Jalisco (Model #5) - as occurred",
         "opacity": 1,
         "type": "scatter",
         "x": [
          "2020-05-15T00:00:00",
          "2020-05-16T00:00:00",
          "2020-05-17T00:00:00",
          "2020-05-18T00:00:00",
          "2020-05-19T00:00:00",
          "2020-05-20T00:00:00",
          "2020-05-21T00:00:00",
          "2020-05-22T00:00:00",
          "2020-05-23T00:00:00",
          "2020-05-24T00:00:00",
          "2020-05-25T00:00:00",
          "2020-05-26T00:00:00",
          "2020-05-27T00:00:00",
          "2020-05-28T00:00:00",
          "2020-05-29T00:00:00",
          "2020-05-30T00:00:00",
          "2020-05-31T00:00:00",
          "2020-06-01T00:00:00",
          "2020-06-02T00:00:00",
          "2020-06-03T00:00:00",
          "2020-06-04T00:00:00",
          "2020-06-05T00:00:00",
          "2020-06-06T00:00:00",
          "2020-06-07T00:00:00",
          "2020-06-08T00:00:00",
          "2020-06-09T00:00:00",
          "2020-06-10T00:00:00",
          "2020-06-11T00:00:00",
          "2020-06-12T00:00:00",
          "2020-06-13T00:00:00",
          "2020-06-14T00:00:00",
          "2020-06-15T00:00:00",
          "2020-06-16T00:00:00",
          "2020-06-17T00:00:00",
          "2020-06-18T00:00:00",
          "2020-06-19T00:00:00",
          "2020-06-20T00:00:00",
          "2020-06-21T00:00:00",
          "2020-06-22T00:00:00",
          "2020-06-23T00:00:00",
          "2020-06-24T00:00:00",
          "2020-06-25T00:00:00",
          "2020-06-26T00:00:00",
          "2020-06-27T00:00:00",
          "2020-06-28T00:00:00",
          "2020-06-29T00:00:00",
          "2020-06-30T00:00:00",
          "2020-07-01T00:00:00",
          "2020-07-02T00:00:00",
          "2020-07-03T00:00:00",
          "2020-07-04T00:00:00",
          "2020-07-05T00:00:00",
          "2020-07-06T00:00:00",
          "2020-07-07T00:00:00",
          "2020-07-08T00:00:00",
          "2020-07-09T00:00:00",
          "2020-07-10T00:00:00",
          "2020-07-11T00:00:00",
          "2020-07-12T00:00:00",
          "2020-07-13T00:00:00",
          "2020-07-14T00:00:00",
          "2020-07-15T00:00:00",
          "2020-07-16T00:00:00",
          "2020-07-17T00:00:00",
          "2020-07-18T00:00:00",
          "2020-07-19T00:00:00",
          "2020-07-20T00:00:00",
          "2020-07-21T00:00:00",
          "2020-07-22T00:00:00",
          "2020-07-23T00:00:00",
          "2020-07-24T00:00:00",
          "2020-07-25T00:00:00",
          "2020-07-26T00:00:00",
          "2020-07-27T00:00:00",
          "2020-07-28T00:00:00",
          "2020-07-29T00:00:00",
          "2020-07-30T00:00:00",
          "2020-07-31T00:00:00",
          "2020-08-01T00:00:00",
          "2020-08-02T00:00:00",
          "2020-08-03T00:00:00",
          "2020-08-04T00:00:00",
          "2020-08-05T00:00:00",
          "2020-08-06T00:00:00",
          "2020-08-07T00:00:00",
          "2020-08-08T00:00:00",
          "2020-08-09T00:00:00",
          "2020-08-10T00:00:00",
          "2020-08-11T00:00:00",
          "2020-08-12T00:00:00",
          "2020-08-13T00:00:00",
          "2020-08-14T00:00:00",
          "2020-08-15T00:00:00",
          "2020-08-16T00:00:00",
          "2020-08-17T00:00:00",
          "2020-08-18T00:00:00",
          "2020-08-19T00:00:00",
          "2020-08-20T00:00:00",
          "2020-08-21T00:00:00",
          "2020-08-22T00:00:00",
          "2020-08-23T00:00:00",
          "2020-08-24T00:00:00",
          "2020-08-25T00:00:00",
          "2020-08-26T00:00:00",
          "2020-08-27T00:00:00",
          "2020-08-28T00:00:00",
          "2020-08-29T00:00:00",
          "2020-08-30T00:00:00",
          "2020-08-31T00:00:00",
          "2020-09-01T00:00:00",
          "2020-09-02T00:00:00",
          "2020-09-03T00:00:00",
          "2020-09-04T00:00:00",
          "2020-09-05T00:00:00",
          "2020-09-06T00:00:00",
          "2020-09-07T00:00:00",
          "2020-09-08T00:00:00",
          "2020-09-09T00:00:00",
          "2020-09-10T00:00:00",
          "2020-09-11T00:00:00",
          "2020-09-12T00:00:00",
          "2020-09-13T00:00:00",
          "2020-09-14T00:00:00",
          "2020-09-15T00:00:00",
          "2020-09-16T00:00:00",
          "2020-09-17T00:00:00",
          "2020-09-18T00:00:00",
          "2020-09-19T00:00:00",
          "2020-09-20T00:00:00",
          "2020-09-21T00:00:00",
          "2020-09-22T00:00:00",
          "2020-09-23T00:00:00",
          "2020-09-24T00:00:00",
          "2020-09-25T00:00:00",
          "2020-09-26T00:00:00",
          "2020-09-27T00:00:00",
          "2020-09-28T00:00:00",
          "2020-09-29T00:00:00",
          "2020-09-30T00:00:00",
          "2020-10-01T00:00:00",
          "2020-10-02T00:00:00",
          "2020-10-03T00:00:00",
          "2020-10-04T00:00:00",
          "2020-10-05T00:00:00",
          "2020-10-06T00:00:00",
          "2020-10-07T00:00:00",
          "2020-10-08T00:00:00",
          "2020-10-09T00:00:00",
          "2020-10-10T00:00:00",
          "2020-10-11T00:00:00",
          "2020-10-12T00:00:00",
          "2020-10-13T00:00:00",
          "2020-10-14T00:00:00",
          "2020-10-15T00:00:00",
          "2020-10-16T00:00:00",
          "2020-10-17T00:00:00",
          "2020-10-18T00:00:00",
          "2020-10-19T00:00:00",
          "2020-10-20T00:00:00",
          "2020-10-21T00:00:00",
          "2020-10-22T00:00:00",
          "2020-10-23T00:00:00",
          "2020-10-24T00:00:00",
          "2020-10-25T00:00:00",
          "2020-10-26T00:00:00",
          "2020-10-27T00:00:00",
          "2020-10-28T00:00:00",
          "2020-10-29T00:00:00",
          "2020-10-30T00:00:00",
          "2020-10-31T00:00:00",
          "2020-11-01T00:00:00",
          "2020-11-02T00:00:00",
          "2020-11-03T00:00:00",
          "2020-11-04T00:00:00",
          "2020-11-05T00:00:00",
          "2020-11-06T00:00:00",
          "2020-11-07T00:00:00",
          "2020-11-08T00:00:00",
          "2020-11-09T00:00:00",
          "2020-11-10T00:00:00",
          "2020-11-11T00:00:00",
          "2020-11-12T00:00:00",
          "2020-11-13T00:00:00",
          "2020-11-14T00:00:00",
          "2020-11-15T00:00:00",
          "2020-11-16T00:00:00",
          "2020-11-17T00:00:00",
          "2020-11-18T00:00:00",
          "2020-11-19T00:00:00",
          "2020-11-20T00:00:00",
          "2020-11-21T00:00:00",
          "2020-11-22T00:00:00",
          "2020-11-23T00:00:00",
          "2020-11-24T00:00:00",
          "2020-11-25T00:00:00",
          "2020-11-26T00:00:00",
          "2020-11-27T00:00:00",
          "2020-11-28T00:00:00",
          "2020-11-29T00:00:00",
          "2020-11-30T00:00:00",
          "2020-12-01T00:00:00",
          "2020-12-02T00:00:00",
          "2020-12-03T00:00:00",
          "2020-12-04T00:00:00",
          "2020-12-05T00:00:00",
          "2020-12-06T00:00:00",
          "2020-12-07T00:00:00",
          "2020-12-08T00:00:00",
          "2020-12-09T00:00:00",
          "2020-12-10T00:00:00",
          "2020-12-11T00:00:00",
          "2020-12-12T00:00:00",
          "2020-12-13T00:00:00",
          "2020-12-14T00:00:00",
          "2020-12-15T00:00:00",
          "2020-12-16T00:00:00",
          "2020-12-17T00:00:00",
          "2020-12-18T00:00:00",
          "2020-12-19T00:00:00",
          "2020-12-20T00:00:00",
          "2020-12-21T00:00:00",
          "2020-12-22T00:00:00",
          "2020-12-23T00:00:00",
          "2020-12-24T00:00:00",
          "2020-12-25T00:00:00",
          "2020-12-26T00:00:00",
          "2020-12-27T00:00:00",
          "2020-12-28T00:00:00",
          "2020-12-29T00:00:00",
          "2020-12-30T00:00:00",
          "2020-12-31T00:00:00",
          "2021-01-01T00:00:00",
          "2021-01-02T00:00:00",
          "2021-01-03T00:00:00",
          "2021-01-04T00:00:00",
          "2021-01-05T00:00:00",
          "2021-01-06T00:00:00",
          "2021-01-07T00:00:00",
          "2021-01-08T00:00:00",
          "2021-01-09T00:00:00",
          "2021-01-10T00:00:00",
          "2021-01-11T00:00:00",
          "2021-01-12T00:00:00",
          "2021-01-13T00:00:00",
          "2021-01-14T00:00:00",
          "2021-01-15T00:00:00",
          "2021-01-16T00:00:00",
          "2021-01-17T00:00:00",
          "2021-01-18T00:00:00",
          "2021-01-19T00:00:00"
         ],
         "y": [
          null,
          0,
          1.2342857142857184,
          2.392530905146117,
          3.482794731584363,
          4.512278236662567,
          5.487409507943411,
          6.413920475009775,
          7.296916177610328,
          8.140937254056098,
          8.950016324014626,
          9.727728871968964,
          10.477239176567622,
          11.201341776204856,
          11.902498911821823,
          12.582874343550628,
          13.244363897939934,
          13.888623066645636,
          14.51709194524608,
          15.13101777187461,
          15.731475299332544,
          16.31938521095168,
          16.895530769452478,
          17.4605728691551,
          18.01506364492502,
          18.559458775983728,
          19.09412860901017,
          19.619368212645952,
          20.135406464450682,
          20.64241426141399,
          21.14051193619497,
          21.629775953230194,
          22.110244951637526,
          22.581925195352767,
          23.044795485108978,
          23.49881158162134,
          23.943910184627498,
          24.38001250819127,
          24.80702748886017,
          25.22485465983516,
          25.633386721213924,
          26.032511833589638,
          26.42211565977334,
          26.80208317714778,
          27.172300281120215,
          27.53265519830211,
          27.883039726378456,
          28.223350316131473,
          28.553489009725467,
          28.8733642481277,
          29.18289155943512,
          29.481994138862774,
          29.770603330239965,
          30.04865901803055,
          30.31610993813706,
          30.572913915070103,
          30.81903803243017,
          31.0544587430918,
          31.279161924952177,
          31.49314288763844,
          31.696406335131314,
          31.888966288866868,
          32.07084597551784,
          32.2420776833153,
          32.402702590474064,
          32.552770568997175,
          32.69233996687649,
          32.821477371468745,
          32.94025735660557,
          33.048762215792294,
          33.147081683657916,
          33.23531264765097,
          33.31355885181097,
          33.38193059429068,
          33.44054442017614,
          33.48952281100992,
          33.52899387231423,
          33.55909102028795,
          33.579952668758324,
          33.591721917363884,
          33.59454624185628,
          33.58857718732929,
          33.57397006509814,
          33.5508836538861,
          33.51947990590156,
          33.47992365833079,
          33.432382350706575,
          33.377025748566666,
          33.31402567375244,
          33.24355574166657,
          33.165791105743665,
          33.08090820937241,
          32.98908454544289,
          32.89049842367422,
          32.78532874584562,
          32.673754789007035,
          32.5559559967387,
          32.432111778484796,
          32.30240131697883,
          32.16700338373494,
          32.02609616258633,
          31.879857081207774,
          31.72846265055705,
          31.572088312153028,
          31.41090829308814,
          31.245095468666022,
          31.07482123254431,
          30.900255374241624,
          30.721565963877765,
          30.538919243988857,
          30.352479528262393,
          30.162409107033,
          29.968868159362955,
          29.772014671539637,
          29.572004361816198,
          29.368990611203117,
          29.163124400145534,
          28.954554250887668,
          28.74342617534876,
          28.529883628318203,
          28.314067465793414,
          28.096115908262163,
          27.876164508754755,
          27.654346125480515,
          27.430790898862142,
          27.205626232791474,
          26.97897677992978,
          26.750964430871136,
          26.521708307001518,
          26.291324756881295,
          26.059927355979653,
          25.827626909605897,
          25.59453145886846,
          25.36074628950746,
          25.12637394344847,
          24.89151423292742,
          24.656264257035673,
          24.42071842055293,
          24.184968454918817,
          23.949103441217176,
          23.71320983503756,
          23.477371493089777,
          23.241669701452338,
          23.006183205327943,
          22.770988240202314,
          22.53615856428769,
          22.301765492150025,
          22.067877929416227,
          21.834562408459533,
          21.601883124975302,
          21.36990197534851,
          21.13867859473521,
          20.908270395762884,
          20.678732607781967,
          20.450118316582575,
          20.222478504510036,
          19.99586209090512,
          19.770315972808476,
          19.545885065859693,
          19.322612345335983,
          19.100538887270886,
          18.87970390960345,
          18.660144813305124,
          18.441897223427077,
          18.22499503004201,
          18.009470429022258,
          17.79535396261781,
          17.58267455979876,
          17.371459576324924,
          17.1617348345153,
          16.953524662672862,
          16.74685193415644,
          16.541738106052435,
          16.338203257436362,
          16.136266127197814,
          15.93594415140251,
          15.737253500183215,
          15.5402091141259,
          15.34482474016113,
          15.151112966913388,
          14.959085259524727,
          14.768751993929072,
          14.580122490559006,
          14.39320504749685,
          14.208006973044576,
          14.024534617711652,
          13.842793405619886,
          13.662787865317114,
          13.484521659993334,
          13.307997617109322,
          13.133217757415878,
          12.960183323384626,
          12.788894807039469,
          12.619351977183214,
          12.451553906042136,
          12.285498995304806,
          12.121185001577942,
          11.95860906125381,
          11.797767714793736,
          11.638656930434081,
          11.481272127319244,
          11.32560819806531,
          11.171659530762554,
          11.019420030418587,
          10.868883139856734,
          10.720041860065066,
          10.572888770012469,
          10.427416045938116,
          10.283615480110711,
          10.141478499085679,
          10.000996181443952,
          9.86215927503963,
          9.724958213759237,
          9.589383133789852,
          9.45542388942522,
          9.3230700683971,
          9.192311006756427,
          9.06313580330061,
          8.935533333567946,
          8.809492263393622,
          8.685001062049196,
          8.562048014964603,
          8.440621236048173,
          8.320708679606469,
          8.202298151879404,
          8.085377322190652,
          7.969933733735161,
          7.855954813993776,
          7.743427884804078,
          7.632340172073782,
          7.522678815168547,
          7.414430875955986,
          7.307583347543186,
          7.2021231626858935,
          7.098037201899388,
          6.995312301272861,
          6.893935259985483,
          6.793892847545067,
          6.695171810751162,
          6.597758880383481,
          6.501640777637476,
          6.40680422029709,
          6.313235928668291,
          6.2209226312643295,
          6.129851070262703,
          6.040008006734752,
          5.951380225646972,
          5.863954540660416,
          5.777717798708181,
          5.692656884381904
         ]
        }
       ],
       "layout": {
        "legend": {
         "bgcolor": "rgba(0,0,0,0)",
         "font": {
          "family": "sans-serif",
          "size": 14
         },
         "traceorder": "normal",
         "x": 0.6,
         "y": 0.95
        },
        "showlegend": true,
        "template": {
         "data": {
          "bar": [
           {
            "error_x": {
             "color": "#2a3f5f"
            },
            "error_y": {
             "color": "#2a3f5f"
            },
            "marker": {
             "line": {
              "color": "#E5ECF6",
              "width": 0.5
             }
            },
            "type": "bar"
           }
          ],
          "barpolar": [
           {
            "marker": {
             "line": {
              "color": "#E5ECF6",
              "width": 0.5
             }
            },
            "type": "barpolar"
           }
          ],
          "carpet": [
           {
            "aaxis": {
             "endlinecolor": "#2a3f5f",
             "gridcolor": "white",
             "linecolor": "white",
             "minorgridcolor": "white",
             "startlinecolor": "#2a3f5f"
            },
            "baxis": {
             "endlinecolor": "#2a3f5f",
             "gridcolor": "white",
             "linecolor": "white",
             "minorgridcolor": "white",
             "startlinecolor": "#2a3f5f"
            },
            "type": "carpet"
           }
          ],
          "choropleth": [
           {
            "colorbar": {
             "outlinewidth": 0,
             "ticks": ""
            },
            "type": "choropleth"
           }
          ],
          "contour": [
           {
            "colorbar": {
             "outlinewidth": 0,
             "ticks": ""
            },
            "colorscale": [
             [
              0,
              "#0d0887"
             ],
             [
              0.1111111111111111,
              "#46039f"
             ],
             [
              0.2222222222222222,
              "#7201a8"
             ],
             [
              0.3333333333333333,
              "#9c179e"
             ],
             [
              0.4444444444444444,
              "#bd3786"
             ],
             [
              0.5555555555555556,
              "#d8576b"
             ],
             [
              0.6666666666666666,
              "#ed7953"
             ],
             [
              0.7777777777777778,
              "#fb9f3a"
             ],
             [
              0.8888888888888888,
              "#fdca26"
             ],
             [
              1,
              "#f0f921"
             ]
            ],
            "type": "contour"
           }
          ],
          "contourcarpet": [
           {
            "colorbar": {
             "outlinewidth": 0,
             "ticks": ""
            },
            "type": "contourcarpet"
           }
          ],
          "heatmap": [
           {
            "colorbar": {
             "outlinewidth": 0,
             "ticks": ""
            },
            "colorscale": [
             [
              0,
              "#0d0887"
             ],
             [
              0.1111111111111111,
              "#46039f"
             ],
             [
              0.2222222222222222,
              "#7201a8"
             ],
             [
              0.3333333333333333,
              "#9c179e"
             ],
             [
              0.4444444444444444,
              "#bd3786"
             ],
             [
              0.5555555555555556,
              "#d8576b"
             ],
             [
              0.6666666666666666,
              "#ed7953"
             ],
             [
              0.7777777777777778,
              "#fb9f3a"
             ],
             [
              0.8888888888888888,
              "#fdca26"
             ],
             [
              1,
              "#f0f921"
             ]
            ],
            "type": "heatmap"
           }
          ],
          "heatmapgl": [
           {
            "colorbar": {
             "outlinewidth": 0,
             "ticks": ""
            },
            "colorscale": [
             [
              0,
              "#0d0887"
             ],
             [
              0.1111111111111111,
              "#46039f"
             ],
             [
              0.2222222222222222,
              "#7201a8"
             ],
             [
              0.3333333333333333,
              "#9c179e"
             ],
             [
              0.4444444444444444,
              "#bd3786"
             ],
             [
              0.5555555555555556,
              "#d8576b"
             ],
             [
              0.6666666666666666,
              "#ed7953"
             ],
             [
              0.7777777777777778,
              "#fb9f3a"
             ],
             [
              0.8888888888888888,
              "#fdca26"
             ],
             [
              1,
              "#f0f921"
             ]
            ],
            "type": "heatmapgl"
           }
          ],
          "histogram": [
           {
            "marker": {
             "colorbar": {
              "outlinewidth": 0,
              "ticks": ""
             }
            },
            "type": "histogram"
           }
          ],
          "histogram2d": [
           {
            "colorbar": {
             "outlinewidth": 0,
             "ticks": ""
            },
            "colorscale": [
             [
              0,
              "#0d0887"
             ],
             [
              0.1111111111111111,
              "#46039f"
             ],
             [
              0.2222222222222222,
              "#7201a8"
             ],
             [
              0.3333333333333333,
              "#9c179e"
             ],
             [
              0.4444444444444444,
              "#bd3786"
             ],
             [
              0.5555555555555556,
              "#d8576b"
             ],
             [
              0.6666666666666666,
              "#ed7953"
             ],
             [
              0.7777777777777778,
              "#fb9f3a"
             ],
             [
              0.8888888888888888,
              "#fdca26"
             ],
             [
              1,
              "#f0f921"
             ]
            ],
            "type": "histogram2d"
           }
          ],
          "histogram2dcontour": [
           {
            "colorbar": {
             "outlinewidth": 0,
             "ticks": ""
            },
            "colorscale": [
             [
              0,
              "#0d0887"
             ],
             [
              0.1111111111111111,
              "#46039f"
             ],
             [
              0.2222222222222222,
              "#7201a8"
             ],
             [
              0.3333333333333333,
              "#9c179e"
             ],
             [
              0.4444444444444444,
              "#bd3786"
             ],
             [
              0.5555555555555556,
              "#d8576b"
             ],
             [
              0.6666666666666666,
              "#ed7953"
             ],
             [
              0.7777777777777778,
              "#fb9f3a"
             ],
             [
              0.8888888888888888,
              "#fdca26"
             ],
             [
              1,
              "#f0f921"
             ]
            ],
            "type": "histogram2dcontour"
           }
          ],
          "mesh3d": [
           {
            "colorbar": {
             "outlinewidth": 0,
             "ticks": ""
            },
            "type": "mesh3d"
           }
          ],
          "parcoords": [
           {
            "line": {
             "colorbar": {
              "outlinewidth": 0,
              "ticks": ""
             }
            },
            "type": "parcoords"
           }
          ],
          "pie": [
           {
            "automargin": true,
            "type": "pie"
           }
          ],
          "scatter": [
           {
            "marker": {
             "colorbar": {
              "outlinewidth": 0,
              "ticks": ""
             }
            },
            "type": "scatter"
           }
          ],
          "scatter3d": [
           {
            "line": {
             "colorbar": {
              "outlinewidth": 0,
              "ticks": ""
             }
            },
            "marker": {
             "colorbar": {
              "outlinewidth": 0,
              "ticks": ""
             }
            },
            "type": "scatter3d"
           }
          ],
          "scattercarpet": [
           {
            "marker": {
             "colorbar": {
              "outlinewidth": 0,
              "ticks": ""
             }
            },
            "type": "scattercarpet"
           }
          ],
          "scattergeo": [
           {
            "marker": {
             "colorbar": {
              "outlinewidth": 0,
              "ticks": ""
             }
            },
            "type": "scattergeo"
           }
          ],
          "scattergl": [
           {
            "marker": {
             "colorbar": {
              "outlinewidth": 0,
              "ticks": ""
             }
            },
            "type": "scattergl"
           }
          ],
          "scattermapbox": [
           {
            "marker": {
             "colorbar": {
              "outlinewidth": 0,
              "ticks": ""
             }
            },
            "type": "scattermapbox"
           }
          ],
          "scatterpolar": [
           {
            "marker": {
             "colorbar": {
              "outlinewidth": 0,
              "ticks": ""
             }
            },
            "type": "scatterpolar"
           }
          ],
          "scatterpolargl": [
           {
            "marker": {
             "colorbar": {
              "outlinewidth": 0,
              "ticks": ""
             }
            },
            "type": "scatterpolargl"
           }
          ],
          "scatterternary": [
           {
            "marker": {
             "colorbar": {
              "outlinewidth": 0,
              "ticks": ""
             }
            },
            "type": "scatterternary"
           }
          ],
          "surface": [
           {
            "colorbar": {
             "outlinewidth": 0,
             "ticks": ""
            },
            "colorscale": [
             [
              0,
              "#0d0887"
             ],
             [
              0.1111111111111111,
              "#46039f"
             ],
             [
              0.2222222222222222,
              "#7201a8"
             ],
             [
              0.3333333333333333,
              "#9c179e"
             ],
             [
              0.4444444444444444,
              "#bd3786"
             ],
             [
              0.5555555555555556,
              "#d8576b"
             ],
             [
              0.6666666666666666,
              "#ed7953"
             ],
             [
              0.7777777777777778,
              "#fb9f3a"
             ],
             [
              0.8888888888888888,
              "#fdca26"
             ],
             [
              1,
              "#f0f921"
             ]
            ],
            "type": "surface"
           }
          ],
          "table": [
           {
            "cells": {
             "fill": {
              "color": "#EBF0F8"
             },
             "line": {
              "color": "white"
             }
            },
            "header": {
             "fill": {
              "color": "#C8D4E3"
             },
             "line": {
              "color": "white"
             }
            },
            "type": "table"
           }
          ]
         },
         "layout": {
          "annotationdefaults": {
           "arrowcolor": "#2a3f5f",
           "arrowhead": 0,
           "arrowwidth": 1
          },
          "coloraxis": {
           "colorbar": {
            "outlinewidth": 0,
            "ticks": ""
           }
          },
          "colorscale": {
           "diverging": [
            [
             0,
             "#8e0152"
            ],
            [
             0.1,
             "#c51b7d"
            ],
            [
             0.2,
             "#de77ae"
            ],
            [
             0.3,
             "#f1b6da"
            ],
            [
             0.4,
             "#fde0ef"
            ],
            [
             0.5,
             "#f7f7f7"
            ],
            [
             0.6,
             "#e6f5d0"
            ],
            [
             0.7,
             "#b8e186"
            ],
            [
             0.8,
             "#7fbc41"
            ],
            [
             0.9,
             "#4d9221"
            ],
            [
             1,
             "#276419"
            ]
           ],
           "sequential": [
            [
             0,
             "#0d0887"
            ],
            [
             0.1111111111111111,
             "#46039f"
            ],
            [
             0.2222222222222222,
             "#7201a8"
            ],
            [
             0.3333333333333333,
             "#9c179e"
            ],
            [
             0.4444444444444444,
             "#bd3786"
            ],
            [
             0.5555555555555556,
             "#d8576b"
            ],
            [
             0.6666666666666666,
             "#ed7953"
            ],
            [
             0.7777777777777778,
             "#fb9f3a"
            ],
            [
             0.8888888888888888,
             "#fdca26"
            ],
            [
             1,
             "#f0f921"
            ]
           ],
           "sequentialminus": [
            [
             0,
             "#0d0887"
            ],
            [
             0.1111111111111111,
             "#46039f"
            ],
            [
             0.2222222222222222,
             "#7201a8"
            ],
            [
             0.3333333333333333,
             "#9c179e"
            ],
            [
             0.4444444444444444,
             "#bd3786"
            ],
            [
             0.5555555555555556,
             "#d8576b"
            ],
            [
             0.6666666666666666,
             "#ed7953"
            ],
            [
             0.7777777777777778,
             "#fb9f3a"
            ],
            [
             0.8888888888888888,
             "#fdca26"
            ],
            [
             1,
             "#f0f921"
            ]
           ]
          },
          "colorway": [
           "#636efa",
           "#EF553B",
           "#00cc96",
           "#ab63fa",
           "#FFA15A",
           "#19d3f3",
           "#FF6692",
           "#B6E880",
           "#FF97FF",
           "#FECB52"
          ],
          "font": {
           "color": "#2a3f5f"
          },
          "geo": {
           "bgcolor": "white",
           "lakecolor": "white",
           "landcolor": "#E5ECF6",
           "showlakes": true,
           "showland": true,
           "subunitcolor": "white"
          },
          "hoverlabel": {
           "align": "left"
          },
          "hovermode": "closest",
          "mapbox": {
           "style": "light"
          },
          "paper_bgcolor": "white",
          "plot_bgcolor": "#E5ECF6",
          "polar": {
           "angularaxis": {
            "gridcolor": "white",
            "linecolor": "white",
            "ticks": ""
           },
           "bgcolor": "#E5ECF6",
           "radialaxis": {
            "gridcolor": "white",
            "linecolor": "white",
            "ticks": ""
           }
          },
          "scene": {
           "xaxis": {
            "backgroundcolor": "#E5ECF6",
            "gridcolor": "white",
            "gridwidth": 2,
            "linecolor": "white",
            "showbackground": true,
            "ticks": "",
            "zerolinecolor": "white"
           },
           "yaxis": {
            "backgroundcolor": "#E5ECF6",
            "gridcolor": "white",
            "gridwidth": 2,
            "linecolor": "white",
            "showbackground": true,
            "ticks": "",
            "zerolinecolor": "white"
           },
           "zaxis": {
            "backgroundcolor": "#E5ECF6",
            "gridcolor": "white",
            "gridwidth": 2,
            "linecolor": "white",
            "showbackground": true,
            "ticks": "",
            "zerolinecolor": "white"
           }
          },
          "shapedefaults": {
           "line": {
            "color": "#2a3f5f"
           }
          },
          "ternary": {
           "aaxis": {
            "gridcolor": "white",
            "linecolor": "white",
            "ticks": ""
           },
           "baxis": {
            "gridcolor": "white",
            "linecolor": "white",
            "ticks": ""
           },
           "bgcolor": "#E5ECF6",
           "caxis": {
            "gridcolor": "white",
            "linecolor": "white",
            "ticks": ""
           }
          },
          "title": {
           "x": 0.05
          },
          "xaxis": {
           "automargin": true,
           "gridcolor": "white",
           "linecolor": "white",
           "ticks": "",
           "title": {
            "standoff": 15
           },
           "zerolinecolor": "white",
           "zerolinewidth": 2
          },
          "yaxis": {
           "automargin": true,
           "gridcolor": "white",
           "linecolor": "white",
           "ticks": "",
           "title": {
            "standoff": 15
           },
           "zerolinecolor": "white",
           "zerolinewidth": 2
          }
         }
        },
        "title": {
         "text": "Model/Data Jalisco - deaths",
         "x": 0.5
        },
        "yaxis": {
         "type": "linear"
        }
       }
      },
      "text/html": [
       "<div>\n",
       "        \n",
       "        \n",
       "            <div id=\"d256b2ae-bb4c-4d06-8179-f24561db314c\" class=\"plotly-graph-div\" style=\"height:525px; width:100%;\"></div>\n",
       "            <script type=\"text/javascript\">\n",
       "                require([\"plotly\"], function(Plotly) {\n",
       "                    window.PLOTLYENV=window.PLOTLYENV || {};\n",
       "                    \n",
       "                if (document.getElementById(\"d256b2ae-bb4c-4d06-8179-f24561db314c\")) {\n",
       "                    Plotly.newPlot(\n",
       "                        'd256b2ae-bb4c-4d06-8179-f24561db314c',\n",
       "                        [{\"line\": {\"width\": 2}, \"marker\": {\"size\": 6}, \"mode\": \"lines+markers\", \"name\": \"Deaths Jalisco (Model #5) - as reported\", \"opacity\": 1, \"type\": \"scatter\", \"x\": [\"2020-05-15T00:00:00\", \"2020-05-16T00:00:00\", \"2020-05-17T00:00:00\", \"2020-05-18T00:00:00\", \"2020-05-19T00:00:00\", \"2020-05-20T00:00:00\", \"2020-05-21T00:00:00\", \"2020-05-22T00:00:00\", \"2020-05-23T00:00:00\", \"2020-05-24T00:00:00\", \"2020-05-25T00:00:00\", \"2020-05-26T00:00:00\", \"2020-05-27T00:00:00\", \"2020-05-28T00:00:00\", \"2020-05-29T00:00:00\", \"2020-05-30T00:00:00\", \"2020-05-31T00:00:00\", \"2020-06-01T00:00:00\", \"2020-06-02T00:00:00\", \"2020-06-03T00:00:00\", \"2020-06-04T00:00:00\", \"2020-06-05T00:00:00\", \"2020-06-06T00:00:00\", \"2020-06-07T00:00:00\", \"2020-06-08T00:00:00\", \"2020-06-09T00:00:00\", \"2020-06-10T00:00:00\", \"2020-06-11T00:00:00\", \"2020-06-12T00:00:00\", \"2020-06-13T00:00:00\", \"2020-06-14T00:00:00\", \"2020-06-15T00:00:00\", \"2020-06-16T00:00:00\", \"2020-06-17T00:00:00\", \"2020-06-18T00:00:00\", \"2020-06-19T00:00:00\", \"2020-06-20T00:00:00\", \"2020-06-21T00:00:00\", \"2020-06-22T00:00:00\", \"2020-06-23T00:00:00\", \"2020-06-24T00:00:00\", \"2020-06-25T00:00:00\", \"2020-06-26T00:00:00\", \"2020-06-27T00:00:00\", \"2020-06-28T00:00:00\", \"2020-06-29T00:00:00\", \"2020-06-30T00:00:00\", \"2020-07-01T00:00:00\", \"2020-07-02T00:00:00\", \"2020-07-03T00:00:00\", \"2020-07-04T00:00:00\", \"2020-07-05T00:00:00\", \"2020-07-06T00:00:00\", \"2020-07-07T00:00:00\", \"2020-07-08T00:00:00\", \"2020-07-09T00:00:00\", \"2020-07-10T00:00:00\", \"2020-07-11T00:00:00\", \"2020-07-12T00:00:00\", \"2020-07-13T00:00:00\", \"2020-07-14T00:00:00\", \"2020-07-15T00:00:00\", \"2020-07-16T00:00:00\", \"2020-07-17T00:00:00\", \"2020-07-18T00:00:00\", \"2020-07-19T00:00:00\", \"2020-07-20T00:00:00\", \"2020-07-21T00:00:00\", \"2020-07-22T00:00:00\", \"2020-07-23T00:00:00\", \"2020-07-24T00:00:00\", \"2020-07-25T00:00:00\", \"2020-07-26T00:00:00\", \"2020-07-27T00:00:00\", \"2020-07-28T00:00:00\", \"2020-07-29T00:00:00\", \"2020-07-30T00:00:00\", \"2020-07-31T00:00:00\", \"2020-08-01T00:00:00\", \"2020-08-02T00:00:00\", \"2020-08-03T00:00:00\", \"2020-08-04T00:00:00\", \"2020-08-05T00:00:00\", \"2020-08-06T00:00:00\", \"2020-08-07T00:00:00\", \"2020-08-08T00:00:00\", \"2020-08-09T00:00:00\", \"2020-08-10T00:00:00\", \"2020-08-11T00:00:00\", \"2020-08-12T00:00:00\", \"2020-08-13T00:00:00\", \"2020-08-14T00:00:00\", \"2020-08-15T00:00:00\", \"2020-08-16T00:00:00\", \"2020-08-17T00:00:00\", \"2020-08-18T00:00:00\", \"2020-08-19T00:00:00\", \"2020-08-20T00:00:00\", \"2020-08-21T00:00:00\", \"2020-08-22T00:00:00\", \"2020-08-23T00:00:00\", \"2020-08-24T00:00:00\", \"2020-08-25T00:00:00\", \"2020-08-26T00:00:00\", \"2020-08-27T00:00:00\", \"2020-08-28T00:00:00\", \"2020-08-29T00:00:00\", \"2020-08-30T00:00:00\", \"2020-08-31T00:00:00\", \"2020-09-01T00:00:00\", \"2020-09-02T00:00:00\", \"2020-09-03T00:00:00\", \"2020-09-04T00:00:00\", \"2020-09-05T00:00:00\", \"2020-09-06T00:00:00\", \"2020-09-07T00:00:00\", \"2020-09-08T00:00:00\", \"2020-09-09T00:00:00\", \"2020-09-10T00:00:00\", \"2020-09-11T00:00:00\", \"2020-09-12T00:00:00\", \"2020-09-13T00:00:00\", \"2020-09-14T00:00:00\", \"2020-09-15T00:00:00\", \"2020-09-16T00:00:00\", \"2020-09-17T00:00:00\", \"2020-09-18T00:00:00\", \"2020-09-19T00:00:00\", \"2020-09-20T00:00:00\", \"2020-09-21T00:00:00\", \"2020-09-22T00:00:00\", \"2020-09-23T00:00:00\", \"2020-09-24T00:00:00\", \"2020-09-25T00:00:00\", \"2020-09-26T00:00:00\", \"2020-09-27T00:00:00\", \"2020-09-28T00:00:00\", \"2020-09-29T00:00:00\", \"2020-09-30T00:00:00\", \"2020-10-01T00:00:00\", \"2020-10-02T00:00:00\", \"2020-10-03T00:00:00\", \"2020-10-04T00:00:00\", \"2020-10-05T00:00:00\", \"2020-10-06T00:00:00\", \"2020-10-07T00:00:00\", \"2020-10-08T00:00:00\", \"2020-10-09T00:00:00\", \"2020-10-10T00:00:00\", \"2020-10-11T00:00:00\", \"2020-10-12T00:00:00\", \"2020-10-13T00:00:00\", \"2020-10-14T00:00:00\", \"2020-10-15T00:00:00\", \"2020-10-16T00:00:00\", \"2020-10-17T00:00:00\", \"2020-10-18T00:00:00\", \"2020-10-19T00:00:00\", \"2020-10-20T00:00:00\", \"2020-10-21T00:00:00\", \"2020-10-22T00:00:00\", \"2020-10-23T00:00:00\", \"2020-10-24T00:00:00\", \"2020-10-25T00:00:00\", \"2020-10-26T00:00:00\", \"2020-10-27T00:00:00\", \"2020-10-28T00:00:00\", \"2020-10-29T00:00:00\", \"2020-10-30T00:00:00\", \"2020-10-31T00:00:00\", \"2020-11-01T00:00:00\", \"2020-11-02T00:00:00\", \"2020-11-03T00:00:00\", \"2020-11-04T00:00:00\", \"2020-11-05T00:00:00\", \"2020-11-06T00:00:00\", \"2020-11-07T00:00:00\", \"2020-11-08T00:00:00\", \"2020-11-09T00:00:00\", \"2020-11-10T00:00:00\", \"2020-11-11T00:00:00\", \"2020-11-12T00:00:00\", \"2020-11-13T00:00:00\", \"2020-11-14T00:00:00\", \"2020-11-15T00:00:00\", \"2020-11-16T00:00:00\", \"2020-11-17T00:00:00\", \"2020-11-18T00:00:00\", \"2020-11-19T00:00:00\", \"2020-11-20T00:00:00\", \"2020-11-21T00:00:00\", \"2020-11-22T00:00:00\", \"2020-11-23T00:00:00\", \"2020-11-24T00:00:00\", \"2020-11-25T00:00:00\", \"2020-11-26T00:00:00\", \"2020-11-27T00:00:00\", \"2020-11-28T00:00:00\", \"2020-11-29T00:00:00\", \"2020-11-30T00:00:00\", \"2020-12-01T00:00:00\", \"2020-12-02T00:00:00\", \"2020-12-03T00:00:00\", \"2020-12-04T00:00:00\", \"2020-12-05T00:00:00\", \"2020-12-06T00:00:00\", \"2020-12-07T00:00:00\", \"2020-12-08T00:00:00\", \"2020-12-09T00:00:00\", \"2020-12-10T00:00:00\", \"2020-12-11T00:00:00\", \"2020-12-12T00:00:00\", \"2020-12-13T00:00:00\", \"2020-12-14T00:00:00\", \"2020-12-15T00:00:00\", \"2020-12-16T00:00:00\", \"2020-12-17T00:00:00\", \"2020-12-18T00:00:00\", \"2020-12-19T00:00:00\", \"2020-12-20T00:00:00\", \"2020-12-21T00:00:00\", \"2020-12-22T00:00:00\", \"2020-12-23T00:00:00\", \"2020-12-24T00:00:00\", \"2020-12-25T00:00:00\", \"2020-12-26T00:00:00\", \"2020-12-27T00:00:00\", \"2020-12-28T00:00:00\", \"2020-12-29T00:00:00\", \"2020-12-30T00:00:00\", \"2020-12-31T00:00:00\", \"2021-01-01T00:00:00\", \"2021-01-02T00:00:00\", \"2021-01-03T00:00:00\", \"2021-01-04T00:00:00\", \"2021-01-05T00:00:00\", \"2021-01-06T00:00:00\", \"2021-01-07T00:00:00\", \"2021-01-08T00:00:00\", \"2021-01-09T00:00:00\", \"2021-01-10T00:00:00\", \"2021-01-11T00:00:00\", \"2021-01-12T00:00:00\", \"2021-01-13T00:00:00\", \"2021-01-14T00:00:00\", \"2021-01-15T00:00:00\", \"2021-01-16T00:00:00\", \"2021-01-17T00:00:00\", \"2021-01-18T00:00:00\", \"2021-01-19T00:00:00\"], \"y\": [null, 0.0, 0.7231714285714332, 1.4173336514062953, 2.086688248665709, 2.73497254429563, 3.3655011703595363, 3.98120363338019, 4.584658307795564, 5.178123237564279, 5.763564087145312, 6.3426795471205395, 6.916924467261495, 7.487530960537953, 8.055527695128603, 8.621757567657937, 9.186893929408825, 9.751455517928548, 10.315820229063831, 10.880237848846349, 11.444841850646299, 12.009660350470114, 12.574626302065099, 13.139587003491044, 13.704312977910547, 14.268506283441468, 14.831808299909369, 15.39380703415162, 15.954043980084577, 16.5120205649726, 17.0672042091756, 17.619034023034203, 18.16692616142757, 18.71027885385547, 19.248477125609554, 19.780897223661896, 20.30691075927996, 20.825888578031027, 21.337204366741446, 21.84023800609026, 22.33437867682062, 22.819027727014713, 23.293601307481254, 23.757532782025805, 24.210274919192557, 24.6513018719686, 25.08011095190966, 25.49622420416449, 25.89918978994001, 26.288583183036053, 26.66400818718921, 27.025097781089357, 27.371514798053227, 27.70295244746569, 28.019134685215363, 28.319816440450154, 28.604783706071203, 28.873853500447353, 29.126873707884897, 29.36372280540718, 29.584309483404695, 29.78857216768938, 29.976478450440027, 30.148024437457025, 30.3032340190407, 30.442158071695985, 30.56487359771927, 30.671482809565305, 30.76211216570573, 30.836911364493517, 30.896052302334283, 30.939728002226502, 30.968151518502964, 30.981554823335273, 30.980187680314884, 30.964316510143362, 30.934223253190567, 30.890204233402983, 30.832569027753152, 30.761639345146705, 30.67774791841134, 30.581237412718792, 30.47245935350452, 30.35177307668482, 30.219544703694964, 30.076146143616597, 29.921954124402873, 29.757349254968176, 29.58271511966882, 29.398437406475068, 29.204903069913826, 29.002499529657143, 28.791613905431404, 28.572632288734894, 28.345939051681853, 28.11191619311421, 27.870942721984193, 27.62339407785248, 27.369641588227296, 27.11005196234146, 26.8449868208545, 26.574802260864544, 26.29984845553554, 26.02046928754362, 25.73700201549036, 25.449776972367545, 25.15911729508889, 24.86533868407605, 24.568749191835195, 24.269649039430078, 23.968330459739718, 23.665077566361106, 23.360166247010966, 23.05386408027198, 22.746430274528393, 22.438115627931893, 22.129162508261288, 21.819804851529625, 21.510268178229126, 21.200769626106194, 20.891517998385098, 20.5827138263885, 20.274549445518005, 19.967209083592934, 19.66086896057277, 19.35569739872426, 19.05185494231364, 18.749494485953164, 18.44876141075474, 18.149793727479846, 17.852722225912203, 17.557670629707445, 17.264755756021714, 16.974087679237982, 16.685769898159833, 16.39989950606605, 16.11656736305622, 15.83585827015122, 15.557851144640608, 15.282619196207179, 15.010230103382582, 14.740746189920173, 14.474224600705838, 14.210717476841182, 13.95027212957848, 13.692931212796339, 13.438732893743236, 13.187711021790165, 12.939895294960024, 12.695311424028205, 12.453981293998822, 12.215923122794266, 11.981151616998432, 11.749678124532693, 11.521510784135899, 11.296654671562465, 11.075111942399872, 10.856881971446, 10.641961488584002, 10.430344711110138, 10.222023472482306, 10.016987347466056, 9.815223773668095, 9.616718169448632, 9.421454048227588, 9.22941312918465, 9.04057544439138, 8.854919442384016, 8.672422088228814, 8.493058960103554, 8.316804342448904, 8.143631315738276, 7.9735118429130125, 7.8064168525443165, 7.642316318779649, 7.481179338137736, 7.322974203214017, 7.1676684733661205, 7.015229042444844, 6.865622203647945, 6.718813711554503, 6.574768841429432, 6.433452445852254, 6.294829008759734, 6.158862696964661, 6.025517409228996, 5.894756822962336, 5.766544438620713, 5.640843621878048, 5.517617643636186, 5.396829717954006, 5.278443037958823, 5.162420809810101, 5.04872628478779, 4.9373227895653145, 4.828173754742238, 4.721242741688457, 4.616493467780401, 4.5138898300729124, 4.413395927480451, 4.314976081523582, 4.218594855692572, 4.124217073494492, 4.031807835230666, 3.941332533559944, 3.8527568679028263, 3.7660468577323627, 3.6811688548036727, 3.5980895543680163, 3.516776005418251, 3.4371956200116074, 3.3593161817098007, 3.283105853179677, 3.2085331829957795, 3.135567111683031, 3.064176977036823, 2.994332518756437, 2.9260038824277217, 2.859161622890497, 2.7937767070170594, 2.7298205159395366, 2.6672648467560975, 2.606081913736034, 2.5462443490650912, 2.4877252031460557, 2.4304979444855235, 2.374536459193223, 2.3198150501107193, 2.266308435599967, 2.213991748006265, 2.1628405318238038, 2.112830741574271, 2.0639387394257938, 2.016141292566772, 1.969415570350975, 1.9237391412311808, 1.8790899695004555, 1.835446411848352, 1.7927872137533996, 1.751091505725526, 1.7103387994020522, 1.670508983524087, 1.6315823197915051, 1.5935394386160624, 1.556361334779922, 1.5200293630109627, 1.4845252334821453, 1.4498310072463028, 1.415929091614089, 1.3828022354823588]}, {\"line\": {\"width\": 2}, \"marker\": {\"size\": 6}, \"mode\": \"lines+markers\", \"name\": \"Deaths Jalisco (Model #5) - as occurred\", \"opacity\": 1, \"type\": \"scatter\", \"x\": [\"2020-05-15T00:00:00\", \"2020-05-16T00:00:00\", \"2020-05-17T00:00:00\", \"2020-05-18T00:00:00\", \"2020-05-19T00:00:00\", \"2020-05-20T00:00:00\", \"2020-05-21T00:00:00\", \"2020-05-22T00:00:00\", \"2020-05-23T00:00:00\", \"2020-05-24T00:00:00\", \"2020-05-25T00:00:00\", \"2020-05-26T00:00:00\", \"2020-05-27T00:00:00\", \"2020-05-28T00:00:00\", \"2020-05-29T00:00:00\", \"2020-05-30T00:00:00\", \"2020-05-31T00:00:00\", \"2020-06-01T00:00:00\", \"2020-06-02T00:00:00\", \"2020-06-03T00:00:00\", \"2020-06-04T00:00:00\", \"2020-06-05T00:00:00\", \"2020-06-06T00:00:00\", \"2020-06-07T00:00:00\", \"2020-06-08T00:00:00\", \"2020-06-09T00:00:00\", \"2020-06-10T00:00:00\", \"2020-06-11T00:00:00\", \"2020-06-12T00:00:00\", \"2020-06-13T00:00:00\", \"2020-06-14T00:00:00\", \"2020-06-15T00:00:00\", \"2020-06-16T00:00:00\", \"2020-06-17T00:00:00\", \"2020-06-18T00:00:00\", \"2020-06-19T00:00:00\", \"2020-06-20T00:00:00\", \"2020-06-21T00:00:00\", \"2020-06-22T00:00:00\", \"2020-06-23T00:00:00\", \"2020-06-24T00:00:00\", \"2020-06-25T00:00:00\", \"2020-06-26T00:00:00\", \"2020-06-27T00:00:00\", \"2020-06-28T00:00:00\", \"2020-06-29T00:00:00\", \"2020-06-30T00:00:00\", \"2020-07-01T00:00:00\", \"2020-07-02T00:00:00\", \"2020-07-03T00:00:00\", \"2020-07-04T00:00:00\", \"2020-07-05T00:00:00\", \"2020-07-06T00:00:00\", \"2020-07-07T00:00:00\", \"2020-07-08T00:00:00\", \"2020-07-09T00:00:00\", \"2020-07-10T00:00:00\", \"2020-07-11T00:00:00\", \"2020-07-12T00:00:00\", \"2020-07-13T00:00:00\", \"2020-07-14T00:00:00\", \"2020-07-15T00:00:00\", \"2020-07-16T00:00:00\", \"2020-07-17T00:00:00\", \"2020-07-18T00:00:00\", \"2020-07-19T00:00:00\", \"2020-07-20T00:00:00\", \"2020-07-21T00:00:00\", \"2020-07-22T00:00:00\", \"2020-07-23T00:00:00\", \"2020-07-24T00:00:00\", \"2020-07-25T00:00:00\", \"2020-07-26T00:00:00\", \"2020-07-27T00:00:00\", \"2020-07-28T00:00:00\", \"2020-07-29T00:00:00\", \"2020-07-30T00:00:00\", \"2020-07-31T00:00:00\", \"2020-08-01T00:00:00\", \"2020-08-02T00:00:00\", \"2020-08-03T00:00:00\", \"2020-08-04T00:00:00\", \"2020-08-05T00:00:00\", \"2020-08-06T00:00:00\", \"2020-08-07T00:00:00\", \"2020-08-08T00:00:00\", \"2020-08-09T00:00:00\", \"2020-08-10T00:00:00\", \"2020-08-11T00:00:00\", \"2020-08-12T00:00:00\", \"2020-08-13T00:00:00\", \"2020-08-14T00:00:00\", \"2020-08-15T00:00:00\", \"2020-08-16T00:00:00\", \"2020-08-17T00:00:00\", \"2020-08-18T00:00:00\", \"2020-08-19T00:00:00\", \"2020-08-20T00:00:00\", \"2020-08-21T00:00:00\", \"2020-08-22T00:00:00\", \"2020-08-23T00:00:00\", \"2020-08-24T00:00:00\", \"2020-08-25T00:00:00\", \"2020-08-26T00:00:00\", \"2020-08-27T00:00:00\", \"2020-08-28T00:00:00\", \"2020-08-29T00:00:00\", \"2020-08-30T00:00:00\", \"2020-08-31T00:00:00\", \"2020-09-01T00:00:00\", \"2020-09-02T00:00:00\", \"2020-09-03T00:00:00\", \"2020-09-04T00:00:00\", \"2020-09-05T00:00:00\", \"2020-09-06T00:00:00\", \"2020-09-07T00:00:00\", \"2020-09-08T00:00:00\", \"2020-09-09T00:00:00\", \"2020-09-10T00:00:00\", \"2020-09-11T00:00:00\", \"2020-09-12T00:00:00\", \"2020-09-13T00:00:00\", \"2020-09-14T00:00:00\", \"2020-09-15T00:00:00\", \"2020-09-16T00:00:00\", \"2020-09-17T00:00:00\", \"2020-09-18T00:00:00\", \"2020-09-19T00:00:00\", \"2020-09-20T00:00:00\", \"2020-09-21T00:00:00\", \"2020-09-22T00:00:00\", \"2020-09-23T00:00:00\", \"2020-09-24T00:00:00\", \"2020-09-25T00:00:00\", \"2020-09-26T00:00:00\", \"2020-09-27T00:00:00\", \"2020-09-28T00:00:00\", \"2020-09-29T00:00:00\", \"2020-09-30T00:00:00\", \"2020-10-01T00:00:00\", \"2020-10-02T00:00:00\", \"2020-10-03T00:00:00\", \"2020-10-04T00:00:00\", \"2020-10-05T00:00:00\", \"2020-10-06T00:00:00\", \"2020-10-07T00:00:00\", \"2020-10-08T00:00:00\", \"2020-10-09T00:00:00\", \"2020-10-10T00:00:00\", \"2020-10-11T00:00:00\", \"2020-10-12T00:00:00\", \"2020-10-13T00:00:00\", \"2020-10-14T00:00:00\", \"2020-10-15T00:00:00\", \"2020-10-16T00:00:00\", \"2020-10-17T00:00:00\", \"2020-10-18T00:00:00\", \"2020-10-19T00:00:00\", \"2020-10-20T00:00:00\", \"2020-10-21T00:00:00\", \"2020-10-22T00:00:00\", \"2020-10-23T00:00:00\", \"2020-10-24T00:00:00\", \"2020-10-25T00:00:00\", \"2020-10-26T00:00:00\", \"2020-10-27T00:00:00\", \"2020-10-28T00:00:00\", \"2020-10-29T00:00:00\", \"2020-10-30T00:00:00\", \"2020-10-31T00:00:00\", \"2020-11-01T00:00:00\", \"2020-11-02T00:00:00\", \"2020-11-03T00:00:00\", \"2020-11-04T00:00:00\", \"2020-11-05T00:00:00\", \"2020-11-06T00:00:00\", \"2020-11-07T00:00:00\", \"2020-11-08T00:00:00\", \"2020-11-09T00:00:00\", \"2020-11-10T00:00:00\", \"2020-11-11T00:00:00\", \"2020-11-12T00:00:00\", \"2020-11-13T00:00:00\", \"2020-11-14T00:00:00\", \"2020-11-15T00:00:00\", \"2020-11-16T00:00:00\", \"2020-11-17T00:00:00\", \"2020-11-18T00:00:00\", \"2020-11-19T00:00:00\", \"2020-11-20T00:00:00\", \"2020-11-21T00:00:00\", \"2020-11-22T00:00:00\", \"2020-11-23T00:00:00\", \"2020-11-24T00:00:00\", \"2020-11-25T00:00:00\", \"2020-11-26T00:00:00\", \"2020-11-27T00:00:00\", \"2020-11-28T00:00:00\", \"2020-11-29T00:00:00\", \"2020-11-30T00:00:00\", \"2020-12-01T00:00:00\", \"2020-12-02T00:00:00\", \"2020-12-03T00:00:00\", \"2020-12-04T00:00:00\", \"2020-12-05T00:00:00\", \"2020-12-06T00:00:00\", \"2020-12-07T00:00:00\", \"2020-12-08T00:00:00\", \"2020-12-09T00:00:00\", \"2020-12-10T00:00:00\", \"2020-12-11T00:00:00\", \"2020-12-12T00:00:00\", \"2020-12-13T00:00:00\", \"2020-12-14T00:00:00\", \"2020-12-15T00:00:00\", \"2020-12-16T00:00:00\", \"2020-12-17T00:00:00\", \"2020-12-18T00:00:00\", \"2020-12-19T00:00:00\", \"2020-12-20T00:00:00\", \"2020-12-21T00:00:00\", \"2020-12-22T00:00:00\", \"2020-12-23T00:00:00\", \"2020-12-24T00:00:00\", \"2020-12-25T00:00:00\", \"2020-12-26T00:00:00\", \"2020-12-27T00:00:00\", \"2020-12-28T00:00:00\", \"2020-12-29T00:00:00\", \"2020-12-30T00:00:00\", \"2020-12-31T00:00:00\", \"2021-01-01T00:00:00\", \"2021-01-02T00:00:00\", \"2021-01-03T00:00:00\", \"2021-01-04T00:00:00\", \"2021-01-05T00:00:00\", \"2021-01-06T00:00:00\", \"2021-01-07T00:00:00\", \"2021-01-08T00:00:00\", \"2021-01-09T00:00:00\", \"2021-01-10T00:00:00\", \"2021-01-11T00:00:00\", \"2021-01-12T00:00:00\", \"2021-01-13T00:00:00\", \"2021-01-14T00:00:00\", \"2021-01-15T00:00:00\", \"2021-01-16T00:00:00\", \"2021-01-17T00:00:00\", \"2021-01-18T00:00:00\", \"2021-01-19T00:00:00\"], \"y\": [null, 0.0, 1.2342857142857184, 2.392530905146117, 3.482794731584363, 4.512278236662567, 5.487409507943411, 6.413920475009775, 7.296916177610328, 8.140937254056098, 8.950016324014626, 9.727728871968964, 10.477239176567622, 11.201341776204856, 11.902498911821823, 12.582874343550628, 13.244363897939934, 13.888623066645636, 14.51709194524608, 15.13101777187461, 15.731475299332544, 16.31938521095168, 16.895530769452478, 17.4605728691551, 18.01506364492502, 18.559458775983728, 19.09412860901017, 19.619368212645952, 20.135406464450682, 20.64241426141399, 21.14051193619497, 21.629775953230194, 22.110244951637526, 22.581925195352767, 23.044795485108978, 23.49881158162134, 23.943910184627498, 24.38001250819127, 24.80702748886017, 25.22485465983516, 25.633386721213924, 26.032511833589638, 26.42211565977334, 26.80208317714778, 27.172300281120215, 27.53265519830211, 27.883039726378456, 28.223350316131473, 28.553489009725467, 28.8733642481277, 29.18289155943512, 29.481994138862774, 29.770603330239965, 30.04865901803055, 30.31610993813706, 30.572913915070103, 30.81903803243017, 31.0544587430918, 31.279161924952177, 31.49314288763844, 31.696406335131314, 31.888966288866868, 32.07084597551784, 32.2420776833153, 32.402702590474064, 32.552770568997175, 32.69233996687649, 32.821477371468745, 32.94025735660557, 33.048762215792294, 33.147081683657916, 33.23531264765097, 33.31355885181097, 33.38193059429068, 33.44054442017614, 33.48952281100992, 33.52899387231423, 33.55909102028795, 33.579952668758324, 33.591721917363884, 33.59454624185628, 33.58857718732929, 33.57397006509814, 33.5508836538861, 33.51947990590156, 33.47992365833079, 33.432382350706575, 33.377025748566666, 33.31402567375244, 33.24355574166657, 33.165791105743665, 33.08090820937241, 32.98908454544289, 32.89049842367422, 32.78532874584562, 32.673754789007035, 32.5559559967387, 32.432111778484796, 32.30240131697883, 32.16700338373494, 32.02609616258633, 31.879857081207774, 31.72846265055705, 31.572088312153028, 31.41090829308814, 31.245095468666022, 31.07482123254431, 30.900255374241624, 30.721565963877765, 30.538919243988857, 30.352479528262393, 30.162409107033, 29.968868159362955, 29.772014671539637, 29.572004361816198, 29.368990611203117, 29.163124400145534, 28.954554250887668, 28.74342617534876, 28.529883628318203, 28.314067465793414, 28.096115908262163, 27.876164508754755, 27.654346125480515, 27.430790898862142, 27.205626232791474, 26.97897677992978, 26.750964430871136, 26.521708307001518, 26.291324756881295, 26.059927355979653, 25.827626909605897, 25.59453145886846, 25.36074628950746, 25.12637394344847, 24.89151423292742, 24.656264257035673, 24.42071842055293, 24.184968454918817, 23.949103441217176, 23.71320983503756, 23.477371493089777, 23.241669701452338, 23.006183205327943, 22.770988240202314, 22.53615856428769, 22.301765492150025, 22.067877929416227, 21.834562408459533, 21.601883124975302, 21.36990197534851, 21.13867859473521, 20.908270395762884, 20.678732607781967, 20.450118316582575, 20.222478504510036, 19.99586209090512, 19.770315972808476, 19.545885065859693, 19.322612345335983, 19.100538887270886, 18.87970390960345, 18.660144813305124, 18.441897223427077, 18.22499503004201, 18.009470429022258, 17.79535396261781, 17.58267455979876, 17.371459576324924, 17.1617348345153, 16.953524662672862, 16.74685193415644, 16.541738106052435, 16.338203257436362, 16.136266127197814, 15.93594415140251, 15.737253500183215, 15.5402091141259, 15.34482474016113, 15.151112966913388, 14.959085259524727, 14.768751993929072, 14.580122490559006, 14.39320504749685, 14.208006973044576, 14.024534617711652, 13.842793405619886, 13.662787865317114, 13.484521659993334, 13.307997617109322, 13.133217757415878, 12.960183323384626, 12.788894807039469, 12.619351977183214, 12.451553906042136, 12.285498995304806, 12.121185001577942, 11.95860906125381, 11.797767714793736, 11.638656930434081, 11.481272127319244, 11.32560819806531, 11.171659530762554, 11.019420030418587, 10.868883139856734, 10.720041860065066, 10.572888770012469, 10.427416045938116, 10.283615480110711, 10.141478499085679, 10.000996181443952, 9.86215927503963, 9.724958213759237, 9.589383133789852, 9.45542388942522, 9.3230700683971, 9.192311006756427, 9.06313580330061, 8.935533333567946, 8.809492263393622, 8.685001062049196, 8.562048014964603, 8.440621236048173, 8.320708679606469, 8.202298151879404, 8.085377322190652, 7.969933733735161, 7.855954813993776, 7.743427884804078, 7.632340172073782, 7.522678815168547, 7.414430875955986, 7.307583347543186, 7.2021231626858935, 7.098037201899388, 6.995312301272861, 6.893935259985483, 6.793892847545067, 6.695171810751162, 6.597758880383481, 6.501640777637476, 6.40680422029709, 6.313235928668291, 6.2209226312643295, 6.129851070262703, 6.040008006734752, 5.951380225646972, 5.863954540660416, 5.777717798708181, 5.692656884381904]}],\n",
       "                        {\"legend\": {\"bgcolor\": \"rgba(0,0,0,0)\", \"font\": {\"family\": \"sans-serif\", \"size\": 14}, \"traceorder\": \"normal\", \"x\": 0.6, \"y\": 0.95}, \"showlegend\": true, \"template\": {\"data\": {\"bar\": [{\"error_x\": {\"color\": \"#2a3f5f\"}, \"error_y\": {\"color\": \"#2a3f5f\"}, \"marker\": {\"line\": {\"color\": \"#E5ECF6\", \"width\": 0.5}}, \"type\": \"bar\"}], \"barpolar\": [{\"marker\": {\"line\": {\"color\": \"#E5ECF6\", \"width\": 0.5}}, \"type\": \"barpolar\"}], \"carpet\": [{\"aaxis\": {\"endlinecolor\": \"#2a3f5f\", \"gridcolor\": \"white\", \"linecolor\": \"white\", \"minorgridcolor\": \"white\", \"startlinecolor\": \"#2a3f5f\"}, \"baxis\": {\"endlinecolor\": \"#2a3f5f\", \"gridcolor\": \"white\", \"linecolor\": \"white\", \"minorgridcolor\": \"white\", \"startlinecolor\": \"#2a3f5f\"}, \"type\": \"carpet\"}], \"choropleth\": [{\"colorbar\": {\"outlinewidth\": 0, \"ticks\": \"\"}, \"type\": \"choropleth\"}], \"contour\": [{\"colorbar\": {\"outlinewidth\": 0, \"ticks\": \"\"}, \"colorscale\": [[0.0, \"#0d0887\"], [0.1111111111111111, \"#46039f\"], [0.2222222222222222, \"#7201a8\"], [0.3333333333333333, \"#9c179e\"], [0.4444444444444444, \"#bd3786\"], [0.5555555555555556, \"#d8576b\"], [0.6666666666666666, \"#ed7953\"], [0.7777777777777778, \"#fb9f3a\"], [0.8888888888888888, \"#fdca26\"], [1.0, \"#f0f921\"]], \"type\": \"contour\"}], \"contourcarpet\": [{\"colorbar\": {\"outlinewidth\": 0, \"ticks\": \"\"}, \"type\": \"contourcarpet\"}], \"heatmap\": [{\"colorbar\": {\"outlinewidth\": 0, \"ticks\": \"\"}, \"colorscale\": [[0.0, \"#0d0887\"], [0.1111111111111111, \"#46039f\"], [0.2222222222222222, \"#7201a8\"], [0.3333333333333333, \"#9c179e\"], [0.4444444444444444, \"#bd3786\"], [0.5555555555555556, \"#d8576b\"], [0.6666666666666666, \"#ed7953\"], [0.7777777777777778, \"#fb9f3a\"], [0.8888888888888888, \"#fdca26\"], [1.0, \"#f0f921\"]], \"type\": \"heatmap\"}], \"heatmapgl\": [{\"colorbar\": {\"outlinewidth\": 0, \"ticks\": \"\"}, \"colorscale\": [[0.0, \"#0d0887\"], [0.1111111111111111, \"#46039f\"], [0.2222222222222222, \"#7201a8\"], [0.3333333333333333, \"#9c179e\"], [0.4444444444444444, \"#bd3786\"], [0.5555555555555556, \"#d8576b\"], [0.6666666666666666, \"#ed7953\"], [0.7777777777777778, \"#fb9f3a\"], [0.8888888888888888, \"#fdca26\"], [1.0, \"#f0f921\"]], \"type\": \"heatmapgl\"}], \"histogram\": [{\"marker\": {\"colorbar\": {\"outlinewidth\": 0, \"ticks\": \"\"}}, \"type\": \"histogram\"}], \"histogram2d\": [{\"colorbar\": {\"outlinewidth\": 0, \"ticks\": \"\"}, \"colorscale\": [[0.0, \"#0d0887\"], [0.1111111111111111, \"#46039f\"], [0.2222222222222222, \"#7201a8\"], [0.3333333333333333, \"#9c179e\"], [0.4444444444444444, \"#bd3786\"], [0.5555555555555556, \"#d8576b\"], [0.6666666666666666, \"#ed7953\"], [0.7777777777777778, \"#fb9f3a\"], [0.8888888888888888, \"#fdca26\"], [1.0, \"#f0f921\"]], \"type\": \"histogram2d\"}], \"histogram2dcontour\": [{\"colorbar\": {\"outlinewidth\": 0, \"ticks\": \"\"}, \"colorscale\": [[0.0, \"#0d0887\"], [0.1111111111111111, \"#46039f\"], [0.2222222222222222, \"#7201a8\"], [0.3333333333333333, \"#9c179e\"], [0.4444444444444444, \"#bd3786\"], [0.5555555555555556, \"#d8576b\"], [0.6666666666666666, \"#ed7953\"], [0.7777777777777778, \"#fb9f3a\"], [0.8888888888888888, \"#fdca26\"], [1.0, \"#f0f921\"]], \"type\": \"histogram2dcontour\"}], \"mesh3d\": [{\"colorbar\": {\"outlinewidth\": 0, \"ticks\": \"\"}, \"type\": \"mesh3d\"}], \"parcoords\": [{\"line\": {\"colorbar\": {\"outlinewidth\": 0, \"ticks\": \"\"}}, \"type\": \"parcoords\"}], \"pie\": [{\"automargin\": true, \"type\": \"pie\"}], \"scatter\": [{\"marker\": {\"colorbar\": {\"outlinewidth\": 0, \"ticks\": \"\"}}, \"type\": \"scatter\"}], \"scatter3d\": [{\"line\": {\"colorbar\": {\"outlinewidth\": 0, \"ticks\": \"\"}}, \"marker\": {\"colorbar\": {\"outlinewidth\": 0, \"ticks\": \"\"}}, \"type\": \"scatter3d\"}], \"scattercarpet\": [{\"marker\": {\"colorbar\": {\"outlinewidth\": 0, \"ticks\": \"\"}}, \"type\": \"scattercarpet\"}], \"scattergeo\": [{\"marker\": {\"colorbar\": {\"outlinewidth\": 0, \"ticks\": \"\"}}, \"type\": \"scattergeo\"}], \"scattergl\": [{\"marker\": {\"colorbar\": {\"outlinewidth\": 0, \"ticks\": \"\"}}, \"type\": \"scattergl\"}], \"scattermapbox\": [{\"marker\": {\"colorbar\": {\"outlinewidth\": 0, \"ticks\": \"\"}}, \"type\": \"scattermapbox\"}], \"scatterpolar\": [{\"marker\": {\"colorbar\": {\"outlinewidth\": 0, \"ticks\": \"\"}}, \"type\": \"scatterpolar\"}], \"scatterpolargl\": [{\"marker\": {\"colorbar\": {\"outlinewidth\": 0, \"ticks\": \"\"}}, \"type\": \"scatterpolargl\"}], \"scatterternary\": [{\"marker\": {\"colorbar\": {\"outlinewidth\": 0, \"ticks\": \"\"}}, \"type\": \"scatterternary\"}], \"surface\": [{\"colorbar\": {\"outlinewidth\": 0, \"ticks\": \"\"}, \"colorscale\": [[0.0, \"#0d0887\"], [0.1111111111111111, \"#46039f\"], [0.2222222222222222, \"#7201a8\"], [0.3333333333333333, \"#9c179e\"], [0.4444444444444444, \"#bd3786\"], [0.5555555555555556, \"#d8576b\"], [0.6666666666666666, \"#ed7953\"], [0.7777777777777778, \"#fb9f3a\"], [0.8888888888888888, \"#fdca26\"], [1.0, \"#f0f921\"]], \"type\": \"surface\"}], \"table\": [{\"cells\": {\"fill\": {\"color\": \"#EBF0F8\"}, \"line\": {\"color\": \"white\"}}, \"header\": {\"fill\": {\"color\": \"#C8D4E3\"}, \"line\": {\"color\": \"white\"}}, \"type\": \"table\"}]}, \"layout\": {\"annotationdefaults\": {\"arrowcolor\": \"#2a3f5f\", \"arrowhead\": 0, \"arrowwidth\": 1}, \"coloraxis\": {\"colorbar\": {\"outlinewidth\": 0, \"ticks\": \"\"}}, \"colorscale\": {\"diverging\": [[0, \"#8e0152\"], [0.1, \"#c51b7d\"], [0.2, \"#de77ae\"], [0.3, \"#f1b6da\"], [0.4, \"#fde0ef\"], [0.5, \"#f7f7f7\"], [0.6, \"#e6f5d0\"], [0.7, \"#b8e186\"], [0.8, \"#7fbc41\"], [0.9, \"#4d9221\"], [1, \"#276419\"]], \"sequential\": [[0.0, \"#0d0887\"], [0.1111111111111111, \"#46039f\"], [0.2222222222222222, \"#7201a8\"], [0.3333333333333333, \"#9c179e\"], [0.4444444444444444, \"#bd3786\"], [0.5555555555555556, \"#d8576b\"], [0.6666666666666666, \"#ed7953\"], [0.7777777777777778, \"#fb9f3a\"], [0.8888888888888888, \"#fdca26\"], [1.0, \"#f0f921\"]], \"sequentialminus\": [[0.0, \"#0d0887\"], [0.1111111111111111, \"#46039f\"], [0.2222222222222222, \"#7201a8\"], [0.3333333333333333, \"#9c179e\"], [0.4444444444444444, \"#bd3786\"], [0.5555555555555556, \"#d8576b\"], [0.6666666666666666, \"#ed7953\"], [0.7777777777777778, \"#fb9f3a\"], [0.8888888888888888, \"#fdca26\"], [1.0, \"#f0f921\"]]}, \"colorway\": [\"#636efa\", \"#EF553B\", \"#00cc96\", \"#ab63fa\", \"#FFA15A\", \"#19d3f3\", \"#FF6692\", \"#B6E880\", \"#FF97FF\", \"#FECB52\"], \"font\": {\"color\": \"#2a3f5f\"}, \"geo\": {\"bgcolor\": \"white\", \"lakecolor\": \"white\", \"landcolor\": \"#E5ECF6\", \"showlakes\": true, \"showland\": true, \"subunitcolor\": \"white\"}, \"hoverlabel\": {\"align\": \"left\"}, \"hovermode\": \"closest\", \"mapbox\": {\"style\": \"light\"}, \"paper_bgcolor\": \"white\", \"plot_bgcolor\": \"#E5ECF6\", \"polar\": {\"angularaxis\": {\"gridcolor\": \"white\", \"linecolor\": \"white\", \"ticks\": \"\"}, \"bgcolor\": \"#E5ECF6\", \"radialaxis\": {\"gridcolor\": \"white\", \"linecolor\": \"white\", \"ticks\": \"\"}}, \"scene\": {\"xaxis\": {\"backgroundcolor\": \"#E5ECF6\", \"gridcolor\": \"white\", \"gridwidth\": 2, \"linecolor\": \"white\", \"showbackground\": true, \"ticks\": \"\", \"zerolinecolor\": \"white\"}, \"yaxis\": {\"backgroundcolor\": \"#E5ECF6\", \"gridcolor\": \"white\", \"gridwidth\": 2, \"linecolor\": \"white\", \"showbackground\": true, \"ticks\": \"\", \"zerolinecolor\": \"white\"}, \"zaxis\": {\"backgroundcolor\": \"#E5ECF6\", \"gridcolor\": \"white\", \"gridwidth\": 2, \"linecolor\": \"white\", \"showbackground\": true, \"ticks\": \"\", \"zerolinecolor\": \"white\"}}, \"shapedefaults\": {\"line\": {\"color\": \"#2a3f5f\"}}, \"ternary\": {\"aaxis\": {\"gridcolor\": \"white\", \"linecolor\": \"white\", \"ticks\": \"\"}, \"baxis\": {\"gridcolor\": \"white\", \"linecolor\": \"white\", \"ticks\": \"\"}, \"bgcolor\": \"#E5ECF6\", \"caxis\": {\"gridcolor\": \"white\", \"linecolor\": \"white\", \"ticks\": \"\"}}, \"title\": {\"x\": 0.05}, \"xaxis\": {\"automargin\": true, \"gridcolor\": \"white\", \"linecolor\": \"white\", \"ticks\": \"\", \"title\": {\"standoff\": 15}, \"zerolinecolor\": \"white\", \"zerolinewidth\": 2}, \"yaxis\": {\"automargin\": true, \"gridcolor\": \"white\", \"linecolor\": \"white\", \"ticks\": \"\", \"title\": {\"standoff\": 15}, \"zerolinecolor\": \"white\", \"zerolinewidth\": 2}}}, \"title\": {\"text\": \"Model/Data Jalisco - deaths\", \"x\": 0.5}, \"yaxis\": {\"type\": \"linear\"}},\n",
       "                        {\"responsive\": true}\n",
       "                    ).then(function(){\n",
       "                            \n",
       "var gd = document.getElementById('d256b2ae-bb4c-4d06-8179-f24561db314c');\n",
       "var x = new MutationObserver(function (mutations, observer) {{\n",
       "        var display = window.getComputedStyle(gd).display;\n",
       "        if (!display || display === 'none') {{\n",
       "            console.log([gd, 'removed!']);\n",
       "            Plotly.purge(gd);\n",
       "            observer.disconnect();\n",
       "        }}\n",
       "}});\n",
       "\n",
       "// Listen for the removal of the full notebook cells\n",
       "var notebookContainer = gd.closest('#notebook-container');\n",
       "if (notebookContainer) {{\n",
       "    x.observe(notebookContainer, {childList: true});\n",
       "}}\n",
       "\n",
       "// Listen for the clearing of the current output cell\n",
       "var outputEl = gd.closest('.output');\n",
       "if (outputEl) {{\n",
       "    x.observe(outputEl, {childList: true});\n",
       "}}\n",
       "\n",
       "                        })\n",
       "                };\n",
       "                });\n",
       "            </script>\n",
       "        </div>"
      ]
     },
     "metadata": {},
     "output_type": "display_data"
    }
   ],
   "source": [
    "tbound = 250\n",
    "fig = go.Figure()\n",
    "\n",
    "\n",
    "fig.add_trace(go.Scatter(\n",
    "    x=df6[df6.time<tbound]['date'],\n",
    "    y=df6[df6.time<tbound]['Deaths'].diff(),\n",
    "    name='Deaths Jalisco (Model #5) - as reported',\n",
    "    mode='lines+markers',line_width=2,marker_size=6,opacity=1))\n",
    "\n",
    "\n",
    "fig.add_trace(go.Scatter(\n",
    "    x=df5[df5.time<tbound]['date'],\n",
    "    y=df5[df5.time<tbound]['Deaths'].diff(),\n",
    "    name='Deaths Jalisco (Model #5) - as occurred',\n",
    "    mode='lines+markers',line_width=2,marker_size=6,opacity=1))\n",
    "\n",
    "fig.update_layout(\n",
    "    title=\"Model/Data Jalisco - deaths\",\n",
    "    title_x=0.5,showlegend=True,yaxis = {'type': 'linear'},\n",
    "    legend=dict(\n",
    "            x=0.60,y=0.95,\n",
    "            traceorder=\"normal\",font=dict(family=\"sans-serif\",size=14),bgcolor='rgba(0,0,0,0)'),)\n",
    "\n",
    "fig.show()"
   ]
  },
  {
   "cell_type": "code",
   "execution_count": 391,
   "metadata": {},
   "outputs": [],
   "source": [
    "# Estimation - Method 2 - deaths as reported\n",
    "\n",
    "mx11 = df[(df['Cases_Mexico']>=100) & (df['date']<='2020-08-31')].reset_index()\n",
    "\n",
    "# (1) Set up parameters\n",
    "γ = 1/7 # 10 days while infectious\n",
    "\n",
    "# (2) Get growth rate for infections\n",
    "t        = len(mx11)\n",
    "inf      = np.empty([t,2])\n",
    "inf[0,0] = mx11['Cases_Mexico'].loc[0]\n",
    "for i in range(1,t):\n",
    "    new_cases = mx11['Cases_Mexico'].loc[i]-mx11['Cases_Mexico'].loc[i-1]\n",
    "    #inf[i,0] =  inf[i-1,0] + new_cases\n",
    "    inf[i,0] =  (1-γ)*inf[i-1,0] + new_cases\n",
    "    inf[i,1] =  (inf[i,0]-inf[i-1,0])/inf[i-1,0]\n",
    "inf[0,1] = inf[1,1]\n",
    "\n",
    "# (3) Load estimator\n",
    "%run -i 'Rt_estimator.py'\n",
    "\n",
    "# (4) Apply estimator\n",
    "x = inf[0:len(inf),1]\n",
    "res = estimate_R(x, gamma = γ)\n",
    "\n",
    "mx11['Rt_est'] = res['R']\n",
    "mx11['se_R'] = res['se_R']\n",
    "\n",
    "#5 (5) Confidence intervals\n",
    "aa = 0.35\n",
    "t_crit = scipy.stats.norm.ppf(1 - aa / 2)\n",
    "mx11['ci_pos'] = mx11['Rt_est'] + t_crit * mx11['se_R']\n",
    "mx11['ci_neg'] = mx11['Rt_est'] - t_crit * mx11['se_R']"
   ]
  },
  {
   "cell_type": "code",
   "execution_count": 392,
   "metadata": {},
   "outputs": [],
   "source": [
    "# Estimation - Method 2 - deaths as occurred\n",
    "\n",
    "mx22 = df2[(df2['Cases_Mexico']>=100) & (df2['date']<='2020-08-31')].reset_index()\n",
    "\n",
    "# (1) Set up parameters\n",
    "γ = 1/7 # 10 days while infectious\n",
    "\n",
    "# (2) Get growth rate for infections\n",
    "t        = len(mx22)\n",
    "inf      = np.empty([t,2])\n",
    "inf[0,0] = mx22['Cases_Mexico'].loc[0]\n",
    "for i in range(1,t):\n",
    "    new_cases = mx22['Cases_Mexico'].loc[i]-mx22['Cases_Mexico'].loc[i-1]\n",
    "    #inf[i,0] =  inf[i-1,0] + new_cases\n",
    "    inf[i,0] =  (1-γ)*inf[i-1,0] + new_cases\n",
    "    inf[i,1] =  (inf[i,0]-inf[i-1,0])/inf[i-1,0]\n",
    "inf[0,1] = inf[1,1]\n",
    "\n",
    "# (3) Load estimator\n",
    "%run -i 'Rt_estimator.py'\n",
    "\n",
    "# (4) Apply estimator\n",
    "x = inf[0:len(inf),1]\n",
    "res = estimate_R(x, gamma = γ)\n",
    "\n",
    "mx22['Rt_est'] = res['R']\n",
    "mx22['se_R'] = res['se_R']\n",
    "\n",
    "#5 (5) Confidence intervals\n",
    "aa = 0.35\n",
    "t_crit = scipy.stats.norm.ppf(1 - aa / 2)\n",
    "mx22['ci_pos'] = mx22['Rt_est'] + t_crit * mx22['se_R']\n",
    "mx22['ci_neg'] = mx22['Rt_est'] - t_crit * mx22['se_R']"
   ]
  },
  {
   "cell_type": "code",
   "execution_count": 393,
   "metadata": {},
   "outputs": [
    {
     "data": {
      "application/vnd.plotly.v1+json": {
       "config": {
        "plotlyServerURL": "https://plot.ly"
       },
       "data": [
        {
         "line": {
          "width": 2
         },
         "marker": {
          "size": 6
         },
         "mode": "lines+markers",
         "name": "Rt - data - estimation - as reported",
         "opacity": 0.6,
         "type": "scatter",
         "x": [
          "2020-05-02T00:00:00",
          "2020-05-03T00:00:00",
          "2020-05-04T00:00:00",
          "2020-05-05T00:00:00",
          "2020-05-06T00:00:00",
          "2020-05-07T00:00:00",
          "2020-05-08T00:00:00",
          "2020-05-09T00:00:00",
          "2020-05-10T00:00:00",
          "2020-05-11T00:00:00",
          "2020-05-12T00:00:00",
          "2020-05-13T00:00:00",
          "2020-05-14T00:00:00",
          "2020-05-15T00:00:00",
          "2020-05-16T00:00:00",
          "2020-05-17T00:00:00",
          "2020-05-18T00:00:00",
          "2020-05-19T00:00:00",
          "2020-05-20T00:00:00",
          "2020-05-21T00:00:00",
          "2020-05-22T00:00:00",
          "2020-05-23T00:00:00",
          "2020-05-24T00:00:00",
          "2020-05-25T00:00:00",
          "2020-05-26T00:00:00",
          "2020-05-27T00:00:00",
          "2020-05-28T00:00:00",
          "2020-05-29T00:00:00",
          "2020-05-30T00:00:00",
          "2020-05-31T00:00:00",
          "2020-06-01T00:00:00",
          "2020-06-02T00:00:00",
          "2020-06-03T00:00:00",
          "2020-06-04T00:00:00",
          "2020-06-05T00:00:00",
          "2020-06-06T00:00:00",
          "2020-06-07T00:00:00",
          "2020-06-08T00:00:00",
          "2020-06-09T00:00:00",
          "2020-06-10T00:00:00",
          "2020-06-11T00:00:00",
          "2020-06-12T00:00:00",
          "2020-06-13T00:00:00",
          "2020-06-14T00:00:00",
          "2020-06-15T00:00:00",
          "2020-06-16T00:00:00",
          "2020-06-17T00:00:00",
          "2020-06-18T00:00:00",
          "2020-06-19T00:00:00",
          "2020-06-20T00:00:00",
          "2020-06-21T00:00:00",
          "2020-06-22T00:00:00",
          "2020-06-23T00:00:00",
          "2020-06-24T00:00:00",
          "2020-06-25T00:00:00",
          "2020-06-26T00:00:00",
          "2020-06-27T00:00:00",
          "2020-06-28T00:00:00",
          "2020-06-29T00:00:00",
          "2020-06-30T00:00:00",
          "2020-07-01T00:00:00",
          "2020-07-02T00:00:00",
          "2020-07-03T00:00:00",
          "2020-07-04T00:00:00",
          "2020-07-05T00:00:00",
          "2020-07-06T00:00:00",
          "2020-07-07T00:00:00",
          "2020-07-08T00:00:00",
          "2020-07-09T00:00:00",
          "2020-07-10T00:00:00",
          "2020-07-11T00:00:00",
          "2020-07-12T00:00:00",
          "2020-07-13T00:00:00",
          "2020-07-14T00:00:00",
          "2020-07-15T00:00:00",
          "2020-07-16T00:00:00",
          "2020-07-17T00:00:00",
          "2020-07-18T00:00:00",
          "2020-07-19T00:00:00",
          "2020-07-20T00:00:00",
          "2020-07-21T00:00:00",
          "2020-07-22T00:00:00",
          "2020-07-23T00:00:00",
          "2020-07-24T00:00:00",
          "2020-07-25T00:00:00",
          "2020-07-26T00:00:00",
          "2020-07-27T00:00:00",
          "2020-07-28T00:00:00",
          "2020-07-29T00:00:00",
          "2020-07-30T00:00:00",
          "2020-07-31T00:00:00",
          "2020-08-01T00:00:00",
          "2020-08-02T00:00:00",
          "2020-08-03T00:00:00",
          "2020-08-04T00:00:00",
          "2020-08-05T00:00:00",
          "2020-08-06T00:00:00",
          "2020-08-07T00:00:00",
          "2020-08-08T00:00:00",
          "2020-08-09T00:00:00",
          "2020-08-10T00:00:00",
          "2020-08-11T00:00:00",
          "2020-08-12T00:00:00",
          "2020-08-13T00:00:00",
          "2020-08-14T00:00:00",
          "2020-08-15T00:00:00",
          "2020-08-16T00:00:00",
          "2020-08-17T00:00:00",
          "2020-08-18T00:00:00",
          "2020-08-19T00:00:00",
          "2020-08-20T00:00:00",
          "2020-08-21T00:00:00",
          "2020-08-22T00:00:00",
          "2020-08-23T00:00:00",
          "2020-08-24T00:00:00",
          "2020-08-25T00:00:00",
          "2020-08-26T00:00:00",
          "2020-08-27T00:00:00",
          "2020-08-28T00:00:00",
          "2020-08-29T00:00:00",
          "2020-08-30T00:00:00",
          "2020-08-31T00:00:00"
         ],
         "y": [
          1.31925304820484,
          1.299152945921402,
          1.284215595697755,
          1.2725764345752681,
          1.3012298236073168,
          1.3212023987435444,
          1.3061248041701499,
          1.276933111361919,
          1.2371836800007374,
          1.221385101669978,
          1.2495318320385111,
          1.2649820374341014,
          1.2884515525328388,
          1.2845138318142968,
          1.263348562696055,
          1.2545756936181065,
          1.2628619123482685,
          1.2692708047349501,
          1.2617819947331943,
          1.2761314428894557,
          1.272869568123483,
          1.2622250639716197,
          1.230717490072917,
          1.2130539149825474,
          1.223122928846007,
          1.21406947170041,
          1.1931287697201154,
          1.168449354222477,
          1.1481829452875671,
          1.1470298789445716,
          1.153333846266893,
          1.185602799356848,
          1.1992447196802125,
          1.2026771826136033,
          1.181786553071445,
          1.1468754324217714,
          1.1267792553428788,
          1.123348797750233,
          1.153155617042785,
          1.174366901188057,
          1.1703645489658228,
          1.1524808666739916,
          1.110887880451272,
          1.1007429502446917,
          1.098316895633727,
          1.1262271944371975,
          1.1487359754920214,
          1.1618806887815596,
          1.1501769472132406,
          1.138398483448891,
          1.1367772368420517,
          1.1289278082117826,
          1.1382410231476003,
          1.119768884542878,
          1.101255358286657,
          1.066010183534381,
          1.030762258037556,
          1.0171715612988952,
          1.0301651384059745,
          1.0746572244652361,
          1.1105156781384973,
          1.1386798958820792,
          1.1396805057196926,
          1.1218492771235926,
          1.0854124420407032,
          1.080701634475131,
          1.0996403475136824,
          1.1118285259263774,
          1.1053797298246273,
          1.0790008018803745,
          1.0432474358919415,
          1.0129704955064334,
          1.017147996101763,
          1.0484272965680235,
          1.0563142675164308,
          1.065777211185662,
          1.0734182513844284,
          1.064124538461382,
          1.0339329680738054,
          1.028743865987337,
          1.0481457060808874,
          1.0575997977271945,
          1.0776097037706585,
          1.0615678114365736,
          1.032481242550901,
          1.0054385807178543,
          1.0010204240692968,
          1.0257087296087037,
          1.0351491808899906,
          1.0616250106217353,
          1.067954434451257,
          1.0457883013670137,
          0.9789220773707656,
          0.9496956563651758,
          0.9519714464505263,
          0.9560161037176894,
          0.961458992964127,
          0.9593756895295453,
          0.9474756160113196,
          0.9292198316552347,
          0.942703132137276,
          0.9618833820201715,
          0.9645879671286227,
          0.9695398190026151,
          0.9459292145397703,
          0.929340375601519,
          0.9014607136555359,
          0.8968943279042858,
          0.9294696249547966,
          0.956170066469472,
          0.9735951730547745,
          0.9628838013758332,
          0.9449343900650415,
          0.9061177192323168,
          0.8968880020052069,
          0.9209246798471147,
          0.9449150649318365,
          0.9622910302537984,
          0.9573475549309429,
          0.9369449693290043,
          0.8966971883872575,
          0.874883018747048
         ]
        },
        {
         "line": {
          "width": 0
         },
         "name": "Lower CI",
         "showlegend": false,
         "type": "scatter",
         "x": [
          "2020-05-02T00:00:00",
          "2020-05-03T00:00:00",
          "2020-05-04T00:00:00",
          "2020-05-05T00:00:00",
          "2020-05-06T00:00:00",
          "2020-05-07T00:00:00",
          "2020-05-08T00:00:00",
          "2020-05-09T00:00:00",
          "2020-05-10T00:00:00",
          "2020-05-11T00:00:00",
          "2020-05-12T00:00:00",
          "2020-05-13T00:00:00",
          "2020-05-14T00:00:00",
          "2020-05-15T00:00:00",
          "2020-05-16T00:00:00",
          "2020-05-17T00:00:00",
          "2020-05-18T00:00:00",
          "2020-05-19T00:00:00",
          "2020-05-20T00:00:00",
          "2020-05-21T00:00:00",
          "2020-05-22T00:00:00",
          "2020-05-23T00:00:00",
          "2020-05-24T00:00:00",
          "2020-05-25T00:00:00",
          "2020-05-26T00:00:00",
          "2020-05-27T00:00:00",
          "2020-05-28T00:00:00",
          "2020-05-29T00:00:00",
          "2020-05-30T00:00:00",
          "2020-05-31T00:00:00",
          "2020-06-01T00:00:00",
          "2020-06-02T00:00:00",
          "2020-06-03T00:00:00",
          "2020-06-04T00:00:00",
          "2020-06-05T00:00:00",
          "2020-06-06T00:00:00",
          "2020-06-07T00:00:00",
          "2020-06-08T00:00:00",
          "2020-06-09T00:00:00",
          "2020-06-10T00:00:00",
          "2020-06-11T00:00:00",
          "2020-06-12T00:00:00",
          "2020-06-13T00:00:00",
          "2020-06-14T00:00:00",
          "2020-06-15T00:00:00",
          "2020-06-16T00:00:00",
          "2020-06-17T00:00:00",
          "2020-06-18T00:00:00",
          "2020-06-19T00:00:00",
          "2020-06-20T00:00:00",
          "2020-06-21T00:00:00",
          "2020-06-22T00:00:00",
          "2020-06-23T00:00:00",
          "2020-06-24T00:00:00",
          "2020-06-25T00:00:00",
          "2020-06-26T00:00:00",
          "2020-06-27T00:00:00",
          "2020-06-28T00:00:00",
          "2020-06-29T00:00:00",
          "2020-06-30T00:00:00",
          "2020-07-01T00:00:00",
          "2020-07-02T00:00:00",
          "2020-07-03T00:00:00",
          "2020-07-04T00:00:00",
          "2020-07-05T00:00:00",
          "2020-07-06T00:00:00",
          "2020-07-07T00:00:00",
          "2020-07-08T00:00:00",
          "2020-07-09T00:00:00",
          "2020-07-10T00:00:00",
          "2020-07-11T00:00:00",
          "2020-07-12T00:00:00",
          "2020-07-13T00:00:00",
          "2020-07-14T00:00:00",
          "2020-07-15T00:00:00",
          "2020-07-16T00:00:00",
          "2020-07-17T00:00:00",
          "2020-07-18T00:00:00",
          "2020-07-19T00:00:00",
          "2020-07-20T00:00:00",
          "2020-07-21T00:00:00",
          "2020-07-22T00:00:00",
          "2020-07-23T00:00:00",
          "2020-07-24T00:00:00",
          "2020-07-25T00:00:00",
          "2020-07-26T00:00:00",
          "2020-07-27T00:00:00",
          "2020-07-28T00:00:00",
          "2020-07-29T00:00:00",
          "2020-07-30T00:00:00",
          "2020-07-31T00:00:00",
          "2020-08-01T00:00:00",
          "2020-08-02T00:00:00",
          "2020-08-03T00:00:00",
          "2020-08-04T00:00:00",
          "2020-08-05T00:00:00",
          "2020-08-06T00:00:00",
          "2020-08-07T00:00:00",
          "2020-08-08T00:00:00",
          "2020-08-09T00:00:00",
          "2020-08-10T00:00:00",
          "2020-08-11T00:00:00",
          "2020-08-12T00:00:00",
          "2020-08-13T00:00:00",
          "2020-08-14T00:00:00",
          "2020-08-15T00:00:00",
          "2020-08-16T00:00:00",
          "2020-08-17T00:00:00",
          "2020-08-18T00:00:00",
          "2020-08-19T00:00:00",
          "2020-08-20T00:00:00",
          "2020-08-21T00:00:00",
          "2020-08-22T00:00:00",
          "2020-08-23T00:00:00",
          "2020-08-24T00:00:00",
          "2020-08-25T00:00:00",
          "2020-08-26T00:00:00",
          "2020-08-27T00:00:00",
          "2020-08-28T00:00:00",
          "2020-08-29T00:00:00",
          "2020-08-30T00:00:00",
          "2020-08-31T00:00:00"
         ],
         "y": [
          1.24614624008841,
          1.2260461269480285,
          1.2111087875813253,
          1.1994696264588383,
          1.2281230154908869,
          1.2480955906271145,
          1.2330179960537202,
          1.203826303245489,
          1.1640768718843075,
          1.148278293553548,
          1.1764250239220813,
          1.1918752293176715,
          1.215344744416409,
          1.2114070236978671,
          1.1902417545796253,
          1.1814688855016766,
          1.1897551042318386,
          1.1961639966185205,
          1.1886751866167646,
          1.2030246347730258,
          1.199762760007053,
          1.18911825585519,
          1.1576106819564873,
          1.1399471068661176,
          1.1500161207295774,
          1.1409626635839802,
          1.1200219616036855,
          1.095342546106047,
          1.0750761371711373,
          1.0739230708281418,
          1.080227038150463,
          1.1124959912404182,
          1.1261379115637826,
          1.1295703744971735,
          1.1086797449550154,
          1.0737686243053415,
          1.053672447226449,
          1.050241989633803,
          1.0800488089263554,
          1.1012600930716272,
          1.0972577408493929,
          1.079374058557562,
          1.0377810723348424,
          1.0276361421282618,
          1.0252100875172974,
          1.0531203863207677,
          1.0756291673755918,
          1.08877388066513,
          1.077070139096811,
          1.0652916753324613,
          1.0636704287256218,
          1.055821000095353,
          1.0651342150311707,
          1.0466620764264483,
          1.0281485501702274,
          0.9929033754179512,
          0.9576554499211262,
          0.9440647531824654,
          0.9570583302895447,
          1.0015504163488065,
          1.0374088700220674,
          1.0655730877656495,
          1.0665736976032627,
          1.0487424690071627,
          1.0123056339242735,
          1.0075948263587011,
          1.0265335393972528,
          1.0387217178099477,
          1.0322729217081976,
          1.0058939937639448,
          0.9701406277755117,
          0.9398636873900036,
          0.9440411879853333,
          0.9753204884515937,
          0.9832074594000009,
          0.992670403069232,
          1.000311443267998,
          0.9910177303449512,
          0.9608261599573735,
          0.9556370578709028,
          0.975038897964449,
          0.9844929896107472,
          1.0045028956541935,
          0.9884610033200727,
          0.9593744344343278,
          0.9323317726011358,
          0.9279136159522854,
          0.9526019214911021,
          0.9620423727712,
          0.9885182025005496,
          0.9948476263252461,
          0.9726814932312824,
          0.9058152692154522,
          0.8765888481704134,
          0.8788646381762926,
          0.8829092952833579,
          0.888352184207273,
          0.8862688801229583,
          0.8743688052958225,
          0.8561130183028918,
          0.8695963134729142,
          0.8887765526545608,
          0.8914811162049717,
          0.8964329246495479,
          0.8728222326966846,
          0.8562332175070109,
          0.8283532004975862,
          0.8237860994636959,
          0.8563599555732482,
          0.8830574943475685,
          0.9004767536095449,
          0.8897536037103565,
          0.8717804705159987,
          0.832916034451045,
          0.8235901869865365,
          0.8474335888730486,
          0.8710361480109281,
          0.8876369416401557,
          0.8811557988412927,
          0.8577461265713546,
          0.8117631275187016,
          0.7794358949894457
         ]
        },
        {
         "fill": "tonexty",
         "fillcolor": "rgba(68, 68, 68, 0.15)",
         "line": {
          "width": 0
         },
         "name": "upper CI",
         "showlegend": false,
         "type": "scatter",
         "x": [
          "2020-05-02T00:00:00",
          "2020-05-03T00:00:00",
          "2020-05-04T00:00:00",
          "2020-05-05T00:00:00",
          "2020-05-06T00:00:00",
          "2020-05-07T00:00:00",
          "2020-05-08T00:00:00",
          "2020-05-09T00:00:00",
          "2020-05-10T00:00:00",
          "2020-05-11T00:00:00",
          "2020-05-12T00:00:00",
          "2020-05-13T00:00:00",
          "2020-05-14T00:00:00",
          "2020-05-15T00:00:00",
          "2020-05-16T00:00:00",
          "2020-05-17T00:00:00",
          "2020-05-18T00:00:00",
          "2020-05-19T00:00:00",
          "2020-05-20T00:00:00",
          "2020-05-21T00:00:00",
          "2020-05-22T00:00:00",
          "2020-05-23T00:00:00",
          "2020-05-24T00:00:00",
          "2020-05-25T00:00:00",
          "2020-05-26T00:00:00",
          "2020-05-27T00:00:00",
          "2020-05-28T00:00:00",
          "2020-05-29T00:00:00",
          "2020-05-30T00:00:00",
          "2020-05-31T00:00:00",
          "2020-06-01T00:00:00",
          "2020-06-02T00:00:00",
          "2020-06-03T00:00:00",
          "2020-06-04T00:00:00",
          "2020-06-05T00:00:00",
          "2020-06-06T00:00:00",
          "2020-06-07T00:00:00",
          "2020-06-08T00:00:00",
          "2020-06-09T00:00:00",
          "2020-06-10T00:00:00",
          "2020-06-11T00:00:00",
          "2020-06-12T00:00:00",
          "2020-06-13T00:00:00",
          "2020-06-14T00:00:00",
          "2020-06-15T00:00:00",
          "2020-06-16T00:00:00",
          "2020-06-17T00:00:00",
          "2020-06-18T00:00:00",
          "2020-06-19T00:00:00",
          "2020-06-20T00:00:00",
          "2020-06-21T00:00:00",
          "2020-06-22T00:00:00",
          "2020-06-23T00:00:00",
          "2020-06-24T00:00:00",
          "2020-06-25T00:00:00",
          "2020-06-26T00:00:00",
          "2020-06-27T00:00:00",
          "2020-06-28T00:00:00",
          "2020-06-29T00:00:00",
          "2020-06-30T00:00:00",
          "2020-07-01T00:00:00",
          "2020-07-02T00:00:00",
          "2020-07-03T00:00:00",
          "2020-07-04T00:00:00",
          "2020-07-05T00:00:00",
          "2020-07-06T00:00:00",
          "2020-07-07T00:00:00",
          "2020-07-08T00:00:00",
          "2020-07-09T00:00:00",
          "2020-07-10T00:00:00",
          "2020-07-11T00:00:00",
          "2020-07-12T00:00:00",
          "2020-07-13T00:00:00",
          "2020-07-14T00:00:00",
          "2020-07-15T00:00:00",
          "2020-07-16T00:00:00",
          "2020-07-17T00:00:00",
          "2020-07-18T00:00:00",
          "2020-07-19T00:00:00",
          "2020-07-20T00:00:00",
          "2020-07-21T00:00:00",
          "2020-07-22T00:00:00",
          "2020-07-23T00:00:00",
          "2020-07-24T00:00:00",
          "2020-07-25T00:00:00",
          "2020-07-26T00:00:00",
          "2020-07-27T00:00:00",
          "2020-07-28T00:00:00",
          "2020-07-29T00:00:00",
          "2020-07-30T00:00:00",
          "2020-07-31T00:00:00",
          "2020-08-01T00:00:00",
          "2020-08-02T00:00:00",
          "2020-08-03T00:00:00",
          "2020-08-04T00:00:00",
          "2020-08-05T00:00:00",
          "2020-08-06T00:00:00",
          "2020-08-07T00:00:00",
          "2020-08-08T00:00:00",
          "2020-08-09T00:00:00",
          "2020-08-10T00:00:00",
          "2020-08-11T00:00:00",
          "2020-08-12T00:00:00",
          "2020-08-13T00:00:00",
          "2020-08-14T00:00:00",
          "2020-08-15T00:00:00",
          "2020-08-16T00:00:00",
          "2020-08-17T00:00:00",
          "2020-08-18T00:00:00",
          "2020-08-19T00:00:00",
          "2020-08-20T00:00:00",
          "2020-08-21T00:00:00",
          "2020-08-22T00:00:00",
          "2020-08-23T00:00:00",
          "2020-08-24T00:00:00",
          "2020-08-25T00:00:00",
          "2020-08-26T00:00:00",
          "2020-08-27T00:00:00",
          "2020-08-28T00:00:00",
          "2020-08-29T00:00:00",
          "2020-08-30T00:00:00",
          "2020-08-31T00:00:00"
         ],
         "y": [
          1.3923598563212698,
          1.3722597648947754,
          1.3573224038141847,
          1.345683242691698,
          1.3743366317237466,
          1.3943092068599743,
          1.3792316122865795,
          1.3500399194783488,
          1.3102904881171673,
          1.2944919097864078,
          1.322638640154941,
          1.3380888455505313,
          1.3615583606492687,
          1.3576206399307265,
          1.3364553708124847,
          1.3276825017345364,
          1.3359687204646984,
          1.3423776128513798,
          1.334888802849624,
          1.3492382510058856,
          1.3459763762399128,
          1.3353318720880494,
          1.3038242981893466,
          1.2861607230989773,
          1.2962297369624367,
          1.2871762798168396,
          1.2662355778365453,
          1.2415561623389069,
          1.221289753403997,
          1.2201366870610015,
          1.2264406543833228,
          1.258709607473278,
          1.2723515277966424,
          1.2757839907300332,
          1.2548933611878748,
          1.2199822405382013,
          1.1998860634593087,
          1.1964556058666629,
          1.2262624251592147,
          1.247473709304487,
          1.2434713570822526,
          1.2255876747904213,
          1.1839946885677017,
          1.1738497583611216,
          1.1714237037501567,
          1.1993340025536274,
          1.221842783608451,
          1.2349874968979893,
          1.2232837553296703,
          1.2115052915653206,
          1.2098840449584816,
          1.2020346163282123,
          1.21134783126403,
          1.1928756926593076,
          1.1743621664030868,
          1.1391169916508108,
          1.1038690661539858,
          1.090278369415325,
          1.1032719465224043,
          1.1477640325816658,
          1.1836224862549272,
          1.2117867039985089,
          1.2127873138361225,
          1.1949560852400225,
          1.1585192501571329,
          1.153808442591561,
          1.1727471556301121,
          1.184935334042807,
          1.178486537941057,
          1.1521076099968042,
          1.1163542440083711,
          1.0860773036228633,
          1.090254804218193,
          1.1215341046844534,
          1.1294210756328606,
          1.1388840193020922,
          1.1465250595008587,
          1.1372313465778128,
          1.1070397761902373,
          1.101850674103771,
          1.121252514197326,
          1.1307066058436417,
          1.1507165118871234,
          1.1346746195530746,
          1.105588050667474,
          1.0785453888345728,
          1.0741272321863082,
          1.0988155377263054,
          1.1082559890087813,
          1.1347318187429212,
          1.141061242577268,
          1.118895109502745,
          1.052028885526079,
          1.0228024645599383,
          1.02507825472476,
          1.029122912152021,
          1.034565801720981,
          1.0324824989361323,
          1.0205824267268166,
          1.0023266450075776,
          1.0158099508016378,
          1.0349902113857823,
          1.0376948180522738,
          1.0426467133556823,
          1.019036196382856,
          1.0024475336960272,
          0.9745682268134856,
          0.9700025563448758,
          1.002579294336345,
          1.0292826385913754,
          1.0467135925000042,
          1.0360139990413098,
          1.0180883096140843,
          0.9793194040135885,
          0.9701858170238773,
          0.9944157708211807,
          1.018793981852745,
          1.036945118867441,
          1.0335393110205933,
          1.016143812086654,
          0.9816312492558135,
          0.9703301425046503
         ]
        },
        {
         "line": {
          "width": 2
         },
         "marker": {
          "size": 6
         },
         "mode": "lines+markers",
         "name": "Rt - data - estimation - as occurred",
         "opacity": 0.6,
         "type": "scatter",
         "x": [
          "2020-03-13",
          "2020-03-14",
          "2020-03-15",
          "2020-03-16",
          "2020-03-17",
          "2020-03-18",
          "2020-03-19",
          "2020-03-20",
          "2020-03-21",
          "2020-03-22",
          "2020-03-23",
          "2020-03-24",
          "2020-03-25",
          "2020-03-26",
          "2020-03-27",
          "2020-03-28",
          "2020-03-29",
          "2020-03-30",
          "2020-03-31",
          "2020-04-01",
          "2020-04-02",
          "2020-04-03",
          "2020-04-04",
          "2020-04-05",
          "2020-04-06",
          "2020-04-07",
          "2020-04-08",
          "2020-04-09",
          "2020-04-10",
          "2020-04-11",
          "2020-04-12",
          "2020-04-13",
          "2020-04-14",
          "2020-04-15",
          "2020-04-16",
          "2020-04-17",
          "2020-04-18",
          "2020-04-19",
          "2020-04-20",
          "2020-04-21",
          "2020-04-22",
          "2020-04-23",
          "2020-04-24",
          "2020-04-25",
          "2020-04-26",
          "2020-04-27",
          "2020-04-28",
          "2020-04-29",
          "2020-04-30",
          "2020-05-01",
          "2020-05-02",
          "2020-05-03",
          "2020-05-04",
          "2020-05-05",
          "2020-05-06",
          "2020-05-07",
          "2020-05-08",
          "2020-05-09",
          "2020-05-10",
          "2020-05-11",
          "2020-05-12",
          "2020-05-13",
          "2020-05-14",
          "2020-05-15",
          "2020-05-16",
          "2020-05-17",
          "2020-05-18",
          "2020-05-19",
          "2020-05-20",
          "2020-05-21",
          "2020-05-22",
          "2020-05-23",
          "2020-05-24",
          "2020-05-25",
          "2020-05-26",
          "2020-05-27",
          "2020-05-28",
          "2020-05-29",
          "2020-05-30",
          "2020-05-31",
          "2020-06-01",
          "2020-06-02",
          "2020-06-03",
          "2020-06-04",
          "2020-06-05",
          "2020-06-06",
          "2020-06-07",
          "2020-06-08",
          "2020-06-09",
          "2020-06-10",
          "2020-06-11",
          "2020-06-12",
          "2020-06-13",
          "2020-06-14",
          "2020-06-15",
          "2020-06-16",
          "2020-06-17",
          "2020-06-18",
          "2020-06-19",
          "2020-06-20",
          "2020-06-21",
          "2020-06-22",
          "2020-06-23",
          "2020-06-24",
          "2020-06-25",
          "2020-06-26",
          "2020-06-27",
          "2020-06-28",
          "2020-06-29",
          "2020-06-30",
          "2020-07-01",
          "2020-07-02",
          "2020-07-03",
          "2020-07-04",
          "2020-07-05",
          "2020-07-06",
          "2020-07-07",
          "2020-07-08",
          "2020-07-09",
          "2020-07-10",
          "2020-07-11",
          "2020-07-12",
          "2020-07-13",
          "2020-07-14",
          "2020-07-15",
          "2020-07-16",
          "2020-07-17",
          "2020-07-18",
          "2020-07-19",
          "2020-07-20",
          "2020-07-21",
          "2020-07-22",
          "2020-07-23",
          "2020-07-24",
          "2020-07-25",
          "2020-07-26",
          "2020-07-27",
          "2020-07-28",
          "2020-07-29",
          "2020-07-30",
          "2020-07-31",
          "2020-08-01",
          "2020-08-02",
          "2020-08-03",
          "2020-08-04",
          "2020-08-05",
          "2020-08-06",
          "2020-08-07",
          "2020-08-08",
          "2020-08-09",
          "2020-08-10",
          "2020-08-11",
          "2020-08-12",
          "2020-08-13",
          "2020-08-14",
          "2020-08-15",
          "2020-08-16",
          "2020-08-17",
          "2020-08-18",
          "2020-08-19",
          "2020-08-20",
          "2020-08-21",
          "2020-08-22",
          "2020-08-23",
          "2020-08-24",
          "2020-08-25",
          "2020-08-26",
          "2020-08-27",
          "2020-08-28",
          "2020-08-29",
          "2020-08-30",
          "2020-08-31"
         ],
         "y": [
          1.9723695649178983,
          1.9678374767537405,
          1.9587249711404846,
          1.9551579560047485,
          1.945166547883068,
          1.9247488864843982,
          1.8986025210139275,
          1.8690682387995072,
          1.8413261337837228,
          1.822339448000767,
          1.8148974081375693,
          1.804611660346648,
          1.7890181676844072,
          1.7749205519524878,
          1.7600074115400575,
          1.742190229274502,
          1.728676743635256,
          1.721504624302354,
          1.7062156359385292,
          1.689945952496069,
          1.6713492143792843,
          1.6535983619764405,
          1.6363729938994767,
          1.6263927842979455,
          1.6231165257892886,
          1.6114884912225058,
          1.599046010919004,
          1.5851872414736454,
          1.5749278163807576,
          1.5659930974076817,
          1.5616276075209812,
          1.5616495188452282,
          1.5541940207287066,
          1.5431995437605188,
          1.529972527944421,
          1.5158465065625233,
          1.4996125418328636,
          1.4876709134920634,
          1.4809400552203977,
          1.4683463447171015,
          1.4530090779907696,
          1.4375240667005138,
          1.42164601653266,
          1.4041350261913637,
          1.3917341604942735,
          1.3844660319306765,
          1.373981806539072,
          1.361913966805505,
          1.3494517104958788,
          1.3372093277289632,
          1.3287136740893284,
          1.3239390296967433,
          1.3237065647796398,
          1.3179760566481944,
          1.311729608863213,
          1.304382341182467,
          1.2960626686628556,
          1.2873753739108784,
          1.2838193282345252,
          1.2857699130625297,
          1.2837011916319556,
          1.2793934452107771,
          1.2726884719627503,
          1.2648366627515815,
          1.2546098462754416,
          1.2485803935591404,
          1.2487857130872166,
          1.2439329609951337,
          1.237570221757141,
          1.2290381572304105,
          1.2188529212311348,
          1.2077020778690775,
          1.2018368349475093,
          1.202242485331689,
          1.1983345930946254,
          1.192375035633789,
          1.1846423573686518,
          1.1765420752838331,
          1.1680170245239752,
          1.16410238401091,
          1.1663970115745785,
          1.1642833878989083,
          1.1606094128124522,
          1.1553027276802281,
          1.1490913148652098,
          1.141979346720357,
          1.1395231307181946,
          1.1430762917832231,
          1.1415253242726775,
          1.1372979652863346,
          1.1312119286634472,
          1.1245622686539583,
          1.1170815475890754,
          1.1147453579135123,
          1.1182842503718735,
          1.1173675586826335,
          1.1134888929991171,
          1.1080485326916147,
          1.1015938309485545,
          1.0943366542011101,
          1.091649559170115,
          1.0954876588356202,
          1.0953868401008107,
          1.0928503109680041,
          1.0890967620102117,
          1.0845721687187324,
          1.079056491280449,
          1.0781994400169501,
          1.0830758226439718,
          1.0836149364307628,
          1.0814923511940837,
          1.0766060971754674,
          1.0705931575756014,
          1.063707568090118,
          1.0619726779907823,
          1.066213312325698,
          1.0665644565516237,
          1.0638751487481042,
          1.0595415073282044,
          1.0544153538036398,
          1.0486381194573227,
          1.0478563044461835,
          1.0528286848050115,
          1.0531474319941074,
          1.0504382305627014,
          1.0446764881041999,
          1.0373068129228384,
          1.0290989576935987,
          1.0254099996720494,
          1.0274447910968638,
          1.0249362909705761,
          1.019421919486885,
          1.0120263137812262,
          1.0033674862856679,
          0.9937492591807016,
          0.9889022068772021,
          0.9900804814587522,
          0.9877073290373444,
          0.9829673365083608,
          0.9768556156795071,
          0.9697194729531814,
          0.9629104348013228,
          0.9607111986219745,
          0.9647153190880329,
          0.9655900826629881,
          0.9641169920148415,
          0.9611283502436113,
          0.9573646259621282,
          0.9530853570218922,
          0.9531102971095546,
          0.9591573100187261,
          0.9616853087257494,
          0.9617030337043121,
          0.9604188462244426,
          0.9580199840020772,
          0.9551319635755307,
          0.956795535117848,
          0.9643087464876207,
          0.9680019196366637,
          0.9689232088380499,
          0.9681365582446532,
          0.9666286140600671,
          0.9638229483939572,
          0.9657638067165427,
          0.973408747295532,
          0.9763992990391768,
          0.976467873765079,
          0.9733744863938973,
          0.968545690674457,
          0.9623226111037234,
          0.9607845796919351,
          0.9652313926301755
         ]
        },
        {
         "line": {
          "width": 0
         },
         "name": "Lower CI",
         "showlegend": false,
         "type": "scatter",
         "x": [
          "2020-03-13",
          "2020-03-14",
          "2020-03-15",
          "2020-03-16",
          "2020-03-17",
          "2020-03-18",
          "2020-03-19",
          "2020-03-20",
          "2020-03-21",
          "2020-03-22",
          "2020-03-23",
          "2020-03-24",
          "2020-03-25",
          "2020-03-26",
          "2020-03-27",
          "2020-03-28",
          "2020-03-29",
          "2020-03-30",
          "2020-03-31",
          "2020-04-01",
          "2020-04-02",
          "2020-04-03",
          "2020-04-04",
          "2020-04-05",
          "2020-04-06",
          "2020-04-07",
          "2020-04-08",
          "2020-04-09",
          "2020-04-10",
          "2020-04-11",
          "2020-04-12",
          "2020-04-13",
          "2020-04-14",
          "2020-04-15",
          "2020-04-16",
          "2020-04-17",
          "2020-04-18",
          "2020-04-19",
          "2020-04-20",
          "2020-04-21",
          "2020-04-22",
          "2020-04-23",
          "2020-04-24",
          "2020-04-25",
          "2020-04-26",
          "2020-04-27",
          "2020-04-28",
          "2020-04-29",
          "2020-04-30",
          "2020-05-01",
          "2020-05-02",
          "2020-05-03",
          "2020-05-04",
          "2020-05-05",
          "2020-05-06",
          "2020-05-07",
          "2020-05-08",
          "2020-05-09",
          "2020-05-10",
          "2020-05-11",
          "2020-05-12",
          "2020-05-13",
          "2020-05-14",
          "2020-05-15",
          "2020-05-16",
          "2020-05-17",
          "2020-05-18",
          "2020-05-19",
          "2020-05-20",
          "2020-05-21",
          "2020-05-22",
          "2020-05-23",
          "2020-05-24",
          "2020-05-25",
          "2020-05-26",
          "2020-05-27",
          "2020-05-28",
          "2020-05-29",
          "2020-05-30",
          "2020-05-31",
          "2020-06-01",
          "2020-06-02",
          "2020-06-03",
          "2020-06-04",
          "2020-06-05",
          "2020-06-06",
          "2020-06-07",
          "2020-06-08",
          "2020-06-09",
          "2020-06-10",
          "2020-06-11",
          "2020-06-12",
          "2020-06-13",
          "2020-06-14",
          "2020-06-15",
          "2020-06-16",
          "2020-06-17",
          "2020-06-18",
          "2020-06-19",
          "2020-06-20",
          "2020-06-21",
          "2020-06-22",
          "2020-06-23",
          "2020-06-24",
          "2020-06-25",
          "2020-06-26",
          "2020-06-27",
          "2020-06-28",
          "2020-06-29",
          "2020-06-30",
          "2020-07-01",
          "2020-07-02",
          "2020-07-03",
          "2020-07-04",
          "2020-07-05",
          "2020-07-06",
          "2020-07-07",
          "2020-07-08",
          "2020-07-09",
          "2020-07-10",
          "2020-07-11",
          "2020-07-12",
          "2020-07-13",
          "2020-07-14",
          "2020-07-15",
          "2020-07-16",
          "2020-07-17",
          "2020-07-18",
          "2020-07-19",
          "2020-07-20",
          "2020-07-21",
          "2020-07-22",
          "2020-07-23",
          "2020-07-24",
          "2020-07-25",
          "2020-07-26",
          "2020-07-27",
          "2020-07-28",
          "2020-07-29",
          "2020-07-30",
          "2020-07-31",
          "2020-08-01",
          "2020-08-02",
          "2020-08-03",
          "2020-08-04",
          "2020-08-05",
          "2020-08-06",
          "2020-08-07",
          "2020-08-08",
          "2020-08-09",
          "2020-08-10",
          "2020-08-11",
          "2020-08-12",
          "2020-08-13",
          "2020-08-14",
          "2020-08-15",
          "2020-08-16",
          "2020-08-17",
          "2020-08-18",
          "2020-08-19",
          "2020-08-20",
          "2020-08-21",
          "2020-08-22",
          "2020-08-23",
          "2020-08-24",
          "2020-08-25",
          "2020-08-26",
          "2020-08-27",
          "2020-08-28",
          "2020-08-29",
          "2020-08-30",
          "2020-08-31"
         ],
         "y": [
          1.8604558923221757,
          1.8609885245607367,
          1.856180253050525,
          1.8562525993090633,
          1.8493235208284604,
          1.8314710494396889,
          1.8074645870703638,
          1.7797088073677383,
          1.7534399748914942,
          1.735670198963727,
          1.7292308089054838,
          1.719769410197944,
          1.704852442875712,
          1.6913091870245065,
          1.6768497188019762,
          1.6594034118496572,
          1.6461928463115696,
          1.6392679616479793,
          1.6241806369759055,
          1.6080753641230494,
          1.5896126104367054,
          1.571970910461663,
          1.5548344406741195,
          1.5449266173226204,
          1.541709289196262,
          1.5301292232863664,
          1.5177257841629346,
          1.5038987867622287,
          1.4936652159357566,
          1.4847515342921125,
          1.4804031613256308,
          1.4804389991370321,
          1.4729948313351344,
          1.4620095722162822,
          1.4487900554587583,
          1.4346701347136244,
          1.418441132891983,
          1.4065035418499356,
          1.3997759678549058,
          1.3871849290222207,
          1.3718498355979358,
          1.3563665921774146,
          1.3404899800514414,
          1.3229801594269555,
          1.3105802451509956,
          1.3033128904072377,
          1.2928292943332398,
          1.2807619663339334,
          1.2683001260649815,
          1.2560580814418691,
          1.2475627025139393,
          1.2427882811524351,
          1.2425559971265847,
          1.2368256354847673,
          1.23057930605439,
          1.2232321336562773,
          1.2149125374234098,
          1.2062253032257566,
          1.202669304961767,
          1.2046199260884367,
          1.202551231395659,
          1.1982435032952323,
          1.1915385407346621,
          1.1836867350348574,
          1.1734599150442033,
          1.167430465838544,
          1.167635785363995,
          1.1627830332686848,
          1.1564202940267247,
          1.1478882294951174,
          1.137702993489846,
          1.1265521501204183,
          1.1206869071897894,
          1.1210925575628308,
          1.1171846653120743,
          1.1112251078344046,
          1.1034924295485742,
          1.0953921474383168,
          1.0868670966471863,
          1.082952456095677,
          1.085247083612085,
          1.0831334598783162,
          1.0794594847204382,
          1.074152799500413,
          1.0679413865774585,
          1.0608294182999172,
          1.058373202134637,
          1.061926362999141,
          1.060375395242085,
          1.0561480359527002,
          1.0500619989572755,
          1.0434123384898168,
          1.0359316168619397,
          1.0335954264942728,
          1.0371343181018127,
          1.0362176253666355,
          1.0323389583973213,
          1.0268985965091537,
          1.02044389282294,
          1.0131867136867263,
          1.0104996157191541,
          1.014337711774648,
          1.0142368886019568,
          1.0117003540135459,
          1.0079467983490358,
          1.0034221968128128,
          0.99790650923905,
          0.9970494455157413,
          1.0019258128255935,
          1.0024649077825887,
          1.000342299397952,
          0.9954560169229514,
          0.9894430423409167,
          0.9825574098509534,
          0.9808224668851098,
          0.985063036229883,
          0.9854141005617872,
          0.9827246945425521,
          0.9783909323836509,
          0.9732646304317001,
          0.9674872136200623,
          0.966705174300064,
          0.9716772789109571,
          0.9719956871171427,
          0.969286068967063,
          0.96352381422826,
          0.9561535092916713,
          0.9479448798944516,
          0.9442549701779476,
          0.9462885916743975,
          0.9437786533474881,
          0.9382625138808409,
          0.9308647347999734,
          0.9222032355968134,
          0.9125817242118764,
          0.9077306346386549,
          0.908903946373413,
          0.9065246934095463,
          0.9017772019512699,
          0.8956562634402387,
          0.8885087906082396,
          0.8816858262249242,
          0.8794694734338359,
          0.8834525569388778,
          0.8843014666840892,
          0.8827966045057296,
          0.8797689221573428,
          0.8759572299222181,
          0.8716190314161593,
          0.8715715861972221,
          0.8775297019015573,
          0.8799485494206186,
          0.879832291377011,
          0.8783836948952806,
          0.8757831707555912,
          0.8726479176218926,
          0.8740085712046808,
          0.8811509095605737,
          0.8843904129361564,
          0.8847573447238896,
          0.8832941712072585,
          0.8809618801599182,
          0.8771535665101002,
          0.8778775161245816,
          0.884049184275146,
          0.8852612321173177,
          0.8831899002684107,
          0.8775313166148365,
          0.86964018132669,
          0.859777725775926,
          0.853935439867109,
          0.8533175316982472
         ]
        },
        {
         "fill": "tonexty",
         "fillcolor": "rgba(28, 28, 28, 0.15)",
         "line": {
          "width": 0
         },
         "name": "upper CI",
         "showlegend": false,
         "type": "scatter",
         "x": [
          "2020-03-13",
          "2020-03-14",
          "2020-03-15",
          "2020-03-16",
          "2020-03-17",
          "2020-03-18",
          "2020-03-19",
          "2020-03-20",
          "2020-03-21",
          "2020-03-22",
          "2020-03-23",
          "2020-03-24",
          "2020-03-25",
          "2020-03-26",
          "2020-03-27",
          "2020-03-28",
          "2020-03-29",
          "2020-03-30",
          "2020-03-31",
          "2020-04-01",
          "2020-04-02",
          "2020-04-03",
          "2020-04-04",
          "2020-04-05",
          "2020-04-06",
          "2020-04-07",
          "2020-04-08",
          "2020-04-09",
          "2020-04-10",
          "2020-04-11",
          "2020-04-12",
          "2020-04-13",
          "2020-04-14",
          "2020-04-15",
          "2020-04-16",
          "2020-04-17",
          "2020-04-18",
          "2020-04-19",
          "2020-04-20",
          "2020-04-21",
          "2020-04-22",
          "2020-04-23",
          "2020-04-24",
          "2020-04-25",
          "2020-04-26",
          "2020-04-27",
          "2020-04-28",
          "2020-04-29",
          "2020-04-30",
          "2020-05-01",
          "2020-05-02",
          "2020-05-03",
          "2020-05-04",
          "2020-05-05",
          "2020-05-06",
          "2020-05-07",
          "2020-05-08",
          "2020-05-09",
          "2020-05-10",
          "2020-05-11",
          "2020-05-12",
          "2020-05-13",
          "2020-05-14",
          "2020-05-15",
          "2020-05-16",
          "2020-05-17",
          "2020-05-18",
          "2020-05-19",
          "2020-05-20",
          "2020-05-21",
          "2020-05-22",
          "2020-05-23",
          "2020-05-24",
          "2020-05-25",
          "2020-05-26",
          "2020-05-27",
          "2020-05-28",
          "2020-05-29",
          "2020-05-30",
          "2020-05-31",
          "2020-06-01",
          "2020-06-02",
          "2020-06-03",
          "2020-06-04",
          "2020-06-05",
          "2020-06-06",
          "2020-06-07",
          "2020-06-08",
          "2020-06-09",
          "2020-06-10",
          "2020-06-11",
          "2020-06-12",
          "2020-06-13",
          "2020-06-14",
          "2020-06-15",
          "2020-06-16",
          "2020-06-17",
          "2020-06-18",
          "2020-06-19",
          "2020-06-20",
          "2020-06-21",
          "2020-06-22",
          "2020-06-23",
          "2020-06-24",
          "2020-06-25",
          "2020-06-26",
          "2020-06-27",
          "2020-06-28",
          "2020-06-29",
          "2020-06-30",
          "2020-07-01",
          "2020-07-02",
          "2020-07-03",
          "2020-07-04",
          "2020-07-05",
          "2020-07-06",
          "2020-07-07",
          "2020-07-08",
          "2020-07-09",
          "2020-07-10",
          "2020-07-11",
          "2020-07-12",
          "2020-07-13",
          "2020-07-14",
          "2020-07-15",
          "2020-07-16",
          "2020-07-17",
          "2020-07-18",
          "2020-07-19",
          "2020-07-20",
          "2020-07-21",
          "2020-07-22",
          "2020-07-23",
          "2020-07-24",
          "2020-07-25",
          "2020-07-26",
          "2020-07-27",
          "2020-07-28",
          "2020-07-29",
          "2020-07-30",
          "2020-07-31",
          "2020-08-01",
          "2020-08-02",
          "2020-08-03",
          "2020-08-04",
          "2020-08-05",
          "2020-08-06",
          "2020-08-07",
          "2020-08-08",
          "2020-08-09",
          "2020-08-10",
          "2020-08-11",
          "2020-08-12",
          "2020-08-13",
          "2020-08-14",
          "2020-08-15",
          "2020-08-16",
          "2020-08-17",
          "2020-08-18",
          "2020-08-19",
          "2020-08-20",
          "2020-08-21",
          "2020-08-22",
          "2020-08-23",
          "2020-08-24",
          "2020-08-25",
          "2020-08-26",
          "2020-08-27",
          "2020-08-28",
          "2020-08-29",
          "2020-08-30",
          "2020-08-31"
         ],
         "y": [
          2.084283237513621,
          2.074686428946744,
          2.0612696892304445,
          2.0540633127004337,
          2.0410095749376755,
          2.0180267235291076,
          1.989740454957491,
          1.9584276702312762,
          1.9292122926759514,
          1.909008697037807,
          1.9005640073696548,
          1.889453910495352,
          1.8731838924931026,
          1.858531916880469,
          1.8431651042781387,
          1.8249770466993467,
          1.8111606409589422,
          1.8037412869567286,
          1.7882506349011529,
          1.7718165408690885,
          1.7530858183218632,
          1.735225813491218,
          1.7179115471248338,
          1.7078589512732707,
          1.704523762382315,
          1.6928477591586453,
          1.6803662376750732,
          1.6664756961850622,
          1.6561904168257586,
          1.6472346605232508,
          1.6428520537163316,
          1.6428600385534242,
          1.6353932101222788,
          1.6243895153047554,
          1.6111550004300836,
          1.5970228784114222,
          1.5807839507737442,
          1.568838285134191,
          1.5621041425858897,
          1.5495077604119822,
          1.5341683203836034,
          1.518681541223613,
          1.5028020530138788,
          1.4852898929557719,
          1.4728880758375513,
          1.4656191734541153,
          1.4551343187449044,
          1.4430659672770765,
          1.430603294926776,
          1.4183605740160572,
          1.4098646456647175,
          1.4050897782410514,
          1.4048571324326948,
          1.3991264778116215,
          1.3928799116720363,
          1.385532548708657,
          1.3772127999023014,
          1.3685254445960002,
          1.3649693515072834,
          1.3669199000366228,
          1.3648511518682522,
          1.360543387126322,
          1.3538384031908384,
          1.3459865904683055,
          1.3357597775066798,
          1.329730321279737,
          1.3299356408104384,
          1.3250828887215826,
          1.3187201494875571,
          1.3101880849657037,
          1.3000028489724236,
          1.2888520056177366,
          1.2829867627052292,
          1.2833924131005474,
          1.2794845208771766,
          1.2735249634331733,
          1.2657922851887293,
          1.2576920031293495,
          1.249166952400764,
          1.245252311926143,
          1.247546939537072,
          1.2454333159195003,
          1.2417593409044663,
          1.2364526558600433,
          1.230241243152961,
          1.2231292751407967,
          1.220673059301752,
          1.2242262205673053,
          1.22267525330327,
          1.218447894619969,
          1.212361858369619,
          1.2057121988180997,
          1.1982314783162111,
          1.1958952893327517,
          1.1994341826419344,
          1.1985174919986314,
          1.194638827600913,
          1.1891984688740758,
          1.182743769074169,
          1.175486594715494,
          1.1727995026210758,
          1.1766376058965924,
          1.1765367915996645,
          1.1740002679224624,
          1.1702467256713875,
          1.165722140624652,
          1.160206473321848,
          1.159349434518159,
          1.1642258324623502,
          1.164764965078937,
          1.1626424029902154,
          1.1577561774279834,
          1.151743272810286,
          1.1448577263292825,
          1.1431228890964549,
          1.147363588421513,
          1.1477148125414602,
          1.1450256029536563,
          1.140692082272758,
          1.1355660771755796,
          1.129789025294583,
          1.129007434592303,
          1.1339800906990658,
          1.1342991768710722,
          1.1315903921583397,
          1.1258291619801397,
          1.1184601165540056,
          1.1102530354927458,
          1.1065650291661513,
          1.1086009905193301,
          1.1060939285936642,
          1.100581325092929,
          1.093187892762479,
          1.0845317369745222,
          1.0749167941495268,
          1.0700737791157493,
          1.0712570165440913,
          1.0688899646651424,
          1.0641574710654516,
          1.0580549679187754,
          1.0509301552981232,
          1.0441350433777212,
          1.041952923810113,
          1.045978081237188,
          1.046878698641887,
          1.0454373795239533,
          1.0424877783298798,
          1.0387720220020382,
          1.0345516826276253,
          1.034649008021887,
          1.0407849181358948,
          1.0434220680308803,
          1.043573776031613,
          1.0424539975536047,
          1.0402567972485632,
          1.0376160095291687,
          1.0395824990310152,
          1.0474665834146675,
          1.051613426337171,
          1.0530890729522104,
          1.052978945282048,
          1.052295347960216,
          1.0504923302778142,
          1.0536500973085037,
          1.062768310315918,
          1.0675373659610359,
          1.0697458472617474,
          1.0692176561729583,
          1.0674512000222238,
          1.0648674964315208,
          1.0676337195167611,
          1.0771452535621038
         ]
        }
       ],
       "layout": {
        "legend": {
         "bgcolor": "rgba(0,0,0,0)",
         "font": {
          "family": "sans-serif",
          "size": 14
         },
         "traceorder": "normal",
         "x": 0.6,
         "y": 0.95
        },
        "showlegend": true,
        "template": {
         "data": {
          "bar": [
           {
            "error_x": {
             "color": "#2a3f5f"
            },
            "error_y": {
             "color": "#2a3f5f"
            },
            "marker": {
             "line": {
              "color": "#E5ECF6",
              "width": 0.5
             }
            },
            "type": "bar"
           }
          ],
          "barpolar": [
           {
            "marker": {
             "line": {
              "color": "#E5ECF6",
              "width": 0.5
             }
            },
            "type": "barpolar"
           }
          ],
          "carpet": [
           {
            "aaxis": {
             "endlinecolor": "#2a3f5f",
             "gridcolor": "white",
             "linecolor": "white",
             "minorgridcolor": "white",
             "startlinecolor": "#2a3f5f"
            },
            "baxis": {
             "endlinecolor": "#2a3f5f",
             "gridcolor": "white",
             "linecolor": "white",
             "minorgridcolor": "white",
             "startlinecolor": "#2a3f5f"
            },
            "type": "carpet"
           }
          ],
          "choropleth": [
           {
            "colorbar": {
             "outlinewidth": 0,
             "ticks": ""
            },
            "type": "choropleth"
           }
          ],
          "contour": [
           {
            "colorbar": {
             "outlinewidth": 0,
             "ticks": ""
            },
            "colorscale": [
             [
              0,
              "#0d0887"
             ],
             [
              0.1111111111111111,
              "#46039f"
             ],
             [
              0.2222222222222222,
              "#7201a8"
             ],
             [
              0.3333333333333333,
              "#9c179e"
             ],
             [
              0.4444444444444444,
              "#bd3786"
             ],
             [
              0.5555555555555556,
              "#d8576b"
             ],
             [
              0.6666666666666666,
              "#ed7953"
             ],
             [
              0.7777777777777778,
              "#fb9f3a"
             ],
             [
              0.8888888888888888,
              "#fdca26"
             ],
             [
              1,
              "#f0f921"
             ]
            ],
            "type": "contour"
           }
          ],
          "contourcarpet": [
           {
            "colorbar": {
             "outlinewidth": 0,
             "ticks": ""
            },
            "type": "contourcarpet"
           }
          ],
          "heatmap": [
           {
            "colorbar": {
             "outlinewidth": 0,
             "ticks": ""
            },
            "colorscale": [
             [
              0,
              "#0d0887"
             ],
             [
              0.1111111111111111,
              "#46039f"
             ],
             [
              0.2222222222222222,
              "#7201a8"
             ],
             [
              0.3333333333333333,
              "#9c179e"
             ],
             [
              0.4444444444444444,
              "#bd3786"
             ],
             [
              0.5555555555555556,
              "#d8576b"
             ],
             [
              0.6666666666666666,
              "#ed7953"
             ],
             [
              0.7777777777777778,
              "#fb9f3a"
             ],
             [
              0.8888888888888888,
              "#fdca26"
             ],
             [
              1,
              "#f0f921"
             ]
            ],
            "type": "heatmap"
           }
          ],
          "heatmapgl": [
           {
            "colorbar": {
             "outlinewidth": 0,
             "ticks": ""
            },
            "colorscale": [
             [
              0,
              "#0d0887"
             ],
             [
              0.1111111111111111,
              "#46039f"
             ],
             [
              0.2222222222222222,
              "#7201a8"
             ],
             [
              0.3333333333333333,
              "#9c179e"
             ],
             [
              0.4444444444444444,
              "#bd3786"
             ],
             [
              0.5555555555555556,
              "#d8576b"
             ],
             [
              0.6666666666666666,
              "#ed7953"
             ],
             [
              0.7777777777777778,
              "#fb9f3a"
             ],
             [
              0.8888888888888888,
              "#fdca26"
             ],
             [
              1,
              "#f0f921"
             ]
            ],
            "type": "heatmapgl"
           }
          ],
          "histogram": [
           {
            "marker": {
             "colorbar": {
              "outlinewidth": 0,
              "ticks": ""
             }
            },
            "type": "histogram"
           }
          ],
          "histogram2d": [
           {
            "colorbar": {
             "outlinewidth": 0,
             "ticks": ""
            },
            "colorscale": [
             [
              0,
              "#0d0887"
             ],
             [
              0.1111111111111111,
              "#46039f"
             ],
             [
              0.2222222222222222,
              "#7201a8"
             ],
             [
              0.3333333333333333,
              "#9c179e"
             ],
             [
              0.4444444444444444,
              "#bd3786"
             ],
             [
              0.5555555555555556,
              "#d8576b"
             ],
             [
              0.6666666666666666,
              "#ed7953"
             ],
             [
              0.7777777777777778,
              "#fb9f3a"
             ],
             [
              0.8888888888888888,
              "#fdca26"
             ],
             [
              1,
              "#f0f921"
             ]
            ],
            "type": "histogram2d"
           }
          ],
          "histogram2dcontour": [
           {
            "colorbar": {
             "outlinewidth": 0,
             "ticks": ""
            },
            "colorscale": [
             [
              0,
              "#0d0887"
             ],
             [
              0.1111111111111111,
              "#46039f"
             ],
             [
              0.2222222222222222,
              "#7201a8"
             ],
             [
              0.3333333333333333,
              "#9c179e"
             ],
             [
              0.4444444444444444,
              "#bd3786"
             ],
             [
              0.5555555555555556,
              "#d8576b"
             ],
             [
              0.6666666666666666,
              "#ed7953"
             ],
             [
              0.7777777777777778,
              "#fb9f3a"
             ],
             [
              0.8888888888888888,
              "#fdca26"
             ],
             [
              1,
              "#f0f921"
             ]
            ],
            "type": "histogram2dcontour"
           }
          ],
          "mesh3d": [
           {
            "colorbar": {
             "outlinewidth": 0,
             "ticks": ""
            },
            "type": "mesh3d"
           }
          ],
          "parcoords": [
           {
            "line": {
             "colorbar": {
              "outlinewidth": 0,
              "ticks": ""
             }
            },
            "type": "parcoords"
           }
          ],
          "pie": [
           {
            "automargin": true,
            "type": "pie"
           }
          ],
          "scatter": [
           {
            "marker": {
             "colorbar": {
              "outlinewidth": 0,
              "ticks": ""
             }
            },
            "type": "scatter"
           }
          ],
          "scatter3d": [
           {
            "line": {
             "colorbar": {
              "outlinewidth": 0,
              "ticks": ""
             }
            },
            "marker": {
             "colorbar": {
              "outlinewidth": 0,
              "ticks": ""
             }
            },
            "type": "scatter3d"
           }
          ],
          "scattercarpet": [
           {
            "marker": {
             "colorbar": {
              "outlinewidth": 0,
              "ticks": ""
             }
            },
            "type": "scattercarpet"
           }
          ],
          "scattergeo": [
           {
            "marker": {
             "colorbar": {
              "outlinewidth": 0,
              "ticks": ""
             }
            },
            "type": "scattergeo"
           }
          ],
          "scattergl": [
           {
            "marker": {
             "colorbar": {
              "outlinewidth": 0,
              "ticks": ""
             }
            },
            "type": "scattergl"
           }
          ],
          "scattermapbox": [
           {
            "marker": {
             "colorbar": {
              "outlinewidth": 0,
              "ticks": ""
             }
            },
            "type": "scattermapbox"
           }
          ],
          "scatterpolar": [
           {
            "marker": {
             "colorbar": {
              "outlinewidth": 0,
              "ticks": ""
             }
            },
            "type": "scatterpolar"
           }
          ],
          "scatterpolargl": [
           {
            "marker": {
             "colorbar": {
              "outlinewidth": 0,
              "ticks": ""
             }
            },
            "type": "scatterpolargl"
           }
          ],
          "scatterternary": [
           {
            "marker": {
             "colorbar": {
              "outlinewidth": 0,
              "ticks": ""
             }
            },
            "type": "scatterternary"
           }
          ],
          "surface": [
           {
            "colorbar": {
             "outlinewidth": 0,
             "ticks": ""
            },
            "colorscale": [
             [
              0,
              "#0d0887"
             ],
             [
              0.1111111111111111,
              "#46039f"
             ],
             [
              0.2222222222222222,
              "#7201a8"
             ],
             [
              0.3333333333333333,
              "#9c179e"
             ],
             [
              0.4444444444444444,
              "#bd3786"
             ],
             [
              0.5555555555555556,
              "#d8576b"
             ],
             [
              0.6666666666666666,
              "#ed7953"
             ],
             [
              0.7777777777777778,
              "#fb9f3a"
             ],
             [
              0.8888888888888888,
              "#fdca26"
             ],
             [
              1,
              "#f0f921"
             ]
            ],
            "type": "surface"
           }
          ],
          "table": [
           {
            "cells": {
             "fill": {
              "color": "#EBF0F8"
             },
             "line": {
              "color": "white"
             }
            },
            "header": {
             "fill": {
              "color": "#C8D4E3"
             },
             "line": {
              "color": "white"
             }
            },
            "type": "table"
           }
          ]
         },
         "layout": {
          "annotationdefaults": {
           "arrowcolor": "#2a3f5f",
           "arrowhead": 0,
           "arrowwidth": 1
          },
          "coloraxis": {
           "colorbar": {
            "outlinewidth": 0,
            "ticks": ""
           }
          },
          "colorscale": {
           "diverging": [
            [
             0,
             "#8e0152"
            ],
            [
             0.1,
             "#c51b7d"
            ],
            [
             0.2,
             "#de77ae"
            ],
            [
             0.3,
             "#f1b6da"
            ],
            [
             0.4,
             "#fde0ef"
            ],
            [
             0.5,
             "#f7f7f7"
            ],
            [
             0.6,
             "#e6f5d0"
            ],
            [
             0.7,
             "#b8e186"
            ],
            [
             0.8,
             "#7fbc41"
            ],
            [
             0.9,
             "#4d9221"
            ],
            [
             1,
             "#276419"
            ]
           ],
           "sequential": [
            [
             0,
             "#0d0887"
            ],
            [
             0.1111111111111111,
             "#46039f"
            ],
            [
             0.2222222222222222,
             "#7201a8"
            ],
            [
             0.3333333333333333,
             "#9c179e"
            ],
            [
             0.4444444444444444,
             "#bd3786"
            ],
            [
             0.5555555555555556,
             "#d8576b"
            ],
            [
             0.6666666666666666,
             "#ed7953"
            ],
            [
             0.7777777777777778,
             "#fb9f3a"
            ],
            [
             0.8888888888888888,
             "#fdca26"
            ],
            [
             1,
             "#f0f921"
            ]
           ],
           "sequentialminus": [
            [
             0,
             "#0d0887"
            ],
            [
             0.1111111111111111,
             "#46039f"
            ],
            [
             0.2222222222222222,
             "#7201a8"
            ],
            [
             0.3333333333333333,
             "#9c179e"
            ],
            [
             0.4444444444444444,
             "#bd3786"
            ],
            [
             0.5555555555555556,
             "#d8576b"
            ],
            [
             0.6666666666666666,
             "#ed7953"
            ],
            [
             0.7777777777777778,
             "#fb9f3a"
            ],
            [
             0.8888888888888888,
             "#fdca26"
            ],
            [
             1,
             "#f0f921"
            ]
           ]
          },
          "colorway": [
           "#636efa",
           "#EF553B",
           "#00cc96",
           "#ab63fa",
           "#FFA15A",
           "#19d3f3",
           "#FF6692",
           "#B6E880",
           "#FF97FF",
           "#FECB52"
          ],
          "font": {
           "color": "#2a3f5f"
          },
          "geo": {
           "bgcolor": "white",
           "lakecolor": "white",
           "landcolor": "#E5ECF6",
           "showlakes": true,
           "showland": true,
           "subunitcolor": "white"
          },
          "hoverlabel": {
           "align": "left"
          },
          "hovermode": "closest",
          "mapbox": {
           "style": "light"
          },
          "paper_bgcolor": "white",
          "plot_bgcolor": "#E5ECF6",
          "polar": {
           "angularaxis": {
            "gridcolor": "white",
            "linecolor": "white",
            "ticks": ""
           },
           "bgcolor": "#E5ECF6",
           "radialaxis": {
            "gridcolor": "white",
            "linecolor": "white",
            "ticks": ""
           }
          },
          "scene": {
           "xaxis": {
            "backgroundcolor": "#E5ECF6",
            "gridcolor": "white",
            "gridwidth": 2,
            "linecolor": "white",
            "showbackground": true,
            "ticks": "",
            "zerolinecolor": "white"
           },
           "yaxis": {
            "backgroundcolor": "#E5ECF6",
            "gridcolor": "white",
            "gridwidth": 2,
            "linecolor": "white",
            "showbackground": true,
            "ticks": "",
            "zerolinecolor": "white"
           },
           "zaxis": {
            "backgroundcolor": "#E5ECF6",
            "gridcolor": "white",
            "gridwidth": 2,
            "linecolor": "white",
            "showbackground": true,
            "ticks": "",
            "zerolinecolor": "white"
           }
          },
          "shapedefaults": {
           "line": {
            "color": "#2a3f5f"
           }
          },
          "ternary": {
           "aaxis": {
            "gridcolor": "white",
            "linecolor": "white",
            "ticks": ""
           },
           "baxis": {
            "gridcolor": "white",
            "linecolor": "white",
            "ticks": ""
           },
           "bgcolor": "#E5ECF6",
           "caxis": {
            "gridcolor": "white",
            "linecolor": "white",
            "ticks": ""
           }
          },
          "title": {
           "x": 0.05
          },
          "xaxis": {
           "automargin": true,
           "gridcolor": "white",
           "linecolor": "white",
           "ticks": "",
           "title": {
            "standoff": 15
           },
           "zerolinecolor": "white",
           "zerolinewidth": 2
          },
          "yaxis": {
           "automargin": true,
           "gridcolor": "white",
           "linecolor": "white",
           "ticks": "",
           "title": {
            "standoff": 15
           },
           "zerolinecolor": "white",
           "zerolinewidth": 2
          }
         }
        },
        "title": {
         "text": "Data - Reproduction number - Jalisco - Cases as reported",
         "x": 0.5
        },
        "yaxis": {
         "type": "linear"
        }
       }
      },
      "text/html": [
       "<div>\n",
       "        \n",
       "        \n",
       "            <div id=\"729607fa-24b7-49df-9579-2fe7b4ea2847\" class=\"plotly-graph-div\" style=\"height:525px; width:100%;\"></div>\n",
       "            <script type=\"text/javascript\">\n",
       "                require([\"plotly\"], function(Plotly) {\n",
       "                    window.PLOTLYENV=window.PLOTLYENV || {};\n",
       "                    \n",
       "                if (document.getElementById(\"729607fa-24b7-49df-9579-2fe7b4ea2847\")) {\n",
       "                    Plotly.newPlot(\n",
       "                        '729607fa-24b7-49df-9579-2fe7b4ea2847',\n",
       "                        [{\"line\": {\"width\": 2}, \"marker\": {\"size\": 6}, \"mode\": \"lines+markers\", \"name\": \"Rt - data - estimation - as reported\", \"opacity\": 0.6, \"type\": \"scatter\", \"x\": [\"2020-05-02T00:00:00\", \"2020-05-03T00:00:00\", \"2020-05-04T00:00:00\", \"2020-05-05T00:00:00\", \"2020-05-06T00:00:00\", \"2020-05-07T00:00:00\", \"2020-05-08T00:00:00\", \"2020-05-09T00:00:00\", \"2020-05-10T00:00:00\", \"2020-05-11T00:00:00\", \"2020-05-12T00:00:00\", \"2020-05-13T00:00:00\", \"2020-05-14T00:00:00\", \"2020-05-15T00:00:00\", \"2020-05-16T00:00:00\", \"2020-05-17T00:00:00\", \"2020-05-18T00:00:00\", \"2020-05-19T00:00:00\", \"2020-05-20T00:00:00\", \"2020-05-21T00:00:00\", \"2020-05-22T00:00:00\", \"2020-05-23T00:00:00\", \"2020-05-24T00:00:00\", \"2020-05-25T00:00:00\", \"2020-05-26T00:00:00\", \"2020-05-27T00:00:00\", \"2020-05-28T00:00:00\", \"2020-05-29T00:00:00\", \"2020-05-30T00:00:00\", \"2020-05-31T00:00:00\", \"2020-06-01T00:00:00\", \"2020-06-02T00:00:00\", \"2020-06-03T00:00:00\", \"2020-06-04T00:00:00\", \"2020-06-05T00:00:00\", \"2020-06-06T00:00:00\", \"2020-06-07T00:00:00\", \"2020-06-08T00:00:00\", \"2020-06-09T00:00:00\", \"2020-06-10T00:00:00\", \"2020-06-11T00:00:00\", \"2020-06-12T00:00:00\", \"2020-06-13T00:00:00\", \"2020-06-14T00:00:00\", \"2020-06-15T00:00:00\", \"2020-06-16T00:00:00\", \"2020-06-17T00:00:00\", \"2020-06-18T00:00:00\", \"2020-06-19T00:00:00\", \"2020-06-20T00:00:00\", \"2020-06-21T00:00:00\", \"2020-06-22T00:00:00\", \"2020-06-23T00:00:00\", \"2020-06-24T00:00:00\", \"2020-06-25T00:00:00\", \"2020-06-26T00:00:00\", \"2020-06-27T00:00:00\", \"2020-06-28T00:00:00\", \"2020-06-29T00:00:00\", \"2020-06-30T00:00:00\", \"2020-07-01T00:00:00\", \"2020-07-02T00:00:00\", \"2020-07-03T00:00:00\", \"2020-07-04T00:00:00\", \"2020-07-05T00:00:00\", \"2020-07-06T00:00:00\", \"2020-07-07T00:00:00\", \"2020-07-08T00:00:00\", \"2020-07-09T00:00:00\", \"2020-07-10T00:00:00\", \"2020-07-11T00:00:00\", \"2020-07-12T00:00:00\", \"2020-07-13T00:00:00\", \"2020-07-14T00:00:00\", \"2020-07-15T00:00:00\", \"2020-07-16T00:00:00\", \"2020-07-17T00:00:00\", \"2020-07-18T00:00:00\", \"2020-07-19T00:00:00\", \"2020-07-20T00:00:00\", \"2020-07-21T00:00:00\", \"2020-07-22T00:00:00\", \"2020-07-23T00:00:00\", \"2020-07-24T00:00:00\", \"2020-07-25T00:00:00\", \"2020-07-26T00:00:00\", \"2020-07-27T00:00:00\", \"2020-07-28T00:00:00\", \"2020-07-29T00:00:00\", \"2020-07-30T00:00:00\", \"2020-07-31T00:00:00\", \"2020-08-01T00:00:00\", \"2020-08-02T00:00:00\", \"2020-08-03T00:00:00\", \"2020-08-04T00:00:00\", \"2020-08-05T00:00:00\", \"2020-08-06T00:00:00\", \"2020-08-07T00:00:00\", \"2020-08-08T00:00:00\", \"2020-08-09T00:00:00\", \"2020-08-10T00:00:00\", \"2020-08-11T00:00:00\", \"2020-08-12T00:00:00\", \"2020-08-13T00:00:00\", \"2020-08-14T00:00:00\", \"2020-08-15T00:00:00\", \"2020-08-16T00:00:00\", \"2020-08-17T00:00:00\", \"2020-08-18T00:00:00\", \"2020-08-19T00:00:00\", \"2020-08-20T00:00:00\", \"2020-08-21T00:00:00\", \"2020-08-22T00:00:00\", \"2020-08-23T00:00:00\", \"2020-08-24T00:00:00\", \"2020-08-25T00:00:00\", \"2020-08-26T00:00:00\", \"2020-08-27T00:00:00\", \"2020-08-28T00:00:00\", \"2020-08-29T00:00:00\", \"2020-08-30T00:00:00\", \"2020-08-31T00:00:00\"], \"y\": [1.31925304820484, 1.299152945921402, 1.284215595697755, 1.2725764345752681, 1.3012298236073168, 1.3212023987435444, 1.3061248041701499, 1.276933111361919, 1.2371836800007374, 1.221385101669978, 1.2495318320385111, 1.2649820374341014, 1.2884515525328388, 1.2845138318142968, 1.263348562696055, 1.2545756936181065, 1.2628619123482685, 1.2692708047349501, 1.2617819947331943, 1.2761314428894557, 1.272869568123483, 1.2622250639716197, 1.230717490072917, 1.2130539149825474, 1.223122928846007, 1.21406947170041, 1.1931287697201154, 1.168449354222477, 1.1481829452875671, 1.1470298789445716, 1.153333846266893, 1.185602799356848, 1.1992447196802125, 1.2026771826136033, 1.181786553071445, 1.1468754324217714, 1.1267792553428788, 1.123348797750233, 1.153155617042785, 1.174366901188057, 1.1703645489658228, 1.1524808666739916, 1.110887880451272, 1.1007429502446917, 1.098316895633727, 1.1262271944371975, 1.1487359754920214, 1.1618806887815596, 1.1501769472132406, 1.138398483448891, 1.1367772368420517, 1.1289278082117826, 1.1382410231476003, 1.119768884542878, 1.101255358286657, 1.066010183534381, 1.030762258037556, 1.0171715612988952, 1.0301651384059745, 1.0746572244652361, 1.1105156781384973, 1.1386798958820792, 1.1396805057196926, 1.1218492771235926, 1.0854124420407032, 1.080701634475131, 1.0996403475136824, 1.1118285259263774, 1.1053797298246273, 1.0790008018803745, 1.0432474358919415, 1.0129704955064334, 1.017147996101763, 1.0484272965680235, 1.0563142675164308, 1.065777211185662, 1.0734182513844284, 1.064124538461382, 1.0339329680738054, 1.028743865987337, 1.0481457060808874, 1.0575997977271945, 1.0776097037706585, 1.0615678114365736, 1.032481242550901, 1.0054385807178543, 1.0010204240692968, 1.0257087296087037, 1.0351491808899906, 1.0616250106217353, 1.067954434451257, 1.0457883013670137, 0.9789220773707656, 0.9496956563651758, 0.9519714464505263, 0.9560161037176894, 0.961458992964127, 0.9593756895295453, 0.9474756160113196, 0.9292198316552347, 0.942703132137276, 0.9618833820201715, 0.9645879671286227, 0.9695398190026151, 0.9459292145397703, 0.929340375601519, 0.9014607136555359, 0.8968943279042858, 0.9294696249547966, 0.956170066469472, 0.9735951730547745, 0.9628838013758332, 0.9449343900650415, 0.9061177192323168, 0.8968880020052069, 0.9209246798471147, 0.9449150649318365, 0.9622910302537984, 0.9573475549309429, 0.9369449693290043, 0.8966971883872575, 0.874883018747048]}, {\"line\": {\"width\": 0}, \"name\": \"Lower CI\", \"showlegend\": false, \"type\": \"scatter\", \"x\": [\"2020-05-02T00:00:00\", \"2020-05-03T00:00:00\", \"2020-05-04T00:00:00\", \"2020-05-05T00:00:00\", \"2020-05-06T00:00:00\", \"2020-05-07T00:00:00\", \"2020-05-08T00:00:00\", \"2020-05-09T00:00:00\", \"2020-05-10T00:00:00\", \"2020-05-11T00:00:00\", \"2020-05-12T00:00:00\", \"2020-05-13T00:00:00\", \"2020-05-14T00:00:00\", \"2020-05-15T00:00:00\", \"2020-05-16T00:00:00\", \"2020-05-17T00:00:00\", \"2020-05-18T00:00:00\", \"2020-05-19T00:00:00\", \"2020-05-20T00:00:00\", \"2020-05-21T00:00:00\", \"2020-05-22T00:00:00\", \"2020-05-23T00:00:00\", \"2020-05-24T00:00:00\", \"2020-05-25T00:00:00\", \"2020-05-26T00:00:00\", \"2020-05-27T00:00:00\", \"2020-05-28T00:00:00\", \"2020-05-29T00:00:00\", \"2020-05-30T00:00:00\", \"2020-05-31T00:00:00\", \"2020-06-01T00:00:00\", \"2020-06-02T00:00:00\", \"2020-06-03T00:00:00\", \"2020-06-04T00:00:00\", \"2020-06-05T00:00:00\", \"2020-06-06T00:00:00\", \"2020-06-07T00:00:00\", \"2020-06-08T00:00:00\", \"2020-06-09T00:00:00\", \"2020-06-10T00:00:00\", \"2020-06-11T00:00:00\", \"2020-06-12T00:00:00\", \"2020-06-13T00:00:00\", \"2020-06-14T00:00:00\", \"2020-06-15T00:00:00\", \"2020-06-16T00:00:00\", \"2020-06-17T00:00:00\", \"2020-06-18T00:00:00\", \"2020-06-19T00:00:00\", \"2020-06-20T00:00:00\", \"2020-06-21T00:00:00\", \"2020-06-22T00:00:00\", \"2020-06-23T00:00:00\", \"2020-06-24T00:00:00\", \"2020-06-25T00:00:00\", \"2020-06-26T00:00:00\", \"2020-06-27T00:00:00\", \"2020-06-28T00:00:00\", \"2020-06-29T00:00:00\", \"2020-06-30T00:00:00\", \"2020-07-01T00:00:00\", \"2020-07-02T00:00:00\", \"2020-07-03T00:00:00\", \"2020-07-04T00:00:00\", \"2020-07-05T00:00:00\", \"2020-07-06T00:00:00\", \"2020-07-07T00:00:00\", \"2020-07-08T00:00:00\", \"2020-07-09T00:00:00\", \"2020-07-10T00:00:00\", \"2020-07-11T00:00:00\", \"2020-07-12T00:00:00\", \"2020-07-13T00:00:00\", \"2020-07-14T00:00:00\", \"2020-07-15T00:00:00\", \"2020-07-16T00:00:00\", \"2020-07-17T00:00:00\", \"2020-07-18T00:00:00\", \"2020-07-19T00:00:00\", \"2020-07-20T00:00:00\", \"2020-07-21T00:00:00\", \"2020-07-22T00:00:00\", \"2020-07-23T00:00:00\", \"2020-07-24T00:00:00\", \"2020-07-25T00:00:00\", \"2020-07-26T00:00:00\", \"2020-07-27T00:00:00\", \"2020-07-28T00:00:00\", \"2020-07-29T00:00:00\", \"2020-07-30T00:00:00\", \"2020-07-31T00:00:00\", \"2020-08-01T00:00:00\", \"2020-08-02T00:00:00\", \"2020-08-03T00:00:00\", \"2020-08-04T00:00:00\", \"2020-08-05T00:00:00\", \"2020-08-06T00:00:00\", \"2020-08-07T00:00:00\", \"2020-08-08T00:00:00\", \"2020-08-09T00:00:00\", \"2020-08-10T00:00:00\", \"2020-08-11T00:00:00\", \"2020-08-12T00:00:00\", \"2020-08-13T00:00:00\", \"2020-08-14T00:00:00\", \"2020-08-15T00:00:00\", \"2020-08-16T00:00:00\", \"2020-08-17T00:00:00\", \"2020-08-18T00:00:00\", \"2020-08-19T00:00:00\", \"2020-08-20T00:00:00\", \"2020-08-21T00:00:00\", \"2020-08-22T00:00:00\", \"2020-08-23T00:00:00\", \"2020-08-24T00:00:00\", \"2020-08-25T00:00:00\", \"2020-08-26T00:00:00\", \"2020-08-27T00:00:00\", \"2020-08-28T00:00:00\", \"2020-08-29T00:00:00\", \"2020-08-30T00:00:00\", \"2020-08-31T00:00:00\"], \"y\": [1.24614624008841, 1.2260461269480285, 1.2111087875813253, 1.1994696264588383, 1.2281230154908869, 1.2480955906271145, 1.2330179960537202, 1.203826303245489, 1.1640768718843075, 1.148278293553548, 1.1764250239220813, 1.1918752293176715, 1.215344744416409, 1.2114070236978671, 1.1902417545796253, 1.1814688855016766, 1.1897551042318386, 1.1961639966185205, 1.1886751866167646, 1.2030246347730258, 1.199762760007053, 1.18911825585519, 1.1576106819564873, 1.1399471068661176, 1.1500161207295774, 1.1409626635839802, 1.1200219616036855, 1.095342546106047, 1.0750761371711373, 1.0739230708281418, 1.080227038150463, 1.1124959912404182, 1.1261379115637826, 1.1295703744971735, 1.1086797449550154, 1.0737686243053415, 1.053672447226449, 1.050241989633803, 1.0800488089263554, 1.1012600930716272, 1.0972577408493929, 1.079374058557562, 1.0377810723348424, 1.0276361421282618, 1.0252100875172974, 1.0531203863207677, 1.0756291673755918, 1.08877388066513, 1.077070139096811, 1.0652916753324613, 1.0636704287256218, 1.055821000095353, 1.0651342150311707, 1.0466620764264483, 1.0281485501702274, 0.9929033754179512, 0.9576554499211262, 0.9440647531824654, 0.9570583302895447, 1.0015504163488065, 1.0374088700220674, 1.0655730877656495, 1.0665736976032627, 1.0487424690071627, 1.0123056339242735, 1.0075948263587011, 1.0265335393972528, 1.0387217178099477, 1.0322729217081976, 1.0058939937639448, 0.9701406277755117, 0.9398636873900036, 0.9440411879853333, 0.9753204884515937, 0.9832074594000009, 0.992670403069232, 1.000311443267998, 0.9910177303449512, 0.9608261599573735, 0.9556370578709028, 0.975038897964449, 0.9844929896107472, 1.0045028956541935, 0.9884610033200727, 0.9593744344343278, 0.9323317726011358, 0.9279136159522854, 0.9526019214911021, 0.9620423727712, 0.9885182025005496, 0.9948476263252461, 0.9726814932312824, 0.9058152692154522, 0.8765888481704134, 0.8788646381762926, 0.8829092952833579, 0.888352184207273, 0.8862688801229583, 0.8743688052958225, 0.8561130183028918, 0.8695963134729142, 0.8887765526545608, 0.8914811162049717, 0.8964329246495479, 0.8728222326966846, 0.8562332175070109, 0.8283532004975862, 0.8237860994636959, 0.8563599555732482, 0.8830574943475685, 0.9004767536095449, 0.8897536037103565, 0.8717804705159987, 0.832916034451045, 0.8235901869865365, 0.8474335888730486, 0.8710361480109281, 0.8876369416401557, 0.8811557988412927, 0.8577461265713546, 0.8117631275187016, 0.7794358949894457]}, {\"fill\": \"tonexty\", \"fillcolor\": \"rgba(68, 68, 68, 0.15)\", \"line\": {\"width\": 0}, \"name\": \"upper CI\", \"showlegend\": false, \"type\": \"scatter\", \"x\": [\"2020-05-02T00:00:00\", \"2020-05-03T00:00:00\", \"2020-05-04T00:00:00\", \"2020-05-05T00:00:00\", \"2020-05-06T00:00:00\", \"2020-05-07T00:00:00\", \"2020-05-08T00:00:00\", \"2020-05-09T00:00:00\", \"2020-05-10T00:00:00\", \"2020-05-11T00:00:00\", \"2020-05-12T00:00:00\", \"2020-05-13T00:00:00\", \"2020-05-14T00:00:00\", \"2020-05-15T00:00:00\", \"2020-05-16T00:00:00\", \"2020-05-17T00:00:00\", \"2020-05-18T00:00:00\", \"2020-05-19T00:00:00\", \"2020-05-20T00:00:00\", \"2020-05-21T00:00:00\", \"2020-05-22T00:00:00\", \"2020-05-23T00:00:00\", \"2020-05-24T00:00:00\", \"2020-05-25T00:00:00\", \"2020-05-26T00:00:00\", \"2020-05-27T00:00:00\", \"2020-05-28T00:00:00\", \"2020-05-29T00:00:00\", \"2020-05-30T00:00:00\", \"2020-05-31T00:00:00\", \"2020-06-01T00:00:00\", \"2020-06-02T00:00:00\", \"2020-06-03T00:00:00\", \"2020-06-04T00:00:00\", \"2020-06-05T00:00:00\", \"2020-06-06T00:00:00\", \"2020-06-07T00:00:00\", \"2020-06-08T00:00:00\", \"2020-06-09T00:00:00\", \"2020-06-10T00:00:00\", \"2020-06-11T00:00:00\", \"2020-06-12T00:00:00\", \"2020-06-13T00:00:00\", \"2020-06-14T00:00:00\", \"2020-06-15T00:00:00\", \"2020-06-16T00:00:00\", \"2020-06-17T00:00:00\", \"2020-06-18T00:00:00\", \"2020-06-19T00:00:00\", \"2020-06-20T00:00:00\", \"2020-06-21T00:00:00\", \"2020-06-22T00:00:00\", \"2020-06-23T00:00:00\", \"2020-06-24T00:00:00\", \"2020-06-25T00:00:00\", \"2020-06-26T00:00:00\", \"2020-06-27T00:00:00\", \"2020-06-28T00:00:00\", \"2020-06-29T00:00:00\", \"2020-06-30T00:00:00\", \"2020-07-01T00:00:00\", \"2020-07-02T00:00:00\", \"2020-07-03T00:00:00\", \"2020-07-04T00:00:00\", \"2020-07-05T00:00:00\", \"2020-07-06T00:00:00\", \"2020-07-07T00:00:00\", \"2020-07-08T00:00:00\", \"2020-07-09T00:00:00\", \"2020-07-10T00:00:00\", \"2020-07-11T00:00:00\", \"2020-07-12T00:00:00\", \"2020-07-13T00:00:00\", \"2020-07-14T00:00:00\", \"2020-07-15T00:00:00\", \"2020-07-16T00:00:00\", \"2020-07-17T00:00:00\", \"2020-07-18T00:00:00\", \"2020-07-19T00:00:00\", \"2020-07-20T00:00:00\", \"2020-07-21T00:00:00\", \"2020-07-22T00:00:00\", \"2020-07-23T00:00:00\", \"2020-07-24T00:00:00\", \"2020-07-25T00:00:00\", \"2020-07-26T00:00:00\", \"2020-07-27T00:00:00\", \"2020-07-28T00:00:00\", \"2020-07-29T00:00:00\", \"2020-07-30T00:00:00\", \"2020-07-31T00:00:00\", \"2020-08-01T00:00:00\", \"2020-08-02T00:00:00\", \"2020-08-03T00:00:00\", \"2020-08-04T00:00:00\", \"2020-08-05T00:00:00\", \"2020-08-06T00:00:00\", \"2020-08-07T00:00:00\", \"2020-08-08T00:00:00\", \"2020-08-09T00:00:00\", \"2020-08-10T00:00:00\", \"2020-08-11T00:00:00\", \"2020-08-12T00:00:00\", \"2020-08-13T00:00:00\", \"2020-08-14T00:00:00\", \"2020-08-15T00:00:00\", \"2020-08-16T00:00:00\", \"2020-08-17T00:00:00\", \"2020-08-18T00:00:00\", \"2020-08-19T00:00:00\", \"2020-08-20T00:00:00\", \"2020-08-21T00:00:00\", \"2020-08-22T00:00:00\", \"2020-08-23T00:00:00\", \"2020-08-24T00:00:00\", \"2020-08-25T00:00:00\", \"2020-08-26T00:00:00\", \"2020-08-27T00:00:00\", \"2020-08-28T00:00:00\", \"2020-08-29T00:00:00\", \"2020-08-30T00:00:00\", \"2020-08-31T00:00:00\"], \"y\": [1.3923598563212698, 1.3722597648947754, 1.3573224038141847, 1.345683242691698, 1.3743366317237466, 1.3943092068599743, 1.3792316122865795, 1.3500399194783488, 1.3102904881171673, 1.2944919097864078, 1.322638640154941, 1.3380888455505313, 1.3615583606492687, 1.3576206399307265, 1.3364553708124847, 1.3276825017345364, 1.3359687204646984, 1.3423776128513798, 1.334888802849624, 1.3492382510058856, 1.3459763762399128, 1.3353318720880494, 1.3038242981893466, 1.2861607230989773, 1.2962297369624367, 1.2871762798168396, 1.2662355778365453, 1.2415561623389069, 1.221289753403997, 1.2201366870610015, 1.2264406543833228, 1.258709607473278, 1.2723515277966424, 1.2757839907300332, 1.2548933611878748, 1.2199822405382013, 1.1998860634593087, 1.1964556058666629, 1.2262624251592147, 1.247473709304487, 1.2434713570822526, 1.2255876747904213, 1.1839946885677017, 1.1738497583611216, 1.1714237037501567, 1.1993340025536274, 1.221842783608451, 1.2349874968979893, 1.2232837553296703, 1.2115052915653206, 1.2098840449584816, 1.2020346163282123, 1.21134783126403, 1.1928756926593076, 1.1743621664030868, 1.1391169916508108, 1.1038690661539858, 1.090278369415325, 1.1032719465224043, 1.1477640325816658, 1.1836224862549272, 1.2117867039985089, 1.2127873138361225, 1.1949560852400225, 1.1585192501571329, 1.153808442591561, 1.1727471556301121, 1.184935334042807, 1.178486537941057, 1.1521076099968042, 1.1163542440083711, 1.0860773036228633, 1.090254804218193, 1.1215341046844534, 1.1294210756328606, 1.1388840193020922, 1.1465250595008587, 1.1372313465778128, 1.1070397761902373, 1.101850674103771, 1.121252514197326, 1.1307066058436417, 1.1507165118871234, 1.1346746195530746, 1.105588050667474, 1.0785453888345728, 1.0741272321863082, 1.0988155377263054, 1.1082559890087813, 1.1347318187429212, 1.141061242577268, 1.118895109502745, 1.052028885526079, 1.0228024645599383, 1.02507825472476, 1.029122912152021, 1.034565801720981, 1.0324824989361323, 1.0205824267268166, 1.0023266450075776, 1.0158099508016378, 1.0349902113857823, 1.0376948180522738, 1.0426467133556823, 1.019036196382856, 1.0024475336960272, 0.9745682268134856, 0.9700025563448758, 1.002579294336345, 1.0292826385913754, 1.0467135925000042, 1.0360139990413098, 1.0180883096140843, 0.9793194040135885, 0.9701858170238773, 0.9944157708211807, 1.018793981852745, 1.036945118867441, 1.0335393110205933, 1.016143812086654, 0.9816312492558135, 0.9703301425046503]}, {\"line\": {\"width\": 2}, \"marker\": {\"size\": 6}, \"mode\": \"lines+markers\", \"name\": \"Rt - data - estimation - as occurred\", \"opacity\": 0.6, \"type\": \"scatter\", \"x\": [\"2020-03-13\", \"2020-03-14\", \"2020-03-15\", \"2020-03-16\", \"2020-03-17\", \"2020-03-18\", \"2020-03-19\", \"2020-03-20\", \"2020-03-21\", \"2020-03-22\", \"2020-03-23\", \"2020-03-24\", \"2020-03-25\", \"2020-03-26\", \"2020-03-27\", \"2020-03-28\", \"2020-03-29\", \"2020-03-30\", \"2020-03-31\", \"2020-04-01\", \"2020-04-02\", \"2020-04-03\", \"2020-04-04\", \"2020-04-05\", \"2020-04-06\", \"2020-04-07\", \"2020-04-08\", \"2020-04-09\", \"2020-04-10\", \"2020-04-11\", \"2020-04-12\", \"2020-04-13\", \"2020-04-14\", \"2020-04-15\", \"2020-04-16\", \"2020-04-17\", \"2020-04-18\", \"2020-04-19\", \"2020-04-20\", \"2020-04-21\", \"2020-04-22\", \"2020-04-23\", \"2020-04-24\", \"2020-04-25\", \"2020-04-26\", \"2020-04-27\", \"2020-04-28\", \"2020-04-29\", \"2020-04-30\", \"2020-05-01\", \"2020-05-02\", \"2020-05-03\", \"2020-05-04\", \"2020-05-05\", \"2020-05-06\", \"2020-05-07\", \"2020-05-08\", \"2020-05-09\", \"2020-05-10\", \"2020-05-11\", \"2020-05-12\", \"2020-05-13\", \"2020-05-14\", \"2020-05-15\", \"2020-05-16\", \"2020-05-17\", \"2020-05-18\", \"2020-05-19\", \"2020-05-20\", \"2020-05-21\", \"2020-05-22\", \"2020-05-23\", \"2020-05-24\", \"2020-05-25\", \"2020-05-26\", \"2020-05-27\", \"2020-05-28\", \"2020-05-29\", \"2020-05-30\", \"2020-05-31\", \"2020-06-01\", \"2020-06-02\", \"2020-06-03\", \"2020-06-04\", \"2020-06-05\", \"2020-06-06\", \"2020-06-07\", \"2020-06-08\", \"2020-06-09\", \"2020-06-10\", \"2020-06-11\", \"2020-06-12\", \"2020-06-13\", \"2020-06-14\", \"2020-06-15\", \"2020-06-16\", \"2020-06-17\", \"2020-06-18\", \"2020-06-19\", \"2020-06-20\", \"2020-06-21\", \"2020-06-22\", \"2020-06-23\", \"2020-06-24\", \"2020-06-25\", \"2020-06-26\", \"2020-06-27\", \"2020-06-28\", \"2020-06-29\", \"2020-06-30\", \"2020-07-01\", \"2020-07-02\", \"2020-07-03\", \"2020-07-04\", \"2020-07-05\", \"2020-07-06\", \"2020-07-07\", \"2020-07-08\", \"2020-07-09\", \"2020-07-10\", \"2020-07-11\", \"2020-07-12\", \"2020-07-13\", \"2020-07-14\", \"2020-07-15\", \"2020-07-16\", \"2020-07-17\", \"2020-07-18\", \"2020-07-19\", \"2020-07-20\", \"2020-07-21\", \"2020-07-22\", \"2020-07-23\", \"2020-07-24\", \"2020-07-25\", \"2020-07-26\", \"2020-07-27\", \"2020-07-28\", \"2020-07-29\", \"2020-07-30\", \"2020-07-31\", \"2020-08-01\", \"2020-08-02\", \"2020-08-03\", \"2020-08-04\", \"2020-08-05\", \"2020-08-06\", \"2020-08-07\", \"2020-08-08\", \"2020-08-09\", \"2020-08-10\", \"2020-08-11\", \"2020-08-12\", \"2020-08-13\", \"2020-08-14\", \"2020-08-15\", \"2020-08-16\", \"2020-08-17\", \"2020-08-18\", \"2020-08-19\", \"2020-08-20\", \"2020-08-21\", \"2020-08-22\", \"2020-08-23\", \"2020-08-24\", \"2020-08-25\", \"2020-08-26\", \"2020-08-27\", \"2020-08-28\", \"2020-08-29\", \"2020-08-30\", \"2020-08-31\"], \"y\": [1.9723695649178983, 1.9678374767537405, 1.9587249711404846, 1.9551579560047485, 1.945166547883068, 1.9247488864843982, 1.8986025210139275, 1.8690682387995072, 1.8413261337837228, 1.822339448000767, 1.8148974081375693, 1.804611660346648, 1.7890181676844072, 1.7749205519524878, 1.7600074115400575, 1.742190229274502, 1.728676743635256, 1.721504624302354, 1.7062156359385292, 1.689945952496069, 1.6713492143792843, 1.6535983619764405, 1.6363729938994767, 1.6263927842979455, 1.6231165257892886, 1.6114884912225058, 1.599046010919004, 1.5851872414736454, 1.5749278163807576, 1.5659930974076817, 1.5616276075209812, 1.5616495188452282, 1.5541940207287066, 1.5431995437605188, 1.529972527944421, 1.5158465065625233, 1.4996125418328636, 1.4876709134920634, 1.4809400552203977, 1.4683463447171015, 1.4530090779907696, 1.4375240667005138, 1.42164601653266, 1.4041350261913637, 1.3917341604942735, 1.3844660319306765, 1.373981806539072, 1.361913966805505, 1.3494517104958788, 1.3372093277289632, 1.3287136740893284, 1.3239390296967433, 1.3237065647796398, 1.3179760566481944, 1.311729608863213, 1.304382341182467, 1.2960626686628556, 1.2873753739108784, 1.2838193282345252, 1.2857699130625297, 1.2837011916319556, 1.2793934452107771, 1.2726884719627503, 1.2648366627515815, 1.2546098462754416, 1.2485803935591404, 1.2487857130872166, 1.2439329609951337, 1.237570221757141, 1.2290381572304105, 1.2188529212311348, 1.2077020778690775, 1.2018368349475093, 1.202242485331689, 1.1983345930946254, 1.192375035633789, 1.1846423573686518, 1.1765420752838331, 1.1680170245239752, 1.16410238401091, 1.1663970115745785, 1.1642833878989083, 1.1606094128124522, 1.1553027276802281, 1.1490913148652098, 1.141979346720357, 1.1395231307181946, 1.1430762917832231, 1.1415253242726775, 1.1372979652863346, 1.1312119286634472, 1.1245622686539583, 1.1170815475890754, 1.1147453579135123, 1.1182842503718735, 1.1173675586826335, 1.1134888929991171, 1.1080485326916147, 1.1015938309485545, 1.0943366542011101, 1.091649559170115, 1.0954876588356202, 1.0953868401008107, 1.0928503109680041, 1.0890967620102117, 1.0845721687187324, 1.079056491280449, 1.0781994400169501, 1.0830758226439718, 1.0836149364307628, 1.0814923511940837, 1.0766060971754674, 1.0705931575756014, 1.063707568090118, 1.0619726779907823, 1.066213312325698, 1.0665644565516237, 1.0638751487481042, 1.0595415073282044, 1.0544153538036398, 1.0486381194573227, 1.0478563044461835, 1.0528286848050115, 1.0531474319941074, 1.0504382305627014, 1.0446764881041999, 1.0373068129228384, 1.0290989576935987, 1.0254099996720494, 1.0274447910968638, 1.0249362909705761, 1.019421919486885, 1.0120263137812262, 1.0033674862856679, 0.9937492591807016, 0.9889022068772021, 0.9900804814587522, 0.9877073290373444, 0.9829673365083608, 0.9768556156795071, 0.9697194729531814, 0.9629104348013228, 0.9607111986219745, 0.9647153190880329, 0.9655900826629881, 0.9641169920148415, 0.9611283502436113, 0.9573646259621282, 0.9530853570218922, 0.9531102971095546, 0.9591573100187261, 0.9616853087257494, 0.9617030337043121, 0.9604188462244426, 0.9580199840020772, 0.9551319635755307, 0.956795535117848, 0.9643087464876207, 0.9680019196366637, 0.9689232088380499, 0.9681365582446532, 0.9666286140600671, 0.9638229483939572, 0.9657638067165427, 0.973408747295532, 0.9763992990391768, 0.976467873765079, 0.9733744863938973, 0.968545690674457, 0.9623226111037234, 0.9607845796919351, 0.9652313926301755]}, {\"line\": {\"width\": 0}, \"name\": \"Lower CI\", \"showlegend\": false, \"type\": \"scatter\", \"x\": [\"2020-03-13\", \"2020-03-14\", \"2020-03-15\", \"2020-03-16\", \"2020-03-17\", \"2020-03-18\", \"2020-03-19\", \"2020-03-20\", \"2020-03-21\", \"2020-03-22\", \"2020-03-23\", \"2020-03-24\", \"2020-03-25\", \"2020-03-26\", \"2020-03-27\", \"2020-03-28\", \"2020-03-29\", \"2020-03-30\", \"2020-03-31\", \"2020-04-01\", \"2020-04-02\", \"2020-04-03\", \"2020-04-04\", \"2020-04-05\", \"2020-04-06\", \"2020-04-07\", \"2020-04-08\", \"2020-04-09\", \"2020-04-10\", \"2020-04-11\", \"2020-04-12\", \"2020-04-13\", \"2020-04-14\", \"2020-04-15\", \"2020-04-16\", \"2020-04-17\", \"2020-04-18\", \"2020-04-19\", \"2020-04-20\", \"2020-04-21\", \"2020-04-22\", \"2020-04-23\", \"2020-04-24\", \"2020-04-25\", \"2020-04-26\", \"2020-04-27\", \"2020-04-28\", \"2020-04-29\", \"2020-04-30\", \"2020-05-01\", \"2020-05-02\", \"2020-05-03\", \"2020-05-04\", \"2020-05-05\", \"2020-05-06\", \"2020-05-07\", \"2020-05-08\", \"2020-05-09\", \"2020-05-10\", \"2020-05-11\", \"2020-05-12\", \"2020-05-13\", \"2020-05-14\", \"2020-05-15\", \"2020-05-16\", \"2020-05-17\", \"2020-05-18\", \"2020-05-19\", \"2020-05-20\", \"2020-05-21\", \"2020-05-22\", \"2020-05-23\", \"2020-05-24\", \"2020-05-25\", \"2020-05-26\", \"2020-05-27\", \"2020-05-28\", \"2020-05-29\", \"2020-05-30\", \"2020-05-31\", \"2020-06-01\", \"2020-06-02\", \"2020-06-03\", \"2020-06-04\", \"2020-06-05\", \"2020-06-06\", \"2020-06-07\", \"2020-06-08\", \"2020-06-09\", \"2020-06-10\", \"2020-06-11\", \"2020-06-12\", \"2020-06-13\", \"2020-06-14\", \"2020-06-15\", \"2020-06-16\", \"2020-06-17\", \"2020-06-18\", \"2020-06-19\", \"2020-06-20\", \"2020-06-21\", \"2020-06-22\", \"2020-06-23\", \"2020-06-24\", \"2020-06-25\", \"2020-06-26\", \"2020-06-27\", \"2020-06-28\", \"2020-06-29\", \"2020-06-30\", \"2020-07-01\", \"2020-07-02\", \"2020-07-03\", \"2020-07-04\", \"2020-07-05\", \"2020-07-06\", \"2020-07-07\", \"2020-07-08\", \"2020-07-09\", \"2020-07-10\", \"2020-07-11\", \"2020-07-12\", \"2020-07-13\", \"2020-07-14\", \"2020-07-15\", \"2020-07-16\", \"2020-07-17\", \"2020-07-18\", \"2020-07-19\", \"2020-07-20\", \"2020-07-21\", \"2020-07-22\", \"2020-07-23\", \"2020-07-24\", \"2020-07-25\", \"2020-07-26\", \"2020-07-27\", \"2020-07-28\", \"2020-07-29\", \"2020-07-30\", \"2020-07-31\", \"2020-08-01\", \"2020-08-02\", \"2020-08-03\", \"2020-08-04\", \"2020-08-05\", \"2020-08-06\", \"2020-08-07\", \"2020-08-08\", \"2020-08-09\", \"2020-08-10\", \"2020-08-11\", \"2020-08-12\", \"2020-08-13\", \"2020-08-14\", \"2020-08-15\", \"2020-08-16\", \"2020-08-17\", \"2020-08-18\", \"2020-08-19\", \"2020-08-20\", \"2020-08-21\", \"2020-08-22\", \"2020-08-23\", \"2020-08-24\", \"2020-08-25\", \"2020-08-26\", \"2020-08-27\", \"2020-08-28\", \"2020-08-29\", \"2020-08-30\", \"2020-08-31\"], \"y\": [1.8604558923221757, 1.8609885245607367, 1.856180253050525, 1.8562525993090633, 1.8493235208284604, 1.8314710494396889, 1.8074645870703638, 1.7797088073677383, 1.7534399748914942, 1.735670198963727, 1.7292308089054838, 1.719769410197944, 1.704852442875712, 1.6913091870245065, 1.6768497188019762, 1.6594034118496572, 1.6461928463115696, 1.6392679616479793, 1.6241806369759055, 1.6080753641230494, 1.5896126104367054, 1.571970910461663, 1.5548344406741195, 1.5449266173226204, 1.541709289196262, 1.5301292232863664, 1.5177257841629346, 1.5038987867622287, 1.4936652159357566, 1.4847515342921125, 1.4804031613256308, 1.4804389991370321, 1.4729948313351344, 1.4620095722162822, 1.4487900554587583, 1.4346701347136244, 1.418441132891983, 1.4065035418499356, 1.3997759678549058, 1.3871849290222207, 1.3718498355979358, 1.3563665921774146, 1.3404899800514414, 1.3229801594269555, 1.3105802451509956, 1.3033128904072377, 1.2928292943332398, 1.2807619663339334, 1.2683001260649815, 1.2560580814418691, 1.2475627025139393, 1.2427882811524351, 1.2425559971265847, 1.2368256354847673, 1.23057930605439, 1.2232321336562773, 1.2149125374234098, 1.2062253032257566, 1.202669304961767, 1.2046199260884367, 1.202551231395659, 1.1982435032952323, 1.1915385407346621, 1.1836867350348574, 1.1734599150442033, 1.167430465838544, 1.167635785363995, 1.1627830332686848, 1.1564202940267247, 1.1478882294951174, 1.137702993489846, 1.1265521501204183, 1.1206869071897894, 1.1210925575628308, 1.1171846653120743, 1.1112251078344046, 1.1034924295485742, 1.0953921474383168, 1.0868670966471863, 1.082952456095677, 1.085247083612085, 1.0831334598783162, 1.0794594847204382, 1.074152799500413, 1.0679413865774585, 1.0608294182999172, 1.058373202134637, 1.061926362999141, 1.060375395242085, 1.0561480359527002, 1.0500619989572755, 1.0434123384898168, 1.0359316168619397, 1.0335954264942728, 1.0371343181018127, 1.0362176253666355, 1.0323389583973213, 1.0268985965091537, 1.02044389282294, 1.0131867136867263, 1.0104996157191541, 1.014337711774648, 1.0142368886019568, 1.0117003540135459, 1.0079467983490358, 1.0034221968128128, 0.99790650923905, 0.9970494455157413, 1.0019258128255935, 1.0024649077825887, 1.000342299397952, 0.9954560169229514, 0.9894430423409167, 0.9825574098509534, 0.9808224668851098, 0.985063036229883, 0.9854141005617872, 0.9827246945425521, 0.9783909323836509, 0.9732646304317001, 0.9674872136200623, 0.966705174300064, 0.9716772789109571, 0.9719956871171427, 0.969286068967063, 0.96352381422826, 0.9561535092916713, 0.9479448798944516, 0.9442549701779476, 0.9462885916743975, 0.9437786533474881, 0.9382625138808409, 0.9308647347999734, 0.9222032355968134, 0.9125817242118764, 0.9077306346386549, 0.908903946373413, 0.9065246934095463, 0.9017772019512699, 0.8956562634402387, 0.8885087906082396, 0.8816858262249242, 0.8794694734338359, 0.8834525569388778, 0.8843014666840892, 0.8827966045057296, 0.8797689221573428, 0.8759572299222181, 0.8716190314161593, 0.8715715861972221, 0.8775297019015573, 0.8799485494206186, 0.879832291377011, 0.8783836948952806, 0.8757831707555912, 0.8726479176218926, 0.8740085712046808, 0.8811509095605737, 0.8843904129361564, 0.8847573447238896, 0.8832941712072585, 0.8809618801599182, 0.8771535665101002, 0.8778775161245816, 0.884049184275146, 0.8852612321173177, 0.8831899002684107, 0.8775313166148365, 0.86964018132669, 0.859777725775926, 0.853935439867109, 0.8533175316982472]}, {\"fill\": \"tonexty\", \"fillcolor\": \"rgba(28, 28, 28, 0.15)\", \"line\": {\"width\": 0}, \"name\": \"upper CI\", \"showlegend\": false, \"type\": \"scatter\", \"x\": [\"2020-03-13\", \"2020-03-14\", \"2020-03-15\", \"2020-03-16\", \"2020-03-17\", \"2020-03-18\", \"2020-03-19\", \"2020-03-20\", \"2020-03-21\", \"2020-03-22\", \"2020-03-23\", \"2020-03-24\", \"2020-03-25\", \"2020-03-26\", \"2020-03-27\", \"2020-03-28\", \"2020-03-29\", \"2020-03-30\", \"2020-03-31\", \"2020-04-01\", \"2020-04-02\", \"2020-04-03\", \"2020-04-04\", \"2020-04-05\", \"2020-04-06\", \"2020-04-07\", \"2020-04-08\", \"2020-04-09\", \"2020-04-10\", \"2020-04-11\", \"2020-04-12\", \"2020-04-13\", \"2020-04-14\", \"2020-04-15\", \"2020-04-16\", \"2020-04-17\", \"2020-04-18\", \"2020-04-19\", \"2020-04-20\", \"2020-04-21\", \"2020-04-22\", \"2020-04-23\", \"2020-04-24\", \"2020-04-25\", \"2020-04-26\", \"2020-04-27\", \"2020-04-28\", \"2020-04-29\", \"2020-04-30\", \"2020-05-01\", \"2020-05-02\", \"2020-05-03\", \"2020-05-04\", \"2020-05-05\", \"2020-05-06\", \"2020-05-07\", \"2020-05-08\", \"2020-05-09\", \"2020-05-10\", \"2020-05-11\", \"2020-05-12\", \"2020-05-13\", \"2020-05-14\", \"2020-05-15\", \"2020-05-16\", \"2020-05-17\", \"2020-05-18\", \"2020-05-19\", \"2020-05-20\", \"2020-05-21\", \"2020-05-22\", \"2020-05-23\", \"2020-05-24\", \"2020-05-25\", \"2020-05-26\", \"2020-05-27\", \"2020-05-28\", \"2020-05-29\", \"2020-05-30\", \"2020-05-31\", \"2020-06-01\", \"2020-06-02\", \"2020-06-03\", \"2020-06-04\", \"2020-06-05\", \"2020-06-06\", \"2020-06-07\", \"2020-06-08\", \"2020-06-09\", \"2020-06-10\", \"2020-06-11\", \"2020-06-12\", \"2020-06-13\", \"2020-06-14\", \"2020-06-15\", \"2020-06-16\", \"2020-06-17\", \"2020-06-18\", \"2020-06-19\", \"2020-06-20\", \"2020-06-21\", \"2020-06-22\", \"2020-06-23\", \"2020-06-24\", \"2020-06-25\", \"2020-06-26\", \"2020-06-27\", \"2020-06-28\", \"2020-06-29\", \"2020-06-30\", \"2020-07-01\", \"2020-07-02\", \"2020-07-03\", \"2020-07-04\", \"2020-07-05\", \"2020-07-06\", \"2020-07-07\", \"2020-07-08\", \"2020-07-09\", \"2020-07-10\", \"2020-07-11\", \"2020-07-12\", \"2020-07-13\", \"2020-07-14\", \"2020-07-15\", \"2020-07-16\", \"2020-07-17\", \"2020-07-18\", \"2020-07-19\", \"2020-07-20\", \"2020-07-21\", \"2020-07-22\", \"2020-07-23\", \"2020-07-24\", \"2020-07-25\", \"2020-07-26\", \"2020-07-27\", \"2020-07-28\", \"2020-07-29\", \"2020-07-30\", \"2020-07-31\", \"2020-08-01\", \"2020-08-02\", \"2020-08-03\", \"2020-08-04\", \"2020-08-05\", \"2020-08-06\", \"2020-08-07\", \"2020-08-08\", \"2020-08-09\", \"2020-08-10\", \"2020-08-11\", \"2020-08-12\", \"2020-08-13\", \"2020-08-14\", \"2020-08-15\", \"2020-08-16\", \"2020-08-17\", \"2020-08-18\", \"2020-08-19\", \"2020-08-20\", \"2020-08-21\", \"2020-08-22\", \"2020-08-23\", \"2020-08-24\", \"2020-08-25\", \"2020-08-26\", \"2020-08-27\", \"2020-08-28\", \"2020-08-29\", \"2020-08-30\", \"2020-08-31\"], \"y\": [2.084283237513621, 2.074686428946744, 2.0612696892304445, 2.0540633127004337, 2.0410095749376755, 2.0180267235291076, 1.989740454957491, 1.9584276702312762, 1.9292122926759514, 1.909008697037807, 1.9005640073696548, 1.889453910495352, 1.8731838924931026, 1.858531916880469, 1.8431651042781387, 1.8249770466993467, 1.8111606409589422, 1.8037412869567286, 1.7882506349011529, 1.7718165408690885, 1.7530858183218632, 1.735225813491218, 1.7179115471248338, 1.7078589512732707, 1.704523762382315, 1.6928477591586453, 1.6803662376750732, 1.6664756961850622, 1.6561904168257586, 1.6472346605232508, 1.6428520537163316, 1.6428600385534242, 1.6353932101222788, 1.6243895153047554, 1.6111550004300836, 1.5970228784114222, 1.5807839507737442, 1.568838285134191, 1.5621041425858897, 1.5495077604119822, 1.5341683203836034, 1.518681541223613, 1.5028020530138788, 1.4852898929557719, 1.4728880758375513, 1.4656191734541153, 1.4551343187449044, 1.4430659672770765, 1.430603294926776, 1.4183605740160572, 1.4098646456647175, 1.4050897782410514, 1.4048571324326948, 1.3991264778116215, 1.3928799116720363, 1.385532548708657, 1.3772127999023014, 1.3685254445960002, 1.3649693515072834, 1.3669199000366228, 1.3648511518682522, 1.360543387126322, 1.3538384031908384, 1.3459865904683055, 1.3357597775066798, 1.329730321279737, 1.3299356408104384, 1.3250828887215826, 1.3187201494875571, 1.3101880849657037, 1.3000028489724236, 1.2888520056177366, 1.2829867627052292, 1.2833924131005474, 1.2794845208771766, 1.2735249634331733, 1.2657922851887293, 1.2576920031293495, 1.249166952400764, 1.245252311926143, 1.247546939537072, 1.2454333159195003, 1.2417593409044663, 1.2364526558600433, 1.230241243152961, 1.2231292751407967, 1.220673059301752, 1.2242262205673053, 1.22267525330327, 1.218447894619969, 1.212361858369619, 1.2057121988180997, 1.1982314783162111, 1.1958952893327517, 1.1994341826419344, 1.1985174919986314, 1.194638827600913, 1.1891984688740758, 1.182743769074169, 1.175486594715494, 1.1727995026210758, 1.1766376058965924, 1.1765367915996645, 1.1740002679224624, 1.1702467256713875, 1.165722140624652, 1.160206473321848, 1.159349434518159, 1.1642258324623502, 1.164764965078937, 1.1626424029902154, 1.1577561774279834, 1.151743272810286, 1.1448577263292825, 1.1431228890964549, 1.147363588421513, 1.1477148125414602, 1.1450256029536563, 1.140692082272758, 1.1355660771755796, 1.129789025294583, 1.129007434592303, 1.1339800906990658, 1.1342991768710722, 1.1315903921583397, 1.1258291619801397, 1.1184601165540056, 1.1102530354927458, 1.1065650291661513, 1.1086009905193301, 1.1060939285936642, 1.100581325092929, 1.093187892762479, 1.0845317369745222, 1.0749167941495268, 1.0700737791157493, 1.0712570165440913, 1.0688899646651424, 1.0641574710654516, 1.0580549679187754, 1.0509301552981232, 1.0441350433777212, 1.041952923810113, 1.045978081237188, 1.046878698641887, 1.0454373795239533, 1.0424877783298798, 1.0387720220020382, 1.0345516826276253, 1.034649008021887, 1.0407849181358948, 1.0434220680308803, 1.043573776031613, 1.0424539975536047, 1.0402567972485632, 1.0376160095291687, 1.0395824990310152, 1.0474665834146675, 1.051613426337171, 1.0530890729522104, 1.052978945282048, 1.052295347960216, 1.0504923302778142, 1.0536500973085037, 1.062768310315918, 1.0675373659610359, 1.0697458472617474, 1.0692176561729583, 1.0674512000222238, 1.0648674964315208, 1.0676337195167611, 1.0771452535621038]}],\n",
       "                        {\"legend\": {\"bgcolor\": \"rgba(0,0,0,0)\", \"font\": {\"family\": \"sans-serif\", \"size\": 14}, \"traceorder\": \"normal\", \"x\": 0.6, \"y\": 0.95}, \"showlegend\": true, \"template\": {\"data\": {\"bar\": [{\"error_x\": {\"color\": \"#2a3f5f\"}, \"error_y\": {\"color\": \"#2a3f5f\"}, \"marker\": {\"line\": {\"color\": \"#E5ECF6\", \"width\": 0.5}}, \"type\": \"bar\"}], \"barpolar\": [{\"marker\": {\"line\": {\"color\": \"#E5ECF6\", \"width\": 0.5}}, \"type\": \"barpolar\"}], \"carpet\": [{\"aaxis\": {\"endlinecolor\": \"#2a3f5f\", \"gridcolor\": \"white\", \"linecolor\": \"white\", \"minorgridcolor\": \"white\", \"startlinecolor\": \"#2a3f5f\"}, \"baxis\": {\"endlinecolor\": \"#2a3f5f\", \"gridcolor\": \"white\", \"linecolor\": \"white\", \"minorgridcolor\": \"white\", \"startlinecolor\": \"#2a3f5f\"}, \"type\": \"carpet\"}], \"choropleth\": [{\"colorbar\": {\"outlinewidth\": 0, \"ticks\": \"\"}, \"type\": \"choropleth\"}], \"contour\": [{\"colorbar\": {\"outlinewidth\": 0, \"ticks\": \"\"}, \"colorscale\": [[0.0, \"#0d0887\"], [0.1111111111111111, \"#46039f\"], [0.2222222222222222, \"#7201a8\"], [0.3333333333333333, \"#9c179e\"], [0.4444444444444444, \"#bd3786\"], [0.5555555555555556, \"#d8576b\"], [0.6666666666666666, \"#ed7953\"], [0.7777777777777778, \"#fb9f3a\"], [0.8888888888888888, \"#fdca26\"], [1.0, \"#f0f921\"]], \"type\": \"contour\"}], \"contourcarpet\": [{\"colorbar\": {\"outlinewidth\": 0, \"ticks\": \"\"}, \"type\": \"contourcarpet\"}], \"heatmap\": [{\"colorbar\": {\"outlinewidth\": 0, \"ticks\": \"\"}, \"colorscale\": [[0.0, \"#0d0887\"], [0.1111111111111111, \"#46039f\"], [0.2222222222222222, \"#7201a8\"], [0.3333333333333333, \"#9c179e\"], [0.4444444444444444, \"#bd3786\"], [0.5555555555555556, \"#d8576b\"], [0.6666666666666666, \"#ed7953\"], [0.7777777777777778, \"#fb9f3a\"], [0.8888888888888888, \"#fdca26\"], [1.0, \"#f0f921\"]], \"type\": \"heatmap\"}], \"heatmapgl\": [{\"colorbar\": {\"outlinewidth\": 0, \"ticks\": \"\"}, \"colorscale\": [[0.0, \"#0d0887\"], [0.1111111111111111, \"#46039f\"], [0.2222222222222222, \"#7201a8\"], [0.3333333333333333, \"#9c179e\"], [0.4444444444444444, \"#bd3786\"], [0.5555555555555556, \"#d8576b\"], [0.6666666666666666, \"#ed7953\"], [0.7777777777777778, \"#fb9f3a\"], [0.8888888888888888, \"#fdca26\"], [1.0, \"#f0f921\"]], \"type\": \"heatmapgl\"}], \"histogram\": [{\"marker\": {\"colorbar\": {\"outlinewidth\": 0, \"ticks\": \"\"}}, \"type\": \"histogram\"}], \"histogram2d\": [{\"colorbar\": {\"outlinewidth\": 0, \"ticks\": \"\"}, \"colorscale\": [[0.0, \"#0d0887\"], [0.1111111111111111, \"#46039f\"], [0.2222222222222222, \"#7201a8\"], [0.3333333333333333, \"#9c179e\"], [0.4444444444444444, \"#bd3786\"], [0.5555555555555556, \"#d8576b\"], [0.6666666666666666, \"#ed7953\"], [0.7777777777777778, \"#fb9f3a\"], [0.8888888888888888, \"#fdca26\"], [1.0, \"#f0f921\"]], \"type\": \"histogram2d\"}], \"histogram2dcontour\": [{\"colorbar\": {\"outlinewidth\": 0, \"ticks\": \"\"}, \"colorscale\": [[0.0, \"#0d0887\"], [0.1111111111111111, \"#46039f\"], [0.2222222222222222, \"#7201a8\"], [0.3333333333333333, \"#9c179e\"], [0.4444444444444444, \"#bd3786\"], [0.5555555555555556, \"#d8576b\"], [0.6666666666666666, \"#ed7953\"], [0.7777777777777778, \"#fb9f3a\"], [0.8888888888888888, \"#fdca26\"], [1.0, \"#f0f921\"]], \"type\": \"histogram2dcontour\"}], \"mesh3d\": [{\"colorbar\": {\"outlinewidth\": 0, \"ticks\": \"\"}, \"type\": \"mesh3d\"}], \"parcoords\": [{\"line\": {\"colorbar\": {\"outlinewidth\": 0, \"ticks\": \"\"}}, \"type\": \"parcoords\"}], \"pie\": [{\"automargin\": true, \"type\": \"pie\"}], \"scatter\": [{\"marker\": {\"colorbar\": {\"outlinewidth\": 0, \"ticks\": \"\"}}, \"type\": \"scatter\"}], \"scatter3d\": [{\"line\": {\"colorbar\": {\"outlinewidth\": 0, \"ticks\": \"\"}}, \"marker\": {\"colorbar\": {\"outlinewidth\": 0, \"ticks\": \"\"}}, \"type\": \"scatter3d\"}], \"scattercarpet\": [{\"marker\": {\"colorbar\": {\"outlinewidth\": 0, \"ticks\": \"\"}}, \"type\": \"scattercarpet\"}], \"scattergeo\": [{\"marker\": {\"colorbar\": {\"outlinewidth\": 0, \"ticks\": \"\"}}, \"type\": \"scattergeo\"}], \"scattergl\": [{\"marker\": {\"colorbar\": {\"outlinewidth\": 0, \"ticks\": \"\"}}, \"type\": \"scattergl\"}], \"scattermapbox\": [{\"marker\": {\"colorbar\": {\"outlinewidth\": 0, \"ticks\": \"\"}}, \"type\": \"scattermapbox\"}], \"scatterpolar\": [{\"marker\": {\"colorbar\": {\"outlinewidth\": 0, \"ticks\": \"\"}}, \"type\": \"scatterpolar\"}], \"scatterpolargl\": [{\"marker\": {\"colorbar\": {\"outlinewidth\": 0, \"ticks\": \"\"}}, \"type\": \"scatterpolargl\"}], \"scatterternary\": [{\"marker\": {\"colorbar\": {\"outlinewidth\": 0, \"ticks\": \"\"}}, \"type\": \"scatterternary\"}], \"surface\": [{\"colorbar\": {\"outlinewidth\": 0, \"ticks\": \"\"}, \"colorscale\": [[0.0, \"#0d0887\"], [0.1111111111111111, \"#46039f\"], [0.2222222222222222, \"#7201a8\"], [0.3333333333333333, \"#9c179e\"], [0.4444444444444444, \"#bd3786\"], [0.5555555555555556, \"#d8576b\"], [0.6666666666666666, \"#ed7953\"], [0.7777777777777778, \"#fb9f3a\"], [0.8888888888888888, \"#fdca26\"], [1.0, \"#f0f921\"]], \"type\": \"surface\"}], \"table\": [{\"cells\": {\"fill\": {\"color\": \"#EBF0F8\"}, \"line\": {\"color\": \"white\"}}, \"header\": {\"fill\": {\"color\": \"#C8D4E3\"}, \"line\": {\"color\": \"white\"}}, \"type\": \"table\"}]}, \"layout\": {\"annotationdefaults\": {\"arrowcolor\": \"#2a3f5f\", \"arrowhead\": 0, \"arrowwidth\": 1}, \"coloraxis\": {\"colorbar\": {\"outlinewidth\": 0, \"ticks\": \"\"}}, \"colorscale\": {\"diverging\": [[0, \"#8e0152\"], [0.1, \"#c51b7d\"], [0.2, \"#de77ae\"], [0.3, \"#f1b6da\"], [0.4, \"#fde0ef\"], [0.5, \"#f7f7f7\"], [0.6, \"#e6f5d0\"], [0.7, \"#b8e186\"], [0.8, \"#7fbc41\"], [0.9, \"#4d9221\"], [1, \"#276419\"]], \"sequential\": [[0.0, \"#0d0887\"], [0.1111111111111111, \"#46039f\"], [0.2222222222222222, \"#7201a8\"], [0.3333333333333333, \"#9c179e\"], [0.4444444444444444, \"#bd3786\"], [0.5555555555555556, \"#d8576b\"], [0.6666666666666666, \"#ed7953\"], [0.7777777777777778, \"#fb9f3a\"], [0.8888888888888888, \"#fdca26\"], [1.0, \"#f0f921\"]], \"sequentialminus\": [[0.0, \"#0d0887\"], [0.1111111111111111, \"#46039f\"], [0.2222222222222222, \"#7201a8\"], [0.3333333333333333, \"#9c179e\"], [0.4444444444444444, \"#bd3786\"], [0.5555555555555556, \"#d8576b\"], [0.6666666666666666, \"#ed7953\"], [0.7777777777777778, \"#fb9f3a\"], [0.8888888888888888, \"#fdca26\"], [1.0, \"#f0f921\"]]}, \"colorway\": [\"#636efa\", \"#EF553B\", \"#00cc96\", \"#ab63fa\", \"#FFA15A\", \"#19d3f3\", \"#FF6692\", \"#B6E880\", \"#FF97FF\", \"#FECB52\"], \"font\": {\"color\": \"#2a3f5f\"}, \"geo\": {\"bgcolor\": \"white\", \"lakecolor\": \"white\", \"landcolor\": \"#E5ECF6\", \"showlakes\": true, \"showland\": true, \"subunitcolor\": \"white\"}, \"hoverlabel\": {\"align\": \"left\"}, \"hovermode\": \"closest\", \"mapbox\": {\"style\": \"light\"}, \"paper_bgcolor\": \"white\", \"plot_bgcolor\": \"#E5ECF6\", \"polar\": {\"angularaxis\": {\"gridcolor\": \"white\", \"linecolor\": \"white\", \"ticks\": \"\"}, \"bgcolor\": \"#E5ECF6\", \"radialaxis\": {\"gridcolor\": \"white\", \"linecolor\": \"white\", \"ticks\": \"\"}}, \"scene\": {\"xaxis\": {\"backgroundcolor\": \"#E5ECF6\", \"gridcolor\": \"white\", \"gridwidth\": 2, \"linecolor\": \"white\", \"showbackground\": true, \"ticks\": \"\", \"zerolinecolor\": \"white\"}, \"yaxis\": {\"backgroundcolor\": \"#E5ECF6\", \"gridcolor\": \"white\", \"gridwidth\": 2, \"linecolor\": \"white\", \"showbackground\": true, \"ticks\": \"\", \"zerolinecolor\": \"white\"}, \"zaxis\": {\"backgroundcolor\": \"#E5ECF6\", \"gridcolor\": \"white\", \"gridwidth\": 2, \"linecolor\": \"white\", \"showbackground\": true, \"ticks\": \"\", \"zerolinecolor\": \"white\"}}, \"shapedefaults\": {\"line\": {\"color\": \"#2a3f5f\"}}, \"ternary\": {\"aaxis\": {\"gridcolor\": \"white\", \"linecolor\": \"white\", \"ticks\": \"\"}, \"baxis\": {\"gridcolor\": \"white\", \"linecolor\": \"white\", \"ticks\": \"\"}, \"bgcolor\": \"#E5ECF6\", \"caxis\": {\"gridcolor\": \"white\", \"linecolor\": \"white\", \"ticks\": \"\"}}, \"title\": {\"x\": 0.05}, \"xaxis\": {\"automargin\": true, \"gridcolor\": \"white\", \"linecolor\": \"white\", \"ticks\": \"\", \"title\": {\"standoff\": 15}, \"zerolinecolor\": \"white\", \"zerolinewidth\": 2}, \"yaxis\": {\"automargin\": true, \"gridcolor\": \"white\", \"linecolor\": \"white\", \"ticks\": \"\", \"title\": {\"standoff\": 15}, \"zerolinecolor\": \"white\", \"zerolinewidth\": 2}}}, \"title\": {\"text\": \"Data - Reproduction number - Jalisco - Cases as reported\", \"x\": 0.5}, \"yaxis\": {\"type\": \"linear\"}},\n",
       "                        {\"responsive\": true}\n",
       "                    ).then(function(){\n",
       "                            \n",
       "var gd = document.getElementById('729607fa-24b7-49df-9579-2fe7b4ea2847');\n",
       "var x = new MutationObserver(function (mutations, observer) {{\n",
       "        var display = window.getComputedStyle(gd).display;\n",
       "        if (!display || display === 'none') {{\n",
       "            console.log([gd, 'removed!']);\n",
       "            Plotly.purge(gd);\n",
       "            observer.disconnect();\n",
       "        }}\n",
       "}});\n",
       "\n",
       "// Listen for the removal of the full notebook cells\n",
       "var notebookContainer = gd.closest('#notebook-container');\n",
       "if (notebookContainer) {{\n",
       "    x.observe(notebookContainer, {childList: true});\n",
       "}}\n",
       "\n",
       "// Listen for the clearing of the current output cell\n",
       "var outputEl = gd.closest('.output');\n",
       "if (outputEl) {{\n",
       "    x.observe(outputEl, {childList: true});\n",
       "}}\n",
       "\n",
       "                        })\n",
       "                };\n",
       "                });\n",
       "            </script>\n",
       "        </div>"
      ]
     },
     "metadata": {},
     "output_type": "display_data"
    }
   ],
   "source": [
    "#Add a lower bound for the confidence interval, white\n",
    "\n",
    "fig = go.Figure()\n",
    "\n",
    "fig.add_trace(\n",
    "    go.Scatter(\n",
    "        x=mx11[mx11['date']>'2020-05-01']['date'],\n",
    "        y=mx11[mx11['date']>'2020-05-01']['Rt_est'],\n",
    "        name='Rt - data - estimation - as reported',\n",
    "        mode='lines+markers',line_width=2,marker_size=6,opacity=0.6),)\n",
    "\n",
    "fig.add_trace(\n",
    "    go.Scatter(\n",
    "        x=mx11[mx11['date']>'2020-05-01']['date'],\n",
    "        y=mx11[mx11['date']>'2020-05-01']['ci_neg'],\n",
    "        showlegend=False,\n",
    "        name='Lower CI',\n",
    "        line=dict(width=0)\n",
    "    ))\n",
    "\n",
    "fig.add_trace(\n",
    "    go.Scatter(\n",
    "        x=mx11[mx11['date']>'2020-05-01']['date'],\n",
    "        y=mx11[mx11['date']>'2020-05-01']['ci_pos'],\n",
    "        showlegend=False,\n",
    "        name='upper CI',\n",
    "        fill='tonexty',\n",
    "        line=dict(width=0),\n",
    "        fillcolor='rgba(68, 68, 68, 0.15)',\n",
    "    ))\n",
    "\n",
    "fig.add_trace(\n",
    "    go.Scatter(\n",
    "        x=mx22['date'],\n",
    "        y=mx22['Rt_est'],\n",
    "        name='Rt - data - estimation - as occurred',\n",
    "        mode='lines+markers',line_width=2,marker_size=6,opacity=0.6),)\n",
    "\n",
    "fig.add_trace(\n",
    "    go.Scatter(\n",
    "        x=mx22['date'],\n",
    "        y=mx22['ci_neg'],\n",
    "        showlegend=False,\n",
    "        name='Lower CI',\n",
    "        line=dict(width=0)\n",
    "    ))\n",
    "\n",
    "fig.add_trace(\n",
    "    go.Scatter(\n",
    "        x=mx22['date'],\n",
    "        y=mx22['ci_pos'],\n",
    "        showlegend=False,\n",
    "        name='upper CI',\n",
    "        fill='tonexty',\n",
    "        line=dict(width=0),\n",
    "        fillcolor='rgba(28, 28, 28, 0.15)',\n",
    "    ))\n",
    "\n",
    "fig.update_layout(\n",
    "    title=\"Data - Reproduction number - Jalisco - Cases as reported\",\n",
    "    title_x=0.5,showlegend=True,yaxis = {'type': 'linear'},\n",
    "    legend=dict(\n",
    "            x=0.60,y=0.95,\n",
    "            traceorder=\"normal\",font=dict(family=\"sans-serif\",size=14),bgcolor='rgba(0,0,0,0)'),)\n",
    "\n",
    "fig.show()"
   ]
  },
  {
   "cell_type": "code",
   "execution_count": 384,
   "metadata": {},
   "outputs": [
    {
     "data": {
      "text/html": [
       "<div>\n",
       "<style scoped>\n",
       "    .dataframe tbody tr th:only-of-type {\n",
       "        vertical-align: middle;\n",
       "    }\n",
       "\n",
       "    .dataframe tbody tr th {\n",
       "        vertical-align: top;\n",
       "    }\n",
       "\n",
       "    .dataframe thead th {\n",
       "        text-align: right;\n",
       "    }\n",
       "</style>\n",
       "<table border=\"1\" class=\"dataframe\">\n",
       "  <thead>\n",
       "    <tr style=\"text-align: right;\">\n",
       "      <th></th>\n",
       "      <th>index</th>\n",
       "      <th>date</th>\n",
       "      <th>Cases_Mexico</th>\n",
       "      <th>Cases_Jalisco</th>\n",
       "      <th>Deaths_Mexico</th>\n",
       "      <th>Deaths_Jalisco</th>\n",
       "      <th>Rt_est</th>\n",
       "      <th>se_R</th>\n",
       "      <th>ci_pos</th>\n",
       "      <th>ci_neg</th>\n",
       "    </tr>\n",
       "  </thead>\n",
       "  <tbody>\n",
       "    <tr>\n",
       "      <th>0</th>\n",
       "      <td>0</td>\n",
       "      <td>2020-04-12</td>\n",
       "      <td>4661</td>\n",
       "      <td>158</td>\n",
       "      <td>296</td>\n",
       "      <td>11</td>\n",
       "      <td>0.700500</td>\n",
       "      <td>0.102127</td>\n",
       "      <td>0.795947</td>\n",
       "      <td>0.605053</td>\n",
       "    </tr>\n",
       "    <tr>\n",
       "      <th>1</th>\n",
       "      <td>1</td>\n",
       "      <td>2020-04-13</td>\n",
       "      <td>5014</td>\n",
       "      <td>161</td>\n",
       "      <td>332</td>\n",
       "      <td>11</td>\n",
       "      <td>0.721606</td>\n",
       "      <td>0.090878</td>\n",
       "      <td>0.806540</td>\n",
       "      <td>0.636672</td>\n",
       "    </tr>\n",
       "    <tr>\n",
       "      <th>2</th>\n",
       "      <td>2</td>\n",
       "      <td>2020-04-14</td>\n",
       "      <td>5399</td>\n",
       "      <td>166</td>\n",
       "      <td>406</td>\n",
       "      <td>11</td>\n",
       "      <td>0.766434</td>\n",
       "      <td>0.084742</td>\n",
       "      <td>0.845632</td>\n",
       "      <td>0.687235</td>\n",
       "    </tr>\n",
       "    <tr>\n",
       "      <th>3</th>\n",
       "      <td>3</td>\n",
       "      <td>2020-04-15</td>\n",
       "      <td>5847</td>\n",
       "      <td>178</td>\n",
       "      <td>449</td>\n",
       "      <td>11</td>\n",
       "      <td>0.829427</td>\n",
       "      <td>0.081524</td>\n",
       "      <td>0.905619</td>\n",
       "      <td>0.753235</td>\n",
       "    </tr>\n",
       "    <tr>\n",
       "      <th>4</th>\n",
       "      <td>4</td>\n",
       "      <td>2020-04-16</td>\n",
       "      <td>6297</td>\n",
       "      <td>180</td>\n",
       "      <td>486</td>\n",
       "      <td>11</td>\n",
       "      <td>0.900694</td>\n",
       "      <td>0.079879</td>\n",
       "      <td>0.975348</td>\n",
       "      <td>0.826040</td>\n",
       "    </tr>\n",
       "    <tr>\n",
       "      <th>5</th>\n",
       "      <td>5</td>\n",
       "      <td>2020-04-17</td>\n",
       "      <td>6875</td>\n",
       "      <td>189</td>\n",
       "      <td>546</td>\n",
       "      <td>13</td>\n",
       "      <td>0.985311</td>\n",
       "      <td>0.079050</td>\n",
       "      <td>1.059190</td>\n",
       "      <td>0.911432</td>\n",
       "    </tr>\n",
       "    <tr>\n",
       "      <th>6</th>\n",
       "      <td>6</td>\n",
       "      <td>2020-04-18</td>\n",
       "      <td>7497</td>\n",
       "      <td>195</td>\n",
       "      <td>650</td>\n",
       "      <td>13</td>\n",
       "      <td>1.061972</td>\n",
       "      <td>0.078635</td>\n",
       "      <td>1.135463</td>\n",
       "      <td>0.988481</td>\n",
       "    </tr>\n",
       "    <tr>\n",
       "      <th>7</th>\n",
       "      <td>7</td>\n",
       "      <td>2020-04-19</td>\n",
       "      <td>8261</td>\n",
       "      <td>197</td>\n",
       "      <td>686</td>\n",
       "      <td>13</td>\n",
       "      <td>1.131258</td>\n",
       "      <td>0.078428</td>\n",
       "      <td>1.204555</td>\n",
       "      <td>1.057960</td>\n",
       "    </tr>\n",
       "    <tr>\n",
       "      <th>8</th>\n",
       "      <td>8</td>\n",
       "      <td>2020-04-20</td>\n",
       "      <td>8772</td>\n",
       "      <td>215</td>\n",
       "      <td>712</td>\n",
       "      <td>14</td>\n",
       "      <td>1.172944</td>\n",
       "      <td>0.078325</td>\n",
       "      <td>1.246146</td>\n",
       "      <td>1.099742</td>\n",
       "    </tr>\n",
       "    <tr>\n",
       "      <th>9</th>\n",
       "      <td>9</td>\n",
       "      <td>2020-04-21</td>\n",
       "      <td>9501</td>\n",
       "      <td>225</td>\n",
       "      <td>857</td>\n",
       "      <td>15</td>\n",
       "      <td>1.253150</td>\n",
       "      <td>0.078274</td>\n",
       "      <td>1.326304</td>\n",
       "      <td>1.179996</td>\n",
       "    </tr>\n",
       "    <tr>\n",
       "      <th>10</th>\n",
       "      <td>10</td>\n",
       "      <td>2020-04-22</td>\n",
       "      <td>10544</td>\n",
       "      <td>235</td>\n",
       "      <td>970</td>\n",
       "      <td>15</td>\n",
       "      <td>1.333185</td>\n",
       "      <td>0.078248</td>\n",
       "      <td>1.406316</td>\n",
       "      <td>1.260055</td>\n",
       "    </tr>\n",
       "    <tr>\n",
       "      <th>11</th>\n",
       "      <td>11</td>\n",
       "      <td>2020-04-23</td>\n",
       "      <td>11633</td>\n",
       "      <td>254</td>\n",
       "      <td>1069</td>\n",
       "      <td>19</td>\n",
       "      <td>1.363822</td>\n",
       "      <td>0.078236</td>\n",
       "      <td>1.436940</td>\n",
       "      <td>1.290704</td>\n",
       "    </tr>\n",
       "    <tr>\n",
       "      <th>12</th>\n",
       "      <td>12</td>\n",
       "      <td>2020-04-24</td>\n",
       "      <td>12872</td>\n",
       "      <td>263</td>\n",
       "      <td>1221</td>\n",
       "      <td>20</td>\n",
       "      <td>1.360599</td>\n",
       "      <td>0.078230</td>\n",
       "      <td>1.433711</td>\n",
       "      <td>1.287486</td>\n",
       "    </tr>\n",
       "    <tr>\n",
       "      <th>13</th>\n",
       "      <td>13</td>\n",
       "      <td>2020-04-25</td>\n",
       "      <td>13842</td>\n",
       "      <td>271</td>\n",
       "      <td>1305</td>\n",
       "      <td>23</td>\n",
       "      <td>1.314430</td>\n",
       "      <td>0.078226</td>\n",
       "      <td>1.387540</td>\n",
       "      <td>1.241321</td>\n",
       "    </tr>\n",
       "    <tr>\n",
       "      <th>14</th>\n",
       "      <td>14</td>\n",
       "      <td>2020-04-26</td>\n",
       "      <td>14677</td>\n",
       "      <td>282</td>\n",
       "      <td>1351</td>\n",
       "      <td>25</td>\n",
       "      <td>1.280714</td>\n",
       "      <td>0.078225</td>\n",
       "      <td>1.353822</td>\n",
       "      <td>1.207606</td>\n",
       "    </tr>\n",
       "    <tr>\n",
       "      <th>15</th>\n",
       "      <td>15</td>\n",
       "      <td>2020-04-27</td>\n",
       "      <td>15529</td>\n",
       "      <td>303</td>\n",
       "      <td>1434</td>\n",
       "      <td>25</td>\n",
       "      <td>1.280043</td>\n",
       "      <td>0.078224</td>\n",
       "      <td>1.353151</td>\n",
       "      <td>1.206936</td>\n",
       "    </tr>\n",
       "    <tr>\n",
       "      <th>16</th>\n",
       "      <td>16</td>\n",
       "      <td>2020-04-28</td>\n",
       "      <td>16752</td>\n",
       "      <td>316</td>\n",
       "      <td>1569</td>\n",
       "      <td>25</td>\n",
       "      <td>1.310033</td>\n",
       "      <td>0.078224</td>\n",
       "      <td>1.383140</td>\n",
       "      <td>1.236926</td>\n",
       "    </tr>\n",
       "    <tr>\n",
       "      <th>17</th>\n",
       "      <td>17</td>\n",
       "      <td>2020-04-29</td>\n",
       "      <td>17799</td>\n",
       "      <td>326</td>\n",
       "      <td>1732</td>\n",
       "      <td>25</td>\n",
       "      <td>1.319544</td>\n",
       "      <td>0.078224</td>\n",
       "      <td>1.392650</td>\n",
       "      <td>1.246437</td>\n",
       "    </tr>\n",
       "    <tr>\n",
       "      <th>18</th>\n",
       "      <td>18</td>\n",
       "      <td>2020-04-30</td>\n",
       "      <td>19224</td>\n",
       "      <td>347</td>\n",
       "      <td>1859</td>\n",
       "      <td>28</td>\n",
       "      <td>1.346007</td>\n",
       "      <td>0.078224</td>\n",
       "      <td>1.419114</td>\n",
       "      <td>1.272900</td>\n",
       "    </tr>\n",
       "    <tr>\n",
       "      <th>19</th>\n",
       "      <td>19</td>\n",
       "      <td>2020-05-01</td>\n",
       "      <td>20739</td>\n",
       "      <td>375</td>\n",
       "      <td>1972</td>\n",
       "      <td>30</td>\n",
       "      <td>1.344873</td>\n",
       "      <td>0.078223</td>\n",
       "      <td>1.417980</td>\n",
       "      <td>1.271766</td>\n",
       "    </tr>\n",
       "    <tr>\n",
       "      <th>20</th>\n",
       "      <td>20</td>\n",
       "      <td>2020-05-02</td>\n",
       "      <td>22088</td>\n",
       "      <td>387</td>\n",
       "      <td>2061</td>\n",
       "      <td>32</td>\n",
       "      <td>1.319253</td>\n",
       "      <td>0.078223</td>\n",
       "      <td>1.392360</td>\n",
       "      <td>1.246146</td>\n",
       "    </tr>\n",
       "    <tr>\n",
       "      <th>21</th>\n",
       "      <td>21</td>\n",
       "      <td>2020-05-03</td>\n",
       "      <td>23471</td>\n",
       "      <td>417</td>\n",
       "      <td>2154</td>\n",
       "      <td>33</td>\n",
       "      <td>1.299153</td>\n",
       "      <td>0.078223</td>\n",
       "      <td>1.372260</td>\n",
       "      <td>1.226046</td>\n",
       "    </tr>\n",
       "    <tr>\n",
       "      <th>22</th>\n",
       "      <td>22</td>\n",
       "      <td>2020-05-04</td>\n",
       "      <td>24905</td>\n",
       "      <td>447</td>\n",
       "      <td>2270</td>\n",
       "      <td>34</td>\n",
       "      <td>1.284216</td>\n",
       "      <td>0.078223</td>\n",
       "      <td>1.357322</td>\n",
       "      <td>1.211109</td>\n",
       "    </tr>\n",
       "    <tr>\n",
       "      <th>23</th>\n",
       "      <td>23</td>\n",
       "      <td>2020-05-05</td>\n",
       "      <td>26025</td>\n",
       "      <td>469</td>\n",
       "      <td>2507</td>\n",
       "      <td>36</td>\n",
       "      <td>1.272576</td>\n",
       "      <td>0.078223</td>\n",
       "      <td>1.345683</td>\n",
       "      <td>1.199470</td>\n",
       "    </tr>\n",
       "    <tr>\n",
       "      <th>24</th>\n",
       "      <td>24</td>\n",
       "      <td>2020-05-06</td>\n",
       "      <td>27634</td>\n",
       "      <td>492</td>\n",
       "      <td>2704</td>\n",
       "      <td>38</td>\n",
       "      <td>1.301230</td>\n",
       "      <td>0.078223</td>\n",
       "      <td>1.374337</td>\n",
       "      <td>1.228123</td>\n",
       "    </tr>\n",
       "    <tr>\n",
       "      <th>25</th>\n",
       "      <td>25</td>\n",
       "      <td>2020-05-07</td>\n",
       "      <td>29616</td>\n",
       "      <td>508</td>\n",
       "      <td>2961</td>\n",
       "      <td>43</td>\n",
       "      <td>1.321202</td>\n",
       "      <td>0.078223</td>\n",
       "      <td>1.394309</td>\n",
       "      <td>1.248096</td>\n",
       "    </tr>\n",
       "    <tr>\n",
       "      <th>26</th>\n",
       "      <td>26</td>\n",
       "      <td>2020-05-08</td>\n",
       "      <td>31522</td>\n",
       "      <td>554</td>\n",
       "      <td>3160</td>\n",
       "      <td>47</td>\n",
       "      <td>1.306125</td>\n",
       "      <td>0.078223</td>\n",
       "      <td>1.379232</td>\n",
       "      <td>1.233018</td>\n",
       "    </tr>\n",
       "    <tr>\n",
       "      <th>27</th>\n",
       "      <td>27</td>\n",
       "      <td>2020-05-09</td>\n",
       "      <td>33460</td>\n",
       "      <td>592</td>\n",
       "      <td>3353</td>\n",
       "      <td>50</td>\n",
       "      <td>1.276933</td>\n",
       "      <td>0.078223</td>\n",
       "      <td>1.350040</td>\n",
       "      <td>1.203826</td>\n",
       "    </tr>\n",
       "    <tr>\n",
       "      <th>28</th>\n",
       "      <td>28</td>\n",
       "      <td>2020-05-10</td>\n",
       "      <td>35022</td>\n",
       "      <td>593</td>\n",
       "      <td>3465</td>\n",
       "      <td>54</td>\n",
       "      <td>1.237184</td>\n",
       "      <td>0.078223</td>\n",
       "      <td>1.310290</td>\n",
       "      <td>1.164077</td>\n",
       "    </tr>\n",
       "    <tr>\n",
       "      <th>29</th>\n",
       "      <td>29</td>\n",
       "      <td>2020-05-11</td>\n",
       "      <td>36327</td>\n",
       "      <td>636</td>\n",
       "      <td>3573</td>\n",
       "      <td>57</td>\n",
       "      <td>1.221385</td>\n",
       "      <td>0.078223</td>\n",
       "      <td>1.294492</td>\n",
       "      <td>1.148278</td>\n",
       "    </tr>\n",
       "    <tr>\n",
       "      <th>...</th>\n",
       "      <td>...</td>\n",
       "      <td>...</td>\n",
       "      <td>...</td>\n",
       "      <td>...</td>\n",
       "      <td>...</td>\n",
       "      <td>...</td>\n",
       "      <td>...</td>\n",
       "      <td>...</td>\n",
       "      <td>...</td>\n",
       "      <td>...</td>\n",
       "    </tr>\n",
       "    <tr>\n",
       "      <th>112</th>\n",
       "      <td>112</td>\n",
       "      <td>2020-08-02</td>\n",
       "      <td>439046</td>\n",
       "      <td>13506</td>\n",
       "      <td>47746</td>\n",
       "      <td>1575</td>\n",
       "      <td>0.978922</td>\n",
       "      <td>0.078223</td>\n",
       "      <td>1.052029</td>\n",
       "      <td>0.905815</td>\n",
       "    </tr>\n",
       "    <tr>\n",
       "      <th>113</th>\n",
       "      <td>113</td>\n",
       "      <td>2020-08-03</td>\n",
       "      <td>443813</td>\n",
       "      <td>13664</td>\n",
       "      <td>48012</td>\n",
       "      <td>1594</td>\n",
       "      <td>0.949696</td>\n",
       "      <td>0.078223</td>\n",
       "      <td>1.022802</td>\n",
       "      <td>0.876589</td>\n",
       "    </tr>\n",
       "    <tr>\n",
       "      <th>114</th>\n",
       "      <td>114</td>\n",
       "      <td>2020-08-04</td>\n",
       "      <td>449961</td>\n",
       "      <td>13876</td>\n",
       "      <td>48869</td>\n",
       "      <td>1620</td>\n",
       "      <td>0.951971</td>\n",
       "      <td>0.078223</td>\n",
       "      <td>1.025078</td>\n",
       "      <td>0.878865</td>\n",
       "    </tr>\n",
       "    <tr>\n",
       "      <th>115</th>\n",
       "      <td>115</td>\n",
       "      <td>2020-08-05</td>\n",
       "      <td>456100</td>\n",
       "      <td>14096</td>\n",
       "      <td>49698</td>\n",
       "      <td>1647</td>\n",
       "      <td>0.956016</td>\n",
       "      <td>0.078223</td>\n",
       "      <td>1.029123</td>\n",
       "      <td>0.882909</td>\n",
       "    </tr>\n",
       "    <tr>\n",
       "      <th>116</th>\n",
       "      <td>116</td>\n",
       "      <td>2020-08-06</td>\n",
       "      <td>462690</td>\n",
       "      <td>14352</td>\n",
       "      <td>50517</td>\n",
       "      <td>1677</td>\n",
       "      <td>0.961459</td>\n",
       "      <td>0.078223</td>\n",
       "      <td>1.034566</td>\n",
       "      <td>0.888352</td>\n",
       "    </tr>\n",
       "    <tr>\n",
       "      <th>117</th>\n",
       "      <td>117</td>\n",
       "      <td>2020-08-07</td>\n",
       "      <td>469407</td>\n",
       "      <td>14550</td>\n",
       "      <td>51311</td>\n",
       "      <td>1712</td>\n",
       "      <td>0.959376</td>\n",
       "      <td>0.078223</td>\n",
       "      <td>1.032482</td>\n",
       "      <td>0.886269</td>\n",
       "    </tr>\n",
       "    <tr>\n",
       "      <th>118</th>\n",
       "      <td>118</td>\n",
       "      <td>2020-08-08</td>\n",
       "      <td>475902</td>\n",
       "      <td>14847</td>\n",
       "      <td>52006</td>\n",
       "      <td>1745</td>\n",
       "      <td>0.947476</td>\n",
       "      <td>0.078223</td>\n",
       "      <td>1.020582</td>\n",
       "      <td>0.874369</td>\n",
       "    </tr>\n",
       "    <tr>\n",
       "      <th>119</th>\n",
       "      <td>119</td>\n",
       "      <td>2020-08-09</td>\n",
       "      <td>480278</td>\n",
       "      <td>15032</td>\n",
       "      <td>52298</td>\n",
       "      <td>1764</td>\n",
       "      <td>0.929220</td>\n",
       "      <td>0.078223</td>\n",
       "      <td>1.002327</td>\n",
       "      <td>0.856113</td>\n",
       "    </tr>\n",
       "    <tr>\n",
       "      <th>120</th>\n",
       "      <td>120</td>\n",
       "      <td>2020-08-10</td>\n",
       "      <td>485836</td>\n",
       "      <td>15402</td>\n",
       "      <td>53003</td>\n",
       "      <td>1820</td>\n",
       "      <td>0.942703</td>\n",
       "      <td>0.078223</td>\n",
       "      <td>1.015810</td>\n",
       "      <td>0.869596</td>\n",
       "    </tr>\n",
       "    <tr>\n",
       "      <th>121</th>\n",
       "      <td>121</td>\n",
       "      <td>2020-08-11</td>\n",
       "      <td>492522</td>\n",
       "      <td>15681</td>\n",
       "      <td>53929</td>\n",
       "      <td>1870</td>\n",
       "      <td>0.961883</td>\n",
       "      <td>0.078223</td>\n",
       "      <td>1.034990</td>\n",
       "      <td>0.888777</td>\n",
       "    </tr>\n",
       "    <tr>\n",
       "      <th>122</th>\n",
       "      <td>122</td>\n",
       "      <td>2020-08-12</td>\n",
       "      <td>498380</td>\n",
       "      <td>15852</td>\n",
       "      <td>54666</td>\n",
       "      <td>1895</td>\n",
       "      <td>0.964588</td>\n",
       "      <td>0.078224</td>\n",
       "      <td>1.037695</td>\n",
       "      <td>0.891481</td>\n",
       "    </tr>\n",
       "    <tr>\n",
       "      <th>123</th>\n",
       "      <td>123</td>\n",
       "      <td>2020-08-13</td>\n",
       "      <td>505751</td>\n",
       "      <td>15934</td>\n",
       "      <td>55293</td>\n",
       "      <td>1930</td>\n",
       "      <td>0.969540</td>\n",
       "      <td>0.078224</td>\n",
       "      <td>1.042647</td>\n",
       "      <td>0.896433</td>\n",
       "    </tr>\n",
       "    <tr>\n",
       "      <th>124</th>\n",
       "      <td>124</td>\n",
       "      <td>2020-08-14</td>\n",
       "      <td>511369</td>\n",
       "      <td>16030</td>\n",
       "      <td>55908</td>\n",
       "      <td>1947</td>\n",
       "      <td>0.945929</td>\n",
       "      <td>0.078224</td>\n",
       "      <td>1.019036</td>\n",
       "      <td>0.872822</td>\n",
       "    </tr>\n",
       "    <tr>\n",
       "      <th>125</th>\n",
       "      <td>125</td>\n",
       "      <td>2020-08-15</td>\n",
       "      <td>517714</td>\n",
       "      <td>16223</td>\n",
       "      <td>56543</td>\n",
       "      <td>1996</td>\n",
       "      <td>0.929340</td>\n",
       "      <td>0.078224</td>\n",
       "      <td>1.002448</td>\n",
       "      <td>0.856233</td>\n",
       "    </tr>\n",
       "    <tr>\n",
       "      <th>126</th>\n",
       "      <td>126</td>\n",
       "      <td>2020-08-16</td>\n",
       "      <td>522162</td>\n",
       "      <td>16381</td>\n",
       "      <td>56757</td>\n",
       "      <td>2009</td>\n",
       "      <td>0.901461</td>\n",
       "      <td>0.078224</td>\n",
       "      <td>0.974568</td>\n",
       "      <td>0.828353</td>\n",
       "    </tr>\n",
       "    <tr>\n",
       "      <th>127</th>\n",
       "      <td>127</td>\n",
       "      <td>2020-08-17</td>\n",
       "      <td>525733</td>\n",
       "      <td>16593</td>\n",
       "      <td>57023</td>\n",
       "      <td>2029</td>\n",
       "      <td>0.896894</td>\n",
       "      <td>0.078225</td>\n",
       "      <td>0.970003</td>\n",
       "      <td>0.823786</td>\n",
       "    </tr>\n",
       "    <tr>\n",
       "      <th>128</th>\n",
       "      <td>128</td>\n",
       "      <td>2020-08-18</td>\n",
       "      <td>531239</td>\n",
       "      <td>16847</td>\n",
       "      <td>57774</td>\n",
       "      <td>2047</td>\n",
       "      <td>0.929470</td>\n",
       "      <td>0.078227</td>\n",
       "      <td>1.002579</td>\n",
       "      <td>0.856360</td>\n",
       "    </tr>\n",
       "    <tr>\n",
       "      <th>129</th>\n",
       "      <td>129</td>\n",
       "      <td>2020-08-19</td>\n",
       "      <td>537031</td>\n",
       "      <td>17056</td>\n",
       "      <td>58481</td>\n",
       "      <td>2080</td>\n",
       "      <td>0.956170</td>\n",
       "      <td>0.078230</td>\n",
       "      <td>1.029283</td>\n",
       "      <td>0.883057</td>\n",
       "    </tr>\n",
       "    <tr>\n",
       "      <th>130</th>\n",
       "      <td>130</td>\n",
       "      <td>2020-08-20</td>\n",
       "      <td>543806</td>\n",
       "      <td>17587</td>\n",
       "      <td>59106</td>\n",
       "      <td>2109</td>\n",
       "      <td>0.973595</td>\n",
       "      <td>0.078236</td>\n",
       "      <td>1.046714</td>\n",
       "      <td>0.900477</td>\n",
       "    </tr>\n",
       "    <tr>\n",
       "      <th>131</th>\n",
       "      <td>131</td>\n",
       "      <td>2020-08-21</td>\n",
       "      <td>549734</td>\n",
       "      <td>17710</td>\n",
       "      <td>59610</td>\n",
       "      <td>2135</td>\n",
       "      <td>0.962884</td>\n",
       "      <td>0.078248</td>\n",
       "      <td>1.036014</td>\n",
       "      <td>0.889754</td>\n",
       "    </tr>\n",
       "    <tr>\n",
       "      <th>132</th>\n",
       "      <td>132</td>\n",
       "      <td>2020-08-22</td>\n",
       "      <td>556216</td>\n",
       "      <td>18115</td>\n",
       "      <td>60254</td>\n",
       "      <td>2181</td>\n",
       "      <td>0.944934</td>\n",
       "      <td>0.078274</td>\n",
       "      <td>1.018088</td>\n",
       "      <td>0.871780</td>\n",
       "    </tr>\n",
       "    <tr>\n",
       "      <th>133</th>\n",
       "      <td>133</td>\n",
       "      <td>2020-08-23</td>\n",
       "      <td>560164</td>\n",
       "      <td>18355</td>\n",
       "      <td>60480</td>\n",
       "      <td>2217</td>\n",
       "      <td>0.906118</td>\n",
       "      <td>0.078325</td>\n",
       "      <td>0.979319</td>\n",
       "      <td>0.832916</td>\n",
       "    </tr>\n",
       "    <tr>\n",
       "      <th>134</th>\n",
       "      <td>134</td>\n",
       "      <td>2020-08-24</td>\n",
       "      <td>563705</td>\n",
       "      <td>18547</td>\n",
       "      <td>60800</td>\n",
       "      <td>2242</td>\n",
       "      <td>0.896888</td>\n",
       "      <td>0.078428</td>\n",
       "      <td>0.970186</td>\n",
       "      <td>0.823590</td>\n",
       "    </tr>\n",
       "    <tr>\n",
       "      <th>135</th>\n",
       "      <td>135</td>\n",
       "      <td>2020-08-25</td>\n",
       "      <td>568621</td>\n",
       "      <td>18849</td>\n",
       "      <td>61450</td>\n",
       "      <td>2272</td>\n",
       "      <td>0.920925</td>\n",
       "      <td>0.078635</td>\n",
       "      <td>0.994416</td>\n",
       "      <td>0.847434</td>\n",
       "    </tr>\n",
       "    <tr>\n",
       "      <th>136</th>\n",
       "      <td>136</td>\n",
       "      <td>2020-08-26</td>\n",
       "      <td>573888</td>\n",
       "      <td>19033</td>\n",
       "      <td>62076</td>\n",
       "      <td>2306</td>\n",
       "      <td>0.944915</td>\n",
       "      <td>0.079050</td>\n",
       "      <td>1.018794</td>\n",
       "      <td>0.871036</td>\n",
       "    </tr>\n",
       "    <tr>\n",
       "      <th>137</th>\n",
       "      <td>137</td>\n",
       "      <td>2020-08-27</td>\n",
       "      <td>579914</td>\n",
       "      <td>19231</td>\n",
       "      <td>62594</td>\n",
       "      <td>2343</td>\n",
       "      <td>0.962291</td>\n",
       "      <td>0.079879</td>\n",
       "      <td>1.036945</td>\n",
       "      <td>0.887637</td>\n",
       "    </tr>\n",
       "    <tr>\n",
       "      <th>138</th>\n",
       "      <td>138</td>\n",
       "      <td>2020-08-28</td>\n",
       "      <td>585738</td>\n",
       "      <td>19567</td>\n",
       "      <td>63146</td>\n",
       "      <td>2373</td>\n",
       "      <td>0.957348</td>\n",
       "      <td>0.081524</td>\n",
       "      <td>1.033539</td>\n",
       "      <td>0.881156</td>\n",
       "    </tr>\n",
       "    <tr>\n",
       "      <th>139</th>\n",
       "      <td>139</td>\n",
       "      <td>2020-08-29</td>\n",
       "      <td>591712</td>\n",
       "      <td>19907</td>\n",
       "      <td>63819</td>\n",
       "      <td>2392</td>\n",
       "      <td>0.936945</td>\n",
       "      <td>0.084742</td>\n",
       "      <td>1.016144</td>\n",
       "      <td>0.857746</td>\n",
       "    </tr>\n",
       "    <tr>\n",
       "      <th>140</th>\n",
       "      <td>140</td>\n",
       "      <td>2020-08-30</td>\n",
       "      <td>595841</td>\n",
       "      <td>20131</td>\n",
       "      <td>64158</td>\n",
       "      <td>2405</td>\n",
       "      <td>0.896697</td>\n",
       "      <td>0.090878</td>\n",
       "      <td>0.981631</td>\n",
       "      <td>0.811763</td>\n",
       "    </tr>\n",
       "    <tr>\n",
       "      <th>141</th>\n",
       "      <td>141</td>\n",
       "      <td>2020-08-31</td>\n",
       "      <td>599560</td>\n",
       "      <td>20324</td>\n",
       "      <td>64414</td>\n",
       "      <td>2425</td>\n",
       "      <td>0.874883</td>\n",
       "      <td>0.102127</td>\n",
       "      <td>0.970330</td>\n",
       "      <td>0.779436</td>\n",
       "    </tr>\n",
       "  </tbody>\n",
       "</table>\n",
       "<p>142 rows × 10 columns</p>\n",
       "</div>"
      ],
      "text/plain": [
       "     index       date Cases_Mexico Cases_Jalisco Deaths_Mexico Deaths_Jalisco  \\\n",
       "0        0 2020-04-12         4661           158           296             11   \n",
       "1        1 2020-04-13         5014           161           332             11   \n",
       "2        2 2020-04-14         5399           166           406             11   \n",
       "3        3 2020-04-15         5847           178           449             11   \n",
       "4        4 2020-04-16         6297           180           486             11   \n",
       "5        5 2020-04-17         6875           189           546             13   \n",
       "6        6 2020-04-18         7497           195           650             13   \n",
       "7        7 2020-04-19         8261           197           686             13   \n",
       "8        8 2020-04-20         8772           215           712             14   \n",
       "9        9 2020-04-21         9501           225           857             15   \n",
       "10      10 2020-04-22        10544           235           970             15   \n",
       "11      11 2020-04-23        11633           254          1069             19   \n",
       "12      12 2020-04-24        12872           263          1221             20   \n",
       "13      13 2020-04-25        13842           271          1305             23   \n",
       "14      14 2020-04-26        14677           282          1351             25   \n",
       "15      15 2020-04-27        15529           303          1434             25   \n",
       "16      16 2020-04-28        16752           316          1569             25   \n",
       "17      17 2020-04-29        17799           326          1732             25   \n",
       "18      18 2020-04-30        19224           347          1859             28   \n",
       "19      19 2020-05-01        20739           375          1972             30   \n",
       "20      20 2020-05-02        22088           387          2061             32   \n",
       "21      21 2020-05-03        23471           417          2154             33   \n",
       "22      22 2020-05-04        24905           447          2270             34   \n",
       "23      23 2020-05-05        26025           469          2507             36   \n",
       "24      24 2020-05-06        27634           492          2704             38   \n",
       "25      25 2020-05-07        29616           508          2961             43   \n",
       "26      26 2020-05-08        31522           554          3160             47   \n",
       "27      27 2020-05-09        33460           592          3353             50   \n",
       "28      28 2020-05-10        35022           593          3465             54   \n",
       "29      29 2020-05-11        36327           636          3573             57   \n",
       "..     ...        ...          ...           ...           ...            ...   \n",
       "112    112 2020-08-02       439046         13506         47746           1575   \n",
       "113    113 2020-08-03       443813         13664         48012           1594   \n",
       "114    114 2020-08-04       449961         13876         48869           1620   \n",
       "115    115 2020-08-05       456100         14096         49698           1647   \n",
       "116    116 2020-08-06       462690         14352         50517           1677   \n",
       "117    117 2020-08-07       469407         14550         51311           1712   \n",
       "118    118 2020-08-08       475902         14847         52006           1745   \n",
       "119    119 2020-08-09       480278         15032         52298           1764   \n",
       "120    120 2020-08-10       485836         15402         53003           1820   \n",
       "121    121 2020-08-11       492522         15681         53929           1870   \n",
       "122    122 2020-08-12       498380         15852         54666           1895   \n",
       "123    123 2020-08-13       505751         15934         55293           1930   \n",
       "124    124 2020-08-14       511369         16030         55908           1947   \n",
       "125    125 2020-08-15       517714         16223         56543           1996   \n",
       "126    126 2020-08-16       522162         16381         56757           2009   \n",
       "127    127 2020-08-17       525733         16593         57023           2029   \n",
       "128    128 2020-08-18       531239         16847         57774           2047   \n",
       "129    129 2020-08-19       537031         17056         58481           2080   \n",
       "130    130 2020-08-20       543806         17587         59106           2109   \n",
       "131    131 2020-08-21       549734         17710         59610           2135   \n",
       "132    132 2020-08-22       556216         18115         60254           2181   \n",
       "133    133 2020-08-23       560164         18355         60480           2217   \n",
       "134    134 2020-08-24       563705         18547         60800           2242   \n",
       "135    135 2020-08-25       568621         18849         61450           2272   \n",
       "136    136 2020-08-26       573888         19033         62076           2306   \n",
       "137    137 2020-08-27       579914         19231         62594           2343   \n",
       "138    138 2020-08-28       585738         19567         63146           2373   \n",
       "139    139 2020-08-29       591712         19907         63819           2392   \n",
       "140    140 2020-08-30       595841         20131         64158           2405   \n",
       "141    141 2020-08-31       599560         20324         64414           2425   \n",
       "\n",
       "       Rt_est      se_R    ci_pos    ci_neg  \n",
       "0    0.700500  0.102127  0.795947  0.605053  \n",
       "1    0.721606  0.090878  0.806540  0.636672  \n",
       "2    0.766434  0.084742  0.845632  0.687235  \n",
       "3    0.829427  0.081524  0.905619  0.753235  \n",
       "4    0.900694  0.079879  0.975348  0.826040  \n",
       "5    0.985311  0.079050  1.059190  0.911432  \n",
       "6    1.061972  0.078635  1.135463  0.988481  \n",
       "7    1.131258  0.078428  1.204555  1.057960  \n",
       "8    1.172944  0.078325  1.246146  1.099742  \n",
       "9    1.253150  0.078274  1.326304  1.179996  \n",
       "10   1.333185  0.078248  1.406316  1.260055  \n",
       "11   1.363822  0.078236  1.436940  1.290704  \n",
       "12   1.360599  0.078230  1.433711  1.287486  \n",
       "13   1.314430  0.078226  1.387540  1.241321  \n",
       "14   1.280714  0.078225  1.353822  1.207606  \n",
       "15   1.280043  0.078224  1.353151  1.206936  \n",
       "16   1.310033  0.078224  1.383140  1.236926  \n",
       "17   1.319544  0.078224  1.392650  1.246437  \n",
       "18   1.346007  0.078224  1.419114  1.272900  \n",
       "19   1.344873  0.078223  1.417980  1.271766  \n",
       "20   1.319253  0.078223  1.392360  1.246146  \n",
       "21   1.299153  0.078223  1.372260  1.226046  \n",
       "22   1.284216  0.078223  1.357322  1.211109  \n",
       "23   1.272576  0.078223  1.345683  1.199470  \n",
       "24   1.301230  0.078223  1.374337  1.228123  \n",
       "25   1.321202  0.078223  1.394309  1.248096  \n",
       "26   1.306125  0.078223  1.379232  1.233018  \n",
       "27   1.276933  0.078223  1.350040  1.203826  \n",
       "28   1.237184  0.078223  1.310290  1.164077  \n",
       "29   1.221385  0.078223  1.294492  1.148278  \n",
       "..        ...       ...       ...       ...  \n",
       "112  0.978922  0.078223  1.052029  0.905815  \n",
       "113  0.949696  0.078223  1.022802  0.876589  \n",
       "114  0.951971  0.078223  1.025078  0.878865  \n",
       "115  0.956016  0.078223  1.029123  0.882909  \n",
       "116  0.961459  0.078223  1.034566  0.888352  \n",
       "117  0.959376  0.078223  1.032482  0.886269  \n",
       "118  0.947476  0.078223  1.020582  0.874369  \n",
       "119  0.929220  0.078223  1.002327  0.856113  \n",
       "120  0.942703  0.078223  1.015810  0.869596  \n",
       "121  0.961883  0.078223  1.034990  0.888777  \n",
       "122  0.964588  0.078224  1.037695  0.891481  \n",
       "123  0.969540  0.078224  1.042647  0.896433  \n",
       "124  0.945929  0.078224  1.019036  0.872822  \n",
       "125  0.929340  0.078224  1.002448  0.856233  \n",
       "126  0.901461  0.078224  0.974568  0.828353  \n",
       "127  0.896894  0.078225  0.970003  0.823786  \n",
       "128  0.929470  0.078227  1.002579  0.856360  \n",
       "129  0.956170  0.078230  1.029283  0.883057  \n",
       "130  0.973595  0.078236  1.046714  0.900477  \n",
       "131  0.962884  0.078248  1.036014  0.889754  \n",
       "132  0.944934  0.078274  1.018088  0.871780  \n",
       "133  0.906118  0.078325  0.979319  0.832916  \n",
       "134  0.896888  0.078428  0.970186  0.823590  \n",
       "135  0.920925  0.078635  0.994416  0.847434  \n",
       "136  0.944915  0.079050  1.018794  0.871036  \n",
       "137  0.962291  0.079879  1.036945  0.887637  \n",
       "138  0.957348  0.081524  1.033539  0.881156  \n",
       "139  0.936945  0.084742  1.016144  0.857746  \n",
       "140  0.896697  0.090878  0.981631  0.811763  \n",
       "141  0.874883  0.102127  0.970330  0.779436  \n",
       "\n",
       "[142 rows x 10 columns]"
      ]
     },
     "execution_count": 384,
     "metadata": {},
     "output_type": "execute_result"
    }
   ],
   "source": [
    "mx11"
   ]
  },
  {
   "cell_type": "code",
   "execution_count": 383,
   "metadata": {},
   "outputs": [
    {
     "data": {
      "text/html": [
       "<div>\n",
       "<style scoped>\n",
       "    .dataframe tbody tr th:only-of-type {\n",
       "        vertical-align: middle;\n",
       "    }\n",
       "\n",
       "    .dataframe tbody tr th {\n",
       "        vertical-align: top;\n",
       "    }\n",
       "\n",
       "    .dataframe thead th {\n",
       "        text-align: right;\n",
       "    }\n",
       "</style>\n",
       "<table border=\"1\" class=\"dataframe\">\n",
       "  <thead>\n",
       "    <tr style=\"text-align: right;\">\n",
       "      <th></th>\n",
       "      <th>index</th>\n",
       "      <th>date</th>\n",
       "      <th>Cases_Mexico</th>\n",
       "      <th>Cases_Jalisco</th>\n",
       "      <th>Deaths_Mexico</th>\n",
       "      <th>Deaths_Jalisco</th>\n",
       "      <th>Rt_est</th>\n",
       "      <th>se_R</th>\n",
       "      <th>ci_pos</th>\n",
       "      <th>ci_neg</th>\n",
       "    </tr>\n",
       "  </thead>\n",
       "  <tbody>\n",
       "    <tr>\n",
       "      <th>0</th>\n",
       "      <td>15</td>\n",
       "      <td>2020-03-13</td>\n",
       "      <td>146</td>\n",
       "      <td>7.0</td>\n",
       "      <td>NaN</td>\n",
       "      <td>NaN</td>\n",
       "      <td>1.972370</td>\n",
       "      <td>0.119746</td>\n",
       "      <td>2.084283</td>\n",
       "      <td>1.860456</td>\n",
       "    </tr>\n",
       "    <tr>\n",
       "      <th>1</th>\n",
       "      <td>16</td>\n",
       "      <td>2020-03-14</td>\n",
       "      <td>196</td>\n",
       "      <td>12.0</td>\n",
       "      <td>NaN</td>\n",
       "      <td>NaN</td>\n",
       "      <td>1.967837</td>\n",
       "      <td>0.114327</td>\n",
       "      <td>2.074686</td>\n",
       "      <td>1.860989</td>\n",
       "    </tr>\n",
       "    <tr>\n",
       "      <th>2</th>\n",
       "      <td>17</td>\n",
       "      <td>2020-03-15</td>\n",
       "      <td>232</td>\n",
       "      <td>14.0</td>\n",
       "      <td>NaN</td>\n",
       "      <td>NaN</td>\n",
       "      <td>1.958725</td>\n",
       "      <td>0.109722</td>\n",
       "      <td>2.061270</td>\n",
       "      <td>1.856180</td>\n",
       "    </tr>\n",
       "    <tr>\n",
       "      <th>3</th>\n",
       "      <td>18</td>\n",
       "      <td>2020-03-16</td>\n",
       "      <td>300</td>\n",
       "      <td>26.0</td>\n",
       "      <td>NaN</td>\n",
       "      <td>NaN</td>\n",
       "      <td>1.955158</td>\n",
       "      <td>0.105828</td>\n",
       "      <td>2.054063</td>\n",
       "      <td>1.856253</td>\n",
       "    </tr>\n",
       "    <tr>\n",
       "      <th>4</th>\n",
       "      <td>19</td>\n",
       "      <td>2020-03-17</td>\n",
       "      <td>395</td>\n",
       "      <td>32.0</td>\n",
       "      <td>NaN</td>\n",
       "      <td>NaN</td>\n",
       "      <td>1.945167</td>\n",
       "      <td>0.102551</td>\n",
       "      <td>2.041010</td>\n",
       "      <td>1.849324</td>\n",
       "    </tr>\n",
       "    <tr>\n",
       "      <th>5</th>\n",
       "      <td>20</td>\n",
       "      <td>2020-03-18</td>\n",
       "      <td>497</td>\n",
       "      <td>49.0</td>\n",
       "      <td>2.0</td>\n",
       "      <td>NaN</td>\n",
       "      <td>1.924749</td>\n",
       "      <td>0.099806</td>\n",
       "      <td>2.018027</td>\n",
       "      <td>1.831471</td>\n",
       "    </tr>\n",
       "    <tr>\n",
       "      <th>6</th>\n",
       "      <td>21</td>\n",
       "      <td>2020-03-19</td>\n",
       "      <td>608</td>\n",
       "      <td>60.0</td>\n",
       "      <td>NaN</td>\n",
       "      <td>NaN</td>\n",
       "      <td>1.898603</td>\n",
       "      <td>0.097517</td>\n",
       "      <td>1.989740</td>\n",
       "      <td>1.807465</td>\n",
       "    </tr>\n",
       "    <tr>\n",
       "      <th>7</th>\n",
       "      <td>22</td>\n",
       "      <td>2020-03-20</td>\n",
       "      <td>708</td>\n",
       "      <td>65.0</td>\n",
       "      <td>3.0</td>\n",
       "      <td>1.0</td>\n",
       "      <td>1.869068</td>\n",
       "      <td>0.095614</td>\n",
       "      <td>1.958428</td>\n",
       "      <td>1.779709</td>\n",
       "    </tr>\n",
       "    <tr>\n",
       "      <th>8</th>\n",
       "      <td>23</td>\n",
       "      <td>2020-03-21</td>\n",
       "      <td>774</td>\n",
       "      <td>66.0</td>\n",
       "      <td>NaN</td>\n",
       "      <td>NaN</td>\n",
       "      <td>1.841326</td>\n",
       "      <td>0.094037</td>\n",
       "      <td>1.929212</td>\n",
       "      <td>1.753440</td>\n",
       "    </tr>\n",
       "    <tr>\n",
       "      <th>9</th>\n",
       "      <td>24</td>\n",
       "      <td>2020-03-22</td>\n",
       "      <td>822</td>\n",
       "      <td>69.0</td>\n",
       "      <td>4.0</td>\n",
       "      <td>NaN</td>\n",
       "      <td>1.822339</td>\n",
       "      <td>0.092735</td>\n",
       "      <td>1.909009</td>\n",
       "      <td>1.735670</td>\n",
       "    </tr>\n",
       "    <tr>\n",
       "      <th>10</th>\n",
       "      <td>25</td>\n",
       "      <td>2020-03-23</td>\n",
       "      <td>952</td>\n",
       "      <td>77.0</td>\n",
       "      <td>5.0</td>\n",
       "      <td>NaN</td>\n",
       "      <td>1.814897</td>\n",
       "      <td>0.091662</td>\n",
       "      <td>1.900564</td>\n",
       "      <td>1.729231</td>\n",
       "    </tr>\n",
       "    <tr>\n",
       "      <th>11</th>\n",
       "      <td>26</td>\n",
       "      <td>2020-03-24</td>\n",
       "      <td>1118</td>\n",
       "      <td>84.0</td>\n",
       "      <td>7.0</td>\n",
       "      <td>NaN</td>\n",
       "      <td>1.804612</td>\n",
       "      <td>0.090780</td>\n",
       "      <td>1.889454</td>\n",
       "      <td>1.719769</td>\n",
       "    </tr>\n",
       "    <tr>\n",
       "      <th>12</th>\n",
       "      <td>27</td>\n",
       "      <td>2020-03-25</td>\n",
       "      <td>1259</td>\n",
       "      <td>91.0</td>\n",
       "      <td>9.0</td>\n",
       "      <td>NaN</td>\n",
       "      <td>1.789018</td>\n",
       "      <td>0.090056</td>\n",
       "      <td>1.873184</td>\n",
       "      <td>1.704852</td>\n",
       "    </tr>\n",
       "    <tr>\n",
       "      <th>13</th>\n",
       "      <td>28</td>\n",
       "      <td>2020-03-26</td>\n",
       "      <td>1432</td>\n",
       "      <td>97.0</td>\n",
       "      <td>17.0</td>\n",
       "      <td>3.0</td>\n",
       "      <td>1.774921</td>\n",
       "      <td>0.089463</td>\n",
       "      <td>1.858532</td>\n",
       "      <td>1.691309</td>\n",
       "    </tr>\n",
       "    <tr>\n",
       "      <th>14</th>\n",
       "      <td>29</td>\n",
       "      <td>2020-03-27</td>\n",
       "      <td>1645</td>\n",
       "      <td>104.0</td>\n",
       "      <td>24.0</td>\n",
       "      <td>NaN</td>\n",
       "      <td>1.760007</td>\n",
       "      <td>0.088978</td>\n",
       "      <td>1.843165</td>\n",
       "      <td>1.676850</td>\n",
       "    </tr>\n",
       "    <tr>\n",
       "      <th>15</th>\n",
       "      <td>30</td>\n",
       "      <td>2020-03-28</td>\n",
       "      <td>1806</td>\n",
       "      <td>106.0</td>\n",
       "      <td>38.0</td>\n",
       "      <td>NaN</td>\n",
       "      <td>1.742190</td>\n",
       "      <td>0.088581</td>\n",
       "      <td>1.824977</td>\n",
       "      <td>1.659403</td>\n",
       "    </tr>\n",
       "    <tr>\n",
       "      <th>16</th>\n",
       "      <td>31</td>\n",
       "      <td>2020-03-29</td>\n",
       "      <td>1949</td>\n",
       "      <td>108.0</td>\n",
       "      <td>46.0</td>\n",
       "      <td>NaN</td>\n",
       "      <td>1.728677</td>\n",
       "      <td>0.088257</td>\n",
       "      <td>1.811161</td>\n",
       "      <td>1.646193</td>\n",
       "    </tr>\n",
       "    <tr>\n",
       "      <th>17</th>\n",
       "      <td>32</td>\n",
       "      <td>2020-03-30</td>\n",
       "      <td>2268</td>\n",
       "      <td>115.0</td>\n",
       "      <td>58.0</td>\n",
       "      <td>NaN</td>\n",
       "      <td>1.721505</td>\n",
       "      <td>0.087992</td>\n",
       "      <td>1.803741</td>\n",
       "      <td>1.639268</td>\n",
       "    </tr>\n",
       "    <tr>\n",
       "      <th>18</th>\n",
       "      <td>33</td>\n",
       "      <td>2020-03-31</td>\n",
       "      <td>2548</td>\n",
       "      <td>122.0</td>\n",
       "      <td>80.0</td>\n",
       "      <td>4.0</td>\n",
       "      <td>1.706216</td>\n",
       "      <td>0.087777</td>\n",
       "      <td>1.788251</td>\n",
       "      <td>1.624181</td>\n",
       "    </tr>\n",
       "    <tr>\n",
       "      <th>19</th>\n",
       "      <td>34</td>\n",
       "      <td>2020-04-01</td>\n",
       "      <td>2879</td>\n",
       "      <td>125.0</td>\n",
       "      <td>99.0</td>\n",
       "      <td>NaN</td>\n",
       "      <td>1.689946</td>\n",
       "      <td>0.087601</td>\n",
       "      <td>1.771817</td>\n",
       "      <td>1.608075</td>\n",
       "    </tr>\n",
       "    <tr>\n",
       "      <th>20</th>\n",
       "      <td>35</td>\n",
       "      <td>2020-04-02</td>\n",
       "      <td>3191</td>\n",
       "      <td>133.0</td>\n",
       "      <td>125.0</td>\n",
       "      <td>6.0</td>\n",
       "      <td>1.671349</td>\n",
       "      <td>0.087457</td>\n",
       "      <td>1.753086</td>\n",
       "      <td>1.589613</td>\n",
       "    </tr>\n",
       "    <tr>\n",
       "      <th>21</th>\n",
       "      <td>36</td>\n",
       "      <td>2020-04-03</td>\n",
       "      <td>3532</td>\n",
       "      <td>143.0</td>\n",
       "      <td>157.0</td>\n",
       "      <td>NaN</td>\n",
       "      <td>1.653598</td>\n",
       "      <td>0.087340</td>\n",
       "      <td>1.735226</td>\n",
       "      <td>1.571971</td>\n",
       "    </tr>\n",
       "    <tr>\n",
       "      <th>22</th>\n",
       "      <td>37</td>\n",
       "      <td>2020-04-04</td>\n",
       "      <td>3753</td>\n",
       "      <td>145.0</td>\n",
       "      <td>190.0</td>\n",
       "      <td>NaN</td>\n",
       "      <td>1.636373</td>\n",
       "      <td>0.087245</td>\n",
       "      <td>1.717912</td>\n",
       "      <td>1.554834</td>\n",
       "    </tr>\n",
       "    <tr>\n",
       "      <th>23</th>\n",
       "      <td>38</td>\n",
       "      <td>2020-04-05</td>\n",
       "      <td>3982</td>\n",
       "      <td>147.0</td>\n",
       "      <td>217.0</td>\n",
       "      <td>7.0</td>\n",
       "      <td>1.626393</td>\n",
       "      <td>0.087168</td>\n",
       "      <td>1.707859</td>\n",
       "      <td>1.544927</td>\n",
       "    </tr>\n",
       "    <tr>\n",
       "      <th>24</th>\n",
       "      <td>39</td>\n",
       "      <td>2020-04-06</td>\n",
       "      <td>4534</td>\n",
       "      <td>151.0</td>\n",
       "      <td>270.0</td>\n",
       "      <td>NaN</td>\n",
       "      <td>1.623117</td>\n",
       "      <td>0.087105</td>\n",
       "      <td>1.704524</td>\n",
       "      <td>1.541709</td>\n",
       "    </tr>\n",
       "    <tr>\n",
       "      <th>25</th>\n",
       "      <td>40</td>\n",
       "      <td>2020-04-07</td>\n",
       "      <td>4999</td>\n",
       "      <td>157.0</td>\n",
       "      <td>326.0</td>\n",
       "      <td>8.0</td>\n",
       "      <td>1.611488</td>\n",
       "      <td>0.087053</td>\n",
       "      <td>1.692848</td>\n",
       "      <td>1.530129</td>\n",
       "    </tr>\n",
       "    <tr>\n",
       "      <th>26</th>\n",
       "      <td>41</td>\n",
       "      <td>2020-04-08</td>\n",
       "      <td>5523</td>\n",
       "      <td>166.0</td>\n",
       "      <td>372.0</td>\n",
       "      <td>9.0</td>\n",
       "      <td>1.599046</td>\n",
       "      <td>0.087012</td>\n",
       "      <td>1.680366</td>\n",
       "      <td>1.517726</td>\n",
       "    </tr>\n",
       "    <tr>\n",
       "      <th>27</th>\n",
       "      <td>42</td>\n",
       "      <td>2020-04-09</td>\n",
       "      <td>5940</td>\n",
       "      <td>171.0</td>\n",
       "      <td>425.0</td>\n",
       "      <td>NaN</td>\n",
       "      <td>1.585187</td>\n",
       "      <td>0.086978</td>\n",
       "      <td>1.666476</td>\n",
       "      <td>1.503899</td>\n",
       "    </tr>\n",
       "    <tr>\n",
       "      <th>28</th>\n",
       "      <td>43</td>\n",
       "      <td>2020-04-10</td>\n",
       "      <td>6442</td>\n",
       "      <td>179.0</td>\n",
       "      <td>491.0</td>\n",
       "      <td>10.0</td>\n",
       "      <td>1.574928</td>\n",
       "      <td>0.086950</td>\n",
       "      <td>1.656190</td>\n",
       "      <td>1.493665</td>\n",
       "    </tr>\n",
       "    <tr>\n",
       "      <th>29</th>\n",
       "      <td>44</td>\n",
       "      <td>2020-04-11</td>\n",
       "      <td>6861</td>\n",
       "      <td>184.0</td>\n",
       "      <td>560.0</td>\n",
       "      <td>11.0</td>\n",
       "      <td>1.565993</td>\n",
       "      <td>0.086928</td>\n",
       "      <td>1.647235</td>\n",
       "      <td>1.484752</td>\n",
       "    </tr>\n",
       "    <tr>\n",
       "      <th>...</th>\n",
       "      <td>...</td>\n",
       "      <td>...</td>\n",
       "      <td>...</td>\n",
       "      <td>...</td>\n",
       "      <td>...</td>\n",
       "      <td>...</td>\n",
       "      <td>...</td>\n",
       "      <td>...</td>\n",
       "      <td>...</td>\n",
       "      <td>...</td>\n",
       "    </tr>\n",
       "    <tr>\n",
       "      <th>142</th>\n",
       "      <td>157</td>\n",
       "      <td>2020-08-02</td>\n",
       "      <td>475856</td>\n",
       "      <td>14980.0</td>\n",
       "      <td>54589.0</td>\n",
       "      <td>1799.0</td>\n",
       "      <td>0.960711</td>\n",
       "      <td>0.086928</td>\n",
       "      <td>1.041953</td>\n",
       "      <td>0.879469</td>\n",
       "    </tr>\n",
       "    <tr>\n",
       "      <th>143</th>\n",
       "      <td>158</td>\n",
       "      <td>2020-08-03</td>\n",
       "      <td>482920</td>\n",
       "      <td>15243.0</td>\n",
       "      <td>55208.0</td>\n",
       "      <td>1825.0</td>\n",
       "      <td>0.964715</td>\n",
       "      <td>0.086950</td>\n",
       "      <td>1.045978</td>\n",
       "      <td>0.883453</td>\n",
       "    </tr>\n",
       "    <tr>\n",
       "      <th>144</th>\n",
       "      <td>159</td>\n",
       "      <td>2020-08-04</td>\n",
       "      <td>489823</td>\n",
       "      <td>15484.0</td>\n",
       "      <td>55854.0</td>\n",
       "      <td>1855.0</td>\n",
       "      <td>0.965590</td>\n",
       "      <td>0.086978</td>\n",
       "      <td>1.046879</td>\n",
       "      <td>0.884301</td>\n",
       "    </tr>\n",
       "    <tr>\n",
       "      <th>145</th>\n",
       "      <td>160</td>\n",
       "      <td>2020-08-05</td>\n",
       "      <td>496434</td>\n",
       "      <td>15754.0</td>\n",
       "      <td>56432.0</td>\n",
       "      <td>1887.0</td>\n",
       "      <td>0.964117</td>\n",
       "      <td>0.087012</td>\n",
       "      <td>1.045437</td>\n",
       "      <td>0.882797</td>\n",
       "    </tr>\n",
       "    <tr>\n",
       "      <th>146</th>\n",
       "      <td>161</td>\n",
       "      <td>2020-08-06</td>\n",
       "      <td>502706</td>\n",
       "      <td>16003.0</td>\n",
       "      <td>57003.0</td>\n",
       "      <td>1921.0</td>\n",
       "      <td>0.961128</td>\n",
       "      <td>0.087054</td>\n",
       "      <td>1.042488</td>\n",
       "      <td>0.879769</td>\n",
       "    </tr>\n",
       "    <tr>\n",
       "      <th>147</th>\n",
       "      <td>162</td>\n",
       "      <td>2020-08-07</td>\n",
       "      <td>508837</td>\n",
       "      <td>16250.0</td>\n",
       "      <td>57550.0</td>\n",
       "      <td>1951.0</td>\n",
       "      <td>0.957365</td>\n",
       "      <td>0.087105</td>\n",
       "      <td>1.038772</td>\n",
       "      <td>0.875957</td>\n",
       "    </tr>\n",
       "    <tr>\n",
       "      <th>148</th>\n",
       "      <td>163</td>\n",
       "      <td>2020-08-08</td>\n",
       "      <td>512190</td>\n",
       "      <td>16376.0</td>\n",
       "      <td>58116.0</td>\n",
       "      <td>1986.0</td>\n",
       "      <td>0.953085</td>\n",
       "      <td>0.087168</td>\n",
       "      <td>1.034552</td>\n",
       "      <td>0.871619</td>\n",
       "    </tr>\n",
       "    <tr>\n",
       "      <th>149</th>\n",
       "      <td>164</td>\n",
       "      <td>2020-08-09</td>\n",
       "      <td>514408</td>\n",
       "      <td>16491.0</td>\n",
       "      <td>58660.0</td>\n",
       "      <td>2013.0</td>\n",
       "      <td>0.953110</td>\n",
       "      <td>0.087246</td>\n",
       "      <td>1.034649</td>\n",
       "      <td>0.871572</td>\n",
       "    </tr>\n",
       "    <tr>\n",
       "      <th>150</th>\n",
       "      <td>165</td>\n",
       "      <td>2020-08-10</td>\n",
       "      <td>521124</td>\n",
       "      <td>16753.0</td>\n",
       "      <td>59221.0</td>\n",
       "      <td>2031.0</td>\n",
       "      <td>0.959157</td>\n",
       "      <td>0.087341</td>\n",
       "      <td>1.040785</td>\n",
       "      <td>0.877530</td>\n",
       "    </tr>\n",
       "    <tr>\n",
       "      <th>151</th>\n",
       "      <td>166</td>\n",
       "      <td>2020-08-11</td>\n",
       "      <td>527618</td>\n",
       "      <td>16992.0</td>\n",
       "      <td>59789.0</td>\n",
       "      <td>2068.0</td>\n",
       "      <td>0.961685</td>\n",
       "      <td>0.087457</td>\n",
       "      <td>1.043422</td>\n",
       "      <td>0.879949</td>\n",
       "    </tr>\n",
       "    <tr>\n",
       "      <th>152</th>\n",
       "      <td>167</td>\n",
       "      <td>2020-08-12</td>\n",
       "      <td>533663</td>\n",
       "      <td>17232.0</td>\n",
       "      <td>60293.0</td>\n",
       "      <td>2097.0</td>\n",
       "      <td>0.961703</td>\n",
       "      <td>0.087601</td>\n",
       "      <td>1.043574</td>\n",
       "      <td>0.879832</td>\n",
       "    </tr>\n",
       "    <tr>\n",
       "      <th>153</th>\n",
       "      <td>168</td>\n",
       "      <td>2020-08-13</td>\n",
       "      <td>539674</td>\n",
       "      <td>17466.0</td>\n",
       "      <td>60791.0</td>\n",
       "      <td>2122.0</td>\n",
       "      <td>0.960419</td>\n",
       "      <td>0.087777</td>\n",
       "      <td>1.042454</td>\n",
       "      <td>0.878384</td>\n",
       "    </tr>\n",
       "    <tr>\n",
       "      <th>154</th>\n",
       "      <td>169</td>\n",
       "      <td>2020-08-14</td>\n",
       "      <td>545393</td>\n",
       "      <td>17674.0</td>\n",
       "      <td>61271.0</td>\n",
       "      <td>2149.0</td>\n",
       "      <td>0.958020</td>\n",
       "      <td>0.087992</td>\n",
       "      <td>1.040257</td>\n",
       "      <td>0.875783</td>\n",
       "    </tr>\n",
       "    <tr>\n",
       "      <th>155</th>\n",
       "      <td>170</td>\n",
       "      <td>2020-08-15</td>\n",
       "      <td>548405</td>\n",
       "      <td>17779.0</td>\n",
       "      <td>61743.0</td>\n",
       "      <td>2173.0</td>\n",
       "      <td>0.955132</td>\n",
       "      <td>0.088257</td>\n",
       "      <td>1.037616</td>\n",
       "      <td>0.872648</td>\n",
       "    </tr>\n",
       "    <tr>\n",
       "      <th>156</th>\n",
       "      <td>171</td>\n",
       "      <td>2020-08-16</td>\n",
       "      <td>550576</td>\n",
       "      <td>17891.0</td>\n",
       "      <td>62223.0</td>\n",
       "      <td>2205.0</td>\n",
       "      <td>0.956796</td>\n",
       "      <td>0.088581</td>\n",
       "      <td>1.039582</td>\n",
       "      <td>0.874009</td>\n",
       "    </tr>\n",
       "    <tr>\n",
       "      <th>157</th>\n",
       "      <td>172</td>\n",
       "      <td>2020-08-17</td>\n",
       "      <td>557012</td>\n",
       "      <td>18198.0</td>\n",
       "      <td>62728.0</td>\n",
       "      <td>2234.0</td>\n",
       "      <td>0.964309</td>\n",
       "      <td>0.088978</td>\n",
       "      <td>1.047467</td>\n",
       "      <td>0.881151</td>\n",
       "    </tr>\n",
       "    <tr>\n",
       "      <th>158</th>\n",
       "      <td>173</td>\n",
       "      <td>2020-08-18</td>\n",
       "      <td>563263</td>\n",
       "      <td>18454.0</td>\n",
       "      <td>63183.0</td>\n",
       "      <td>2253.0</td>\n",
       "      <td>0.968002</td>\n",
       "      <td>0.089463</td>\n",
       "      <td>1.051613</td>\n",
       "      <td>0.884390</td>\n",
       "    </tr>\n",
       "    <tr>\n",
       "      <th>159</th>\n",
       "      <td>174</td>\n",
       "      <td>2020-08-19</td>\n",
       "      <td>569198</td>\n",
       "      <td>18673.0</td>\n",
       "      <td>63682.0</td>\n",
       "      <td>2289.0</td>\n",
       "      <td>0.968923</td>\n",
       "      <td>0.090057</td>\n",
       "      <td>1.053089</td>\n",
       "      <td>0.884757</td>\n",
       "    </tr>\n",
       "    <tr>\n",
       "      <th>160</th>\n",
       "      <td>175</td>\n",
       "      <td>2020-08-20</td>\n",
       "      <td>574743</td>\n",
       "      <td>18902.0</td>\n",
       "      <td>64147.0</td>\n",
       "      <td>2318.0</td>\n",
       "      <td>0.968137</td>\n",
       "      <td>0.090780</td>\n",
       "      <td>1.052979</td>\n",
       "      <td>0.883294</td>\n",
       "    </tr>\n",
       "    <tr>\n",
       "      <th>161</th>\n",
       "      <td>176</td>\n",
       "      <td>2020-08-21</td>\n",
       "      <td>580599</td>\n",
       "      <td>19109.0</td>\n",
       "      <td>64589.0</td>\n",
       "      <td>2344.0</td>\n",
       "      <td>0.966629</td>\n",
       "      <td>0.091662</td>\n",
       "      <td>1.052295</td>\n",
       "      <td>0.880962</td>\n",
       "    </tr>\n",
       "    <tr>\n",
       "      <th>162</th>\n",
       "      <td>177</td>\n",
       "      <td>2020-08-22</td>\n",
       "      <td>583426</td>\n",
       "      <td>19217.0</td>\n",
       "      <td>65058.0</td>\n",
       "      <td>2375.0</td>\n",
       "      <td>0.963823</td>\n",
       "      <td>0.092735</td>\n",
       "      <td>1.050492</td>\n",
       "      <td>0.877154</td>\n",
       "    </tr>\n",
       "    <tr>\n",
       "      <th>163</th>\n",
       "      <td>178</td>\n",
       "      <td>2020-08-23</td>\n",
       "      <td>585613</td>\n",
       "      <td>19317.0</td>\n",
       "      <td>65475.0</td>\n",
       "      <td>2414.0</td>\n",
       "      <td>0.965764</td>\n",
       "      <td>0.094037</td>\n",
       "      <td>1.053650</td>\n",
       "      <td>0.877878</td>\n",
       "    </tr>\n",
       "    <tr>\n",
       "      <th>164</th>\n",
       "      <td>179</td>\n",
       "      <td>2020-08-24</td>\n",
       "      <td>592185</td>\n",
       "      <td>19585.0</td>\n",
       "      <td>65907.0</td>\n",
       "      <td>2435.0</td>\n",
       "      <td>0.973409</td>\n",
       "      <td>0.095614</td>\n",
       "      <td>1.062768</td>\n",
       "      <td>0.884049</td>\n",
       "    </tr>\n",
       "    <tr>\n",
       "      <th>165</th>\n",
       "      <td>180</td>\n",
       "      <td>2020-08-25</td>\n",
       "      <td>598355</td>\n",
       "      <td>19834.0</td>\n",
       "      <td>66349.0</td>\n",
       "      <td>2464.0</td>\n",
       "      <td>0.976399</td>\n",
       "      <td>0.097517</td>\n",
       "      <td>1.067537</td>\n",
       "      <td>0.885261</td>\n",
       "    </tr>\n",
       "    <tr>\n",
       "      <th>166</th>\n",
       "      <td>181</td>\n",
       "      <td>2020-08-26</td>\n",
       "      <td>604861</td>\n",
       "      <td>20111.0</td>\n",
       "      <td>66772.0</td>\n",
       "      <td>2495.0</td>\n",
       "      <td>0.976468</td>\n",
       "      <td>0.099806</td>\n",
       "      <td>1.069746</td>\n",
       "      <td>0.883190</td>\n",
       "    </tr>\n",
       "    <tr>\n",
       "      <th>167</th>\n",
       "      <td>182</td>\n",
       "      <td>2020-08-27</td>\n",
       "      <td>610894</td>\n",
       "      <td>20347.0</td>\n",
       "      <td>67172.0</td>\n",
       "      <td>2518.0</td>\n",
       "      <td>0.973374</td>\n",
       "      <td>0.102551</td>\n",
       "      <td>1.069218</td>\n",
       "      <td>0.877531</td>\n",
       "    </tr>\n",
       "    <tr>\n",
       "      <th>168</th>\n",
       "      <td>183</td>\n",
       "      <td>2020-08-28</td>\n",
       "      <td>616845</td>\n",
       "      <td>20590.0</td>\n",
       "      <td>67602.0</td>\n",
       "      <td>2546.0</td>\n",
       "      <td>0.968546</td>\n",
       "      <td>0.105828</td>\n",
       "      <td>1.067451</td>\n",
       "      <td>0.869640</td>\n",
       "    </tr>\n",
       "    <tr>\n",
       "      <th>169</th>\n",
       "      <td>184</td>\n",
       "      <td>2020-08-29</td>\n",
       "      <td>619717</td>\n",
       "      <td>20674.0</td>\n",
       "      <td>68008.0</td>\n",
       "      <td>2570.0</td>\n",
       "      <td>0.962323</td>\n",
       "      <td>0.109722</td>\n",
       "      <td>1.064867</td>\n",
       "      <td>0.859778</td>\n",
       "    </tr>\n",
       "    <tr>\n",
       "      <th>170</th>\n",
       "      <td>185</td>\n",
       "      <td>2020-08-30</td>\n",
       "      <td>621762</td>\n",
       "      <td>20781.0</td>\n",
       "      <td>68448.0</td>\n",
       "      <td>2593.0</td>\n",
       "      <td>0.960785</td>\n",
       "      <td>0.114327</td>\n",
       "      <td>1.067634</td>\n",
       "      <td>0.853935</td>\n",
       "    </tr>\n",
       "    <tr>\n",
       "      <th>171</th>\n",
       "      <td>186</td>\n",
       "      <td>2020-08-31</td>\n",
       "      <td>628227</td>\n",
       "      <td>21098.0</td>\n",
       "      <td>68898.0</td>\n",
       "      <td>2617.0</td>\n",
       "      <td>0.965231</td>\n",
       "      <td>0.119747</td>\n",
       "      <td>1.077145</td>\n",
       "      <td>0.853318</td>\n",
       "    </tr>\n",
       "  </tbody>\n",
       "</table>\n",
       "<p>172 rows × 10 columns</p>\n",
       "</div>"
      ],
      "text/plain": [
       "     index        date  Cases_Mexico  Cases_Jalisco  Deaths_Mexico  \\\n",
       "0       15  2020-03-13           146            7.0            NaN   \n",
       "1       16  2020-03-14           196           12.0            NaN   \n",
       "2       17  2020-03-15           232           14.0            NaN   \n",
       "3       18  2020-03-16           300           26.0            NaN   \n",
       "4       19  2020-03-17           395           32.0            NaN   \n",
       "5       20  2020-03-18           497           49.0            2.0   \n",
       "6       21  2020-03-19           608           60.0            NaN   \n",
       "7       22  2020-03-20           708           65.0            3.0   \n",
       "8       23  2020-03-21           774           66.0            NaN   \n",
       "9       24  2020-03-22           822           69.0            4.0   \n",
       "10      25  2020-03-23           952           77.0            5.0   \n",
       "11      26  2020-03-24          1118           84.0            7.0   \n",
       "12      27  2020-03-25          1259           91.0            9.0   \n",
       "13      28  2020-03-26          1432           97.0           17.0   \n",
       "14      29  2020-03-27          1645          104.0           24.0   \n",
       "15      30  2020-03-28          1806          106.0           38.0   \n",
       "16      31  2020-03-29          1949          108.0           46.0   \n",
       "17      32  2020-03-30          2268          115.0           58.0   \n",
       "18      33  2020-03-31          2548          122.0           80.0   \n",
       "19      34  2020-04-01          2879          125.0           99.0   \n",
       "20      35  2020-04-02          3191          133.0          125.0   \n",
       "21      36  2020-04-03          3532          143.0          157.0   \n",
       "22      37  2020-04-04          3753          145.0          190.0   \n",
       "23      38  2020-04-05          3982          147.0          217.0   \n",
       "24      39  2020-04-06          4534          151.0          270.0   \n",
       "25      40  2020-04-07          4999          157.0          326.0   \n",
       "26      41  2020-04-08          5523          166.0          372.0   \n",
       "27      42  2020-04-09          5940          171.0          425.0   \n",
       "28      43  2020-04-10          6442          179.0          491.0   \n",
       "29      44  2020-04-11          6861          184.0          560.0   \n",
       "..     ...         ...           ...            ...            ...   \n",
       "142    157  2020-08-02        475856        14980.0        54589.0   \n",
       "143    158  2020-08-03        482920        15243.0        55208.0   \n",
       "144    159  2020-08-04        489823        15484.0        55854.0   \n",
       "145    160  2020-08-05        496434        15754.0        56432.0   \n",
       "146    161  2020-08-06        502706        16003.0        57003.0   \n",
       "147    162  2020-08-07        508837        16250.0        57550.0   \n",
       "148    163  2020-08-08        512190        16376.0        58116.0   \n",
       "149    164  2020-08-09        514408        16491.0        58660.0   \n",
       "150    165  2020-08-10        521124        16753.0        59221.0   \n",
       "151    166  2020-08-11        527618        16992.0        59789.0   \n",
       "152    167  2020-08-12        533663        17232.0        60293.0   \n",
       "153    168  2020-08-13        539674        17466.0        60791.0   \n",
       "154    169  2020-08-14        545393        17674.0        61271.0   \n",
       "155    170  2020-08-15        548405        17779.0        61743.0   \n",
       "156    171  2020-08-16        550576        17891.0        62223.0   \n",
       "157    172  2020-08-17        557012        18198.0        62728.0   \n",
       "158    173  2020-08-18        563263        18454.0        63183.0   \n",
       "159    174  2020-08-19        569198        18673.0        63682.0   \n",
       "160    175  2020-08-20        574743        18902.0        64147.0   \n",
       "161    176  2020-08-21        580599        19109.0        64589.0   \n",
       "162    177  2020-08-22        583426        19217.0        65058.0   \n",
       "163    178  2020-08-23        585613        19317.0        65475.0   \n",
       "164    179  2020-08-24        592185        19585.0        65907.0   \n",
       "165    180  2020-08-25        598355        19834.0        66349.0   \n",
       "166    181  2020-08-26        604861        20111.0        66772.0   \n",
       "167    182  2020-08-27        610894        20347.0        67172.0   \n",
       "168    183  2020-08-28        616845        20590.0        67602.0   \n",
       "169    184  2020-08-29        619717        20674.0        68008.0   \n",
       "170    185  2020-08-30        621762        20781.0        68448.0   \n",
       "171    186  2020-08-31        628227        21098.0        68898.0   \n",
       "\n",
       "     Deaths_Jalisco    Rt_est      se_R    ci_pos    ci_neg  \n",
       "0               NaN  1.972370  0.119746  2.084283  1.860456  \n",
       "1               NaN  1.967837  0.114327  2.074686  1.860989  \n",
       "2               NaN  1.958725  0.109722  2.061270  1.856180  \n",
       "3               NaN  1.955158  0.105828  2.054063  1.856253  \n",
       "4               NaN  1.945167  0.102551  2.041010  1.849324  \n",
       "5               NaN  1.924749  0.099806  2.018027  1.831471  \n",
       "6               NaN  1.898603  0.097517  1.989740  1.807465  \n",
       "7               1.0  1.869068  0.095614  1.958428  1.779709  \n",
       "8               NaN  1.841326  0.094037  1.929212  1.753440  \n",
       "9               NaN  1.822339  0.092735  1.909009  1.735670  \n",
       "10              NaN  1.814897  0.091662  1.900564  1.729231  \n",
       "11              NaN  1.804612  0.090780  1.889454  1.719769  \n",
       "12              NaN  1.789018  0.090056  1.873184  1.704852  \n",
       "13              3.0  1.774921  0.089463  1.858532  1.691309  \n",
       "14              NaN  1.760007  0.088978  1.843165  1.676850  \n",
       "15              NaN  1.742190  0.088581  1.824977  1.659403  \n",
       "16              NaN  1.728677  0.088257  1.811161  1.646193  \n",
       "17              NaN  1.721505  0.087992  1.803741  1.639268  \n",
       "18              4.0  1.706216  0.087777  1.788251  1.624181  \n",
       "19              NaN  1.689946  0.087601  1.771817  1.608075  \n",
       "20              6.0  1.671349  0.087457  1.753086  1.589613  \n",
       "21              NaN  1.653598  0.087340  1.735226  1.571971  \n",
       "22              NaN  1.636373  0.087245  1.717912  1.554834  \n",
       "23              7.0  1.626393  0.087168  1.707859  1.544927  \n",
       "24              NaN  1.623117  0.087105  1.704524  1.541709  \n",
       "25              8.0  1.611488  0.087053  1.692848  1.530129  \n",
       "26              9.0  1.599046  0.087012  1.680366  1.517726  \n",
       "27              NaN  1.585187  0.086978  1.666476  1.503899  \n",
       "28             10.0  1.574928  0.086950  1.656190  1.493665  \n",
       "29             11.0  1.565993  0.086928  1.647235  1.484752  \n",
       "..              ...       ...       ...       ...       ...  \n",
       "142          1799.0  0.960711  0.086928  1.041953  0.879469  \n",
       "143          1825.0  0.964715  0.086950  1.045978  0.883453  \n",
       "144          1855.0  0.965590  0.086978  1.046879  0.884301  \n",
       "145          1887.0  0.964117  0.087012  1.045437  0.882797  \n",
       "146          1921.0  0.961128  0.087054  1.042488  0.879769  \n",
       "147          1951.0  0.957365  0.087105  1.038772  0.875957  \n",
       "148          1986.0  0.953085  0.087168  1.034552  0.871619  \n",
       "149          2013.0  0.953110  0.087246  1.034649  0.871572  \n",
       "150          2031.0  0.959157  0.087341  1.040785  0.877530  \n",
       "151          2068.0  0.961685  0.087457  1.043422  0.879949  \n",
       "152          2097.0  0.961703  0.087601  1.043574  0.879832  \n",
       "153          2122.0  0.960419  0.087777  1.042454  0.878384  \n",
       "154          2149.0  0.958020  0.087992  1.040257  0.875783  \n",
       "155          2173.0  0.955132  0.088257  1.037616  0.872648  \n",
       "156          2205.0  0.956796  0.088581  1.039582  0.874009  \n",
       "157          2234.0  0.964309  0.088978  1.047467  0.881151  \n",
       "158          2253.0  0.968002  0.089463  1.051613  0.884390  \n",
       "159          2289.0  0.968923  0.090057  1.053089  0.884757  \n",
       "160          2318.0  0.968137  0.090780  1.052979  0.883294  \n",
       "161          2344.0  0.966629  0.091662  1.052295  0.880962  \n",
       "162          2375.0  0.963823  0.092735  1.050492  0.877154  \n",
       "163          2414.0  0.965764  0.094037  1.053650  0.877878  \n",
       "164          2435.0  0.973409  0.095614  1.062768  0.884049  \n",
       "165          2464.0  0.976399  0.097517  1.067537  0.885261  \n",
       "166          2495.0  0.976468  0.099806  1.069746  0.883190  \n",
       "167          2518.0  0.973374  0.102551  1.069218  0.877531  \n",
       "168          2546.0  0.968546  0.105828  1.067451  0.869640  \n",
       "169          2570.0  0.962323  0.109722  1.064867  0.859778  \n",
       "170          2593.0  0.960785  0.114327  1.067634  0.853935  \n",
       "171          2617.0  0.965231  0.119747  1.077145  0.853318  \n",
       "\n",
       "[172 rows x 10 columns]"
      ]
     },
     "execution_count": 383,
     "metadata": {},
     "output_type": "execute_result"
    }
   ],
   "source": [
    "mx22"
   ]
  }
 ],
 "metadata": {
  "kernelspec": {
   "display_name": "Python 3",
   "language": "python",
   "name": "python3"
  },
  "language_info": {
   "codemirror_mode": {
    "name": "ipython",
    "version": 3
   },
   "file_extension": ".py",
   "mimetype": "text/x-python",
   "name": "python",
   "nbconvert_exporter": "python",
   "pygments_lexer": "ipython3",
   "version": "3.7.4"
  }
 },
 "nbformat": 4,
 "nbformat_minor": 4
}
